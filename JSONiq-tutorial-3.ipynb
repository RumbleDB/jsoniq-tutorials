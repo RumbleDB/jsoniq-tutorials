{
 "cells": [
  {
   "cell_type": "markdown",
   "id": "80b4ef60",
   "metadata": {},
   "source": [
    "# Big Data HS 2024\n",
    "\n",
    "## JSONiq tutorial - week 3"
   ]
  },
  {
   "cell_type": "markdown",
   "id": "0d21726b",
   "metadata": {},
   "source": [
    "Every week, you will get a small tutorial notebook that introduces you to the JSONiq language with the RumbleDB engine. You can simply copy this notebook to the \"notebooks\" subfolder in your Exam MagicBox docker environment (the same environment that contains past exams, PostgreSQL, Spark, RumbleDB, etc).\n",
    "\n",
    "The instructions are in week 1's tutorial.\n"
   ]
  },
  {
   "cell_type": "markdown",
   "id": "7fa4dd13",
   "metadata": {},
   "source": [
    "Like last week, junst run the cell below to connect the Jupyter notebook with RumbleDB."
   ]
  },
  {
   "cell_type": "code",
   "execution_count": null,
   "id": "49147176",
   "metadata": {},
   "outputs": [],
   "source": [
    "%load_ext jsoniqmagic"
   ]
  },
  {
   "cell_type": "markdown",
   "id": "b92a4859",
   "metadata": {},
   "source": [
    "## Reading a text file\n",
    "\n",
    "This week, we will learn how to read some data, starting with text files.\n",
    "\n",
    "Download the text file (The start of Hamlet, by Shakespeare) from [this location](https://www.rumbledb.org/samples/hamlet.txt) and copy it into the notebooks folder, besides this tutorial file. Rename it to hamlet.txt"
   ]
  },
  {
   "cell_type": "markdown",
   "id": "05f22856",
   "metadata": {},
   "source": [
    "Now, you can open it with:"
   ]
  },
  {
   "cell_type": "code",
   "execution_count": null,
   "id": "8dd8206b",
   "metadata": {},
   "outputs": [],
   "source": [
    "%%jsoniq\n",
    "unparsed-text(\"hamlet.txt\")"
   ]
  },
  {
   "cell_type": "markdown",
   "id": "6f15cbe6",
   "metadata": {},
   "source": [
    "The query above returned the contents of the text file as a single (big) string. This is very declarative, is it not?\n",
    "\n",
    "By the way, RumbleDB can also directly get the file from the Web:\n"
   ]
  },
  {
   "cell_type": "code",
   "execution_count": null,
   "id": "d2b4da4c",
   "metadata": {},
   "outputs": [],
   "source": [
    "%%jsoniq\n",
    "unparsed-text(\"https://www.rumbledb.org/samples/hamlet.txt\")"
   ]
  },
  {
   "cell_type": "markdown",
   "id": "3280f7dd",
   "metadata": {},
   "source": [
    "## String functions\n",
    "\n",
    "Now let us look into a few useful string functions. JSONiq has quite a large library of builtin functions.\n",
    "\n",
    "One of them, contains() tests whether the first string contains the second one. For example, it is not surprising that our text file contains the substring \"Hamlet\":"
   ]
  },
  {
   "cell_type": "code",
   "execution_count": null,
   "id": "de5eaff7",
   "metadata": {},
   "outputs": [],
   "source": [
    "%%jsoniq\n",
    "contains(unparsed-text(\"https://www.rumbledb.org/samples/hamlet.txt\"), \"Hamlet\")"
   ]
  },
  {
   "cell_type": "markdown",
   "id": "9df87ef6",
   "metadata": {},
   "source": [
    "It is perhaps also not surprising that it does not contain the substring \"Bitcoin\". By the way, let us now use a variable to store our document:"
   ]
  },
  {
   "cell_type": "code",
   "execution_count": null,
   "id": "d20c0d55",
   "metadata": {},
   "outputs": [],
   "source": [
    "%%jsoniq\n",
    "let $doc := unparsed-text(\"https://www.rumbledb.org/samples/hamlet.txt\")\n",
    "return contains($doc, \"Bitcoin\")"
   ]
  },
  {
   "cell_type": "markdown",
   "id": "a661049e",
   "metadata": {},
   "source": [
    "The function starts-with() tests whether the first string starts with the second one:"
   ]
  },
  {
   "cell_type": "code",
   "execution_count": null,
   "id": "366a92aa",
   "metadata": {},
   "outputs": [],
   "source": [
    "%%jsoniq\n",
    "let $doc := unparsed-text(\"https://www.rumbledb.org/samples/hamlet.txt\")\n",
    "return starts-with($doc, \"Hamlet\")"
   ]
  },
  {
   "cell_type": "markdown",
   "id": "ab9006e5",
   "metadata": {},
   "source": [
    "And ends-with() tests whether the first string ends with the second one:"
   ]
  },
  {
   "cell_type": "code",
   "execution_count": null,
   "id": "a7ebbfc3",
   "metadata": {},
   "outputs": [],
   "source": [
    "%%jsoniq\n",
    "let $doc := unparsed-text(\"https://www.rumbledb.org/samples/hamlet.txt\")\n",
    "return ends-with($doc, \"Who is there?\")"
   ]
  },
  {
   "cell_type": "markdown",
   "id": "98b8d2f4",
   "metadata": {},
   "source": [
    "## Opening a file as a sequence of strings\n",
    "\n",
    "Now, let us start showing the superpowers of JSONiq. Like SQL (who handles tables as large sets of records), JSONiq can handle large collections in so-called sequences.\n",
    "\n",
    "The function unparsed-text-lines() returns a sequence of strings, rather than a single string, like so:"
   ]
  },
  {
   "cell_type": "code",
   "execution_count": null,
   "id": "bb655f40",
   "metadata": {},
   "outputs": [],
   "source": [
    "%%jsoniq\n",
    "unparsed-text-lines(\"https://www.rumbledb.org/samples/hamlet.txt\")"
   ]
  },
  {
   "cell_type": "markdown",
   "id": "eb93ef7f",
   "metadata": {},
   "source": [
    "This ability to process sequences will be fundamental to scale out: here we are reading from your local drive,\n",
    "but JSONiq can also read from S3, Azure Blob Storage or HDFS, and it can handle sequences with billions of strings\n",
    "like a charm. It would not be realistic to return a single big string for a dataset with Terabytes of data: a huge sequence of small strings is then the way to go."
   ]
  },
  {
   "cell_type": "markdown",
   "id": "1cd650dd",
   "metadata": {},
   "source": [
    "# Try your own queries!\n",
    "\n",
    "This notebook is interactive. You can edit all queries above and also execute your own! We will show you more features every week."
   ]
  },
  {
   "cell_type": "code",
   "execution_count": null,
   "id": "fa53f4cf",
   "metadata": {},
   "outputs": [],
   "source": [
    "%%jsoniq\n",
    "1+1"
   ]
  },
  {
   "cell_type": "code",
   "execution_count": null,
   "id": "c781a830",
   "metadata": {},
   "outputs": [],
   "source": [
    "%%jsoniq\n",
    "1+1"
   ]
  },
  {
   "cell_type": "code",
   "execution_count": null,
   "id": "067e0db1",
   "metadata": {},
   "outputs": [],
   "source": [
    "%%jsoniq\n",
    "1+1"
   ]
  },
  {
   "cell_type": "code",
   "execution_count": null,
   "id": "1ddcd5e7",
   "metadata": {},
   "outputs": [],
   "source": [
    "%%jsoniq\n",
    "1+1"
   ]
  },
  {
   "cell_type": "code",
   "execution_count": null,
   "id": "e5b0ab65",
   "metadata": {},
   "outputs": [],
   "source": [
    "%%jsoniq\n",
    "1+1"
   ]
  },
  {
   "cell_type": "code",
   "execution_count": null,
   "id": "987f06d0",
   "metadata": {},
   "outputs": [],
   "source": [
    "%%jsoniq\n",
    "1+1"
   ]
  },
  {
   "cell_type": "code",
   "execution_count": null,
   "id": "7831547c",
   "metadata": {},
   "outputs": [],
   "source": []
  },
  {
   "cell_type": "code",
   "execution_count": null,
   "id": "ac36ecd5",
   "metadata": {},
   "outputs": [],
   "source": []
  },
  {
   "cell_type": "code",
   "execution_count": null,
   "id": "bdb50a93",
   "metadata": {},
   "outputs": [],
   "source": []
  }
 ],
 "metadata": {
  "kernelspec": {
   "display_name": "Python 3 (ipykernel)",
   "language": "python",
   "name": "python3"
  },
  "language_info": {
   "codemirror_mode": {
    "name": "ipython",
    "version": 3
   },
   "file_extension": ".py",
   "mimetype": "text/x-python",
   "name": "python",
   "nbconvert_exporter": "python",
   "pygments_lexer": "ipython3",
   "version": "3.11.9"
  }
 },
 "nbformat": 4,
 "nbformat_minor": 5
}
