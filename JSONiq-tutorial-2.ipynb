{
 "cells": [
  {
   "cell_type": "markdown",
   "id": "80b4ef60",
   "metadata": {},
   "source": [
    "# Big Data HS 2024\n",
    "\n",
    "## JSONiq tutorial - week 2"
   ]
  },
  {
   "cell_type": "markdown",
   "id": "0d21726b",
   "metadata": {},
   "source": [
    "Every week, you will get a small tutorial notebook that introduces you to the JSONiq language with the RumbleDB engine. You can simply copy this notebook to the \"notebooks\" subfolder in your Exam MagicBox docker environment (the same environment that contains past exams, PostgreSQL, Spark, RumbleDB, etc).\n",
    "\n",
    "The instructions are in week 1's tutorial.\n"
   ]
  },
  {
   "cell_type": "markdown",
   "id": "7fa4dd13",
   "metadata": {},
   "source": [
    "Like last week, junst run the cell below to connect the Jupyter notebook with RumbleDB."
   ]
  },
  {
   "cell_type": "code",
   "execution_count": null,
   "id": "49147176",
   "metadata": {},
   "outputs": [],
   "source": [
    "%load_ext jsoniqmagic"
   ]
  },
  {
   "cell_type": "markdown",
   "id": "27a5a020",
   "metadata": {},
   "source": [
    "## Variable bindings and let clauses\n",
    "\n",
    "Done? Alright. Let us now get started with some new material.\n",
    "\n",
    "Since JSONiq is a functional and declarative language, it does not have variable assignment like in imperative languages like Java or Python: you cannot modify the value of a variable.\n",
    "\n",
    "However, it does have variables and variable bindings; the difference between a variable binding and a variable assignment is that there is no \"before\" and \"after\". A variable is bound to some value for the purpose of evaluation in other expressions.\n",
    "\n",
    "Variables (which start with a dollar sign) can be bound to values using let clauses, like so:\n"
   ]
  },
  {
   "cell_type": "code",
   "execution_count": null,
   "id": "90e2f365",
   "metadata": {},
   "outputs": [],
   "source": [
    "%%jsoniq\n",
    "let $x := 1\n",
    "return $x + $x"
   ]
  },
  {
   "cell_type": "markdown",
   "id": "1047ae31",
   "metadata": {},
   "source": [
    "If you have already seen functional languages such as Haskell or OCaml, this should look familiar to you.\n",
    "\n",
    "In the above JSONiq query, the variable \\\\$x is bound to the value 1, and then the expression \\\\$x + \\\\$x is evaluated knowing that $x is bound to the value 1, leading to the output 2.\n",
    "\n",
    "The way to think about variable bindings is to read the above query in English as \"Please evaluate x + x, knowing that x is 1\" and NOT as \"Please set x to 1 and then return x+x\", because the latter corresponds to an imperative language, which JSONiq is not.\n",
    "\n",
    "Note that the indentation is irrelevant, the following also works:"
   ]
  },
  {
   "cell_type": "code",
   "execution_count": null,
   "id": "0c6473ac",
   "metadata": {},
   "outputs": [],
   "source": [
    "%%jsoniq\n",
    "let $x := 1 return $x + $x"
   ]
  },
  {
   "cell_type": "code",
   "execution_count": null,
   "id": "a443aff7",
   "metadata": {},
   "outputs": [],
   "source": [
    "%%jsoniq\n",
    "let\n",
    "  $x := 1 \n",
    "return\n",
    "  $x + $x"
   ]
  },
  {
   "cell_type": "markdown",
   "id": "06a3a2e1",
   "metadata": {},
   "source": [
    "Having said that, we still strongly recommend to stick to the initial convention with the let and return clauses nicely aligned (this is to facilitate reading the query by a human)."
   ]
  },
  {
   "cell_type": "markdown",
   "id": "b0f07c3a",
   "metadata": {},
   "source": [
    "Variables can also be bound to other values than numbers, for example booleans:"
   ]
  },
  {
   "cell_type": "code",
   "execution_count": null,
   "id": "c8037b28",
   "metadata": {},
   "outputs": [],
   "source": [
    "%%jsoniq\n",
    "let $x := 1 < 2\n",
    "return if($x)\n",
    "       then \"this is true\"\n",
    "       else \"this is false\""
   ]
  },
  {
   "cell_type": "markdown",
   "id": "fd6e98d7",
   "metadata": {},
   "source": [
    "It is also possible to have a cascade of let clauses -- as many as you want! But always remember to end with a return clause -- this is a functional language, the query must return something!"
   ]
  },
  {
   "cell_type": "code",
   "execution_count": null,
   "id": "171e69ac",
   "metadata": {},
   "outputs": [],
   "source": [
    "%%jsoniq\n",
    "let $x := 1\n",
    "let $y := $x + $x\n",
    "let $z := $x < $y\n",
    "return if($z)\n",
    "       then \"this is true\"\n",
    "       else \"this is false\""
   ]
  },
  {
   "cell_type": "markdown",
   "id": "3998f732",
   "metadata": {},
   "source": [
    "As you notice with the above query, every clause can \"see\" the variables bound in previous clauses, in other words the scope of a variable binding is all the clauses (let and return) that follow.\n",
    "\n",
    "In particular the following query will throw an error, because variables are used out of their scope:"
   ]
  },
  {
   "cell_type": "code",
   "execution_count": null,
   "id": "d4babea7",
   "metadata": {},
   "outputs": [],
   "source": [
    "%%jsoniq\n",
    "let $x := $y\n",
    "let $y := $z + $x\n",
    "let $z := $x < $y\n",
    "return if($z)\n",
    "       then \"this is true\"\n",
    "       else \"this is false\""
   ]
  },
  {
   "cell_type": "markdown",
   "id": "28b189ea",
   "metadata": {},
   "source": [
    "It is possible to hide a variable binding by reusing a variable name -- but keep in mind that this is not an assignment!\n",
    "It is a new binding that hides the previous one because there is no way to reference the previous binding any more: it is still there, but becomes invisible.\n",
    "    "
   ]
  },
  {
   "cell_type": "code",
   "execution_count": null,
   "id": "868b94dc",
   "metadata": {},
   "outputs": [],
   "source": [
    "%%jsoniq\n",
    "let $x := 1\n",
    "let $x := $x + $x\n",
    "let $x := $x + $x\n",
    "return $x"
   ]
  },
  {
   "cell_type": "markdown",
   "id": "b09f69ae",
   "metadata": {},
   "source": [
    "If it confuses you, then just do not hide variables and use a new name every time."
   ]
  },
  {
   "cell_type": "markdown",
   "id": "1cd650dd",
   "metadata": {},
   "source": [
    "# Try your own queries!\n",
    "\n",
    "This notebook is interactive. You can edit all queries above and also execute your own! We will show you more features every week."
   ]
  },
  {
   "cell_type": "code",
   "execution_count": null,
   "id": "fa53f4cf",
   "metadata": {},
   "outputs": [],
   "source": [
    "%%jsoniq\n",
    "1+1"
   ]
  },
  {
   "cell_type": "code",
   "execution_count": null,
   "id": "c781a830",
   "metadata": {},
   "outputs": [],
   "source": [
    "%%jsoniq\n",
    "1+1"
   ]
  },
  {
   "cell_type": "code",
   "execution_count": null,
   "id": "067e0db1",
   "metadata": {},
   "outputs": [],
   "source": [
    "%%jsoniq\n",
    "1+1"
   ]
  },
  {
   "cell_type": "code",
   "execution_count": null,
   "id": "1ddcd5e7",
   "metadata": {},
   "outputs": [],
   "source": [
    "%%jsoniq\n",
    "1+1"
   ]
  },
  {
   "cell_type": "code",
   "execution_count": null,
   "id": "e5b0ab65",
   "metadata": {},
   "outputs": [],
   "source": [
    "%%jsoniq\n",
    "1+1"
   ]
  },
  {
   "cell_type": "code",
   "execution_count": null,
   "id": "987f06d0",
   "metadata": {},
   "outputs": [],
   "source": [
    "%%jsoniq\n",
    "1+1"
   ]
  },
  {
   "cell_type": "code",
   "execution_count": null,
   "id": "7831547c",
   "metadata": {},
   "outputs": [],
   "source": []
  },
  {
   "cell_type": "code",
   "execution_count": null,
   "id": "ac36ecd5",
   "metadata": {},
   "outputs": [],
   "source": []
  },
  {
   "cell_type": "code",
   "execution_count": null,
   "id": "bdb50a93",
   "metadata": {},
   "outputs": [],
   "source": []
  },
  {
   "cell_type": "code",
   "execution_count": null,
   "id": "3b955477-6b9b-4264-8ef3-c3c26eaab079",
   "metadata": {},
   "outputs": [],
   "source": []
  }
 ],
 "metadata": {
  "kernelspec": {
   "display_name": "Python 3 (ipykernel)",
   "language": "python",
   "name": "python3"
  },
  "language_info": {
   "codemirror_mode": {
    "name": "ipython",
    "version": 3
   },
   "file_extension": ".py",
   "mimetype": "text/x-python",
   "name": "python",
   "nbconvert_exporter": "python",
   "pygments_lexer": "ipython3",
   "version": "3.11.9"
  }
 },
 "nbformat": 4,
 "nbformat_minor": 5
}
