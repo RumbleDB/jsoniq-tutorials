{
 "cells": [
  {
   "cell_type": "markdown",
   "metadata": {},
   "source": [
    "# <center>JSONiq Update Facility sandbox</center>\n"
   ]
  },
  {
   "cell_type": "markdown",
   "metadata": {},
   "source": [
    "The following cell is meant for Google Colab, which does not have the right Java version."
   ]
  },
  {
   "cell_type": "code",
   "execution_count": null,
   "metadata": {},
   "outputs": [],
   "source": [
    "# We make sure Java 17 is installed.\n",
    "!apt update\n",
    "!apt install openjdk-17-jdk\n",
    "!java -version"
   ]
  },
  {
   "cell_type": "code",
   "execution_count": 60,
   "metadata": {},
   "outputs": [
    {
     "name": "stdout",
     "output_type": "stream",
     "text": [
      "Requirement already satisfied: jsoniq in /Users/ghislain/.pyenv/versions/3.11.9/lib/python3.11/site-packages (0.2.0a9)\n",
      "Requirement already satisfied: pyspark==4.0 in /Users/ghislain/.pyenv/versions/3.11.9/lib/python3.11/site-packages (from jsoniq) (4.0.0)\n",
      "Requirement already satisfied: pandas>=2.2 in /Users/ghislain/.pyenv/versions/3.11.9/lib/python3.11/site-packages (from jsoniq) (2.3.0)\n",
      "Requirement already satisfied: delta-spark==4.0 in /Users/ghislain/.pyenv/versions/3.11.9/lib/python3.11/site-packages (from jsoniq) (4.0.0)\n",
      "Requirement already satisfied: importlib-metadata>=1.0.0 in /Users/ghislain/.pyenv/versions/3.11.9/lib/python3.11/site-packages (from delta-spark==4.0->jsoniq) (8.7.0)\n",
      "Requirement already satisfied: py4j==0.10.9.9 in /Users/ghislain/.pyenv/versions/3.11.9/lib/python3.11/site-packages (from pyspark==4.0->jsoniq) (0.10.9.9)\n",
      "Requirement already satisfied: zipp>=3.20 in /Users/ghislain/.pyenv/versions/3.11.9/lib/python3.11/site-packages (from importlib-metadata>=1.0.0->delta-spark==4.0->jsoniq) (3.22.0)\n",
      "Requirement already satisfied: numpy>=1.23.2 in /Users/ghislain/.pyenv/versions/3.11.9/lib/python3.11/site-packages (from pandas>=2.2->jsoniq) (1.24.4)\n",
      "Requirement already satisfied: python-dateutil>=2.8.2 in /Users/ghislain/.pyenv/versions/3.11.9/lib/python3.11/site-packages (from pandas>=2.2->jsoniq) (2.9.0.post0)\n",
      "Requirement already satisfied: pytz>=2020.1 in /Users/ghislain/.pyenv/versions/3.11.9/lib/python3.11/site-packages (from pandas>=2.2->jsoniq) (2024.2)\n",
      "Requirement already satisfied: tzdata>=2022.7 in /Users/ghislain/.pyenv/versions/3.11.9/lib/python3.11/site-packages (from pandas>=2.2->jsoniq) (2024.2)\n",
      "Requirement already satisfied: six>=1.5 in /Users/ghislain/.pyenv/versions/3.11.9/lib/python3.11/site-packages (from python-dateutil>=2.8.2->pandas>=2.2->jsoniq) (1.16.0)\n",
      "\n",
      "\u001b[1m[\u001b[0m\u001b[34;49mnotice\u001b[0m\u001b[1;39;49m]\u001b[0m\u001b[39;49m A new release of pip is available: \u001b[0m\u001b[31;49m25.1.1\u001b[0m\u001b[39;49m -> \u001b[0m\u001b[32;49m25.2\u001b[0m\n",
      "\u001b[1m[\u001b[0m\u001b[34;49mnotice\u001b[0m\u001b[1;39;49m]\u001b[0m\u001b[39;49m To update, run: \u001b[0m\u001b[32;49mpip install --upgrade pip\u001b[0m\n"
     ]
    }
   ],
   "source": [
    "!pip install jsoniq"
   ]
  },
  {
   "cell_type": "markdown",
   "metadata": {},
   "source": [
    "We now initialize a RumbleDB session and test that it works."
   ]
  },
  {
   "cell_type": "code",
   "execution_count": 91,
   "metadata": {},
   "outputs": [
    {
     "name": "stdout",
     "output_type": "stream",
     "text": [
      "({'foo': [42]},)\n"
     ]
    }
   ],
   "source": [
    "from jsoniq import RumbleSession\n",
    "\n",
    "rumble = RumbleSession.builder.withDelta().getOrCreate();\n",
    "\n",
    "print(rumble.jsoniq('{ \"foo\": [ 6*7 ] }').json());"
   ]
  },
  {
   "cell_type": "markdown",
   "metadata": {},
   "source": [
    "For convenience, we also activate the JSONiq magic."
   ]
  },
  {
   "cell_type": "code",
   "execution_count": 92,
   "metadata": {},
   "outputs": [
    {
     "name": "stdout",
     "output_type": "stream",
     "text": [
      "The jsoniqmagic extension is already loaded. To reload it, use:\n",
      "  %reload_ext jsoniqmagic\n"
     ]
    },
    {
     "data": {
      "text/plain": [
       "JavaObject id=o514"
      ]
     },
     "execution_count": 92,
     "metadata": {},
     "output_type": "execute_result"
    }
   ],
   "source": [
    "%load_ext jsoniqmagic\n",
    "# We will display the first 5 items. This parameter can be changed.\n",
    "rumble.getRumbleConf().setResultSizeCap(20)"
   ]
  },
  {
   "cell_type": "markdown",
   "metadata": {},
   "source": [
    "We create a new collection"
   ]
  },
  {
   "cell_type": "code",
   "execution_count": 167,
   "metadata": {},
   "outputs": [
    {
     "name": "stdout",
     "output_type": "stream",
     "text": [
      "Updates applied successfully.\n",
      "Response time: 0.4261181354522705 ms\n"
     ]
    }
   ],
   "source": [
    "%%jsoniq -u -t\n",
    "create collection table(\"foo\") with for $i in 100 to 300 return { \"foo\" : $i, \"bar\" : [ \"Alice\", \"Bob\", \"Charlie\" ] }\n"
   ]
  },
  {
   "cell_type": "code",
   "execution_count": 168,
   "metadata": {},
   "outputs": [
    {
     "name": "stdout",
     "output_type": "stream",
     "text": [
      "+---+--------------------+-------+----------+-----------------+--------+---------------+\n",
      "|foo|                 bar|__rowID|__rowOrder|__mutabilityLevel|__pathIn|__tableLocation|\n",
      "+---+--------------------+-------+----------+-----------------+--------+---------------+\n",
      "|100|[Alice, Bob, Char...|      0|       0.0|                0|        |            foo|\n",
      "|101|[Alice, Bob, Char...|      1|       1.0|                0|        |            foo|\n",
      "|102|[Alice, Bob, Char...|      2|       2.0|                0|        |            foo|\n",
      "|103|[Alice, Bob, Char...|      3|       3.0|                0|        |            foo|\n",
      "|104|[Alice, Bob, Char...|      4|       4.0|                0|        |            foo|\n",
      "|105|[Alice, Bob, Char...|      5|       5.0|                0|        |            foo|\n",
      "|106|[Alice, Bob, Char...|      6|       6.0|                0|        |            foo|\n",
      "|107|[Alice, Bob, Char...|      7|       7.0|                0|        |            foo|\n",
      "|108|[Alice, Bob, Char...|      8|       8.0|                0|        |            foo|\n",
      "|109|[Alice, Bob, Char...|      9|       9.0|                0|        |            foo|\n",
      "|110|[Alice, Bob, Char...|     10|      10.0|                0|        |            foo|\n",
      "|111|[Alice, Bob, Char...|     11|      11.0|                0|        |            foo|\n",
      "|112|[Alice, Bob, Char...|     12|      12.0|                0|        |            foo|\n",
      "|113|[Alice, Bob, Char...|     13|      13.0|                0|        |            foo|\n",
      "|114|[Alice, Bob, Char...|     14|      14.0|                0|        |            foo|\n",
      "|115|[Alice, Bob, Char...|     15|      15.0|                0|        |            foo|\n",
      "|116|[Alice, Bob, Char...|     16|      16.0|                0|        |            foo|\n",
      "|117|[Alice, Bob, Char...|     17|      17.0|                0|        |            foo|\n",
      "|118|[Alice, Bob, Char...|     18|      18.0|                0|        |            foo|\n",
      "|119|[Alice, Bob, Char...|     19|      19.0|                0|        |            foo|\n",
      "+---+--------------------+-------+----------+-----------------+--------+---------------+\n",
      "only showing top 20 rows\n",
      "Response time: 0.14848875999450684 ms\n"
     ]
    }
   ],
   "source": [
    "%%jsoniq -df -t\n",
    "table(\"foo\")"
   ]
  },
  {
   "cell_type": "markdown",
   "metadata": {},
   "source": [
    "We insert new data -- remember the snapshot semantics, all updates are computed against the original table, and then applied jointly."
   ]
  },
  {
   "cell_type": "code",
   "execution_count": 169,
   "metadata": {},
   "outputs": [
    {
     "name": "stdout",
     "output_type": "stream",
     "text": [
      "Updates applied successfully.\n",
      "Response time: 3.0666849613189697 ms\n"
     ]
    }
   ],
   "source": [
    "%%jsoniq -u -t\n",
    "insert for $i in 400 to 600 return { \"foo\" : $i, \"bar\" : [ \"Alice\", \"Bob\", \"Charlie\" ] }\n",
    "  first into collection table(\"foo\"),\n",
    "insert for $i in 700 to 1000 return { \"foo\" : $i, \"bar\" : [ \"Alice\", \"Bob\", \"Charlie\" ] }\n",
    "  last into collection table(\"foo\"),\n",
    "insert for $i in 1100 to 1300 return { \"foo\" : $i, \"bar\" : [ \"Alice\", \"Bob\", \"Charlie\" ] }\n",
    "  before table(\"foo\")[position() eq 2] into collection,\n",
    "insert for $i in 1400 to 1600 return { \"foo\" : $i, \"bar\" : [ \"Alice\", \"Bob\", \"Charlie\" ] }\n",
    "  after table(\"foo\")[position() eq 2] into collection\n"
   ]
  },
  {
   "cell_type": "code",
   "execution_count": 170,
   "metadata": {},
   "outputs": [
    {
     "name": "stdout",
     "output_type": "stream",
     "text": [
      "+---+--------------------+-------+-------------+-----------------+--------+---------------+\n",
      "|foo|                 bar|__rowID|   __rowOrder|__mutabilityLevel|__pathIn|__tableLocation|\n",
      "+---+--------------------+-------+-------------+-----------------+--------+---------------+\n",
      "|400|[Alice, Bob, Char...|    603|-99504.950495|                0|        |            foo|\n",
      "|401|[Alice, Bob, Char...|    604| -99009.90099|                0|        |            foo|\n",
      "|402|[Alice, Bob, Char...|    605|-98514.851485|                0|        |            foo|\n",
      "|403|[Alice, Bob, Char...|    606| -98019.80198|                0|        |            foo|\n",
      "|404|[Alice, Bob, Char...|    607|-97524.752475|                0|        |            foo|\n",
      "|405|[Alice, Bob, Char...|    608| -97029.70297|                0|        |            foo|\n",
      "|406|[Alice, Bob, Char...|    609|-96534.653465|                0|        |            foo|\n",
      "|407|[Alice, Bob, Char...|    610| -96039.60396|                0|        |            foo|\n",
      "|408|[Alice, Bob, Char...|    611|-95544.554455|                0|        |            foo|\n",
      "|409|[Alice, Bob, Char...|    612| -95049.50495|                0|        |            foo|\n",
      "|410|[Alice, Bob, Char...|    613|-94554.455445|                0|        |            foo|\n",
      "|411|[Alice, Bob, Char...|    614| -94059.40594|                0|        |            foo|\n",
      "|412|[Alice, Bob, Char...|    615|-93564.356435|                0|        |            foo|\n",
      "|413|[Alice, Bob, Char...|    616| -93069.30693|                0|        |            foo|\n",
      "|414|[Alice, Bob, Char...|    617|-92574.257425|                0|        |            foo|\n",
      "|415|[Alice, Bob, Char...|    618| -92079.20792|                0|        |            foo|\n",
      "|416|[Alice, Bob, Char...|    619|-91584.158415|                0|        |            foo|\n",
      "|417|[Alice, Bob, Char...|    620| -91089.10891|                0|        |            foo|\n",
      "|418|[Alice, Bob, Char...|    621|-90594.059405|                0|        |            foo|\n",
      "|419|[Alice, Bob, Char...|    622|  -90099.0099|                0|        |            foo|\n",
      "+---+--------------------+-------+-------------+-----------------+--------+---------------+\n",
      "only showing top 20 rows\n",
      "Response time: 0.26032495498657227 ms\n"
     ]
    }
   ],
   "source": [
    "%%jsoniq -df -t\n",
    "table(\"foo\")"
   ]
  },
  {
   "cell_type": "markdown",
   "metadata": {},
   "source": [
    "We delete a record"
   ]
  },
  {
   "cell_type": "code",
   "execution_count": 171,
   "metadata": {},
   "outputs": [
    {
     "name": "stdout",
     "output_type": "stream",
     "text": [
      "Updates applied successfully.\n",
      "Response time: 0.6478841304779053 ms\n"
     ]
    }
   ],
   "source": [
    "%%jsoniq -u -t\n",
    "delete table(\"foo\")[$$.foo eq 1500] from collection"
   ]
  },
  {
   "cell_type": "code",
   "execution_count": 172,
   "metadata": {
    "scrolled": true
   },
   "outputs": [
    {
     "name": "stdout",
     "output_type": "stream",
     "text": [
      "+-----+\n",
      "|value|\n",
      "+-----+\n",
      "| 1104|\n",
      "+-----+\n",
      "\n",
      "Response time: 0.1739048957824707 ms\n"
     ]
    }
   ],
   "source": [
    "%%jsoniq -df -t\n",
    "count(table(\"foo\"))"
   ]
  },
  {
   "cell_type": "markdown",
   "metadata": {},
   "source": [
    "We edit a record"
   ]
  },
  {
   "cell_type": "code",
   "execution_count": 173,
   "metadata": {},
   "outputs": [
    {
     "name": "stdout",
     "output_type": "stream",
     "text": [
      "Updates applied successfully.\n",
      "Response time: 0.9577999114990234 ms\n"
     ]
    }
   ],
   "source": [
    "%%jsoniq -u -t\n",
    "edit table(\"foo\")[$$.foo eq 1400] into { \"foo\" : 1700, \"bar\" : [ \"Alice\", \"Bob\", \"Daniel\" ] } in collection"
   ]
  },
  {
   "cell_type": "code",
   "execution_count": 174,
   "metadata": {},
   "outputs": [],
   "source": [
    "%%jsoniq\n",
    "table(\"foo\")[$$.foo eq 14002]"
   ]
  },
  {
   "cell_type": "code",
   "execution_count": 175,
   "metadata": {},
   "outputs": [
    {
     "name": "stdout",
     "output_type": "stream",
     "text": [
      "+---+--------------------+-------+-------------+-----------------+--------+---------------+\n",
      "|foo|                 bar|__rowID|   __rowOrder|__mutabilityLevel|__pathIn|__tableLocation|\n",
      "+---+--------------------+-------+-------------+-----------------+--------+---------------+\n",
      "|400|[Alice, Bob, Char...|    603|-99504.950495|                0|        |            foo|\n",
      "|401|[Alice, Bob, Char...|    604| -99009.90099|                0|        |            foo|\n",
      "|402|[Alice, Bob, Char...|    605|-98514.851485|                0|        |            foo|\n",
      "|403|[Alice, Bob, Char...|    606| -98019.80198|                0|        |            foo|\n",
      "|404|[Alice, Bob, Char...|    607|-97524.752475|                0|        |            foo|\n",
      "|405|[Alice, Bob, Char...|    608| -97029.70297|                0|        |            foo|\n",
      "|406|[Alice, Bob, Char...|    609|-96534.653465|                0|        |            foo|\n",
      "|407|[Alice, Bob, Char...|    610| -96039.60396|                0|        |            foo|\n",
      "|408|[Alice, Bob, Char...|    611|-95544.554455|                0|        |            foo|\n",
      "|409|[Alice, Bob, Char...|    612| -95049.50495|                0|        |            foo|\n",
      "|410|[Alice, Bob, Char...|    613|-94554.455445|                0|        |            foo|\n",
      "|411|[Alice, Bob, Char...|    614| -94059.40594|                0|        |            foo|\n",
      "|412|[Alice, Bob, Char...|    615|-93564.356435|                0|        |            foo|\n",
      "|413|[Alice, Bob, Char...|    616| -93069.30693|                0|        |            foo|\n",
      "|414|[Alice, Bob, Char...|    617|-92574.257425|                0|        |            foo|\n",
      "|415|[Alice, Bob, Char...|    618| -92079.20792|                0|        |            foo|\n",
      "|416|[Alice, Bob, Char...|    619|-91584.158415|                0|        |            foo|\n",
      "|417|[Alice, Bob, Char...|    620| -91089.10891|                0|        |            foo|\n",
      "|418|[Alice, Bob, Char...|    621|-90594.059405|                0|        |            foo|\n",
      "|419|[Alice, Bob, Char...|    622|  -90099.0099|                0|        |            foo|\n",
      "+---+--------------------+-------+-------------+-----------------+--------+---------------+\n",
      "only showing top 20 rows\n",
      "Response time: 0.1519007682800293 ms\n"
     ]
    }
   ],
   "source": [
    "%%jsoniq -df -t\n",
    "table(\"foo\")"
   ]
  },
  {
   "cell_type": "code",
   "execution_count": 176,
   "metadata": {},
   "outputs": [
    {
     "name": "stdout",
     "output_type": "stream",
     "text": [
      "Response time: 1.0745837688446045 ms\n"
     ]
    }
   ],
   "source": [
    "%%jsoniq -t\n",
    "rename json table(\"foo\")[1].foo as \"bar2\";"
   ]
  },
  {
   "cell_type": "code",
   "execution_count": 177,
   "metadata": {},
   "outputs": [
    {
     "name": "stdout",
     "output_type": "stream",
     "text": [
      "+----+--------------------+-------+-------------+----+-----------------+--------+---------------+\n",
      "| foo|                 bar|__rowID|   __rowOrder|bar2|__mutabilityLevel|__pathIn|__tableLocation|\n",
      "+----+--------------------+-------+-------------+----+-----------------+--------+---------------+\n",
      "|NULL|[Alice, Bob, Char...|    603|-99504.950495| 400|                0|        |            foo|\n",
      "| 401|[Alice, Bob, Char...|    604| -99009.90099|NULL|                0|        |            foo|\n",
      "| 402|[Alice, Bob, Char...|    605|-98514.851485|NULL|                0|        |            foo|\n",
      "| 403|[Alice, Bob, Char...|    606| -98019.80198|NULL|                0|        |            foo|\n",
      "| 404|[Alice, Bob, Char...|    607|-97524.752475|NULL|                0|        |            foo|\n",
      "| 405|[Alice, Bob, Char...|    608| -97029.70297|NULL|                0|        |            foo|\n",
      "| 406|[Alice, Bob, Char...|    609|-96534.653465|NULL|                0|        |            foo|\n",
      "| 407|[Alice, Bob, Char...|    610| -96039.60396|NULL|                0|        |            foo|\n",
      "| 408|[Alice, Bob, Char...|    611|-95544.554455|NULL|                0|        |            foo|\n",
      "| 409|[Alice, Bob, Char...|    612| -95049.50495|NULL|                0|        |            foo|\n",
      "| 410|[Alice, Bob, Char...|    613|-94554.455445|NULL|                0|        |            foo|\n",
      "| 411|[Alice, Bob, Char...|    614| -94059.40594|NULL|                0|        |            foo|\n",
      "| 412|[Alice, Bob, Char...|    615|-93564.356435|NULL|                0|        |            foo|\n",
      "| 413|[Alice, Bob, Char...|    616| -93069.30693|NULL|                0|        |            foo|\n",
      "| 414|[Alice, Bob, Char...|    617|-92574.257425|NULL|                0|        |            foo|\n",
      "| 415|[Alice, Bob, Char...|    618| -92079.20792|NULL|                0|        |            foo|\n",
      "| 416|[Alice, Bob, Char...|    619|-91584.158415|NULL|                0|        |            foo|\n",
      "| 417|[Alice, Bob, Char...|    620| -91089.10891|NULL|                0|        |            foo|\n",
      "| 418|[Alice, Bob, Char...|    621|-90594.059405|NULL|                0|        |            foo|\n",
      "| 419|[Alice, Bob, Char...|    622|  -90099.0099|NULL|                0|        |            foo|\n",
      "+----+--------------------+-------+-------------+----+-----------------+--------+---------------+\n",
      "only showing top 20 rows\n",
      "Response time: 0.16303420066833496 ms\n"
     ]
    }
   ],
   "source": [
    "%%jsoniq -df -t\n",
    "table(\"foo\")"
   ]
  },
  {
   "cell_type": "code",
   "execution_count": 178,
   "metadata": {},
   "outputs": [
    {
     "name": "stdout",
     "output_type": "stream",
     "text": [
      "Updates applied successfully.\n",
      "Response time: 0.020318984985351562 ms\n"
     ]
    }
   ],
   "source": [
    "%%jsoniq -u -t\n",
    "delete collection table(\"foo\")"
   ]
  },
  {
   "cell_type": "code",
   "execution_count": 179,
   "metadata": {},
   "outputs": [
    {
     "name": "stdout",
     "output_type": "stream",
     "text": [
      "Updates applied successfully.\n",
      "Response time: 0.4199681282043457 ms\n"
     ]
    }
   ],
   "source": [
    "%%jsoniq -u -t\n",
    "create collection delta-file(\"foobar\") with for $i in 100 to 300 return { \"foo\" : $i, \"bar\" : [ \"Alice\", \"Bob\", \"Charlie\" ] }\n"
   ]
  },
  {
   "cell_type": "code",
   "execution_count": 180,
   "metadata": {},
   "outputs": [
    {
     "name": "stdout",
     "output_type": "stream",
     "text": [
      "+---+--------------------+-------+----------+-----------------+--------+--------------------+\n",
      "|foo|                 bar|__rowID|__rowOrder|__mutabilityLevel|__pathIn|     __tableLocation|\n",
      "+---+--------------------+-------+----------+-----------------+--------+--------------------+\n",
      "|100|[Alice, Bob, Char...|      0|       0.0|                0|        |delta.`file:/User...|\n",
      "|101|[Alice, Bob, Char...|      1|       1.0|                0|        |delta.`file:/User...|\n",
      "|102|[Alice, Bob, Char...|      2|       2.0|                0|        |delta.`file:/User...|\n",
      "|103|[Alice, Bob, Char...|      3|       3.0|                0|        |delta.`file:/User...|\n",
      "|104|[Alice, Bob, Char...|      4|       4.0|                0|        |delta.`file:/User...|\n",
      "|105|[Alice, Bob, Char...|      5|       5.0|                0|        |delta.`file:/User...|\n",
      "|106|[Alice, Bob, Char...|      6|       6.0|                0|        |delta.`file:/User...|\n",
      "|107|[Alice, Bob, Char...|      7|       7.0|                0|        |delta.`file:/User...|\n",
      "|108|[Alice, Bob, Char...|      8|       8.0|                0|        |delta.`file:/User...|\n",
      "|109|[Alice, Bob, Char...|      9|       9.0|                0|        |delta.`file:/User...|\n",
      "|110|[Alice, Bob, Char...|     10|      10.0|                0|        |delta.`file:/User...|\n",
      "|111|[Alice, Bob, Char...|     11|      11.0|                0|        |delta.`file:/User...|\n",
      "|112|[Alice, Bob, Char...|     12|      12.0|                0|        |delta.`file:/User...|\n",
      "|113|[Alice, Bob, Char...|     13|      13.0|                0|        |delta.`file:/User...|\n",
      "|114|[Alice, Bob, Char...|     14|      14.0|                0|        |delta.`file:/User...|\n",
      "|115|[Alice, Bob, Char...|     15|      15.0|                0|        |delta.`file:/User...|\n",
      "|116|[Alice, Bob, Char...|     16|      16.0|                0|        |delta.`file:/User...|\n",
      "|117|[Alice, Bob, Char...|     17|      17.0|                0|        |delta.`file:/User...|\n",
      "|118|[Alice, Bob, Char...|     18|      18.0|                0|        |delta.`file:/User...|\n",
      "|119|[Alice, Bob, Char...|     19|      19.0|                0|        |delta.`file:/User...|\n",
      "+---+--------------------+-------+----------+-----------------+--------+--------------------+\n",
      "only showing top 20 rows\n",
      "Response time: 0.17562079429626465 ms\n"
     ]
    }
   ],
   "source": [
    "%%jsoniq -df -t\n",
    "delta-file(\"foobar\")"
   ]
  },
  {
   "cell_type": "code",
   "execution_count": 181,
   "metadata": {},
   "outputs": [
    {
     "name": "stdout",
     "output_type": "stream",
     "text": [
      "Updates applied successfully.\n",
      "Response time: 2.686344861984253 ms\n"
     ]
    }
   ],
   "source": [
    "%%jsoniq -u -t\n",
    "insert for $i in 400 to 600 return { \"foo\" : $i, \"bar\" : [ \"Alice\", \"Bob\", \"Charlie\" ] }\n",
    "  first into collection delta-file(\"foobar\"),\n",
    "insert for $i in 700 to 1000 return { \"foo\" : $i, \"bar\" : [ \"Alice\", \"Bob\", \"Charlie\" ] }\n",
    "  last into collection delta-file(\"foobar\"),\n",
    "insert for $i in 1100 to 1300 return { \"foo\" : $i, \"bar\" : [ \"Alice\", \"Bob\", \"Charlie\" ] }\n",
    "  before delta-file(\"foobar\")[position() eq 2] into collection,\n",
    "insert for $i in 1400 to 1600 return { \"foobar\" : $i, \"bar\" : [ \"Alice\", \"Bob\", \"Charlie\" ] }\n",
    "  after delta-file(\"foobar\")[position() eq 2] into collection\n"
   ]
  },
  {
   "cell_type": "code",
   "execution_count": 182,
   "metadata": {},
   "outputs": [
    {
     "name": "stdout",
     "output_type": "stream",
     "text": [
      "+---+--------------------+-------+-------------+-----------------+--------+--------------------+\n",
      "|foo|                 bar|__rowID|   __rowOrder|__mutabilityLevel|__pathIn|     __tableLocation|\n",
      "+---+--------------------+-------+-------------+-----------------+--------+--------------------+\n",
      "|400|[Alice, Bob, Char...|    603|-99504.950495|                0|        |delta.`file:/User...|\n",
      "|401|[Alice, Bob, Char...|    604| -99009.90099|                0|        |delta.`file:/User...|\n",
      "|402|[Alice, Bob, Char...|    605|-98514.851485|                0|        |delta.`file:/User...|\n",
      "|403|[Alice, Bob, Char...|    606| -98019.80198|                0|        |delta.`file:/User...|\n",
      "|404|[Alice, Bob, Char...|    607|-97524.752475|                0|        |delta.`file:/User...|\n",
      "|405|[Alice, Bob, Char...|    608| -97029.70297|                0|        |delta.`file:/User...|\n",
      "|406|[Alice, Bob, Char...|    609|-96534.653465|                0|        |delta.`file:/User...|\n",
      "|407|[Alice, Bob, Char...|    610| -96039.60396|                0|        |delta.`file:/User...|\n",
      "|408|[Alice, Bob, Char...|    611|-95544.554455|                0|        |delta.`file:/User...|\n",
      "|409|[Alice, Bob, Char...|    612| -95049.50495|                0|        |delta.`file:/User...|\n",
      "|410|[Alice, Bob, Char...|    613|-94554.455445|                0|        |delta.`file:/User...|\n",
      "|411|[Alice, Bob, Char...|    614| -94059.40594|                0|        |delta.`file:/User...|\n",
      "|412|[Alice, Bob, Char...|    615|-93564.356435|                0|        |delta.`file:/User...|\n",
      "|413|[Alice, Bob, Char...|    616| -93069.30693|                0|        |delta.`file:/User...|\n",
      "|414|[Alice, Bob, Char...|    617|-92574.257425|                0|        |delta.`file:/User...|\n",
      "|415|[Alice, Bob, Char...|    618| -92079.20792|                0|        |delta.`file:/User...|\n",
      "|416|[Alice, Bob, Char...|    619|-91584.158415|                0|        |delta.`file:/User...|\n",
      "|417|[Alice, Bob, Char...|    620| -91089.10891|                0|        |delta.`file:/User...|\n",
      "|418|[Alice, Bob, Char...|    621|-90594.059405|                0|        |delta.`file:/User...|\n",
      "|419|[Alice, Bob, Char...|    622|  -90099.0099|                0|        |delta.`file:/User...|\n",
      "+---+--------------------+-------+-------------+-----------------+--------+--------------------+\n",
      "only showing top 20 rows\n",
      "Response time: 0.25959300994873047 ms\n"
     ]
    }
   ],
   "source": [
    "%%jsoniq -df -t\n",
    "delta-file(\"foobar\")"
   ]
  },
  {
   "cell_type": "code",
   "execution_count": 183,
   "metadata": {},
   "outputs": [
    {
     "name": "stdout",
     "output_type": "stream",
     "text": [
      "Updates applied successfully.\n",
      "Response time: 0.6650950908660889 ms\n"
     ]
    }
   ],
   "source": [
    "%%jsoniq -u -t\n",
    "delete delta-file(\"foobar\")[$$.foo eq 1500] from collection"
   ]
  },
  {
   "cell_type": "code",
   "execution_count": 184,
   "metadata": {},
   "outputs": [
    {
     "name": "stdout",
     "output_type": "stream",
     "text": [
      "+---+--------------------+-------+-------------+-----------------+--------+--------------------+\n",
      "|foo|                 bar|__rowID|   __rowOrder|__mutabilityLevel|__pathIn|     __tableLocation|\n",
      "+---+--------------------+-------+-------------+-----------------+--------+--------------------+\n",
      "|400|[Alice, Bob, Char...|    603|-99504.950495|                0|        |delta.`file:/User...|\n",
      "|401|[Alice, Bob, Char...|    604| -99009.90099|                0|        |delta.`file:/User...|\n",
      "|402|[Alice, Bob, Char...|    605|-98514.851485|                0|        |delta.`file:/User...|\n",
      "|403|[Alice, Bob, Char...|    606| -98019.80198|                0|        |delta.`file:/User...|\n",
      "|404|[Alice, Bob, Char...|    607|-97524.752475|                0|        |delta.`file:/User...|\n",
      "|405|[Alice, Bob, Char...|    608| -97029.70297|                0|        |delta.`file:/User...|\n",
      "|406|[Alice, Bob, Char...|    609|-96534.653465|                0|        |delta.`file:/User...|\n",
      "|407|[Alice, Bob, Char...|    610| -96039.60396|                0|        |delta.`file:/User...|\n",
      "|408|[Alice, Bob, Char...|    611|-95544.554455|                0|        |delta.`file:/User...|\n",
      "|409|[Alice, Bob, Char...|    612| -95049.50495|                0|        |delta.`file:/User...|\n",
      "|410|[Alice, Bob, Char...|    613|-94554.455445|                0|        |delta.`file:/User...|\n",
      "|411|[Alice, Bob, Char...|    614| -94059.40594|                0|        |delta.`file:/User...|\n",
      "|412|[Alice, Bob, Char...|    615|-93564.356435|                0|        |delta.`file:/User...|\n",
      "|413|[Alice, Bob, Char...|    616| -93069.30693|                0|        |delta.`file:/User...|\n",
      "|414|[Alice, Bob, Char...|    617|-92574.257425|                0|        |delta.`file:/User...|\n",
      "|415|[Alice, Bob, Char...|    618| -92079.20792|                0|        |delta.`file:/User...|\n",
      "|416|[Alice, Bob, Char...|    619|-91584.158415|                0|        |delta.`file:/User...|\n",
      "|417|[Alice, Bob, Char...|    620| -91089.10891|                0|        |delta.`file:/User...|\n",
      "|418|[Alice, Bob, Char...|    621|-90594.059405|                0|        |delta.`file:/User...|\n",
      "|419|[Alice, Bob, Char...|    622|  -90099.0099|                0|        |delta.`file:/User...|\n",
      "+---+--------------------+-------+-------------+-----------------+--------+--------------------+\n",
      "only showing top 20 rows\n",
      "Response time: 0.16204190254211426 ms\n"
     ]
    }
   ],
   "source": [
    "%%jsoniq -df -t\n",
    "delta-file(\"foobar\")"
   ]
  },
  {
   "cell_type": "code",
   "execution_count": 185,
   "metadata": {},
   "outputs": [
    {
     "name": "stdout",
     "output_type": "stream",
     "text": [
      "Updates applied successfully.\n",
      "Response time: 1.004621982574463 ms\n"
     ]
    }
   ],
   "source": [
    "%%jsoniq -u -t\n",
    "edit delta-file(\"foobar\")[$$.foo eq 1400] into { \"foo\" : 1700, \"bar\" : [ \"Alice\", \"Bob\", \"Daniel\" ] } in collection"
   ]
  },
  {
   "cell_type": "code",
   "execution_count": 186,
   "metadata": {},
   "outputs": [
    {
     "name": "stdout",
     "output_type": "stream",
     "text": [
      "+---+--------------------+-------+-------------+-----------------+--------+--------------------+\n",
      "|foo|                 bar|__rowID|   __rowOrder|__mutabilityLevel|__pathIn|     __tableLocation|\n",
      "+---+--------------------+-------+-------------+-----------------+--------+--------------------+\n",
      "|400|[Alice, Bob, Char...|    603|-99504.950495|                0|        |delta.`file:/User...|\n",
      "|401|[Alice, Bob, Char...|    604| -99009.90099|                0|        |delta.`file:/User...|\n",
      "|402|[Alice, Bob, Char...|    605|-98514.851485|                0|        |delta.`file:/User...|\n",
      "|403|[Alice, Bob, Char...|    606| -98019.80198|                0|        |delta.`file:/User...|\n",
      "|404|[Alice, Bob, Char...|    607|-97524.752475|                0|        |delta.`file:/User...|\n",
      "|405|[Alice, Bob, Char...|    608| -97029.70297|                0|        |delta.`file:/User...|\n",
      "|406|[Alice, Bob, Char...|    609|-96534.653465|                0|        |delta.`file:/User...|\n",
      "|407|[Alice, Bob, Char...|    610| -96039.60396|                0|        |delta.`file:/User...|\n",
      "|408|[Alice, Bob, Char...|    611|-95544.554455|                0|        |delta.`file:/User...|\n",
      "|409|[Alice, Bob, Char...|    612| -95049.50495|                0|        |delta.`file:/User...|\n",
      "|410|[Alice, Bob, Char...|    613|-94554.455445|                0|        |delta.`file:/User...|\n",
      "|411|[Alice, Bob, Char...|    614| -94059.40594|                0|        |delta.`file:/User...|\n",
      "|412|[Alice, Bob, Char...|    615|-93564.356435|                0|        |delta.`file:/User...|\n",
      "|413|[Alice, Bob, Char...|    616| -93069.30693|                0|        |delta.`file:/User...|\n",
      "|414|[Alice, Bob, Char...|    617|-92574.257425|                0|        |delta.`file:/User...|\n",
      "|415|[Alice, Bob, Char...|    618| -92079.20792|                0|        |delta.`file:/User...|\n",
      "|416|[Alice, Bob, Char...|    619|-91584.158415|                0|        |delta.`file:/User...|\n",
      "|417|[Alice, Bob, Char...|    620| -91089.10891|                0|        |delta.`file:/User...|\n",
      "|418|[Alice, Bob, Char...|    621|-90594.059405|                0|        |delta.`file:/User...|\n",
      "|419|[Alice, Bob, Char...|    622|  -90099.0099|                0|        |delta.`file:/User...|\n",
      "+---+--------------------+-------+-------------+-----------------+--------+--------------------+\n",
      "only showing top 20 rows\n",
      "Response time: 0.1516578197479248 ms\n"
     ]
    }
   ],
   "source": [
    "%%jsoniq -df -t\n",
    "delta-file(\"foobar\")"
   ]
  },
  {
   "cell_type": "code",
   "execution_count": 187,
   "metadata": {},
   "outputs": [
    {
     "name": "stdout",
     "output_type": "stream",
     "text": [
      "Updates applied successfully.\n",
      "Response time: 0.022814035415649414 ms\n"
     ]
    }
   ],
   "source": [
    "%%jsoniq -u -t\n",
    "delete collection delta-file(\"foobar\")"
   ]
  },
  {
   "cell_type": "code",
   "execution_count": null,
   "metadata": {},
   "outputs": [],
   "source": []
  }
 ],
 "metadata": {
  "anaconda-cloud": {},
  "kernelspec": {
   "display_name": "Python 3 (ipykernel)",
   "language": "python",
   "name": "python3"
  },
  "language_info": {
   "codemirror_mode": {
    "name": "ipython",
    "version": 3
   },
   "file_extension": ".py",
   "mimetype": "text/x-python",
   "name": "python",
   "nbconvert_exporter": "python",
   "pygments_lexer": "ipython3",
   "version": "3.11.9"
  }
 },
 "nbformat": 4,
 "nbformat_minor": 4
}
