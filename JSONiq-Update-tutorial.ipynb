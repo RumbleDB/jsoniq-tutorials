{
 "cells": [
  {
   "cell_type": "markdown",
   "metadata": {},
   "source": [
    "# <center>JSONiq Update Facility sandbox</center>\n"
   ]
  },
  {
   "cell_type": "markdown",
   "metadata": {},
   "source": [
    "The following cells are meant for Google Colab, which does not have the right Java version."
   ]
  },
  {
   "cell_type": "code",
   "execution_count": null,
   "metadata": {},
   "outputs": [],
   "source": [
    "# We make sure Java 17 is installed.\n",
    "!apt update\n",
    "!apt install openjdk-17-jdk\n",
    "!java -version"
   ]
  },
  {
   "cell_type": "code",
   "execution_count": 2,
   "metadata": {},
   "outputs": [
    {
     "name": "stdout",
     "output_type": "stream",
     "text": [
      "Found existing installation: jsoniq 0.2.0a8\n",
      "Uninstalling jsoniq-0.2.0a8:\n",
      "  Successfully uninstalled jsoniq-0.2.0a8\n",
      "Collecting jsoniq\n",
      "  Downloading jsoniq-0.2.0a9-py3-none-any.whl.metadata (34 kB)\n",
      "Requirement already satisfied: pyspark==4.0 in /Users/ghislain/.pyenv/versions/3.11.9/lib/python3.11/site-packages (from jsoniq) (4.0.0)\n",
      "Requirement already satisfied: pandas>=2.2 in /Users/ghislain/.pyenv/versions/3.11.9/lib/python3.11/site-packages (from jsoniq) (2.3.0)\n",
      "Requirement already satisfied: delta-spark==4.0 in /Users/ghislain/.pyenv/versions/3.11.9/lib/python3.11/site-packages (from jsoniq) (4.0.0)\n",
      "Requirement already satisfied: importlib-metadata>=1.0.0 in /Users/ghislain/.pyenv/versions/3.11.9/lib/python3.11/site-packages (from delta-spark==4.0->jsoniq) (8.7.0)\n",
      "Requirement already satisfied: py4j==0.10.9.9 in /Users/ghislain/.pyenv/versions/3.11.9/lib/python3.11/site-packages (from pyspark==4.0->jsoniq) (0.10.9.9)\n",
      "Requirement already satisfied: zipp>=3.20 in /Users/ghislain/.pyenv/versions/3.11.9/lib/python3.11/site-packages (from importlib-metadata>=1.0.0->delta-spark==4.0->jsoniq) (3.22.0)\n",
      "Requirement already satisfied: numpy>=1.23.2 in /Users/ghislain/.pyenv/versions/3.11.9/lib/python3.11/site-packages (from pandas>=2.2->jsoniq) (1.24.4)\n",
      "Requirement already satisfied: python-dateutil>=2.8.2 in /Users/ghislain/.pyenv/versions/3.11.9/lib/python3.11/site-packages (from pandas>=2.2->jsoniq) (2.9.0.post0)\n",
      "Requirement already satisfied: pytz>=2020.1 in /Users/ghislain/.pyenv/versions/3.11.9/lib/python3.11/site-packages (from pandas>=2.2->jsoniq) (2024.2)\n",
      "Requirement already satisfied: tzdata>=2022.7 in /Users/ghislain/.pyenv/versions/3.11.9/lib/python3.11/site-packages (from pandas>=2.2->jsoniq) (2024.2)\n",
      "Requirement already satisfied: six>=1.5 in /Users/ghislain/.pyenv/versions/3.11.9/lib/python3.11/site-packages (from python-dateutil>=2.8.2->pandas>=2.2->jsoniq) (1.16.0)\n",
      "Downloading jsoniq-0.2.0a9-py3-none-any.whl (27.8 MB)\n",
      "\u001b[2K   \u001b[90m━━━━━━━━━━━━━━━━━━━━━━━━━━━━━━━━━━━━━━━━\u001b[0m \u001b[32m27.8/27.8 MB\u001b[0m \u001b[31m6.8 MB/s\u001b[0m eta \u001b[36m0:00:00\u001b[0ma \u001b[36m0:00:01\u001b[0m\n",
      "\u001b[?25hInstalling collected packages: jsoniq\n",
      "Successfully installed jsoniq-0.2.0a9\n",
      "\n",
      "\u001b[1m[\u001b[0m\u001b[34;49mnotice\u001b[0m\u001b[1;39;49m]\u001b[0m\u001b[39;49m A new release of pip is available: \u001b[0m\u001b[31;49m25.1.1\u001b[0m\u001b[39;49m -> \u001b[0m\u001b[32;49m25.2\u001b[0m\n",
      "\u001b[1m[\u001b[0m\u001b[34;49mnotice\u001b[0m\u001b[1;39;49m]\u001b[0m\u001b[39;49m To update, run: \u001b[0m\u001b[32;49mpip install --upgrade pip\u001b[0m\n"
     ]
    }
   ],
   "source": [
    "!pip install jsoniq"
   ]
  },
  {
   "cell_type": "markdown",
   "metadata": {},
   "source": [
    "We now initialize a RumbleDB session and test that it works."
   ]
  },
  {
   "cell_type": "code",
   "execution_count": 3,
   "metadata": {},
   "outputs": [
    {
     "name": "stderr",
     "output_type": "stream",
     "text": [
      "WARNING: Using incubator modules: jdk.incubator.vector\n",
      ":: loading settings :: url = jar:file:/Users/ghislain/.pyenv/versions/3.11.9/lib/python3.11/site-packages/pyspark/jars/ivy-2.5.3.jar!/org/apache/ivy/core/settings/ivysettings.xml\n",
      "Ivy Default Cache set to: /Users/ghislain/.ivy2.5.2/cache\n",
      "The jars for the packages stored in: /Users/ghislain/.ivy2.5.2/jars\n",
      "io.delta#delta-spark_2.13 added as a dependency\n",
      ":: resolving dependencies :: org.apache.spark#spark-submit-parent-19995126-c77c-4a37-b90d-2b3665df98b0;1.0\n",
      "\tconfs: [default]\n",
      "\tfound io.delta#delta-spark_2.13;4.0.0 in local-m2-cache\n",
      "\tfound io.delta#delta-storage;4.0.0 in local-m2-cache\n",
      "\tfound org.antlr#antlr4-runtime;4.13.1 in local-m2-cache\n",
      ":: resolution report :: resolve 71ms :: artifacts dl 2ms\n",
      "\t:: modules in use:\n",
      "\tio.delta#delta-spark_2.13;4.0.0 from local-m2-cache in [default]\n",
      "\tio.delta#delta-storage;4.0.0 from local-m2-cache in [default]\n",
      "\torg.antlr#antlr4-runtime;4.13.1 from local-m2-cache in [default]\n",
      "\t---------------------------------------------------------------------\n",
      "\t|                  |            modules            ||   artifacts   |\n",
      "\t|       conf       | number| search|dwnlded|evicted|| number|dwnlded|\n",
      "\t---------------------------------------------------------------------\n",
      "\t|      default     |   3   |   0   |   0   |   0   ||   3   |   0   |\n",
      "\t---------------------------------------------------------------------\n",
      ":: retrieving :: org.apache.spark#spark-submit-parent-19995126-c77c-4a37-b90d-2b3665df98b0\n",
      "\tconfs: [default]\n",
      "\t0 artifacts copied, 3 already retrieved (0kB/3ms)\n",
      "25/08/21 14:20:12 WARN NativeCodeLoader: Unable to load native-hadoop library for your platform... using builtin-java classes where applicable\n",
      "Using Spark's default log4j profile: org/apache/spark/log4j2-defaults.properties\n",
      "Setting default log level to \"WARN\".\n",
      "To adjust logging level use sc.setLogLevel(newLevel). For SparkR, use setLogLevel(newLevel).\n"
     ]
    },
    {
     "name": "stdout",
     "output_type": "stream",
     "text": [
      "({'foo': [42]},)\n"
     ]
    }
   ],
   "source": [
    "from jsoniq import RumbleSession\n",
    "\n",
    "rumble = RumbleSession.builder.withDelta().getOrCreate();\n",
    "\n",
    "print(rumble.jsoniq('{ \"foo\": [ 6*7 ] }').json());"
   ]
  },
  {
   "cell_type": "markdown",
   "metadata": {},
   "source": [
    "For convenience, we also activate the JSONiq magic."
   ]
  },
  {
   "cell_type": "code",
   "execution_count": 4,
   "metadata": {},
   "outputs": [
    {
     "data": {
      "text/plain": [
       "JavaObject id=o46"
      ]
     },
     "execution_count": 4,
     "metadata": {},
     "output_type": "execute_result"
    }
   ],
   "source": [
    "%load_ext jsoniqmagic\n",
    "# We will display the first 5 items. This parameter can be changed.\n",
    "rumble.getRumbleConf().setResultSizeCap(20)"
   ]
  },
  {
   "cell_type": "markdown",
   "metadata": {},
   "source": [
    "We create a new collection"
   ]
  },
  {
   "cell_type": "code",
   "execution_count": 7,
   "metadata": {},
   "outputs": [
    {
     "name": "stderr",
     "output_type": "stream",
     "text": [
      "                                                                                "
     ]
    },
    {
     "name": "stdout",
     "output_type": "stream",
     "text": [
      "Updates applied successfully.\n"
     ]
    },
    {
     "name": "stderr",
     "output_type": "stream",
     "text": [
      "                                                                                "
     ]
    }
   ],
   "source": [
    "%%jsoniq -u\n",
    "create collection table(\"foo\") with for $i in 1 to 3 return { \"foo\" : $i, \"bar\" : [ \"Alice\", \"Bob\", \"Charlie\" ] }\n"
   ]
  },
  {
   "cell_type": "code",
   "execution_count": 8,
   "metadata": {},
   "outputs": [
    {
     "name": "stdout",
     "output_type": "stream",
     "text": [
      "+---+--------------------+-------+----------+-----------------+--------+---------------+\n",
      "|foo|                 bar|__rowID|__rowOrder|__mutabilityLevel|__pathIn|__tableLocation|\n",
      "+---+--------------------+-------+----------+-----------------+--------+---------------+\n",
      "|  1|[Alice, Bob, Char...|      0|       0.0|                0|        |            foo|\n",
      "|  2|[Alice, Bob, Char...|      1|       1.0|                0|        |            foo|\n",
      "|  3|[Alice, Bob, Char...|      2|       2.0|                0|        |            foo|\n",
      "+---+--------------------+-------+----------+-----------------+--------+---------------+\n",
      "\n"
     ]
    }
   ],
   "source": [
    "%%jsoniq -df\n",
    "table(\"foo\")"
   ]
  },
  {
   "cell_type": "markdown",
   "metadata": {},
   "source": [
    "We insert new data -- remember the snapshot semantics, all updates are computed against the original table, and then applied jointly."
   ]
  },
  {
   "cell_type": "code",
   "execution_count": 9,
   "metadata": {},
   "outputs": [
    {
     "name": "stdout",
     "output_type": "stream",
     "text": [
      "Updates applied successfully.\n"
     ]
    }
   ],
   "source": [
    "%%jsoniq -u\n",
    "insert for $i in 4 to 6 return { \"foo\" : $i, \"bar\" : [ \"Alice\", \"Bob\", \"Charlie\" ] }\n",
    "  first into collection table(\"foo\"),\n",
    "insert for $i in 7 to 10 return { \"foo\" : $i, \"bar\" : [ \"Alice\", \"Bob\", \"Charlie\" ] }\n",
    "  last into collection table(\"foo\"),\n",
    "insert for $i in 11 to 13 return { \"foo\" : $i, \"bar\" : [ \"Alice\", \"Bob\", \"Charlie\" ] }\n",
    "  before table(\"foo\")[position() eq 2] into collection,\n",
    "insert for $i in 14 to 16 return { \"foo\" : $i, \"bar\" : [ \"Alice\", \"Bob\", \"Charlie\" ] }\n",
    "  after table(\"foo\")[position() eq 2] into collection\n"
   ]
  },
  {
   "cell_type": "code",
   "execution_count": 10,
   "metadata": {},
   "outputs": [
    {
     "name": "stdout",
     "output_type": "stream",
     "text": [
      "+---+--------------------+-------+----------+-----------------+--------+---------------+\n",
      "|foo|                 bar|__rowID|__rowOrder|__mutabilityLevel|__pathIn|__tableLocation|\n",
      "+---+--------------------+-------+----------+-----------------+--------+---------------+\n",
      "|  4|[Alice, Bob, Char...|      9|  -75000.0|                0|        |            foo|\n",
      "|  5|[Alice, Bob, Char...|     10|  -50000.0|                0|        |            foo|\n",
      "|  6|[Alice, Bob, Char...|     11|  -25000.0|                0|        |            foo|\n",
      "|  1|[Alice, Bob, Char...|      0|       0.0|                0|        |            foo|\n",
      "| 11|[Alice, Bob, Char...|      3|      0.25|                0|        |            foo|\n",
      "| 12|[Alice, Bob, Char...|      4|       0.5|                0|        |            foo|\n",
      "| 13|[Alice, Bob, Char...|      5|      0.75|                0|        |            foo|\n",
      "|  2|[Alice, Bob, Char...|      1|       1.0|                0|        |            foo|\n",
      "| 14|[Alice, Bob, Char...|      6|      1.25|                0|        |            foo|\n",
      "| 15|[Alice, Bob, Char...|      7|       1.5|                0|        |            foo|\n",
      "| 16|[Alice, Bob, Char...|      8|      1.75|                0|        |            foo|\n",
      "|  3|[Alice, Bob, Char...|      2|       2.0|                0|        |            foo|\n",
      "|  7|[Alice, Bob, Char...|     12|  2.571428|                0|        |            foo|\n",
      "|  8|[Alice, Bob, Char...|     13|  2.857142|                0|        |            foo|\n",
      "|  9|[Alice, Bob, Char...|     14|  3.142856|                0|        |            foo|\n",
      "| 10|[Alice, Bob, Char...|     15|   3.42857|                0|        |            foo|\n",
      "+---+--------------------+-------+----------+-----------------+--------+---------------+\n",
      "\n"
     ]
    }
   ],
   "source": [
    "%%jsoniq -df\n",
    "table(\"foo\")"
   ]
  },
  {
   "cell_type": "markdown",
   "metadata": {},
   "source": [
    "We delete a record"
   ]
  },
  {
   "cell_type": "code",
   "execution_count": 11,
   "metadata": {},
   "outputs": [
    {
     "name": "stdout",
     "output_type": "stream",
     "text": [
      "Updates applied successfully.\n"
     ]
    }
   ],
   "source": [
    "%%jsoniq -u\n",
    "delete table(\"foo\")[$$.foo eq 15] from collection"
   ]
  },
  {
   "cell_type": "code",
   "execution_count": 12,
   "metadata": {
    "scrolled": true
   },
   "outputs": [
    {
     "name": "stdout",
     "output_type": "stream",
     "text": [
      "+---+--------------------+-------+----------+-----------------+--------+---------------+\n",
      "|foo|                 bar|__rowID|__rowOrder|__mutabilityLevel|__pathIn|__tableLocation|\n",
      "+---+--------------------+-------+----------+-----------------+--------+---------------+\n",
      "|  4|[Alice, Bob, Char...|      9|  -75000.0|                0|        |            foo|\n",
      "|  5|[Alice, Bob, Char...|     10|  -50000.0|                0|        |            foo|\n",
      "|  6|[Alice, Bob, Char...|     11|  -25000.0|                0|        |            foo|\n",
      "|  1|[Alice, Bob, Char...|      0|       0.0|                0|        |            foo|\n",
      "| 11|[Alice, Bob, Char...|      3|      0.25|                0|        |            foo|\n",
      "| 12|[Alice, Bob, Char...|      4|       0.5|                0|        |            foo|\n",
      "| 13|[Alice, Bob, Char...|      5|      0.75|                0|        |            foo|\n",
      "|  2|[Alice, Bob, Char...|      1|       1.0|                0|        |            foo|\n",
      "| 14|[Alice, Bob, Char...|      6|      1.25|                0|        |            foo|\n",
      "| 16|[Alice, Bob, Char...|      8|      1.75|                0|        |            foo|\n",
      "|  3|[Alice, Bob, Char...|      2|       2.0|                0|        |            foo|\n",
      "|  7|[Alice, Bob, Char...|     12|  2.571428|                0|        |            foo|\n",
      "|  8|[Alice, Bob, Char...|     13|  2.857142|                0|        |            foo|\n",
      "|  9|[Alice, Bob, Char...|     14|  3.142856|                0|        |            foo|\n",
      "| 10|[Alice, Bob, Char...|     15|   3.42857|                0|        |            foo|\n",
      "+---+--------------------+-------+----------+-----------------+--------+---------------+\n",
      "\n"
     ]
    }
   ],
   "source": [
    "%%jsoniq -df\n",
    "table(\"foo\")"
   ]
  },
  {
   "cell_type": "markdown",
   "metadata": {},
   "source": [
    "We edit a record"
   ]
  },
  {
   "cell_type": "code",
   "execution_count": 13,
   "metadata": {},
   "outputs": [
    {
     "name": "stdout",
     "output_type": "stream",
     "text": [
      "Updates applied successfully.\n"
     ]
    }
   ],
   "source": [
    "%%jsoniq -u\n",
    "edit table(\"foo\")[$$.foo eq 14] into { \"foo\" : 17, \"bar\" : [ \"Alice\", \"Bob\", \"Daniel\" ] } in collection"
   ]
  },
  {
   "cell_type": "code",
   "execution_count": 14,
   "metadata": {},
   "outputs": [
    {
     "name": "stdout",
     "output_type": "stream",
     "text": [
      "+---+--------------------+-------+----------+-----------------+--------+---------------+\n",
      "|foo|                 bar|__rowID|__rowOrder|__mutabilityLevel|__pathIn|__tableLocation|\n",
      "+---+--------------------+-------+----------+-----------------+--------+---------------+\n",
      "|  4|[Alice, Bob, Char...|      9|  -75000.0|                0|        |            foo|\n",
      "|  5|[Alice, Bob, Char...|     10|  -50000.0|                0|        |            foo|\n",
      "|  6|[Alice, Bob, Char...|     11|  -25000.0|                0|        |            foo|\n",
      "|  1|[Alice, Bob, Char...|      0|       0.0|                0|        |            foo|\n",
      "| 11|[Alice, Bob, Char...|      3|      0.25|                0|        |            foo|\n",
      "| 12|[Alice, Bob, Char...|      4|       0.5|                0|        |            foo|\n",
      "| 13|[Alice, Bob, Char...|      5|      0.75|                0|        |            foo|\n",
      "|  2|[Alice, Bob, Char...|      1|       1.0|                0|        |            foo|\n",
      "| 17|[Alice, Bob, Daniel]|      6|      1.25|                0|        |            foo|\n",
      "| 16|[Alice, Bob, Char...|      8|      1.75|                0|        |            foo|\n",
      "|  3|[Alice, Bob, Char...|      2|       2.0|                0|        |            foo|\n",
      "|  7|[Alice, Bob, Char...|     12|  2.571428|                0|        |            foo|\n",
      "|  8|[Alice, Bob, Char...|     13|  2.857142|                0|        |            foo|\n",
      "|  9|[Alice, Bob, Char...|     14|  3.142856|                0|        |            foo|\n",
      "| 10|[Alice, Bob, Char...|     15|   3.42857|                0|        |            foo|\n",
      "+---+--------------------+-------+----------+-----------------+--------+---------------+\n",
      "\n"
     ]
    }
   ],
   "source": [
    "%%jsoniq -df\n",
    "table(\"foo\")"
   ]
  },
  {
   "cell_type": "code",
   "execution_count": 15,
   "metadata": {},
   "outputs": [],
   "source": [
    "%%jsoniq\n",
    "rename json table(\"foo\")[1].foo as \"bar2\";"
   ]
  },
  {
   "cell_type": "code",
   "execution_count": 19,
   "metadata": {},
   "outputs": [
    {
     "ename": "AnalysisException",
     "evalue": "[TABLE_OR_VIEW_NOT_FOUND] The table or view `foo` cannot be found. Verify the spelling and correctness of the schema and catalog.\nIf you did not qualify the name with a schema, verify the current_schema() output, or qualify the name with the correct schema and catalog.\nTo tolerate the error on drop use DROP VIEW IF EXISTS or DROP TABLE IF EXISTS. SQLSTATE: 42P01;\n'UnresolvedRelation [foo], [], false\n",
     "output_type": "error",
     "traceback": [
      "\u001b[0;31m---------------------------------------------------------------------------\u001b[0m",
      "\u001b[0;31mAnalysisException\u001b[0m                         Traceback (most recent call last)",
      "Cell \u001b[0;32mIn[19], line 1\u001b[0m\n\u001b[0;32m----> 1\u001b[0m \u001b[43mget_ipython\u001b[49m\u001b[43m(\u001b[49m\u001b[43m)\u001b[49m\u001b[38;5;241;43m.\u001b[39;49m\u001b[43mrun_cell_magic\u001b[49m\u001b[43m(\u001b[49m\u001b[38;5;124;43m'\u001b[39;49m\u001b[38;5;124;43mjsoniq\u001b[39;49m\u001b[38;5;124;43m'\u001b[39;49m\u001b[43m,\u001b[49m\u001b[43m \u001b[49m\u001b[38;5;124;43m'\u001b[39;49m\u001b[38;5;124;43m-df\u001b[39;49m\u001b[38;5;124;43m'\u001b[39;49m\u001b[43m,\u001b[49m\u001b[43m \u001b[49m\u001b[38;5;124;43m'\u001b[39;49m\u001b[38;5;124;43mtable(\u001b[39;49m\u001b[38;5;124;43m\"\u001b[39;49m\u001b[38;5;124;43mfoo\u001b[39;49m\u001b[38;5;124;43m\"\u001b[39;49m\u001b[38;5;124;43m)\u001b[39;49m\u001b[38;5;130;43;01m\\n\u001b[39;49;00m\u001b[38;5;124;43m'\u001b[39;49m\u001b[43m)\u001b[49m\n",
      "File \u001b[0;32m~/.pyenv/versions/3.11.9/lib/python3.11/site-packages/IPython/core/interactiveshell.py:2543\u001b[0m, in \u001b[0;36mInteractiveShell.run_cell_magic\u001b[0;34m(self, magic_name, line, cell)\u001b[0m\n\u001b[1;32m   2541\u001b[0m \u001b[38;5;28;01mwith\u001b[39;00m \u001b[38;5;28mself\u001b[39m\u001b[38;5;241m.\u001b[39mbuiltin_trap:\n\u001b[1;32m   2542\u001b[0m     args \u001b[38;5;241m=\u001b[39m (magic_arg_s, cell)\n\u001b[0;32m-> 2543\u001b[0m     result \u001b[38;5;241m=\u001b[39m \u001b[43mfn\u001b[49m\u001b[43m(\u001b[49m\u001b[38;5;241;43m*\u001b[39;49m\u001b[43margs\u001b[49m\u001b[43m,\u001b[49m\u001b[43m \u001b[49m\u001b[38;5;241;43m*\u001b[39;49m\u001b[38;5;241;43m*\u001b[39;49m\u001b[43mkwargs\u001b[49m\u001b[43m)\u001b[49m\n\u001b[1;32m   2545\u001b[0m \u001b[38;5;66;03m# The code below prevents the output from being displayed\u001b[39;00m\n\u001b[1;32m   2546\u001b[0m \u001b[38;5;66;03m# when using magics with decorator @output_can_be_silenced\u001b[39;00m\n\u001b[1;32m   2547\u001b[0m \u001b[38;5;66;03m# when the last Python token in the expression is a ';'.\u001b[39;00m\n\u001b[1;32m   2548\u001b[0m \u001b[38;5;28;01mif\u001b[39;00m \u001b[38;5;28mgetattr\u001b[39m(fn, magic\u001b[38;5;241m.\u001b[39mMAGIC_OUTPUT_CAN_BE_SILENCED, \u001b[38;5;28;01mFalse\u001b[39;00m):\n",
      "File \u001b[0;32m~/.pyenv/versions/3.11.9/lib/python3.11/site-packages/jsoniqmagic/magic.py:100\u001b[0m, in \u001b[0;36mJSONiqMagic.jsoniq\u001b[0;34m(self, line, cell)\u001b[0m\n\u001b[1;32m     98\u001b[0m \u001b[38;5;129m@cell_magic\u001b[39m\n\u001b[1;32m     99\u001b[0m \u001b[38;5;28;01mdef\u001b[39;00m\u001b[38;5;250m \u001b[39m\u001b[38;5;21mjsoniq\u001b[39m(\u001b[38;5;28mself\u001b[39m, line, cell\u001b[38;5;241m=\u001b[39m\u001b[38;5;28;01mNone\u001b[39;00m):\n\u001b[0;32m--> 100\u001b[0m     \u001b[38;5;28;01mreturn\u001b[39;00m \u001b[38;5;28;43mself\u001b[39;49m\u001b[38;5;241;43m.\u001b[39;49m\u001b[43mrun\u001b[49m\u001b[43m(\u001b[49m\u001b[43mline\u001b[49m\u001b[43m,\u001b[49m\u001b[43m \u001b[49m\u001b[43mcell\u001b[49m\u001b[43m,\u001b[49m\u001b[43m \u001b[49m\u001b[38;5;28;43;01mFalse\u001b[39;49;00m\u001b[43m)\u001b[49m\n",
      "File \u001b[0;32m~/.pyenv/versions/3.11.9/lib/python3.11/site-packages/jsoniqmagic/magic.py:70\u001b[0m, in \u001b[0;36mJSONiqMagic.run\u001b[0;34m(self, line, cell, timed)\u001b[0m\n\u001b[1;32m     52\u001b[0m         schema_str \u001b[38;5;241m=\u001b[39m \u001b[38;5;124m\"\"\"\u001b[39m\n\u001b[1;32m     53\u001b[0m \u001b[38;5;124mNo DataFrame available as no schema was detected. If you still believe the output is structured enough, you could add a schema and validate expression explicitly to your query.\u001b[39m\n\u001b[1;32m     54\u001b[0m \n\u001b[0;32m   (...)\u001b[0m\n\u001b[1;32m     66\u001b[0m \u001b[38;5;124m}\u001b[39m\n\u001b[1;32m     67\u001b[0m \u001b[38;5;124m\"\"\"\u001b[39m\n\u001b[1;32m     69\u001b[0m         \u001b[38;5;28;01mif\u001b[39;00m(args\u001b[38;5;241m.\u001b[39mpyspark_data_frame):\n\u001b[0;32m---> 70\u001b[0m             df \u001b[38;5;241m=\u001b[39m \u001b[43mresponse\u001b[49m\u001b[38;5;241;43m.\u001b[39;49m\u001b[43mdf\u001b[49m\u001b[43m(\u001b[49m\u001b[43m)\u001b[49m;\n\u001b[1;32m     71\u001b[0m             \u001b[38;5;28;01mif\u001b[39;00m df \u001b[38;5;129;01mis\u001b[39;00m \u001b[38;5;129;01mnot\u001b[39;00m \u001b[38;5;28;01mNone\u001b[39;00m:\n\u001b[1;32m     72\u001b[0m                 df\u001b[38;5;241m.\u001b[39mshow()\n",
      "File \u001b[0;32m~/.pyenv/versions/3.11.9/lib/python3.11/site-packages/jsoniq/sequence.py:60\u001b[0m, in \u001b[0;36mSequenceOfItems.df\u001b[0;34m(self)\u001b[0m\n\u001b[1;32m     58\u001b[0m     sys\u001b[38;5;241m.\u001b[39mstderr\u001b[38;5;241m.\u001b[39mwrite(\u001b[38;5;28mself\u001b[39m\u001b[38;5;241m.\u001b[39mschema_str)\n\u001b[1;32m     59\u001b[0m     \u001b[38;5;28;01mreturn\u001b[39;00m \u001b[38;5;28;01mNone\u001b[39;00m\n\u001b[0;32m---> 60\u001b[0m \u001b[38;5;28mself\u001b[39m\u001b[38;5;241m.\u001b[39m_rumblesession\u001b[38;5;241m.\u001b[39mlastResult \u001b[38;5;241m=\u001b[39m DataFrame(\u001b[38;5;28;43mself\u001b[39;49m\u001b[38;5;241;43m.\u001b[39;49m\u001b[43m_jsequence\u001b[49m\u001b[38;5;241;43m.\u001b[39;49m\u001b[43mgetAsDataFrame\u001b[49m\u001b[43m(\u001b[49m\u001b[43m)\u001b[49m, \u001b[38;5;28mself\u001b[39m\u001b[38;5;241m.\u001b[39m_sparksession)\n\u001b[1;32m     61\u001b[0m \u001b[38;5;28;01mreturn\u001b[39;00m \u001b[38;5;28mself\u001b[39m\u001b[38;5;241m.\u001b[39m_rumblesession\u001b[38;5;241m.\u001b[39mlastResult\n",
      "File \u001b[0;32m~/.pyenv/versions/3.11.9/lib/python3.11/site-packages/py4j/java_gateway.py:1362\u001b[0m, in \u001b[0;36mJavaMember.__call__\u001b[0;34m(self, *args)\u001b[0m\n\u001b[1;32m   1356\u001b[0m command \u001b[38;5;241m=\u001b[39m proto\u001b[38;5;241m.\u001b[39mCALL_COMMAND_NAME \u001b[38;5;241m+\u001b[39m\\\n\u001b[1;32m   1357\u001b[0m     \u001b[38;5;28mself\u001b[39m\u001b[38;5;241m.\u001b[39mcommand_header \u001b[38;5;241m+\u001b[39m\\\n\u001b[1;32m   1358\u001b[0m     args_command \u001b[38;5;241m+\u001b[39m\\\n\u001b[1;32m   1359\u001b[0m     proto\u001b[38;5;241m.\u001b[39mEND_COMMAND_PART\n\u001b[1;32m   1361\u001b[0m answer \u001b[38;5;241m=\u001b[39m \u001b[38;5;28mself\u001b[39m\u001b[38;5;241m.\u001b[39mgateway_client\u001b[38;5;241m.\u001b[39msend_command(command)\n\u001b[0;32m-> 1362\u001b[0m return_value \u001b[38;5;241m=\u001b[39m \u001b[43mget_return_value\u001b[49m\u001b[43m(\u001b[49m\n\u001b[1;32m   1363\u001b[0m \u001b[43m    \u001b[49m\u001b[43manswer\u001b[49m\u001b[43m,\u001b[49m\u001b[43m \u001b[49m\u001b[38;5;28;43mself\u001b[39;49m\u001b[38;5;241;43m.\u001b[39;49m\u001b[43mgateway_client\u001b[49m\u001b[43m,\u001b[49m\u001b[43m \u001b[49m\u001b[38;5;28;43mself\u001b[39;49m\u001b[38;5;241;43m.\u001b[39;49m\u001b[43mtarget_id\u001b[49m\u001b[43m,\u001b[49m\u001b[43m \u001b[49m\u001b[38;5;28;43mself\u001b[39;49m\u001b[38;5;241;43m.\u001b[39;49m\u001b[43mname\u001b[49m\u001b[43m)\u001b[49m\n\u001b[1;32m   1365\u001b[0m \u001b[38;5;28;01mfor\u001b[39;00m temp_arg \u001b[38;5;129;01min\u001b[39;00m temp_args:\n\u001b[1;32m   1366\u001b[0m     \u001b[38;5;28;01mif\u001b[39;00m \u001b[38;5;28mhasattr\u001b[39m(temp_arg, \u001b[38;5;124m\"\u001b[39m\u001b[38;5;124m_detach\u001b[39m\u001b[38;5;124m\"\u001b[39m):\n",
      "File \u001b[0;32m~/.pyenv/versions/3.11.9/lib/python3.11/site-packages/pyspark/errors/exceptions/captured.py:288\u001b[0m, in \u001b[0;36mcapture_sql_exception.<locals>.deco\u001b[0;34m(*a, **kw)\u001b[0m\n\u001b[1;32m    284\u001b[0m converted \u001b[38;5;241m=\u001b[39m convert_exception(e\u001b[38;5;241m.\u001b[39mjava_exception)\n\u001b[1;32m    285\u001b[0m \u001b[38;5;28;01mif\u001b[39;00m \u001b[38;5;129;01mnot\u001b[39;00m \u001b[38;5;28misinstance\u001b[39m(converted, UnknownException):\n\u001b[1;32m    286\u001b[0m     \u001b[38;5;66;03m# Hide where the exception came from that shows a non-Pythonic\u001b[39;00m\n\u001b[1;32m    287\u001b[0m     \u001b[38;5;66;03m# JVM exception message.\u001b[39;00m\n\u001b[0;32m--> 288\u001b[0m     \u001b[38;5;28;01mraise\u001b[39;00m converted \u001b[38;5;28;01mfrom\u001b[39;00m\u001b[38;5;250m \u001b[39m\u001b[38;5;28;01mNone\u001b[39;00m\n\u001b[1;32m    289\u001b[0m \u001b[38;5;28;01melse\u001b[39;00m:\n\u001b[1;32m    290\u001b[0m     \u001b[38;5;28;01mraise\u001b[39;00m\n",
      "\u001b[0;31mAnalysisException\u001b[0m: [TABLE_OR_VIEW_NOT_FOUND] The table or view `foo` cannot be found. Verify the spelling and correctness of the schema and catalog.\nIf you did not qualify the name with a schema, verify the current_schema() output, or qualify the name with the correct schema and catalog.\nTo tolerate the error on drop use DROP VIEW IF EXISTS or DROP TABLE IF EXISTS. SQLSTATE: 42P01;\n'UnresolvedRelation [foo], [], false\n"
     ]
    }
   ],
   "source": [
    "%%jsoniq -df\n",
    "table(\"foo\")"
   ]
  },
  {
   "cell_type": "code",
   "execution_count": 18,
   "metadata": {},
   "outputs": [
    {
     "name": "stdout",
     "output_type": "stream",
     "text": [
      "Updates applied successfully.\n"
     ]
    }
   ],
   "source": [
    "%%jsoniq -u\n",
    "delete collection table(\"foo\")"
   ]
  },
  {
   "cell_type": "code",
   "execution_count": 33,
   "metadata": {},
   "outputs": [
    {
     "name": "stdout",
     "output_type": "stream",
     "text": [
      "Updates applied successfully.\n"
     ]
    }
   ],
   "source": [
    "%%jsoniq -u\n",
    "create collection delta-file(\"foobar\") with for $i in 1 to 3 return { \"foo\" : $i, \"bar\" : [ \"Alice\", \"Bob\", \"Charlie\" ] }\n"
   ]
  },
  {
   "cell_type": "code",
   "execution_count": 34,
   "metadata": {},
   "outputs": [
    {
     "name": "stdout",
     "output_type": "stream",
     "text": [
      "+---+--------------------+-------+----------+-----------------+--------+--------------------+\n",
      "|foo|                 bar|__rowID|__rowOrder|__mutabilityLevel|__pathIn|     __tableLocation|\n",
      "+---+--------------------+-------+----------+-----------------+--------+--------------------+\n",
      "|  1|[Alice, Bob, Char...|      0|       0.0|                0|        |delta.`file:/User...|\n",
      "|  2|[Alice, Bob, Char...|      1|       1.0|                0|        |delta.`file:/User...|\n",
      "|  3|[Alice, Bob, Char...|      2|       2.0|                0|        |delta.`file:/User...|\n",
      "+---+--------------------+-------+----------+-----------------+--------+--------------------+\n",
      "\n"
     ]
    }
   ],
   "source": [
    "%%jsoniq -df\n",
    "delta-file(\"foobar\")"
   ]
  },
  {
   "cell_type": "code",
   "execution_count": 38,
   "metadata": {},
   "outputs": [
    {
     "name": "stdout",
     "output_type": "stream",
     "text": [
      "Updates applied successfully.\n"
     ]
    }
   ],
   "source": [
    "%%jsoniq -u\n",
    "insert for $i in 4 to 6 return { \"foo\" : $i, \"bar\" : [ \"Alice\", \"Bob\", \"Charlie\" ] }\n",
    "  first into collection delta-file(\"foobar\"),\n",
    "insert for $i in 7 to 10 return { \"foo\" : $i, \"bar\" : [ \"Alice\", \"Bob\", \"Charlie\" ] }\n",
    "  last into collection delta-file(\"foobar\"),\n",
    "insert for $i in 11 to 13 return { \"foo\" : $i, \"bar\" : [ \"Alice\", \"Bob\", \"Charlie\" ] }\n",
    "  before delta-file(\"foobar\")[position() eq 2] into collection,\n",
    "insert for $i in 14 to 16 return { \"foobar\" : $i, \"bar\" : [ \"Alice\", \"Bob\", \"Charlie\" ] }\n",
    "  after delta-file(\"foobar\")[position() eq 2] into collection\n"
   ]
  },
  {
   "cell_type": "code",
   "execution_count": 39,
   "metadata": {},
   "outputs": [
    {
     "name": "stdout",
     "output_type": "stream",
     "text": [
      "+---+--------------------+-------+----------+-----------------+--------+--------------------+\n",
      "|foo|                 bar|__rowID|__rowOrder|__mutabilityLevel|__pathIn|     __tableLocation|\n",
      "+---+--------------------+-------+----------+-----------------+--------+--------------------+\n",
      "|  4|[Alice, Bob, Char...|      9|  -75000.0|                0|        |delta.`file:/User...|\n",
      "|  5|[Alice, Bob, Char...|     10|  -50000.0|                0|        |delta.`file:/User...|\n",
      "|  6|[Alice, Bob, Char...|     11|  -25000.0|                0|        |delta.`file:/User...|\n",
      "|  1|[Alice, Bob, Char...|      0|       0.0|                0|        |delta.`file:/User...|\n",
      "| 11|[Alice, Bob, Char...|      3|      0.25|                0|        |delta.`file:/User...|\n",
      "| 12|[Alice, Bob, Char...|      4|       0.5|                0|        |delta.`file:/User...|\n",
      "| 13|[Alice, Bob, Char...|      5|      0.75|                0|        |delta.`file:/User...|\n",
      "|  2|[Alice, Bob, Char...|      1|       1.0|                0|        |delta.`file:/User...|\n",
      "| 14|[Alice, Bob, Char...|      6|      1.25|                0|        |delta.`file:/User...|\n",
      "| 15|[Alice, Bob, Char...|      7|       1.5|                0|        |delta.`file:/User...|\n",
      "| 16|[Alice, Bob, Char...|      8|      1.75|                0|        |delta.`file:/User...|\n",
      "|  3|[Alice, Bob, Char...|      2|       2.0|                0|        |delta.`file:/User...|\n",
      "|  7|[Alice, Bob, Char...|     12|  2.571428|                0|        |delta.`file:/User...|\n",
      "|  8|[Alice, Bob, Char...|     13|  2.857142|                0|        |delta.`file:/User...|\n",
      "|  9|[Alice, Bob, Char...|     14|  3.142856|                0|        |delta.`file:/User...|\n",
      "| 10|[Alice, Bob, Char...|     15|   3.42857|                0|        |delta.`file:/User...|\n",
      "+---+--------------------+-------+----------+-----------------+--------+--------------------+\n",
      "\n"
     ]
    }
   ],
   "source": [
    "%%jsoniq -df\n",
    "delta-file(\"foobar\")"
   ]
  },
  {
   "cell_type": "code",
   "execution_count": 40,
   "metadata": {},
   "outputs": [
    {
     "name": "stdout",
     "output_type": "stream",
     "text": [
      "Updates applied successfully.\n"
     ]
    }
   ],
   "source": [
    "%%jsoniq -u\n",
    "delete delta-file(\"foobar\")[$$.foo eq 15] from collection"
   ]
  },
  {
   "cell_type": "code",
   "execution_count": 41,
   "metadata": {},
   "outputs": [
    {
     "name": "stdout",
     "output_type": "stream",
     "text": [
      "+---+--------------------+-------+----------+-----------------+--------+--------------------+\n",
      "|foo|                 bar|__rowID|__rowOrder|__mutabilityLevel|__pathIn|     __tableLocation|\n",
      "+---+--------------------+-------+----------+-----------------+--------+--------------------+\n",
      "|  4|[Alice, Bob, Char...|      9|  -75000.0|                0|        |delta.`file:/User...|\n",
      "|  5|[Alice, Bob, Char...|     10|  -50000.0|                0|        |delta.`file:/User...|\n",
      "|  6|[Alice, Bob, Char...|     11|  -25000.0|                0|        |delta.`file:/User...|\n",
      "|  1|[Alice, Bob, Char...|      0|       0.0|                0|        |delta.`file:/User...|\n",
      "| 11|[Alice, Bob, Char...|      3|      0.25|                0|        |delta.`file:/User...|\n",
      "| 12|[Alice, Bob, Char...|      4|       0.5|                0|        |delta.`file:/User...|\n",
      "| 13|[Alice, Bob, Char...|      5|      0.75|                0|        |delta.`file:/User...|\n",
      "|  2|[Alice, Bob, Char...|      1|       1.0|                0|        |delta.`file:/User...|\n",
      "| 14|[Alice, Bob, Char...|      6|      1.25|                0|        |delta.`file:/User...|\n",
      "| 16|[Alice, Bob, Char...|      8|      1.75|                0|        |delta.`file:/User...|\n",
      "|  3|[Alice, Bob, Char...|      2|       2.0|                0|        |delta.`file:/User...|\n",
      "|  7|[Alice, Bob, Char...|     12|  2.571428|                0|        |delta.`file:/User...|\n",
      "|  8|[Alice, Bob, Char...|     13|  2.857142|                0|        |delta.`file:/User...|\n",
      "|  9|[Alice, Bob, Char...|     14|  3.142856|                0|        |delta.`file:/User...|\n",
      "| 10|[Alice, Bob, Char...|     15|   3.42857|                0|        |delta.`file:/User...|\n",
      "+---+--------------------+-------+----------+-----------------+--------+--------------------+\n",
      "\n"
     ]
    }
   ],
   "source": [
    "%%jsoniq -df\n",
    "delta-file(\"foobar\")"
   ]
  },
  {
   "cell_type": "code",
   "execution_count": 43,
   "metadata": {},
   "outputs": [
    {
     "name": "stdout",
     "output_type": "stream",
     "text": [
      "Updates applied successfully.\n"
     ]
    }
   ],
   "source": [
    "%%jsoniq -u\n",
    "edit delta-file(\"foobar\")[$$.foo eq 14] into { \"foo\" : 17, \"bar\" : [ \"Alice\", \"Bob\", \"Daniel\" ] } in collection"
   ]
  },
  {
   "cell_type": "code",
   "execution_count": 44,
   "metadata": {},
   "outputs": [
    {
     "name": "stdout",
     "output_type": "stream",
     "text": [
      "+---+--------------------+-------+----------+-----------------+--------+--------------------+\n",
      "|foo|                 bar|__rowID|__rowOrder|__mutabilityLevel|__pathIn|     __tableLocation|\n",
      "+---+--------------------+-------+----------+-----------------+--------+--------------------+\n",
      "|  4|[Alice, Bob, Char...|      9|  -75000.0|                0|        |delta.`file:/User...|\n",
      "|  5|[Alice, Bob, Char...|     10|  -50000.0|                0|        |delta.`file:/User...|\n",
      "|  6|[Alice, Bob, Char...|     11|  -25000.0|                0|        |delta.`file:/User...|\n",
      "|  1|[Alice, Bob, Char...|      0|       0.0|                0|        |delta.`file:/User...|\n",
      "| 11|[Alice, Bob, Char...|      3|      0.25|                0|        |delta.`file:/User...|\n",
      "| 12|[Alice, Bob, Char...|      4|       0.5|                0|        |delta.`file:/User...|\n",
      "| 13|[Alice, Bob, Char...|      5|      0.75|                0|        |delta.`file:/User...|\n",
      "|  2|[Alice, Bob, Char...|      1|       1.0|                0|        |delta.`file:/User...|\n",
      "| 17|[Alice, Bob, Daniel]|      6|      1.25|                0|        |delta.`file:/User...|\n",
      "| 16|[Alice, Bob, Char...|      8|      1.75|                0|        |delta.`file:/User...|\n",
      "|  3|[Alice, Bob, Char...|      2|       2.0|                0|        |delta.`file:/User...|\n",
      "|  7|[Alice, Bob, Char...|     12|  2.571428|                0|        |delta.`file:/User...|\n",
      "|  8|[Alice, Bob, Char...|     13|  2.857142|                0|        |delta.`file:/User...|\n",
      "|  9|[Alice, Bob, Char...|     14|  3.142856|                0|        |delta.`file:/User...|\n",
      "| 10|[Alice, Bob, Char...|     15|   3.42857|                0|        |delta.`file:/User...|\n",
      "+---+--------------------+-------+----------+-----------------+--------+--------------------+\n",
      "\n"
     ]
    }
   ],
   "source": [
    "%%jsoniq -df\n",
    "delta-file(\"foobar\")"
   ]
  },
  {
   "cell_type": "code",
   "execution_count": null,
   "metadata": {},
   "outputs": [],
   "source": []
  },
  {
   "cell_type": "code",
   "execution_count": 32,
   "metadata": {},
   "outputs": [
    {
     "name": "stdout",
     "output_type": "stream",
     "text": [
      "Updates applied successfully.\n"
     ]
    }
   ],
   "source": [
    "%%jsoniq -u\n",
    "delete collection delta-file(\"foobar\")"
   ]
  },
  {
   "cell_type": "code",
   "execution_count": null,
   "metadata": {},
   "outputs": [],
   "source": []
  }
 ],
 "metadata": {
  "anaconda-cloud": {},
  "kernelspec": {
   "display_name": "Python 3 (ipykernel)",
   "language": "python",
   "name": "python3"
  },
  "language_info": {
   "codemirror_mode": {
    "name": "ipython",
    "version": 3
   },
   "file_extension": ".py",
   "mimetype": "text/x-python",
   "name": "python",
   "nbconvert_exporter": "python",
   "pygments_lexer": "ipython3",
   "version": "3.11.9"
  }
 },
 "nbformat": 4,
 "nbformat_minor": 4
}
