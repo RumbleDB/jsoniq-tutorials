{
 "cells": [
  {
   "cell_type": "markdown",
   "metadata": {},
   "source": [
    "# <center>JSONiq Update Facility sandbox</center>\n"
   ]
  },
  {
   "cell_type": "markdown",
   "metadata": {},
   "source": [
    "The following cell is meant for Google Colab, which does not have the right Java version."
   ]
  },
  {
   "cell_type": "code",
   "execution_count": null,
   "metadata": {},
   "outputs": [],
   "source": [
    "# We make sure Java 17 is installed.\n",
    "!apt update\n",
    "!apt install openjdk-17-jdk\n",
    "!java -version"
   ]
  },
  {
   "cell_type": "code",
   "execution_count": 60,
   "metadata": {},
   "outputs": [
    {
     "name": "stdout",
     "output_type": "stream",
     "text": [
      "Requirement already satisfied: jsoniq in /Users/ghislain/.pyenv/versions/3.11.9/lib/python3.11/site-packages (0.2.0a9)\n",
      "Requirement already satisfied: pyspark==4.0 in /Users/ghislain/.pyenv/versions/3.11.9/lib/python3.11/site-packages (from jsoniq) (4.0.0)\n",
      "Requirement already satisfied: pandas>=2.2 in /Users/ghislain/.pyenv/versions/3.11.9/lib/python3.11/site-packages (from jsoniq) (2.3.0)\n",
      "Requirement already satisfied: delta-spark==4.0 in /Users/ghislain/.pyenv/versions/3.11.9/lib/python3.11/site-packages (from jsoniq) (4.0.0)\n",
      "Requirement already satisfied: importlib-metadata>=1.0.0 in /Users/ghislain/.pyenv/versions/3.11.9/lib/python3.11/site-packages (from delta-spark==4.0->jsoniq) (8.7.0)\n",
      "Requirement already satisfied: py4j==0.10.9.9 in /Users/ghislain/.pyenv/versions/3.11.9/lib/python3.11/site-packages (from pyspark==4.0->jsoniq) (0.10.9.9)\n",
      "Requirement already satisfied: zipp>=3.20 in /Users/ghislain/.pyenv/versions/3.11.9/lib/python3.11/site-packages (from importlib-metadata>=1.0.0->delta-spark==4.0->jsoniq) (3.22.0)\n",
      "Requirement already satisfied: numpy>=1.23.2 in /Users/ghislain/.pyenv/versions/3.11.9/lib/python3.11/site-packages (from pandas>=2.2->jsoniq) (1.24.4)\n",
      "Requirement already satisfied: python-dateutil>=2.8.2 in /Users/ghislain/.pyenv/versions/3.11.9/lib/python3.11/site-packages (from pandas>=2.2->jsoniq) (2.9.0.post0)\n",
      "Requirement already satisfied: pytz>=2020.1 in /Users/ghislain/.pyenv/versions/3.11.9/lib/python3.11/site-packages (from pandas>=2.2->jsoniq) (2024.2)\n",
      "Requirement already satisfied: tzdata>=2022.7 in /Users/ghislain/.pyenv/versions/3.11.9/lib/python3.11/site-packages (from pandas>=2.2->jsoniq) (2024.2)\n",
      "Requirement already satisfied: six>=1.5 in /Users/ghislain/.pyenv/versions/3.11.9/lib/python3.11/site-packages (from python-dateutil>=2.8.2->pandas>=2.2->jsoniq) (1.16.0)\n",
      "\n",
      "\u001b[1m[\u001b[0m\u001b[34;49mnotice\u001b[0m\u001b[1;39;49m]\u001b[0m\u001b[39;49m A new release of pip is available: \u001b[0m\u001b[31;49m25.1.1\u001b[0m\u001b[39;49m -> \u001b[0m\u001b[32;49m25.2\u001b[0m\n",
      "\u001b[1m[\u001b[0m\u001b[34;49mnotice\u001b[0m\u001b[1;39;49m]\u001b[0m\u001b[39;49m To update, run: \u001b[0m\u001b[32;49mpip install --upgrade pip\u001b[0m\n"
     ]
    }
   ],
   "source": [
    "!pip install jsoniq"
   ]
  },
  {
   "cell_type": "markdown",
   "metadata": {},
   "source": [
    "We now initialize a RumbleDB session and test that it works."
   ]
  },
  {
   "cell_type": "code",
   "execution_count": 91,
   "metadata": {},
   "outputs": [
    {
     "name": "stdout",
     "output_type": "stream",
     "text": [
      "({'foo': [42]},)\n"
     ]
    }
   ],
   "source": [
    "from jsoniq import RumbleSession\n",
    "\n",
    "rumble = RumbleSession.builder.withDelta().getOrCreate();\n",
    "\n",
    "print(rumble.jsoniq('{ \"foo\": [ 6*7 ] }').json());"
   ]
  },
  {
   "cell_type": "markdown",
   "metadata": {},
   "source": [
    "For convenience, we also activate the JSONiq magic."
   ]
  },
  {
   "cell_type": "code",
   "execution_count": 92,
   "metadata": {},
   "outputs": [
    {
     "name": "stdout",
     "output_type": "stream",
     "text": [
      "The jsoniqmagic extension is already loaded. To reload it, use:\n",
      "  %reload_ext jsoniqmagic\n"
     ]
    },
    {
     "data": {
      "text/plain": [
       "JavaObject id=o514"
      ]
     },
     "execution_count": 92,
     "metadata": {},
     "output_type": "execute_result"
    }
   ],
   "source": [
    "%load_ext jsoniqmagic\n",
    "# We will display the first 5 items. This parameter can be changed.\n",
    "rumble.getRumbleConf().setResultSizeCap(20)"
   ]
  },
  {
   "cell_type": "markdown",
   "metadata": {},
   "source": [
    "We create a new collection"
   ]
  },
  {
   "cell_type": "code",
   "execution_count": 96,
   "metadata": {},
   "outputs": [
    {
     "name": "stdout",
     "output_type": "stream",
     "text": [
      "Updates applied successfully.\n",
      "Response time: 0.4432852268218994 ms\n"
     ]
    }
   ],
   "source": [
    "%%jsoniq -u -t\n",
    "create collection table(\"foo\") with for $i in 1 to 3 return { \"foo\" : $i, \"bar\" : [ \"Alice\", \"Bob\", \"Charlie\" ] }\n"
   ]
  },
  {
   "cell_type": "code",
   "execution_count": 97,
   "metadata": {},
   "outputs": [
    {
     "name": "stdout",
     "output_type": "stream",
     "text": [
      "+---+--------------------+-------+----------+-----------------+--------+---------------+\n",
      "|foo|                 bar|__rowID|__rowOrder|__mutabilityLevel|__pathIn|__tableLocation|\n",
      "+---+--------------------+-------+----------+-----------------+--------+---------------+\n",
      "|  1|[Alice, Bob, Char...|      0|       0.0|                0|        |            foo|\n",
      "|  2|[Alice, Bob, Char...|      1|       1.0|                0|        |            foo|\n",
      "|  3|[Alice, Bob, Char...|      2|       2.0|                0|        |            foo|\n",
      "+---+--------------------+-------+----------+-----------------+--------+---------------+\n",
      "\n",
      "Response time: 0.1620190143585205 ms\n"
     ]
    }
   ],
   "source": [
    "%%jsoniq -df -t\n",
    "table(\"foo\")"
   ]
  },
  {
   "cell_type": "markdown",
   "metadata": {},
   "source": [
    "We insert new data -- remember the snapshot semantics, all updates are computed against the original table, and then applied jointly."
   ]
  },
  {
   "cell_type": "code",
   "execution_count": 98,
   "metadata": {},
   "outputs": [
    {
     "name": "stdout",
     "output_type": "stream",
     "text": [
      "Updates applied successfully.\n",
      "Response time: 2.8711822032928467 ms\n"
     ]
    }
   ],
   "source": [
    "%%jsoniq -u -t\n",
    "insert for $i in 4 to 6 return { \"foo\" : $i, \"bar\" : [ \"Alice\", \"Bob\", \"Charlie\" ] }\n",
    "  first into collection table(\"foo\"),\n",
    "insert for $i in 7 to 10 return { \"foo\" : $i, \"bar\" : [ \"Alice\", \"Bob\", \"Charlie\" ] }\n",
    "  last into collection table(\"foo\"),\n",
    "insert for $i in 11 to 13 return { \"foo\" : $i, \"bar\" : [ \"Alice\", \"Bob\", \"Charlie\" ] }\n",
    "  before table(\"foo\")[position() eq 2] into collection,\n",
    "insert for $i in 14 to 16 return { \"foo\" : $i, \"bar\" : [ \"Alice\", \"Bob\", \"Charlie\" ] }\n",
    "  after table(\"foo\")[position() eq 2] into collection\n"
   ]
  },
  {
   "cell_type": "code",
   "execution_count": 99,
   "metadata": {},
   "outputs": [
    {
     "name": "stdout",
     "output_type": "stream",
     "text": [
      "+---+--------------------+-------+----------+-----------------+--------+---------------+\n",
      "|foo|                 bar|__rowID|__rowOrder|__mutabilityLevel|__pathIn|__tableLocation|\n",
      "+---+--------------------+-------+----------+-----------------+--------+---------------+\n",
      "|  4|[Alice, Bob, Char...|      9|  -75000.0|                0|        |            foo|\n",
      "|  5|[Alice, Bob, Char...|     10|  -50000.0|                0|        |            foo|\n",
      "|  6|[Alice, Bob, Char...|     11|  -25000.0|                0|        |            foo|\n",
      "|  1|[Alice, Bob, Char...|      0|       0.0|                0|        |            foo|\n",
      "| 11|[Alice, Bob, Char...|      3|      0.25|                0|        |            foo|\n",
      "| 12|[Alice, Bob, Char...|      4|       0.5|                0|        |            foo|\n",
      "| 13|[Alice, Bob, Char...|      5|      0.75|                0|        |            foo|\n",
      "|  2|[Alice, Bob, Char...|      1|       1.0|                0|        |            foo|\n",
      "| 14|[Alice, Bob, Char...|      6|      1.25|                0|        |            foo|\n",
      "| 15|[Alice, Bob, Char...|      7|       1.5|                0|        |            foo|\n",
      "| 16|[Alice, Bob, Char...|      8|      1.75|                0|        |            foo|\n",
      "|  3|[Alice, Bob, Char...|      2|       2.0|                0|        |            foo|\n",
      "|  7|[Alice, Bob, Char...|     12|  2.571428|                0|        |            foo|\n",
      "|  8|[Alice, Bob, Char...|     13|  2.857142|                0|        |            foo|\n",
      "|  9|[Alice, Bob, Char...|     14|  3.142856|                0|        |            foo|\n",
      "| 10|[Alice, Bob, Char...|     15|   3.42857|                0|        |            foo|\n",
      "+---+--------------------+-------+----------+-----------------+--------+---------------+\n",
      "\n",
      "Response time: 0.23844504356384277 ms\n"
     ]
    }
   ],
   "source": [
    "%%jsoniq -df -t\n",
    "table(\"foo\")"
   ]
  },
  {
   "cell_type": "markdown",
   "metadata": {},
   "source": [
    "We delete a record"
   ]
  },
  {
   "cell_type": "code",
   "execution_count": 100,
   "metadata": {},
   "outputs": [
    {
     "name": "stdout",
     "output_type": "stream",
     "text": [
      "Updates applied successfully.\n",
      "Response time: 0.6823310852050781 ms\n"
     ]
    }
   ],
   "source": [
    "%%jsoniq -u -t\n",
    "delete table(\"foo\")[$$.foo eq 15] from collection"
   ]
  },
  {
   "cell_type": "code",
   "execution_count": 101,
   "metadata": {
    "scrolled": true
   },
   "outputs": [
    {
     "name": "stdout",
     "output_type": "stream",
     "text": [
      "+---+--------------------+-------+----------+-----------------+--------+---------------+\n",
      "|foo|                 bar|__rowID|__rowOrder|__mutabilityLevel|__pathIn|__tableLocation|\n",
      "+---+--------------------+-------+----------+-----------------+--------+---------------+\n",
      "|  4|[Alice, Bob, Char...|      9|  -75000.0|                0|        |            foo|\n",
      "|  5|[Alice, Bob, Char...|     10|  -50000.0|                0|        |            foo|\n",
      "|  6|[Alice, Bob, Char...|     11|  -25000.0|                0|        |            foo|\n",
      "|  1|[Alice, Bob, Char...|      0|       0.0|                0|        |            foo|\n",
      "| 11|[Alice, Bob, Char...|      3|      0.25|                0|        |            foo|\n",
      "| 12|[Alice, Bob, Char...|      4|       0.5|                0|        |            foo|\n",
      "| 13|[Alice, Bob, Char...|      5|      0.75|                0|        |            foo|\n",
      "|  2|[Alice, Bob, Char...|      1|       1.0|                0|        |            foo|\n",
      "| 14|[Alice, Bob, Char...|      6|      1.25|                0|        |            foo|\n",
      "| 16|[Alice, Bob, Char...|      8|      1.75|                0|        |            foo|\n",
      "|  3|[Alice, Bob, Char...|      2|       2.0|                0|        |            foo|\n",
      "|  7|[Alice, Bob, Char...|     12|  2.571428|                0|        |            foo|\n",
      "|  8|[Alice, Bob, Char...|     13|  2.857142|                0|        |            foo|\n",
      "|  9|[Alice, Bob, Char...|     14|  3.142856|                0|        |            foo|\n",
      "| 10|[Alice, Bob, Char...|     15|   3.42857|                0|        |            foo|\n",
      "+---+--------------------+-------+----------+-----------------+--------+---------------+\n",
      "\n",
      "Response time: 0.15625429153442383 ms\n"
     ]
    }
   ],
   "source": [
    "%%jsoniq -df -t\n",
    "table(\"foo\")"
   ]
  },
  {
   "cell_type": "markdown",
   "metadata": {},
   "source": [
    "We edit a record"
   ]
  },
  {
   "cell_type": "code",
   "execution_count": 102,
   "metadata": {},
   "outputs": [
    {
     "name": "stdout",
     "output_type": "stream",
     "text": [
      "Updates applied successfully.\n",
      "Response time: 0.9289381504058838 ms\n"
     ]
    }
   ],
   "source": [
    "%%jsoniq -u -t\n",
    "edit table(\"foo\")[$$.foo eq 14] into { \"foo\" : 17, \"bar\" : [ \"Alice\", \"Bob\", \"Daniel\" ] } in collection"
   ]
  },
  {
   "cell_type": "code",
   "execution_count": 103,
   "metadata": {},
   "outputs": [
    {
     "name": "stdout",
     "output_type": "stream",
     "text": [
      "+---+--------------------+-------+----------+-----------------+--------+---------------+\n",
      "|foo|                 bar|__rowID|__rowOrder|__mutabilityLevel|__pathIn|__tableLocation|\n",
      "+---+--------------------+-------+----------+-----------------+--------+---------------+\n",
      "|  4|[Alice, Bob, Char...|      9|  -75000.0|                0|        |            foo|\n",
      "|  5|[Alice, Bob, Char...|     10|  -50000.0|                0|        |            foo|\n",
      "|  6|[Alice, Bob, Char...|     11|  -25000.0|                0|        |            foo|\n",
      "|  1|[Alice, Bob, Char...|      0|       0.0|                0|        |            foo|\n",
      "| 11|[Alice, Bob, Char...|      3|      0.25|                0|        |            foo|\n",
      "| 12|[Alice, Bob, Char...|      4|       0.5|                0|        |            foo|\n",
      "| 13|[Alice, Bob, Char...|      5|      0.75|                0|        |            foo|\n",
      "|  2|[Alice, Bob, Char...|      1|       1.0|                0|        |            foo|\n",
      "| 17|[Alice, Bob, Daniel]|      6|      1.25|                0|        |            foo|\n",
      "| 16|[Alice, Bob, Char...|      8|      1.75|                0|        |            foo|\n",
      "|  3|[Alice, Bob, Char...|      2|       2.0|                0|        |            foo|\n",
      "|  7|[Alice, Bob, Char...|     12|  2.571428|                0|        |            foo|\n",
      "|  8|[Alice, Bob, Char...|     13|  2.857142|                0|        |            foo|\n",
      "|  9|[Alice, Bob, Char...|     14|  3.142856|                0|        |            foo|\n",
      "| 10|[Alice, Bob, Char...|     15|   3.42857|                0|        |            foo|\n",
      "+---+--------------------+-------+----------+-----------------+--------+---------------+\n",
      "\n",
      "Response time: 0.18386507034301758 ms\n"
     ]
    }
   ],
   "source": [
    "%%jsoniq -df -t\n",
    "table(\"foo\")"
   ]
  },
  {
   "cell_type": "code",
   "execution_count": 104,
   "metadata": {},
   "outputs": [
    {
     "name": "stdout",
     "output_type": "stream",
     "text": [
      "Response time: 1.0600237846374512 ms\n"
     ]
    }
   ],
   "source": [
    "%%jsoniq -t\n",
    "rename json table(\"foo\")[1].foo as \"bar2\";"
   ]
  },
  {
   "cell_type": "code",
   "execution_count": 105,
   "metadata": {},
   "outputs": [
    {
     "name": "stdout",
     "output_type": "stream",
     "text": [
      "+----+--------------------+-------+----------+----+-----------------+--------+---------------+\n",
      "| foo|                 bar|__rowID|__rowOrder|bar2|__mutabilityLevel|__pathIn|__tableLocation|\n",
      "+----+--------------------+-------+----------+----+-----------------+--------+---------------+\n",
      "|NULL|[Alice, Bob, Char...|      9|  -75000.0|   4|                0|        |            foo|\n",
      "|   5|[Alice, Bob, Char...|     10|  -50000.0|NULL|                0|        |            foo|\n",
      "|   6|[Alice, Bob, Char...|     11|  -25000.0|NULL|                0|        |            foo|\n",
      "|   1|[Alice, Bob, Char...|      0|       0.0|NULL|                0|        |            foo|\n",
      "|  11|[Alice, Bob, Char...|      3|      0.25|NULL|                0|        |            foo|\n",
      "|  12|[Alice, Bob, Char...|      4|       0.5|NULL|                0|        |            foo|\n",
      "|  13|[Alice, Bob, Char...|      5|      0.75|NULL|                0|        |            foo|\n",
      "|   2|[Alice, Bob, Char...|      1|       1.0|NULL|                0|        |            foo|\n",
      "|  17|[Alice, Bob, Daniel]|      6|      1.25|NULL|                0|        |            foo|\n",
      "|  16|[Alice, Bob, Char...|      8|      1.75|NULL|                0|        |            foo|\n",
      "|   3|[Alice, Bob, Char...|      2|       2.0|NULL|                0|        |            foo|\n",
      "|   7|[Alice, Bob, Char...|     12|  2.571428|NULL|                0|        |            foo|\n",
      "|   8|[Alice, Bob, Char...|     13|  2.857142|NULL|                0|        |            foo|\n",
      "|   9|[Alice, Bob, Char...|     14|  3.142856|NULL|                0|        |            foo|\n",
      "|  10|[Alice, Bob, Char...|     15|   3.42857|NULL|                0|        |            foo|\n",
      "+----+--------------------+-------+----------+----+-----------------+--------+---------------+\n",
      "\n",
      "Response time: 0.1851949691772461 ms\n"
     ]
    }
   ],
   "source": [
    "%%jsoniq -df -t\n",
    "table(\"foo\")"
   ]
  },
  {
   "cell_type": "code",
   "execution_count": 106,
   "metadata": {},
   "outputs": [
    {
     "name": "stdout",
     "output_type": "stream",
     "text": [
      "Updates applied successfully.\n",
      "Response time: 0.020617961883544922 ms\n"
     ]
    }
   ],
   "source": [
    "%%jsoniq -u -t\n",
    "delete collection table(\"foo\")"
   ]
  },
  {
   "cell_type": "code",
   "execution_count": 107,
   "metadata": {},
   "outputs": [
    {
     "name": "stdout",
     "output_type": "stream",
     "text": [
      "Updates applied successfully.\n",
      "Response time: 0.34624385833740234 ms\n"
     ]
    }
   ],
   "source": [
    "%%jsoniq -u -t\n",
    "create collection delta-file(\"foobar\") with for $i in 1 to 3 return { \"foo\" : $i, \"bar\" : [ \"Alice\", \"Bob\", \"Charlie\" ] }\n"
   ]
  },
  {
   "cell_type": "code",
   "execution_count": 108,
   "metadata": {},
   "outputs": [
    {
     "name": "stdout",
     "output_type": "stream",
     "text": [
      "+---+--------------------+-------+----------+-----------------+--------+--------------------+\n",
      "|foo|                 bar|__rowID|__rowOrder|__mutabilityLevel|__pathIn|     __tableLocation|\n",
      "+---+--------------------+-------+----------+-----------------+--------+--------------------+\n",
      "|  1|[Alice, Bob, Char...|      0|       0.0|                0|        |delta.`file:/User...|\n",
      "|  2|[Alice, Bob, Char...|      1|       1.0|                0|        |delta.`file:/User...|\n",
      "|  3|[Alice, Bob, Char...|      2|       2.0|                0|        |delta.`file:/User...|\n",
      "+---+--------------------+-------+----------+-----------------+--------+--------------------+\n",
      "\n",
      "Response time: 0.18596506118774414 ms\n"
     ]
    }
   ],
   "source": [
    "%%jsoniq -df -t\n",
    "delta-file(\"foobar\")"
   ]
  },
  {
   "cell_type": "code",
   "execution_count": 109,
   "metadata": {},
   "outputs": [
    {
     "name": "stdout",
     "output_type": "stream",
     "text": [
      "Updates applied successfully.\n",
      "Response time: 3.0012519359588623 ms\n"
     ]
    }
   ],
   "source": [
    "%%jsoniq -u -t\n",
    "insert for $i in 4 to 6 return { \"foo\" : $i, \"bar\" : [ \"Alice\", \"Bob\", \"Charlie\" ] }\n",
    "  first into collection delta-file(\"foobar\"),\n",
    "insert for $i in 7 to 10 return { \"foo\" : $i, \"bar\" : [ \"Alice\", \"Bob\", \"Charlie\" ] }\n",
    "  last into collection delta-file(\"foobar\"),\n",
    "insert for $i in 11 to 13 return { \"foo\" : $i, \"bar\" : [ \"Alice\", \"Bob\", \"Charlie\" ] }\n",
    "  before delta-file(\"foobar\")[position() eq 2] into collection,\n",
    "insert for $i in 14 to 16 return { \"foobar\" : $i, \"bar\" : [ \"Alice\", \"Bob\", \"Charlie\" ] }\n",
    "  after delta-file(\"foobar\")[position() eq 2] into collection\n"
   ]
  },
  {
   "cell_type": "code",
   "execution_count": 110,
   "metadata": {},
   "outputs": [
    {
     "name": "stdout",
     "output_type": "stream",
     "text": [
      "+---+--------------------+-------+----------+-----------------+--------+--------------------+\n",
      "|foo|                 bar|__rowID|__rowOrder|__mutabilityLevel|__pathIn|     __tableLocation|\n",
      "+---+--------------------+-------+----------+-----------------+--------+--------------------+\n",
      "|  4|[Alice, Bob, Char...|      9|  -75000.0|                0|        |delta.`file:/User...|\n",
      "|  5|[Alice, Bob, Char...|     10|  -50000.0|                0|        |delta.`file:/User...|\n",
      "|  6|[Alice, Bob, Char...|     11|  -25000.0|                0|        |delta.`file:/User...|\n",
      "|  1|[Alice, Bob, Char...|      0|       0.0|                0|        |delta.`file:/User...|\n",
      "| 11|[Alice, Bob, Char...|      3|      0.25|                0|        |delta.`file:/User...|\n",
      "| 12|[Alice, Bob, Char...|      4|       0.5|                0|        |delta.`file:/User...|\n",
      "| 13|[Alice, Bob, Char...|      5|      0.75|                0|        |delta.`file:/User...|\n",
      "|  2|[Alice, Bob, Char...|      1|       1.0|                0|        |delta.`file:/User...|\n",
      "| 14|[Alice, Bob, Char...|      6|      1.25|                0|        |delta.`file:/User...|\n",
      "| 15|[Alice, Bob, Char...|      7|       1.5|                0|        |delta.`file:/User...|\n",
      "| 16|[Alice, Bob, Char...|      8|      1.75|                0|        |delta.`file:/User...|\n",
      "|  3|[Alice, Bob, Char...|      2|       2.0|                0|        |delta.`file:/User...|\n",
      "|  7|[Alice, Bob, Char...|     12|  2.571428|                0|        |delta.`file:/User...|\n",
      "|  8|[Alice, Bob, Char...|     13|  2.857142|                0|        |delta.`file:/User...|\n",
      "|  9|[Alice, Bob, Char...|     14|  3.142856|                0|        |delta.`file:/User...|\n",
      "| 10|[Alice, Bob, Char...|     15|   3.42857|                0|        |delta.`file:/User...|\n",
      "+---+--------------------+-------+----------+-----------------+--------+--------------------+\n",
      "\n",
      "Response time: 0.2350919246673584 ms\n"
     ]
    }
   ],
   "source": [
    "%%jsoniq -df -t\n",
    "delta-file(\"foobar\")"
   ]
  },
  {
   "cell_type": "code",
   "execution_count": 111,
   "metadata": {},
   "outputs": [
    {
     "name": "stdout",
     "output_type": "stream",
     "text": [
      "Updates applied successfully.\n",
      "Response time: 0.6445589065551758 ms\n"
     ]
    }
   ],
   "source": [
    "%%jsoniq -u -t\n",
    "delete delta-file(\"foobar\")[$$.foo eq 15] from collection"
   ]
  },
  {
   "cell_type": "code",
   "execution_count": 112,
   "metadata": {},
   "outputs": [
    {
     "name": "stdout",
     "output_type": "stream",
     "text": [
      "+---+--------------------+-------+----------+-----------------+--------+--------------------+\n",
      "|foo|                 bar|__rowID|__rowOrder|__mutabilityLevel|__pathIn|     __tableLocation|\n",
      "+---+--------------------+-------+----------+-----------------+--------+--------------------+\n",
      "|  4|[Alice, Bob, Char...|      9|  -75000.0|                0|        |delta.`file:/User...|\n",
      "|  5|[Alice, Bob, Char...|     10|  -50000.0|                0|        |delta.`file:/User...|\n",
      "|  6|[Alice, Bob, Char...|     11|  -25000.0|                0|        |delta.`file:/User...|\n",
      "|  1|[Alice, Bob, Char...|      0|       0.0|                0|        |delta.`file:/User...|\n",
      "| 11|[Alice, Bob, Char...|      3|      0.25|                0|        |delta.`file:/User...|\n",
      "| 12|[Alice, Bob, Char...|      4|       0.5|                0|        |delta.`file:/User...|\n",
      "| 13|[Alice, Bob, Char...|      5|      0.75|                0|        |delta.`file:/User...|\n",
      "|  2|[Alice, Bob, Char...|      1|       1.0|                0|        |delta.`file:/User...|\n",
      "| 14|[Alice, Bob, Char...|      6|      1.25|                0|        |delta.`file:/User...|\n",
      "| 16|[Alice, Bob, Char...|      8|      1.75|                0|        |delta.`file:/User...|\n",
      "|  3|[Alice, Bob, Char...|      2|       2.0|                0|        |delta.`file:/User...|\n",
      "|  7|[Alice, Bob, Char...|     12|  2.571428|                0|        |delta.`file:/User...|\n",
      "|  8|[Alice, Bob, Char...|     13|  2.857142|                0|        |delta.`file:/User...|\n",
      "|  9|[Alice, Bob, Char...|     14|  3.142856|                0|        |delta.`file:/User...|\n",
      "| 10|[Alice, Bob, Char...|     15|   3.42857|                0|        |delta.`file:/User...|\n",
      "+---+--------------------+-------+----------+-----------------+--------+--------------------+\n",
      "\n",
      "Response time: 0.15192508697509766 ms\n"
     ]
    }
   ],
   "source": [
    "%%jsoniq -df -t\n",
    "delta-file(\"foobar\")"
   ]
  },
  {
   "cell_type": "code",
   "execution_count": 113,
   "metadata": {},
   "outputs": [
    {
     "name": "stdout",
     "output_type": "stream",
     "text": [
      "Updates applied successfully.\n",
      "Response time: 0.9985339641571045 ms\n"
     ]
    }
   ],
   "source": [
    "%%jsoniq -u -t\n",
    "edit delta-file(\"foobar\")[$$.foo eq 14] into { \"foo\" : 17, \"bar\" : [ \"Alice\", \"Bob\", \"Daniel\" ] } in collection"
   ]
  },
  {
   "cell_type": "code",
   "execution_count": 114,
   "metadata": {},
   "outputs": [
    {
     "name": "stdout",
     "output_type": "stream",
     "text": [
      "+---+--------------------+-------+----------+-----------------+--------+--------------------+\n",
      "|foo|                 bar|__rowID|__rowOrder|__mutabilityLevel|__pathIn|     __tableLocation|\n",
      "+---+--------------------+-------+----------+-----------------+--------+--------------------+\n",
      "|  4|[Alice, Bob, Char...|      9|  -75000.0|                0|        |delta.`file:/User...|\n",
      "|  5|[Alice, Bob, Char...|     10|  -50000.0|                0|        |delta.`file:/User...|\n",
      "|  6|[Alice, Bob, Char...|     11|  -25000.0|                0|        |delta.`file:/User...|\n",
      "|  1|[Alice, Bob, Char...|      0|       0.0|                0|        |delta.`file:/User...|\n",
      "| 11|[Alice, Bob, Char...|      3|      0.25|                0|        |delta.`file:/User...|\n",
      "| 12|[Alice, Bob, Char...|      4|       0.5|                0|        |delta.`file:/User...|\n",
      "| 13|[Alice, Bob, Char...|      5|      0.75|                0|        |delta.`file:/User...|\n",
      "|  2|[Alice, Bob, Char...|      1|       1.0|                0|        |delta.`file:/User...|\n",
      "| 17|[Alice, Bob, Daniel]|      6|      1.25|                0|        |delta.`file:/User...|\n",
      "| 16|[Alice, Bob, Char...|      8|      1.75|                0|        |delta.`file:/User...|\n",
      "|  3|[Alice, Bob, Char...|      2|       2.0|                0|        |delta.`file:/User...|\n",
      "|  7|[Alice, Bob, Char...|     12|  2.571428|                0|        |delta.`file:/User...|\n",
      "|  8|[Alice, Bob, Char...|     13|  2.857142|                0|        |delta.`file:/User...|\n",
      "|  9|[Alice, Bob, Char...|     14|  3.142856|                0|        |delta.`file:/User...|\n",
      "| 10|[Alice, Bob, Char...|     15|   3.42857|                0|        |delta.`file:/User...|\n",
      "+---+--------------------+-------+----------+-----------------+--------+--------------------+\n",
      "\n",
      "Response time: 0.19735074043273926 ms\n"
     ]
    }
   ],
   "source": [
    "%%jsoniq -df -t\n",
    "delta-file(\"foobar\")"
   ]
  },
  {
   "cell_type": "code",
   "execution_count": 115,
   "metadata": {},
   "outputs": [
    {
     "name": "stdout",
     "output_type": "stream",
     "text": [
      "Updates applied successfully.\n",
      "Response time: 0.020194053649902344 ms\n"
     ]
    }
   ],
   "source": [
    "%%jsoniq -u -t\n",
    "delete collection delta-file(\"foobar\")"
   ]
  },
  {
   "cell_type": "code",
   "execution_count": null,
   "metadata": {},
   "outputs": [],
   "source": []
  }
 ],
 "metadata": {
  "anaconda-cloud": {},
  "kernelspec": {
   "display_name": "Python 3 (ipykernel)",
   "language": "python",
   "name": "python3"
  },
  "language_info": {
   "codemirror_mode": {
    "name": "ipython",
    "version": 3
   },
   "file_extension": ".py",
   "mimetype": "text/x-python",
   "name": "python",
   "nbconvert_exporter": "python",
   "pygments_lexer": "ipython3",
   "version": "3.11.9"
  }
 },
 "nbformat": 4,
 "nbformat_minor": 4
}
