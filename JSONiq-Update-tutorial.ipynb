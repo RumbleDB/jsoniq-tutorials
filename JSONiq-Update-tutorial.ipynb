{
 "cells": [
  {
   "cell_type": "markdown",
   "metadata": {},
   "source": [
    "# <center>JSONiq Update Facility sandbox</center>\n"
   ]
  },
  {
   "cell_type": "markdown",
   "metadata": {},
   "source": [
    "The following cell is meant for Google Colab, which does not have the right Java version."
   ]
  },
  {
   "cell_type": "code",
   "execution_count": null,
   "metadata": {},
   "outputs": [],
   "source": [
    "# We make sure Java 17 is installed.\n",
    "!apt update\n",
    "!apt install openjdk-17-jdk\n",
    "!java -version"
   ]
  },
  {
   "cell_type": "code",
   "execution_count": 1,
   "metadata": {},
   "outputs": [
    {
     "name": "stdout",
     "output_type": "stream",
     "text": [
      "Requirement already satisfied: jsoniq in /Users/ghislain/.pyenv/versions/3.11.9/lib/python3.11/site-packages (0.2.0a9)\n",
      "Requirement already satisfied: pyspark==4.0 in /Users/ghislain/.pyenv/versions/3.11.9/lib/python3.11/site-packages (from jsoniq) (4.0.0)\n",
      "Requirement already satisfied: pandas>=2.2 in /Users/ghislain/.pyenv/versions/3.11.9/lib/python3.11/site-packages (from jsoniq) (2.3.0)\n",
      "Requirement already satisfied: delta-spark==4.0 in /Users/ghislain/.pyenv/versions/3.11.9/lib/python3.11/site-packages (from jsoniq) (4.0.0)\n",
      "Requirement already satisfied: importlib-metadata>=1.0.0 in /Users/ghislain/.pyenv/versions/3.11.9/lib/python3.11/site-packages (from delta-spark==4.0->jsoniq) (8.7.0)\n",
      "Requirement already satisfied: py4j==0.10.9.9 in /Users/ghislain/.pyenv/versions/3.11.9/lib/python3.11/site-packages (from pyspark==4.0->jsoniq) (0.10.9.9)\n",
      "Requirement already satisfied: zipp>=3.20 in /Users/ghislain/.pyenv/versions/3.11.9/lib/python3.11/site-packages (from importlib-metadata>=1.0.0->delta-spark==4.0->jsoniq) (3.22.0)\n",
      "Requirement already satisfied: numpy>=1.23.2 in /Users/ghislain/.pyenv/versions/3.11.9/lib/python3.11/site-packages (from pandas>=2.2->jsoniq) (1.24.4)\n",
      "Requirement already satisfied: python-dateutil>=2.8.2 in /Users/ghislain/.pyenv/versions/3.11.9/lib/python3.11/site-packages (from pandas>=2.2->jsoniq) (2.9.0.post0)\n",
      "Requirement already satisfied: pytz>=2020.1 in /Users/ghislain/.pyenv/versions/3.11.9/lib/python3.11/site-packages (from pandas>=2.2->jsoniq) (2024.2)\n",
      "Requirement already satisfied: tzdata>=2022.7 in /Users/ghislain/.pyenv/versions/3.11.9/lib/python3.11/site-packages (from pandas>=2.2->jsoniq) (2024.2)\n",
      "Requirement already satisfied: six>=1.5 in /Users/ghislain/.pyenv/versions/3.11.9/lib/python3.11/site-packages (from python-dateutil>=2.8.2->pandas>=2.2->jsoniq) (1.16.0)\n",
      "\n",
      "\u001b[1m[\u001b[0m\u001b[34;49mnotice\u001b[0m\u001b[1;39;49m]\u001b[0m\u001b[39;49m A new release of pip is available: \u001b[0m\u001b[31;49m25.1.1\u001b[0m\u001b[39;49m -> \u001b[0m\u001b[32;49m25.2\u001b[0m\n",
      "\u001b[1m[\u001b[0m\u001b[34;49mnotice\u001b[0m\u001b[1;39;49m]\u001b[0m\u001b[39;49m To update, run: \u001b[0m\u001b[32;49mpip install --upgrade pip\u001b[0m\n"
     ]
    }
   ],
   "source": [
    "!pip install jsoniq"
   ]
  },
  {
   "cell_type": "markdown",
   "metadata": {},
   "source": [
    "We now initialize a RumbleDB session and test that it works."
   ]
  },
  {
   "cell_type": "code",
   "execution_count": 2,
   "metadata": {},
   "outputs": [
    {
     "name": "stderr",
     "output_type": "stream",
     "text": [
      "WARNING: Using incubator modules: jdk.incubator.vector\n",
      ":: loading settings :: url = jar:file:/Users/ghislain/.pyenv/versions/3.11.9/lib/python3.11/site-packages/pyspark/jars/ivy-2.5.3.jar!/org/apache/ivy/core/settings/ivysettings.xml\n",
      "Ivy Default Cache set to: /Users/ghislain/.ivy2.5.2/cache\n",
      "The jars for the packages stored in: /Users/ghislain/.ivy2.5.2/jars\n",
      "io.delta#delta-spark_2.13 added as a dependency\n",
      ":: resolving dependencies :: org.apache.spark#spark-submit-parent-036ada57-26e0-4a3f-90ea-b37f8580587f;1.0\n",
      "\tconfs: [default]\n",
      "\tfound io.delta#delta-spark_2.13;4.0.0 in local-m2-cache\n",
      "\tfound io.delta#delta-storage;4.0.0 in local-m2-cache\n",
      "\tfound org.antlr#antlr4-runtime;4.13.1 in local-m2-cache\n",
      ":: resolution report :: resolve 68ms :: artifacts dl 3ms\n",
      "\t:: modules in use:\n",
      "\tio.delta#delta-spark_2.13;4.0.0 from local-m2-cache in [default]\n",
      "\tio.delta#delta-storage;4.0.0 from local-m2-cache in [default]\n",
      "\torg.antlr#antlr4-runtime;4.13.1 from local-m2-cache in [default]\n",
      "\t---------------------------------------------------------------------\n",
      "\t|                  |            modules            ||   artifacts   |\n",
      "\t|       conf       | number| search|dwnlded|evicted|| number|dwnlded|\n",
      "\t---------------------------------------------------------------------\n",
      "\t|      default     |   3   |   0   |   0   |   0   ||   3   |   0   |\n",
      "\t---------------------------------------------------------------------\n",
      ":: retrieving :: org.apache.spark#spark-submit-parent-036ada57-26e0-4a3f-90ea-b37f8580587f\n",
      "\tconfs: [default]\n",
      "\t0 artifacts copied, 3 already retrieved (0kB/3ms)\n",
      "25/08/21 15:18:59 WARN NativeCodeLoader: Unable to load native-hadoop library for your platform... using builtin-java classes where applicable\n",
      "Using Spark's default log4j profile: org/apache/spark/log4j2-defaults.properties\n",
      "Setting default log level to \"WARN\".\n",
      "To adjust logging level use sc.setLogLevel(newLevel). For SparkR, use setLogLevel(newLevel).\n"
     ]
    },
    {
     "name": "stdout",
     "output_type": "stream",
     "text": [
      "({'foo': [42]},)\n"
     ]
    }
   ],
   "source": [
    "from jsoniq import RumbleSession\n",
    "\n",
    "rumble = RumbleSession.builder.withDelta().getOrCreate();\n",
    "\n",
    "print(rumble.jsoniq('{ \"foo\": [ 6*7 ] }').json());"
   ]
  },
  {
   "cell_type": "markdown",
   "metadata": {},
   "source": [
    "For convenience, we also activate the JSONiq magic."
   ]
  },
  {
   "cell_type": "code",
   "execution_count": 3,
   "metadata": {},
   "outputs": [
    {
     "data": {
      "text/plain": [
       "JavaObject id=o46"
      ]
     },
     "execution_count": 3,
     "metadata": {},
     "output_type": "execute_result"
    }
   ],
   "source": [
    "%load_ext jsoniqmagic\n"
   ]
  },
  {
   "cell_type": "markdown",
   "metadata": {},
   "source": [
    "We create a new collection"
   ]
  },
  {
   "cell_type": "code",
   "execution_count": 5,
   "metadata": {},
   "outputs": [
    {
     "name": "stderr",
     "output_type": "stream",
     "text": [
      "                                                                                "
     ]
    },
    {
     "name": "stdout",
     "output_type": "stream",
     "text": [
      "Updates applied successfully.\n",
      "Response time: 3.293159008026123 ms\n"
     ]
    }
   ],
   "source": [
    "%%jsoniq -u -t\n",
    "create collection table(\"foo\") with for $i in 1000000 to 3000000 return { \"foo\" : $i, \"bar\" : [ \"Alice\", \"Bob\", \"Charlie\" ] }\n"
   ]
  },
  {
   "cell_type": "code",
   "execution_count": 6,
   "metadata": {},
   "outputs": [
    {
     "name": "stdout",
     "output_type": "stream",
     "text": [
      "+-------+--------------------+-------+----------+-----------------+--------+---------------+\n",
      "|    foo|                 bar|__rowID|__rowOrder|__mutabilityLevel|__pathIn|__tableLocation|\n",
      "+-------+--------------------+-------+----------+-----------------+--------+---------------+\n",
      "|1000000|[Alice, Bob, Char...|      0|       0.0|                0|        |            foo|\n",
      "|1000001|[Alice, Bob, Char...|      1|       1.0|                0|        |            foo|\n",
      "|1000002|[Alice, Bob, Char...|      2|       2.0|                0|        |            foo|\n",
      "|1000003|[Alice, Bob, Char...|      3|       3.0|                0|        |            foo|\n",
      "|1000004|[Alice, Bob, Char...|      4|       4.0|                0|        |            foo|\n",
      "|1000005|[Alice, Bob, Char...|      5|       5.0|                0|        |            foo|\n",
      "|1000006|[Alice, Bob, Char...|      6|       6.0|                0|        |            foo|\n",
      "|1000007|[Alice, Bob, Char...|      7|       7.0|                0|        |            foo|\n",
      "|1000008|[Alice, Bob, Char...|      8|       8.0|                0|        |            foo|\n",
      "|1000009|[Alice, Bob, Char...|      9|       9.0|                0|        |            foo|\n",
      "|1000010|[Alice, Bob, Char...|     10|      10.0|                0|        |            foo|\n",
      "|1000011|[Alice, Bob, Char...|     11|      11.0|                0|        |            foo|\n",
      "|1000012|[Alice, Bob, Char...|     12|      12.0|                0|        |            foo|\n",
      "|1000013|[Alice, Bob, Char...|     13|      13.0|                0|        |            foo|\n",
      "|1000014|[Alice, Bob, Char...|     14|      14.0|                0|        |            foo|\n",
      "|1000015|[Alice, Bob, Char...|     15|      15.0|                0|        |            foo|\n",
      "|1000016|[Alice, Bob, Char...|     16|      16.0|                0|        |            foo|\n",
      "|1000017|[Alice, Bob, Char...|     17|      17.0|                0|        |            foo|\n",
      "|1000018|[Alice, Bob, Char...|     18|      18.0|                0|        |            foo|\n",
      "|1000019|[Alice, Bob, Char...|     19|      19.0|                0|        |            foo|\n",
      "+-------+--------------------+-------+----------+-----------------+--------+---------------+\n",
      "only showing top 20 rows\n",
      "Response time: 0.8402128219604492 ms\n"
     ]
    }
   ],
   "source": [
    "%%jsoniq -df -t\n",
    "table(\"foo\")"
   ]
  },
  {
   "cell_type": "code",
   "execution_count": 7,
   "metadata": {},
   "outputs": [
    {
     "name": "stdout",
     "output_type": "stream",
     "text": [
      "+-------+\n",
      "|  value|\n",
      "+-------+\n",
      "|2000001|\n",
      "+-------+\n",
      "\n",
      "Response time: 0.18091177940368652 ms\n"
     ]
    }
   ],
   "source": [
    "%%jsoniq -df -t\n",
    "count(table(\"foo\"))"
   ]
  },
  {
   "cell_type": "markdown",
   "metadata": {},
   "source": [
    "We insert new data -- remember the snapshot semantics, all updates are computed against the original table, and then applied jointly."
   ]
  },
  {
   "cell_type": "code",
   "execution_count": 8,
   "metadata": {},
   "outputs": [
    {
     "name": "stderr",
     "output_type": "stream",
     "text": [
      "                                                                                "
     ]
    },
    {
     "name": "stdout",
     "output_type": "stream",
     "text": [
      "Updates applied successfully.\n",
      "Response time: 13.836093187332153 ms\n"
     ]
    }
   ],
   "source": [
    "%%jsoniq -u -t\n",
    "insert for $i in 4000000 to 6000000 return { \"foo\" : $i, \"bar\" : [ \"Alice\", \"Bob\", \"Charlie\" ] }\n",
    "  first into collection table(\"foo\"),\n",
    "insert for $i in 7000000 to 10000000 return { \"foo\" : $i, \"bar\" : [ \"Alice\", \"Bob\", \"Charlie\" ] }\n",
    "  last into collection table(\"foo\"),\n",
    "insert for $i in 11000000 to 13000000 return { \"foo\" : $i, \"bar\" : [ \"Alice\", \"Bob\", \"Charlie\" ] }\n",
    "  before table(\"foo\")[position() eq 2] into collection,\n",
    "insert for $i in 14000000 to 16000000 return { \"foo\" : $i, \"bar\" : [ \"Alice\", \"Bob\", \"Charlie\" ] }\n",
    "  after table(\"foo\")[position() eq 2] into collection\n"
   ]
  },
  {
   "cell_type": "code",
   "execution_count": 9,
   "metadata": {},
   "outputs": [
    {
     "name": "stdout",
     "output_type": "stream",
     "text": [
      "+-------+--------------------+-----------+----------+-----------------+--------+---------------+\n",
      "|    foo|                 bar|    __rowID|__rowOrder|__mutabilityLevel|__pathIn|__tableLocation|\n",
      "+-------+--------------------+-----------+----------+-----------------+--------+---------------+\n",
      "|4000000|[Alice, Bob, Char...|17183869187| -99999.95|                0|        |            foo|\n",
      "|4000001|[Alice, Bob, Char...|17183869188|  -99999.9|                0|        |            foo|\n",
      "|4000002|[Alice, Bob, Char...|17183869189| -99999.85|                0|        |            foo|\n",
      "|4000003|[Alice, Bob, Char...|17183869190|  -99999.8|                0|        |            foo|\n",
      "|4000004|[Alice, Bob, Char...|17183869191| -99999.75|                0|        |            foo|\n",
      "|4000005|[Alice, Bob, Char...|17183869192|  -99999.7|                0|        |            foo|\n",
      "|4000006|[Alice, Bob, Char...|17183869193| -99999.65|                0|        |            foo|\n",
      "|4000007|[Alice, Bob, Char...|17183869194|  -99999.6|                0|        |            foo|\n",
      "|4000008|[Alice, Bob, Char...|17183869195| -99999.55|                0|        |            foo|\n",
      "|4000009|[Alice, Bob, Char...|17183869196|  -99999.5|                0|        |            foo|\n",
      "|4000010|[Alice, Bob, Char...|17183869197| -99999.45|                0|        |            foo|\n",
      "|4000011|[Alice, Bob, Char...|17183869198|  -99999.4|                0|        |            foo|\n",
      "|4000012|[Alice, Bob, Char...|17183869199| -99999.35|                0|        |            foo|\n",
      "|4000013|[Alice, Bob, Char...|17183869200|  -99999.3|                0|        |            foo|\n",
      "|4000014|[Alice, Bob, Char...|17183869201| -99999.25|                0|        |            foo|\n",
      "|4000015|[Alice, Bob, Char...|17183869202|  -99999.2|                0|        |            foo|\n",
      "|4000016|[Alice, Bob, Char...|17183869203| -99999.15|                0|        |            foo|\n",
      "|4000017|[Alice, Bob, Char...|17183869204|  -99999.1|                0|        |            foo|\n",
      "|4000018|[Alice, Bob, Char...|17183869205| -99999.05|                0|        |            foo|\n",
      "|4000019|[Alice, Bob, Char...|17183869206|  -99999.0|                0|        |            foo|\n",
      "+-------+--------------------+-----------+----------+-----------------+--------+---------------+\n",
      "only showing top 20 rows\n",
      "Response time: 0.7082259654998779 ms\n"
     ]
    }
   ],
   "source": [
    "%%jsoniq -df -t\n",
    "table(\"foo\")"
   ]
  },
  {
   "cell_type": "code",
   "execution_count": 10,
   "metadata": {},
   "outputs": [
    {
     "name": "stdout",
     "output_type": "stream",
     "text": [
      "+--------+\n",
      "|   value|\n",
      "+--------+\n",
      "|11000005|\n",
      "+--------+\n",
      "\n",
      "Response time: 0.10588693618774414 ms\n"
     ]
    }
   ],
   "source": [
    "%%jsoniq -df -t\n",
    "count(table(\"foo\"))"
   ]
  },
  {
   "cell_type": "markdown",
   "metadata": {},
   "source": [
    "We delete a record"
   ]
  },
  {
   "cell_type": "code",
   "execution_count": 11,
   "metadata": {},
   "outputs": [
    {
     "name": "stdout",
     "output_type": "stream",
     "text": [
      "Updates applied successfully.\n",
      "Response time: 1.3398218154907227 ms\n"
     ]
    }
   ],
   "source": [
    "%%jsoniq -u -t\n",
    "delete table(\"foo\")[$$.foo eq 1500000] from collection"
   ]
  },
  {
   "cell_type": "code",
   "execution_count": 12,
   "metadata": {
    "scrolled": true
   },
   "outputs": [
    {
     "name": "stdout",
     "output_type": "stream",
     "text": [
      "+--------+\n",
      "|   value|\n",
      "+--------+\n",
      "|11000004|\n",
      "+--------+\n",
      "\n",
      "Response time: 0.22942113876342773 ms\n"
     ]
    }
   ],
   "source": [
    "%%jsoniq -df -t\n",
    "count(table(\"foo\"))"
   ]
  },
  {
   "cell_type": "markdown",
   "metadata": {},
   "source": [
    "We edit a record"
   ]
  },
  {
   "cell_type": "code",
   "execution_count": 13,
   "metadata": {},
   "outputs": [
    {
     "name": "stderr",
     "output_type": "stream",
     "text": [
      "                                                                                "
     ]
    },
    {
     "name": "stdout",
     "output_type": "stream",
     "text": [
      "Updates applied successfully.\n",
      "Response time: 1.5862219333648682 ms\n"
     ]
    }
   ],
   "source": [
    "%%jsoniq -u -t\n",
    "edit table(\"foo\")[$$.foo eq 1400000] into { \"foo\" : 22170000, \"bar\" : [ \"Alice\", \"Bob\", \"Daniel\" ] } in collection"
   ]
  },
  {
   "cell_type": "code",
   "execution_count": 14,
   "metadata": {},
   "outputs": [
    {
     "name": "stdout",
     "output_type": "stream",
     "text": [
      "{\n",
      "  \"foo\": 22170000,\n",
      "  \"bar\": [\n",
      "    \"Alice\",\n",
      "    \"Bob\",\n",
      "    \"Daniel\"\n",
      "  ]\n",
      "}\n"
     ]
    }
   ],
   "source": [
    "%%jsoniq\n",
    "table(\"foo\")[$$.foo eq 22170000]"
   ]
  },
  {
   "cell_type": "code",
   "execution_count": 15,
   "metadata": {},
   "outputs": [
    {
     "name": "stdout",
     "output_type": "stream",
     "text": [
      "+-------+--------------------+-----------+----------+-----------------+--------+---------------+\n",
      "|    foo|                 bar|    __rowID|__rowOrder|__mutabilityLevel|__pathIn|__tableLocation|\n",
      "+-------+--------------------+-----------+----------+-----------------+--------+---------------+\n",
      "|4000000|[Alice, Bob, Char...|17183869187| -99999.95|                0|        |            foo|\n",
      "|4000001|[Alice, Bob, Char...|17183869188|  -99999.9|                0|        |            foo|\n",
      "|4000002|[Alice, Bob, Char...|17183869189| -99999.85|                0|        |            foo|\n",
      "|4000003|[Alice, Bob, Char...|17183869190|  -99999.8|                0|        |            foo|\n",
      "|4000004|[Alice, Bob, Char...|17183869191| -99999.75|                0|        |            foo|\n",
      "|4000005|[Alice, Bob, Char...|17183869192|  -99999.7|                0|        |            foo|\n",
      "|4000006|[Alice, Bob, Char...|17183869193| -99999.65|                0|        |            foo|\n",
      "|4000007|[Alice, Bob, Char...|17183869194|  -99999.6|                0|        |            foo|\n",
      "|4000008|[Alice, Bob, Char...|17183869195| -99999.55|                0|        |            foo|\n",
      "|4000009|[Alice, Bob, Char...|17183869196|  -99999.5|                0|        |            foo|\n",
      "|4000010|[Alice, Bob, Char...|17183869197| -99999.45|                0|        |            foo|\n",
      "|4000011|[Alice, Bob, Char...|17183869198|  -99999.4|                0|        |            foo|\n",
      "|4000012|[Alice, Bob, Char...|17183869199| -99999.35|                0|        |            foo|\n",
      "|4000013|[Alice, Bob, Char...|17183869200|  -99999.3|                0|        |            foo|\n",
      "|4000014|[Alice, Bob, Char...|17183869201| -99999.25|                0|        |            foo|\n",
      "|4000015|[Alice, Bob, Char...|17183869202|  -99999.2|                0|        |            foo|\n",
      "|4000016|[Alice, Bob, Char...|17183869203| -99999.15|                0|        |            foo|\n",
      "|4000017|[Alice, Bob, Char...|17183869204|  -99999.1|                0|        |            foo|\n",
      "|4000018|[Alice, Bob, Char...|17183869205| -99999.05|                0|        |            foo|\n",
      "|4000019|[Alice, Bob, Char...|17183869206|  -99999.0|                0|        |            foo|\n",
      "+-------+--------------------+-----------+----------+-----------------+--------+---------------+\n",
      "only showing top 20 rows\n",
      "Response time: 0.6793951988220215 ms\n"
     ]
    }
   ],
   "source": [
    "%%jsoniq -df -t\n",
    "table(\"foo\")"
   ]
  },
  {
   "cell_type": "code",
   "execution_count": 16,
   "metadata": {},
   "outputs": [
    {
     "name": "stderr",
     "output_type": "stream",
     "text": [
      "                                                                                "
     ]
    },
    {
     "name": "stdout",
     "output_type": "stream",
     "text": [
      "Response time: 3.707296133041382 ms\n"
     ]
    }
   ],
   "source": [
    "%%jsoniq -t\n",
    "rename json table(\"foo\")[1].foo as \"bar2\";"
   ]
  },
  {
   "cell_type": "code",
   "execution_count": 17,
   "metadata": {},
   "outputs": [
    {
     "name": "stdout",
     "output_type": "stream",
     "text": [
      "+-------+--------------------+-----------+----------+-------+-----------------+--------+---------------+\n",
      "|    foo|                 bar|    __rowID|__rowOrder|   bar2|__mutabilityLevel|__pathIn|__tableLocation|\n",
      "+-------+--------------------+-----------+----------+-------+-----------------+--------+---------------+\n",
      "|   NULL|[Alice, Bob, Char...|17183869187| -99999.95|4000000|                0|        |            foo|\n",
      "|4000001|[Alice, Bob, Char...|17183869188|  -99999.9|   NULL|                0|        |            foo|\n",
      "|4000002|[Alice, Bob, Char...|17183869189| -99999.85|   NULL|                0|        |            foo|\n",
      "|4000003|[Alice, Bob, Char...|17183869190|  -99999.8|   NULL|                0|        |            foo|\n",
      "|4000004|[Alice, Bob, Char...|17183869191| -99999.75|   NULL|                0|        |            foo|\n",
      "|4000005|[Alice, Bob, Char...|17183869192|  -99999.7|   NULL|                0|        |            foo|\n",
      "|4000006|[Alice, Bob, Char...|17183869193| -99999.65|   NULL|                0|        |            foo|\n",
      "|4000007|[Alice, Bob, Char...|17183869194|  -99999.6|   NULL|                0|        |            foo|\n",
      "|4000008|[Alice, Bob, Char...|17183869195| -99999.55|   NULL|                0|        |            foo|\n",
      "|4000009|[Alice, Bob, Char...|17183869196|  -99999.5|   NULL|                0|        |            foo|\n",
      "|4000010|[Alice, Bob, Char...|17183869197| -99999.45|   NULL|                0|        |            foo|\n",
      "|4000011|[Alice, Bob, Char...|17183869198|  -99999.4|   NULL|                0|        |            foo|\n",
      "|4000012|[Alice, Bob, Char...|17183869199| -99999.35|   NULL|                0|        |            foo|\n",
      "|4000013|[Alice, Bob, Char...|17183869200|  -99999.3|   NULL|                0|        |            foo|\n",
      "|4000014|[Alice, Bob, Char...|17183869201| -99999.25|   NULL|                0|        |            foo|\n",
      "|4000015|[Alice, Bob, Char...|17183869202|  -99999.2|   NULL|                0|        |            foo|\n",
      "|4000016|[Alice, Bob, Char...|17183869203| -99999.15|   NULL|                0|        |            foo|\n",
      "|4000017|[Alice, Bob, Char...|17183869204|  -99999.1|   NULL|                0|        |            foo|\n",
      "|4000018|[Alice, Bob, Char...|17183869205| -99999.05|   NULL|                0|        |            foo|\n",
      "|4000019|[Alice, Bob, Char...|17183869206|  -99999.0|   NULL|                0|        |            foo|\n",
      "+-------+--------------------+-----------+----------+-------+-----------------+--------+---------------+\n",
      "only showing top 20 rows\n",
      "Response time: 0.6455399990081787 ms\n"
     ]
    }
   ],
   "source": [
    "%%jsoniq -df -t\n",
    "table(\"foo\")"
   ]
  },
  {
   "cell_type": "code",
   "execution_count": 18,
   "metadata": {},
   "outputs": [
    {
     "name": "stdout",
     "output_type": "stream",
     "text": [
      "Updates applied successfully.\n",
      "Response time: 0.035366058349609375 ms\n"
     ]
    }
   ],
   "source": [
    "%%jsoniq -u -t\n",
    "delete collection table(\"foo\")"
   ]
  },
  {
   "cell_type": "code",
   "execution_count": 28,
   "metadata": {},
   "outputs": [
    {
     "name": "stderr",
     "output_type": "stream",
     "text": [
      "                                                                                "
     ]
    },
    {
     "name": "stdout",
     "output_type": "stream",
     "text": [
      "Updates applied successfully.\n",
      "Response time: 0.905670166015625 ms\n"
     ]
    }
   ],
   "source": [
    "%%jsoniq -u -t\n",
    "create collection delta-file(\"foobar\") with for $i in 1000000 to 3000000 return { \"foo\" : $i, \"bar\" : [ \"Alice\", \"Bob\", \"Charlie\" ] }\n"
   ]
  },
  {
   "cell_type": "code",
   "execution_count": 29,
   "metadata": {},
   "outputs": [
    {
     "name": "stdout",
     "output_type": "stream",
     "text": [
      "+-------+--------------------+-------+----------+-----------------+--------+--------------------+\n",
      "|    foo|                 bar|__rowID|__rowOrder|__mutabilityLevel|__pathIn|     __tableLocation|\n",
      "+-------+--------------------+-------+----------+-----------------+--------+--------------------+\n",
      "|1000000|[Alice, Bob, Char...|      0|       0.0|                0|        |delta.`file:/User...|\n",
      "|1000001|[Alice, Bob, Char...|      1|       1.0|                0|        |delta.`file:/User...|\n",
      "|1000002|[Alice, Bob, Char...|      2|       2.0|                0|        |delta.`file:/User...|\n",
      "|1000003|[Alice, Bob, Char...|      3|       3.0|                0|        |delta.`file:/User...|\n",
      "|1000004|[Alice, Bob, Char...|      4|       4.0|                0|        |delta.`file:/User...|\n",
      "|1000005|[Alice, Bob, Char...|      5|       5.0|                0|        |delta.`file:/User...|\n",
      "|1000006|[Alice, Bob, Char...|      6|       6.0|                0|        |delta.`file:/User...|\n",
      "|1000007|[Alice, Bob, Char...|      7|       7.0|                0|        |delta.`file:/User...|\n",
      "|1000008|[Alice, Bob, Char...|      8|       8.0|                0|        |delta.`file:/User...|\n",
      "|1000009|[Alice, Bob, Char...|      9|       9.0|                0|        |delta.`file:/User...|\n",
      "|1000010|[Alice, Bob, Char...|     10|      10.0|                0|        |delta.`file:/User...|\n",
      "|1000011|[Alice, Bob, Char...|     11|      11.0|                0|        |delta.`file:/User...|\n",
      "|1000012|[Alice, Bob, Char...|     12|      12.0|                0|        |delta.`file:/User...|\n",
      "|1000013|[Alice, Bob, Char...|     13|      13.0|                0|        |delta.`file:/User...|\n",
      "|1000014|[Alice, Bob, Char...|     14|      14.0|                0|        |delta.`file:/User...|\n",
      "|1000015|[Alice, Bob, Char...|     15|      15.0|                0|        |delta.`file:/User...|\n",
      "|1000016|[Alice, Bob, Char...|     16|      16.0|                0|        |delta.`file:/User...|\n",
      "|1000017|[Alice, Bob, Char...|     17|      17.0|                0|        |delta.`file:/User...|\n",
      "|1000018|[Alice, Bob, Char...|     18|      18.0|                0|        |delta.`file:/User...|\n",
      "|1000019|[Alice, Bob, Char...|     19|      19.0|                0|        |delta.`file:/User...|\n",
      "+-------+--------------------+-------+----------+-----------------+--------+--------------------+\n",
      "only showing top 20 rows\n",
      "Response time: 0.3069188594818115 ms\n"
     ]
    }
   ],
   "source": [
    "%%jsoniq -df -t\n",
    "delta-file(\"foobar\")"
   ]
  },
  {
   "cell_type": "code",
   "execution_count": 30,
   "metadata": {},
   "outputs": [
    {
     "name": "stderr",
     "output_type": "stream",
     "text": [
      "                                                                                "
     ]
    },
    {
     "name": "stdout",
     "output_type": "stream",
     "text": [
      "Updates applied successfully.\n",
      "Response time: 12.24434494972229 ms\n"
     ]
    }
   ],
   "source": [
    "%%jsoniq -u -t\n",
    "insert for $i in 4000000 to 6000000 return { \"foo\" : $i, \"bar\" : [ \"Alice\", \"Bob\", \"Charlie\" ] }\n",
    "  first into collection delta-file(\"foobar\"),\n",
    "insert for $i in 7000000 to 10000000 return { \"foo\" : $i, \"bar\" : [ \"Alice\", \"Bob\", \"Charlie\" ] }\n",
    "  last into collection delta-file(\"foobar\"),\n",
    "insert for $i in 11000000 to 13000000 return { \"foo\" : $i, \"bar\" : [ \"Alice\", \"Bob\", \"Charlie\" ] }\n",
    "  before delta-file(\"foobar\")[position() eq 2] into collection,\n",
    "insert for $i in 14000000 to 16000000 return { \"foobar\" : $i, \"bar\" : [ \"Alice\", \"Bob\", \"Charlie\" ] }\n",
    "  after delta-file(\"foobar\")[position() eq 2] into collection\n"
   ]
  },
  {
   "cell_type": "code",
   "execution_count": 31,
   "metadata": {},
   "outputs": [
    {
     "name": "stdout",
     "output_type": "stream",
     "text": [
      "+-------+--------------------+-----------+----------+-----------------+--------+--------------------+\n",
      "|    foo|                 bar|    __rowID|__rowOrder|__mutabilityLevel|__pathIn|     __tableLocation|\n",
      "+-------+--------------------+-----------+----------+-----------------+--------+--------------------+\n",
      "|4000000|[Alice, Bob, Char...|17183869187| -99999.95|                0|        |delta.`file:/User...|\n",
      "|4000001|[Alice, Bob, Char...|17183869188|  -99999.9|                0|        |delta.`file:/User...|\n",
      "|4000002|[Alice, Bob, Char...|17183869189| -99999.85|                0|        |delta.`file:/User...|\n",
      "|4000003|[Alice, Bob, Char...|17183869190|  -99999.8|                0|        |delta.`file:/User...|\n",
      "|4000004|[Alice, Bob, Char...|17183869191| -99999.75|                0|        |delta.`file:/User...|\n",
      "|4000005|[Alice, Bob, Char...|17183869192|  -99999.7|                0|        |delta.`file:/User...|\n",
      "|4000006|[Alice, Bob, Char...|17183869193| -99999.65|                0|        |delta.`file:/User...|\n",
      "|4000007|[Alice, Bob, Char...|17183869194|  -99999.6|                0|        |delta.`file:/User...|\n",
      "|4000008|[Alice, Bob, Char...|17183869195| -99999.55|                0|        |delta.`file:/User...|\n",
      "|4000009|[Alice, Bob, Char...|17183869196|  -99999.5|                0|        |delta.`file:/User...|\n",
      "|4000010|[Alice, Bob, Char...|17183869197| -99999.45|                0|        |delta.`file:/User...|\n",
      "|4000011|[Alice, Bob, Char...|17183869198|  -99999.4|                0|        |delta.`file:/User...|\n",
      "|4000012|[Alice, Bob, Char...|17183869199| -99999.35|                0|        |delta.`file:/User...|\n",
      "|4000013|[Alice, Bob, Char...|17183869200|  -99999.3|                0|        |delta.`file:/User...|\n",
      "|4000014|[Alice, Bob, Char...|17183869201| -99999.25|                0|        |delta.`file:/User...|\n",
      "|4000015|[Alice, Bob, Char...|17183869202|  -99999.2|                0|        |delta.`file:/User...|\n",
      "|4000016|[Alice, Bob, Char...|17183869203| -99999.15|                0|        |delta.`file:/User...|\n",
      "|4000017|[Alice, Bob, Char...|17183869204|  -99999.1|                0|        |delta.`file:/User...|\n",
      "|4000018|[Alice, Bob, Char...|17183869205| -99999.05|                0|        |delta.`file:/User...|\n",
      "|4000019|[Alice, Bob, Char...|17183869206|  -99999.0|                0|        |delta.`file:/User...|\n",
      "+-------+--------------------+-----------+----------+-----------------+--------+--------------------+\n",
      "only showing top 20 rows\n",
      "Response time: 0.6701507568359375 ms\n"
     ]
    }
   ],
   "source": [
    "%%jsoniq -df -t\n",
    "delta-file(\"foobar\")"
   ]
  },
  {
   "cell_type": "code",
   "execution_count": 32,
   "metadata": {},
   "outputs": [
    {
     "name": "stderr",
     "output_type": "stream",
     "text": [
      "                                                                                "
     ]
    },
    {
     "name": "stdout",
     "output_type": "stream",
     "text": [
      "Updates applied successfully.\n",
      "Response time: 1.5392799377441406 ms\n"
     ]
    }
   ],
   "source": [
    "%%jsoniq -u -t\n",
    "delete delta-file(\"foobar\")[$$.foo eq 15000000] from collection"
   ]
  },
  {
   "cell_type": "code",
   "execution_count": 33,
   "metadata": {},
   "outputs": [
    {
     "name": "stdout",
     "output_type": "stream",
     "text": [
      "+-------+--------------------+-----------+----------+-----------------+--------+--------------------+\n",
      "|    foo|                 bar|    __rowID|__rowOrder|__mutabilityLevel|__pathIn|     __tableLocation|\n",
      "+-------+--------------------+-----------+----------+-----------------+--------+--------------------+\n",
      "|4000000|[Alice, Bob, Char...|17183869187| -99999.95|                0|        |delta.`file:/User...|\n",
      "|4000001|[Alice, Bob, Char...|17183869188|  -99999.9|                0|        |delta.`file:/User...|\n",
      "|4000002|[Alice, Bob, Char...|17183869189| -99999.85|                0|        |delta.`file:/User...|\n",
      "|4000003|[Alice, Bob, Char...|17183869190|  -99999.8|                0|        |delta.`file:/User...|\n",
      "|4000004|[Alice, Bob, Char...|17183869191| -99999.75|                0|        |delta.`file:/User...|\n",
      "|4000005|[Alice, Bob, Char...|17183869192|  -99999.7|                0|        |delta.`file:/User...|\n",
      "|4000006|[Alice, Bob, Char...|17183869193| -99999.65|                0|        |delta.`file:/User...|\n",
      "|4000007|[Alice, Bob, Char...|17183869194|  -99999.6|                0|        |delta.`file:/User...|\n",
      "|4000008|[Alice, Bob, Char...|17183869195| -99999.55|                0|        |delta.`file:/User...|\n",
      "|4000009|[Alice, Bob, Char...|17183869196|  -99999.5|                0|        |delta.`file:/User...|\n",
      "|4000010|[Alice, Bob, Char...|17183869197| -99999.45|                0|        |delta.`file:/User...|\n",
      "|4000011|[Alice, Bob, Char...|17183869198|  -99999.4|                0|        |delta.`file:/User...|\n",
      "|4000012|[Alice, Bob, Char...|17183869199| -99999.35|                0|        |delta.`file:/User...|\n",
      "|4000013|[Alice, Bob, Char...|17183869200|  -99999.3|                0|        |delta.`file:/User...|\n",
      "|4000014|[Alice, Bob, Char...|17183869201| -99999.25|                0|        |delta.`file:/User...|\n",
      "|4000015|[Alice, Bob, Char...|17183869202|  -99999.2|                0|        |delta.`file:/User...|\n",
      "|4000016|[Alice, Bob, Char...|17183869203| -99999.15|                0|        |delta.`file:/User...|\n",
      "|4000017|[Alice, Bob, Char...|17183869204|  -99999.1|                0|        |delta.`file:/User...|\n",
      "|4000018|[Alice, Bob, Char...|17183869205| -99999.05|                0|        |delta.`file:/User...|\n",
      "|4000019|[Alice, Bob, Char...|17183869206|  -99999.0|                0|        |delta.`file:/User...|\n",
      "+-------+--------------------+-----------+----------+-----------------+--------+--------------------+\n",
      "only showing top 20 rows\n",
      "Response time: 0.5831758975982666 ms\n"
     ]
    }
   ],
   "source": [
    "%%jsoniq -df -t\n",
    "delta-file(\"foobar\")"
   ]
  },
  {
   "cell_type": "code",
   "execution_count": 35,
   "metadata": {},
   "outputs": [
    {
     "name": "stdout",
     "output_type": "stream",
     "text": [
      "Updates applied successfully.\n",
      "Response time: 1.647326946258545 ms\n"
     ]
    }
   ],
   "source": [
    "%%jsoniq -u -t\n",
    "edit delta-file(\"foobar\")[$$.foo eq 1400000] into { \"foo\" : 17000000, \"bar\" : [ \"Alice\", \"Bob\", \"Daniel\" ] } in collection"
   ]
  },
  {
   "cell_type": "code",
   "execution_count": 36,
   "metadata": {},
   "outputs": [
    {
     "name": "stdout",
     "output_type": "stream",
     "text": [
      "+-------+--------------------+-----------+----------+-----------------+--------+--------------------+\n",
      "|    foo|                 bar|    __rowID|__rowOrder|__mutabilityLevel|__pathIn|     __tableLocation|\n",
      "+-------+--------------------+-----------+----------+-----------------+--------+--------------------+\n",
      "|4000000|[Alice, Bob, Char...|17183869187| -99999.95|                0|        |delta.`file:/User...|\n",
      "|4000001|[Alice, Bob, Char...|17183869188|  -99999.9|                0|        |delta.`file:/User...|\n",
      "|4000002|[Alice, Bob, Char...|17183869189| -99999.85|                0|        |delta.`file:/User...|\n",
      "|4000003|[Alice, Bob, Char...|17183869190|  -99999.8|                0|        |delta.`file:/User...|\n",
      "|4000004|[Alice, Bob, Char...|17183869191| -99999.75|                0|        |delta.`file:/User...|\n",
      "|4000005|[Alice, Bob, Char...|17183869192|  -99999.7|                0|        |delta.`file:/User...|\n",
      "|4000006|[Alice, Bob, Char...|17183869193| -99999.65|                0|        |delta.`file:/User...|\n",
      "|4000007|[Alice, Bob, Char...|17183869194|  -99999.6|                0|        |delta.`file:/User...|\n",
      "|4000008|[Alice, Bob, Char...|17183869195| -99999.55|                0|        |delta.`file:/User...|\n",
      "|4000009|[Alice, Bob, Char...|17183869196|  -99999.5|                0|        |delta.`file:/User...|\n",
      "|4000010|[Alice, Bob, Char...|17183869197| -99999.45|                0|        |delta.`file:/User...|\n",
      "|4000011|[Alice, Bob, Char...|17183869198|  -99999.4|                0|        |delta.`file:/User...|\n",
      "|4000012|[Alice, Bob, Char...|17183869199| -99999.35|                0|        |delta.`file:/User...|\n",
      "|4000013|[Alice, Bob, Char...|17183869200|  -99999.3|                0|        |delta.`file:/User...|\n",
      "|4000014|[Alice, Bob, Char...|17183869201| -99999.25|                0|        |delta.`file:/User...|\n",
      "|4000015|[Alice, Bob, Char...|17183869202|  -99999.2|                0|        |delta.`file:/User...|\n",
      "|4000016|[Alice, Bob, Char...|17183869203| -99999.15|                0|        |delta.`file:/User...|\n",
      "|4000017|[Alice, Bob, Char...|17183869204|  -99999.1|                0|        |delta.`file:/User...|\n",
      "|4000018|[Alice, Bob, Char...|17183869205| -99999.05|                0|        |delta.`file:/User...|\n",
      "|4000019|[Alice, Bob, Char...|17183869206|  -99999.0|                0|        |delta.`file:/User...|\n",
      "+-------+--------------------+-----------+----------+-----------------+--------+--------------------+\n",
      "only showing top 20 rows\n",
      "Response time: 0.5863802433013916 ms\n"
     ]
    }
   ],
   "source": [
    "%%jsoniq -df -t\n",
    "delta-file(\"foobar\")"
   ]
  },
  {
   "cell_type": "code",
   "execution_count": 37,
   "metadata": {},
   "outputs": [
    {
     "name": "stdout",
     "output_type": "stream",
     "text": [
      "Updates applied successfully.\n",
      "Response time: 0.03163290023803711 ms\n"
     ]
    }
   ],
   "source": [
    "%%jsoniq -u -t\n",
    "delete collection delta-file(\"foobar\")"
   ]
  },
  {
   "cell_type": "code",
   "execution_count": null,
   "metadata": {},
   "outputs": [],
   "source": []
  }
 ],
 "metadata": {
  "anaconda-cloud": {},
  "kernelspec": {
   "display_name": "Python 3 (ipykernel)",
   "language": "python",
   "name": "python3"
  },
  "language_info": {
   "codemirror_mode": {
    "name": "ipython",
    "version": 3
   },
   "file_extension": ".py",
   "mimetype": "text/x-python",
   "name": "python",
   "nbconvert_exporter": "python",
   "pygments_lexer": "ipython3",
   "version": "3.11.9"
  }
 },
 "nbformat": 4,
 "nbformat_minor": 4
}
