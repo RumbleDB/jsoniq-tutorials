{
 "cells": [
  {
   "cell_type": "markdown",
   "id": "49b54224-608b-4798-b5f2-7d4cf1c23f60",
   "metadata": {},
   "source": [
    "# Motivation"
   ]
  },
  {
   "cell_type": "markdown",
   "id": "8d2e20ac-ab2b-4971-9fb5-7f51d80785ea",
   "metadata": {},
   "source": [
    "## Where we are"
   ]
  },
  {
   "cell_type": "markdown",
   "id": "971e7ce8-d661-4e13-9574-bc9b3501830e",
   "metadata": {},
   "source": [
    "In several previous chapters, we studied the storage and processing of\n",
    "denormalized data: the syntax, the models, the validation, data frames.\n",
    "\n",
    "We also looked at document stores, which are database systems\n",
    "that manage denormalized data not as a data lake, but as ETL-based\n",
    "collections with an optimized storage format hidden from the user and\n",
    "additional managed features such as indices that make queries faster\n",
    "and document-level atomicity.\n",
    "\n",
    "If we now look at the stack we have built for denormalized data,\n",
    "both as data lake and as managed database systems, this is not fully\n",
    "satisfactory. Indeed, an important component is still missing, which is\n",
    "the query language. Indeed, with what we have covered, users are left\n",
    "with two options to handle denormalized datasets:\n",
    "\n",
    "- They can use an API within an imperative host language (e.g.,\n",
    "Pandas in Python, or the MongoDB API in JavaScript, or the\n",
    "Spark RDD API in Java or Scala).\n",
    "\n",
    "- Or they can push SQL, including ad-hoc extensions to support\n",
    "nestedness, to its limits.\n",
    "\n",
    "\n",
    "APIs are unsatisfactory for complex analytics use cases. They are\n",
    "very convenient and suitable for Data Engineers that implement more\n",
    "data management layers on top of these APIs, but they are not suitable\n",
    "for end users who want to run queries to analyse data\n",
    "\n",
    "There is agreement in the database community that SQL is more\n",
    "satisfactory for the case that data is flat and homogeneous (relational\n",
    "tables). Take the following query for example:\n",
    "\n",
    "```sql\n",
    "SELECT foo\n",
    "FROM input\n",
    "WHERE bar = \"foobar\"; \n",
    "```\n",
    "\n",
    "which is much simpler to write than the following lower-level equivalent in APIs. \n",
    "\n",
    "With Spark RDDs:\n",
    "\n",
    "```python\n",
    "rdd1 = sc.textFile(\"hdfs:///input.json\")\n",
    "rdd2 = rdd1.map(line => parseJSON(line))\n",
    "rdd3 = rdd2.filter(obj => obj.bar = \"foobar\")\n",
    "rdd4 = rdd3.map(obj => obj.foo)\n",
    "rdd4.saveAsTextFile(\"hdfs:///output.json\")\n",
    "```\n",
    "\n",
    "With the Spark DataFrame API:\n",
    "\n",
    "```python\n",
    "df1 = spark.read.json(\"hdfs:///input.json\")\n",
    "df2 = df1.filter(df1[’bar’] = \"foobar\")\n",
    "df3 = df2.select(df2[’foo’])\n",
    "df3.show()\n",
    "```\n",
    "\n",
    "Or even if nesting SQL in a host language, there is still additional logic needed to access the collection:\n",
    "\n",
    "```python\n",
    "df1 = spark.read.json(\"hdfs:///input.json\")\n",
    "df1.createGlobalTempView(\"input\")\n",
    "df2 = df1.sql(\"SELECT foo FROM input WHERE bar = ’foobar’ \")\n",
    "df2.show()\n",
    "```\n",
    "\n",
    "SQL, possibly extended with a few dots, lateral view syntax and explode-like functions, will work nicely for the most simple use cases. But as soon as more complex functionality is needed, e.g., the dataset is nested up to a depth of 10, or the user would like to denormalize a dataset from relational tables to a single, nested collection, or the user would like to explore and discover a dataset that is heterogeneous, this approach becomes intractable. At best, this leads to gigantic and hard-to-read SQL queries. At worst, there is no way to express the use case in SQL. In both cases, the user ends up writing most of the code in an imperative language, invoking the lower-level API or nesting and chaining simple blocks of SQL. A concrete example that such is the case in the real world is the high-energy-physics community, who are working with dataframes APIs rather than SQL in spite of their (nested) data being homogeneous.\n",
    "\n",
    "Here are a few examples of use cases that are simple enough to be\n",
    "manageable in Spark SQL, although they require some effort to be read\n",
    "and understood:\n",
    "\n",
    "```sql\n",
    "SELECT *\n",
    "FROM person\n",
    "LATERAL VIEW EXPLODE(ARRAY(30, 60)) tabelName AS c_age\n",
    "LATERAL VIEW EXPLODE(ARRAY(40, 80)) AS d_age;\n",
    "```\n",
    "\n",
    "and \n",
    "\n",
    "```sql\n",
    "SELECT key, values, collect_list(value + 1) AS values_plus_one\n",
    "FROM nested_data\n",
    "LATERAL VIEW explode(values) T AS value\n",
    "GROUP BY key, values\n",
    "```\n",
    "\n",
    "But let us look at another use case that is simple to express: in the GitHub dataset, for each event, what are all the commits by the top-committer within this event?\n",
    "\n",
    "In Spark SQL, this is what the query looks like:\n",
    "\n",
    "```sql\n",
    "WITH Commits AS (\n",
    "    SELECT\n",
    "        FORMAT('%s-%i', created_at, ROW_NUMBER() OVER(PARTITION BY created_at)) AS event_id,\n",
    "        payload.shas\n",
    "    FROM `bigquery-public-data.samples.github_nested`\n",
    "    WHERE ARRAY_LENGTH(payload.shas) > 0\n",
    "),\n",
    "CommitterFrequency AS (\n",
    "    SELECT\n",
    "        Commits.event_id AS event_id,\n",
    "        actor_email,\n",
    "        COUNT(*) AS commit_count\n",
    "    FROM Commits, UNNEST(shas)\n",
    "    GROUP BY event_id, actor_email\n",
    "),\n",
    "MaxCommitterFrequency AS (\n",
    "    SELECT\n",
    "        event_id,\n",
    "        MAX(commit_count) AS commit_count\n",
    "    FROM CommitterFrequency\n",
    "    GROUP BY event_id\n",
    "),\n",
    "TopCommitters AS (\n",
    "    SELECT\n",
    "        c.event_id,\n",
    "        ANY_VALUE(c.actor_email) AS actor_email\n",
    "    FROM CommitterFrequency c,\n",
    "         MaxCommitterFrequency m\n",
    "    WHERE c.event_id = m.event_id AND\n",
    "          c.commit_count = m.commit_count\n",
    "    GROUP BY c.event_id\n",
    "),\n",
    "TopCommitterCommits AS (\n",
    "    SELECT c.event_id, commits\n",
    "    FROM Commits c,\n",
    "         UNNEST(shas) AS commits,\n",
    "         TopCommitters tc\n",
    "    WHERE c.event_id = tc.event_id AND\n",
    "          commits.actor_email = tc.actor_email\n",
    ")\n",
    "SELECT ARRAY_AGG(commits) AS shas\n",
    "FROM TopCommitterCommits\n",
    "GROUP BY event_id;\n",
    "```\n",
    "\n",
    "In the language we will study in this chapter for denormalized data, this is how the query looks like. As you can see, it is much more compact and easier to read:\n",
    "\n",
    "```python\n",
    "for $e in $events\n",
    "let $top-committer := (\n",
    "  for $c in $e.commits[]\n",
    "  group by $c.author\n",
    "  stable order by count($c) descending\n",
    "  return $c.author)[1]\n",
    "  return [\n",
    "    $e.commits[][$$.author eq $top-committer]\n",
    "]\n",
    "```\n",
    "\n",
    "This language is called JSONiq and it is tailor-made for denormalized data. It offers a data-independent layer on top of both data lakes\n",
    "and ETL-based, database management systems, similar to what SQL offers for (flat and homogeneous) relational tables.\n",
    "\n",
    "98% of JSONiq is directly the same as a W3C standard, XQuery, which is a language offering this functionality for XML datasets. This functionality is the fruit of more than 20 years of work by a two-digitsized working group from many different companies, many of them with extensive SQL experience (or themselves SQL editors) who carefully discussed every single corner case, leading to a long and precise, publicly available specification. JSONiq is basically XQuery without XML and with (instead) JSON, similar to how one could bake a blueberry cake by using a strawberry cake recipe and simply replacing the strawberries with blueberries. This is a reminder that JSON and XML are very similar when it comes to querying, because both models are based on tree structures. JSONiq was born during the working group discussions on how to add support for maps and arrays to the language and became a standalone language optimized specifically for JSON. XQuery in its latest version supports maps and arrays, and is best suitable in an environment where both XML and JSON co-exist, which is out of scope in this course."
   ]
  },
  {
   "cell_type": "markdown",
   "id": "991773ff-e936-4c47-aa3f-56fd40411548",
   "metadata": {},
   "source": [
    "## Denormalized data"
   ]
  },
  {
   "attachments": {},
   "cell_type": "markdown",
   "id": "09ce17bb-a10c-47dd-9a44-3fc3dacc2c2e",
   "metadata": {},
   "source": [
    "What do we mean with denormalized data? Let us simply remind that\n",
    "it is characterized with two features: nestedness, and heterogeneity\n",
    "\n",
    "<div style=\"text-align: center;\">\n",
    "    <img src=\"https://raw.githubusercontent.com/RumbleDB/bigdata-exercises/master/Big_Data/JSONiq-Jupyter/Textbook_images/280.png\" alt=\"image\" style=\"width: 60%; height: auto;\">\n",
    "</div>\n",
    "\n",
    "Consider the following example of a JSON Lines dataset (note that\n",
    "the objects are displayed on multiple lines only so it fits on the printed\n",
    "page, in reality they would each be on a single line):\n",
    "\n",
    "<div style=\"text-align: left;\">\n",
    "\n",
    "```json\n",
    "{\n",
    "    \"Name\" : { \"First\" : \"Albert\", \"Last\" : \"Einstein\" },\n",
    "    \"Countries\" : [ \"D\", \"I\", \"CH\", \"A\", \"BE\", \"US\" ]\n",
    "}\n",
    "{\n",
    "    \"Name\" : { \"First\" : \"Srinivasa\", \"Last\" : \"Ramanujan\" },\n",
    "    \"Countries\" : [ \"IN\", \"UK\" ]\n",
    "}\n",
    "{\n",
    "    \"Name\" : { \"First\" : \"Kurt\", \"Last\" : \"G¨odel\" },\n",
    "    \"Countries\" : [ \"CZ\", \"A\", \"US\" ]\n",
    "}\n",
    "{\n",
    "    \"Name\" : { \"First\" : \"John\", \"Last\" : \"Nash\" },\n",
    "    \"Countries\" : \"US\"\n",
    "}\n",
    "{\n",
    "    \"Name\" : { \"First\" : \"Alan\", \"Last\" : \"Turing\" },\n",
    "    \"Countries\" : \"UK\"\n",
    "}\n",
    "{\n",
    "    \"Name\" : { \"First\" : \"Maryam\", \"Last\" : \"Mirzakhani\" },\n",
    "    \"Countries\" : [ \"IR\", \"US\" ]\n",
    "}\n",
    "{\n",
    "    \"Name\" : \"Pythagoras\",\n",
    "    \"Countries\" : [ \"GR\" ]\n",
    "}\n",
    "{\n",
    "    \"Name\" : { \"First\" : \"Nicolas\", \"Last\" : \"Bourbaki\" },\n",
    "    \"Number\" : 9,\n",
    "    \"Countries\" : null\n",
    "}\n",
    "```\n",
    "</div> <br>\n",
    "\n",
    "If one wants to put it in a DataFrame in order to use Spark SQL, this is what one will get:\n",
    "\n",
    "<div style=\"text-align: center;\">\n",
    "    <img src=\"https://raw.githubusercontent.com/RumbleDB/bigdata-exercises/master/Big_Data/JSONiq-Jupyter/Textbook_images/281.png\" alt=\"image\" style=\"width: 60%; height: auto;\">\n",
    "</div> \n",
    "\n",
    "As can be seen, the columns “Name” and “Countries” are typed as string, because the system could not deal with the fact that they contain a mix of atomic and structured types. What is in fact happening is that the burden of dealing with heterogeneity is pushed up to the end user, who will be forced to write a lot of additional code in the host language (Python, Java...) to attempt to parse back these strings one by one and decide what to do. This, in turn, is likely to force the user to make a heavy use of UDFs (User-Defined Functions), which are blackboxes that can be called from SQL and with user code inside. But UDFs are very inefficient compared to native SQL execution, because first they need to be registered and shipped to all nodes in the cluster (which not all distributed processing technologies can do efficiently), and second because the SQL optimizer has no idea of what there is inside, which prevents many (otherwise possible) optimizations from kicking in.\n",
    "\n",
    "In fact, denormalized datasets should not be seen as “broken tables pushed to their limits”, but rather as collections of trees.\n",
    "\n",
    "The GitHub archive dataset is a good illustration of this: it contains 2,900,000,000 events, each as a JSON document, taking 7.6 TB of space uncompressed. 10% of all the paths (you can think of them as “data frame columns” although, for a heterogeneous dataset, viewing it as a\n",
    "data frame is not very suitable) have mixed types. Furthermore, there are 1,300 such paths in total, although each event only uses 100 of them. One could think of fitting this into relational tables or dataframes with 1,300 attributes, but 1,300 is already beyond what many relational database systems can handle reasonably well."
   ]
  },
  {
   "cell_type": "markdown",
   "id": "a1da2001-51ec-407a-bd2b-fb066075a4eb",
   "metadata": {},
   "source": [
    "## Features of a query language"
   ]
  },
  {
   "cell_type": "markdown",
   "id": "9c91ef92-3609-462f-9b92-6aef3928f3e3",
   "metadata": {},
   "source": [
    "A query language for datasets has three main features."
   ]
  },
  {
   "cell_type": "markdown",
   "id": "c453dbb4-8e06-4a13-8988-49e967e66521",
   "metadata": {},
   "source": [
    "### Declarative"
   ]
  },
  {
   "cell_type": "markdown",
   "id": "ce115bcf-99f7-4c47-bf5c-a5ecf4c57a70",
   "metadata": {},
   "source": [
    "First, it is declarative. This means that the users do not focus on how the query is computed, but on what it should return. Thus, the database engine enjoys the flexibility to figure out the most efficient and fastest plan of execution to return the results."
   ]
  },
  {
   "cell_type": "markdown",
   "id": "3bbe4777-0b9a-4c8a-9248-d148c2734251",
   "metadata": {},
   "source": [
    "### Functional"
   ]
  },
  {
   "cell_type": "markdown",
   "id": "3b580f92-d2ab-412d-99d3-a7cdd94d32a4",
   "metadata": {},
   "source": [
    "Second, it is functional. This means that the query language is made of composable expressions that nest with each other, like a Lego game. Many, but not all, expressions can be seen as functions that take as input the output of their children expressions, and send their output to their parent expressions. However, the syntax of a good functional language should look nothing like a simple chain of function calls with parentheses and lambdas everywhere (this would then be an API, not a query language; examples of APIs are the Spark transformation APIs or Pandas): rather, expression syntax is carefully and naturally designed for ease of write and read. In complement to expressions (typically 20 or 30 different kinds of expressions), a rich function library (this time, with actual function call syntax) completes the expressions to a fully functional language."
   ]
  },
  {
   "cell_type": "markdown",
   "id": "c4483f29-de24-4f7f-8c5d-0b9310c4a37c",
   "metadata": {},
   "source": [
    "### Set-based"
   ]
  },
  {
   "cell_type": "markdown",
   "id": "152ed998-11ae-42be-a1eb-02a6a1439b2c",
   "metadata": {},
   "source": [
    "Finally, it is set-based, in the sense that the values taken and returned by expressions are not only single values (scalars), but are large sequences of items (in the case of SQL, an item is a row). In spite of the set-based terminology, set-based languages can still have bag or list semantics, in that they can allow for duplicates and sequences might be ordered on the logical level."
   ]
  },
  {
   "cell_type": "markdown",
   "id": "1d944e92-54b7-45c1-9dbe-a3e68f4f7431",
   "metadata": {},
   "source": [
    "## Query languages for denormalized data"
   ]
  },
  {
   "cell_type": "markdown",
   "id": "5a79df3b-c3ab-45e0-8032-99162bb199e5",
   "metadata": {},
   "source": [
    "The landscape for denormalized data querying is very different from that of structured, relational data: indeed, for structured data, SQL is undisputed.\n",
    "\n",
    "For denormalized data though, sadly, the number of languages keeps increasing: the oldest ones being XQuery, JSONiq, but then now also JMESPath, SpahQL, JSON Query, PartiQL, UnQL, N1QL, Object- Path, JSONPath, ArangoDB Query Language (AQL), SQL++, GraphQL, MRQL, Asterix Query Language (AQL), RQL. One day, we expect the market to consolidate.\n",
    "\n",
    "But the good news is that these languages share common features. In this course, we focus on JSONiq for several reasons:\n",
    "\n",
    "- It is fully documented;\n",
    " \n",
    "- Most of its syntax, semantics, function library and type system relies on a W3C standard (XPath/XQuery), meaning that a group of 30+ very smart people with expertise and experience on SQL swept into every corner to define the language;\n",
    " \n",
    "- It has several independent implementations.\n",
    "\n",
    "Having learned JSONiq, it will be very easy for the reader to learn any one of the other languages in the future."
   ]
  },
  {
   "cell_type": "markdown",
   "id": "d5f2356d-bb7a-4e39-b855-dffc9f1fa3ad",
   "metadata": {},
   "source": [
    "## JSONiq as a data calculator"
   ]
  },
  {
   "cell_type": "markdown",
   "id": "b946b8d6-267d-43a0-bb19-d99136a9b6bd",
   "metadata": {},
   "source": [
    "The smoothest start with JSONiq is to understand it as a data calculator.\n",
    "\n",
    "Run the cell below to connect to your Rumble server."
   ]
  },
  {
   "cell_type": "code",
   "execution_count": 1,
   "id": "608fd425-4cc6-47b8-a870-56474f30c2d2",
   "metadata": {},
   "outputs": [
    {
     "name": "stdout",
     "output_type": "stream",
     "text": [
      "env: RUMBLEDB_SERVER=http://rumble:9090/jsoniq\n"
     ]
    }
   ],
   "source": [
    "%load_ext rumbledb\n",
    "%env RUMBLEDB_SERVER=http://rumble:9090/jsoniq"
   ]
  },
  {
   "cell_type": "markdown",
   "id": "e4727414-2e22-4093-b759-9bb7570d667f",
   "metadata": {},
   "source": [
    "In particular, it can perform arithmetics"
   ]
  },
  {
   "cell_type": "code",
   "execution_count": 2,
   "id": "6d9f096e-0021-48ac-85e4-22ed8efa0941",
   "metadata": {
    "scrolled": true
   },
   "outputs": [
    {
     "name": "stdout",
     "output_type": "stream",
     "text": [
      "Took: 0.0337522029876709 ms\n",
      "2\n"
     ]
    }
   ],
   "source": [
    "%%jsoniq\n",
    "\n",
    "1 + 1 "
   ]
  },
  {
   "cell_type": "code",
   "execution_count": 3,
   "id": "aaa3a222-1688-4e36-805e-d481f50c5c1d",
   "metadata": {},
   "outputs": [
    {
     "name": "stdout",
     "output_type": "stream",
     "text": [
      "Took: 0.034287214279174805 ms\n",
      "11\n"
     ]
    }
   ],
   "source": [
    "%%jsoniq\n",
    "\n",
    "3+2*4"
   ]
  },
  {
   "cell_type": "markdown",
   "id": "340aa1d8-0886-4026-a6a0-0fa897cc19e2",
   "metadata": {},
   "source": [
    "but also comparison and logic:"
   ]
  },
  {
   "cell_type": "code",
   "execution_count": 4,
   "id": "9853d693-a9da-4109-83af-3799ef52a109",
   "metadata": {},
   "outputs": [
    {
     "name": "stdout",
     "output_type": "stream",
     "text": [
      "Took: 0.03225231170654297 ms\n",
      "true\n"
     ]
    }
   ],
   "source": [
    "%%jsoniq\n",
    "\n",
    "2 < 5 "
   ]
  },
  {
   "cell_type": "markdown",
   "id": "349ac8c8-093e-4808-ab94-b7b3e2261689",
   "metadata": {},
   "source": [
    "It is, however, more powerful than a common calculator and supports more complex constructs, for example variable binding:"
   ]
  },
  {
   "cell_type": "code",
   "execution_count": 5,
   "id": "9bfb5761-2da6-4737-ad76-a4e425398248",
   "metadata": {},
   "outputs": [
    {
     "name": "stdout",
     "output_type": "stream",
     "text": [
      "Took: 0.04697990417480469 ms\n",
      "3\n"
     ]
    }
   ],
   "source": [
    "%%jsoniq\n",
    "\n",
    "let $i := 2\n",
    "return $i + 1"
   ]
  },
  {
   "cell_type": "markdown",
   "id": "f850488c-1efb-46c5-a236-a9df8c49119d",
   "metadata": {},
   "source": [
    "It also supports all JSON values. Any copy-pasted JSON value literally returns itself:"
   ]
  },
  {
   "cell_type": "code",
   "execution_count": 6,
   "id": "8ec885ae-4069-4f01-9f43-4e3221dd556e",
   "metadata": {},
   "outputs": [
    {
     "name": "stdout",
     "output_type": "stream",
     "text": [
      "Took: 0.042824506759643555 ms\n",
      "[1, 2, 3]\n"
     ]
    }
   ],
   "source": [
    "%%jsoniq\n",
    "\n",
    "[ 1, 2, 3 ]"
   ]
  },
  {
   "cell_type": "code",
   "execution_count": 7,
   "id": "5e6414ee-bbd4-499b-95e7-596d7e086f91",
   "metadata": {},
   "outputs": [
    {
     "name": "stdout",
     "output_type": "stream",
     "text": [
      "Took: 0.0674588680267334 ms\n",
      "{\"foo\": 1}\n"
     ]
    }
   ],
   "source": [
    "%%jsoniq\n",
    "\n",
    "{ \"foo\" : 1 }"
   ]
  },
  {
   "cell_type": "markdown",
   "id": "0f6cacc3-500d-4928-abe0-918d07011354",
   "metadata": {},
   "source": [
    "Things start to become interesting with object and array navigation, with dots and square brackets:"
   ]
  },
  {
   "cell_type": "code",
   "execution_count": 8,
   "id": "277df689-af6b-4797-9db3-a8f2ea01be00",
   "metadata": {},
   "outputs": [
    {
     "name": "stdout",
     "output_type": "stream",
     "text": [
      "Took: 0.06833863258361816 ms\n",
      "1\n"
     ]
    }
   ],
   "source": [
    "%%jsoniq\n",
    "\n",
    "{ \"foo\" : 1 }.foo"
   ]
  },
  {
   "cell_type": "code",
   "execution_count": 9,
   "id": "a5548cc1-f8be-44d7-83a8-23b1330e9fd8",
   "metadata": {},
   "outputs": [
    {
     "name": "stdout",
     "output_type": "stream",
     "text": [
      "Took: 0.060555458068847656 ms\n",
      "3\n"
     ]
    }
   ],
   "source": [
    "%%jsoniq\n",
    "\n",
    "[3, 4, 5][[1]]"
   ]
  },
  {
   "cell_type": "code",
   "execution_count": 10,
   "id": "2c852042-08ff-418b-b7af-7f886bc39da3",
   "metadata": {},
   "outputs": [
    {
     "name": "stdout",
     "output_type": "stream",
     "text": [
      "Took: 0.043822526931762695 ms\n",
      "6\n"
     ]
    }
   ],
   "source": [
    "%%jsoniq\n",
    "\n",
    "{ \"foo\" : [ 3, 4, 5 ] }.foo[[1]] + 3"
   ]
  },
  {
   "cell_type": "markdown",
   "id": "957507e0-c3c7-4413-82d0-27b6172f81d7",
   "metadata": {},
   "source": [
    "Another difference with a calculator is that a query can return multiple items, as a sequence:"
   ]
  },
  {
   "cell_type": "code",
   "execution_count": 11,
   "id": "373ab07d-cc78-430d-94c5-6d12ed88984b",
   "metadata": {},
   "outputs": [
    {
     "name": "stdout",
     "output_type": "stream",
     "text": [
      "Took: 0.04198503494262695 ms\n",
      "3\n",
      "4\n",
      "5\n"
     ]
    }
   ],
   "source": [
    "%%jsoniq\n",
    "\n",
    "{ \"foo\" : [ 3, 4, 5 ] }.foo[]"
   ]
  },
  {
   "cell_type": "code",
   "execution_count": 12,
   "id": "4cd39336-b70d-434f-b4aa-63a0b89e16e3",
   "metadata": {},
   "outputs": [
    {
     "name": "stdout",
     "output_type": "stream",
     "text": [
      "Took: 0.038079023361206055 ms\n",
      "1\n",
      "2\n",
      "3\n",
      "4\n"
     ]
    }
   ],
   "source": [
    "%%jsoniq\n",
    "\n",
    "1 to 4"
   ]
  },
  {
   "cell_type": "code",
   "execution_count": 13,
   "id": "b306e637-581c-4d1a-a2d4-0d9330399b25",
   "metadata": {},
   "outputs": [
    {
     "name": "stdout",
     "output_type": "stream",
     "text": [
      "Took: 0.05246424674987793 ms\n",
      "{\"3\": 9}\n",
      "{\"4\": 16}\n",
      "{\"5\": 25}\n"
     ]
    }
   ],
   "source": [
    "%%jsoniq\n",
    "\n",
    "for $i in 3 to 5\n",
    "return { string($i) : $i * $i }"
   ]
  },
  {
   "cell_type": "code",
   "execution_count": 14,
   "id": "02d8ab88-d367-4fff-9eff-84d89af6a1b4",
   "metadata": {},
   "outputs": [
    {
     "name": "stdout",
     "output_type": "stream",
     "text": [
      "Took: 0.04096269607543945 ms\n",
      "{\"3\": 9}\n",
      "{\"4\": 16}\n",
      "{\"5\": 25}\n"
     ]
    }
   ],
   "source": [
    "%%jsoniq\n",
    "\n",
    "for $i in { \"foo\" : [ 3, 4, 5 ] }.foo[]\n",
    "return { string($i) : $i * $i }"
   ]
  },
  {
   "cell_type": "markdown",
   "id": "0134bc73-234e-428a-8881-44246101a4c6",
   "metadata": {},
   "source": [
    "And, unlike a calculator, it can access storage (data lakes, the Web, etc):\n",
    "\n",
    "```python\n",
    "keys(\n",
    "  for $i in json-file(\"s3://bucket/myfiles/json/*\")\n",
    "  return $i\n",
    ")\n",
    "```\n",
    "\n",
    "```python\n",
    "keys(\n",
    "  for $i in parquet-file(\n",
    "    \"s3://bucket/myfiles/parquet\"\n",
    "  )\n",
    "  return $i\n",
    ")\n",
    "```"
   ]
  },
  {
   "cell_type": "markdown",
   "id": "40cb575b-00fe-4bf8-bb0c-52769308b14f",
   "metadata": {},
   "source": [
    "# The JSONiq Data Model"
   ]
  },
  {
   "attachments": {},
   "cell_type": "markdown",
   "id": "eee9769f-59f5-4e29-a56e-e6f1d562123d",
   "metadata": {},
   "source": [
    "Every expression of the JSONiq “data calculator” returns a sequence of items. Always.\n",
    "\n",
    "<div style=\"text-align: center;\">\n",
    "    <img src=\"https://raw.githubusercontent.com/RumbleDB/bigdata-exercises/master/Big_Data/JSONiq-Jupyter/Textbook_images/282.png\" alt=\"image\" style=\"width: 60%; height: auto;\">\n",
    "</div> \n",
    "\n",
    "\n",
    "An item can be either an object, an array, an atomic item, or a function item. For the purpose of this course, we ignore function items, but it might interest the reader to know that function items can be used to represent Machine Learning models, as JSONiq can be used for training and testing models as well.\n",
    "\n",
    "Atomic items can be any of the “core” JSON types: strings, numbers (integers, decimals, doubles...), booleans and nulls, but JSONiq has a much richer type system, which we covered in Chapter 7 in the context of both JSound and XML Schema.\n",
    "\n",
    "Sequences of items are flat, in that sequences cannot be nested. But they scale massively and can contain billions or trillions of items. The only way to nest lists is to use arrays (which can be recursively nested). If you read the previous chapters, you can think of sequences as being similar to RDDs in Spark, or to JSON lines documents with billions of JSON objects.\n",
    "\n",
    "Sequences can be homogeneous (e.g., a million integers, or a million of JSON objects valid against a flat schema, logically equivalent\n",
    "to a relational table) or heterogeneous (a messy list of various items: objects, arrays, integers, etc).\n",
    "\n",
    "One item is logically the same as a sequence of one item. Thus, when we say that 1+1 returns 2, it in in fact means that it returns a singleton sequence with one item, which is the integer 2.\n",
    "\n",
    "A sequence can also be empty. Caution, the empty sequence is not the same logically as a null item."
   ]
  },
  {
   "cell_type": "markdown",
   "id": "8cb56036-7554-4407-b230-070f7c633aa1",
   "metadata": {},
   "source": [
    "# Navigation"
   ]
  },
  {
   "cell_type": "markdown",
   "id": "043d2c7b-4cda-448d-b173-7af1b80481ce",
   "metadata": {},
   "source": [
    "A good angle to start with JSONiq is to take a large dataset and discover its structure. The online sandbox has examples of this for the GitHub archive dataset, which is continuously growing. Each hour of log can be downloaded from URIs with the pattern\n",
    "\n",
    "https://data.gharchive.org/2022-11-01-0.json.gz\n",
    "\n",
    "where you can pick the year, month, date and hour of the day.\n",
    "\n",
    "For the purpose of this textbook, we will pick made-up data patterns to illustrate our point. Let us consider the following JSON document, consisting of a single, large JSON object (possibly on multiple line, as is common for single JSON documents). Let us assume it is named file.json."
   ]
  },
  {
   "cell_type": "code",
   "execution_count": 15,
   "id": "bdf0a285-d9c4-4a5e-85db-7c8f5bf10c2c",
   "metadata": {},
   "outputs": [],
   "source": [
    "import json\n",
    "\n",
    "# Define the JSON object \n",
    "json_obj = {\n",
    "  \"o\": [\n",
    "    {\n",
    "      \"a\": {\n",
    "        \"b\": [\n",
    "          { \"c\": 1, \"d\": \"a\" }\n",
    "        ]\n",
    "      }\n",
    "    },\n",
    "    {\n",
    "      \"a\": {\n",
    "        \"b\": [\n",
    "          { \"c\": 1, \"d\": \"f\" },\n",
    "          { \"c\": 2, \"d\": \"b\" }\n",
    "        ]\n",
    "      }\n",
    "    },\n",
    "    {\n",
    "      \"a\": {\n",
    "        \"b\": [\n",
    "          { \"c\": 4, \"d\": \"e\" },\n",
    "          { \"c\": 8, \"d\": \"d\" },\n",
    "          { \"c\": 3, \"d\": \"c\" }\n",
    "        ]\n",
    "      }\n",
    "    },\n",
    "    {\n",
    "      \"a\": {\n",
    "        \"b\": []\n",
    "      }\n",
    "    },\n",
    "    {\n",
    "      \"a\": {\n",
    "        \"b\": [\n",
    "          { \"c\": 3, \"d\": \"h\" },\n",
    "          { \"c\": 9, \"d\": \"z\" }\n",
    "        ]\n",
    "      }\n",
    "    },\n",
    "    {\n",
    "      \"a\": {\n",
    "        \"b\": [\n",
    "          { \"c\": 4, \"d\": \"g\" }\n",
    "        ]\n",
    "      }\n",
    "    },\n",
    "    {\n",
    "      \"a\": {\n",
    "        \"b\": [\n",
    "          { \"c\": 3, \"d\": \"l\" },\n",
    "          { \"c\": 1, \"d\": \"m\" },\n",
    "          { \"c\": 0, \"d\": \"k\" }\n",
    "        ]\n",
    "      }\n",
    "    }\n",
    "  ]\n",
    "}\n",
    "\n",
    "# Create the JSON file \n",
    "with open(\"file.json\", \"w\") as file:\n",
    "    json.dump(json_obj, file, indent=3)"
   ]
  },
  {
   "cell_type": "markdown",
   "id": "c9d2414f-a024-40d3-9bcb-2f431d6aa6a4",
   "metadata": {},
   "source": [
    "We can open this document and return its contents."
   ]
  },
  {
   "cell_type": "code",
   "execution_count": 16,
   "id": "73b3fead-363e-4af5-9c4e-120412415643",
   "metadata": {},
   "outputs": [
    {
     "name": "stdout",
     "output_type": "stream",
     "text": [
      "Took: 0.10423088073730469 ms\n",
      "{\"o\": [{\"a\": {\"b\": [{\"c\": 1, \"d\": \"a\"}]}}, {\"a\": {\"b\": [{\"c\": 1, \"d\": \"f\"}, {\"c\": 2, \"d\": \"b\"}]}}, {\"a\": {\"b\": [{\"c\": 4, \"d\": \"e\"}, {\"c\": 8, \"d\": \"d\"}, {\"c\": 3, \"d\": \"c\"}]}}, {\"a\": {\"b\": []}}, {\"a\": {\"b\": [{\"c\": 3, \"d\": \"h\"}, {\"c\": 9, \"d\": \"z\"}]}}, {\"a\": {\"b\": [{\"c\": 4, \"d\": \"g\"}]}}, {\"a\": {\"b\": [{\"c\": 3, \"d\": \"l\"}, {\"c\": 1, \"d\": \"m\"}, {\"c\": 0, \"d\": \"k\"}]}}]}\n"
     ]
    }
   ],
   "source": [
    "%%jsoniq \n",
    "\n",
    "json-doc(\"file.json\")"
   ]
  },
  {
   "cell_type": "markdown",
   "id": "80ad35a9-e905-4c78-933b-1b91fd39bd93",
   "metadata": {},
   "source": [
    "To display it in a more visual format, we run the following cell."
   ]
  },
  {
   "cell_type": "code",
   "execution_count": 17,
   "id": "a4afe820-f575-4325-a723-d43a3022eb9c",
   "metadata": {},
   "outputs": [
    {
     "name": "stdout",
     "output_type": "stream",
     "text": [
      "{\n",
      "   \"o\": [\n",
      "      {\n",
      "         \"a\": {\n",
      "            \"b\": [\n",
      "               {\n",
      "                  \"c\": 1,\n",
      "                  \"d\": \"a\"\n",
      "               }\n",
      "            ]\n",
      "         }\n",
      "      },\n",
      "      {\n",
      "         \"a\": {\n",
      "            \"b\": [\n",
      "               {\n",
      "                  \"c\": 1,\n",
      "                  \"d\": \"f\"\n",
      "               },\n",
      "               {\n",
      "                  \"c\": 2,\n",
      "                  \"d\": \"b\"\n",
      "               }\n",
      "            ]\n",
      "         }\n",
      "      },\n",
      "      {\n",
      "         \"a\": {\n",
      "            \"b\": [\n",
      "               {\n",
      "                  \"c\": 4,\n",
      "                  \"d\": \"e\"\n",
      "               },\n",
      "               {\n",
      "                  \"c\": 8,\n",
      "                  \"d\": \"d\"\n",
      "               },\n",
      "               {\n",
      "                  \"c\": 3,\n",
      "                  \"d\": \"c\"\n",
      "               }\n",
      "            ]\n",
      "         }\n",
      "      },\n",
      "      {\n",
      "         \"a\": {\n",
      "            \"b\": []\n",
      "         }\n",
      "      },\n",
      "      {\n",
      "         \"a\": {\n",
      "            \"b\": [\n",
      "               {\n",
      "                  \"c\": 3,\n",
      "                  \"d\": \"h\"\n",
      "               },\n",
      "               {\n",
      "                  \"c\": 9,\n",
      "                  \"d\": \"z\"\n",
      "               }\n",
      "            ]\n",
      "         }\n",
      "      },\n",
      "      {\n",
      "         \"a\": {\n",
      "            \"b\": [\n",
      "               {\n",
      "                  \"c\": 4,\n",
      "                  \"d\": \"g\"\n",
      "               }\n",
      "            ]\n",
      "         }\n",
      "      },\n",
      "      {\n",
      "         \"a\": {\n",
      "            \"b\": [\n",
      "               {\n",
      "                  \"c\": 3,\n",
      "                  \"d\": \"l\"\n",
      "               },\n",
      "               {\n",
      "                  \"c\": 1,\n",
      "                  \"d\": \"m\"\n",
      "               },\n",
      "               {\n",
      "                  \"c\": 0,\n",
      "                  \"d\": \"k\"\n",
      "               }\n",
      "            ]\n",
      "         }\n",
      "      }\n",
      "   ]\n",
      "}\n"
     ]
    }
   ],
   "source": [
    "# Read the JSON file\n",
    "with open(\"file.json\", \"r\") as file:\n",
    "    data = json.load(file)\n",
    "\n",
    "# Print the contents of the JSON file\n",
    "print(json.dumps(data, indent=3))"
   ]
  },
  {
   "cell_type": "markdown",
   "id": "d9139a12-84bc-470d-9ba0-5cbfc57a1ab7",
   "metadata": {},
   "source": [
    "We are going to start our dataset exploration with JSON navigation. Navigating semi-structured data is several decades old and was pioneered on XML with XPath. JSON navigation uses similar ideas, but is considerably simpler than XML navigation. The general idea of navigation is that it is possible to “dive” into the nested data with dots and square brackets (originally, these were slashes with XPath) – all in parallel: starting with an original collection of objects (or, possibly, a single document), each step (i.e., for each dot and each pair of square brackets) goes down the nested structure and returns another sequence of nested items.\n",
    "\n",
    "The experience feels like scanning the entire collection, moving down the nested structure in parallel<sup>1</sup>. Some steps might massively increase the sequence size (i.e., when unboxing arrays); some other steps might on the contrary contract the sequence to a smaller one (i.e., when filtering, or in the presence of heterogeneity when parts of the collection go deeper than others).\n",
    "\n",
    "---\n",
    "\n",
    "1. In XPath, it is possible to also move up the nested structure (e.g., with the\n",
    ".. syntax, similar to what is used in file system paths to go to parent directories),\n",
    "because there are backpointers to parent nodes, or to move aside to siblings. This\n",
    "is achieved with so-called “axes.” This feature does not typically exist in JSON\n",
    "models, in which one only goes down the trees to the children and descendants."
   ]
  },
  {
   "cell_type": "markdown",
   "id": "84c1d54b-8866-4ca8-86a4-0c955e23f186",
   "metadata": {},
   "source": [
    "## Object lookups (dot syntax)"
   ]
  },
  {
   "cell_type": "markdown",
   "id": "fa82f27f-f2ae-46db-9d13-759528d0f8c2",
   "metadata": {},
   "source": [
    "It is possible to navigate into objets with dots, similar to object-oriented programming. For example, this is how we can get the value associated with key o in the document (which is a sequence of one object)."
   ]
  },
  {
   "cell_type": "code",
   "execution_count": 18,
   "id": "0adb6081-7f8a-4324-97e6-a934e48e2bea",
   "metadata": {},
   "outputs": [
    {
     "name": "stdout",
     "output_type": "stream",
     "text": [
      "Took: 0.08969354629516602 ms\n",
      "[{\"a\": {\"b\": [{\"c\": 1, \"d\": \"a\"}]}}, {\"a\": {\"b\": [{\"c\": 1, \"d\": \"f\"}, {\"c\": 2, \"d\": \"b\"}]}}, {\"a\": {\"b\": [{\"c\": 4, \"d\": \"e\"}, {\"c\": 8, \"d\": \"d\"}, {\"c\": 3, \"d\": \"c\"}]}}, {\"a\": {\"b\": []}}, {\"a\": {\"b\": [{\"c\": 3, \"d\": \"h\"}, {\"c\": 9, \"d\": \"z\"}]}}, {\"a\": {\"b\": [{\"c\": 4, \"d\": \"g\"}]}}, {\"a\": {\"b\": [{\"c\": 3, \"d\": \"l\"}, {\"c\": 1, \"d\": \"m\"}, {\"c\": 0, \"d\": \"k\"}]}}]\n"
     ]
    }
   ],
   "source": [
    "%%jsoniq \n",
    "\n",
    "json-doc(\"file.json\").o"
   ]
  },
  {
   "cell_type": "markdown",
   "id": "da01bb29-11b7-443e-bbd8-abeccbcf7ecc",
   "metadata": {},
   "source": [
    "The above result can be displayed in a more readable way as follows "
   ]
  },
  {
   "cell_type": "markdown",
   "id": "90b9f012-8054-474b-8143-6006add16294",
   "metadata": {},
   "source": [
    "```json\n",
    "[\n",
    "  { \"a\": { \"b\": [ { \"c\": 1, \"d\": \"a\" } ] } },\n",
    "  { \"a\": { \"b\": [ { \"c\": 1, \"d\": \"f\" }, { \"c\": 2, \"d\": \"b\" } ] } },\n",
    "  { \"a\": { \"b\": [ { \"c\": 4, \"d\": \"e\" }, { \"c\": 8, \"d\": \"d\" }, { \"c\": 3, \"d\": \"c\" } ] } },\n",
    "  { \"a\": { \"b\": [ ] } },\n",
    "  { \"a\": { \"b\": [ { \"c\": 3, \"d\": \"h\" }, { \"c\": 9, \"d\": \"z\" } ] } },\n",
    "  { \"a\": { \"b\": [ { \"c\": 4, \"d\": \"g\" } ] } },\n",
    "  { \"a\": { \"b\": [ { \"c\": 3, \"d\": \"l\" }, { \"c\": 1, \"d\": \"m\" }, { \"c\": 0, \"d\": \"k\" } ] } }\n",
    "]\n",
    "```"
   ]
  },
  {
   "cell_type": "markdown",
   "id": "fb56aa7e-458a-470e-b63e-4a1d15819c0f",
   "metadata": {},
   "source": [
    "This returned an array, more precisely, a sequence of *one* array item."
   ]
  },
  {
   "cell_type": "markdown",
   "id": "f1f135ff-d4c6-469c-8153-a1b31d65bd8c",
   "metadata": {},
   "source": [
    "## Array unboxing (empty square bracket syntax)"
   ]
  },
  {
   "cell_type": "markdown",
   "id": "070d93b0-0764-49e7-a0a0-e5b960434e02",
   "metadata": {},
   "source": [
    "We can unbox the array, meaning, extract its members as a sequence of seven object items, with empty square brackets, like so:"
   ]
  },
  {
   "cell_type": "code",
   "execution_count": 19,
   "id": "5a017936-179e-43f4-87b3-ac42ad045154",
   "metadata": {},
   "outputs": [
    {
     "name": "stdout",
     "output_type": "stream",
     "text": [
      "Took: 0.10631704330444336 ms\n",
      "{\"a\": {\"b\": [{\"c\": 1, \"d\": \"a\"}]}}\n",
      "{\"a\": {\"b\": [{\"c\": 1, \"d\": \"f\"}, {\"c\": 2, \"d\": \"b\"}]}}\n",
      "{\"a\": {\"b\": [{\"c\": 4, \"d\": \"e\"}, {\"c\": 8, \"d\": \"d\"}, {\"c\": 3, \"d\": \"c\"}]}}\n",
      "{\"a\": {\"b\": []}}\n",
      "{\"a\": {\"b\": [{\"c\": 3, \"d\": \"h\"}, {\"c\": 9, \"d\": \"z\"}]}}\n",
      "{\"a\": {\"b\": [{\"c\": 4, \"d\": \"g\"}]}}\n",
      "{\"a\": {\"b\": [{\"c\": 3, \"d\": \"l\"}, {\"c\": 1, \"d\": \"m\"}, {\"c\": 0, \"d\": \"k\"}]}}\n"
     ]
    }
   ],
   "source": [
    "%%jsoniq \n",
    "\n",
    "json-doc(\"file.json\").o[]"
   ]
  },
  {
   "cell_type": "markdown",
   "id": "bccf3225-4b3d-42e1-9e98-98bd3dfab593",
   "metadata": {},
   "source": [
    "## Parallel navigation"
   ]
  },
  {
   "cell_type": "markdown",
   "id": "58b9746d-4eef-49a6-b6f1-08f66d5223bb",
   "metadata": {},
   "source": [
    "The dot syntax, in fact, works on sequences, too. It will extract the value associated with a key in every object of the sequence (anything else than an object is ignored and thrown away):"
   ]
  },
  {
   "cell_type": "code",
   "execution_count": 20,
   "id": "a5c2db39-697d-45fc-9542-a86b05b48d5b",
   "metadata": {},
   "outputs": [
    {
     "name": "stdout",
     "output_type": "stream",
     "text": [
      "Took: 0.08327984809875488 ms\n",
      "{\"b\": [{\"c\": 1, \"d\": \"a\"}]}\n",
      "{\"b\": [{\"c\": 1, \"d\": \"f\"}, {\"c\": 2, \"d\": \"b\"}]}\n",
      "{\"b\": [{\"c\": 4, \"d\": \"e\"}, {\"c\": 8, \"d\": \"d\"}, {\"c\": 3, \"d\": \"c\"}]}\n",
      "{\"b\": []}\n",
      "{\"b\": [{\"c\": 3, \"d\": \"h\"}, {\"c\": 9, \"d\": \"z\"}]}\n",
      "{\"b\": [{\"c\": 4, \"d\": \"g\"}]}\n",
      "{\"b\": [{\"c\": 3, \"d\": \"l\"}, {\"c\": 1, \"d\": \"m\"}, {\"c\": 0, \"d\": \"k\"}]}\n"
     ]
    }
   ],
   "source": [
    "%%jsoniq \n",
    "\n",
    "json-doc(\"file.json\").o[].a"
   ]
  },
  {
   "cell_type": "markdown",
   "id": "982d4a87-97ff-468f-a2ae-07a46ef63c59",
   "metadata": {},
   "source": [
    "Array unboxing works on sequences, too. Note how all the members are concatenated to a single, merged sequence, similar to a flatMap in Apache Spark."
   ]
  },
  {
   "cell_type": "code",
   "execution_count": 21,
   "id": "ffc6dbb9-d4d4-4433-b544-08e530ce510a",
   "metadata": {},
   "outputs": [
    {
     "name": "stdout",
     "output_type": "stream",
     "text": [
      "Took: 0.09607362747192383 ms\n",
      "{\"c\": 1, \"d\": \"a\"}\n",
      "{\"c\": 1, \"d\": \"f\"}\n",
      "{\"c\": 2, \"d\": \"b\"}\n",
      "{\"c\": 4, \"d\": \"e\"}\n",
      "{\"c\": 8, \"d\": \"d\"}\n",
      "{\"c\": 3, \"d\": \"c\"}\n",
      "{\"c\": 3, \"d\": \"h\"}\n",
      "{\"c\": 9, \"d\": \"z\"}\n",
      "{\"c\": 4, \"d\": \"g\"}\n",
      "{\"c\": 3, \"d\": \"l\"}\n",
      "{\"c\": 1, \"d\": \"m\"}\n",
      "{\"c\": 0, \"d\": \"k\"}\n"
     ]
    }
   ],
   "source": [
    "%%jsoniq \n",
    "\n",
    "json-doc(\"file.json\").o[].a.b[]"
   ]
  },
  {
   "cell_type": "markdown",
   "id": "3de58046-0f4f-45d5-ad84-f6c8700529a7",
   "metadata": {},
   "source": [
    "## Filtering with predicates (simple square bracket syntax)"
   ]
  },
  {
   "cell_type": "markdown",
   "id": "4a344c64-f6e4-40eb-ba38-c91213c885f1",
   "metadata": {},
   "source": [
    "It is possible to filter any sequence with a predicate, where $$ in the predicate refers to the current item being tested. Let us only keep those objects that associate c with 3:"
   ]
  },
  {
   "cell_type": "code",
   "execution_count": 22,
   "id": "04923f1a-4766-469c-8a4e-baebb708dbb2",
   "metadata": {},
   "outputs": [
    {
     "name": "stdout",
     "output_type": "stream",
     "text": [
      "Took: 0.1009969711303711 ms\n",
      "{\"c\": 3, \"d\": \"c\"}\n",
      "{\"c\": 3, \"d\": \"h\"}\n",
      "{\"c\": 3, \"d\": \"l\"}\n"
     ]
    }
   ],
   "source": [
    "%%jsoniq \n",
    "\n",
    "json-doc(\"file.json\").o[].a.b[][$$.c = 3]"
   ]
  },
  {
   "cell_type": "markdown",
   "id": "655d994a-7bec-462f-83f8-77c273909e15",
   "metadata": {},
   "source": [
    "It is also possible to access the item at position n in a sequence with this same notation: if what is inside the square brackets is a Boolean, then it acts as a filtering predicate; if it is an integer, it acts as a position:"
   ]
  },
  {
   "cell_type": "code",
   "execution_count": 23,
   "id": "b8ad4d33-0727-452f-8376-c6f66cf00326",
   "metadata": {},
   "outputs": [
    {
     "name": "stdout",
     "output_type": "stream",
     "text": [
      "Took: 0.1009361743927002 ms\n",
      "{\"c\": 8, \"d\": \"d\"}\n"
     ]
    }
   ],
   "source": [
    "%%jsoniq \n",
    "\n",
    "json-doc(\"file.json\").o[].a.b[][5]"
   ]
  },
  {
   "cell_type": "markdown",
   "id": "07cb8161-6c0e-474a-b36c-c29cf4e3c031",
   "metadata": {},
   "source": [
    "## Array lookup (double square bracket syntax)"
   ]
  },
  {
   "cell_type": "markdown",
   "id": "416c1220-0a2c-4807-aa40-d6bb18fc667e",
   "metadata": {},
   "source": [
    "To access the n-th member of an array, you can use double-squarebrackets, like so:"
   ]
  },
  {
   "cell_type": "code",
   "execution_count": 24,
   "id": "3ca019e3-77f5-468b-8fa1-2509d7e876c0",
   "metadata": {},
   "outputs": [
    {
     "name": "stdout",
     "output_type": "stream",
     "text": [
      "Took: 0.09721922874450684 ms\n",
      "{\"b\": [{\"c\": 1, \"d\": \"f\"}, {\"c\": 2, \"d\": \"b\"}]}\n"
     ]
    }
   ],
   "source": [
    "%%jsoniq \n",
    "\n",
    "json-doc(\"file.json\").o[[2]].a"
   ]
  },
  {
   "cell_type": "markdown",
   "id": "eb5c0cfd-2278-41e4-8ea4-7275c2ba6d67",
   "metadata": {},
   "source": [
    "Like dot object navigation and unboxing, double square brackets (array navigation) work with sequences as well. For any array that has less elements than the requested position, as well as for items that are not arrays, no items are contributed to the output:"
   ]
  },
  {
   "cell_type": "code",
   "execution_count": 25,
   "id": "92a4a229-d991-4b1c-9446-e3481870d7d6",
   "metadata": {},
   "outputs": [
    {
     "name": "stdout",
     "output_type": "stream",
     "text": [
      "Took: 0.0914607048034668 ms\n",
      "{\"c\": 2, \"d\": \"b\"}\n",
      "{\"c\": 8, \"d\": \"d\"}\n",
      "{\"c\": 9, \"d\": \"z\"}\n",
      "{\"c\": 1, \"d\": \"m\"}\n"
     ]
    }
   ],
   "source": [
    "%%jsoniq \n",
    "\n",
    "json-doc(\"file.json\").o[].a.b[[2]]"
   ]
  },
  {
   "cell_type": "markdown",
   "id": "1538ddd7-8af0-4414-b79e-5a1f6a98bf33",
   "metadata": {},
   "source": [
    "## A common pitfall: Array lookup vs. Sequence predicates"
   ]
  },
  {
   "cell_type": "markdown",
   "id": "81fdf7a4-9ee2-483d-8d8d-3384ead58a60",
   "metadata": {},
   "source": [
    "Do not confuse sequence positions (single square brackets) with array positions (double square brackets)! The difference is easy to see on a simple example involving a sequence of two arrays with two members each:"
   ]
  },
  {
   "cell_type": "code",
   "execution_count": 26,
   "id": "525ff56f-25eb-4a1a-b82a-c088e065df04",
   "metadata": {},
   "outputs": [
    {
     "name": "stdout",
     "output_type": "stream",
     "text": [
      "Took: 0.04576563835144043 ms\n",
      "[3, 4]\n"
     ]
    }
   ],
   "source": [
    "%%jsoniq \n",
    "\n",
    "([1, 2], [3, 4])[2]"
   ]
  },
  {
   "cell_type": "code",
   "execution_count": 27,
   "id": "d1166608-a7d0-47b1-b630-05cce2b9a8f7",
   "metadata": {},
   "outputs": [
    {
     "name": "stdout",
     "output_type": "stream",
     "text": [
      "Took: 0.05052518844604492 ms\n",
      "2\n",
      "4\n"
     ]
    }
   ],
   "source": [
    "%%jsoniq \n",
    "\n",
    "([1, 2], [3, 4])[[2]]"
   ]
  },
  {
   "cell_type": "markdown",
   "id": "9f26a1a5-0898-4fc5-9719-ea5e7e6d95f5",
   "metadata": {},
   "source": [
    "# Schema discovery"
   ]
  },
  {
   "cell_type": "markdown",
   "id": "03a06849-2203-4f12-81c8-b16d8ae81810",
   "metadata": {},
   "source": [
    "We now go on with more simple querying functionality related to discovering datasets with an unknown structure."
   ]
  },
  {
   "cell_type": "markdown",
   "id": "cde4dbcc-d47c-4b58-856a-d25541f9fdb7",
   "metadata": {},
   "source": [
    "## Collections"
   ]
  },
  {
   "cell_type": "markdown",
   "id": "1da5dfd1-9da0-414d-820e-b6f2f419ccf7",
   "metadata": {},
   "source": [
    "While there exist files that contain a single JSON document (or a single XML document), many datasets are in fact found in the form of large collections of smaller objects (as in document stores). \n",
    "\n",
    "Such collections are accessed with a function call together with a name or (if reading from a data lake) a path. In RumbleDB, a JSON Lines dataset is accessed with the function *json-file*."
   ]
  },
  {
   "cell_type": "code",
   "execution_count": 28,
   "id": "7cb77c7b-9d11-4f9c-98a5-9aeeba1fdf5c",
   "metadata": {
    "scrolled": true
   },
   "outputs": [
    {
     "name": "stdout",
     "output_type": "stream",
     "text": [
      "Took: 8.631576299667358 ms\n",
      "\"Warning! The output sequence contains 36577 items but its materialization was capped at 200 items. This value can be configured with the result-size parameter in the query string of the HTTP request.\"\n",
      "{\"id\": \"7045118886\", \"type\": \"PushEvent\", \"actor\": {\"id\": 20090775, \"login\": \"lainrose\", \"display_login\": \"lainrose\", \"gravatar_id\": \"\", \"url\": \"https://api.github.com/users/lainrose\", \"avatar_url\": \"https://avatars.githubusercontent.com/u/20090775?\"}, \"repo\": {\"id\": 115387592, \"name\": \"lainrose/Python-Grammar\", \"url\": \"https://api.github.com/repos/lainrose/Python-Grammar\"}, \"payload\": {\"push_id\": 2226161589, \"size\": 1, \"distinct_size\": 1, \"ref\": \"refs/heads/master\", \"head\": \"27a01fbdbec8e26daa40fc8faa052dd0be23836a\", \"before\": \"d6fce97b8de28a31d021c9a9f7ac939baa14d208\", \"commits\": [{\"sha\": \"27a01fbdbec8e26daa40fc8faa052dd0be23836a\", \"author\": {\"name\": \"lainrose\", \"email\": \"fb4676bf30682e2ece361fd363a69ad11779c42e@Naver.com\"}, \"message\": \"Update Study Contents\", \"distinct\": true, \"url\": \"https://api.github.com/repos/lainrose/Python-Grammar/commits/27a01fbdbec8e26daa40fc8faa052dd0be23836a\"}]}, \"public\": true, \"created_at\": \"2018-01-01T15:00:00Z\"}\n",
      "{\"id\": \"7045118891\", \"type\": \"PushEvent\", \"actor\": {\"id\": 17426563, \"login\": \"tumhopaasmere\", \"display_login\": \"tumhopaasmere\", \"gravatar_id\": \"\", \"url\": \"https://api.github.com/users/tumhopaasmere\", \"avatar_url\": \"https://avatars.githubusercontent.com/u/17426563?\"}, \"repo\": {\"id\": 115922595, \"name\": \"tumhopaasmere/tumhopaasmere\", \"url\": \"https://api.github.com/repos/tumhopaasmere/tumhopaasmere\"}, \"payload\": {\"push_id\": 2226161592, \"size\": 1, \"distinct_size\": 1, \"ref\": \"refs/heads/master\", \"head\": \"45b2f857540d7d4286d1abef204aef167190be0f\", \"before\": \"4988f2985f79262054178aa49c3f20b71aca5e8f\", \"commits\": [{\"sha\": \"45b2f857540d7d4286d1abef204aef167190be0f\", \"author\": {\"name\": \"tumhopaasmere\", \"email\": \"bcc6c59276ad7bbcd0b972dd58baaef7cccc22d4@mailinator.com\"}, \"message\": \"GIT CloneShare Commit\", \"distinct\": true, \"url\": \"https://api.github.com/repos/tumhopaasmere/tumhopaasmere/commits/45b2f857540d7d4286d1abef204aef167190be0f\"}]}, \"public\": true, \"created_at\": \"2018-01-01T15:00:00Z\"}\n",
      "{\"id\": \"7045118892\", \"type\": \"PullRequestEvent\", \"actor\": {\"id\": 1449578, \"login\": \"daa84\", \"display_login\": \"daa84\", \"gravatar_id\": \"\", \"url\": \"https://api.github.com/users/daa84\", \"avatar_url\": \"https://avatars.githubusercontent.com/u/1449578?\"}, \"repo\": {\"id\": 62063441, \"name\": \"daa84/neovim-gtk\", \"url\": \"https://api.github.com/repos/daa84/neovim-gtk\"}, \"payload\": {\"action\": \"closed\", \"number\": 40, \"pull_request\": {\"url\": \"https://api.github.com/repos/daa84/neovim-gtk/pulls/40\", \"id\": 160633855, \"html_url\": \"https://github.com/daa84/neovim-gtk/pull/40\", \"diff_url\": \"https://github.com/daa84/neovim-gtk/pull/40.diff\", \"patch_url\": \"https://github.com/daa84/neovim-gtk/pull/40.patch\", \"issue_url\": \"https://api.github.com/repos/daa84/neovim-gtk/issues/40\", \"number\": 40, \"state\": \"closed\", \"locked\": false, \"title\": \"Add RPC/GTK clipboard provider\", \"user\": {\"login\": \"myfreeweb\", \"id\": 208340, \"avatar_url\": \"https://avatars0.githubusercontent.com/u/208340?v=4\", \"gravatar_id\": \"\", \"url\": \"https://api.github.com/users/myfreeweb\", \"html_url\": \"https://github.com/myfreeweb\", \"followers_url\": \"https://api.github.com/users/myfreeweb/followers\", \"following_url\": \"https://api.github.com/users/myfreeweb/following{/other_user}\", \"gists_url\": \"https://api.github.com/users/myfreeweb/gists{/gist_id}\", \"starred_url\": \"https://api.github.com/users/myfreeweb/starred{/owner}{/repo}\", \"subscriptions_url\": \"https://api.github.com/users/myfreeweb/subscriptions\", \"organizations_url\": \"https://api.github.com/users/myfreeweb/orgs\", \"repos_url\": \"https://api.github.com/users/myfreeweb/repos\", \"events_url\": \"https://api.github.com/users/myfreeweb/events{/privacy}\", \"received_events_url\": \"https://api.github.com/users/myfreeweb/received_events\", \"type\": \"User\", \"site_admin\": false}, \"body\": \"Hi, just discovered this project recently, ligatures and native completion popups are great, I'm actually looking into switching from tmux + neovim in terminal to this + terminals in neovim :)\\r\\n\\r\\nTo avoid xclip usage on Wayland and to improve potential remote usage, it would be nice to have native gtk clipboard support. Here's my attempt :)\\r\\n\\r\\n- Can't have the UI borrowed mutably when waiting for the clipboard text, so I had to push the mutex locking down into the request handlers to be able to make the borrows work for the clipboard get command;\\r\\n- Using an `mpsc` channel basically as a future, to avoid extra dependencies; \\r\\n- I've tried placing the clipboard function into `runtime/autoload/providers/clipboard.vim`, but it didn't load for some reason\", \"created_at\": \"2018-01-01T00:38:08Z\", \"updated_at\": \"2018-01-01T14:59:59Z\", \"closed_at\": \"2018-01-01T14:59:59Z\", \"merged_at\": \"2018-01-01T14:59:59Z\", \"merge_commit_sha\": \"b88159630d016a7b7cb622c966cbbd4859c9bcd6\", \"assignee\": null, \"assignees\": [], \"requested_reviewers\": [], \"milestone\": null, \"commits_url\": \"https://api.github.com/repos/daa84/neovim-gtk/pulls/40/commits\", \"review_comments_url\": \"https://api.github.com/repos/daa84/neovim-gtk/pulls/40/comments\", \"review_comment_url\": \"https://api.github.com/repos/daa84/neovim-gtk/pulls/comments{/number}\", \"comments_url\": \"https://api.github.com/repos/daa84/neovim-gtk/issues/40/comments\", \"statuses_url\": \"https://api.github.com/repos/daa84/neovim-gtk/statuses/fbf662505997cc6af2e7f8ddb7e8893da622652c\", \"head\": {\"label\": \"myfreeweb:gtk-clipboard\", \"ref\": \"gtk-clipboard\", \"sha\": \"fbf662505997cc6af2e7f8ddb7e8893da622652c\", \"user\": {\"login\": \"myfreeweb\", \"id\": 208340, \"avatar_url\": \"https://avatars0.githubusercontent.com/u/208340?v=4\", \"gravatar_id\": \"\", \"url\": \"https://api.github.com/users/myfreeweb\", \"html_url\": \"https://github.com/myfreeweb\", \"followers_url\": \"https://api.github.com/users/myfreeweb/followers\", \"following_url\": \"https://api.github.com/users/myfreeweb/following{/other_user}\", \"gists_url\": \"https://api.github.com/users/myfreeweb/gists{/gist_id}\", \"starred_url\": \"https://api.github.com/users/myfreeweb/starred{/owner}{/repo}\", \"subscriptions_url\": \"https://api.github.com/users/myfreeweb/subscriptions\", \"organizations_url\": \"https://api.github.com/users/myfreeweb/orgs\", \"repos_url\": \"https://api.github.com/users/myfreeweb/repos\", \"events_url\": \"https://api.github.com/users/myfreeweb/events{/privacy}\", \"received_events_url\": \"https://api.github.com/users/myfreeweb/received_events\", \"type\": \"User\", \"site_admin\": false}, \"repo\": {\"id\": 115889489, \"name\": \"neovim-gtk\", \"full_name\": \"myfreeweb/neovim-gtk\", \"owner\": {\"login\": \"myfreeweb\", \"id\": 208340, \"avatar_url\": \"https://avatars0.githubusercontent.com/u/208340?v=4\", \"gravatar_id\": \"\", \"url\": \"https://api.github.com/users/myfreeweb\", \"html_url\": \"https://github.com/myfreeweb\", \"followers_url\": \"https://api.github.com/users/myfreeweb/followers\", \"following_url\": \"https://api.github.com/users/myfreeweb/following{/other_user}\", \"gists_url\": \"https://api.github.com/users/myfreeweb/gists{/gist_id}\", \"starred_url\": \"https://api.github.com/users/myfreeweb/starred{/owner}{/repo}\", \"subscriptions_url\": \"https://api.github.com/users/myfreeweb/subscriptions\", \"organizations_url\": \"https://api.github.com/users/myfreeweb/orgs\", \"repos_url\": \"https://api.github.com/users/myfreeweb/repos\", \"events_url\": \"https://api.github.com/users/myfreeweb/events{/privacy}\", \"received_events_url\": \"https://api.github.com/users/myfreeweb/received_events\", \"type\": \"User\", \"site_admin\": false}, \"private\": false, \"html_url\": \"https://github.com/myfreeweb/neovim-gtk\", \"description\": \"gtk ui for neovim\", \"fork\": true, \"url\": \"https://api.github.com/repos/myfreeweb/neovim-gtk\", \"forks_url\": \"https://api.github.com/repos/myfreeweb/neovim-gtk/forks\", \"keys_url\": \"https://api.github.com/repos/myfreeweb/neovim-gtk/keys{/key_id}\", \"collaborators_url\": \"https://api.github.com/repos/myfreeweb/neovim-gtk/collaborators{/collaborator}\", \"teams_url\": \"https://api.github.com/repos/myfreeweb/neovim-gtk/teams\", \"hooks_url\": \"https://api.github.com/repos/myfreeweb/neovim-gtk/hooks\", \"issue_events_url\": \"https://api.github.com/repos/myfreeweb/neovim-gtk/issues/events{/number}\", \"events_url\": \"https://api.github.com/repos/myfreeweb/neovim-gtk/events\", \"assignees_url\": \"https://api.github.com/repos/myfreeweb/neovim-gtk/assignees{/user}\", \"branches_url\": \"https://api.github.com/repos/myfreeweb/neovim-gtk/branches{/branch}\", \"tags_url\": \"https://api.github.com/repos/myfreeweb/neovim-gtk/tags\", \"blobs_url\": \"https://api.github.com/repos/myfreeweb/neovim-gtk/git/blobs{/sha}\", \"git_tags_url\": \"https://api.github.com/repos/myfreeweb/neovim-gtk/git/tags{/sha}\", \"git_refs_url\": \"https://api.github.com/repos/myfreeweb/neovim-gtk/git/refs{/sha}\", \"trees_url\": \"https://api.github.com/repos/myfreeweb/neovim-gtk/git/trees{/sha}\", \"statuses_url\": \"https://api.github.com/repos/myfreeweb/neovim-gtk/statuses/{sha}\", \"languages_url\": \"https://api.github.com/repos/myfreeweb/neovim-gtk/languages\", \"stargazers_url\": \"https://api.github.com/repos/myfreeweb/neovim-gtk/stargazers\", \"contributors_url\": \"https://api.github.com/repos/myfreeweb/neovim-gtk/contributors\", \"subscribers_url\": \"https://api.github.com/repos/myfreeweb/neovim-gtk/subscribers\", \"subscription_url\": \"https://api.github.com/repos/myfreeweb/neovim-gtk/subscription\", \"commits_url\": \"https://api.github.com/repos/myfreeweb/neovim-gtk/commits{/sha}\", \"git_commits_url\": \"https://api.github.com/repos/myfreeweb/neovim-gtk/git/commits{/sha}\", \"comments_url\": \"https://api.github.com/repos/myfreeweb/neovim-gtk/comments{/number}\", \"issue_comment_url\": \"https://api.github.com/repos/myfreeweb/neovim-gtk/issues/comments{/number}\", \"contents_url\": \"https://api.github.com/repos/myfreeweb/neovim-gtk/contents/{+path}\", \"compare_url\": \"https://api.github.com/repos/myfreeweb/neovim-gtk/compare/{base}...{head}\", \"merges_url\": \"https://api.github.com/repos/myfreeweb/neovim-gtk/merges\", \"archive_url\": \"https://api.github.com/repos/myfreeweb/neovim-gtk/{archive_format}{/ref}\", \"downloads_url\": \"https://api.github.com/repos/myfreeweb/neovim-gtk/downloads\", \"issues_url\": \"https://api.github.com/repos/myfreeweb/neovim-gtk/issues{/number}\", \"pulls_url\": \"https://api.github.com/repos/myfreeweb/neovim-gtk/pulls{/number}\", \"milestones_url\": \"https://api.github.com/repos/myfreeweb/neovim-gtk/milestones{/number}\", \"notifications_url\": \"https://api.github.com/repos/myfreeweb/neovim-gtk/notifications{?since,all,participating}\", \"labels_url\": \"https://api.github.com/repos/myfreeweb/neovim-gtk/labels{/name}\", \"releases_url\": \"https://api.github.com/repos/myfreeweb/neovim-gtk/releases{/id}\", \"deployments_url\": \"https://api.github.com/repos/myfreeweb/neovim-gtk/deployments\", \"created_at\": \"2017-12-31T23:11:00Z\", \"updated_at\": \"2017-12-31T23:11:02Z\", \"pushed_at\": \"2018-01-01T12:33:29Z\", \"git_url\": \"git://github.com/myfreeweb/neovim-gtk.git\", \"ssh_url\": \"git@github.com:myfreeweb/neovim-gtk.git\", \"clone_url\": \"https://github.com/myfreeweb/neovim-gtk.git\", \"svn_url\": \"https://github.com/myfreeweb/neovim-gtk\", \"homepage\": null, \"size\": 2051, \"stargazers_count\": 0, \"watchers_count\": 0, \"language\": \"Rust\", \"has_issues\": false, \"has_projects\": true, \"has_downloads\": true, \"has_wiki\": true, \"has_pages\": false, \"forks_count\": 0, \"mirror_url\": null, \"archived\": false, \"open_issues_count\": 0, \"license\": null, \"forks\": 0, \"open_issues\": 0, \"watchers\": 0, \"default_branch\": \"master\"}}, \"base\": {\"label\": \"daa84:master\", \"ref\": \"master\", \"sha\": \"30ccc4b62cafac800c201f9f079405702ff87dde\", \"user\": {\"login\": \"daa84\", \"id\": 1449578, \"avatar_url\": \"https://avatars0.githubusercontent.com/u/1449578?v=4\", \"gravatar_id\": \"\", \"url\": \"https://api.github.com/users/daa84\", \"html_url\": \"https://github.com/daa84\", \"followers_url\": \"https://api.github.com/users/daa84/followers\", \"following_url\": \"https://api.github.com/users/daa84/following{/other_user}\", \"gists_url\": \"https://api.github.com/users/daa84/gists{/gist_id}\", \"starred_url\": \"https://api.github.com/users/daa84/starred{/owner}{/repo}\", \"subscriptions_url\": \"https://api.github.com/users/daa84/subscriptions\", \"organizations_url\": \"https://api.github.com/users/daa84/orgs\", \"repos_url\": \"https://api.github.com/users/daa84/repos\", \"events_url\": \"https://api.github.com/users/daa84/events{/privacy}\", \"received_events_url\": \"https://api.github.com/users/daa84/received_events\", \"type\": \"User\", \"site_admin\": false}, \"repo\": {\"id\": 62063441, \"name\": \"neovim-gtk\", \"full_name\": \"daa84/neovim-gtk\", \"owner\": {\"login\": \"daa84\", \"id\": 1449578, \"avatar_url\": \"https://avatars0.githubusercontent.com/u/1449578?v=4\", \"gravatar_id\": \"\", \"url\": \"https://api.github.com/users/daa84\", \"html_url\": \"https://github.com/daa84\", \"followers_url\": \"https://api.github.com/users/daa84/followers\", \"following_url\": \"https://api.github.com/users/daa84/following{/other_user}\", \"gists_url\": \"https://api.github.com/users/daa84/gists{/gist_id}\", \"starred_url\": \"https://api.github.com/users/daa84/starred{/owner}{/repo}\", \"subscriptions_url\": \"https://api.github.com/users/daa84/subscriptions\", \"organizations_url\": \"https://api.github.com/users/daa84/orgs\", \"repos_url\": \"https://api.github.com/users/daa84/repos\", \"events_url\": \"https://api.github.com/users/daa84/events{/privacy}\", \"received_events_url\": \"https://api.github.com/users/daa84/received_events\", \"type\": \"User\", \"site_admin\": false}, \"private\": false, \"html_url\": \"https://github.com/daa84/neovim-gtk\", \"description\": \"gtk ui for neovim\", \"fork\": false, \"url\": \"https://api.github.com/repos/daa84/neovim-gtk\", \"forks_url\": \"https://api.github.com/repos/daa84/neovim-gtk/forks\", \"keys_url\": \"https://api.github.com/repos/daa84/neovim-gtk/keys{/key_id}\", \"collaborators_url\": \"https://api.github.com/repos/daa84/neovim-gtk/collaborators{/collaborator}\", \"teams_url\": \"https://api.github.com/repos/daa84/neovim-gtk/teams\", \"hooks_url\": \"https://api.github.com/repos/daa84/neovim-gtk/hooks\", \"issue_events_url\": \"https://api.github.com/repos/daa84/neovim-gtk/issues/events{/number}\", \"events_url\": \"https://api.github.com/repos/daa84/neovim-gtk/events\", \"assignees_url\": \"https://api.github.com/repos/daa84/neovim-gtk/assignees{/user}\", \"branches_url\": \"https://api.github.com/repos/daa84/neovim-gtk/branches{/branch}\", \"tags_url\": \"https://api.github.com/repos/daa84/neovim-gtk/tags\", \"blobs_url\": \"https://api.github.com/repos/daa84/neovim-gtk/git/blobs{/sha}\", \"git_tags_url\": \"https://api.github.com/repos/daa84/neovim-gtk/git/tags{/sha}\", \"git_refs_url\": \"https://api.github.com/repos/daa84/neovim-gtk/git/refs{/sha}\", \"trees_url\": \"https://api.github.com/repos/daa84/neovim-gtk/git/trees{/sha}\", \"statuses_url\": \"https://api.github.com/repos/daa84/neovim-gtk/statuses/{sha}\", \"languages_url\": \"https://api.github.com/repos/daa84/neovim-gtk/languages\", \"stargazers_url\": \"https://api.github.com/repos/daa84/neovim-gtk/stargazers\", \"contributors_url\": \"https://api.github.com/repos/daa84/neovim-gtk/contributors\", \"subscribers_url\": \"https://api.github.com/repos/daa84/neovim-gtk/subscribers\", \"subscription_url\": \"https://api.github.com/repos/daa84/neovim-gtk/subscription\", \"commits_url\": \"https://api.github.com/repos/daa84/neovim-gtk/commits{/sha}\", \"git_commits_url\": \"https://api.github.com/repos/daa84/neovim-gtk/git/commits{/sha}\", \"comments_url\": \"https://api.github.com/repos/daa84/neovim-gtk/comments{/number}\", \"issue_comment_url\": \"https://api.github.com/repos/daa84/neovim-gtk/issues/comments{/number}\", \"contents_url\": \"https://api.github.com/repos/daa84/neovim-gtk/contents/{+path}\", \"compare_url\": \"https://api.github.com/repos/daa84/neovim-gtk/compare/{base}...{head}\", \"merges_url\": \"https://api.github.com/repos/daa84/neovim-gtk/merges\", \"archive_url\": \"https://api.github.com/repos/daa84/neovim-gtk/{archive_format}{/ref}\", \"downloads_url\": \"https://api.github.com/repos/daa84/neovim-gtk/downloads\", \"issues_url\": \"https://api.github.com/repos/daa84/neovim-gtk/issues{/number}\", \"pulls_url\": \"https://api.github.com/repos/daa84/neovim-gtk/pulls{/number}\", \"milestones_url\": \"https://api.github.com/repos/daa84/neovim-gtk/milestones{/number}\", \"notifications_url\": \"https://api.github.com/repos/daa84/neovim-gtk/notifications{?since,all,participating}\", \"labels_url\": \"https://api.github.com/repos/daa84/neovim-gtk/labels{/name}\", \"releases_url\": \"https://api.github.com/repos/daa84/neovim-gtk/releases{/id}\", \"deployments_url\": \"https://api.github.com/repos/daa84/neovim-gtk/deployments\", \"created_at\": \"2016-06-27T14:43:24Z\", \"updated_at\": \"2018-01-01T13:14:12Z\", \"pushed_at\": \"2018-01-01T14:59:59Z\", \"git_url\": \"git://github.com/daa84/neovim-gtk.git\", \"ssh_url\": \"git@github.com:daa84/neovim-gtk.git\", \"clone_url\": \"https://github.com/daa84/neovim-gtk.git\", \"svn_url\": \"https://github.com/daa84/neovim-gtk\", \"homepage\": null, \"size\": 2044, \"stargazers_count\": 105, \"watchers_count\": 105, \"language\": \"Rust\", \"has_issues\": true, \"has_projects\": true, \"has_downloads\": true, \"has_wiki\": true, \"has_pages\": false, \"forks_count\": 5, \"mirror_url\": null, \"archived\": false, \"open_issues_count\": 8, \"license\": {\"key\": \"gpl-3.0\", \"name\": \"GNU General Public License v3.0\", \"spdx_id\": \"GPL-3.0\", \"url\": \"https://api.github.com/licenses/gpl-3.0\"}, \"forks\": 5, \"open_issues\": 8, \"watchers\": 105, \"default_branch\": \"master\"}}, \"_links\": {\"self\": {\"href\": \"https://api.github.com/repos/daa84/neovim-gtk/pulls/40\"}, \"html\": {\"href\": \"https://github.com/daa84/neovim-gtk/pull/40\"}, \"issue\": {\"href\": \"https://api.github.com/repos/daa84/neovim-gtk/issues/40\"}, \"comments\": {\"href\": \"https://api.github.com/repos/daa84/neovim-gtk/issues/40/comments\"}, \"review_comments\": {\"href\": \"https://api.github.com/repos/daa84/neovim-gtk/pulls/40/comments\"}, \"review_comment\": {\"href\": \"https://api.github.com/repos/daa84/neovim-gtk/pulls/comments{/number}\"}, \"commits\": {\"href\": \"https://api.github.com/repos/daa84/neovim-gtk/pulls/40/commits\"}, \"statuses\": {\"href\": \"https://api.github.com/repos/daa84/neovim-gtk/statuses/fbf662505997cc6af2e7f8ddb7e8893da622652c\"}}, \"author_association\": \"NONE\", \"merged\": true, \"mergeable\": null, \"rebaseable\": null, \"mergeable_state\": \"unknown\", \"merged_by\": {\"login\": \"daa84\", \"id\": 1449578, \"avatar_url\": \"https://avatars0.githubusercontent.com/u/1449578?v=4\", \"gravatar_id\": \"\", \"url\": \"https://api.github.com/users/daa84\", \"html_url\": \"https://github.com/daa84\", \"followers_url\": \"https://api.github.com/users/daa84/followers\", \"following_url\": \"https://api.github.com/users/daa84/following{/other_user}\", \"gists_url\": \"https://api.github.com/users/daa84/gists{/gist_id}\", \"starred_url\": \"https://api.github.com/users/daa84/starred{/owner}{/repo}\", \"subscriptions_url\": \"https://api.github.com/users/daa84/subscriptions\", \"organizations_url\": \"https://api.github.com/users/daa84/orgs\", \"repos_url\": \"https://api.github.com/users/daa84/repos\", \"events_url\": \"https://api.github.com/users/daa84/events{/privacy}\", \"received_events_url\": \"https://api.github.com/users/daa84/received_events\", \"type\": \"User\", \"site_admin\": false}, \"comments\": 2, \"review_comments\": 1, \"maintainer_can_modify\": false, \"commits\": 1, \"additions\": 107, \"deletions\": 4, \"changed_files\": 4}}, \"public\": true, \"created_at\": \"2018-01-01T15:00:00Z\"}\n",
      "{\"id\": \"7045118894\", \"type\": \"PushEvent\", \"actor\": {\"id\": 22536460, \"login\": \"thautwarm\", \"display_login\": \"thautwarm\", \"gravatar_id\": \"\", \"url\": \"https://api.github.com/users/thautwarm\", \"avatar_url\": \"https://avatars.githubusercontent.com/u/22536460?\"}, \"repo\": {\"id\": 102974522, \"name\": \"thautwarm/EBNFParser\", \"url\": \"https://api.github.com/repos/thautwarm/EBNFParser\"}, \"payload\": {\"push_id\": 2226161594, \"size\": 1, \"distinct_size\": 1, \"ref\": \"refs/heads/master\", \"head\": \"ea291a9baea441ea815e822bba5e8c9f330542f7\", \"before\": \"e61c594bc4eece3258944d5a89333e072ea0f9b5\", \"commits\": [{\"sha\": \"ea291a9baea441ea815e822bba5e8c9f330542f7\", \"author\": {\"name\": \"thautwarm\", \"email\": \"820a7b45b87f3c40f5e1c273015816c9c19a8401@outlook.com\"}, \"message\": \"API overview and example\", \"distinct\": true, \"url\": \"https://api.github.com/repos/thautwarm/EBNFParser/commits/ea291a9baea441ea815e822bba5e8c9f330542f7\"}]}, \"public\": true, \"created_at\": \"2018-01-01T15:00:00Z\"}\n",
      "{\"id\": \"7045118895\", \"type\": \"WatchEvent\", \"actor\": {\"id\": 18603467, \"login\": \"markstachowski\", \"display_login\": \"markstachowski\", \"gravatar_id\": \"\", \"url\": \"https://api.github.com/users/markstachowski\", \"avatar_url\": \"https://avatars.githubusercontent.com/u/18603467?\"}, \"repo\": {\"id\": 94912555, \"name\": \"IVMachiavelli/awesome-threat-intelligence\", \"url\": \"https://api.github.com/repos/IVMachiavelli/awesome-threat-intelligence\"}, \"payload\": {\"action\": \"started\"}, \"public\": true, \"created_at\": \"2018-01-01T15:00:00Z\"}\n",
      "{\"id\": \"7045118896\", \"type\": \"PushEvent\", \"actor\": {\"id\": 8517910, \"login\": \"LombiqBot\", \"display_login\": \"LombiqBot\", \"gravatar_id\": \"\", \"url\": \"https://api.github.com/users/LombiqBot\", \"avatar_url\": \"https://avatars.githubusercontent.com/u/8517910?\"}, \"repo\": {\"id\": 46596221, \"name\": \"Lombiq/Combinator-TypeScript-Preprocessor\", \"url\": \"https://api.github.com/repos/Lombiq/Combinator-TypeScript-Preprocessor\"}, \"payload\": {\"push_id\": 2226161595, \"size\": 0, \"distinct_size\": 0, \"ref\": \"refs/heads/orchard-upgrade-1.9.2\", \"head\": \"f823373ae7ec9471d139f109a89063811dbc6d2a\", \"before\": \"f823373ae7ec9471d139f109a89063811dbc6d2a\", \"commits\": []}, \"public\": true, \"created_at\": \"2018-01-01T15:00:00Z\", \"org\": {\"id\": 8158177, \"login\": \"Lombiq\", \"gravatar_id\": \"\", \"url\": \"https://api.github.com/orgs/Lombiq\", \"avatar_url\": \"https://avatars.githubusercontent.com/u/8158177?\"}}\n",
      "{\"id\": \"7045118899\", \"type\": \"GollumEvent\", \"actor\": {\"id\": 34983100, \"login\": \"template72\", \"display_login\": \"template72\", \"gravatar_id\": \"\", \"url\": \"https://api.github.com/users/template72\", \"avatar_url\": \"https://avatars.githubusercontent.com/u/34983100?\"}, \"repo\": {\"id\": 115908754, \"name\": \"template72/training\", \"url\": \"https://api.github.com/repos/template72/training\"}, \"payload\": {\"pages\": [{\"page_name\": \"Java-in-Japan\", \"title\": \"Java in Japan\", \"summary\": null, \"action\": \"edited\", \"sha\": \"f938d609f67b01b8b711b9f37f7ea7e0ff276733\", \"html_url\": \"https://github.com/template72/training/wiki/Java-in-Japan\"}]}, \"public\": true, \"created_at\": \"2018-01-01T15:00:00Z\"}\n",
      "{\"id\": \"7045118900\", \"type\": \"PushEvent\", \"actor\": {\"id\": 193435, \"login\": \"pgengler\", \"display_login\": \"pgengler\", \"gravatar_id\": \"\", \"url\": \"https://api.github.com/users/pgengler\", \"avatar_url\": \"https://avatars.githubusercontent.com/u/193435?\"}, \"repo\": {\"id\": 20538846, \"name\": \"pgengler/todolist-client\", \"url\": \"https://api.github.com/repos/pgengler/todolist-client\"}, \"payload\": {\"push_id\": 2226161596, \"size\": 4, \"distinct_size\": 4, \"ref\": \"refs/heads/master\", \"head\": \"4c90bc5868bb295357641b4e87d1e6bbea3d0586\", \"before\": \"07fb0af01b58b853ba660884eb57240a37ebacae\", \"commits\": [{\"sha\": \"95e600df9a5a669f53dc7de28147814678d12e81\", \"author\": {\"name\": \"Phil Gengler\", \"email\": \"e888d2bd6f13f82caa51a37c03d034c76f661ba3@pgengler.net\"}, \"message\": \"Get days/tasks via JSONAPI\", \"distinct\": true, \"url\": \"https://api.github.com/repos/pgengler/todolist-client/commits/95e600df9a5a669f53dc7de28147814678d12e81\"}, {\"sha\": \"d348f84df64c5473ba6a95a108e7c0263a434add\", \"author\": {\"name\": \"Phil Gengler\", \"email\": \"e888d2bd6f13f82caa51a37c03d034c76f661ba3@pgengler.net\"}, \"message\": \"Update tests\", \"distinct\": true, \"url\": \"https://api.github.com/repos/pgengler/todolist-client/commits/d348f84df64c5473ba6a95a108e7c0263a434add\"}, {\"sha\": \"9227c61c103ec1ee7b6dc8e126d14bc85fdf3dfd\", \"author\": {\"name\": \"Phil Gengler\", \"email\": \"e888d2bd6f13f82caa51a37c03d034c76f661ba3@pgengler.net\"}, \"message\": \"Migrate to unified List model\", \"distinct\": true, \"url\": \"https://api.github.com/repos/pgengler/todolist-client/commits/9227c61c103ec1ee7b6dc8e126d14bc85fdf3dfd\"}, {\"sha\": \"4c90bc5868bb295357641b4e87d1e6bbea3d0586\", \"author\": {\"name\": \"Phil Gengler\", \"email\": \"e888d2bd6f13f82caa51a37c03d034c76f661ba3@pgengler.net\"}, \"message\": \"Re-enable polling and do a bit of cleaning up\", \"distinct\": true, \"url\": \"https://api.github.com/repos/pgengler/todolist-client/commits/4c90bc5868bb295357641b4e87d1e6bbea3d0586\"}]}, \"public\": true, \"created_at\": \"2018-01-01T15:00:00Z\"}\n",
      "{\"id\": \"7045118901\", \"type\": \"PullRequestEvent\", \"actor\": {\"id\": 6098160, \"login\": \"BlackYoup\", \"display_login\": \"BlackYoup\", \"gravatar_id\": \"\", \"url\": \"https://api.github.com/users/BlackYoup\", \"avatar_url\": \"https://avatars.githubusercontent.com/u/6098160?\"}, \"repo\": {\"id\": 79330589, \"name\": \"sozu-proxy/sozu\", \"url\": \"https://api.github.com/repos/sozu-proxy/sozu\"}, \"payload\": {\"action\": \"opened\", \"number\": 314, \"pull_request\": {\"url\": \"https://api.github.com/repos/sozu-proxy/sozu/pulls/314\", \"id\": 160650725, \"html_url\": \"https://github.com/sozu-proxy/sozu/pull/314\", \"diff_url\": \"https://github.com/sozu-proxy/sozu/pull/314.diff\", \"patch_url\": \"https://github.com/sozu-proxy/sozu/pull/314.patch\", \"issue_url\": \"https://api.github.com/repos/sozu-proxy/sozu/issues/314\", \"number\": 314, \"state\": \"open\", \"locked\": false, \"title\": \"Fix docker build / runtime\", \"user\": {\"login\": \"BlackYoup\", \"id\": 6098160, \"avatar_url\": \"https://avatars3.githubusercontent.com/u/6098160?v=4\", \"gravatar_id\": \"\", \"url\": \"https://api.github.com/users/BlackYoup\", \"html_url\": \"https://github.com/BlackYoup\", \"followers_url\": \"https://api.github.com/users/BlackYoup/followers\", \"following_url\": \"https://api.github.com/users/BlackYoup/following{/other_user}\", \"gists_url\": \"https://api.github.com/users/BlackYoup/gists{/gist_id}\", \"starred_url\": \"https://api.github.com/users/BlackYoup/starred{/owner}{/repo}\", \"subscriptions_url\": \"https://api.github.com/users/BlackYoup/subscriptions\", \"organizations_url\": \"https://api.github.com/users/BlackYoup/orgs\", \"repos_url\": \"https://api.github.com/users/BlackYoup/repos\", \"events_url\": \"https://api.github.com/users/BlackYoup/events{/privacy}\", \"received_events_url\": \"https://api.github.com/users/BlackYoup/received_events\", \"type\": \"User\", \"site_admin\": false}, \"body\": \"This fixes both the build and runtime execution of sozu for the docker image\", \"created_at\": \"2018-01-01T15:00:00Z\", \"updated_at\": \"2018-01-01T15:00:00Z\", \"closed_at\": null, \"merged_at\": null, \"merge_commit_sha\": null, \"assignee\": null, \"assignees\": [], \"requested_reviewers\": [], \"milestone\": null, \"commits_url\": \"https://api.github.com/repos/sozu-proxy/sozu/pulls/314/commits\", \"review_comments_url\": \"https://api.github.com/repos/sozu-proxy/sozu/pulls/314/comments\", \"review_comment_url\": \"https://api.github.com/repos/sozu-proxy/sozu/pulls/comments{/number}\", \"comments_url\": \"https://api.github.com/repos/sozu-proxy/sozu/issues/314/comments\", \"statuses_url\": \"https://api.github.com/repos/sozu-proxy/sozu/statuses/b12436fdf2c63c61364d63e153a87d66dc16f1a6\", \"head\": {\"label\": \"BlackYoup:fix-docker-build\", \"ref\": \"fix-docker-build\", \"sha\": \"b12436fdf2c63c61364d63e153a87d66dc16f1a6\", \"user\": {\"login\": \"BlackYoup\", \"id\": 6098160, \"avatar_url\": \"https://avatars3.githubusercontent.com/u/6098160?v=4\", \"gravatar_id\": \"\", \"url\": \"https://api.github.com/users/BlackYoup\", \"html_url\": \"https://github.com/BlackYoup\", \"followers_url\": \"https://api.github.com/users/BlackYoup/followers\", \"following_url\": \"https://api.github.com/users/BlackYoup/following{/other_user}\", \"gists_url\": \"https://api.github.com/users/BlackYoup/gists{/gist_id}\", \"starred_url\": \"https://api.github.com/users/BlackYoup/starred{/owner}{/repo}\", \"subscriptions_url\": \"https://api.github.com/users/BlackYoup/subscriptions\", \"organizations_url\": \"https://api.github.com/users/BlackYoup/orgs\", \"repos_url\": \"https://api.github.com/users/BlackYoup/repos\", \"events_url\": \"https://api.github.com/users/BlackYoup/events{/privacy}\", \"received_events_url\": \"https://api.github.com/users/BlackYoup/received_events\", \"type\": \"User\", \"site_admin\": false}, \"repo\": {\"id\": 79505332, \"name\": \"sozu\", \"full_name\": \"BlackYoup/sozu\", \"owner\": {\"login\": \"BlackYoup\", \"id\": 6098160, \"avatar_url\": \"https://avatars3.githubusercontent.com/u/6098160?v=4\", \"gravatar_id\": \"\", \"url\": \"https://api.github.com/users/BlackYoup\", \"html_url\": \"https://github.com/BlackYoup\", \"followers_url\": \"https://api.github.com/users/BlackYoup/followers\", \"following_url\": \"https://api.github.com/users/BlackYoup/following{/other_user}\", \"gists_url\": \"https://api.github.com/users/BlackYoup/gists{/gist_id}\", \"starred_url\": \"https://api.github.com/users/BlackYoup/starred{/owner}{/repo}\", \"subscriptions_url\": \"https://api.github.com/users/BlackYoup/subscriptions\", \"organizations_url\": \"https://api.github.com/users/BlackYoup/orgs\", \"repos_url\": \"https://api.github.com/users/BlackYoup/repos\", \"events_url\": \"https://api.github.com/users/BlackYoup/events{/privacy}\", \"received_events_url\": \"https://api.github.com/users/BlackYoup/received_events\", \"type\": \"User\", \"site_admin\": false}, \"private\": false, \"html_url\": \"https://github.com/BlackYoup/sozu\", \"description\": \"it will be awesome when it will be ready\", \"fork\": true, \"url\": \"https://api.github.com/repos/BlackYoup/sozu\", \"forks_url\": \"https://api.github.com/repos/BlackYoup/sozu/forks\", \"keys_url\": \"https://api.github.com/repos/BlackYoup/sozu/keys{/key_id}\", \"collaborators_url\": \"https://api.github.com/repos/BlackYoup/sozu/collaborators{/collaborator}\", \"teams_url\": \"https://api.github.com/repos/BlackYoup/sozu/teams\", \"hooks_url\": \"https://api.github.com/repos/BlackYoup/sozu/hooks\", \"issue_events_url\": \"https://api.github.com/repos/BlackYoup/sozu/issues/events{/number}\", \"events_url\": \"https://api.github.com/repos/BlackYoup/sozu/events\", \"assignees_url\": \"https://api.github.com/repos/BlackYoup/sozu/assignees{/user}\", \"branches_url\": \"https://api.github.com/repos/BlackYoup/sozu/branches{/branch}\", \"tags_url\": \"https://api.github.com/repos/BlackYoup/sozu/tags\", \"blobs_url\": \"https://api.github.com/repos/BlackYoup/sozu/git/blobs{/sha}\", \"git_tags_url\": \"https://api.github.com/repos/BlackYoup/sozu/git/tags{/sha}\", \"git_refs_url\": \"https://api.github.com/repos/BlackYoup/sozu/git/refs{/sha}\", \"trees_url\": \"https://api.github.com/repos/BlackYoup/sozu/git/trees{/sha}\", \"statuses_url\": \"https://api.github.com/repos/BlackYoup/sozu/statuses/{sha}\", \"languages_url\": \"https://api.github.com/repos/BlackYoup/sozu/languages\", \"stargazers_url\": \"https://api.github.com/repos/BlackYoup/sozu/stargazers\", \"contributors_url\": \"https://api.github.com/repos/BlackYoup/sozu/contributors\", \"subscribers_url\": \"https://api.github.com/repos/BlackYoup/sozu/subscribers\", \"subscription_url\": \"https://api.github.com/repos/BlackYoup/sozu/subscription\", \"commits_url\": \"https://api.github.com/repos/BlackYoup/sozu/commits{/sha}\", \"git_commits_url\": \"https://api.github.com/repos/BlackYoup/sozu/git/commits{/sha}\", \"comments_url\": \"https://api.github.com/repos/BlackYoup/sozu/comments{/number}\", \"issue_comment_url\": \"https://api.github.com/repos/BlackYoup/sozu/issues/comments{/number}\", \"contents_url\": \"https://api.github.com/repos/BlackYoup/sozu/contents/{+path}\", \"compare_url\": \"https://api.github.com/repos/BlackYoup/sozu/compare/{base}...{head}\", \"merges_url\": \"https://api.github.com/repos/BlackYoup/sozu/merges\", \"archive_url\": \"https://api.github.com/repos/BlackYoup/sozu/{archive_format}{/ref}\", \"downloads_url\": \"https://api.github.com/repos/BlackYoup/sozu/downloads\", \"issues_url\": \"https://api.github.com/repos/BlackYoup/sozu/issues{/number}\", \"pulls_url\": \"https://api.github.com/repos/BlackYoup/sozu/pulls{/number}\", \"milestones_url\": \"https://api.github.com/repos/BlackYoup/sozu/milestones{/number}\", \"notifications_url\": \"https://api.github.com/repos/BlackYoup/sozu/notifications{?since,all,participating}\", \"labels_url\": \"https://api.github.com/repos/BlackYoup/sozu/labels{/name}\", \"releases_url\": \"https://api.github.com/repos/BlackYoup/sozu/releases{/id}\", \"deployments_url\": \"https://api.github.com/repos/BlackYoup/sozu/deployments\", \"created_at\": \"2017-01-19T23:25:37Z\", \"updated_at\": \"2017-01-19T23:25:38Z\", \"pushed_at\": \"2018-01-01T14:59:50Z\", \"git_url\": \"git://github.com/BlackYoup/sozu.git\", \"ssh_url\": \"git@github.com:BlackYoup/sozu.git\", \"clone_url\": \"https://github.com/BlackYoup/sozu.git\", \"svn_url\": \"https://github.com/BlackYoup/sozu\", \"homepage\": \"\", \"size\": 1793, \"stargazers_count\": 0, \"watchers_count\": 0, \"language\": \"Rust\", \"has_issues\": false, \"has_projects\": true, \"has_downloads\": true, \"has_wiki\": true, \"has_pages\": false, \"forks_count\": 1, \"mirror_url\": null, \"archived\": false, \"open_issues_count\": 0, \"license\": null, \"forks\": 1, \"open_issues\": 0, \"watchers\": 0, \"default_branch\": \"master\"}}, \"base\": {\"label\": \"sozu-proxy:master\", \"ref\": \"master\", \"sha\": \"ba6a14166170c5a92c389b45032a44bd6f472a77\", \"user\": {\"login\": \"sozu-proxy\", \"id\": 25197590, \"avatar_url\": \"https://avatars2.githubusercontent.com/u/25197590?v=4\", \"gravatar_id\": \"\", \"url\": \"https://api.github.com/users/sozu-proxy\", \"html_url\": \"https://github.com/sozu-proxy\", \"followers_url\": \"https://api.github.com/users/sozu-proxy/followers\", \"following_url\": \"https://api.github.com/users/sozu-proxy/following{/other_user}\", \"gists_url\": \"https://api.github.com/users/sozu-proxy/gists{/gist_id}\", \"starred_url\": \"https://api.github.com/users/sozu-proxy/starred{/owner}{/repo}\", \"subscriptions_url\": \"https://api.github.com/users/sozu-proxy/subscriptions\", \"organizations_url\": \"https://api.github.com/users/sozu-proxy/orgs\", \"repos_url\": \"https://api.github.com/users/sozu-proxy/repos\", \"events_url\": \"https://api.github.com/users/sozu-proxy/events{/privacy}\", \"received_events_url\": \"https://api.github.com/users/sozu-proxy/received_events\", \"type\": \"Organization\", \"site_admin\": false}, \"repo\": {\"id\": 79330589, \"name\": \"sozu\", \"full_name\": \"sozu-proxy/sozu\", \"owner\": {\"login\": \"sozu-proxy\", \"id\": 25197590, \"avatar_url\": \"https://avatars2.githubusercontent.com/u/25197590?v=4\", \"gravatar_id\": \"\", \"url\": \"https://api.github.com/users/sozu-proxy\", \"html_url\": \"https://github.com/sozu-proxy\", \"followers_url\": \"https://api.github.com/users/sozu-proxy/followers\", \"following_url\": \"https://api.github.com/users/sozu-proxy/following{/other_user}\", \"gists_url\": \"https://api.github.com/users/sozu-proxy/gists{/gist_id}\", \"starred_url\": \"https://api.github.com/users/sozu-proxy/starred{/owner}{/repo}\", \"subscriptions_url\": \"https://api.github.com/users/sozu-proxy/subscriptions\", \"organizations_url\": \"https://api.github.com/users/sozu-proxy/orgs\", \"repos_url\": \"https://api.github.com/users/sozu-proxy/repos\", \"events_url\": \"https://api.github.com/users/sozu-proxy/events{/privacy}\", \"received_events_url\": \"https://api.github.com/users/sozu-proxy/received_events\", \"type\": \"Organization\", \"site_admin\": false}, \"private\": false, \"html_url\": \"https://github.com/sozu-proxy/sozu\", \"description\": \"S\\u014dzu HTTP reverse proxy, configurable at runtime, fast and safe, built in Rust. It will be awesome when it will be ready. Not So Secret Project! Ping us on gitter to know more\", \"fork\": false, \"url\": \"https://api.github.com/repos/sozu-proxy/sozu\", \"forks_url\": \"https://api.github.com/repos/sozu-proxy/sozu/forks\", \"keys_url\": \"https://api.github.com/repos/sozu-proxy/sozu/keys{/key_id}\", \"collaborators_url\": \"https://api.github.com/repos/sozu-proxy/sozu/collaborators{/collaborator}\", \"teams_url\": \"https://api.github.com/repos/sozu-proxy/sozu/teams\", \"hooks_url\": \"https://api.github.com/repos/sozu-proxy/sozu/hooks\", \"issue_events_url\": \"https://api.github.com/repos/sozu-proxy/sozu/issues/events{/number}\", \"events_url\": \"https://api.github.com/repos/sozu-proxy/sozu/events\", \"assignees_url\": \"https://api.github.com/repos/sozu-proxy/sozu/assignees{/user}\", \"branches_url\": \"https://api.github.com/repos/sozu-proxy/sozu/branches{/branch}\", \"tags_url\": \"https://api.github.com/repos/sozu-proxy/sozu/tags\", \"blobs_url\": \"https://api.github.com/repos/sozu-proxy/sozu/git/blobs{/sha}\", \"git_tags_url\": \"https://api.github.com/repos/sozu-proxy/sozu/git/tags{/sha}\", \"git_refs_url\": \"https://api.github.com/repos/sozu-proxy/sozu/git/refs{/sha}\", \"trees_url\": \"https://api.github.com/repos/sozu-proxy/sozu/git/trees{/sha}\", \"statuses_url\": \"https://api.github.com/repos/sozu-proxy/sozu/statuses/{sha}\", \"languages_url\": \"https://api.github.com/repos/sozu-proxy/sozu/languages\", \"stargazers_url\": \"https://api.github.com/repos/sozu-proxy/sozu/stargazers\", \"contributors_url\": \"https://api.github.com/repos/sozu-proxy/sozu/contributors\", \"subscribers_url\": \"https://api.github.com/repos/sozu-proxy/sozu/subscribers\", \"subscription_url\": \"https://api.github.com/repos/sozu-proxy/sozu/subscription\", \"commits_url\": \"https://api.github.com/repos/sozu-proxy/sozu/commits{/sha}\", \"git_commits_url\": \"https://api.github.com/repos/sozu-proxy/sozu/git/commits{/sha}\", \"comments_url\": \"https://api.github.com/repos/sozu-proxy/sozu/comments{/number}\", \"issue_comment_url\": \"https://api.github.com/repos/sozu-proxy/sozu/issues/comments{/number}\", \"contents_url\": \"https://api.github.com/repos/sozu-proxy/sozu/contents/{+path}\", \"compare_url\": \"https://api.github.com/repos/sozu-proxy/sozu/compare/{base}...{head}\", \"merges_url\": \"https://api.github.com/repos/sozu-proxy/sozu/merges\", \"archive_url\": \"https://api.github.com/repos/sozu-proxy/sozu/{archive_format}{/ref}\", \"downloads_url\": \"https://api.github.com/repos/sozu-proxy/sozu/downloads\", \"issues_url\": \"https://api.github.com/repos/sozu-proxy/sozu/issues{/number}\", \"pulls_url\": \"https://api.github.com/repos/sozu-proxy/sozu/pulls{/number}\", \"milestones_url\": \"https://api.github.com/repos/sozu-proxy/sozu/milestones{/number}\", \"notifications_url\": \"https://api.github.com/repos/sozu-proxy/sozu/notifications{?since,all,participating}\", \"labels_url\": \"https://api.github.com/repos/sozu-proxy/sozu/labels{/name}\", \"releases_url\": \"https://api.github.com/repos/sozu-proxy/sozu/releases{/id}\", \"deployments_url\": \"https://api.github.com/repos/sozu-proxy/sozu/deployments\", \"created_at\": \"2017-01-18T10:44:25Z\", \"updated_at\": \"2017-12-27T23:10:37Z\", \"pushed_at\": \"2017-12-31T01:15:57Z\", \"git_url\": \"git://github.com/sozu-proxy/sozu.git\", \"ssh_url\": \"git@github.com:sozu-proxy/sozu.git\", \"clone_url\": \"https://github.com/sozu-proxy/sozu.git\", \"svn_url\": \"https://github.com/sozu-proxy/sozu\", \"homepage\": \"https://www.sozu.io/\", \"size\": 1798, \"stargazers_count\": 429, \"watchers_count\": 429, \"language\": \"Rust\", \"has_issues\": true, \"has_projects\": true, \"has_downloads\": true, \"has_wiki\": true, \"has_pages\": false, \"forks_count\": 40, \"mirror_url\": null, \"archived\": false, \"open_issues_count\": 76, \"license\": {\"key\": \"agpl-3.0\", \"name\": \"GNU Affero General Public License v3.0\", \"spdx_id\": \"AGPL-3.0\", \"url\": \"https://api.github.com/licenses/agpl-3.0\"}, \"forks\": 40, \"open_issues\": 76, \"watchers\": 429, \"default_branch\": \"master\"}}, \"_links\": {\"self\": {\"href\": \"https://api.github.com/repos/sozu-proxy/sozu/pulls/314\"}, \"html\": {\"href\": \"https://github.com/sozu-proxy/sozu/pull/314\"}, \"issue\": {\"href\": \"https://api.github.com/repos/sozu-proxy/sozu/issues/314\"}, \"comments\": {\"href\": \"https://api.github.com/repos/sozu-proxy/sozu/issues/314/comments\"}, \"review_comments\": {\"href\": \"https://api.github.com/repos/sozu-proxy/sozu/pulls/314/comments\"}, \"review_comment\": {\"href\": \"https://api.github.com/repos/sozu-proxy/sozu/pulls/comments{/number}\"}, \"commits\": {\"href\": \"https://api.github.com/repos/sozu-proxy/sozu/pulls/314/commits\"}, \"statuses\": {\"href\": \"https://api.github.com/repos/sozu-proxy/sozu/statuses/b12436fdf2c63c61364d63e153a87d66dc16f1a6\"}}, \"author_association\": \"CONTRIBUTOR\", \"merged\": false, \"mergeable\": null, \"rebaseable\": null, \"mergeable_state\": \"unknown\", \"merged_by\": null, \"comments\": 0, \"review_comments\": 0, \"maintainer_can_modify\": true, \"commits\": 2, \"additions\": 3, \"deletions\": 3, \"changed_files\": 1}}, \"public\": true, \"created_at\": \"2018-01-01T15:00:01Z\", \"org\": {\"id\": 25197590, \"login\": \"sozu-proxy\", \"gravatar_id\": \"\", \"url\": \"https://api.github.com/orgs/sozu-proxy\", \"avatar_url\": \"https://avatars.githubusercontent.com/u/25197590?\"}}\n",
      "{\"id\": \"7045118904\", \"type\": \"PushEvent\", \"actor\": {\"id\": 1449578, \"login\": \"daa84\", \"display_login\": \"daa84\", \"gravatar_id\": \"\", \"url\": \"https://api.github.com/users/daa84\", \"avatar_url\": \"https://avatars.githubusercontent.com/u/1449578?\"}, \"repo\": {\"id\": 62063441, \"name\": \"daa84/neovim-gtk\", \"url\": \"https://api.github.com/repos/daa84/neovim-gtk\"}, \"payload\": {\"push_id\": 2226161597, \"size\": 2, \"distinct_size\": 2, \"ref\": \"refs/heads/master\", \"head\": \"b88159630d016a7b7cb622c966cbbd4859c9bcd6\", \"before\": \"30ccc4b62cafac800c201f9f079405702ff87dde\", \"commits\": [{\"sha\": \"fbf662505997cc6af2e7f8ddb7e8893da622652c\", \"author\": {\"name\": \"Greg V\", \"email\": \"79e2475f81a6317276bf7cbb3958b20d289b78df@unrelenting.technology\"}, \"message\": \"Add RPC/GTK clipboard provider\", \"distinct\": true, \"url\": \"https://api.github.com/repos/daa84/neovim-gtk/commits/fbf662505997cc6af2e7f8ddb7e8893da622652c\"}, {\"sha\": \"b88159630d016a7b7cb622c966cbbd4859c9bcd6\", \"author\": {\"name\": \"daa84\", \"email\": \"1ca691b27227befba76b75e92f287471edff9223@gmail.com\"}, \"message\": \"Merge pull request #40 from myfreeweb/gtk-clipboard\\n\\nAdd RPC/GTK clipboard provider\", \"distinct\": true, \"url\": \"https://api.github.com/repos/daa84/neovim-gtk/commits/b88159630d016a7b7cb622c966cbbd4859c9bcd6\"}]}, \"public\": true, \"created_at\": \"2018-01-01T15:00:00Z\"}\n",
      "{\"id\": \"7045118905\", \"type\": \"PushEvent\", \"actor\": {\"id\": 30130461, \"login\": \"questandachievement\", \"display_login\": \"questandachievement\", \"gravatar_id\": \"\", \"url\": \"https://api.github.com/users/questandachievement\", \"avatar_url\": \"https://avatars.githubusercontent.com/u/30130461?\"}, \"repo\": {\"id\": 97055332, \"name\": \"questandachievement/libreperf\", \"url\": \"https://api.github.com/repos/questandachievement/libreperf\"}, \"payload\": {\"push_id\": 2226161599, \"size\": 1, \"distinct_size\": 1, \"ref\": \"refs/heads/master\", \"head\": \"77361e2c0148280132c440d59f4338f4dc0fb14e\", \"before\": \"a4e63477bfbd213fdf6d8fb1c83809a5dbcda51e\", \"commits\": [{\"sha\": \"77361e2c0148280132c440d59f4338f4dc0fb14e\", \"author\": {\"name\": \"questandachievement\", \"email\": \"6c1a6dd8fe87763f6aad7a2c9113e90c91c56786@gmail.com\"}, \"message\": \"Add files via upload\", \"distinct\": true, \"url\": \"https://api.github.com/repos/questandachievement/libreperf/commits/77361e2c0148280132c440d59f4338f4dc0fb14e\"}]}, \"public\": true, \"created_at\": \"2018-01-01T15:00:00Z\"}\n",
      "{\"id\": \"7045118910\", \"type\": \"IssuesEvent\", \"actor\": {\"id\": 3840769, \"login\": \"GiladShoham\", \"display_login\": \"GiladShoham\", \"gravatar_id\": \"\", \"url\": \"https://api.github.com/users/GiladShoham\", \"avatar_url\": \"https://avatars.githubusercontent.com/u/3840769?\"}, \"repo\": {\"id\": 79723839, \"name\": \"teambit/bit\", \"url\": \"https://api.github.com/repos/teambit/bit\"}, \"payload\": {\"action\": \"opened\", \"issue\": {\"url\": \"https://api.github.com/repos/teambit/bit/issues/513\", \"repository_url\": \"https://api.github.com/repos/teambit/bit\", \"labels_url\": \"https://api.github.com/repos/teambit/bit/issues/513/labels{/name}\", \"comments_url\": \"https://api.github.com/repos/teambit/bit/issues/513/comments\", \"events_url\": \"https://api.github.com/repos/teambit/bit/issues/513/events\", \"html_url\": \"https://github.com/teambit/bit/issues/513\", \"id\": 285311662, \"number\": 513, \"title\": \"can't do 'bit config' outside of a scope\", \"user\": {\"login\": \"GiladShoham\", \"id\": 3840769, \"avatar_url\": \"https://avatars0.githubusercontent.com/u/3840769?v=4\", \"gravatar_id\": \"\", \"url\": \"https://api.github.com/users/GiladShoham\", \"html_url\": \"https://github.com/GiladShoham\", \"followers_url\": \"https://api.github.com/users/GiladShoham/followers\", \"following_url\": \"https://api.github.com/users/GiladShoham/following{/other_user}\", \"gists_url\": \"https://api.github.com/users/GiladShoham/gists{/gist_id}\", \"starred_url\": \"https://api.github.com/users/GiladShoham/starred{/owner}{/repo}\", \"subscriptions_url\": \"https://api.github.com/users/GiladShoham/subscriptions\", \"organizations_url\": \"https://api.github.com/users/GiladShoham/orgs\", \"repos_url\": \"https://api.github.com/users/GiladShoham/repos\", \"events_url\": \"https://api.github.com/users/GiladShoham/events{/privacy}\", \"received_events_url\": \"https://api.github.com/users/GiladShoham/received_events\", \"type\": \"User\", \"site_admin\": false}, \"labels\": [], \"state\": \"open\", \"locked\": false, \"assignee\": {\"login\": \"ranm8\", \"id\": 1818427, \"avatar_url\": \"https://avatars1.githubusercontent.com/u/1818427?v=4\", \"gravatar_id\": \"\", \"url\": \"https://api.github.com/users/ranm8\", \"html_url\": \"https://github.com/ranm8\", \"followers_url\": \"https://api.github.com/users/ranm8/followers\", \"following_url\": \"https://api.github.com/users/ranm8/following{/other_user}\", \"gists_url\": \"https://api.github.com/users/ranm8/gists{/gist_id}\", \"starred_url\": \"https://api.github.com/users/ranm8/starred{/owner}{/repo}\", \"subscriptions_url\": \"https://api.github.com/users/ranm8/subscriptions\", \"organizations_url\": \"https://api.github.com/users/ranm8/orgs\", \"repos_url\": \"https://api.github.com/users/ranm8/repos\", \"events_url\": \"https://api.github.com/users/ranm8/events{/privacy}\", \"received_events_url\": \"https://api.github.com/users/ranm8/received_events\", \"type\": \"User\", \"site_admin\": false}, \"assignees\": [{\"login\": \"ranm8\", \"id\": 1818427, \"avatar_url\": \"https://avatars1.githubusercontent.com/u/1818427?v=4\", \"gravatar_id\": \"\", \"url\": \"https://api.github.com/users/ranm8\", \"html_url\": \"https://github.com/ranm8\", \"followers_url\": \"https://api.github.com/users/ranm8/followers\", \"following_url\": \"https://api.github.com/users/ranm8/following{/other_user}\", \"gists_url\": \"https://api.github.com/users/ranm8/gists{/gist_id}\", \"starred_url\": \"https://api.github.com/users/ranm8/starred{/owner}{/repo}\", \"subscriptions_url\": \"https://api.github.com/users/ranm8/subscriptions\", \"organizations_url\": \"https://api.github.com/users/ranm8/orgs\", \"repos_url\": \"https://api.github.com/users/ranm8/repos\", \"events_url\": \"https://api.github.com/users/ranm8/events{/privacy}\", \"received_events_url\": \"https://api.github.com/users/ranm8/received_events\", \"type\": \"User\", \"site_admin\": false}], \"milestone\": null, \"comments\": 0, \"created_at\": \"2018-01-01T15:00:00Z\", \"updated_at\": \"2018-01-01T15:00:00Z\", \"closed_at\": null, \"author_association\": \"OWNER\", \"body\": \"i used to be able to run 'bit config' (and all of the 'set' commands), when i'm not in a scope.\\n\\nnow when i run 'bit config' outside of a scope:\\n\\\"\\n\\u203a bit config\\nfatal: scope not found. to create a new scope, please use `bit init`\\n\\\"\"}}, \"public\": true, \"created_at\": \"2018-01-01T15:00:01Z\", \"org\": {\"id\": 24789812, \"login\": \"teambit\", \"gravatar_id\": \"\", \"url\": \"https://api.github.com/orgs/teambit\", \"avatar_url\": \"https://avatars.githubusercontent.com/u/24789812?\"}}\n",
      "{\"id\": \"7045118911\", \"type\": \"PushEvent\", \"actor\": {\"id\": 4248851, \"login\": \"marionebl\", \"display_login\": \"marionebl\", \"gravatar_id\": \"\", \"url\": \"https://api.github.com/users/marionebl\", \"avatar_url\": \"https://avatars.githubusercontent.com/u/4248851?\"}, \"repo\": {\"id\": 114630558, \"name\": \"marionebl/rust-book-exercises\", \"url\": \"https://api.github.com/repos/marionebl/rust-book-exercises\"}, \"payload\": {\"push_id\": 2226161601, \"size\": 1, \"distinct_size\": 1, \"ref\": \"refs/heads/master\", \"head\": \"27a4b4d21846a882343a27ff840cd50e38d2e09d\", \"before\": \"353e4576b7f297ca57a783a1d18a5efaf205bf7d\", \"commits\": [{\"sha\": \"27a4b4d21846a882343a27ff840cd50e38d2e09d\", \"author\": {\"name\": \"Mario Nebl\", \"email\": \"aaf4c61ddcc5e8a2dabede0f3b482cd9aea9434d@mario-nebl.de\"}, \"message\": \"Refactor to use struct\", \"distinct\": true, \"url\": \"https://api.github.com/repos/marionebl/rust-book-exercises/commits/27a4b4d21846a882343a27ff840cd50e38d2e09d\"}]}, \"public\": true, \"created_at\": \"2018-01-01T15:00:01Z\"}\n",
      "{\"id\": \"7045118912\", \"type\": \"PullRequestEvent\", \"actor\": {\"id\": 18074506, \"login\": \"iamvane\", \"display_login\": \"iamvane\", \"gravatar_id\": \"\", \"url\": \"https://api.github.com/users/iamvane\", \"avatar_url\": \"https://avatars.githubusercontent.com/u/18074506?\"}, \"repo\": {\"id\": 114398217, \"name\": \"iamvane/nabi_api\", \"url\": \"https://api.github.com/repos/iamvane/nabi_api\"}, \"payload\": {\"action\": \"opened\", \"number\": 5, \"pull_request\": {\"url\": \"https://api.github.com/repos/iamvane/nabi_api/pulls/5\", \"id\": 160650726, \"html_url\": \"https://github.com/iamvane/nabi_api/pull/5\", \"diff_url\": \"https://github.com/iamvane/nabi_api/pull/5.diff\", \"patch_url\": \"https://github.com/iamvane/nabi_api/pull/5.patch\", \"issue_url\": \"https://api.github.com/repos/iamvane/nabi_api/issues/5\", \"number\": 5, \"state\": \"open\", \"locked\": false, \"title\": \"Nabi 31 unit tests\", \"user\": {\"login\": \"iamvane\", \"id\": 18074506, \"avatar_url\": \"https://avatars2.githubusercontent.com/u/18074506?v=4\", \"gravatar_id\": \"\", \"url\": \"https://api.github.com/users/iamvane\", \"html_url\": \"https://github.com/iamvane\", \"followers_url\": \"https://api.github.com/users/iamvane/followers\", \"following_url\": \"https://api.github.com/users/iamvane/following{/other_user}\", \"gists_url\": \"https://api.github.com/users/iamvane/gists{/gist_id}\", \"starred_url\": \"https://api.github.com/users/iamvane/starred{/owner}{/repo}\", \"subscriptions_url\": \"https://api.github.com/users/iamvane/subscriptions\", \"organizations_url\": \"https://api.github.com/users/iamvane/orgs\", \"repos_url\": \"https://api.github.com/users/iamvane/repos\", \"events_url\": \"https://api.github.com/users/iamvane/events{/privacy}\", \"received_events_url\": \"https://api.github.com/users/iamvane/received_events\", \"type\": \"User\", \"site_admin\": false}, \"body\": \"-Organized application\\r\\n-Wrote configuration\\r\\n-Finished tests for initial resources\", \"created_at\": \"2018-01-01T15:00:01Z\", \"updated_at\": \"2018-01-01T15:00:01Z\", \"closed_at\": null, \"merged_at\": null, \"merge_commit_sha\": null, \"assignee\": null, \"assignees\": [], \"requested_reviewers\": [], \"milestone\": null, \"commits_url\": \"https://api.github.com/repos/iamvane/nabi_api/pulls/5/commits\", \"review_comments_url\": \"https://api.github.com/repos/iamvane/nabi_api/pulls/5/comments\", \"review_comment_url\": \"https://api.github.com/repos/iamvane/nabi_api/pulls/comments{/number}\", \"comments_url\": \"https://api.github.com/repos/iamvane/nabi_api/issues/5/comments\", \"statuses_url\": \"https://api.github.com/repos/iamvane/nabi_api/statuses/4bbd840b75ab6e45bcec4053f455d76ceb9b3a92\", \"head\": {\"label\": \"iamvane:nabi-31-unit-tests\", \"ref\": \"nabi-31-unit-tests\", \"sha\": \"4bbd840b75ab6e45bcec4053f455d76ceb9b3a92\", \"user\": {\"login\": \"iamvane\", \"id\": 18074506, \"avatar_url\": \"https://avatars2.githubusercontent.com/u/18074506?v=4\", \"gravatar_id\": \"\", \"url\": \"https://api.github.com/users/iamvane\", \"html_url\": \"https://github.com/iamvane\", \"followers_url\": \"https://api.github.com/users/iamvane/followers\", \"following_url\": \"https://api.github.com/users/iamvane/following{/other_user}\", \"gists_url\": \"https://api.github.com/users/iamvane/gists{/gist_id}\", \"starred_url\": \"https://api.github.com/users/iamvane/starred{/owner}{/repo}\", \"subscriptions_url\": \"https://api.github.com/users/iamvane/subscriptions\", \"organizations_url\": \"https://api.github.com/users/iamvane/orgs\", \"repos_url\": \"https://api.github.com/users/iamvane/repos\", \"events_url\": \"https://api.github.com/users/iamvane/events{/privacy}\", \"received_events_url\": \"https://api.github.com/users/iamvane/received_events\", \"type\": \"User\", \"site_admin\": false}, \"repo\": {\"id\": 114398217, \"name\": \"nabi_api\", \"full_name\": \"iamvane/nabi_api\", \"owner\": {\"login\": \"iamvane\", \"id\": 18074506, \"avatar_url\": \"https://avatars2.githubusercontent.com/u/18074506?v=4\", \"gravatar_id\": \"\", \"url\": \"https://api.github.com/users/iamvane\", \"html_url\": \"https://github.com/iamvane\", \"followers_url\": \"https://api.github.com/users/iamvane/followers\", \"following_url\": \"https://api.github.com/users/iamvane/following{/other_user}\", \"gists_url\": \"https://api.github.com/users/iamvane/gists{/gist_id}\", \"starred_url\": \"https://api.github.com/users/iamvane/starred{/owner}{/repo}\", \"subscriptions_url\": \"https://api.github.com/users/iamvane/subscriptions\", \"organizations_url\": \"https://api.github.com/users/iamvane/orgs\", \"repos_url\": \"https://api.github.com/users/iamvane/repos\", \"events_url\": \"https://api.github.com/users/iamvane/events{/privacy}\", \"received_events_url\": \"https://api.github.com/users/iamvane/received_events\", \"type\": \"User\", \"site_admin\": false}, \"private\": false, \"html_url\": \"https://github.com/iamvane/nabi_api\", \"description\": null, \"fork\": false, \"url\": \"https://api.github.com/repos/iamvane/nabi_api\", \"forks_url\": \"https://api.github.com/repos/iamvane/nabi_api/forks\", \"keys_url\": \"https://api.github.com/repos/iamvane/nabi_api/keys{/key_id}\", \"collaborators_url\": \"https://api.github.com/repos/iamvane/nabi_api/collaborators{/collaborator}\", \"teams_url\": \"https://api.github.com/repos/iamvane/nabi_api/teams\", \"hooks_url\": \"https://api.github.com/repos/iamvane/nabi_api/hooks\", \"issue_events_url\": \"https://api.github.com/repos/iamvane/nabi_api/issues/events{/number}\", \"events_url\": \"https://api.github.com/repos/iamvane/nabi_api/events\", \"assignees_url\": \"https://api.github.com/repos/iamvane/nabi_api/assignees{/user}\", \"branches_url\": \"https://api.github.com/repos/iamvane/nabi_api/branches{/branch}\", \"tags_url\": \"https://api.github.com/repos/iamvane/nabi_api/tags\", \"blobs_url\": \"https://api.github.com/repos/iamvane/nabi_api/git/blobs{/sha}\", \"git_tags_url\": \"https://api.github.com/repos/iamvane/nabi_api/git/tags{/sha}\", \"git_refs_url\": \"https://api.github.com/repos/iamvane/nabi_api/git/refs{/sha}\", \"trees_url\": \"https://api.github.com/repos/iamvane/nabi_api/git/trees{/sha}\", \"statuses_url\": \"https://api.github.com/repos/iamvane/nabi_api/statuses/{sha}\", \"languages_url\": \"https://api.github.com/repos/iamvane/nabi_api/languages\", \"stargazers_url\": \"https://api.github.com/repos/iamvane/nabi_api/stargazers\", \"contributors_url\": \"https://api.github.com/repos/iamvane/nabi_api/contributors\", \"subscribers_url\": \"https://api.github.com/repos/iamvane/nabi_api/subscribers\", \"subscription_url\": \"https://api.github.com/repos/iamvane/nabi_api/subscription\", \"commits_url\": \"https://api.github.com/repos/iamvane/nabi_api/commits{/sha}\", \"git_commits_url\": \"https://api.github.com/repos/iamvane/nabi_api/git/commits{/sha}\", \"comments_url\": \"https://api.github.com/repos/iamvane/nabi_api/comments{/number}\", \"issue_comment_url\": \"https://api.github.com/repos/iamvane/nabi_api/issues/comments{/number}\", \"contents_url\": \"https://api.github.com/repos/iamvane/nabi_api/contents/{+path}\", \"compare_url\": \"https://api.github.com/repos/iamvane/nabi_api/compare/{base}...{head}\", \"merges_url\": \"https://api.github.com/repos/iamvane/nabi_api/merges\", \"archive_url\": \"https://api.github.com/repos/iamvane/nabi_api/{archive_format}{/ref}\", \"downloads_url\": \"https://api.github.com/repos/iamvane/nabi_api/downloads\", \"issues_url\": \"https://api.github.com/repos/iamvane/nabi_api/issues{/number}\", \"pulls_url\": \"https://api.github.com/repos/iamvane/nabi_api/pulls{/number}\", \"milestones_url\": \"https://api.github.com/repos/iamvane/nabi_api/milestones{/number}\", \"notifications_url\": \"https://api.github.com/repos/iamvane/nabi_api/notifications{?since,all,participating}\", \"labels_url\": \"https://api.github.com/repos/iamvane/nabi_api/labels{/name}\", \"releases_url\": \"https://api.github.com/repos/iamvane/nabi_api/releases{/id}\", \"deployments_url\": \"https://api.github.com/repos/iamvane/nabi_api/deployments\", \"created_at\": \"2017-12-15T18:04:37Z\", \"updated_at\": \"2017-12-15T18:16:47Z\", \"pushed_at\": \"2018-01-01T03:46:31Z\", \"git_url\": \"git://github.com/iamvane/nabi_api.git\", \"ssh_url\": \"git@github.com:iamvane/nabi_api.git\", \"clone_url\": \"https://github.com/iamvane/nabi_api.git\", \"svn_url\": \"https://github.com/iamvane/nabi_api\", \"homepage\": null, \"size\": 50, \"stargazers_count\": 0, \"watchers_count\": 0, \"language\": \"JavaScript\", \"has_issues\": true, \"has_projects\": true, \"has_downloads\": true, \"has_wiki\": true, \"has_pages\": false, \"forks_count\": 0, \"mirror_url\": null, \"archived\": false, \"open_issues_count\": 1, \"license\": null, \"forks\": 0, \"open_issues\": 1, \"watchers\": 0, \"default_branch\": \"master\"}}, \"base\": {\"label\": \"iamvane:master\", \"ref\": \"master\", \"sha\": \"70f1408dcf3a64fca6160b0bc8a5120dce7c9909\", \"user\": {\"login\": \"iamvane\", \"id\": 18074506, \"avatar_url\": \"https://avatars2.githubusercontent.com/u/18074506?v=4\", \"gravatar_id\": \"\", \"url\": \"https://api.github.com/users/iamvane\", \"html_url\": \"https://github.com/iamvane\", \"followers_url\": \"https://api.github.com/users/iamvane/followers\", \"following_url\": \"https://api.github.com/users/iamvane/following{/other_user}\", \"gists_url\": \"https://api.github.com/users/iamvane/gists{/gist_id}\", \"starred_url\": \"https://api.github.com/users/iamvane/starred{/owner}{/repo}\", \"subscriptions_url\": \"https://api.github.com/users/iamvane/subscriptions\", \"organizations_url\": \"https://api.github.com/users/iamvane/orgs\", \"repos_url\": \"https://api.github.com/users/iamvane/repos\", \"events_url\": \"https://api.github.com/users/iamvane/events{/privacy}\", \"received_events_url\": \"https://api.github.com/users/iamvane/received_events\", \"type\": \"User\", \"site_admin\": false}, \"repo\": {\"id\": 114398217, \"name\": \"nabi_api\", \"full_name\": \"iamvane/nabi_api\", \"owner\": {\"login\": \"iamvane\", \"id\": 18074506, \"avatar_url\": \"https://avatars2.githubusercontent.com/u/18074506?v=4\", \"gravatar_id\": \"\", \"url\": \"https://api.github.com/users/iamvane\", \"html_url\": \"https://github.com/iamvane\", \"followers_url\": \"https://api.github.com/users/iamvane/followers\", \"following_url\": \"https://api.github.com/users/iamvane/following{/other_user}\", \"gists_url\": \"https://api.github.com/users/iamvane/gists{/gist_id}\", \"starred_url\": \"https://api.github.com/users/iamvane/starred{/owner}{/repo}\", \"subscriptions_url\": \"https://api.github.com/users/iamvane/subscriptions\", \"organizations_url\": \"https://api.github.com/users/iamvane/orgs\", \"repos_url\": \"https://api.github.com/users/iamvane/repos\", \"events_url\": \"https://api.github.com/users/iamvane/events{/privacy}\", \"received_events_url\": \"https://api.github.com/users/iamvane/received_events\", \"type\": \"User\", \"site_admin\": false}, \"private\": false, \"html_url\": \"https://github.com/iamvane/nabi_api\", \"description\": null, \"fork\": false, \"url\": \"https://api.github.com/repos/iamvane/nabi_api\", \"forks_url\": \"https://api.github.com/repos/iamvane/nabi_api/forks\", \"keys_url\": \"https://api.github.com/repos/iamvane/nabi_api/keys{/key_id}\", \"collaborators_url\": \"https://api.github.com/repos/iamvane/nabi_api/collaborators{/collaborator}\", \"teams_url\": \"https://api.github.com/repos/iamvane/nabi_api/teams\", \"hooks_url\": \"https://api.github.com/repos/iamvane/nabi_api/hooks\", \"issue_events_url\": \"https://api.github.com/repos/iamvane/nabi_api/issues/events{/number}\", \"events_url\": \"https://api.github.com/repos/iamvane/nabi_api/events\", \"assignees_url\": \"https://api.github.com/repos/iamvane/nabi_api/assignees{/user}\", \"branches_url\": \"https://api.github.com/repos/iamvane/nabi_api/branches{/branch}\", \"tags_url\": \"https://api.github.com/repos/iamvane/nabi_api/tags\", \"blobs_url\": \"https://api.github.com/repos/iamvane/nabi_api/git/blobs{/sha}\", \"git_tags_url\": \"https://api.github.com/repos/iamvane/nabi_api/git/tags{/sha}\", \"git_refs_url\": \"https://api.github.com/repos/iamvane/nabi_api/git/refs{/sha}\", \"trees_url\": \"https://api.github.com/repos/iamvane/nabi_api/git/trees{/sha}\", \"statuses_url\": \"https://api.github.com/repos/iamvane/nabi_api/statuses/{sha}\", \"languages_url\": \"https://api.github.com/repos/iamvane/nabi_api/languages\", \"stargazers_url\": \"https://api.github.com/repos/iamvane/nabi_api/stargazers\", \"contributors_url\": \"https://api.github.com/repos/iamvane/nabi_api/contributors\", \"subscribers_url\": \"https://api.github.com/repos/iamvane/nabi_api/subscribers\", \"subscription_url\": \"https://api.github.com/repos/iamvane/nabi_api/subscription\", \"commits_url\": \"https://api.github.com/repos/iamvane/nabi_api/commits{/sha}\", \"git_commits_url\": \"https://api.github.com/repos/iamvane/nabi_api/git/commits{/sha}\", \"comments_url\": \"https://api.github.com/repos/iamvane/nabi_api/comments{/number}\", \"issue_comment_url\": \"https://api.github.com/repos/iamvane/nabi_api/issues/comments{/number}\", \"contents_url\": \"https://api.github.com/repos/iamvane/nabi_api/contents/{+path}\", \"compare_url\": \"https://api.github.com/repos/iamvane/nabi_api/compare/{base}...{head}\", \"merges_url\": \"https://api.github.com/repos/iamvane/nabi_api/merges\", \"archive_url\": \"https://api.github.com/repos/iamvane/nabi_api/{archive_format}{/ref}\", \"downloads_url\": \"https://api.github.com/repos/iamvane/nabi_api/downloads\", \"issues_url\": \"https://api.github.com/repos/iamvane/nabi_api/issues{/number}\", \"pulls_url\": \"https://api.github.com/repos/iamvane/nabi_api/pulls{/number}\", \"milestones_url\": \"https://api.github.com/repos/iamvane/nabi_api/milestones{/number}\", \"notifications_url\": \"https://api.github.com/repos/iamvane/nabi_api/notifications{?since,all,participating}\", \"labels_url\": \"https://api.github.com/repos/iamvane/nabi_api/labels{/name}\", \"releases_url\": \"https://api.github.com/repos/iamvane/nabi_api/releases{/id}\", \"deployments_url\": \"https://api.github.com/repos/iamvane/nabi_api/deployments\", \"created_at\": \"2017-12-15T18:04:37Z\", \"updated_at\": \"2017-12-15T18:16:47Z\", \"pushed_at\": \"2018-01-01T03:46:31Z\", \"git_url\": \"git://github.com/iamvane/nabi_api.git\", \"ssh_url\": \"git@github.com:iamvane/nabi_api.git\", \"clone_url\": \"https://github.com/iamvane/nabi_api.git\", \"svn_url\": \"https://github.com/iamvane/nabi_api\", \"homepage\": null, \"size\": 50, \"stargazers_count\": 0, \"watchers_count\": 0, \"language\": \"JavaScript\", \"has_issues\": true, \"has_projects\": true, \"has_downloads\": true, \"has_wiki\": true, \"has_pages\": false, \"forks_count\": 0, \"mirror_url\": null, \"archived\": false, \"open_issues_count\": 1, \"license\": null, \"forks\": 0, \"open_issues\": 1, \"watchers\": 0, \"default_branch\": \"master\"}}, \"_links\": {\"self\": {\"href\": \"https://api.github.com/repos/iamvane/nabi_api/pulls/5\"}, \"html\": {\"href\": \"https://github.com/iamvane/nabi_api/pull/5\"}, \"issue\": {\"href\": \"https://api.github.com/repos/iamvane/nabi_api/issues/5\"}, \"comments\": {\"href\": \"https://api.github.com/repos/iamvane/nabi_api/issues/5/comments\"}, \"review_comments\": {\"href\": \"https://api.github.com/repos/iamvane/nabi_api/pulls/5/comments\"}, \"review_comment\": {\"href\": \"https://api.github.com/repos/iamvane/nabi_api/pulls/comments{/number}\"}, \"commits\": {\"href\": \"https://api.github.com/repos/iamvane/nabi_api/pulls/5/commits\"}, \"statuses\": {\"href\": \"https://api.github.com/repos/iamvane/nabi_api/statuses/4bbd840b75ab6e45bcec4053f455d76ceb9b3a92\"}}, \"author_association\": \"OWNER\", \"merged\": false, \"mergeable\": null, \"rebaseable\": null, \"mergeable_state\": \"unknown\", \"merged_by\": null, \"comments\": 0, \"review_comments\": 0, \"maintainer_can_modify\": false, \"commits\": 27, \"additions\": 629, \"deletions\": 44, \"changed_files\": 21}}, \"public\": true, \"created_at\": \"2018-01-01T15:00:01Z\"}\n",
      "{\"id\": \"7045118916\", \"type\": \"WatchEvent\", \"actor\": {\"id\": 6794355, \"login\": \"Hzzz\", \"display_login\": \"Hzzz\", \"gravatar_id\": \"\", \"url\": \"https://api.github.com/users/Hzzz\", \"avatar_url\": \"https://avatars.githubusercontent.com/u/6794355?\"}, \"repo\": {\"id\": 22266795, \"name\": \"ljharb/qs\", \"url\": \"https://api.github.com/repos/ljharb/qs\"}, \"payload\": {\"action\": \"started\"}, \"public\": true, \"created_at\": \"2018-01-01T15:00:01Z\"}\n",
      "{\"id\": \"7045118919\", \"type\": \"PushEvent\", \"actor\": {\"id\": 34887732, \"login\": \"adschange\", \"display_login\": \"adschange\", \"gravatar_id\": \"\", \"url\": \"https://api.github.com/users/adschange\", \"avatar_url\": \"https://avatars.githubusercontent.com/u/34887732?\"}, \"repo\": {\"id\": 115693107, \"name\": \"adschange/blobs\", \"url\": \"https://api.github.com/repos/adschange/blobs\"}, \"payload\": {\"push_id\": 2226161603, \"size\": 1, \"distinct_size\": 1, \"ref\": \"refs/heads/master\", \"head\": \"ad9c1e0bf37abba08ef21655f8d5a44e3f5c61a3\", \"before\": \"27f0f013ec52faa7b40a69bd55ad786d721eb840\", \"commits\": [{\"sha\": \"ad9c1e0bf37abba08ef21655f8d5a44e3f5c61a3\", \"author\": {\"name\": \"adschange\", \"email\": \"7d4151d1f3186c687b88954b2692f53517b98e9a@users.noreply.github.com\"}, \"message\": \"Update ads.js\", \"distinct\": true, \"url\": \"https://api.github.com/repos/adschange/blobs/commits/ad9c1e0bf37abba08ef21655f8d5a44e3f5c61a3\"}]}, \"public\": true, \"created_at\": \"2018-01-01T15:00:01Z\"}\n",
      "{\"id\": \"7045118921\", \"type\": \"WatchEvent\", \"actor\": {\"id\": 2768053, \"login\": \"mothnode\", \"display_login\": \"mothnode\", \"gravatar_id\": \"\", \"url\": \"https://api.github.com/users/mothnode\", \"avatar_url\": \"https://avatars.githubusercontent.com/u/2768053?\"}, \"repo\": {\"id\": 89853117, \"name\": \"szymonkaliski/Timav\", \"url\": \"https://api.github.com/repos/szymonkaliski/Timav\"}, \"payload\": {\"action\": \"started\"}, \"public\": true, \"created_at\": \"2018-01-01T15:00:01Z\"}\n",
      "{\"id\": \"7045118922\", \"type\": \"PullRequestEvent\", \"actor\": {\"id\": 22879325, \"login\": \"zorori777\", \"display_login\": \"zorori777\", \"gravatar_id\": \"\", \"url\": \"https://api.github.com/users/zorori777\", \"avatar_url\": \"https://avatars.githubusercontent.com/u/22879325?\"}, \"repo\": {\"id\": 115674792, \"name\": \"zorori777/angular_tutorial_1\", \"url\": \"https://api.github.com/repos/zorori777/angular_tutorial_1\"}, \"payload\": {\"action\": \"opened\", \"number\": 11, \"pull_request\": {\"url\": \"https://api.github.com/repos/zorori777/angular_tutorial_1/pulls/11\", \"id\": 160650727, \"html_url\": \"https://github.com/zorori777/angular_tutorial_1/pull/11\", \"diff_url\": \"https://github.com/zorori777/angular_tutorial_1/pull/11.diff\", \"patch_url\": \"https://github.com/zorori777/angular_tutorial_1/pull/11.patch\", \"issue_url\": \"https://api.github.com/repos/zorori777/angular_tutorial_1/issues/11\", \"number\": 11, \"state\": \"open\", \"locked\": false, \"title\": \"Feature/add http client data\", \"user\": {\"login\": \"zorori777\", \"id\": 22879325, \"avatar_url\": \"https://avatars2.githubusercontent.com/u/22879325?v=4\", \"gravatar_id\": \"\", \"url\": \"https://api.github.com/users/zorori777\", \"html_url\": \"https://github.com/zorori777\", \"followers_url\": \"https://api.github.com/users/zorori777/followers\", \"following_url\": \"https://api.github.com/users/zorori777/following{/other_user}\", \"gists_url\": \"https://api.github.com/users/zorori777/gists{/gist_id}\", \"starred_url\": \"https://api.github.com/users/zorori777/starred{/owner}{/repo}\", \"subscriptions_url\": \"https://api.github.com/users/zorori777/subscriptions\", \"organizations_url\": \"https://api.github.com/users/zorori777/orgs\", \"repos_url\": \"https://api.github.com/users/zorori777/repos\", \"events_url\": \"https://api.github.com/users/zorori777/events{/privacy}\", \"received_events_url\": \"https://api.github.com/users/zorori777/received_events\", \"type\": \"User\", \"site_admin\": false}, \"body\": \"# \\u3084\\u3063\\u305f\\u3053\\u3068\\r\\n- \\u4fdd\\u5b58\\u6a5f\\u80fd\\u306e\\u4f5c\\u6210\\r\\n- http \\u30ea\\u30af\\u30a8\\u30b9\\u30c8\\u5c0e\\u5165\", \"created_at\": \"2018-01-01T15:00:01Z\", \"updated_at\": \"2018-01-01T15:00:01Z\", \"closed_at\": null, \"merged_at\": null, \"merge_commit_sha\": null, \"assignee\": null, \"assignees\": [], \"requested_reviewers\": [], \"milestone\": null, \"commits_url\": \"https://api.github.com/repos/zorori777/angular_tutorial_1/pulls/11/commits\", \"review_comments_url\": \"https://api.github.com/repos/zorori777/angular_tutorial_1/pulls/11/comments\", \"review_comment_url\": \"https://api.github.com/repos/zorori777/angular_tutorial_1/pulls/comments{/number}\", \"comments_url\": \"https://api.github.com/repos/zorori777/angular_tutorial_1/issues/11/comments\", \"statuses_url\": \"https://api.github.com/repos/zorori777/angular_tutorial_1/statuses/e02c02636c5da84c6eed39abe3a1eae273a7263c\", \"head\": {\"label\": \"zorori777:feature/add_http_client_data\", \"ref\": \"feature/add_http_client_data\", \"sha\": \"e02c02636c5da84c6eed39abe3a1eae273a7263c\", \"user\": {\"login\": \"zorori777\", \"id\": 22879325, \"avatar_url\": \"https://avatars2.githubusercontent.com/u/22879325?v=4\", \"gravatar_id\": \"\", \"url\": \"https://api.github.com/users/zorori777\", \"html_url\": \"https://github.com/zorori777\", \"followers_url\": \"https://api.github.com/users/zorori777/followers\", \"following_url\": \"https://api.github.com/users/zorori777/following{/other_user}\", \"gists_url\": \"https://api.github.com/users/zorori777/gists{/gist_id}\", \"starred_url\": \"https://api.github.com/users/zorori777/starred{/owner}{/repo}\", \"subscriptions_url\": \"https://api.github.com/users/zorori777/subscriptions\", \"organizations_url\": \"https://api.github.com/users/zorori777/orgs\", \"repos_url\": \"https://api.github.com/users/zorori777/repos\", \"events_url\": \"https://api.github.com/users/zorori777/events{/privacy}\", \"received_events_url\": \"https://api.github.com/users/zorori777/received_events\", \"type\": \"User\", \"site_admin\": false}, \"repo\": {\"id\": 115674792, \"name\": \"angular_tutorial_1\", \"full_name\": \"zorori777/angular_tutorial_1\", \"owner\": {\"login\": \"zorori777\", \"id\": 22879325, \"avatar_url\": \"https://avatars2.githubusercontent.com/u/22879325?v=4\", \"gravatar_id\": \"\", \"url\": \"https://api.github.com/users/zorori777\", \"html_url\": \"https://github.com/zorori777\", \"followers_url\": \"https://api.github.com/users/zorori777/followers\", \"following_url\": \"https://api.github.com/users/zorori777/following{/other_user}\", \"gists_url\": \"https://api.github.com/users/zorori777/gists{/gist_id}\", \"starred_url\": \"https://api.github.com/users/zorori777/starred{/owner}{/repo}\", \"subscriptions_url\": \"https://api.github.com/users/zorori777/subscriptions\", \"organizations_url\": \"https://api.github.com/users/zorori777/orgs\", \"repos_url\": \"https://api.github.com/users/zorori777/repos\", \"events_url\": \"https://api.github.com/users/zorori777/events{/privacy}\", \"received_events_url\": \"https://api.github.com/users/zorori777/received_events\", \"type\": \"User\", \"site_admin\": false}, \"private\": false, \"html_url\": \"https://github.com/zorori777/angular_tutorial_1\", \"description\": null, \"fork\": false, \"url\": \"https://api.github.com/repos/zorori777/angular_tutorial_1\", \"forks_url\": \"https://api.github.com/repos/zorori777/angular_tutorial_1/forks\", \"keys_url\": \"https://api.github.com/repos/zorori777/angular_tutorial_1/keys{/key_id}\", \"collaborators_url\": \"https://api.github.com/repos/zorori777/angular_tutorial_1/collaborators{/collaborator}\", \"teams_url\": \"https://api.github.com/repos/zorori777/angular_tutorial_1/teams\", \"hooks_url\": \"https://api.github.com/repos/zorori777/angular_tutorial_1/hooks\", \"issue_events_url\": \"https://api.github.com/repos/zorori777/angular_tutorial_1/issues/events{/number}\", \"events_url\": \"https://api.github.com/repos/zorori777/angular_tutorial_1/events\", \"assignees_url\": \"https://api.github.com/repos/zorori777/angular_tutorial_1/assignees{/user}\", \"branches_url\": \"https://api.github.com/repos/zorori777/angular_tutorial_1/branches{/branch}\", \"tags_url\": \"https://api.github.com/repos/zorori777/angular_tutorial_1/tags\", \"blobs_url\": \"https://api.github.com/repos/zorori777/angular_tutorial_1/git/blobs{/sha}\", \"git_tags_url\": \"https://api.github.com/repos/zorori777/angular_tutorial_1/git/tags{/sha}\", \"git_refs_url\": \"https://api.github.com/repos/zorori777/angular_tutorial_1/git/refs{/sha}\", \"trees_url\": \"https://api.github.com/repos/zorori777/angular_tutorial_1/git/trees{/sha}\", \"statuses_url\": \"https://api.github.com/repos/zorori777/angular_tutorial_1/statuses/{sha}\", \"languages_url\": \"https://api.github.com/repos/zorori777/angular_tutorial_1/languages\", \"stargazers_url\": \"https://api.github.com/repos/zorori777/angular_tutorial_1/stargazers\", \"contributors_url\": \"https://api.github.com/repos/zorori777/angular_tutorial_1/contributors\", \"subscribers_url\": \"https://api.github.com/repos/zorori777/angular_tutorial_1/subscribers\", \"subscription_url\": \"https://api.github.com/repos/zorori777/angular_tutorial_1/subscription\", \"commits_url\": \"https://api.github.com/repos/zorori777/angular_tutorial_1/commits{/sha}\", \"git_commits_url\": \"https://api.github.com/repos/zorori777/angular_tutorial_1/git/commits{/sha}\", \"comments_url\": \"https://api.github.com/repos/zorori777/angular_tutorial_1/comments{/number}\", \"issue_comment_url\": \"https://api.github.com/repos/zorori777/angular_tutorial_1/issues/comments{/number}\", \"contents_url\": \"https://api.github.com/repos/zorori777/angular_tutorial_1/contents/{+path}\", \"compare_url\": \"https://api.github.com/repos/zorori777/angular_tutorial_1/compare/{base}...{head}\", \"merges_url\": \"https://api.github.com/repos/zorori777/angular_tutorial_1/merges\", \"archive_url\": \"https://api.github.com/repos/zorori777/angular_tutorial_1/{archive_format}{/ref}\", \"downloads_url\": \"https://api.github.com/repos/zorori777/angular_tutorial_1/downloads\", \"issues_url\": \"https://api.github.com/repos/zorori777/angular_tutorial_1/issues{/number}\", \"pulls_url\": \"https://api.github.com/repos/zorori777/angular_tutorial_1/pulls{/number}\", \"milestones_url\": \"https://api.github.com/repos/zorori777/angular_tutorial_1/milestones{/number}\", \"notifications_url\": \"https://api.github.com/repos/zorori777/angular_tutorial_1/notifications{?since,all,participating}\", \"labels_url\": \"https://api.github.com/repos/zorori777/angular_tutorial_1/labels{/name}\", \"releases_url\": \"https://api.github.com/repos/zorori777/angular_tutorial_1/releases{/id}\", \"deployments_url\": \"https://api.github.com/repos/zorori777/angular_tutorial_1/deployments\", \"created_at\": \"2017-12-29T01:47:00Z\", \"updated_at\": \"2017-12-29T01:51:19Z\", \"pushed_at\": \"2018-01-01T14:59:27Z\", \"git_url\": \"git://github.com/zorori777/angular_tutorial_1.git\", \"ssh_url\": \"git@github.com:zorori777/angular_tutorial_1.git\", \"clone_url\": \"https://github.com/zorori777/angular_tutorial_1.git\", \"svn_url\": \"https://github.com/zorori777/angular_tutorial_1\", \"homepage\": null, \"size\": 82, \"stargazers_count\": 0, \"watchers_count\": 0, \"language\": \"JavaScript\", \"has_issues\": true, \"has_projects\": true, \"has_downloads\": true, \"has_wiki\": true, \"has_pages\": false, \"forks_count\": 0, \"mirror_url\": null, \"archived\": false, \"open_issues_count\": 1, \"license\": {\"key\": \"mit\", \"name\": \"MIT License\", \"spdx_id\": \"MIT\", \"url\": \"https://api.github.com/licenses/mit\"}, \"forks\": 0, \"open_issues\": 1, \"watchers\": 0, \"default_branch\": \"develop\"}}, \"base\": {\"label\": \"zorori777:develop\", \"ref\": \"develop\", \"sha\": \"82318562ba2fd60f94ded2f98b52755584e794b9\", \"user\": {\"login\": \"zorori777\", \"id\": 22879325, \"avatar_url\": \"https://avatars2.githubusercontent.com/u/22879325?v=4\", \"gravatar_id\": \"\", \"url\": \"https://api.github.com/users/zorori777\", \"html_url\": \"https://github.com/zorori777\", \"followers_url\": \"https://api.github.com/users/zorori777/followers\", \"following_url\": \"https://api.github.com/users/zorori777/following{/other_user}\", \"gists_url\": \"https://api.github.com/users/zorori777/gists{/gist_id}\", \"starred_url\": \"https://api.github.com/users/zorori777/starred{/owner}{/repo}\", \"subscriptions_url\": \"https://api.github.com/users/zorori777/subscriptions\", \"organizations_url\": \"https://api.github.com/users/zorori777/orgs\", \"repos_url\": \"https://api.github.com/users/zorori777/repos\", \"events_url\": \"https://api.github.com/users/zorori777/events{/privacy}\", \"received_events_url\": \"https://api.github.com/users/zorori777/received_events\", \"type\": \"User\", \"site_admin\": false}, \"repo\": {\"id\": 115674792, \"name\": \"angular_tutorial_1\", \"full_name\": \"zorori777/angular_tutorial_1\", \"owner\": {\"login\": \"zorori777\", \"id\": 22879325, \"avatar_url\": \"https://avatars2.githubusercontent.com/u/22879325?v=4\", \"gravatar_id\": \"\", \"url\": \"https://api.github.com/users/zorori777\", \"html_url\": \"https://github.com/zorori777\", \"followers_url\": \"https://api.github.com/users/zorori777/followers\", \"following_url\": \"https://api.github.com/users/zorori777/following{/other_user}\", \"gists_url\": \"https://api.github.com/users/zorori777/gists{/gist_id}\", \"starred_url\": \"https://api.github.com/users/zorori777/starred{/owner}{/repo}\", \"subscriptions_url\": \"https://api.github.com/users/zorori777/subscriptions\", \"organizations_url\": \"https://api.github.com/users/zorori777/orgs\", \"repos_url\": \"https://api.github.com/users/zorori777/repos\", \"events_url\": \"https://api.github.com/users/zorori777/events{/privacy}\", \"received_events_url\": \"https://api.github.com/users/zorori777/received_events\", \"type\": \"User\", \"site_admin\": false}, \"private\": false, \"html_url\": \"https://github.com/zorori777/angular_tutorial_1\", \"description\": null, \"fork\": false, \"url\": \"https://api.github.com/repos/zorori777/angular_tutorial_1\", \"forks_url\": \"https://api.github.com/repos/zorori777/angular_tutorial_1/forks\", \"keys_url\": \"https://api.github.com/repos/zorori777/angular_tutorial_1/keys{/key_id}\", \"collaborators_url\": \"https://api.github.com/repos/zorori777/angular_tutorial_1/collaborators{/collaborator}\", \"teams_url\": \"https://api.github.com/repos/zorori777/angular_tutorial_1/teams\", \"hooks_url\": \"https://api.github.com/repos/zorori777/angular_tutorial_1/hooks\", \"issue_events_url\": \"https://api.github.com/repos/zorori777/angular_tutorial_1/issues/events{/number}\", \"events_url\": \"https://api.github.com/repos/zorori777/angular_tutorial_1/events\", \"assignees_url\": \"https://api.github.com/repos/zorori777/angular_tutorial_1/assignees{/user}\", \"branches_url\": \"https://api.github.com/repos/zorori777/angular_tutorial_1/branches{/branch}\", \"tags_url\": \"https://api.github.com/repos/zorori777/angular_tutorial_1/tags\", \"blobs_url\": \"https://api.github.com/repos/zorori777/angular_tutorial_1/git/blobs{/sha}\", \"git_tags_url\": \"https://api.github.com/repos/zorori777/angular_tutorial_1/git/tags{/sha}\", \"git_refs_url\": \"https://api.github.com/repos/zorori777/angular_tutorial_1/git/refs{/sha}\", \"trees_url\": \"https://api.github.com/repos/zorori777/angular_tutorial_1/git/trees{/sha}\", \"statuses_url\": \"https://api.github.com/repos/zorori777/angular_tutorial_1/statuses/{sha}\", \"languages_url\": \"https://api.github.com/repos/zorori777/angular_tutorial_1/languages\", \"stargazers_url\": \"https://api.github.com/repos/zorori777/angular_tutorial_1/stargazers\", \"contributors_url\": \"https://api.github.com/repos/zorori777/angular_tutorial_1/contributors\", \"subscribers_url\": \"https://api.github.com/repos/zorori777/angular_tutorial_1/subscribers\", \"subscription_url\": \"https://api.github.com/repos/zorori777/angular_tutorial_1/subscription\", \"commits_url\": \"https://api.github.com/repos/zorori777/angular_tutorial_1/commits{/sha}\", \"git_commits_url\": \"https://api.github.com/repos/zorori777/angular_tutorial_1/git/commits{/sha}\", \"comments_url\": \"https://api.github.com/repos/zorori777/angular_tutorial_1/comments{/number}\", \"issue_comment_url\": \"https://api.github.com/repos/zorori777/angular_tutorial_1/issues/comments{/number}\", \"contents_url\": \"https://api.github.com/repos/zorori777/angular_tutorial_1/contents/{+path}\", \"compare_url\": \"https://api.github.com/repos/zorori777/angular_tutorial_1/compare/{base}...{head}\", \"merges_url\": \"https://api.github.com/repos/zorori777/angular_tutorial_1/merges\", \"archive_url\": \"https://api.github.com/repos/zorori777/angular_tutorial_1/{archive_format}{/ref}\", \"downloads_url\": \"https://api.github.com/repos/zorori777/angular_tutorial_1/downloads\", \"issues_url\": \"https://api.github.com/repos/zorori777/angular_tutorial_1/issues{/number}\", \"pulls_url\": \"https://api.github.com/repos/zorori777/angular_tutorial_1/pulls{/number}\", \"milestones_url\": \"https://api.github.com/repos/zorori777/angular_tutorial_1/milestones{/number}\", \"notifications_url\": \"https://api.github.com/repos/zorori777/angular_tutorial_1/notifications{?since,all,participating}\", \"labels_url\": \"https://api.github.com/repos/zorori777/angular_tutorial_1/labels{/name}\", \"releases_url\": \"https://api.github.com/repos/zorori777/angular_tutorial_1/releases{/id}\", \"deployments_url\": \"https://api.github.com/repos/zorori777/angular_tutorial_1/deployments\", \"created_at\": \"2017-12-29T01:47:00Z\", \"updated_at\": \"2017-12-29T01:51:19Z\", \"pushed_at\": \"2018-01-01T14:59:27Z\", \"git_url\": \"git://github.com/zorori777/angular_tutorial_1.git\", \"ssh_url\": \"git@github.com:zorori777/angular_tutorial_1.git\", \"clone_url\": \"https://github.com/zorori777/angular_tutorial_1.git\", \"svn_url\": \"https://github.com/zorori777/angular_tutorial_1\", \"homepage\": null, \"size\": 82, \"stargazers_count\": 0, \"watchers_count\": 0, \"language\": \"JavaScript\", \"has_issues\": true, \"has_projects\": true, \"has_downloads\": true, \"has_wiki\": true, \"has_pages\": false, \"forks_count\": 0, \"mirror_url\": null, \"archived\": false, \"open_issues_count\": 1, \"license\": {\"key\": \"mit\", \"name\": \"MIT License\", \"spdx_id\": \"MIT\", \"url\": \"https://api.github.com/licenses/mit\"}, \"forks\": 0, \"open_issues\": 1, \"watchers\": 0, \"default_branch\": \"develop\"}}, \"_links\": {\"self\": {\"href\": \"https://api.github.com/repos/zorori777/angular_tutorial_1/pulls/11\"}, \"html\": {\"href\": \"https://github.com/zorori777/angular_tutorial_1/pull/11\"}, \"issue\": {\"href\": \"https://api.github.com/repos/zorori777/angular_tutorial_1/issues/11\"}, \"comments\": {\"href\": \"https://api.github.com/repos/zorori777/angular_tutorial_1/issues/11/comments\"}, \"review_comments\": {\"href\": \"https://api.github.com/repos/zorori777/angular_tutorial_1/pulls/11/comments\"}, \"review_comment\": {\"href\": \"https://api.github.com/repos/zorori777/angular_tutorial_1/pulls/comments{/number}\"}, \"commits\": {\"href\": \"https://api.github.com/repos/zorori777/angular_tutorial_1/pulls/11/commits\"}, \"statuses\": {\"href\": \"https://api.github.com/repos/zorori777/angular_tutorial_1/statuses/e02c02636c5da84c6eed39abe3a1eae273a7263c\"}}, \"author_association\": \"OWNER\", \"merged\": false, \"mergeable\": null, \"rebaseable\": null, \"mergeable_state\": \"unknown\", \"merged_by\": null, \"comments\": 0, \"review_comments\": 0, \"maintainer_can_modify\": false, \"commits\": 3, \"additions\": 78, \"deletions\": 15, \"changed_files\": 6}}, \"public\": true, \"created_at\": \"2018-01-01T15:00:01Z\"}\n",
      "{\"id\": \"7045118924\", \"type\": \"IssueCommentEvent\", \"actor\": {\"id\": 3862727, \"login\": \"StefanBertels\", \"display_login\": \"StefanBertels\", \"gravatar_id\": \"\", \"url\": \"https://api.github.com/users/StefanBertels\", \"avatar_url\": \"https://avatars.githubusercontent.com/u/3862727?\"}, \"repo\": {\"id\": 26732453, \"name\": \"louthy/language-ext\", \"url\": \"https://api.github.com/repos/louthy/language-ext\"}, \"payload\": {\"action\": \"created\", \"issue\": {\"url\": \"https://api.github.com/repos/louthy/language-ext/issues/205\", \"repository_url\": \"https://api.github.com/repos/louthy/language-ext\", \"labels_url\": \"https://api.github.com/repos/louthy/language-ext/issues/205/labels{/name}\", \"comments_url\": \"https://api.github.com/repos/louthy/language-ext/issues/205/comments\", \"events_url\": \"https://api.github.com/repos/louthy/language-ext/issues/205/events\", \"html_url\": \"https://github.com/louthy/language-ext/issues/205\", \"id\": 216750731, \"number\": 205, \"title\": \"Will/should Option<T> implement IDisposable?\", \"user\": {\"login\": \"StefanBertels\", \"id\": 3862727, \"avatar_url\": \"https://avatars0.githubusercontent.com/u/3862727?v=4\", \"gravatar_id\": \"\", \"url\": \"https://api.github.com/users/StefanBertels\", \"html_url\": \"https://github.com/StefanBertels\", \"followers_url\": \"https://api.github.com/users/StefanBertels/followers\", \"following_url\": \"https://api.github.com/users/StefanBertels/following{/other_user}\", \"gists_url\": \"https://api.github.com/users/StefanBertels/gists{/gist_id}\", \"starred_url\": \"https://api.github.com/users/StefanBertels/starred{/owner}{/repo}\", \"subscriptions_url\": \"https://api.github.com/users/StefanBertels/subscriptions\", \"organizations_url\": \"https://api.github.com/users/StefanBertels/orgs\", \"repos_url\": \"https://api.github.com/users/StefanBertels/repos\", \"events_url\": \"https://api.github.com/users/StefanBertels/events{/privacy}\", \"received_events_url\": \"https://api.github.com/users/StefanBertels/received_events\", \"type\": \"User\", \"site_admin\": false}, \"labels\": [], \"state\": \"open\", \"locked\": false, \"assignee\": null, \"assignees\": [], \"milestone\": null, \"comments\": 24, \"created_at\": \"2017-03-24T11:14:20Z\", \"updated_at\": \"2018-01-01T15:00:01Z\", \"closed_at\": null, \"author_association\": \"CONTRIBUTOR\", \"body\": \"Why does `Option<T>` does not implement `IDisposable`? Can this be changed?\\r\\n\\r\\nIf I have a `IDisposable `type T and wrap it with `Option<T>` e.g. resources will not get freed automatically (in time). Think about `Option<FileStream>`.\"}, \"comment\": {\"url\": \"https://api.github.com/repos/louthy/language-ext/issues/comments/354657562\", \"html_url\": \"https://github.com/louthy/language-ext/issues/205#issuecomment-354657562\", \"issue_url\": \"https://api.github.com/repos/louthy/language-ext/issues/205\", \"id\": 354657562, \"user\": {\"login\": \"StefanBertels\", \"id\": 3862727, \"avatar_url\": \"https://avatars0.githubusercontent.com/u/3862727?v=4\", \"gravatar_id\": \"\", \"url\": \"https://api.github.com/users/StefanBertels\", \"html_url\": \"https://github.com/StefanBertels\", \"followers_url\": \"https://api.github.com/users/StefanBertels/followers\", \"following_url\": \"https://api.github.com/users/StefanBertels/following{/other_user}\", \"gists_url\": \"https://api.github.com/users/StefanBertels/gists{/gist_id}\", \"starred_url\": \"https://api.github.com/users/StefanBertels/starred{/owner}{/repo}\", \"subscriptions_url\": \"https://api.github.com/users/StefanBertels/subscriptions\", \"organizations_url\": \"https://api.github.com/users/StefanBertels/orgs\", \"repos_url\": \"https://api.github.com/users/StefanBertels/repos\", \"events_url\": \"https://api.github.com/users/StefanBertels/events{/privacy}\", \"received_events_url\": \"https://api.github.com/users/StefanBertels/received_events\", \"type\": \"User\", \"site_admin\": false}, \"created_at\": \"2018-01-01T15:00:01Z\", \"updated_at\": \"2018-01-01T15:00:01Z\", \"author_association\": \"CONTRIBUTOR\", \"body\": \"@bender2k14\\r\\nI don't think you need state or side-effects for Halt Problem... ;-)\\r\\n\\r\\nIMO: Immutability is not a problem. The problem is we have copies of references to the same object. Which reference is \\\"master\\\"? There is no such ownership flag in C#. Would be great if we had something like this because then compiler could call Dispose automatically if scope of \\\"master\\\" reference ends.\\r\\n\\r\\n@faeriedust \\r\\nWe don't know whether an arbitrary Option is owner of inner disposable or not. Depends on context.\\r\\nThe issue here is: If Option is owner of some Disposable, then Option itself should be IDisposable.\\r\\nThere is some practical value because if Option is not IDisposable, you cannot use it in code like echo actor (return type of setupFn = state). And of course using/use in combination with such Option.\\r\\n\\r\\nI don't see a problem with @faeriedust example because it depends on users code whether Dispose on Option will be called. You only call Dispose() on Options that are owner.\\r\\n\\r\\n> `Option<>` here is pretty clearly not the owner of the inner service\\r\\n\\r\\ngets wrong if you add this line of code:\\r\\n\\r\\n```\\r\\nvar x = _MyMethod(Some(new OuterService { InnerService = CreateSomeDisposable() }));\\r\\n```\\r\\n\\r\\nAdmittedly the drawback of IDisposable Option is that we will create objects of type Option<T> where we won't call Dispose() because this option is not or is no more owner of the inner object of type T.\\r\\n\\r\\n\"}}, \"public\": true, \"created_at\": \"2018-01-01T15:00:01Z\"}\n",
      "{\"id\": \"7045118925\", \"type\": \"PushEvent\", \"actor\": {\"id\": 7939443, \"login\": \"yangshebing\", \"display_login\": \"yangshebing\", \"gravatar_id\": \"\", \"url\": \"https://api.github.com/users/yangshebing\", \"avatar_url\": \"https://avatars.githubusercontent.com/u/7939443?\"}, \"repo\": {\"id\": 42664511, \"name\": \"yangshebing/yangshebing.github.io\", \"url\": \"https://api.github.com/repos/yangshebing/yangshebing.github.io\"}, \"payload\": {\"push_id\": 2226161605, \"size\": 1, \"distinct_size\": 1, \"ref\": \"refs/heads/master\", \"head\": \"301375685fb6ecaf53171a3e49a98c7984c0ff93\", \"before\": \"0e2cb5ecf97ad0aa7ec69219a0b88081190d10e8\", \"commits\": [{\"sha\": \"301375685fb6ecaf53171a3e49a98c7984c0ff93\", \"author\": {\"name\": \"yangshebing\", \"email\": \"775a0c084195e76af19e0c15a34054befee659c3@163.com\"}, \"message\": \"Site updated: 2018-01-01 22:59:52\", \"distinct\": true, \"url\": \"https://api.github.com/repos/yangshebing/yangshebing.github.io/commits/301375685fb6ecaf53171a3e49a98c7984c0ff93\"}]}, \"public\": true, \"created_at\": \"2018-01-01T15:00:01Z\"}\n",
      "{\"id\": \"7045118926\", \"type\": \"PushEvent\", \"actor\": {\"id\": 3054805, \"login\": \"tusharpm\", \"display_login\": \"tusharpm\", \"gravatar_id\": \"\", \"url\": \"https://api.github.com/users/tusharpm\", \"avatar_url\": \"https://avatars.githubusercontent.com/u/3054805?\"}, \"repo\": {\"id\": 96035263, \"name\": \"tusharpm/openage\", \"url\": \"https://api.github.com/repos/tusharpm/openage\"}, \"payload\": {\"push_id\": 2226161606, \"size\": 1, \"distinct_size\": 1, \"ref\": \"refs/heads/cxx_compile_features\", \"head\": \"cc58cd5e68aa9afd55670b65638a382844895e40\", \"before\": \"f92fdaa2842c4a079414b638bf68fddd768b5c28\", \"commits\": [{\"sha\": \"cc58cd5e68aa9afd55670b65638a382844895e40\", \"author\": {\"name\": \"Tushar Maheshwari\", \"email\": \"a52b8b8c0b480e312b910bfbe7fde3268e1c290c@gmail.com\"}, \"message\": \"buildsystem: require c++ compiler to support following c++17 features\\n- nested namespaces\\n- structured bindings\", \"distinct\": true, \"url\": \"https://api.github.com/repos/tusharpm/openage/commits/cc58cd5e68aa9afd55670b65638a382844895e40\"}]}, \"public\": true, \"created_at\": \"2018-01-01T15:00:01Z\"}\n",
      "{\"id\": \"7045118927\", \"type\": \"ForkEvent\", \"actor\": {\"id\": 10273261, \"login\": \"thoced\", \"display_login\": \"thoced\", \"gravatar_id\": \"\", \"url\": \"https://api.github.com/users/thoced\", \"avatar_url\": \"https://avatars.githubusercontent.com/u/10273261?\"}, \"repo\": {\"id\": 80447937, \"name\": \"JavaSaBr/jmonkeybuilder\", \"url\": \"https://api.github.com/repos/JavaSaBr/jmonkeybuilder\"}, \"payload\": {\"forkee\": {\"id\": 115926123, \"name\": \"jmonkeybuilder\", \"full_name\": \"thoced/jmonkeybuilder\", \"owner\": {\"login\": \"thoced\", \"id\": 10273261, \"avatar_url\": \"https://avatars0.githubusercontent.com/u/10273261?v=4\", \"gravatar_id\": \"\", \"url\": \"https://api.github.com/users/thoced\", \"html_url\": \"https://github.com/thoced\", \"followers_url\": \"https://api.github.com/users/thoced/followers\", \"following_url\": \"https://api.github.com/users/thoced/following{/other_user}\", \"gists_url\": \"https://api.github.com/users/thoced/gists{/gist_id}\", \"starred_url\": \"https://api.github.com/users/thoced/starred{/owner}{/repo}\", \"subscriptions_url\": \"https://api.github.com/users/thoced/subscriptions\", \"organizations_url\": \"https://api.github.com/users/thoced/orgs\", \"repos_url\": \"https://api.github.com/users/thoced/repos\", \"events_url\": \"https://api.github.com/users/thoced/events{/privacy}\", \"received_events_url\": \"https://api.github.com/users/thoced/received_events\", \"type\": \"User\", \"site_admin\": false}, \"private\": false, \"html_url\": \"https://github.com/thoced/jmonkeybuilder\", \"description\": \"jMonkeyBuilder\", \"fork\": true, \"url\": \"https://api.github.com/repos/thoced/jmonkeybuilder\", \"forks_url\": \"https://api.github.com/repos/thoced/jmonkeybuilder/forks\", \"keys_url\": \"https://api.github.com/repos/thoced/jmonkeybuilder/keys{/key_id}\", \"collaborators_url\": \"https://api.github.com/repos/thoced/jmonkeybuilder/collaborators{/collaborator}\", \"teams_url\": \"https://api.github.com/repos/thoced/jmonkeybuilder/teams\", \"hooks_url\": \"https://api.github.com/repos/thoced/jmonkeybuilder/hooks\", \"issue_events_url\": \"https://api.github.com/repos/thoced/jmonkeybuilder/issues/events{/number}\", \"events_url\": \"https://api.github.com/repos/thoced/jmonkeybuilder/events\", \"assignees_url\": \"https://api.github.com/repos/thoced/jmonkeybuilder/assignees{/user}\", \"branches_url\": \"https://api.github.com/repos/thoced/jmonkeybuilder/branches{/branch}\", \"tags_url\": \"https://api.github.com/repos/thoced/jmonkeybuilder/tags\", \"blobs_url\": \"https://api.github.com/repos/thoced/jmonkeybuilder/git/blobs{/sha}\", \"git_tags_url\": \"https://api.github.com/repos/thoced/jmonkeybuilder/git/tags{/sha}\", \"git_refs_url\": \"https://api.github.com/repos/thoced/jmonkeybuilder/git/refs{/sha}\", \"trees_url\": \"https://api.github.com/repos/thoced/jmonkeybuilder/git/trees{/sha}\", \"statuses_url\": \"https://api.github.com/repos/thoced/jmonkeybuilder/statuses/{sha}\", \"languages_url\": \"https://api.github.com/repos/thoced/jmonkeybuilder/languages\", \"stargazers_url\": \"https://api.github.com/repos/thoced/jmonkeybuilder/stargazers\", \"contributors_url\": \"https://api.github.com/repos/thoced/jmonkeybuilder/contributors\", \"subscribers_url\": \"https://api.github.com/repos/thoced/jmonkeybuilder/subscribers\", \"subscription_url\": \"https://api.github.com/repos/thoced/jmonkeybuilder/subscription\", \"commits_url\": \"https://api.github.com/repos/thoced/jmonkeybuilder/commits{/sha}\", \"git_commits_url\": \"https://api.github.com/repos/thoced/jmonkeybuilder/git/commits{/sha}\", \"comments_url\": \"https://api.github.com/repos/thoced/jmonkeybuilder/comments{/number}\", \"issue_comment_url\": \"https://api.github.com/repos/thoced/jmonkeybuilder/issues/comments{/number}\", \"contents_url\": \"https://api.github.com/repos/thoced/jmonkeybuilder/contents/{+path}\", \"compare_url\": \"https://api.github.com/repos/thoced/jmonkeybuilder/compare/{base}...{head}\", \"merges_url\": \"https://api.github.com/repos/thoced/jmonkeybuilder/merges\", \"archive_url\": \"https://api.github.com/repos/thoced/jmonkeybuilder/{archive_format}{/ref}\", \"downloads_url\": \"https://api.github.com/repos/thoced/jmonkeybuilder/downloads\", \"issues_url\": \"https://api.github.com/repos/thoced/jmonkeybuilder/issues{/number}\", \"pulls_url\": \"https://api.github.com/repos/thoced/jmonkeybuilder/pulls{/number}\", \"milestones_url\": \"https://api.github.com/repos/thoced/jmonkeybuilder/milestones{/number}\", \"notifications_url\": \"https://api.github.com/repos/thoced/jmonkeybuilder/notifications{?since,all,participating}\", \"labels_url\": \"https://api.github.com/repos/thoced/jmonkeybuilder/labels{/name}\", \"releases_url\": \"https://api.github.com/repos/thoced/jmonkeybuilder/releases{/id}\", \"deployments_url\": \"https://api.github.com/repos/thoced/jmonkeybuilder/deployments\", \"created_at\": \"2018-01-01T15:00:01Z\", \"updated_at\": \"2017-12-13T00:59:26Z\", \"pushed_at\": \"2017-12-07T04:00:36Z\", \"git_url\": \"git://github.com/thoced/jmonkeybuilder.git\", \"ssh_url\": \"git@github.com:thoced/jmonkeybuilder.git\", \"clone_url\": \"https://github.com/thoced/jmonkeybuilder.git\", \"svn_url\": \"https://github.com/thoced/jmonkeybuilder\", \"homepage\": \"\", \"size\": 341017, \"stargazers_count\": 0, \"watchers_count\": 0, \"language\": null, \"has_issues\": false, \"has_projects\": true, \"has_downloads\": true, \"has_wiki\": true, \"has_pages\": false, \"forks_count\": 0, \"mirror_url\": null, \"archived\": false, \"open_issues_count\": 0, \"license\": null, \"forks\": 0, \"open_issues\": 0, \"watchers\": 0, \"default_branch\": \"master\", \"public\": true}}, \"public\": true, \"created_at\": \"2018-01-01T15:00:01Z\"}\n",
      "{\"id\": \"7045118929\", \"type\": \"PushEvent\", \"actor\": {\"id\": 17426443, \"login\": \"kunfayakun\", \"display_login\": \"kunfayakun\", \"gravatar_id\": \"\", \"url\": \"https://api.github.com/users/kunfayakun\", \"avatar_url\": \"https://avatars.githubusercontent.com/u/17426443?\"}, \"repo\": {\"id\": 115922589, \"name\": \"kunfayakun/kunfayakun\", \"url\": \"https://api.github.com/repos/kunfayakun/kunfayakun\"}, \"payload\": {\"push_id\": 2226161607, \"size\": 1, \"distinct_size\": 1, \"ref\": \"refs/heads/master\", \"head\": \"7b27884012a27a12b42494276a3ffaa95cc469a7\", \"before\": \"cfa046802d03d47f7ce7f8f7fc2fcda9e383c95d\", \"commits\": [{\"sha\": \"7b27884012a27a12b42494276a3ffaa95cc469a7\", \"author\": {\"name\": \"kunfayakun\", \"email\": \"61804b6989117f50afdcc4e275da37389321bd5b@mailinator.com\"}, \"message\": \"GIT CloneShare Commit\", \"distinct\": true, \"url\": \"https://api.github.com/repos/kunfayakun/kunfayakun/commits/7b27884012a27a12b42494276a3ffaa95cc469a7\"}]}, \"public\": true, \"created_at\": \"2018-01-01T15:00:02Z\"}\n",
      "{\"id\": \"7045118930\", \"type\": \"IssueCommentEvent\", \"actor\": {\"id\": 6129250, \"login\": \"dasMulli\", \"display_login\": \"dasMulli\", \"gravatar_id\": \"\", \"url\": \"https://api.github.com/users/dasMulli\", \"avatar_url\": \"https://avatars.githubusercontent.com/u/6129250?\"}, \"repo\": {\"id\": 29996513, \"name\": \"NuGet/Home\", \"url\": \"https://api.github.com/repos/NuGet/Home\"}, \"payload\": {\"action\": \"created\", \"issue\": {\"url\": \"https://api.github.com/repos/NuGet/Home/issues/738\", \"repository_url\": \"https://api.github.com/repos/NuGet/Home\", \"labels_url\": \"https://api.github.com/repos/NuGet/Home/issues/738/labels{/name}\", \"comments_url\": \"https://api.github.com/repos/NuGet/Home/issues/738/comments\", \"events_url\": \"https://api.github.com/repos/NuGet/Home/issues/738/events\", \"html_url\": \"https://github.com/NuGet/Home/issues/738\", \"id\": 86022662, \"number\": 738, \"title\": \"Reference assembly HintPath may become incorrect when same project is added to different .sln files\", \"user\": {\"login\": \"centur\", \"id\": 720822, \"avatar_url\": \"https://avatars0.githubusercontent.com/u/720822?v=4\", \"gravatar_id\": \"\", \"url\": \"https://api.github.com/users/centur\", \"html_url\": \"https://github.com/centur\", \"followers_url\": \"https://api.github.com/users/centur/followers\", \"following_url\": \"https://api.github.com/users/centur/following{/other_user}\", \"gists_url\": \"https://api.github.com/users/centur/gists{/gist_id}\", \"starred_url\": \"https://api.github.com/users/centur/starred{/owner}{/repo}\", \"subscriptions_url\": \"https://api.github.com/users/centur/subscriptions\", \"organizations_url\": \"https://api.github.com/users/centur/orgs\", \"repos_url\": \"https://api.github.com/users/centur/repos\", \"events_url\": \"https://api.github.com/users/centur/events{/privacy}\", \"received_events_url\": \"https://api.github.com/users/centur/received_events\", \"type\": \"User\", \"site_admin\": false}, \"labels\": [{\"id\": 171462729, \"url\": \"https://api.github.com/repos/NuGet/Home/labels/ClosedAs:WontFix\", \"name\": \"ClosedAs:WontFix\", \"color\": \"006b75\", \"default\": false}], \"state\": \"closed\", \"locked\": false, \"assignee\": null, \"assignees\": [], \"milestone\": null, \"comments\": 14, \"created_at\": \"2015-06-08T04:40:13Z\", \"updated_at\": \"2018-01-01T15:00:02Z\", \"closed_at\": \"2015-06-08T21:56:47Z\", \"author_association\": \"NONE\", \"body\": \"Hi. \\nThere is an issue with the approach how MSbuild discovers and handles referenced assemblies from Nuget and HintPath tag. [See issue 107 in MSBuild](https://github.com/Microsoft/msbuild/issues/107).\\nMsbuild team has other priorities and advised that maybe this may be addressed with Nuget enhancements.\\n\\nIn general - the issue is how HintPath tag is used - it uses relative-to-solution-fle dir to reference assemblies from nuget packages - thus this approach breaks if same project is included into multiple solutions in different folders.\\n\\nOne of potential fixes is to introduce and use msbuild property like $(NugetPackagePath) so it'll be re-evaluated on each build. E.g. \\n\\n``` xml\\n<Reference Include=\\\"Newtonsoft.Json, Version=6.0.0.0, Culture=neutral, PublicKeyToken=30ad4fe6b2a6aeed, processorArchitecture=MSIL\\\">\\n  <SpecificVersion>False</SpecificVersion>\\n  <HintPath>$(NugetPackagesPath)\\\\Newtonsoft.Json.6.0.8\\\\lib\\\\net45\\\\Newtonsoft.Json.dll</HintPath>\\n</Reference>\\n```\\n\\nI'm not 100% sure it must be fixed with Nuget, it looks like MSBuild issue, not Nuget one, but adding that Property can help with some other scenarios too.\\n\"}, \"comment\": {\"url\": \"https://api.github.com/repos/NuGet/Home/issues/comments/354657564\", \"html_url\": \"https://github.com/NuGet/Home/issues/738#issuecomment-354657564\", \"issue_url\": \"https://api.github.com/repos/NuGet/Home/issues/738\", \"id\": 354657564, \"user\": {\"login\": \"dasMulli\", \"id\": 6129250, \"avatar_url\": \"https://avatars1.githubusercontent.com/u/6129250?v=4\", \"gravatar_id\": \"\", \"url\": \"https://api.github.com/users/dasMulli\", \"html_url\": \"https://github.com/dasMulli\", \"followers_url\": \"https://api.github.com/users/dasMulli/followers\", \"following_url\": \"https://api.github.com/users/dasMulli/following{/other_user}\", \"gists_url\": \"https://api.github.com/users/dasMulli/gists{/gist_id}\", \"starred_url\": \"https://api.github.com/users/dasMulli/starred{/owner}{/repo}\", \"subscriptions_url\": \"https://api.github.com/users/dasMulli/subscriptions\", \"organizations_url\": \"https://api.github.com/users/dasMulli/orgs\", \"repos_url\": \"https://api.github.com/users/dasMulli/repos\", \"events_url\": \"https://api.github.com/users/dasMulli/events{/privacy}\", \"received_events_url\": \"https://api.github.com/users/dasMulli/received_events\", \"type\": \"User\", \"site_admin\": false}, \"created_at\": \"2018-01-01T15:00:02Z\", \"updated_at\": \"2018-01-01T15:00:02Z\", \"author_association\": \"NONE\", \"body\": \"@ericnewton76 you can select the type of reference to use for \\\"classic\\\" projects in the NuGet options as described in [NuGet's blog post](https://blog.nuget.org/20170316/NuGet-now-fully-integrated-into-MSBuild.html) (section \\\"What about other project types that are not .NET Core?\\\"):\\r\\n\\r\\n![options](https://blog.nuget.org/images/2017-03-16-NuGet-now-fully-integrated-into-MSBuild/trypackageref.gif)\\r\\n\\r\\nA completely different option would be to add a NuGet.config high enough in the directory hierarchy that specifies the packages directory relative to itself so all solutions below this path use the same directory and restore paths are the same. I use that for a legacy setup that uses svn submodules so that the submodule solutions and main solution get correct hint paths. This also works in older VS/NuGet versions.\"}}, \"public\": true, \"created_at\": \"2018-01-01T15:00:02Z\", \"org\": {\"id\": 968310, \"login\": \"NuGet\", \"gravatar_id\": \"\", \"url\": \"https://api.github.com/orgs/NuGet\", \"avatar_url\": \"https://avatars.githubusercontent.com/u/968310?\"}}\n",
      "{\"id\": \"7045118934\", \"type\": \"CreateEvent\", \"actor\": {\"id\": 1686007, \"login\": \"efarbereger\", \"display_login\": \"efarbereger\", \"gravatar_id\": \"\", \"url\": \"https://api.github.com/users/efarbereger\", \"avatar_url\": \"https://avatars.githubusercontent.com/u/1686007?\"}, \"repo\": {\"id\": 115926124, \"name\": \"efarbereger/historyclockimage\", \"url\": \"https://api.github.com/repos/efarbereger/historyclockimage\"}, \"payload\": {\"ref\": null, \"ref_type\": \"repository\", \"master_branch\": \"master\", \"description\": \"makes a fun clock\", \"pusher_type\": \"user\"}, \"public\": true, \"created_at\": \"2018-01-01T15:00:02Z\"}\n",
      "{\"id\": \"7045118933\", \"type\": \"IssuesEvent\", \"actor\": {\"id\": 29869049, \"login\": \"stach\", \"display_login\": \"stach\", \"gravatar_id\": \"\", \"url\": \"https://api.github.com/users/stach\", \"avatar_url\": \"https://avatars.githubusercontent.com/u/29869049?\"}, \"repo\": {\"id\": 113654936, \"name\": \"theIYD/functions.js\", \"url\": \"https://api.github.com/repos/theIYD/functions.js\"}, \"payload\": {\"action\": \"opened\", \"issue\": {\"url\": \"https://api.github.com/repos/theIYD/functions.js/issues/5\", \"repository_url\": \"https://api.github.com/repos/theIYD/functions.js\", \"labels_url\": \"https://api.github.com/repos/theIYD/functions.js/issues/5/labels{/name}\", \"comments_url\": \"https://api.github.com/repos/theIYD/functions.js/issues/5/comments\", \"events_url\": \"https://api.github.com/repos/theIYD/functions.js/issues/5/events\", \"html_url\": \"https://github.com/theIYD/functions.js/issues/5\", \"id\": 285311665, \"number\": 5, \"title\": \"Collatz Algorithm\", \"user\": {\"login\": \"stach\", \"id\": 29869049, \"avatar_url\": \"https://avatars0.githubusercontent.com/u/29869049?v=4\", \"gravatar_id\": \"\", \"url\": \"https://api.github.com/users/stach\", \"html_url\": \"https://github.com/stach\", \"followers_url\": \"https://api.github.com/users/stach/followers\", \"following_url\": \"https://api.github.com/users/stach/following{/other_user}\", \"gists_url\": \"https://api.github.com/users/stach/gists{/gist_id}\", \"starred_url\": \"https://api.github.com/users/stach/starred{/owner}{/repo}\", \"subscriptions_url\": \"https://api.github.com/users/stach/subscriptions\", \"organizations_url\": \"https://api.github.com/users/stach/orgs\", \"repos_url\": \"https://api.github.com/users/stach/repos\", \"events_url\": \"https://api.github.com/users/stach/events{/privacy}\", \"received_events_url\": \"https://api.github.com/users/stach/received_events\", \"type\": \"User\", \"site_admin\": false}, \"labels\": [], \"state\": \"open\", \"locked\": false, \"assignee\": null, \"assignees\": [], \"milestone\": null, \"comments\": 0, \"created_at\": \"2018-01-01T15:00:02Z\", \"updated_at\": \"2018-01-01T15:00:02Z\", \"closed_at\": null, \"author_association\": \"NONE\", \"body\": \"I'll assume you know the rule of the collatz algorithm.\\r\\n\\r\\nIf the number is even = n / 2\\r\\nIf the number is odd = 3n + 1\\r\\n\\r\\nAnd you will end up with a tree. What I'm trying to say is, can we add a tree variable inside the collatz function.\\r\\n\\r\\nLet me know what you think.\"}}, \"public\": true, \"created_at\": \"2018-01-01T15:00:03Z\"}\n",
      "{\"id\": \"7045118936\", \"type\": \"PushEvent\", \"actor\": {\"id\": 8517910, \"login\": \"LombiqBot\", \"display_login\": \"LombiqBot\", \"gravatar_id\": \"\", \"url\": \"https://api.github.com/users/LombiqBot\", \"avatar_url\": \"https://avatars.githubusercontent.com/u/8517910?\"}, \"repo\": {\"id\": 46596221, \"name\": \"Lombiq/Combinator-TypeScript-Preprocessor\", \"url\": \"https://api.github.com/repos/Lombiq/Combinator-TypeScript-Preprocessor\"}, \"payload\": {\"push_id\": 2226161611, \"size\": 0, \"distinct_size\": 0, \"ref\": \"refs/heads/orchard-upgrade-1.9.3\", \"head\": \"e073cfcf95fcf18dffa5ac7e36a69617a66f74d7\", \"before\": \"e073cfcf95fcf18dffa5ac7e36a69617a66f74d7\", \"commits\": []}, \"public\": true, \"created_at\": \"2018-01-01T15:00:03Z\", \"org\": {\"id\": 8158177, \"login\": \"Lombiq\", \"gravatar_id\": \"\", \"url\": \"https://api.github.com/orgs/Lombiq\", \"avatar_url\": \"https://avatars.githubusercontent.com/u/8158177?\"}}\n",
      "{\"id\": \"7045118942\", \"type\": \"PushEvent\", \"actor\": {\"id\": 19637814, \"login\": \"scherzoso\", \"display_login\": \"scherzoso\", \"gravatar_id\": \"\", \"url\": \"https://api.github.com/users/scherzoso\", \"avatar_url\": \"https://avatars.githubusercontent.com/u/19637814?\"}, \"repo\": {\"id\": 115892905, \"name\": \"scherzoso/score_concordia\", \"url\": \"https://api.github.com/repos/scherzoso/score_concordia\"}, \"payload\": {\"push_id\": 2226161616, \"size\": 1, \"distinct_size\": 1, \"ref\": \"refs/heads/master\", \"head\": \"f8ea5630bf676c0a3349224f838831e2cd5b84d6\", \"before\": \"f87e76332cb72899478695e99e065019bb1b5855\", \"commits\": [{\"sha\": \"f8ea5630bf676c0a3349224f838831e2cd5b84d6\", \"author\": {\"name\": \"Alex Minghella\", \"email\": \"86f7e437faa5a7fce15d1ddcb9eaeaea377667b8@minghella.cc\"}, \"message\": \"Initial commit\", \"distinct\": true, \"url\": \"https://api.github.com/repos/scherzoso/score_concordia/commits/f8ea5630bf676c0a3349224f838831e2cd5b84d6\"}]}, \"public\": true, \"created_at\": \"2018-01-01T15:00:03Z\"}\n",
      "{\"id\": \"7045118944\", \"type\": \"PushEvent\", \"actor\": {\"id\": 34490595, \"login\": \"ofile\", \"display_login\": \"ofile\", \"gravatar_id\": \"\", \"url\": \"https://api.github.com/users/ofile\", \"avatar_url\": \"https://avatars.githubusercontent.com/u/34490595?\"}, \"repo\": {\"id\": 114036378, \"name\": \"ofile/Upd\", \"url\": \"https://api.github.com/repos/ofile/Upd\"}, \"payload\": {\"push_id\": 2226161618, \"size\": 1, \"distinct_size\": 1, \"ref\": \"refs/heads/master\", \"head\": \"e7bcdc2e26b2ee0ee21a74538fd5707d389353e0\", \"before\": \"63ea0788e9685f96899c5d00915e3351acdbb0b1\", \"commits\": [{\"sha\": \"e7bcdc2e26b2ee0ee21a74538fd5707d389353e0\", \"author\": {\"name\": \"ofile\", \"email\": \"a4f4b02f7e78181ccd63ee101c96e4ba88b3788f@gmail.com\"}, \"message\": \"update\", \"distinct\": true, \"url\": \"https://api.github.com/repos/ofile/Upd/commits/e7bcdc2e26b2ee0ee21a74538fd5707d389353e0\"}]}, \"public\": true, \"created_at\": \"2018-01-01T15:00:03Z\"}\n",
      "{\"id\": \"7045118946\", \"type\": \"CreateEvent\", \"actor\": {\"id\": 15818174, \"login\": \"HoangHoi\", \"display_login\": \"HoangHoi\", \"gravatar_id\": \"\", \"url\": \"https://api.github.com/users/HoangHoi\", \"avatar_url\": \"https://avatars.githubusercontent.com/u/15818174?\"}, \"repo\": {\"id\": 115926053, \"name\": \"HoangHoi/esp32-socket.io\", \"url\": \"https://api.github.com/repos/HoangHoi/esp32-socket.io\"}, \"payload\": {\"ref\": \"master\", \"ref_type\": \"branch\", \"master_branch\": \"master\", \"description\": null, \"pusher_type\": \"user\"}, \"public\": true, \"created_at\": \"2018-01-01T15:00:03Z\"}\n",
      "{\"id\": \"7045118947\", \"type\": \"CreateEvent\", \"actor\": {\"id\": 4029459, \"login\": \"wutthinun\", \"display_login\": \"wutthinun\", \"gravatar_id\": \"\", \"url\": \"https://api.github.com/users/wutthinun\", \"avatar_url\": \"https://avatars.githubusercontent.com/u/4029459?\"}, \"repo\": {\"id\": 115926125, \"name\": \"wutthinun/my-emacs-config\", \"url\": \"https://api.github.com/repos/wutthinun/my-emacs-config\"}, \"payload\": {\"ref\": null, \"ref_type\": \"repository\", \"master_branch\": \"master\", \"description\": null, \"pusher_type\": \"user\"}, \"public\": true, \"created_at\": \"2018-01-01T15:00:03Z\"}\n",
      "{\"id\": \"7045118948\", \"type\": \"PushEvent\", \"actor\": {\"id\": 17591788, \"login\": \"MIN605472\", \"display_login\": \"MIN605472\", \"gravatar_id\": \"\", \"url\": \"https://api.github.com/users/MIN605472\", \"avatar_url\": \"https://avatars.githubusercontent.com/u/17591788?\"}, \"repo\": {\"id\": 115912966, \"name\": \"MIN605472/lab6-microservices\", \"url\": \"https://api.github.com/repos/MIN605472/lab6-microservices\"}, \"payload\": {\"push_id\": 2226161620, \"size\": 1, \"distinct_size\": 1, \"ref\": \"refs/heads/master\", \"head\": \"2fea96f59e588956cc8021c1f739461a3e216f7d\", \"before\": \"d4ae2c502e1e9ae1ae13646d6c618a1984e36e3d\", \"commits\": [{\"sha\": \"2fea96f59e588956cc8021c1f739461a3e216f7d\", \"author\": {\"name\": \"MIN605472\", \"email\": \"4526e5a69760fa4dcf7645be8376af94827fd6f9@users.noreply.github.com\"}, \"message\": \"Add my name to README.md\", \"distinct\": true, \"url\": \"https://api.github.com/repos/MIN605472/lab6-microservices/commits/2fea96f59e588956cc8021c1f739461a3e216f7d\"}]}, \"public\": true, \"created_at\": \"2018-01-01T15:00:03Z\"}\n",
      "{\"id\": \"7045118949\", \"type\": \"ForkEvent\", \"actor\": {\"id\": 124741, \"login\": \"karuna\", \"display_login\": \"karuna\", \"gravatar_id\": \"\", \"url\": \"https://api.github.com/users/karuna\", \"avatar_url\": \"https://avatars.githubusercontent.com/u/124741?\"}, \"repo\": {\"id\": 76778665, \"name\": \"svenstaro/rust-web-boilerplate\", \"url\": \"https://api.github.com/repos/svenstaro/rust-web-boilerplate\"}, \"payload\": {\"forkee\": {\"id\": 115926126, \"name\": \"rust-web-boilerplate\", \"full_name\": \"karuna/rust-web-boilerplate\", \"owner\": {\"login\": \"karuna\", \"id\": 124741, \"avatar_url\": \"https://avatars1.githubusercontent.com/u/124741?v=4\", \"gravatar_id\": \"\", \"url\": \"https://api.github.com/users/karuna\", \"html_url\": \"https://github.com/karuna\", \"followers_url\": \"https://api.github.com/users/karuna/followers\", \"following_url\": \"https://api.github.com/users/karuna/following{/other_user}\", \"gists_url\": \"https://api.github.com/users/karuna/gists{/gist_id}\", \"starred_url\": \"https://api.github.com/users/karuna/starred{/owner}{/repo}\", \"subscriptions_url\": \"https://api.github.com/users/karuna/subscriptions\", \"organizations_url\": \"https://api.github.com/users/karuna/orgs\", \"repos_url\": \"https://api.github.com/users/karuna/repos\", \"events_url\": \"https://api.github.com/users/karuna/events{/privacy}\", \"received_events_url\": \"https://api.github.com/users/karuna/received_events\", \"type\": \"User\", \"site_admin\": false}, \"private\": false, \"html_url\": \"https://github.com/karuna/rust-web-boilerplate\", \"description\": \"Rust web template for modern web backend applications\", \"fork\": true, \"url\": \"https://api.github.com/repos/karuna/rust-web-boilerplate\", \"forks_url\": \"https://api.github.com/repos/karuna/rust-web-boilerplate/forks\", \"keys_url\": \"https://api.github.com/repos/karuna/rust-web-boilerplate/keys{/key_id}\", \"collaborators_url\": \"https://api.github.com/repos/karuna/rust-web-boilerplate/collaborators{/collaborator}\", \"teams_url\": \"https://api.github.com/repos/karuna/rust-web-boilerplate/teams\", \"hooks_url\": \"https://api.github.com/repos/karuna/rust-web-boilerplate/hooks\", \"issue_events_url\": \"https://api.github.com/repos/karuna/rust-web-boilerplate/issues/events{/number}\", \"events_url\": \"https://api.github.com/repos/karuna/rust-web-boilerplate/events\", \"assignees_url\": \"https://api.github.com/repos/karuna/rust-web-boilerplate/assignees{/user}\", \"branches_url\": \"https://api.github.com/repos/karuna/rust-web-boilerplate/branches{/branch}\", \"tags_url\": \"https://api.github.com/repos/karuna/rust-web-boilerplate/tags\", \"blobs_url\": \"https://api.github.com/repos/karuna/rust-web-boilerplate/git/blobs{/sha}\", \"git_tags_url\": \"https://api.github.com/repos/karuna/rust-web-boilerplate/git/tags{/sha}\", \"git_refs_url\": \"https://api.github.com/repos/karuna/rust-web-boilerplate/git/refs{/sha}\", \"trees_url\": \"https://api.github.com/repos/karuna/rust-web-boilerplate/git/trees{/sha}\", \"statuses_url\": \"https://api.github.com/repos/karuna/rust-web-boilerplate/statuses/{sha}\", \"languages_url\": \"https://api.github.com/repos/karuna/rust-web-boilerplate/languages\", \"stargazers_url\": \"https://api.github.com/repos/karuna/rust-web-boilerplate/stargazers\", \"contributors_url\": \"https://api.github.com/repos/karuna/rust-web-boilerplate/contributors\", \"subscribers_url\": \"https://api.github.com/repos/karuna/rust-web-boilerplate/subscribers\", \"subscription_url\": \"https://api.github.com/repos/karuna/rust-web-boilerplate/subscription\", \"commits_url\": \"https://api.github.com/repos/karuna/rust-web-boilerplate/commits{/sha}\", \"git_commits_url\": \"https://api.github.com/repos/karuna/rust-web-boilerplate/git/commits{/sha}\", \"comments_url\": \"https://api.github.com/repos/karuna/rust-web-boilerplate/comments{/number}\", \"issue_comment_url\": \"https://api.github.com/repos/karuna/rust-web-boilerplate/issues/comments{/number}\", \"contents_url\": \"https://api.github.com/repos/karuna/rust-web-boilerplate/contents/{+path}\", \"compare_url\": \"https://api.github.com/repos/karuna/rust-web-boilerplate/compare/{base}...{head}\", \"merges_url\": \"https://api.github.com/repos/karuna/rust-web-boilerplate/merges\", \"archive_url\": \"https://api.github.com/repos/karuna/rust-web-boilerplate/{archive_format}{/ref}\", \"downloads_url\": \"https://api.github.com/repos/karuna/rust-web-boilerplate/downloads\", \"issues_url\": \"https://api.github.com/repos/karuna/rust-web-boilerplate/issues{/number}\", \"pulls_url\": \"https://api.github.com/repos/karuna/rust-web-boilerplate/pulls{/number}\", \"milestones_url\": \"https://api.github.com/repos/karuna/rust-web-boilerplate/milestones{/number}\", \"notifications_url\": \"https://api.github.com/repos/karuna/rust-web-boilerplate/notifications{?since,all,participating}\", \"labels_url\": \"https://api.github.com/repos/karuna/rust-web-boilerplate/labels{/name}\", \"releases_url\": \"https://api.github.com/repos/karuna/rust-web-boilerplate/releases{/id}\", \"deployments_url\": \"https://api.github.com/repos/karuna/rust-web-boilerplate/deployments\", \"created_at\": \"2018-01-01T15:00:03Z\", \"updated_at\": \"2017-12-29T21:25:59Z\", \"pushed_at\": \"2017-12-29T19:05:59Z\", \"git_url\": \"git://github.com/karuna/rust-web-boilerplate.git\", \"ssh_url\": \"git@github.com:karuna/rust-web-boilerplate.git\", \"clone_url\": \"https://github.com/karuna/rust-web-boilerplate.git\", \"svn_url\": \"https://github.com/karuna/rust-web-boilerplate\", \"homepage\": \"\", \"size\": 67, \"stargazers_count\": 0, \"watchers_count\": 0, \"language\": null, \"has_issues\": false, \"has_projects\": true, \"has_downloads\": true, \"has_wiki\": true, \"has_pages\": false, \"forks_count\": 0, \"mirror_url\": null, \"archived\": false, \"open_issues_count\": 0, \"license\": null, \"forks\": 0, \"open_issues\": 0, \"watchers\": 0, \"default_branch\": \"master\", \"public\": true}}, \"public\": true, \"created_at\": \"2018-01-01T15:00:03Z\"}\n",
      "{\"id\": \"7045118950\", \"type\": \"CreateEvent\", \"actor\": {\"id\": 620258, \"login\": \"gkchristopher\", \"display_login\": \"gkchristopher\", \"gravatar_id\": \"\", \"url\": \"https://api.github.com/users/gkchristopher\", \"avatar_url\": \"https://avatars.githubusercontent.com/u/620258?\"}, \"repo\": {\"id\": 115926127, \"name\": \"gkchristopher/swift-additions\", \"url\": \"https://api.github.com/repos/gkchristopher/swift-additions\"}, \"payload\": {\"ref\": null, \"ref_type\": \"repository\", \"master_branch\": \"master\", \"description\": \"Repository of additional methods, structs, classes, and operators for working with swift projects\", \"pusher_type\": \"user\"}, \"public\": true, \"created_at\": \"2018-01-01T15:00:03Z\"}\n",
      "{\"id\": \"7045118952\", \"type\": \"CreateEvent\", \"actor\": {\"id\": 1437341, \"login\": \"vdloo\", \"display_login\": \"vdloo\", \"gravatar_id\": \"\", \"url\": \"https://api.github.com/users/vdloo\", \"avatar_url\": \"https://avatars.githubusercontent.com/u/1437341?\"}, \"repo\": {\"id\": 64013772, \"name\": \"vdloo/raptiformica\", \"url\": \"https://api.github.com/repos/vdloo/raptiformica\"}, \"payload\": {\"ref\": \"wait-longer-and-check-more-often-for-consensus-in-integration-test\", \"ref_type\": \"branch\", \"master_branch\": \"master\", \"description\": \"Decentralized server orchestration\", \"pusher_type\": \"user\"}, \"public\": true, \"created_at\": \"2018-01-01T15:00:03Z\"}\n",
      "{\"id\": \"7045118953\", \"type\": \"PushEvent\", \"actor\": {\"id\": 20947719, \"login\": \"RahulParmar-RP\", \"display_login\": \"RahulParmar-RP\", \"gravatar_id\": \"\", \"url\": \"https://api.github.com/users/RahulParmar-RP\", \"avatar_url\": \"https://avatars.githubusercontent.com/u/20947719?\"}, \"repo\": {\"id\": 115925524, \"name\": \"RahulParmar-RP/CProgramming\", \"url\": \"https://api.github.com/repos/RahulParmar-RP/CProgramming\"}, \"payload\": {\"push_id\": 2226161621, \"size\": 1, \"distinct_size\": 1, \"ref\": \"refs/heads/master\", \"head\": \"1b5a88c8d49ced13b77a07a5d3f47c9061baba0c\", \"before\": \"37cdab0a47c5f6a44ef8e59f54c448df84e875af\", \"commits\": [{\"sha\": \"1b5a88c8d49ced13b77a07a5d3f47c9061baba0c\", \"author\": {\"name\": \"Rahul Parmar\", \"email\": \"2269bc7a6f2914798f11de767777d1f2bc09016b@gmail.com\"}, \"message\": \"Add files via upload\", \"distinct\": true, \"url\": \"https://api.github.com/repos/RahulParmar-RP/CProgramming/commits/1b5a88c8d49ced13b77a07a5d3f47c9061baba0c\"}]}, \"public\": true, \"created_at\": \"2018-01-01T15:00:03Z\"}\n",
      "{\"id\": \"7045118954\", \"type\": \"IssueCommentEvent\", \"actor\": {\"id\": 509047, \"login\": \"cjdelisle\", \"display_login\": \"cjdelisle\", \"gravatar_id\": \"\", \"url\": \"https://api.github.com/users/cjdelisle\", \"avatar_url\": \"https://avatars.githubusercontent.com/u/509047?\"}, \"repo\": {\"id\": 1376101, \"name\": \"cjdelisle/cjdns\", \"url\": \"https://api.github.com/repos/cjdelisle/cjdns\"}, \"payload\": {\"action\": \"created\", \"issue\": {\"url\": \"https://api.github.com/repos/cjdelisle/cjdns/issues/1101\", \"repository_url\": \"https://api.github.com/repos/cjdelisle/cjdns\", \"labels_url\": \"https://api.github.com/repos/cjdelisle/cjdns/issues/1101/labels{/name}\", \"comments_url\": \"https://api.github.com/repos/cjdelisle/cjdns/issues/1101/comments\", \"events_url\": \"https://api.github.com/repos/cjdelisle/cjdns/issues/1101/events\", \"html_url\": \"https://github.com/cjdelisle/cjdns/pull/1101\", \"id\": 254513851, \"number\": 1101, \"title\": \"[WIP] PT_BR Readme\", \"user\": {\"login\": \"kauegimenes\", \"id\": 7304741, \"avatar_url\": \"https://avatars1.githubusercontent.com/u/7304741?v=4\", \"gravatar_id\": \"\", \"url\": \"https://api.github.com/users/kauegimenes\", \"html_url\": \"https://github.com/kauegimenes\", \"followers_url\": \"https://api.github.com/users/kauegimenes/followers\", \"following_url\": \"https://api.github.com/users/kauegimenes/following{/other_user}\", \"gists_url\": \"https://api.github.com/users/kauegimenes/gists{/gist_id}\", \"starred_url\": \"https://api.github.com/users/kauegimenes/starred{/owner}{/repo}\", \"subscriptions_url\": \"https://api.github.com/users/kauegimenes/subscriptions\", \"organizations_url\": \"https://api.github.com/users/kauegimenes/orgs\", \"repos_url\": \"https://api.github.com/users/kauegimenes/repos\", \"events_url\": \"https://api.github.com/users/kauegimenes/events{/privacy}\", \"received_events_url\": \"https://api.github.com/users/kauegimenes/received_events\", \"type\": \"User\", \"site_admin\": false}, \"labels\": [], \"state\": \"closed\", \"locked\": false, \"assignee\": null, \"assignees\": [], \"milestone\": null, \"comments\": 2, \"created_at\": \"2017-09-01T01:45:34Z\", \"updated_at\": \"2018-01-01T15:00:03Z\", \"closed_at\": \"2018-01-01T14:59:39Z\", \"author_association\": \"NONE\", \"pull_request\": {\"url\": \"https://api.github.com/repos/cjdelisle/cjdns/pulls/1101\", \"html_url\": \"https://github.com/cjdelisle/cjdns/pull/1101\", \"diff_url\": \"https://github.com/cjdelisle/cjdns/pull/1101.diff\", \"patch_url\": \"https://github.com/cjdelisle/cjdns/pull/1101.patch\"}, \"body\": \"Work in progress\"}, \"comment\": {\"url\": \"https://api.github.com/repos/cjdelisle/cjdns/issues/comments/354657565\", \"html_url\": \"https://github.com/cjdelisle/cjdns/pull/1101#issuecomment-354657565\", \"issue_url\": \"https://api.github.com/repos/cjdelisle/cjdns/issues/1101\", \"id\": 354657565, \"user\": {\"login\": \"cjdelisle\", \"id\": 509047, \"avatar_url\": \"https://avatars2.githubusercontent.com/u/509047?v=4\", \"gravatar_id\": \"\", \"url\": \"https://api.github.com/users/cjdelisle\", \"html_url\": \"https://github.com/cjdelisle\", \"followers_url\": \"https://api.github.com/users/cjdelisle/followers\", \"following_url\": \"https://api.github.com/users/cjdelisle/following{/other_user}\", \"gists_url\": \"https://api.github.com/users/cjdelisle/gists{/gist_id}\", \"starred_url\": \"https://api.github.com/users/cjdelisle/starred{/owner}{/repo}\", \"subscriptions_url\": \"https://api.github.com/users/cjdelisle/subscriptions\", \"organizations_url\": \"https://api.github.com/users/cjdelisle/orgs\", \"repos_url\": \"https://api.github.com/users/cjdelisle/repos\", \"events_url\": \"https://api.github.com/users/cjdelisle/events{/privacy}\", \"received_events_url\": \"https://api.github.com/users/cjdelisle/received_events\", \"type\": \"User\", \"site_admin\": false}, \"created_at\": \"2018-01-01T15:00:03Z\", \"updated_at\": \"2018-01-01T15:00:03Z\", \"author_association\": \"OWNER\", \"body\": \"I guess this is dead then, still a WIP after 4 months...\"}}, \"public\": true, \"created_at\": \"2018-01-01T15:00:03Z\"}\n",
      "{\"id\": \"7045118958\", \"type\": \"PushEvent\", \"actor\": {\"id\": 23271642, \"login\": \"Visualised\", \"display_login\": \"Visualised\", \"gravatar_id\": \"\", \"url\": \"https://api.github.com/users/Visualised\", \"avatar_url\": \"https://avatars.githubusercontent.com/u/23271642?\"}, \"repo\": {\"id\": 114570279, \"name\": \"Visualised/advent_of_code_2017\", \"url\": \"https://api.github.com/repos/Visualised/advent_of_code_2017\"}, \"payload\": {\"push_id\": 2226161628, \"size\": 1, \"distinct_size\": 1, \"ref\": \"refs/heads/master\", \"head\": \"894fb55ed5a914282177b4feb89e54c64011b42c\", \"before\": \"3f36fcf041bfcd7e9485efcb7a8a835deab87a33\", \"commits\": [{\"sha\": \"894fb55ed5a914282177b4feb89e54c64011b42c\", \"author\": {\"name\": \"Visualised\", \"email\": \"183960c34bf40b8a8b20d8776444f1feebde9c5d@protonmail.com\"}, \"message\": \"Day 2\\n\\nDay 2\", \"distinct\": true, \"url\": \"https://api.github.com/repos/Visualised/advent_of_code_2017/commits/894fb55ed5a914282177b4feb89e54c64011b42c\"}]}, \"public\": true, \"created_at\": \"2018-01-01T15:00:03Z\"}\n",
      "{\"id\": \"7045118959\", \"type\": \"PushEvent\", \"actor\": {\"id\": 3218517, \"login\": \"schuppeste\", \"display_login\": \"schuppeste\", \"gravatar_id\": \"\", \"url\": \"https://api.github.com/users/schuppeste\", \"avatar_url\": \"https://avatars.githubusercontent.com/u/3218517?\"}, \"repo\": {\"id\": 115892793, \"name\": \"schuppeste/Sofaleds\", \"url\": \"https://api.github.com/repos/schuppeste/Sofaleds\"}, \"payload\": {\"push_id\": 2226161627, \"size\": 1, \"distinct_size\": 1, \"ref\": \"refs/heads/master\", \"head\": \"a6fcdff428c4fe5a0e1042171f5f7dfafc2241ff\", \"before\": \"b3374d804b00317a16e0edcae19bd8b2c00fb486\", \"commits\": [{\"sha\": \"a6fcdff428c4fe5a0e1042171f5f7dfafc2241ff\", \"author\": {\"name\": \"schuppeste\", \"email\": \"eee83ca339e0bda08ee492c12ea923f41fab01cc@hotmail.com\"}, \"message\": \"secure\", \"distinct\": true, \"url\": \"https://api.github.com/repos/schuppeste/Sofaleds/commits/a6fcdff428c4fe5a0e1042171f5f7dfafc2241ff\"}]}, \"public\": true, \"created_at\": \"2018-01-01T15:00:03Z\"}\n",
      "{\"id\": \"7045118963\", \"type\": \"ForkEvent\", \"actor\": {\"id\": 26708932, \"login\": \"heitaoflower\", \"display_login\": \"heitaoflower\", \"gravatar_id\": \"\", \"url\": \"https://api.github.com/users/heitaoflower\", \"avatar_url\": \"https://avatars.githubusercontent.com/u/26708932?\"}, \"repo\": {\"id\": 1062897, \"name\": \"github/gitignore\", \"url\": \"https://api.github.com/repos/github/gitignore\"}, \"payload\": {\"forkee\": {\"id\": 115926128, \"name\": \"gitignore\", \"full_name\": \"heitaoflower/gitignore\", \"owner\": {\"login\": \"heitaoflower\", \"id\": 26708932, \"avatar_url\": \"https://avatars1.githubusercontent.com/u/26708932?v=4\", \"gravatar_id\": \"\", \"url\": \"https://api.github.com/users/heitaoflower\", \"html_url\": \"https://github.com/heitaoflower\", \"followers_url\": \"https://api.github.com/users/heitaoflower/followers\", \"following_url\": \"https://api.github.com/users/heitaoflower/following{/other_user}\", \"gists_url\": \"https://api.github.com/users/heitaoflower/gists{/gist_id}\", \"starred_url\": \"https://api.github.com/users/heitaoflower/starred{/owner}{/repo}\", \"subscriptions_url\": \"https://api.github.com/users/heitaoflower/subscriptions\", \"organizations_url\": \"https://api.github.com/users/heitaoflower/orgs\", \"repos_url\": \"https://api.github.com/users/heitaoflower/repos\", \"events_url\": \"https://api.github.com/users/heitaoflower/events{/privacy}\", \"received_events_url\": \"https://api.github.com/users/heitaoflower/received_events\", \"type\": \"User\", \"site_admin\": false}, \"private\": false, \"html_url\": \"https://github.com/heitaoflower/gitignore\", \"description\": \"A collection of useful .gitignore templates\", \"fork\": true, \"url\": \"https://api.github.com/repos/heitaoflower/gitignore\", \"forks_url\": \"https://api.github.com/repos/heitaoflower/gitignore/forks\", \"keys_url\": \"https://api.github.com/repos/heitaoflower/gitignore/keys{/key_id}\", \"collaborators_url\": \"https://api.github.com/repos/heitaoflower/gitignore/collaborators{/collaborator}\", \"teams_url\": \"https://api.github.com/repos/heitaoflower/gitignore/teams\", \"hooks_url\": \"https://api.github.com/repos/heitaoflower/gitignore/hooks\", \"issue_events_url\": \"https://api.github.com/repos/heitaoflower/gitignore/issues/events{/number}\", \"events_url\": \"https://api.github.com/repos/heitaoflower/gitignore/events\", \"assignees_url\": \"https://api.github.com/repos/heitaoflower/gitignore/assignees{/user}\", \"branches_url\": \"https://api.github.com/repos/heitaoflower/gitignore/branches{/branch}\", \"tags_url\": \"https://api.github.com/repos/heitaoflower/gitignore/tags\", \"blobs_url\": \"https://api.github.com/repos/heitaoflower/gitignore/git/blobs{/sha}\", \"git_tags_url\": \"https://api.github.com/repos/heitaoflower/gitignore/git/tags{/sha}\", \"git_refs_url\": \"https://api.github.com/repos/heitaoflower/gitignore/git/refs{/sha}\", \"trees_url\": \"https://api.github.com/repos/heitaoflower/gitignore/git/trees{/sha}\", \"statuses_url\": \"https://api.github.com/repos/heitaoflower/gitignore/statuses/{sha}\", \"languages_url\": \"https://api.github.com/repos/heitaoflower/gitignore/languages\", \"stargazers_url\": \"https://api.github.com/repos/heitaoflower/gitignore/stargazers\", \"contributors_url\": \"https://api.github.com/repos/heitaoflower/gitignore/contributors\", \"subscribers_url\": \"https://api.github.com/repos/heitaoflower/gitignore/subscribers\", \"subscription_url\": \"https://api.github.com/repos/heitaoflower/gitignore/subscription\", \"commits_url\": \"https://api.github.com/repos/heitaoflower/gitignore/commits{/sha}\", \"git_commits_url\": \"https://api.github.com/repos/heitaoflower/gitignore/git/commits{/sha}\", \"comments_url\": \"https://api.github.com/repos/heitaoflower/gitignore/comments{/number}\", \"issue_comment_url\": \"https://api.github.com/repos/heitaoflower/gitignore/issues/comments{/number}\", \"contents_url\": \"https://api.github.com/repos/heitaoflower/gitignore/contents/{+path}\", \"compare_url\": \"https://api.github.com/repos/heitaoflower/gitignore/compare/{base}...{head}\", \"merges_url\": \"https://api.github.com/repos/heitaoflower/gitignore/merges\", \"archive_url\": \"https://api.github.com/repos/heitaoflower/gitignore/{archive_format}{/ref}\", \"downloads_url\": \"https://api.github.com/repos/heitaoflower/gitignore/downloads\", \"issues_url\": \"https://api.github.com/repos/heitaoflower/gitignore/issues{/number}\", \"pulls_url\": \"https://api.github.com/repos/heitaoflower/gitignore/pulls{/number}\", \"milestones_url\": \"https://api.github.com/repos/heitaoflower/gitignore/milestones{/number}\", \"notifications_url\": \"https://api.github.com/repos/heitaoflower/gitignore/notifications{?since,all,participating}\", \"labels_url\": \"https://api.github.com/repos/heitaoflower/gitignore/labels{/name}\", \"releases_url\": \"https://api.github.com/repos/heitaoflower/gitignore/releases{/id}\", \"deployments_url\": \"https://api.github.com/repos/heitaoflower/gitignore/deployments\", \"created_at\": \"2018-01-01T15:00:03Z\", \"updated_at\": \"2018-01-01T14:50:41Z\", \"pushed_at\": \"2017-12-31T16:36:00Z\", \"git_url\": \"git://github.com/heitaoflower/gitignore.git\", \"ssh_url\": \"git@github.com:heitaoflower/gitignore.git\", \"clone_url\": \"https://github.com/heitaoflower/gitignore.git\", \"svn_url\": \"https://github.com/heitaoflower/gitignore\", \"homepage\": \"\", \"size\": 1496, \"stargazers_count\": 0, \"watchers_count\": 0, \"language\": null, \"has_issues\": false, \"has_projects\": true, \"has_downloads\": true, \"has_wiki\": false, \"has_pages\": false, \"forks_count\": 0, \"mirror_url\": null, \"archived\": false, \"open_issues_count\": 0, \"license\": null, \"forks\": 0, \"open_issues\": 0, \"watchers\": 0, \"default_branch\": \"master\", \"public\": true}}, \"public\": true, \"created_at\": \"2018-01-01T15:00:03Z\", \"org\": {\"id\": 9919, \"login\": \"github\", \"gravatar_id\": \"\", \"url\": \"https://api.github.com/orgs/github\", \"avatar_url\": \"https://avatars.githubusercontent.com/u/9919?\"}}\n",
      "{\"id\": \"7045118951\", \"type\": \"WatchEvent\", \"actor\": {\"id\": 24660310, \"login\": \"antigosu\", \"display_login\": \"antigosu\", \"gravatar_id\": \"\", \"url\": \"https://api.github.com/users/antigosu\", \"avatar_url\": \"https://avatars.githubusercontent.com/u/24660310?\"}, \"repo\": {\"id\": 14747598, \"name\": \"typicode/json-server\", \"url\": \"https://api.github.com/repos/typicode/json-server\"}, \"payload\": {\"action\": \"started\"}, \"public\": true, \"created_at\": \"2018-01-01T15:00:04Z\"}\n",
      "{\"id\": \"7045118961\", \"type\": \"PushEvent\", \"actor\": {\"id\": 28597993, \"login\": \"jsyucker\", \"display_login\": \"jsyucker\", \"gravatar_id\": \"\", \"url\": \"https://api.github.com/users/jsyucker\", \"avatar_url\": \"https://avatars.githubusercontent.com/u/28597993?\"}, \"repo\": {\"id\": 115848870, \"name\": \"jsyucker/jsyucker.github.io\", \"url\": \"https://api.github.com/repos/jsyucker/jsyucker.github.io\"}, \"payload\": {\"push_id\": 2226161629, \"size\": 1, \"distinct_size\": 1, \"ref\": \"refs/heads/master\", \"head\": \"7a0869257ef2661c6ecbbe5b24a4a7a716ae099d\", \"before\": \"a46c59d941ba7f563e51b981664059a4a59e767b\", \"commits\": [{\"sha\": \"7a0869257ef2661c6ecbbe5b24a4a7a716ae099d\", \"author\": {\"name\": \"jsyucker\", \"email\": \"57a32f7af3bd41ca9ad598dd42e2d4cdbcc614ff@qq.com\"}, \"message\": \"\\u7b14\\u8bb0\", \"distinct\": true, \"url\": \"https://api.github.com/repos/jsyucker/jsyucker.github.io/commits/7a0869257ef2661c6ecbbe5b24a4a7a716ae099d\"}]}, \"public\": true, \"created_at\": \"2018-01-01T15:00:04Z\"}\n",
      "{\"id\": \"7045118964\", \"type\": \"DeleteEvent\", \"actor\": {\"id\": 26363543, \"login\": \"ShawnMapperYT\", \"display_login\": \"ShawnMapperYT\", \"gravatar_id\": \"\", \"url\": \"https://api.github.com/users/ShawnMapperYT\", \"avatar_url\": \"https://avatars.githubusercontent.com/u/26363543?\"}, \"repo\": {\"id\": 115925971, \"name\": \"ShawnMapperYT/polandballgame\", \"url\": \"https://api.github.com/repos/ShawnMapperYT/polandballgame\"}, \"payload\": {\"ref\": \"batch\", \"ref_type\": \"branch\", \"pusher_type\": \"user\"}, \"public\": true, \"created_at\": \"2018-01-01T15:00:04Z\"}\n",
      "{\"id\": \"7045118965\", \"type\": \"PushEvent\", \"actor\": {\"id\": 31409671, \"login\": \"stormxing\", \"display_login\": \"stormxing\", \"gravatar_id\": \"\", \"url\": \"https://api.github.com/users/stormxing\", \"avatar_url\": \"https://avatars.githubusercontent.com/u/31409671?\"}, \"repo\": {\"id\": 103827567, \"name\": \"stormxing/stormxing.github.io\", \"url\": \"https://api.github.com/repos/stormxing/stormxing.github.io\"}, \"payload\": {\"push_id\": 2226161631, \"size\": 1, \"distinct_size\": 1, \"ref\": \"refs/heads/master\", \"head\": \"3ed20c265a555479b501c80c6b99392bcceba452\", \"before\": \"e2db9c081fb9ec8dbd368dd8066c767a46e30306\", \"commits\": [{\"sha\": \"3ed20c265a555479b501c80c6b99392bcceba452\", \"author\": {\"name\": \"stormxing\", \"email\": \"1de906de6a57d0d9d5d1bd3263b6c02d20e733ca@foxmail.com\"}, \"message\": \"Site updated: 2018-01-01 22:59:24\", \"distinct\": true, \"url\": \"https://api.github.com/repos/stormxing/stormxing.github.io/commits/3ed20c265a555479b501c80c6b99392bcceba452\"}]}, \"public\": true, \"created_at\": \"2018-01-01T15:00:04Z\"}\n",
      "{\"id\": \"7045118966\", \"type\": \"PushEvent\", \"actor\": {\"id\": 9958703, \"login\": \"memk\", \"display_login\": \"memk\", \"gravatar_id\": \"\", \"url\": \"https://api.github.com/users/memk\", \"avatar_url\": \"https://avatars.githubusercontent.com/u/9958703?\"}, \"repo\": {\"id\": 23534870, \"name\": \"parkr/status\", \"url\": \"https://api.github.com/repos/parkr/status\"}, \"payload\": {\"push_id\": 2226161632, \"size\": 1, \"distinct_size\": 1, \"ref\": \"refs/heads/master\", \"head\": \"5b7264453d9a334e7181b351e8901a9fa15734b2\", \"before\": \"a066824a8d2eb59f9d7beffd47f306a51ba58165\", \"commits\": [{\"sha\": \"5b7264453d9a334e7181b351e8901a9fa15734b2\", \"author\": {\"name\": \"memk\", \"email\": \"53af3d54791e6e5733679b59fda2caa8bd3dd19d@hushmail.com\"}, \"message\": \"[checkup] store updates/1514818802477176290-check.json [ci skip]\", \"distinct\": true, \"url\": \"https://api.github.com/repos/parkr/status/commits/5b7264453d9a334e7181b351e8901a9fa15734b2\"}]}, \"public\": true, \"created_at\": \"2018-01-01T15:00:04Z\"}\n",
      "{\"id\": \"7045118972\", \"type\": \"IssueCommentEvent\", \"actor\": {\"id\": 34921977, \"login\": \"kaushikichhabra\", \"display_login\": \"kaushikichhabra\", \"gravatar_id\": \"\", \"url\": \"https://api.github.com/users/kaushikichhabra\", \"avatar_url\": \"https://avatars.githubusercontent.com/u/34921977?\"}, \"repo\": {\"id\": 48068924, \"name\": \"fossasia/gci17.fossasia.org\", \"url\": \"https://api.github.com/repos/fossasia/gci17.fossasia.org\"}, \"payload\": {\"action\": \"created\", \"issue\": {\"url\": \"https://api.github.com/repos/fossasia/gci17.fossasia.org/issues/719\", \"repository_url\": \"https://api.github.com/repos/fossasia/gci17.fossasia.org\", \"labels_url\": \"https://api.github.com/repos/fossasia/gci17.fossasia.org/issues/719/labels{/name}\", \"comments_url\": \"https://api.github.com/repos/fossasia/gci17.fossasia.org/issues/719/comments\", \"events_url\": \"https://api.github.com/repos/fossasia/gci17.fossasia.org/issues/719/events\", \"html_url\": \"https://github.com/fossasia/gci17.fossasia.org/pull/719\", \"id\": 285311079, \"number\": 719, \"title\": \"MY BLOG (FOSSASIA AND ME)\", \"user\": {\"login\": \"kaushikichhabra\", \"id\": 34921977, \"avatar_url\": \"https://avatars3.githubusercontent.com/u/34921977?v=4\", \"gravatar_id\": \"\", \"url\": \"https://api.github.com/users/kaushikichhabra\", \"html_url\": \"https://github.com/kaushikichhabra\", \"followers_url\": \"https://api.github.com/users/kaushikichhabra/followers\", \"following_url\": \"https://api.github.com/users/kaushikichhabra/following{/other_user}\", \"gists_url\": \"https://api.github.com/users/kaushikichhabra/gists{/gist_id}\", \"starred_url\": \"https://api.github.com/users/kaushikichhabra/starred{/owner}{/repo}\", \"subscriptions_url\": \"https://api.github.com/users/kaushikichhabra/subscriptions\", \"organizations_url\": \"https://api.github.com/users/kaushikichhabra/orgs\", \"repos_url\": \"https://api.github.com/users/kaushikichhabra/repos\", \"events_url\": \"https://api.github.com/users/kaushikichhabra/events{/privacy}\", \"received_events_url\": \"https://api.github.com/users/kaushikichhabra/received_events\", \"type\": \"User\", \"site_admin\": false}, \"labels\": [], \"state\": \"open\", \"locked\": false, \"assignee\": null, \"assignees\": [], \"milestone\": null, \"comments\": 3, \"created_at\": \"2018-01-01T14:47:53Z\", \"updated_at\": \"2018-01-01T15:00:04Z\", \"closed_at\": null, \"author_association\": \"NONE\", \"pull_request\": {\"url\": \"https://api.github.com/repos/fossasia/gci17.fossasia.org/pulls/719\", \"html_url\": \"https://github.com/fossasia/gci17.fossasia.org/pull/719\", \"diff_url\": \"https://github.com/fossasia/gci17.fossasia.org/pull/719.diff\", \"patch_url\": \"https://github.com/fossasia/gci17.fossasia.org/pull/719.patch\"}, \"body\": \"This is the link to my blog...\\r\\nfossasiasblog.wordpress.com\\r\\nPlease grant permission to my work...\\r\\nThanks\\r\\nYour Sincerely \\r\\nKaushiki\"}, \"comment\": {\"url\": \"https://api.github.com/repos/fossasia/gci17.fossasia.org/issues/comments/354657566\", \"html_url\": \"https://github.com/fossasia/gci17.fossasia.org/pull/719#issuecomment-354657566\", \"issue_url\": \"https://api.github.com/repos/fossasia/gci17.fossasia.org/issues/719\", \"id\": 354657566, \"user\": {\"login\": \"kaushikichhabra\", \"id\": 34921977, \"avatar_url\": \"https://avatars3.githubusercontent.com/u/34921977?v=4\", \"gravatar_id\": \"\", \"url\": \"https://api.github.com/users/kaushikichhabra\", \"html_url\": \"https://github.com/kaushikichhabra\", \"followers_url\": \"https://api.github.com/users/kaushikichhabra/followers\", \"following_url\": \"https://api.github.com/users/kaushikichhabra/following{/other_user}\", \"gists_url\": \"https://api.github.com/users/kaushikichhabra/gists{/gist_id}\", \"starred_url\": \"https://api.github.com/users/kaushikichhabra/starred{/owner}{/repo}\", \"subscriptions_url\": \"https://api.github.com/users/kaushikichhabra/subscriptions\", \"organizations_url\": \"https://api.github.com/users/kaushikichhabra/orgs\", \"repos_url\": \"https://api.github.com/users/kaushikichhabra/repos\", \"events_url\": \"https://api.github.com/users/kaushikichhabra/events{/privacy}\", \"received_events_url\": \"https://api.github.com/users/kaushikichhabra/received_events\", \"type\": \"User\", \"site_admin\": false}, \"created_at\": \"2018-01-01T15:00:04Z\", \"updated_at\": \"2018-01-01T15:00:04Z\", \"author_association\": \"NONE\", \"body\": \"Is there a need for any other changes to be done...and please review my work as well as grant permission...also please clear out what it means \\\"i haven't updated my  branch\\\"\\r\\nThankyou to all the members of FOSSASIA for co-operating with me and always helping me when I needed help!\\r\\nHappy New Year!\\r\\nHave a Great Year Ahead!!\"}}, \"public\": true, \"created_at\": \"2018-01-01T15:00:04Z\", \"org\": {\"id\": 6295529, \"login\": \"fossasia\", \"gravatar_id\": \"\", \"url\": \"https://api.github.com/orgs/fossasia\", \"avatar_url\": \"https://avatars.githubusercontent.com/u/6295529?\"}}\n",
      "{\"id\": \"7045118973\", \"type\": \"PushEvent\", \"actor\": {\"id\": 2997229, \"login\": \"apievangelist\", \"display_login\": \"apievangelist\", \"gravatar_id\": \"\", \"url\": \"https://api.github.com/users/apievangelist\", \"avatar_url\": \"https://avatars.githubusercontent.com/u/2997229?\"}, \"repo\": {\"id\": 9590594, \"name\": \"api-evangelist/internet-of-things\", \"url\": \"https://api.github.com/repos/api-evangelist/internet-of-things\"}, \"payload\": {\"push_id\": 2226161635, \"size\": 1, \"distinct_size\": 1, \"ref\": \"refs/heads/gh-pages\", \"head\": \"29c6f65f7c3bad3ff3d16ca7b97a418298fbd3d8\", \"before\": \"b4a6aeac3dc4111d53bbdd4f530b84b16cfe4224\", \"commits\": [{\"sha\": \"29c6f65f7c3bad3ff3d16ca7b97a418298fbd3d8\", \"author\": {\"name\": \"API Evangelist\", \"email\": \"59bd0a3ff43b32849b319e645d4798d8a5d1e889@apievangelist.com\"}, \"message\": \"Updating _posts/2017-08-08-randomize-iot-device-username-and-password-by-default.markdown via Laneworks CMS Publish\", \"distinct\": true, \"url\": \"https://api.github.com/repos/api-evangelist/internet-of-things/commits/29c6f65f7c3bad3ff3d16ca7b97a418298fbd3d8\"}]}, \"public\": true, \"created_at\": \"2018-01-01T15:00:04Z\", \"org\": {\"id\": 3026872, \"login\": \"api-evangelist\", \"gravatar_id\": \"\", \"url\": \"https://api.github.com/orgs/api-evangelist\", \"avatar_url\": \"https://avatars.githubusercontent.com/u/3026872?\"}}\n",
      "{\"id\": \"7045118974\", \"type\": \"CreateEvent\", \"actor\": {\"id\": 620258, \"login\": \"gkchristopher\", \"display_login\": \"gkchristopher\", \"gravatar_id\": \"\", \"url\": \"https://api.github.com/users/gkchristopher\", \"avatar_url\": \"https://avatars.githubusercontent.com/u/620258?\"}, \"repo\": {\"id\": 115926127, \"name\": \"gkchristopher/swift-additions\", \"url\": \"https://api.github.com/repos/gkchristopher/swift-additions\"}, \"payload\": {\"ref\": \"master\", \"ref_type\": \"branch\", \"master_branch\": \"master\", \"description\": \"Repository of additional methods, structs, classes, and operators for working with swift projects\", \"pusher_type\": \"user\"}, \"public\": true, \"created_at\": \"2018-01-01T15:00:04Z\"}\n",
      "{\"id\": \"7045118976\", \"type\": \"WatchEvent\", \"actor\": {\"id\": 19636898, \"login\": \"dd0754\", \"display_login\": \"dd0754\", \"gravatar_id\": \"\", \"url\": \"https://api.github.com/users/dd0754\", \"avatar_url\": \"https://avatars.githubusercontent.com/u/19636898?\"}, \"repo\": {\"id\": 107868311, \"name\": \"iammapping/wedding\", \"url\": \"https://api.github.com/repos/iammapping/wedding\"}, \"payload\": {\"action\": \"started\"}, \"public\": true, \"created_at\": \"2018-01-01T15:00:04Z\"}\n",
      "{\"id\": \"7045118977\", \"type\": \"PushEvent\", \"actor\": {\"id\": 34630228, \"login\": \"iFuzzyC\", \"display_login\": \"iFuzzyC\", \"gravatar_id\": \"\", \"url\": \"https://api.github.com/users/iFuzzyC\", \"avatar_url\": \"https://avatars.githubusercontent.com/u/34630228?\"}, \"repo\": {\"id\": 115227284, \"name\": \"iFuzzyC/GeneticAlgorithms\", \"url\": \"https://api.github.com/repos/iFuzzyC/GeneticAlgorithms\"}, \"payload\": {\"push_id\": 2226161636, \"size\": 1, \"distinct_size\": 1, \"ref\": \"refs/heads/master\", \"head\": \"9a924e6b2258ce83d74c9f4f91ead198cd3e9a94\", \"before\": \"dbec91fd89ce147f6e28c9afe06fa4f628ee5405\", \"commits\": [{\"sha\": \"9a924e6b2258ce83d74c9f4f91ead198cd3e9a94\", \"author\": {\"name\": \"iFuzzyC\", \"email\": \"cca071c00c2d1132e41ff62a0e93f508dfea18a8@users.noreply.github.com\"}, \"message\": \"Create README.md\", \"distinct\": true, \"url\": \"https://api.github.com/repos/iFuzzyC/GeneticAlgorithms/commits/9a924e6b2258ce83d74c9f4f91ead198cd3e9a94\"}]}, \"public\": true, \"created_at\": \"2018-01-01T15:00:04Z\"}\n",
      "{\"id\": \"7045118970\", \"type\": \"PushEvent\", \"actor\": {\"id\": 20059758, \"login\": \"sumitbot\", \"display_login\": \"sumitbot\", \"gravatar_id\": \"\", \"url\": \"https://api.github.com/users/sumitbot\", \"avatar_url\": \"https://avatars.githubusercontent.com/u/20059758?\"}, \"repo\": {\"id\": 115925380, \"name\": \"sumitbot/jj\", \"url\": \"https://api.github.com/repos/sumitbot/jj\"}, \"payload\": {\"push_id\": 2226161634, \"size\": 1, \"distinct_size\": 1, \"ref\": \"refs/heads/master\", \"head\": \"7193f4c99813949cb91262a65097272bb2e99088\", \"before\": \"8f917d33ca6307c4ba6ac9247fdaeb2945e7a87d\", \"commits\": [{\"sha\": \"7193f4c99813949cb91262a65097272bb2e99088\", \"author\": {\"name\": \"sumitbot\", \"email\": \"50aa1eedf1553f2972a3598bfb5e93924459343c@gmail.com\"}, \"message\": \"Update index.php\", \"distinct\": true, \"url\": \"https://api.github.com/repos/sumitbot/jj/commits/7193f4c99813949cb91262a65097272bb2e99088\"}]}, \"public\": true, \"created_at\": \"2018-01-01T15:00:05Z\"}\n",
      "{\"id\": \"7045118975\", \"type\": \"ForkEvent\", \"actor\": {\"id\": 3349546, \"login\": \"ycs0405\", \"display_login\": \"ycs0405\", \"gravatar_id\": \"\", \"url\": \"https://api.github.com/users/ycs0405\", \"avatar_url\": \"https://avatars.githubusercontent.com/u/3349546?\"}, \"repo\": {\"id\": 50039903, \"name\": \"linesh-simplicity/translation-spring-mvc-4-documentation\", \"url\": \"https://api.github.com/repos/linesh-simplicity/translation-spring-mvc-4-documentation\"}, \"payload\": {\"forkee\": {\"id\": 115926129, \"name\": \"translation-spring-mvc-4-documentation\", \"full_name\": \"ycs0405/translation-spring-mvc-4-documentation\", \"owner\": {\"login\": \"ycs0405\", \"id\": 3349546, \"avatar_url\": \"https://avatars3.githubusercontent.com/u/3349546?v=4\", \"gravatar_id\": \"\", \"url\": \"https://api.github.com/users/ycs0405\", \"html_url\": \"https://github.com/ycs0405\", \"followers_url\": \"https://api.github.com/users/ycs0405/followers\", \"following_url\": \"https://api.github.com/users/ycs0405/following{/other_user}\", \"gists_url\": \"https://api.github.com/users/ycs0405/gists{/gist_id}\", \"starred_url\": \"https://api.github.com/users/ycs0405/starred{/owner}{/repo}\", \"subscriptions_url\": \"https://api.github.com/users/ycs0405/subscriptions\", \"organizations_url\": \"https://api.github.com/users/ycs0405/orgs\", \"repos_url\": \"https://api.github.com/users/ycs0405/repos\", \"events_url\": \"https://api.github.com/users/ycs0405/events{/privacy}\", \"received_events_url\": \"https://api.github.com/users/ycs0405/received_events\", \"type\": \"User\", \"site_admin\": false}, \"private\": false, \"html_url\": \"https://github.com/ycs0405/translation-spring-mvc-4-documentation\", \"description\": \"Spring MVC 4.2.4 RELEASE \\u4e2d\\u6587\\u6587\\u6863\\u5b8c\\u6574\\u7ffb\\u8bd1\\u7a3f \", \"fork\": true, \"url\": \"https://api.github.com/repos/ycs0405/translation-spring-mvc-4-documentation\", \"forks_url\": \"https://api.github.com/repos/ycs0405/translation-spring-mvc-4-documentation/forks\", \"keys_url\": \"https://api.github.com/repos/ycs0405/translation-spring-mvc-4-documentation/keys{/key_id}\", \"collaborators_url\": \"https://api.github.com/repos/ycs0405/translation-spring-mvc-4-documentation/collaborators{/collaborator}\", \"teams_url\": \"https://api.github.com/repos/ycs0405/translation-spring-mvc-4-documentation/teams\", \"hooks_url\": \"https://api.github.com/repos/ycs0405/translation-spring-mvc-4-documentation/hooks\", \"issue_events_url\": \"https://api.github.com/repos/ycs0405/translation-spring-mvc-4-documentation/issues/events{/number}\", \"events_url\": \"https://api.github.com/repos/ycs0405/translation-spring-mvc-4-documentation/events\", \"assignees_url\": \"https://api.github.com/repos/ycs0405/translation-spring-mvc-4-documentation/assignees{/user}\", \"branches_url\": \"https://api.github.com/repos/ycs0405/translation-spring-mvc-4-documentation/branches{/branch}\", \"tags_url\": \"https://api.github.com/repos/ycs0405/translation-spring-mvc-4-documentation/tags\", \"blobs_url\": \"https://api.github.com/repos/ycs0405/translation-spring-mvc-4-documentation/git/blobs{/sha}\", \"git_tags_url\": \"https://api.github.com/repos/ycs0405/translation-spring-mvc-4-documentation/git/tags{/sha}\", \"git_refs_url\": \"https://api.github.com/repos/ycs0405/translation-spring-mvc-4-documentation/git/refs{/sha}\", \"trees_url\": \"https://api.github.com/repos/ycs0405/translation-spring-mvc-4-documentation/git/trees{/sha}\", \"statuses_url\": \"https://api.github.com/repos/ycs0405/translation-spring-mvc-4-documentation/statuses/{sha}\", \"languages_url\": \"https://api.github.com/repos/ycs0405/translation-spring-mvc-4-documentation/languages\", \"stargazers_url\": \"https://api.github.com/repos/ycs0405/translation-spring-mvc-4-documentation/stargazers\", \"contributors_url\": \"https://api.github.com/repos/ycs0405/translation-spring-mvc-4-documentation/contributors\", \"subscribers_url\": \"https://api.github.com/repos/ycs0405/translation-spring-mvc-4-documentation/subscribers\", \"subscription_url\": \"https://api.github.com/repos/ycs0405/translation-spring-mvc-4-documentation/subscription\", \"commits_url\": \"https://api.github.com/repos/ycs0405/translation-spring-mvc-4-documentation/commits{/sha}\", \"git_commits_url\": \"https://api.github.com/repos/ycs0405/translation-spring-mvc-4-documentation/git/commits{/sha}\", \"comments_url\": \"https://api.github.com/repos/ycs0405/translation-spring-mvc-4-documentation/comments{/number}\", \"issue_comment_url\": \"https://api.github.com/repos/ycs0405/translation-spring-mvc-4-documentation/issues/comments{/number}\", \"contents_url\": \"https://api.github.com/repos/ycs0405/translation-spring-mvc-4-documentation/contents/{+path}\", \"compare_url\": \"https://api.github.com/repos/ycs0405/translation-spring-mvc-4-documentation/compare/{base}...{head}\", \"merges_url\": \"https://api.github.com/repos/ycs0405/translation-spring-mvc-4-documentation/merges\", \"archive_url\": \"https://api.github.com/repos/ycs0405/translation-spring-mvc-4-documentation/{archive_format}{/ref}\", \"downloads_url\": \"https://api.github.com/repos/ycs0405/translation-spring-mvc-4-documentation/downloads\", \"issues_url\": \"https://api.github.com/repos/ycs0405/translation-spring-mvc-4-documentation/issues{/number}\", \"pulls_url\": \"https://api.github.com/repos/ycs0405/translation-spring-mvc-4-documentation/pulls{/number}\", \"milestones_url\": \"https://api.github.com/repos/ycs0405/translation-spring-mvc-4-documentation/milestones{/number}\", \"notifications_url\": \"https://api.github.com/repos/ycs0405/translation-spring-mvc-4-documentation/notifications{?since,all,participating}\", \"labels_url\": \"https://api.github.com/repos/ycs0405/translation-spring-mvc-4-documentation/labels{/name}\", \"releases_url\": \"https://api.github.com/repos/ycs0405/translation-spring-mvc-4-documentation/releases{/id}\", \"deployments_url\": \"https://api.github.com/repos/ycs0405/translation-spring-mvc-4-documentation/deployments\", \"created_at\": \"2018-01-01T15:00:04Z\", \"updated_at\": \"2018-01-01T10:57:16Z\", \"pushed_at\": \"2017-08-30T16:20:06Z\", \"git_url\": \"git://github.com/ycs0405/translation-spring-mvc-4-documentation.git\", \"ssh_url\": \"git@github.com:ycs0405/translation-spring-mvc-4-documentation.git\", \"clone_url\": \"https://github.com/ycs0405/translation-spring-mvc-4-documentation.git\", \"svn_url\": \"https://github.com/ycs0405/translation-spring-mvc-4-documentation\", \"homepage\": \"https://linesh.gitbooks.io/spring-mvc-documentation-linesh-translation/content/\", \"size\": 2642, \"stargazers_count\": 0, \"watchers_count\": 0, \"language\": null, \"has_issues\": false, \"has_projects\": true, \"has_downloads\": true, \"has_wiki\": true, \"has_pages\": false, \"forks_count\": 0, \"mirror_url\": null, \"archived\": false, \"open_issues_count\": 0, \"license\": null, \"forks\": 0, \"open_issues\": 0, \"watchers\": 0, \"default_branch\": \"master\", \"public\": true}}, \"public\": true, \"created_at\": \"2018-01-01T15:00:05Z\"}\n",
      "{\"id\": \"7045118978\", \"type\": \"PullRequestEvent\", \"actor\": {\"id\": 5524549, \"login\": \"rizvi\", \"display_login\": \"rizvi\", \"gravatar_id\": \"\", \"url\": \"https://api.github.com/users/rizvi\", \"avatar_url\": \"https://avatars.githubusercontent.com/u/5524549?\"}, \"repo\": {\"id\": 115719463, \"name\": \"rizvi/SampleJava8Learning\", \"url\": \"https://api.github.com/repos/rizvi/SampleJava8Learning\"}, \"payload\": {\"action\": \"closed\", \"number\": 4, \"pull_request\": {\"url\": \"https://api.github.com/repos/rizvi/SampleJava8Learning/pulls/4\", \"id\": 160650716, \"html_url\": \"https://github.com/rizvi/SampleJava8Learning/pull/4\", \"diff_url\": \"https://github.com/rizvi/SampleJava8Learning/pull/4.diff\", \"patch_url\": \"https://github.com/rizvi/SampleJava8Learning/pull/4.patch\", \"issue_url\": \"https://api.github.com/repos/rizvi/SampleJava8Learning/issues/4\", \"number\": 4, \"state\": \"closed\", \"locked\": false, \"title\": \"Java7 and Java8 implementation in parallel\", \"user\": {\"login\": \"rizvi\", \"id\": 5524549, \"avatar_url\": \"https://avatars1.githubusercontent.com/u/5524549?v=4\", \"gravatar_id\": \"\", \"url\": \"https://api.github.com/users/rizvi\", \"html_url\": \"https://github.com/rizvi\", \"followers_url\": \"https://api.github.com/users/rizvi/followers\", \"following_url\": \"https://api.github.com/users/rizvi/following{/other_user}\", \"gists_url\": \"https://api.github.com/users/rizvi/gists{/gist_id}\", \"starred_url\": \"https://api.github.com/users/rizvi/starred{/owner}{/repo}\", \"subscriptions_url\": \"https://api.github.com/users/rizvi/subscriptions\", \"organizations_url\": \"https://api.github.com/users/rizvi/orgs\", \"repos_url\": \"https://api.github.com/users/rizvi/repos\", \"events_url\": \"https://api.github.com/users/rizvi/events{/privacy}\", \"received_events_url\": \"https://api.github.com/users/rizvi/received_events\", \"type\": \"User\", \"site_admin\": false}, \"body\": \"i) Anonymous Inner Class Implementation\\r\\nii) Lambda Implementation\", \"created_at\": \"2018-01-01T14:59:46Z\", \"updated_at\": \"2018-01-01T15:00:04Z\", \"closed_at\": \"2018-01-01T15:00:04Z\", \"merged_at\": \"2018-01-01T15:00:04Z\", \"merge_commit_sha\": \"7deeac6f5fc0ed2d3cbe1d678a25c661208ee641\", \"assignee\": null, \"assignees\": [], \"requested_reviewers\": [], \"milestone\": null, \"commits_url\": \"https://api.github.com/repos/rizvi/SampleJava8Learning/pulls/4/commits\", \"review_comments_url\": \"https://api.github.com/repos/rizvi/SampleJava8Learning/pulls/4/comments\", \"review_comment_url\": \"https://api.github.com/repos/rizvi/SampleJava8Learning/pulls/comments{/number}\", \"comments_url\": \"https://api.github.com/repos/rizvi/SampleJava8Learning/issues/4/comments\", \"statuses_url\": \"https://api.github.com/repos/rizvi/SampleJava8Learning/statuses/6c192613d1d886ebf1461588dc544512b4cb901e\", \"head\": {\"label\": \"rizvi:br#sample11\", \"ref\": \"br#sample11\", \"sha\": \"6c192613d1d886ebf1461588dc544512b4cb901e\", \"user\": {\"login\": \"rizvi\", \"id\": 5524549, \"avatar_url\": \"https://avatars1.githubusercontent.com/u/5524549?v=4\", \"gravatar_id\": \"\", \"url\": \"https://api.github.com/users/rizvi\", \"html_url\": \"https://github.com/rizvi\", \"followers_url\": \"https://api.github.com/users/rizvi/followers\", \"following_url\": \"https://api.github.com/users/rizvi/following{/other_user}\", \"gists_url\": \"https://api.github.com/users/rizvi/gists{/gist_id}\", \"starred_url\": \"https://api.github.com/users/rizvi/starred{/owner}{/repo}\", \"subscriptions_url\": \"https://api.github.com/users/rizvi/subscriptions\", \"organizations_url\": \"https://api.github.com/users/rizvi/orgs\", \"repos_url\": \"https://api.github.com/users/rizvi/repos\", \"events_url\": \"https://api.github.com/users/rizvi/events{/privacy}\", \"received_events_url\": \"https://api.github.com/users/rizvi/received_events\", \"type\": \"User\", \"site_admin\": false}, \"repo\": {\"id\": 115719463, \"name\": \"SampleJava8Learning\", \"full_name\": \"rizvi/SampleJava8Learning\", \"owner\": {\"login\": \"rizvi\", \"id\": 5524549, \"avatar_url\": \"https://avatars1.githubusercontent.com/u/5524549?v=4\", \"gravatar_id\": \"\", \"url\": \"https://api.github.com/users/rizvi\", \"html_url\": \"https://github.com/rizvi\", \"followers_url\": \"https://api.github.com/users/rizvi/followers\", \"following_url\": \"https://api.github.com/users/rizvi/following{/other_user}\", \"gists_url\": \"https://api.github.com/users/rizvi/gists{/gist_id}\", \"starred_url\": \"https://api.github.com/users/rizvi/starred{/owner}{/repo}\", \"subscriptions_url\": \"https://api.github.com/users/rizvi/subscriptions\", \"organizations_url\": \"https://api.github.com/users/rizvi/orgs\", \"repos_url\": \"https://api.github.com/users/rizvi/repos\", \"events_url\": \"https://api.github.com/users/rizvi/events{/privacy}\", \"received_events_url\": \"https://api.github.com/users/rizvi/received_events\", \"type\": \"User\", \"site_admin\": false}, \"private\": false, \"html_url\": \"https://github.com/rizvi/SampleJava8Learning\", \"description\": \"Java8\", \"fork\": false, \"url\": \"https://api.github.com/repos/rizvi/SampleJava8Learning\", \"forks_url\": \"https://api.github.com/repos/rizvi/SampleJava8Learning/forks\", \"keys_url\": \"https://api.github.com/repos/rizvi/SampleJava8Learning/keys{/key_id}\", \"collaborators_url\": \"https://api.github.com/repos/rizvi/SampleJava8Learning/collaborators{/collaborator}\", \"teams_url\": \"https://api.github.com/repos/rizvi/SampleJava8Learning/teams\", \"hooks_url\": \"https://api.github.com/repos/rizvi/SampleJava8Learning/hooks\", \"issue_events_url\": \"https://api.github.com/repos/rizvi/SampleJava8Learning/issues/events{/number}\", \"events_url\": \"https://api.github.com/repos/rizvi/SampleJava8Learning/events\", \"assignees_url\": \"https://api.github.com/repos/rizvi/SampleJava8Learning/assignees{/user}\", \"branches_url\": \"https://api.github.com/repos/rizvi/SampleJava8Learning/branches{/branch}\", \"tags_url\": \"https://api.github.com/repos/rizvi/SampleJava8Learning/tags\", \"blobs_url\": \"https://api.github.com/repos/rizvi/SampleJava8Learning/git/blobs{/sha}\", \"git_tags_url\": \"https://api.github.com/repos/rizvi/SampleJava8Learning/git/tags{/sha}\", \"git_refs_url\": \"https://api.github.com/repos/rizvi/SampleJava8Learning/git/refs{/sha}\", \"trees_url\": \"https://api.github.com/repos/rizvi/SampleJava8Learning/git/trees{/sha}\", \"statuses_url\": \"https://api.github.com/repos/rizvi/SampleJava8Learning/statuses/{sha}\", \"languages_url\": \"https://api.github.com/repos/rizvi/SampleJava8Learning/languages\", \"stargazers_url\": \"https://api.github.com/repos/rizvi/SampleJava8Learning/stargazers\", \"contributors_url\": \"https://api.github.com/repos/rizvi/SampleJava8Learning/contributors\", \"subscribers_url\": \"https://api.github.com/repos/rizvi/SampleJava8Learning/subscribers\", \"subscription_url\": \"https://api.github.com/repos/rizvi/SampleJava8Learning/subscription\", \"commits_url\": \"https://api.github.com/repos/rizvi/SampleJava8Learning/commits{/sha}\", \"git_commits_url\": \"https://api.github.com/repos/rizvi/SampleJava8Learning/git/commits{/sha}\", \"comments_url\": \"https://api.github.com/repos/rizvi/SampleJava8Learning/comments{/number}\", \"issue_comment_url\": \"https://api.github.com/repos/rizvi/SampleJava8Learning/issues/comments{/number}\", \"contents_url\": \"https://api.github.com/repos/rizvi/SampleJava8Learning/contents/{+path}\", \"compare_url\": \"https://api.github.com/repos/rizvi/SampleJava8Learning/compare/{base}...{head}\", \"merges_url\": \"https://api.github.com/repos/rizvi/SampleJava8Learning/merges\", \"archive_url\": \"https://api.github.com/repos/rizvi/SampleJava8Learning/{archive_format}{/ref}\", \"downloads_url\": \"https://api.github.com/repos/rizvi/SampleJava8Learning/downloads\", \"issues_url\": \"https://api.github.com/repos/rizvi/SampleJava8Learning/issues{/number}\", \"pulls_url\": \"https://api.github.com/repos/rizvi/SampleJava8Learning/pulls{/number}\", \"milestones_url\": \"https://api.github.com/repos/rizvi/SampleJava8Learning/milestones{/number}\", \"notifications_url\": \"https://api.github.com/repos/rizvi/SampleJava8Learning/notifications{?since,all,participating}\", \"labels_url\": \"https://api.github.com/repos/rizvi/SampleJava8Learning/labels{/name}\", \"releases_url\": \"https://api.github.com/repos/rizvi/SampleJava8Learning/releases{/id}\", \"deployments_url\": \"https://api.github.com/repos/rizvi/SampleJava8Learning/deployments\", \"created_at\": \"2017-12-29T12:08:24Z\", \"updated_at\": \"2017-12-29T12:10:55Z\", \"pushed_at\": \"2018-01-01T15:00:04Z\", \"git_url\": \"git://github.com/rizvi/SampleJava8Learning.git\", \"ssh_url\": \"git@github.com:rizvi/SampleJava8Learning.git\", \"clone_url\": \"https://github.com/rizvi/SampleJava8Learning.git\", \"svn_url\": \"https://github.com/rizvi/SampleJava8Learning\", \"homepage\": null, \"size\": 12, \"stargazers_count\": 0, \"watchers_count\": 0, \"language\": \"Java\", \"has_issues\": true, \"has_projects\": true, \"has_downloads\": true, \"has_wiki\": true, \"has_pages\": false, \"forks_count\": 0, \"mirror_url\": null, \"archived\": false, \"open_issues_count\": 0, \"license\": null, \"forks\": 0, \"open_issues\": 0, \"watchers\": 0, \"default_branch\": \"master\"}}, \"base\": {\"label\": \"rizvi:master\", \"ref\": \"master\", \"sha\": \"1a826fc077e57a94ff7e39073ed36075dccf2977\", \"user\": {\"login\": \"rizvi\", \"id\": 5524549, \"avatar_url\": \"https://avatars1.githubusercontent.com/u/5524549?v=4\", \"gravatar_id\": \"\", \"url\": \"https://api.github.com/users/rizvi\", \"html_url\": \"https://github.com/rizvi\", \"followers_url\": \"https://api.github.com/users/rizvi/followers\", \"following_url\": \"https://api.github.com/users/rizvi/following{/other_user}\", \"gists_url\": \"https://api.github.com/users/rizvi/gists{/gist_id}\", \"starred_url\": \"https://api.github.com/users/rizvi/starred{/owner}{/repo}\", \"subscriptions_url\": \"https://api.github.com/users/rizvi/subscriptions\", \"organizations_url\": \"https://api.github.com/users/rizvi/orgs\", \"repos_url\": \"https://api.github.com/users/rizvi/repos\", \"events_url\": \"https://api.github.com/users/rizvi/events{/privacy}\", \"received_events_url\": \"https://api.github.com/users/rizvi/received_events\", \"type\": \"User\", \"site_admin\": false}, \"repo\": {\"id\": 115719463, \"name\": \"SampleJava8Learning\", \"full_name\": \"rizvi/SampleJava8Learning\", \"owner\": {\"login\": \"rizvi\", \"id\": 5524549, \"avatar_url\": \"https://avatars1.githubusercontent.com/u/5524549?v=4\", \"gravatar_id\": \"\", \"url\": \"https://api.github.com/users/rizvi\", \"html_url\": \"https://github.com/rizvi\", \"followers_url\": \"https://api.github.com/users/rizvi/followers\", \"following_url\": \"https://api.github.com/users/rizvi/following{/other_user}\", \"gists_url\": \"https://api.github.com/users/rizvi/gists{/gist_id}\", \"starred_url\": \"https://api.github.com/users/rizvi/starred{/owner}{/repo}\", \"subscriptions_url\": \"https://api.github.com/users/rizvi/subscriptions\", \"organizations_url\": \"https://api.github.com/users/rizvi/orgs\", \"repos_url\": \"https://api.github.com/users/rizvi/repos\", \"events_url\": \"https://api.github.com/users/rizvi/events{/privacy}\", \"received_events_url\": \"https://api.github.com/users/rizvi/received_events\", \"type\": \"User\", \"site_admin\": false}, \"private\": false, \"html_url\": \"https://github.com/rizvi/SampleJava8Learning\", \"description\": \"Java8\", \"fork\": false, \"url\": \"https://api.github.com/repos/rizvi/SampleJava8Learning\", \"forks_url\": \"https://api.github.com/repos/rizvi/SampleJava8Learning/forks\", \"keys_url\": \"https://api.github.com/repos/rizvi/SampleJava8Learning/keys{/key_id}\", \"collaborators_url\": \"https://api.github.com/repos/rizvi/SampleJava8Learning/collaborators{/collaborator}\", \"teams_url\": \"https://api.github.com/repos/rizvi/SampleJava8Learning/teams\", \"hooks_url\": \"https://api.github.com/repos/rizvi/SampleJava8Learning/hooks\", \"issue_events_url\": \"https://api.github.com/repos/rizvi/SampleJava8Learning/issues/events{/number}\", \"events_url\": \"https://api.github.com/repos/rizvi/SampleJava8Learning/events\", \"assignees_url\": \"https://api.github.com/repos/rizvi/SampleJava8Learning/assignees{/user}\", \"branches_url\": \"https://api.github.com/repos/rizvi/SampleJava8Learning/branches{/branch}\", \"tags_url\": \"https://api.github.com/repos/rizvi/SampleJava8Learning/tags\", \"blobs_url\": \"https://api.github.com/repos/rizvi/SampleJava8Learning/git/blobs{/sha}\", \"git_tags_url\": \"https://api.github.com/repos/rizvi/SampleJava8Learning/git/tags{/sha}\", \"git_refs_url\": \"https://api.github.com/repos/rizvi/SampleJava8Learning/git/refs{/sha}\", \"trees_url\": \"https://api.github.com/repos/rizvi/SampleJava8Learning/git/trees{/sha}\", \"statuses_url\": \"https://api.github.com/repos/rizvi/SampleJava8Learning/statuses/{sha}\", \"languages_url\": \"https://api.github.com/repos/rizvi/SampleJava8Learning/languages\", \"stargazers_url\": \"https://api.github.com/repos/rizvi/SampleJava8Learning/stargazers\", \"contributors_url\": \"https://api.github.com/repos/rizvi/SampleJava8Learning/contributors\", \"subscribers_url\": \"https://api.github.com/repos/rizvi/SampleJava8Learning/subscribers\", \"subscription_url\": \"https://api.github.com/repos/rizvi/SampleJava8Learning/subscription\", \"commits_url\": \"https://api.github.com/repos/rizvi/SampleJava8Learning/commits{/sha}\", \"git_commits_url\": \"https://api.github.com/repos/rizvi/SampleJava8Learning/git/commits{/sha}\", \"comments_url\": \"https://api.github.com/repos/rizvi/SampleJava8Learning/comments{/number}\", \"issue_comment_url\": \"https://api.github.com/repos/rizvi/SampleJava8Learning/issues/comments{/number}\", \"contents_url\": \"https://api.github.com/repos/rizvi/SampleJava8Learning/contents/{+path}\", \"compare_url\": \"https://api.github.com/repos/rizvi/SampleJava8Learning/compare/{base}...{head}\", \"merges_url\": \"https://api.github.com/repos/rizvi/SampleJava8Learning/merges\", \"archive_url\": \"https://api.github.com/repos/rizvi/SampleJava8Learning/{archive_format}{/ref}\", \"downloads_url\": \"https://api.github.com/repos/rizvi/SampleJava8Learning/downloads\", \"issues_url\": \"https://api.github.com/repos/rizvi/SampleJava8Learning/issues{/number}\", \"pulls_url\": \"https://api.github.com/repos/rizvi/SampleJava8Learning/pulls{/number}\", \"milestones_url\": \"https://api.github.com/repos/rizvi/SampleJava8Learning/milestones{/number}\", \"notifications_url\": \"https://api.github.com/repos/rizvi/SampleJava8Learning/notifications{?since,all,participating}\", \"labels_url\": \"https://api.github.com/repos/rizvi/SampleJava8Learning/labels{/name}\", \"releases_url\": \"https://api.github.com/repos/rizvi/SampleJava8Learning/releases{/id}\", \"deployments_url\": \"https://api.github.com/repos/rizvi/SampleJava8Learning/deployments\", \"created_at\": \"2017-12-29T12:08:24Z\", \"updated_at\": \"2017-12-29T12:10:55Z\", \"pushed_at\": \"2018-01-01T15:00:04Z\", \"git_url\": \"git://github.com/rizvi/SampleJava8Learning.git\", \"ssh_url\": \"git@github.com:rizvi/SampleJava8Learning.git\", \"clone_url\": \"https://github.com/rizvi/SampleJava8Learning.git\", \"svn_url\": \"https://github.com/rizvi/SampleJava8Learning\", \"homepage\": null, \"size\": 12, \"stargazers_count\": 0, \"watchers_count\": 0, \"language\": \"Java\", \"has_issues\": true, \"has_projects\": true, \"has_downloads\": true, \"has_wiki\": true, \"has_pages\": false, \"forks_count\": 0, \"mirror_url\": null, \"archived\": false, \"open_issues_count\": 0, \"license\": null, \"forks\": 0, \"open_issues\": 0, \"watchers\": 0, \"default_branch\": \"master\"}}, \"_links\": {\"self\": {\"href\": \"https://api.github.com/repos/rizvi/SampleJava8Learning/pulls/4\"}, \"html\": {\"href\": \"https://github.com/rizvi/SampleJava8Learning/pull/4\"}, \"issue\": {\"href\": \"https://api.github.com/repos/rizvi/SampleJava8Learning/issues/4\"}, \"comments\": {\"href\": \"https://api.github.com/repos/rizvi/SampleJava8Learning/issues/4/comments\"}, \"review_comments\": {\"href\": \"https://api.github.com/repos/rizvi/SampleJava8Learning/pulls/4/comments\"}, \"review_comment\": {\"href\": \"https://api.github.com/repos/rizvi/SampleJava8Learning/pulls/comments{/number}\"}, \"commits\": {\"href\": \"https://api.github.com/repos/rizvi/SampleJava8Learning/pulls/4/commits\"}, \"statuses\": {\"href\": \"https://api.github.com/repos/rizvi/SampleJava8Learning/statuses/6c192613d1d886ebf1461588dc544512b4cb901e\"}}, \"author_association\": \"OWNER\", \"merged\": true, \"mergeable\": null, \"rebaseable\": null, \"mergeable_state\": \"unknown\", \"merged_by\": {\"login\": \"rizvi\", \"id\": 5524549, \"avatar_url\": \"https://avatars1.githubusercontent.com/u/5524549?v=4\", \"gravatar_id\": \"\", \"url\": \"https://api.github.com/users/rizvi\", \"html_url\": \"https://github.com/rizvi\", \"followers_url\": \"https://api.github.com/users/rizvi/followers\", \"following_url\": \"https://api.github.com/users/rizvi/following{/other_user}\", \"gists_url\": \"https://api.github.com/users/rizvi/gists{/gist_id}\", \"starred_url\": \"https://api.github.com/users/rizvi/starred{/owner}{/repo}\", \"subscriptions_url\": \"https://api.github.com/users/rizvi/subscriptions\", \"organizations_url\": \"https://api.github.com/users/rizvi/orgs\", \"repos_url\": \"https://api.github.com/users/rizvi/repos\", \"events_url\": \"https://api.github.com/users/rizvi/events{/privacy}\", \"received_events_url\": \"https://api.github.com/users/rizvi/received_events\", \"type\": \"User\", \"site_admin\": false}, \"comments\": 0, \"review_comments\": 0, \"maintainer_can_modify\": false, \"commits\": 1, \"additions\": 29, \"deletions\": 26, \"changed_files\": 3}}, \"public\": true, \"created_at\": \"2018-01-01T15:00:05Z\"}\n",
      "{\"id\": \"7045118982\", \"type\": \"IssuesEvent\", \"actor\": {\"id\": 22598576, \"login\": \"dudelaw\", \"display_login\": \"dudelaw\", \"gravatar_id\": \"\", \"url\": \"https://api.github.com/users/dudelaw\", \"avatar_url\": \"https://avatars.githubusercontent.com/u/22598576?\"}, \"repo\": {\"id\": 1432099, \"name\": \"taoliu/MACS\", \"url\": \"https://api.github.com/repos/taoliu/MACS\"}, \"payload\": {\"action\": \"opened\", \"issue\": {\"url\": \"https://api.github.com/repos/taoliu/MACS/issues/226\", \"repository_url\": \"https://api.github.com/repos/taoliu/MACS\", \"labels_url\": \"https://api.github.com/repos/taoliu/MACS/issues/226/labels{/name}\", \"comments_url\": \"https://api.github.com/repos/taoliu/MACS/issues/226/comments\", \"events_url\": \"https://api.github.com/repos/taoliu/MACS/issues/226/events\", \"html_url\": \"https://github.com/taoliu/MACS/issues/226\", \"id\": 285311668, \"number\": 226, \"title\": \"Peak calling problem from MACS2\", \"user\": {\"login\": \"dudelaw\", \"id\": 22598576, \"avatar_url\": \"https://avatars3.githubusercontent.com/u/22598576?v=4\", \"gravatar_id\": \"\", \"url\": \"https://api.github.com/users/dudelaw\", \"html_url\": \"https://github.com/dudelaw\", \"followers_url\": \"https://api.github.com/users/dudelaw/followers\", \"following_url\": \"https://api.github.com/users/dudelaw/following{/other_user}\", \"gists_url\": \"https://api.github.com/users/dudelaw/gists{/gist_id}\", \"starred_url\": \"https://api.github.com/users/dudelaw/starred{/owner}{/repo}\", \"subscriptions_url\": \"https://api.github.com/users/dudelaw/subscriptions\", \"organizations_url\": \"https://api.github.com/users/dudelaw/orgs\", \"repos_url\": \"https://api.github.com/users/dudelaw/repos\", \"events_url\": \"https://api.github.com/users/dudelaw/events{/privacy}\", \"received_events_url\": \"https://api.github.com/users/dudelaw/received_events\", \"type\": \"User\", \"site_admin\": false}, \"labels\": [], \"state\": \"open\", \"locked\": false, \"assignee\": null, \"assignees\": [], \"milestone\": null, \"comments\": 0, \"created_at\": \"2018-01-01T15:00:04Z\", \"updated_at\": \"2018-01-01T15:00:04Z\", \"closed_at\": null, \"author_association\": \"NONE\", \"body\": \"Hi, all.\\r\\nNow I am using MACS2 to analyse ChIP-seq data of histone modification. I found that some obvious peaks were not called from MACS2, while some less obvious peaks were recognized by MACS2. In addition, no matter how I loosen the parameters, those obvious peaks were not included. I am wondering the reason behind this.\\r\\nThe parameter used to generate the following example:\\r\\nmacs2 callpeak -t treatmen.bam -c input.bam -n output_name -g mm --bdg --broad -p 0.01 -m 3 99999\\r\\nPeaks defined by MACS2:\\r\\n![image](https://user-images.githubusercontent.com/22598576/34468601-3fd64d06-ef04-11e7-9f6a-aa5ba6dfb081.png)\\r\\n\\r\\nPeak missed by MACS2:\\r\\n![image](https://user-images.githubusercontent.com/22598576/34468607-4bfe1262-ef04-11e7-9da8-76fc8053d3b5.png)\\r\\n\\r\\nThanks!\"}}, \"public\": true, \"created_at\": \"2018-01-01T15:00:05Z\"}\n",
      "{\"id\": \"7045118984\", \"type\": \"PushEvent\", \"actor\": {\"id\": 21559339, \"login\": \"ShawnNew\", \"display_login\": \"ShawnNew\", \"gravatar_id\": \"\", \"url\": \"https://api.github.com/users/ShawnNew\", \"avatar_url\": \"https://avatars.githubusercontent.com/u/21559339?\"}, \"repo\": {\"id\": 109426211, \"name\": \"ShawnNew/myLeetcodeAnswer\", \"url\": \"https://api.github.com/repos/ShawnNew/myLeetcodeAnswer\"}, \"payload\": {\"push_id\": 2226161640, \"size\": 1, \"distinct_size\": 1, \"ref\": \"refs/heads/staging\", \"head\": \"4b8c8d10fb121cf6407933c85fc7070226c0e4a8\", \"before\": \"1c43ff3dcb81f96b5f73ffdb6984578133bd27b1\", \"commits\": [{\"sha\": \"4b8c8d10fb121cf6407933c85fc7070226c0e4a8\", \"author\": {\"name\": \"ShawnNew\", \"email\": \"c788b3cab1d73650e3a1841790d0eab9557d395b@gmail.com\"}, \"message\": \"551. Student Attendance Record I\", \"distinct\": true, \"url\": \"https://api.github.com/repos/ShawnNew/myLeetcodeAnswer/commits/4b8c8d10fb121cf6407933c85fc7070226c0e4a8\"}]}, \"public\": true, \"created_at\": \"2018-01-01T15:00:05Z\"}\n",
      "{\"id\": \"7045118985\", \"type\": \"WatchEvent\", \"actor\": {\"id\": 2199894, \"login\": \"wstucco\", \"display_login\": \"wstucco\", \"gravatar_id\": \"\", \"url\": \"https://api.github.com/users/wstucco\", \"avatar_url\": \"https://avatars.githubusercontent.com/u/2199894?\"}, \"repo\": {\"id\": 33151771, \"name\": \"x43x61x69/gbdk-osx\", \"url\": \"https://api.github.com/repos/x43x61x69/gbdk-osx\"}, \"payload\": {\"action\": \"started\"}, \"public\": true, \"created_at\": \"2018-01-01T15:00:05Z\"}\n",
      "{\"id\": \"7045118987\", \"type\": \"PushEvent\", \"actor\": {\"id\": 23026379, \"login\": \"jyc99\", \"display_login\": \"jyc99\", \"gravatar_id\": \"\", \"url\": \"https://api.github.com/users/jyc99\", \"avatar_url\": \"https://avatars.githubusercontent.com/u/23026379?\"}, \"repo\": {\"id\": 97558960, \"name\": \"jyc99/store\", \"url\": \"https://api.github.com/repos/jyc99/store\"}, \"payload\": {\"push_id\": 2226161642, \"size\": 1, \"distinct_size\": 1, \"ref\": \"refs/heads/master\", \"head\": \"4c3ee4f16d7cea2b84ff5995ef63d42198bfae06\", \"before\": \"fa3fc32680a02695062af09bffa3a5c60f71be23\", \"commits\": [{\"sha\": \"4c3ee4f16d7cea2b84ff5995ef63d42198bfae06\", \"author\": {\"name\": \"jyc99\", \"email\": \"ea5c35890633d47797657b32063b7aa2ec430fc4@qq.com\"}, \"message\": \"123\", \"distinct\": true, \"url\": \"https://api.github.com/repos/jyc99/store/commits/4c3ee4f16d7cea2b84ff5995ef63d42198bfae06\"}]}, \"public\": true, \"created_at\": \"2018-01-01T15:00:05Z\"}\n",
      "{\"id\": \"7045118988\", \"type\": \"PushEvent\", \"actor\": {\"id\": 12959339, \"login\": \"zhao1157\", \"display_login\": \"zhao1157\", \"gravatar_id\": \"\", \"url\": \"https://api.github.com/users/zhao1157\", \"avatar_url\": \"https://avatars.githubusercontent.com/u/12959339?\"}, \"repo\": {\"id\": 115884603, \"name\": \"zhao1157/Practicing_Bash\", \"url\": \"https://api.github.com/repos/zhao1157/Practicing_Bash\"}, \"payload\": {\"push_id\": 2226161644, \"size\": 1, \"distinct_size\": 1, \"ref\": \"refs/heads/master\", \"head\": \"fee9149726fa2983a532ffa49ec9bdca24b79f04\", \"before\": \"8cab1c2ae9139abcdf6cd57070db5f7c441a59ca\", \"commits\": [{\"sha\": \"fee9149726fa2983a532ffa49ec9bdca24b79f04\", \"author\": {\"name\": \"zhao1157\", \"email\": \"1f640b14f40ca35bb62c96b0710dffa51bb70b88@osu.edu\"}, \"message\": \"Update README.md\", \"distinct\": true, \"url\": \"https://api.github.com/repos/zhao1157/Practicing_Bash/commits/fee9149726fa2983a532ffa49ec9bdca24b79f04\"}]}, \"public\": true, \"created_at\": \"2018-01-01T15:00:05Z\"}\n",
      "{\"id\": \"7045118989\", \"type\": \"PushEvent\", \"actor\": {\"id\": 24964592, \"login\": \"argo-testing\", \"display_login\": \"argo-testing\", \"gravatar_id\": \"\", \"url\": \"https://api.github.com/users/argo-testing\", \"avatar_url\": \"https://avatars.githubusercontent.com/u/24964592?\"}, \"repo\": {\"id\": 78462164, \"name\": \"argo-testing/prod-autobuild-prober\", \"url\": \"https://api.github.com/repos/argo-testing/prod-autobuild-prober\"}, \"payload\": {\"push_id\": 2226161645, \"size\": 1, \"distinct_size\": 1, \"ref\": \"refs/heads/autobuild-probe-tag-jl\", \"head\": \"eb4bd695b04c4a8848206e16a26516123885ce69\", \"before\": \"e82adb4994de733afaa267db40f3d11f38cca7c6\", \"commits\": [{\"sha\": \"eb4bd695b04c4a8848206e16a26516123885ce69\", \"author\": {\"name\": \"Autobuild probe\", \"email\": \"365ec17a675f3273bc16c74761ad83f2cf07c59a@google.com\"}, \"message\": \"autobuild test\", \"distinct\": true, \"url\": \"https://api.github.com/repos/argo-testing/prod-autobuild-prober/commits/eb4bd695b04c4a8848206e16a26516123885ce69\"}]}, \"public\": true, \"created_at\": \"2018-01-01T15:00:05Z\"}\n",
      "{\"id\": \"7045118991\", \"type\": \"PushEvent\", \"actor\": {\"id\": 20618693, \"login\": \"rwuhrman\", \"display_login\": \"rwuhrman\", \"gravatar_id\": \"\", \"url\": \"https://api.github.com/users/rwuhrman\", \"avatar_url\": \"https://avatars.githubusercontent.com/u/20618693?\"}, \"repo\": {\"id\": 115447598, \"name\": \"rwuhrman/unified-shared-services-management\", \"url\": \"https://api.github.com/repos/rwuhrman/unified-shared-services-management\"}, \"payload\": {\"push_id\": 2226161648, \"size\": 1, \"distinct_size\": 1, \"ref\": \"refs/heads/master\", \"head\": \"7b4999370e9f6b90cfba9c0e390a5b4aa2dd5b17\", \"before\": \"fa89b5590b28238317f1973b418f32d56e477098\", \"commits\": [{\"sha\": \"7b4999370e9f6b90cfba9c0e390a5b4aa2dd5b17\", \"author\": {\"name\": \"Robert Carl Wuhrman\", \"email\": \"9371634bd5f4e72a21c5e1c33183f43b6e521608@gsa.gov\"}, \"message\": \"Update m3activity.01.01.html\", \"distinct\": true, \"url\": \"https://api.github.com/repos/rwuhrman/unified-shared-services-management/commits/7b4999370e9f6b90cfba9c0e390a5b4aa2dd5b17\"}]}, \"public\": true, \"created_at\": \"2018-01-01T15:00:05Z\"}\n",
      "{\"id\": \"7045118992\", \"type\": \"PushEvent\", \"actor\": {\"id\": 5524549, \"login\": \"rizvi\", \"display_login\": \"rizvi\", \"gravatar_id\": \"\", \"url\": \"https://api.github.com/users/rizvi\", \"avatar_url\": \"https://avatars.githubusercontent.com/u/5524549?\"}, \"repo\": {\"id\": 115719463, \"name\": \"rizvi/SampleJava8Learning\", \"url\": \"https://api.github.com/repos/rizvi/SampleJava8Learning\"}, \"payload\": {\"push_id\": 2226161643, \"size\": 2, \"distinct_size\": 1, \"ref\": \"refs/heads/master\", \"head\": \"7deeac6f5fc0ed2d3cbe1d678a25c661208ee641\", \"before\": \"1a826fc077e57a94ff7e39073ed36075dccf2977\", \"commits\": [{\"sha\": \"6c192613d1d886ebf1461588dc544512b4cb901e\", \"author\": {\"name\": \"zakir_rizvi\", \"email\": \"50ba171401d125d8b5d421566c98df85362d79be@gmail.com\"}, \"message\": \"Java7 and Java8 implementation in parallel\\n\\ni)Anonymous Inner Class Implementation\\nii) Lambda Implementation\", \"distinct\": false, \"url\": \"https://api.github.com/repos/rizvi/SampleJava8Learning/commits/6c192613d1d886ebf1461588dc544512b4cb901e\"}, {\"sha\": \"7deeac6f5fc0ed2d3cbe1d678a25c661208ee641\", \"author\": {\"name\": \"Abu Zakir Rizvi\", \"email\": \"50ba171401d125d8b5d421566c98df85362d79be@gmail.com\"}, \"message\": \"Merge pull request #4 from rizvi/br#sample11\\n\\nJava7 and Java8 implementation in parallel\", \"distinct\": true, \"url\": \"https://api.github.com/repos/rizvi/SampleJava8Learning/commits/7deeac6f5fc0ed2d3cbe1d678a25c661208ee641\"}]}, \"public\": true, \"created_at\": \"2018-01-01T15:00:05Z\"}\n",
      "{\"id\": \"7045118993\", \"type\": \"PushEvent\", \"actor\": {\"id\": 19150604, \"login\": \"zhang0chao0\", \"display_login\": \"zhang0chao0\", \"gravatar_id\": \"\", \"url\": \"https://api.github.com/users/zhang0chao0\", \"avatar_url\": \"https://avatars.githubusercontent.com/u/19150604?\"}, \"repo\": {\"id\": 98029932, \"name\": \"zhang0chao0/zhang0chao0.github.io\", \"url\": \"https://api.github.com/repos/zhang0chao0/zhang0chao0.github.io\"}, \"payload\": {\"push_id\": 2226161647, \"size\": 1, \"distinct_size\": 1, \"ref\": \"refs/heads/master\", \"head\": \"2824c6f95dc9ac94ce60db4071d6074f24216d0e\", \"before\": \"190708d74d2afe3ff1f3cb989f230ee5a25fba07\", \"commits\": [{\"sha\": \"2824c6f95dc9ac94ce60db4071d6074f24216d0e\", \"author\": {\"name\": \"zhangchao_\", \"email\": \"6bc1a79bb29b8f3a10b3268bc642843441cc885b@qq.com\"}, \"message\": \"Site updated: 2018-01-01 22:59:24\", \"distinct\": true, \"url\": \"https://api.github.com/repos/zhang0chao0/zhang0chao0.github.io/commits/2824c6f95dc9ac94ce60db4071d6074f24216d0e\"}]}, \"public\": true, \"created_at\": \"2018-01-01T15:00:05Z\"}\n",
      "{\"id\": \"7045118996\", \"type\": \"PushEvent\", \"actor\": {\"id\": 86162, \"login\": \"ermaker\", \"display_login\": \"ermaker\", \"gravatar_id\": \"\", \"url\": \"https://api.github.com/users/ermaker\", \"avatar_url\": \"https://avatars.githubusercontent.com/u/86162?\"}, \"repo\": {\"id\": 56754707, \"name\": \"ermaker/dotfiles\", \"url\": \"https://api.github.com/repos/ermaker/dotfiles\"}, \"payload\": {\"push_id\": 2226161649, \"size\": 5, \"distinct_size\": 5, \"ref\": \"refs/heads/master\", \"head\": \"934c24a6103974d2ef1cdfff368870d58bea224e\", \"before\": \"47015e70741f558c28825a56eb2a3b7eeeedbebd\", \"commits\": [{\"sha\": \"29f4fbc088e38b11a5d979bc5e223fbf640fe218\", \"author\": {\"name\": \"Minwoo Lee\", \"email\": \"926a4704d66273b5ad05111f8aa2eb4b4f6f4088@gmail.com\"}, \"message\": \"Add git configuration\", \"distinct\": true, \"url\": \"https://api.github.com/repos/ermaker/dotfiles/commits/29f4fbc088e38b11a5d979bc5e223fbf640fe218\"}, {\"sha\": \"1a8564900afc50bb348ac849581053922fbab375\", \"author\": {\"name\": \"Minwoo Lee\", \"email\": \"926a4704d66273b5ad05111f8aa2eb4b4f6f4088@gmail.com\"}, \"message\": \"Add zsh setting\", \"distinct\": true, \"url\": \"https://api.github.com/repos/ermaker/dotfiles/commits/1a8564900afc50bb348ac849581053922fbab375\"}, {\"sha\": \"a26970f1c5c4db9d196b93e9d1d4437fc4a91d79\", \"author\": {\"name\": \"Minwoo Lee\", \"email\": \"926a4704d66273b5ad05111f8aa2eb4b4f6f4088@gmail.com\"}, \"message\": \"Add rbenv, ruby-build, and ruby 2.5.0\", \"distinct\": true, \"url\": \"https://api.github.com/repos/ermaker/dotfiles/commits/a26970f1c5c4db9d196b93e9d1d4437fc4a91d79\"}, {\"sha\": \"fa4c37db4646bb032dba67a979095ada755097c4\", \"author\": {\"name\": \"Minwoo Lee\", \"email\": \"926a4704d66273b5ad05111f8aa2eb4b4f6f4088@gmail.com\"}, \"message\": \"Fix ruby settings\", \"distinct\": true, \"url\": \"https://api.github.com/repos/ermaker/dotfiles/commits/fa4c37db4646bb032dba67a979095ada755097c4\"}, {\"sha\": \"934c24a6103974d2ef1cdfff368870d58bea224e\", \"author\": {\"name\": \"Minwoo Lee\", \"email\": \"926a4704d66273b5ad05111f8aa2eb4b4f6f4088@gmail.com\"}, \"message\": \"Add vim setting\", \"distinct\": true, \"url\": \"https://api.github.com/repos/ermaker/dotfiles/commits/934c24a6103974d2ef1cdfff368870d58bea224e\"}]}, \"public\": true, \"created_at\": \"2018-01-01T15:00:05Z\"}\n",
      "{\"id\": \"7045118998\", \"type\": \"PushEvent\", \"actor\": {\"id\": 7507446, \"login\": \"minhliem86\", \"display_login\": \"minhliem86\", \"gravatar_id\": \"\", \"url\": \"https://api.github.com/users/minhliem86\", \"avatar_url\": \"https://avatars.githubusercontent.com/u/7507446?\"}, \"repo\": {\"id\": 114873801, \"name\": \"minhliem86/tigerd\", \"url\": \"https://api.github.com/repos/minhliem86/tigerd\"}, \"payload\": {\"push_id\": 2226161651, \"size\": 1, \"distinct_size\": 1, \"ref\": \"refs/heads/master\", \"head\": \"dd006b1d5c12f2a42a3f169570a5e30978661d87\", \"before\": \"c0414e73c79e0f37158f20f456170914d0639bbb\", \"commits\": [{\"sha\": \"dd006b1d5c12f2a42a3f169570a5e30978661d87\", \"author\": {\"name\": \"Liem Phan\", \"email\": \"463b8883ed396168fd3bb0f75fc6fc2165a84093@gmail.com\"}, \"message\": \"update Product\", \"distinct\": true, \"url\": \"https://api.github.com/repos/minhliem86/tigerd/commits/dd006b1d5c12f2a42a3f169570a5e30978661d87\"}]}, \"public\": true, \"created_at\": \"2018-01-01T15:00:05Z\"}\n",
      "{\"id\": \"7045118999\", \"type\": \"PushEvent\", \"actor\": {\"id\": 29452781, \"login\": \"ntbpm\", \"display_login\": \"ntbpm\", \"gravatar_id\": \"\", \"url\": \"https://api.github.com/users/ntbpm\", \"avatar_url\": \"https://avatars.githubusercontent.com/u/29452781?\"}, \"repo\": {\"id\": 94426206, \"name\": \"ntbpm/testv\", \"url\": \"https://api.github.com/repos/ntbpm/testv\"}, \"payload\": {\"push_id\": 2226161652, \"size\": 1, \"distinct_size\": 1, \"ref\": \"refs/heads/master\", \"head\": \"b6e00ce8c7cbc01563ca93f3a854814a9fa835b9\", \"before\": \"75e9a00b6c56cc4cb885f9d4a96b899176076413\", \"commits\": [{\"sha\": \"b6e00ce8c7cbc01563ca93f3a854814a9fa835b9\", \"author\": {\"name\": \"ntbpm\", \"email\": \"84cbe9dabffe2f3d99785547480fd6275775b3a6@163.com\"}, \"message\": \"123\", \"distinct\": true, \"url\": \"https://api.github.com/repos/ntbpm/testv/commits/b6e00ce8c7cbc01563ca93f3a854814a9fa835b9\"}]}, \"public\": true, \"created_at\": \"2018-01-01T15:00:05Z\"}\n",
      "{\"id\": \"7045119001\", \"type\": \"PushEvent\", \"actor\": {\"id\": 2067864, \"login\": \"Huevos\", \"display_login\": \"Huevos\", \"gravatar_id\": \"\", \"url\": \"https://api.github.com/users/Huevos\", \"avatar_url\": \"https://avatars.githubusercontent.com/u/2067864?\"}, \"repo\": {\"id\": 48005285, \"name\": \"Huevos/enigma2\", \"url\": \"https://api.github.com/repos/Huevos/enigma2\"}, \"payload\": {\"push_id\": 2226161654, \"size\": 1, \"distinct_size\": 1, \"ref\": \"refs/heads/Dev\", \"head\": \"5ae4ec655e751650f3e9093369f5bb0a1242b128\", \"before\": \"8c6918138642c205d87d71ab4ba65ceab246a4b9\", \"commits\": [{\"sha\": \"5ae4ec655e751650f3e9093369f5bb0a1242b128\", \"author\": {\"name\": \"Huevos\", \"email\": \"f630a4d89cf645cd4ebc5f06ee0aab5914c09668@moralet.com\"}, \"message\": \"[satconfig.py] whitespace\", \"distinct\": true, \"url\": \"https://api.github.com/repos/Huevos/enigma2/commits/5ae4ec655e751650f3e9093369f5bb0a1242b128\"}]}, \"public\": true, \"created_at\": \"2018-01-01T15:00:05Z\"}\n",
      "{\"id\": \"7045118986\", \"type\": \"CreateEvent\", \"actor\": {\"id\": 24964592, \"login\": \"argo-testing\", \"display_login\": \"argo-testing\", \"gravatar_id\": \"\", \"url\": \"https://api.github.com/users/argo-testing\", \"avatar_url\": \"https://avatars.githubusercontent.com/u/24964592?\"}, \"repo\": {\"id\": 78462164, \"name\": \"argo-testing/prod-autobuild-prober\", \"url\": \"https://api.github.com/repos/argo-testing/prod-autobuild-prober\"}, \"payload\": {\"ref\": \"release-1514818804-jl\", \"ref_type\": \"tag\", \"master_branch\": \"master\", \"description\": null, \"pusher_type\": \"user\"}, \"public\": true, \"created_at\": \"2018-01-01T15:00:06Z\"}\n",
      "{\"id\": \"7045118990\", \"type\": \"PushEvent\", \"actor\": {\"id\": 31964343, \"login\": \"HemingNM\", \"display_login\": \"HemingNM\", \"gravatar_id\": \"\", \"url\": \"https://api.github.com/users/HemingNM\", \"avatar_url\": \"https://avatars.githubusercontent.com/u/31964343?\"}, \"repo\": {\"id\": 104896526, \"name\": \"HemingNM/ENMwizard\", \"url\": \"https://api.github.com/repos/HemingNM/ENMwizard\"}, \"payload\": {\"push_id\": 2226161646, \"size\": 1, \"distinct_size\": 1, \"ref\": \"refs/heads/master\", \"head\": \"59211f1388b39e5bd7c708f73a3ffb70b3bede9f\", \"before\": \"7643ff835e2efb69497e7ee9943c2cbe889010b0\", \"commits\": [{\"sha\": \"59211f1388b39e5bd7c708f73a3ffb70b3bede9f\", \"author\": {\"name\": \"HemingNM\", \"email\": \"290c4684b0d658d0843c97ef4c987cc0c39cdc9f@yahoo.com.br\"}, \"message\": \"updated f.thr\", \"distinct\": true, \"url\": \"https://api.github.com/repos/HemingNM/ENMwizard/commits/59211f1388b39e5bd7c708f73a3ffb70b3bede9f\"}]}, \"public\": true, \"created_at\": \"2018-01-01T15:00:06Z\"}\n",
      "{\"id\": \"7045119003\", \"type\": \"PushEvent\", \"actor\": {\"id\": 282526, \"login\": \"deitch\", \"display_login\": \"deitch\", \"gravatar_id\": \"\", \"url\": \"https://api.github.com/users/deitch\", \"avatar_url\": \"https://avatars.githubusercontent.com/u/282526?\"}, \"repo\": {\"id\": 115608451, \"name\": \"deitch/typha\", \"url\": \"https://api.github.com/repos/deitch/typha\"}, \"payload\": {\"push_id\": 2226161656, \"size\": 1, \"distinct_size\": 1, \"ref\": \"refs/heads/arm64-build\", \"head\": \"d77216022b2a2c624802496378f9401fa434935a\", \"before\": \"b72e27d738c18986969d8a27a62ba29b5de1c938\", \"commits\": [{\"sha\": \"d77216022b2a2c624802496378f9401fa434935a\", \"author\": {\"name\": \"Avi Deitcher\", \"email\": \"8f920f22884d6fea9df883843c4a8095a2e5ac6f@deitcher.net\"}, \"message\": \"multi-architecture build in Makefile\", \"distinct\": true, \"url\": \"https://api.github.com/repos/deitch/typha/commits/d77216022b2a2c624802496378f9401fa434935a\"}]}, \"public\": true, \"created_at\": \"2018-01-01T15:00:05Z\"}\n",
      "{\"id\": \"7045119006\", \"type\": \"WatchEvent\", \"actor\": {\"id\": 33287483, \"login\": \"ViPPi98\", \"display_login\": \"ViPPi98\", \"gravatar_id\": \"\", \"url\": \"https://api.github.com/users/ViPPi98\", \"avatar_url\": \"https://avatars.githubusercontent.com/u/33287483?\"}, \"repo\": {\"id\": 58146915, \"name\": \"sylveon/SearchWithMyBrowser\", \"url\": \"https://api.github.com/repos/sylveon/SearchWithMyBrowser\"}, \"payload\": {\"action\": \"started\"}, \"public\": true, \"created_at\": \"2018-01-01T15:00:05Z\"}\n",
      "{\"id\": \"7045119007\", \"type\": \"CreateEvent\", \"actor\": {\"id\": 35003357, \"login\": \"rezaeifardz\", \"display_login\": \"rezaeifardz\", \"gravatar_id\": \"\", \"url\": \"https://api.github.com/users/rezaeifardz\", \"avatar_url\": \"https://avatars.githubusercontent.com/u/35003357?\"}, \"repo\": {\"id\": 115926130, \"name\": \"rezaeifardz/rezabc\", \"url\": \"https://api.github.com/repos/rezaeifardz/rezabc\"}, \"payload\": {\"ref\": null, \"ref_type\": \"repository\", \"master_branch\": \"master\", \"description\": \"my middle name\", \"pusher_type\": \"user\"}, \"public\": true, \"created_at\": \"2018-01-01T15:00:06Z\"}\n",
      "{\"id\": \"7045119008\", \"type\": \"PushEvent\", \"actor\": {\"id\": 2997229, \"login\": \"apievangelist\", \"display_login\": \"apievangelist\", \"gravatar_id\": \"\", \"url\": \"https://api.github.com/users/apievangelist\", \"avatar_url\": \"https://avatars.githubusercontent.com/u/2997229?\"}, \"repo\": {\"id\": 9590594, \"name\": \"api-evangelist/internet-of-things\", \"url\": \"https://api.github.com/repos/api-evangelist/internet-of-things\"}, \"payload\": {\"push_id\": 2226161657, \"size\": 1, \"distinct_size\": 1, \"ref\": \"refs/heads/gh-pages\", \"head\": \"8cab342c7d21cae33bf01155c9381928897beab1\", \"before\": \"29c6f65f7c3bad3ff3d16ca7b97a418298fbd3d8\", \"commits\": [{\"sha\": \"8cab342c7d21cae33bf01155c9381928897beab1\", \"author\": {\"name\": \"API Evangelist\", \"email\": \"59bd0a3ff43b32849b319e645d4798d8a5d1e889@apievangelist.com\"}, \"message\": \"Updating _posts/2017-07-11-locking-down-drones-and-iot-devices-by-manufacturers.markdown via Laneworks CMS Publish\", \"distinct\": true, \"url\": \"https://api.github.com/repos/api-evangelist/internet-of-things/commits/8cab342c7d21cae33bf01155c9381928897beab1\"}]}, \"public\": true, \"created_at\": \"2018-01-01T15:00:06Z\", \"org\": {\"id\": 3026872, \"login\": \"api-evangelist\", \"gravatar_id\": \"\", \"url\": \"https://api.github.com/orgs/api-evangelist\", \"avatar_url\": \"https://avatars.githubusercontent.com/u/3026872?\"}}\n",
      "{\"id\": \"7045119012\", \"type\": \"PushEvent\", \"actor\": {\"id\": 9958703, \"login\": \"memk\", \"display_login\": \"memk\", \"gravatar_id\": \"\", \"url\": \"https://api.github.com/users/memk\", \"avatar_url\": \"https://avatars.githubusercontent.com/u/9958703?\"}, \"repo\": {\"id\": 23534870, \"name\": \"parkr/status\", \"url\": \"https://api.github.com/repos/parkr/status\"}, \"payload\": {\"push_id\": 2226161660, \"size\": 1, \"distinct_size\": 1, \"ref\": \"refs/heads/master\", \"head\": \"d23d7e2a7581d45fcbbc60a44268431b4535d319\", \"before\": \"5b7264453d9a334e7181b351e8901a9fa15734b2\", \"commits\": [{\"sha\": \"d23d7e2a7581d45fcbbc60a44268431b4535d319\", \"author\": {\"name\": \"memk\", \"email\": \"53af3d54791e6e5733679b59fda2caa8bd3dd19d@hushmail.com\"}, \"message\": \"[checkup] store updates/index.json [ci skip]\", \"distinct\": true, \"url\": \"https://api.github.com/repos/parkr/status/commits/d23d7e2a7581d45fcbbc60a44268431b4535d319\"}]}, \"public\": true, \"created_at\": \"2018-01-01T15:00:06Z\"}\n",
      "{\"id\": \"7045119020\", \"type\": \"PushEvent\", \"actor\": {\"id\": 34065952, \"login\": \"jettymadhankumar\", \"display_login\": \"jettymadhankumar\", \"gravatar_id\": \"\", \"url\": \"https://api.github.com/users/jettymadhankumar\", \"avatar_url\": \"https://avatars.githubusercontent.com/u/34065952?\"}, \"repo\": {\"id\": 112346346, \"name\": \"jettymadhankumar/CMAD\", \"url\": \"https://api.github.com/repos/jettymadhankumar/CMAD\"}, \"payload\": {\"push_id\": 2226161663, \"size\": 1, \"distinct_size\": 1, \"ref\": \"refs/heads/master\", \"head\": \"780895800035b5791695cfdf0604c6e8e3255e99\", \"before\": \"edb07d51b2dd883041069032e2636d4af8d0b30e\", \"commits\": [{\"sha\": \"780895800035b5791695cfdf0604c6e8e3255e99\", \"author\": {\"name\": \"jettymadhankumar\", \"email\": \"96e275ba9df287336a82646f30531cc87736581a@users.noreply.github.com\"}, \"message\": \"Add files via upload\", \"distinct\": true, \"url\": \"https://api.github.com/repos/jettymadhankumar/CMAD/commits/780895800035b5791695cfdf0604c6e8e3255e99\"}]}, \"public\": true, \"created_at\": \"2018-01-01T15:00:06Z\"}\n",
      "{\"id\": \"7045119021\", \"type\": \"IssuesEvent\", \"actor\": {\"id\": 13733487, \"login\": \"heckflosse\", \"display_login\": \"heckflosse\", \"gravatar_id\": \"\", \"url\": \"https://api.github.com/users/heckflosse\", \"avatar_url\": \"https://avatars.githubusercontent.com/u/13733487?\"}, \"repo\": {\"id\": 40539005, \"name\": \"Beep6581/RawTherapee\", \"url\": \"https://api.github.com/repos/Beep6581/RawTherapee\"}, \"payload\": {\"action\": \"closed\", \"issue\": {\"url\": \"https://api.github.com/repos/Beep6581/RawTherapee/issues/4270\", \"repository_url\": \"https://api.github.com/repos/Beep6581/RawTherapee\", \"labels_url\": \"https://api.github.com/repos/Beep6581/RawTherapee/issues/4270/labels{/name}\", \"comments_url\": \"https://api.github.com/repos/Beep6581/RawTherapee/issues/4270/comments\", \"events_url\": \"https://api.github.com/repos/Beep6581/RawTherapee/issues/4270/events\", \"html_url\": \"https://github.com/Beep6581/RawTherapee/issues/4270\", \"id\": 285308101, \"number\": 4270, \"title\": \"Left colour bar for CC and CL curve in lab tools are inverted\", \"user\": {\"login\": \"heckflosse\", \"id\": 13733487, \"avatar_url\": \"https://avatars3.githubusercontent.com/u/13733487?v=4\", \"gravatar_id\": \"\", \"url\": \"https://api.github.com/users/heckflosse\", \"html_url\": \"https://github.com/heckflosse\", \"followers_url\": \"https://api.github.com/users/heckflosse/followers\", \"following_url\": \"https://api.github.com/users/heckflosse/following{/other_user}\", \"gists_url\": \"https://api.github.com/users/heckflosse/gists{/gist_id}\", \"starred_url\": \"https://api.github.com/users/heckflosse/starred{/owner}{/repo}\", \"subscriptions_url\": \"https://api.github.com/users/heckflosse/subscriptions\", \"organizations_url\": \"https://api.github.com/users/heckflosse/orgs\", \"repos_url\": \"https://api.github.com/users/heckflosse/repos\", \"events_url\": \"https://api.github.com/users/heckflosse/events{/privacy}\", \"received_events_url\": \"https://api.github.com/users/heckflosse/received_events\", \"type\": \"User\", \"site_admin\": false}, \"labels\": [{\"id\": 246558290, \"url\": \"https://api.github.com/repos/Beep6581/RawTherapee/labels/bug\", \"name\": \"bug\", \"color\": \"fc2929\", \"default\": true}, {\"id\": 246582534, \"url\": \"https://api.github.com/repos/Beep6581/RawTherapee/labels/Component-UI\", \"name\": \"Component-UI\", \"color\": \"ededed\", \"default\": false}], \"state\": \"closed\", \"locked\": false, \"assignee\": null, \"assignees\": [], \"milestone\": null, \"comments\": 2, \"created_at\": \"2018-01-01T13:44:57Z\", \"updated_at\": \"2018-01-01T15:00:06Z\", \"closed_at\": \"2018-01-01T15:00:06Z\", \"author_association\": \"COLLABORATOR\", \"body\": \"From [here](https://discuss.pixls.us/t/cc-and-cl-curve-in-rt/6280)\\r\\n\\r\\nSuggested fix:\\r\\n\\r\\n```patch\\r\\ndiff --git a/rtgui/labcurve.cc b/rtgui/labcurve.cc\\r\\nindex 8b2b2a21..6cbf1182 100644\\r\\n--- a/rtgui/labcurve.cc\\r\\n+++ b/rtgui/labcurve.cc\\r\\n@@ -143,7 +143,7 @@ LCurve::LCurve () : FoldableToolPanel(this, \\\"labcurves\\\", M(\\\"TP_LABCURVE_LABEL\\\"),\\r\\n     );\\r\\n\\r\\n     ccshape->setBottomBarColorProvider(this, 2);\\r\\n-    ccshape->setLeftBarColorProvider(this, 2);\\r\\n+    ccshape->setLeftBarColorProvider(this, 7);\\r\\n     ccshape->setRangeDefaultMilestones(0.05, 0.2, 0.58);\\r\\n\\r\\n     lcshape = static_cast<DiagonalCurveEditor*>(curveEditorG->addCurve(CT_Diagonal, M(\\\"TP_LABCURVE_CURVEEDITOR_LC\\\")));\\r\\n@@ -162,7 +162,7 @@ LCurve::LCurve () : FoldableToolPanel(this, \\\"labcurves\\\", M(\\\"TP_LABCURVE_LABEL\\\"),\\r\\n     clshape->setTooltip(M(\\\"TP_LABCURVE_CURVEEDITOR_CL_TOOLTIP\\\"));\\r\\n     clshape->setEditID(EUID_Lab_CLCurve, BT_SINGLEPLANE_FLOAT);\\r\\n\\r\\n-    clshape->setLeftBarColorProvider(this, 2);\\r\\n+    clshape->setLeftBarColorProvider(this, 7);\\r\\n     clshape->setRangeDefaultMilestones(0.25, 0.5, 0.75);\\r\\n     milestones.push_back( GradientMilestone(0., 0., 0., 0.) );\\r\\n     milestones.push_back( GradientMilestone(1., 1., 1., 1.) );\\r\\n@@ -627,6 +627,12 @@ void LCurve::colorForValue (double valX, double valY, enum ColorCaller::ElemType\\r\\n         }\\r\\n\\r\\n         Color::hsv2rgb01(h, 0.5f, 0.5f, R, G, B);\\r\\n+    } else if (callerId == 7) {  // cc and cl - left bar\\r\\n+\\r\\n+        float value = (1.f - 0.7f) * float(valX) + 0.7f;\\r\\n+        // whole hue range\\r\\n+        // Y axis / from 0.15 up to 0.75 (arbitrary values; was 0.45 before)\\r\\n+        Color::hsv2rgb01(float(valY), 1.f - float(valX), value, R, G, B);\\r\\n     }\\r\\n\\r\\n     caller->ccRed = double(R);\\r\\n\\r\\n```\"}}, \"public\": true, \"created_at\": \"2018-01-01T15:00:06Z\"}\n",
      "{\"id\": \"7045119022\", \"type\": \"PushEvent\", \"actor\": {\"id\": 113001, \"login\": \"aaronpk\", \"display_login\": \"aaronpk\", \"gravatar_id\": \"\", \"url\": \"https://api.github.com/users/aaronpk\", \"avatar_url\": \"https://avatars.githubusercontent.com/u/113001?\"}, \"repo\": {\"id\": 112786842, \"name\": \"indieweb/indieweb-chat-archive\", \"url\": \"https://api.github.com/repos/indieweb/indieweb-chat-archive\"}, \"payload\": {\"push_id\": 2226161664, \"size\": 1, \"distinct_size\": 1, \"ref\": \"refs/heads/master\", \"head\": \"7c328811401cab5ac52c31085139da7246e9f6f6\", \"before\": \"f21702c140cae4dcaa13a68e87bd9467a5e0cca8\", \"commits\": [{\"sha\": \"7c328811401cab5ac52c31085139da7246e9f6f6\", \"author\": {\"name\": \"web\", \"email\": \"ca84d1343b96baa8137c943ed1860e522cacb238@indieweb.org\"}, \"message\": \"logs as of Mon Jan  1 15:00:01 UTC 2018\", \"distinct\": true, \"url\": \"https://api.github.com/repos/indieweb/indieweb-chat-archive/commits/7c328811401cab5ac52c31085139da7246e9f6f6\"}]}, \"public\": true, \"created_at\": \"2018-01-01T15:00:06Z\", \"org\": {\"id\": 1911753, \"login\": \"indieweb\", \"gravatar_id\": \"\", \"url\": \"https://api.github.com/orgs/indieweb\", \"avatar_url\": \"https://avatars.githubusercontent.com/u/1911753?\"}}\n",
      "{\"id\": \"7045119024\", \"type\": \"PushEvent\", \"actor\": {\"id\": 2997229, \"login\": \"apievangelist\", \"display_login\": \"apievangelist\", \"gravatar_id\": \"\", \"url\": \"https://api.github.com/users/apievangelist\", \"avatar_url\": \"https://avatars.githubusercontent.com/u/2997229?\"}, \"repo\": {\"id\": 9590594, \"name\": \"api-evangelist/internet-of-things\", \"url\": \"https://api.github.com/repos/api-evangelist/internet-of-things\"}, \"payload\": {\"push_id\": 2226161665, \"size\": 1, \"distinct_size\": 1, \"ref\": \"refs/heads/gh-pages\", \"head\": \"3ee5ff2894943d90a0180fc2b677232d94f75d26\", \"before\": \"8cab342c7d21cae33bf01155c9381928897beab1\", \"commits\": [{\"sha\": \"3ee5ff2894943d90a0180fc2b677232d94f75d26\", \"author\": {\"name\": \"API Evangelist\", \"email\": \"59bd0a3ff43b32849b319e645d4798d8a5d1e889@apievangelist.com\"}, \"message\": \"Updating _posts/2017-05-22-i-have-to-comply-with-dji-update-or-my-drone-will-be-crippled.markdown via Laneworks CMS Publish\", \"distinct\": true, \"url\": \"https://api.github.com/repos/api-evangelist/internet-of-things/commits/3ee5ff2894943d90a0180fc2b677232d94f75d26\"}]}, \"public\": true, \"created_at\": \"2018-01-01T15:00:06Z\", \"org\": {\"id\": 3026872, \"login\": \"api-evangelist\", \"gravatar_id\": \"\", \"url\": \"https://api.github.com/orgs/api-evangelist\", \"avatar_url\": \"https://avatars.githubusercontent.com/u/3026872?\"}}\n",
      "{\"id\": \"7045119025\", \"type\": \"PushEvent\", \"actor\": {\"id\": 366851, \"login\": \"yshui\", \"display_login\": \"yshui\", \"gravatar_id\": \"\", \"url\": \"https://api.github.com/users/yshui\", \"avatar_url\": \"https://avatars.githubusercontent.com/u/366851?\"}, \"repo\": {\"id\": 60952529, \"name\": \"yshui/deai\", \"url\": \"https://api.github.com/repos/yshui/deai\"}, \"payload\": {\"push_id\": 2226161666, \"size\": 1, \"distinct_size\": 1, \"ref\": \"refs/heads/master\", \"head\": \"0f961d6d399d34cf332db2abb4b3b23c94384981\", \"before\": \"77501afdb352104760d27968eb25930239037976\", \"commits\": [{\"sha\": \"0f961d6d399d34cf332db2abb4b3b23c94384981\", \"author\": {\"name\": \"Yuxuan Shui\", \"email\": \"7f7e1535bcd10fa942d56a3436533af20f33203f@gmail.com\"}, \"message\": \"Add missing file\", \"distinct\": true, \"url\": \"https://api.github.com/repos/yshui/deai/commits/0f961d6d399d34cf332db2abb4b3b23c94384981\"}]}, \"public\": true, \"created_at\": \"2018-01-01T15:00:06Z\"}\n",
      "{\"id\": \"7045119032\", \"type\": \"PushEvent\", \"actor\": {\"id\": 33563064, \"login\": \"SiamSami\", \"display_login\": \"SiamSami\", \"gravatar_id\": \"\", \"url\": \"https://api.github.com/users/SiamSami\", \"avatar_url\": \"https://avatars.githubusercontent.com/u/33563064?\"}, \"repo\": {\"id\": 115394826, \"name\": \"SiamSami/Deepin-Note\", \"url\": \"https://api.github.com/repos/SiamSami/Deepin-Note\"}, \"payload\": {\"push_id\": 2226161670, \"size\": 1, \"distinct_size\": 1, \"ref\": \"refs/heads/master\", \"head\": \"73a8db5ac92591760306c66a292080cfa8eb2dad\", \"before\": \"c71c7b6792847713a880a6c5e1d7dbb02278dd4e\", \"commits\": [{\"sha\": \"73a8db5ac92591760306c66a292080cfa8eb2dad\", \"author\": {\"name\": \"SiamSami\", \"email\": \"b120562ab46f1953233056d38290ca17f7c645ad@users.noreply.github.com\"}, \"message\": \"Update main.cpp\", \"distinct\": true, \"url\": \"https://api.github.com/repos/SiamSami/Deepin-Note/commits/73a8db5ac92591760306c66a292080cfa8eb2dad\"}]}, \"public\": true, \"created_at\": \"2018-01-01T15:00:06Z\"}\n",
      "{\"id\": \"7045119015\", \"type\": \"PushEvent\", \"actor\": {\"id\": 1767865, \"login\": \"Narigo\", \"display_login\": \"Narigo\", \"gravatar_id\": \"\", \"url\": \"https://api.github.com/users/Narigo\", \"avatar_url\": \"https://avatars.githubusercontent.com/u/1767865?\"}, \"repo\": {\"id\": 108729205, \"name\": \"Narigo/reimemonster\", \"url\": \"https://api.github.com/repos/Narigo/reimemonster\"}, \"payload\": {\"push_id\": 2226161662, \"size\": 1, \"distinct_size\": 1, \"ref\": \"refs/heads/master\", \"head\": \"756f24b2dc2ce1b07279c29c708f83d9be097544\", \"before\": \"d5312170d3863f5ad0bb22e1fa9d7e4c8490810f\", \"commits\": [{\"sha\": \"756f24b2dc2ce1b07279c29c708f83d9be097544\", \"author\": {\"name\": \"Joern Bernhardt\", \"email\": \"7b85a41a628204b76aba4326273a3ccc74bd009a@campudus.com\"}, \"message\": \"Log rhymes when selecting a word\\n\\nSigned-off-by: Joern Bernhardt <jb@campudus.com>\", \"distinct\": true, \"url\": \"https://api.github.com/repos/Narigo/reimemonster/commits/756f24b2dc2ce1b07279c29c708f83d9be097544\"}]}, \"public\": true, \"created_at\": \"2018-01-01T15:00:07Z\"}\n",
      "{\"id\": \"7045119023\", \"type\": \"ReleaseEvent\", \"actor\": {\"id\": 177122, \"login\": \"Songmu\", \"display_login\": \"Songmu\", \"gravatar_id\": \"\", \"url\": \"https://api.github.com/users/Songmu\", \"avatar_url\": \"https://avatars.githubusercontent.com/u/177122?\"}, \"repo\": {\"id\": 61145909, \"name\": \"Songmu/ghg\", \"url\": \"https://api.github.com/repos/Songmu/ghg\"}, \"payload\": {\"action\": \"published\", \"release\": {\"url\": \"https://api.github.com/repos/Songmu/ghg/releases/9072869\", \"assets_url\": \"https://api.github.com/repos/Songmu/ghg/releases/9072869/assets\", \"upload_url\": \"https://uploads.github.com/repos/Songmu/ghg/releases/9072869/assets{?name,label}\", \"html_url\": \"https://github.com/Songmu/ghg/releases/tag/v0.1.2\", \"id\": 9072869, \"tag_name\": \"v0.1.2\", \"target_commitish\": \"master\", \"name\": null, \"draft\": false, \"author\": {\"login\": \"Songmu\", \"id\": 177122, \"avatar_url\": \"https://avatars2.githubusercontent.com/u/177122?v=4\", \"gravatar_id\": \"\", \"url\": \"https://api.github.com/users/Songmu\", \"html_url\": \"https://github.com/Songmu\", \"followers_url\": \"https://api.github.com/users/Songmu/followers\", \"following_url\": \"https://api.github.com/users/Songmu/following{/other_user}\", \"gists_url\": \"https://api.github.com/users/Songmu/gists{/gist_id}\", \"starred_url\": \"https://api.github.com/users/Songmu/starred{/owner}{/repo}\", \"subscriptions_url\": \"https://api.github.com/users/Songmu/subscriptions\", \"organizations_url\": \"https://api.github.com/users/Songmu/orgs\", \"repos_url\": \"https://api.github.com/users/Songmu/repos\", \"events_url\": \"https://api.github.com/users/Songmu/events{/privacy}\", \"received_events_url\": \"https://api.github.com/users/Songmu/received_events\", \"type\": \"User\", \"site_admin\": false}, \"prerelease\": false, \"created_at\": \"2018-01-01T14:59:04Z\", \"published_at\": \"2018-01-01T15:00:06Z\", \"assets\": [], \"tarball_url\": \"https://api.github.com/repos/Songmu/ghg/tarball/v0.1.2\", \"zipball_url\": \"https://api.github.com/repos/Songmu/ghg/zipball/v0.1.2\", \"body\": \"\"}}, \"public\": true, \"created_at\": \"2018-01-01T15:00:07Z\"}\n",
      "{\"id\": \"7045119027\", \"type\": \"PushEvent\", \"actor\": {\"id\": 13733487, \"login\": \"heckflosse\", \"display_login\": \"heckflosse\", \"gravatar_id\": \"\", \"url\": \"https://api.github.com/users/heckflosse\", \"avatar_url\": \"https://avatars.githubusercontent.com/u/13733487?\"}, \"repo\": {\"id\": 40539005, \"name\": \"Beep6581/RawTherapee\", \"url\": \"https://api.github.com/repos/Beep6581/RawTherapee\"}, \"payload\": {\"push_id\": 2226161668, \"size\": 1, \"distinct_size\": 1, \"ref\": \"refs/heads/dev\", \"head\": \"835204430478cf9102b8f09be0b251f3d1b4d2dd\", \"before\": \"b73970e94fe7fa55ad91370e24cb3d041e159ae6\", \"commits\": [{\"sha\": \"835204430478cf9102b8f09be0b251f3d1b4d2dd\", \"author\": {\"name\": \"heckflosse\", \"email\": \"75379bacb0de07d0620d0571cff2d74cbb87d9f6@gmx.de\"}, \"message\": \"Left colour bar for CC and CL curve in lab tools are inverted, fixes #4270\", \"distinct\": true, \"url\": \"https://api.github.com/repos/Beep6581/RawTherapee/commits/835204430478cf9102b8f09be0b251f3d1b4d2dd\"}]}, \"public\": true, \"created_at\": \"2018-01-01T15:00:07Z\"}\n",
      "{\"id\": \"7045119036\", \"type\": \"CreateEvent\", \"actor\": {\"id\": 4039449, \"login\": \"samuelcolvin\", \"display_login\": \"samuelcolvin\", \"gravatar_id\": \"\", \"url\": \"https://api.github.com/users/samuelcolvin\", \"avatar_url\": \"https://avatars.githubusercontent.com/u/4039449?\"}, \"repo\": {\"id\": 68917117, \"name\": \"aio-libs/aiohttp-devtools\", \"url\": \"https://api.github.com/repos/aio-libs/aiohttp-devtools\"}, \"payload\": {\"ref\": \"pyup-scheduled-update-01-01-2018\", \"ref_type\": \"branch\", \"master_branch\": \"master\", \"description\": \"dev tools for aiohttp\", \"pusher_type\": \"user\"}, \"public\": true, \"created_at\": \"2018-01-01T15:00:07Z\", \"org\": {\"id\": 7049303, \"login\": \"aio-libs\", \"gravatar_id\": \"\", \"url\": \"https://api.github.com/orgs/aio-libs\", \"avatar_url\": \"https://avatars.githubusercontent.com/u/7049303?\"}}\n",
      "{\"id\": \"7045119037\", \"type\": \"CreateEvent\", \"actor\": {\"id\": 35003357, \"login\": \"rezaeifardz\", \"display_login\": \"rezaeifardz\", \"gravatar_id\": \"\", \"url\": \"https://api.github.com/users/rezaeifardz\", \"avatar_url\": \"https://avatars.githubusercontent.com/u/35003357?\"}, \"repo\": {\"id\": 115926130, \"name\": \"rezaeifardz/rezabc\", \"url\": \"https://api.github.com/repos/rezaeifardz/rezabc\"}, \"payload\": {\"ref\": \"master\", \"ref_type\": \"branch\", \"master_branch\": \"master\", \"description\": \"my middle name\", \"pusher_type\": \"user\"}, \"public\": true, \"created_at\": \"2018-01-01T15:00:07Z\"}\n",
      "{\"id\": \"7045119039\", \"type\": \"PushEvent\", \"actor\": {\"id\": 5261166, \"login\": \"ZMOM1031\", \"display_login\": \"ZMOM1031\", \"gravatar_id\": \"\", \"url\": \"https://api.github.com/users/ZMOM1031\", \"avatar_url\": \"https://avatars.githubusercontent.com/u/5261166?\"}, \"repo\": {\"id\": 83139776, \"name\": \"ZMOM1031/slog\", \"url\": \"https://api.github.com/repos/ZMOM1031/slog\"}, \"payload\": {\"push_id\": 2226161673, \"size\": 1, \"distinct_size\": 1, \"ref\": \"refs/heads/master\", \"head\": \"c7ae29c19be47e05c2bb55769433237459d460f2\", \"before\": \"b799c40a83a90021504a810e5e05ac66d78653fc\", \"commits\": [{\"sha\": \"c7ae29c19be47e05c2bb55769433237459d460f2\", \"author\": {\"name\": \"ZMOM1031\", \"email\": \"11a36e3ef1c454acebf7f659884805b85debdb2d@hotmail.com\"}, \"message\": \"Updated: 2018-01-01 10:00\", \"distinct\": true, \"url\": \"https://api.github.com/repos/ZMOM1031/slog/commits/c7ae29c19be47e05c2bb55769433237459d460f2\"}]}, \"public\": true, \"created_at\": \"2018-01-01T15:00:07Z\"}\n",
      "{\"id\": \"7045119041\", \"type\": \"PushEvent\", \"actor\": {\"id\": 1484037, \"login\": \"jamesdotcuff\", \"display_login\": \"jamesdotcuff\", \"gravatar_id\": \"\", \"url\": \"https://api.github.com/users/jamesdotcuff\", \"avatar_url\": \"https://avatars.githubusercontent.com/u/1484037?\"}, \"repo\": {\"id\": 115360218, \"name\": \"jamesdotcuff/Weather-Station-WH31E\", \"url\": \"https://api.github.com/repos/jamesdotcuff/Weather-Station-WH31E\"}, \"payload\": {\"push_id\": 2226161678, \"size\": 1, \"distinct_size\": 1, \"ref\": \"refs/heads/master\", \"head\": \"4a5681ac30771adac4b3ae75784f7022a27e1dfa\", \"before\": \"143fd0378c7f5b2fc6624a4b689d32b3201744dd\", \"commits\": [{\"sha\": \"4a5681ac30771adac4b3ae75784f7022a27e1dfa\", \"author\": {\"name\": \"James Cuff\", \"email\": \"7d037341aec3b14575c39b1a4bfa58cdae728827@jcuff.net\"}, \"message\": \"Changed test data\", \"distinct\": true, \"url\": \"https://api.github.com/repos/jamesdotcuff/Weather-Station-WH31E/commits/4a5681ac30771adac4b3ae75784f7022a27e1dfa\"}]}, \"public\": true, \"created_at\": \"2018-01-01T15:00:07Z\"}\n",
      "{\"id\": \"7045119044\", \"type\": \"PushEvent\", \"actor\": {\"id\": 23026379, \"login\": \"jyc99\", \"display_login\": \"jyc99\", \"gravatar_id\": \"\", \"url\": \"https://api.github.com/users/jyc99\", \"avatar_url\": \"https://avatars.githubusercontent.com/u/23026379?\"}, \"repo\": {\"id\": 97558960, \"name\": \"jyc99/store\", \"url\": \"https://api.github.com/repos/jyc99/store\"}, \"payload\": {\"push_id\": 2226161679, \"size\": 1, \"distinct_size\": 1, \"ref\": \"refs/heads/master\", \"head\": \"0f3203845d0fa0d857e65f35e40bac300f4024cc\", \"before\": \"4c3ee4f16d7cea2b84ff5995ef63d42198bfae06\", \"commits\": [{\"sha\": \"0f3203845d0fa0d857e65f35e40bac300f4024cc\", \"author\": {\"name\": \"jyc99\", \"email\": \"ea5c35890633d47797657b32063b7aa2ec430fc4@qq.com\"}, \"message\": \"123\", \"distinct\": true, \"url\": \"https://api.github.com/repos/jyc99/store/commits/0f3203845d0fa0d857e65f35e40bac300f4024cc\"}]}, \"public\": true, \"created_at\": \"2018-01-01T15:00:07Z\"}\n",
      "{\"id\": \"7045119045\", \"type\": \"WatchEvent\", \"actor\": {\"id\": 15712687, \"login\": \"natsupy\", \"display_login\": \"natsupy\", \"gravatar_id\": \"\", \"url\": \"https://api.github.com/users/natsupy\", \"avatar_url\": \"https://avatars.githubusercontent.com/u/15712687?\"}, \"repo\": {\"id\": 60730286, \"name\": \"kvark/vange-rs\", \"url\": \"https://api.github.com/repos/kvark/vange-rs\"}, \"payload\": {\"action\": \"started\"}, \"public\": true, \"created_at\": \"2018-01-01T15:00:07Z\"}\n",
      "{\"id\": \"7045119047\", \"type\": \"PushEvent\", \"actor\": {\"id\": 2214426, \"login\": \"dokadon\", \"display_login\": \"dokadon\", \"gravatar_id\": \"\", \"url\": \"https://api.github.com/users/dokadon\", \"avatar_url\": \"https://avatars.githubusercontent.com/u/2214426?\"}, \"repo\": {\"id\": 59261769, \"name\": \"dokadon/openstack-SlackBuild\", \"url\": \"https://api.github.com/repos/dokadon/openstack-SlackBuild\"}, \"payload\": {\"push_id\": 2226161682, \"size\": 1, \"distinct_size\": 1, \"ref\": \"refs/heads/queens\", \"head\": \"db0d876ca62a0b45833b36d32e40fb60d072682c\", \"before\": \"468a9fd868bb34ad978048758b0c24db8104171e\", \"commits\": [{\"sha\": \"db0d876ca62a0b45833b36d32e40fb60d072682c\", \"author\": {\"name\": \"Don Perry\", \"email\": \"2936eb7b2316039ae2a47190e691c8dba25dae7e@dokasystems.com\"}, \"message\": \"Updates\", \"distinct\": true, \"url\": \"https://api.github.com/repos/dokadon/openstack-SlackBuild/commits/db0d876ca62a0b45833b36d32e40fb60d072682c\"}]}, \"public\": true, \"created_at\": \"2018-01-01T15:00:07Z\"}\n",
      "{\"id\": \"7045119048\", \"type\": \"PullRequestReviewCommentEvent\", \"actor\": {\"id\": 917142, \"login\": \"radare\", \"display_login\": \"radare\", \"gravatar_id\": \"\", \"url\": \"https://api.github.com/users/radare\", \"avatar_url\": \"https://avatars.githubusercontent.com/u/917142?\"}, \"repo\": {\"id\": 4869294, \"name\": \"radare/radare2\", \"url\": \"https://api.github.com/repos/radare/radare2\"}, \"payload\": {\"action\": \"created\", \"comment\": {\"url\": \"https://api.github.com/repos/radare/radare2/pulls/comments/159157426\", \"pull_request_review_id\": 86063899, \"id\": 159157426, \"diff_hunk\": \"@@ -2097,9 +2098,18 @@ static int bin_sections(RCore *r, int mode, ut64 laddr, int va, ut64 at, const c\\n \\tif (!dup_chk_ht) {\\n \\t\\treturn false;\\n \\t}\\n-\\tif (IS_MODE_JSON (mode)) r_cons_printf (\\\"[\\\");\\n+\\t\\n+\\tif (chksum) {\\n+\\t\\tif (IS_MODE_JSON (mode) && *(chksum - sizeof(char)) == '.') {\", \"path\": \"libr/core/cbin.c\", \"position\": 15, \"original_position\": 15, \"commit_id\": \"4821f8a4a928662864b0549ca9571e9c7271e81a\", \"original_commit_id\": \"4821f8a4a928662864b0549ca9571e9c7271e81a\", \"user\": {\"login\": \"radare\", \"id\": 917142, \"avatar_url\": \"https://avatars1.githubusercontent.com/u/917142?v=4\", \"gravatar_id\": \"\", \"url\": \"https://api.github.com/users/radare\", \"html_url\": \"https://github.com/radare\", \"followers_url\": \"https://api.github.com/users/radare/followers\", \"following_url\": \"https://api.github.com/users/radare/following{/other_user}\", \"gists_url\": \"https://api.github.com/users/radare/gists{/gist_id}\", \"starred_url\": \"https://api.github.com/users/radare/starred{/owner}{/repo}\", \"subscriptions_url\": \"https://api.github.com/users/radare/subscriptions\", \"organizations_url\": \"https://api.github.com/users/radare/orgs\", \"repos_url\": \"https://api.github.com/users/radare/repos\", \"events_url\": \"https://api.github.com/users/radare/events{/privacy}\", \"received_events_url\": \"https://api.github.com/users/radare/received_events\", \"type\": \"User\", \"site_admin\": false}, \"body\": \"this chksum -1 can be an underflow oobread\", \"created_at\": \"2018-01-01T15:00:07Z\", \"updated_at\": \"2018-01-01T15:00:07Z\", \"html_url\": \"https://github.com/radare/radare2/pull/9110#discussion_r159157426\", \"pull_request_url\": \"https://api.github.com/repos/radare/radare2/pulls/9110\", \"author_association\": \"OWNER\", \"_links\": {\"self\": {\"href\": \"https://api.github.com/repos/radare/radare2/pulls/comments/159157426\"}, \"html\": {\"href\": \"https://github.com/radare/radare2/pull/9110#discussion_r159157426\"}, \"pull_request\": {\"href\": \"https://api.github.com/repos/radare/radare2/pulls/9110\"}}}, \"pull_request\": {\"url\": \"https://api.github.com/repos/radare/radare2/pulls/9110\", \"id\": 160650619, \"html_url\": \"https://github.com/radare/radare2/pull/9110\", \"diff_url\": \"https://github.com/radare/radare2/pull/9110.diff\", \"patch_url\": \"https://github.com/radare/radare2/pull/9110.patch\", \"issue_url\": \"https://api.github.com/repos/radare/radare2/issues/9110\", \"number\": 9110, \"state\": \"open\", \"locked\": false, \"title\": \"Implementation of iS. and iS.j (#9099)\", \"user\": {\"login\": \"zadlg\", \"id\": 24417450, \"avatar_url\": \"https://avatars1.githubusercontent.com/u/24417450?v=4\", \"gravatar_id\": \"\", \"url\": \"https://api.github.com/users/zadlg\", \"html_url\": \"https://github.com/zadlg\", \"followers_url\": \"https://api.github.com/users/zadlg/followers\", \"following_url\": \"https://api.github.com/users/zadlg/following{/other_user}\", \"gists_url\": \"https://api.github.com/users/zadlg/gists{/gist_id}\", \"starred_url\": \"https://api.github.com/users/zadlg/starred{/owner}{/repo}\", \"subscriptions_url\": \"https://api.github.com/users/zadlg/subscriptions\", \"organizations_url\": \"https://api.github.com/users/zadlg/orgs\", \"repos_url\": \"https://api.github.com/users/zadlg/repos\", \"events_url\": \"https://api.github.com/users/zadlg/events{/privacy}\", \"received_events_url\": \"https://api.github.com/users/zadlg/received_events\", \"type\": \"User\", \"site_admin\": false}, \"body\": \"Second implementation proposal for issue #9099.\", \"created_at\": \"2018-01-01T14:55:59Z\", \"updated_at\": \"2018-01-01T15:00:07Z\", \"closed_at\": null, \"merged_at\": null, \"merge_commit_sha\": \"9687d4b013fca95fa4287516840d893b00e58509\", \"assignee\": null, \"assignees\": [], \"requested_reviewers\": [], \"milestone\": null, \"commits_url\": \"https://api.github.com/repos/radare/radare2/pulls/9110/commits\", \"review_comments_url\": \"https://api.github.com/repos/radare/radare2/pulls/9110/comments\", \"review_comment_url\": \"https://api.github.com/repos/radare/radare2/pulls/comments{/number}\", \"comments_url\": \"https://api.github.com/repos/radare/radare2/issues/9110/comments\", \"statuses_url\": \"https://api.github.com/repos/radare/radare2/statuses/4821f8a4a928662864b0549ca9571e9c7271e81a\", \"head\": {\"label\": \"zadlg:iSdot_implementation\", \"ref\": \"iSdot_implementation\", \"sha\": \"4821f8a4a928662864b0549ca9571e9c7271e81a\", \"user\": {\"login\": \"zadlg\", \"id\": 24417450, \"avatar_url\": \"https://avatars1.githubusercontent.com/u/24417450?v=4\", \"gravatar_id\": \"\", \"url\": \"https://api.github.com/users/zadlg\", \"html_url\": \"https://github.com/zadlg\", \"followers_url\": \"https://api.github.com/users/zadlg/followers\", \"following_url\": \"https://api.github.com/users/zadlg/following{/other_user}\", \"gists_url\": \"https://api.github.com/users/zadlg/gists{/gist_id}\", \"starred_url\": \"https://api.github.com/users/zadlg/starred{/owner}{/repo}\", \"subscriptions_url\": \"https://api.github.com/users/zadlg/subscriptions\", \"organizations_url\": \"https://api.github.com/users/zadlg/orgs\", \"repos_url\": \"https://api.github.com/users/zadlg/repos\", \"events_url\": \"https://api.github.com/users/zadlg/events{/privacy}\", \"received_events_url\": \"https://api.github.com/users/zadlg/received_events\", \"type\": \"User\", \"site_admin\": false}, \"repo\": {\"id\": 106190186, \"name\": \"radare2\", \"full_name\": \"zadlg/radare2\", \"owner\": {\"login\": \"zadlg\", \"id\": 24417450, \"avatar_url\": \"https://avatars1.githubusercontent.com/u/24417450?v=4\", \"gravatar_id\": \"\", \"url\": \"https://api.github.com/users/zadlg\", \"html_url\": \"https://github.com/zadlg\", \"followers_url\": \"https://api.github.com/users/zadlg/followers\", \"following_url\": \"https://api.github.com/users/zadlg/following{/other_user}\", \"gists_url\": \"https://api.github.com/users/zadlg/gists{/gist_id}\", \"starred_url\": \"https://api.github.com/users/zadlg/starred{/owner}{/repo}\", \"subscriptions_url\": \"https://api.github.com/users/zadlg/subscriptions\", \"organizations_url\": \"https://api.github.com/users/zadlg/orgs\", \"repos_url\": \"https://api.github.com/users/zadlg/repos\", \"events_url\": \"https://api.github.com/users/zadlg/events{/privacy}\", \"received_events_url\": \"https://api.github.com/users/zadlg/received_events\", \"type\": \"User\", \"site_admin\": false}, \"private\": false, \"html_url\": \"https://github.com/zadlg/radare2\", \"description\": \"unix-like reverse engineering framework and commandline tools\", \"fork\": true, \"url\": \"https://api.github.com/repos/zadlg/radare2\", \"forks_url\": \"https://api.github.com/repos/zadlg/radare2/forks\", \"keys_url\": \"https://api.github.com/repos/zadlg/radare2/keys{/key_id}\", \"collaborators_url\": \"https://api.github.com/repos/zadlg/radare2/collaborators{/collaborator}\", \"teams_url\": \"https://api.github.com/repos/zadlg/radare2/teams\", \"hooks_url\": \"https://api.github.com/repos/zadlg/radare2/hooks\", \"issue_events_url\": \"https://api.github.com/repos/zadlg/radare2/issues/events{/number}\", \"events_url\": \"https://api.github.com/repos/zadlg/radare2/events\", \"assignees_url\": \"https://api.github.com/repos/zadlg/radare2/assignees{/user}\", \"branches_url\": \"https://api.github.com/repos/zadlg/radare2/branches{/branch}\", \"tags_url\": \"https://api.github.com/repos/zadlg/radare2/tags\", \"blobs_url\": \"https://api.github.com/repos/zadlg/radare2/git/blobs{/sha}\", \"git_tags_url\": \"https://api.github.com/repos/zadlg/radare2/git/tags{/sha}\", \"git_refs_url\": \"https://api.github.com/repos/zadlg/radare2/git/refs{/sha}\", \"trees_url\": \"https://api.github.com/repos/zadlg/radare2/git/trees{/sha}\", \"statuses_url\": \"https://api.github.com/repos/zadlg/radare2/statuses/{sha}\", \"languages_url\": \"https://api.github.com/repos/zadlg/radare2/languages\", \"stargazers_url\": \"https://api.github.com/repos/zadlg/radare2/stargazers\", \"contributors_url\": \"https://api.github.com/repos/zadlg/radare2/contributors\", \"subscribers_url\": \"https://api.github.com/repos/zadlg/radare2/subscribers\", \"subscription_url\": \"https://api.github.com/repos/zadlg/radare2/subscription\", \"commits_url\": \"https://api.github.com/repos/zadlg/radare2/commits{/sha}\", \"git_commits_url\": \"https://api.github.com/repos/zadlg/radare2/git/commits{/sha}\", \"comments_url\": \"https://api.github.com/repos/zadlg/radare2/comments{/number}\", \"issue_comment_url\": \"https://api.github.com/repos/zadlg/radare2/issues/comments{/number}\", \"contents_url\": \"https://api.github.com/repos/zadlg/radare2/contents/{+path}\", \"compare_url\": \"https://api.github.com/repos/zadlg/radare2/compare/{base}...{head}\", \"merges_url\": \"https://api.github.com/repos/zadlg/radare2/merges\", \"archive_url\": \"https://api.github.com/repos/zadlg/radare2/{archive_format}{/ref}\", \"downloads_url\": \"https://api.github.com/repos/zadlg/radare2/downloads\", \"issues_url\": \"https://api.github.com/repos/zadlg/radare2/issues{/number}\", \"pulls_url\": \"https://api.github.com/repos/zadlg/radare2/pulls{/number}\", \"milestones_url\": \"https://api.github.com/repos/zadlg/radare2/milestones{/number}\", \"notifications_url\": \"https://api.github.com/repos/zadlg/radare2/notifications{?since,all,participating}\", \"labels_url\": \"https://api.github.com/repos/zadlg/radare2/labels{/name}\", \"releases_url\": \"https://api.github.com/repos/zadlg/radare2/releases{/id}\", \"deployments_url\": \"https://api.github.com/repos/zadlg/radare2/deployments\", \"created_at\": \"2017-10-08T16:10:30Z\", \"updated_at\": \"2017-10-08T16:10:41Z\", \"pushed_at\": \"2018-01-01T14:58:20Z\", \"git_url\": \"git://github.com/zadlg/radare2.git\", \"ssh_url\": \"git@github.com:zadlg/radare2.git\", \"clone_url\": \"https://github.com/zadlg/radare2.git\", \"svn_url\": \"https://github.com/zadlg/radare2\", \"homepage\": \"http://www.radare.org/\", \"size\": 79457, \"stargazers_count\": 0, \"watchers_count\": 0, \"language\": \"C\", \"has_issues\": false, \"has_projects\": true, \"has_downloads\": true, \"has_wiki\": false, \"has_pages\": false, \"forks_count\": 0, \"mirror_url\": null, \"archived\": false, \"open_issues_count\": 0, \"license\": null, \"forks\": 0, \"open_issues\": 0, \"watchers\": 0, \"default_branch\": \"master\"}}, \"base\": {\"label\": \"radare:master\", \"ref\": \"master\", \"sha\": \"e482e410a59e645698c55b640eee43eedb79ae7f\", \"user\": {\"login\": \"radare\", \"id\": 917142, \"avatar_url\": \"https://avatars1.githubusercontent.com/u/917142?v=4\", \"gravatar_id\": \"\", \"url\": \"https://api.github.com/users/radare\", \"html_url\": \"https://github.com/radare\", \"followers_url\": \"https://api.github.com/users/radare/followers\", \"following_url\": \"https://api.github.com/users/radare/following{/other_user}\", \"gists_url\": \"https://api.github.com/users/radare/gists{/gist_id}\", \"starred_url\": \"https://api.github.com/users/radare/starred{/owner}{/repo}\", \"subscriptions_url\": \"https://api.github.com/users/radare/subscriptions\", \"organizations_url\": \"https://api.github.com/users/radare/orgs\", \"repos_url\": \"https://api.github.com/users/radare/repos\", \"events_url\": \"https://api.github.com/users/radare/events{/privacy}\", \"received_events_url\": \"https://api.github.com/users/radare/received_events\", \"type\": \"User\", \"site_admin\": false}, \"repo\": {\"id\": 4869294, \"name\": \"radare2\", \"full_name\": \"radare/radare2\", \"owner\": {\"login\": \"radare\", \"id\": 917142, \"avatar_url\": \"https://avatars1.githubusercontent.com/u/917142?v=4\", \"gravatar_id\": \"\", \"url\": \"https://api.github.com/users/radare\", \"html_url\": \"https://github.com/radare\", \"followers_url\": \"https://api.github.com/users/radare/followers\", \"following_url\": \"https://api.github.com/users/radare/following{/other_user}\", \"gists_url\": \"https://api.github.com/users/radare/gists{/gist_id}\", \"starred_url\": \"https://api.github.com/users/radare/starred{/owner}{/repo}\", \"subscriptions_url\": \"https://api.github.com/users/radare/subscriptions\", \"organizations_url\": \"https://api.github.com/users/radare/orgs\", \"repos_url\": \"https://api.github.com/users/radare/repos\", \"events_url\": \"https://api.github.com/users/radare/events{/privacy}\", \"received_events_url\": \"https://api.github.com/users/radare/received_events\", \"type\": \"User\", \"site_admin\": false}, \"private\": false, \"html_url\": \"https://github.com/radare/radare2\", \"description\": \"unix-like reverse engineering framework and commandline tools\", \"fork\": false, \"url\": \"https://api.github.com/repos/radare/radare2\", \"forks_url\": \"https://api.github.com/repos/radare/radare2/forks\", \"keys_url\": \"https://api.github.com/repos/radare/radare2/keys{/key_id}\", \"collaborators_url\": \"https://api.github.com/repos/radare/radare2/collaborators{/collaborator}\", \"teams_url\": \"https://api.github.com/repos/radare/radare2/teams\", \"hooks_url\": \"https://api.github.com/repos/radare/radare2/hooks\", \"issue_events_url\": \"https://api.github.com/repos/radare/radare2/issues/events{/number}\", \"events_url\": \"https://api.github.com/repos/radare/radare2/events\", \"assignees_url\": \"https://api.github.com/repos/radare/radare2/assignees{/user}\", \"branches_url\": \"https://api.github.com/repos/radare/radare2/branches{/branch}\", \"tags_url\": \"https://api.github.com/repos/radare/radare2/tags\", \"blobs_url\": \"https://api.github.com/repos/radare/radare2/git/blobs{/sha}\", \"git_tags_url\": \"https://api.github.com/repos/radare/radare2/git/tags{/sha}\", \"git_refs_url\": \"https://api.github.com/repos/radare/radare2/git/refs{/sha}\", \"trees_url\": \"https://api.github.com/repos/radare/radare2/git/trees{/sha}\", \"statuses_url\": \"https://api.github.com/repos/radare/radare2/statuses/{sha}\", \"languages_url\": \"https://api.github.com/repos/radare/radare2/languages\", \"stargazers_url\": \"https://api.github.com/repos/radare/radare2/stargazers\", \"contributors_url\": \"https://api.github.com/repos/radare/radare2/contributors\", \"subscribers_url\": \"https://api.github.com/repos/radare/radare2/subscribers\", \"subscription_url\": \"https://api.github.com/repos/radare/radare2/subscription\", \"commits_url\": \"https://api.github.com/repos/radare/radare2/commits{/sha}\", \"git_commits_url\": \"https://api.github.com/repos/radare/radare2/git/commits{/sha}\", \"comments_url\": \"https://api.github.com/repos/radare/radare2/comments{/number}\", \"issue_comment_url\": \"https://api.github.com/repos/radare/radare2/issues/comments{/number}\", \"contents_url\": \"https://api.github.com/repos/radare/radare2/contents/{+path}\", \"compare_url\": \"https://api.github.com/repos/radare/radare2/compare/{base}...{head}\", \"merges_url\": \"https://api.github.com/repos/radare/radare2/merges\", \"archive_url\": \"https://api.github.com/repos/radare/radare2/{archive_format}{/ref}\", \"downloads_url\": \"https://api.github.com/repos/radare/radare2/downloads\", \"issues_url\": \"https://api.github.com/repos/radare/radare2/issues{/number}\", \"pulls_url\": \"https://api.github.com/repos/radare/radare2/pulls{/number}\", \"milestones_url\": \"https://api.github.com/repos/radare/radare2/milestones{/number}\", \"notifications_url\": \"https://api.github.com/repos/radare/radare2/notifications{?since,all,participating}\", \"labels_url\": \"https://api.github.com/repos/radare/radare2/labels{/name}\", \"releases_url\": \"https://api.github.com/repos/radare/radare2/releases{/id}\", \"deployments_url\": \"https://api.github.com/repos/radare/radare2/deployments\", \"created_at\": \"2012-07-03T07:42:26Z\", \"updated_at\": \"2018-01-01T13:33:49Z\", \"pushed_at\": \"2018-01-01T14:56:00Z\", \"git_url\": \"git://github.com/radare/radare2.git\", \"ssh_url\": \"git@github.com:radare/radare2.git\", \"clone_url\": \"https://github.com/radare/radare2.git\", \"svn_url\": \"https://github.com/radare/radare2\", \"homepage\": \"http://www.radare.org/\", \"size\": 79244, \"stargazers_count\": 6315, \"watchers_count\": 6315, \"language\": \"C\", \"has_issues\": true, \"has_projects\": true, \"has_downloads\": true, \"has_wiki\": false, \"has_pages\": false, \"forks_count\": 1294, \"mirror_url\": null, \"archived\": false, \"open_issues_count\": 800, \"license\": {\"key\": \"lgpl-3.0\", \"name\": \"GNU Lesser General Public License v3.0\", \"spdx_id\": \"LGPL-3.0\", \"url\": \"https://api.github.com/licenses/lgpl-3.0\"}, \"forks\": 1294, \"open_issues\": 800, \"watchers\": 6315, \"default_branch\": \"master\"}}, \"_links\": {\"self\": {\"href\": \"https://api.github.com/repos/radare/radare2/pulls/9110\"}, \"html\": {\"href\": \"https://github.com/radare/radare2/pull/9110\"}, \"issue\": {\"href\": \"https://api.github.com/repos/radare/radare2/issues/9110\"}, \"comments\": {\"href\": \"https://api.github.com/repos/radare/radare2/issues/9110/comments\"}, \"review_comments\": {\"href\": \"https://api.github.com/repos/radare/radare2/pulls/9110/comments\"}, \"review_comment\": {\"href\": \"https://api.github.com/repos/radare/radare2/pulls/comments{/number}\"}, \"commits\": {\"href\": \"https://api.github.com/repos/radare/radare2/pulls/9110/commits\"}, \"statuses\": {\"href\": \"https://api.github.com/repos/radare/radare2/statuses/4821f8a4a928662864b0549ca9571e9c7271e81a\"}}, \"author_association\": \"CONTRIBUTOR\"}}, \"public\": true, \"created_at\": \"2018-01-01T15:00:07Z\"}\n",
      "{\"id\": \"7045119052\", \"type\": \"PushEvent\", \"actor\": {\"id\": 18223215, \"login\": \"Salhi39\", \"display_login\": \"Salhi39\", \"gravatar_id\": \"\", \"url\": \"https://api.github.com/users/Salhi39\", \"avatar_url\": \"https://avatars.githubusercontent.com/u/18223215?\"}, \"repo\": {\"id\": 115285543, \"name\": \"Salhi39/java-web-coding-challenge-\", \"url\": \"https://api.github.com/repos/Salhi39/java-web-coding-challenge-\"}, \"payload\": {\"push_id\": 2226161685, \"size\": 6, \"distinct_size\": 6, \"ref\": \"refs/heads/master\", \"head\": \"5d2327736436ba66ea5d9436e2fb77873bde9175\", \"before\": \"b479628a4f4be5668b1e37a373bccba2d56bd93a\", \"commits\": [{\"sha\": \"c4431b1f9a00c45be53b5d58326cef18ce565a79\", \"author\": {\"name\": \"MedSALHI\", \"email\": \"52f335c0f84d6602205d3457029838b21c33c076@gmail.com\"}, \"message\": \"update model architecture\", \"distinct\": true, \"url\": \"https://api.github.com/repos/Salhi39/java-web-coding-challenge-/commits/c4431b1f9a00c45be53b5d58326cef18ce565a79\"}, {\"sha\": \"ffbc8ff71534d790e03d5664f13a13a90f715978\", \"author\": {\"name\": \"MedSALHI\", \"email\": \"52f335c0f84d6602205d3457029838b21c33c076@gmail.com\"}, \"message\": \"build service package\", \"distinct\": true, \"url\": \"https://api.github.com/repos/Salhi39/java-web-coding-challenge-/commits/ffbc8ff71534d790e03d5664f13a13a90f715978\"}, {\"sha\": \"b0600cf34f1aabc109802cc84cde7178775d799d\", \"author\": {\"name\": \"MedSALHI\", \"email\": \"52f335c0f84d6602205d3457029838b21c33c076@gmail.com\"}, \"message\": \"add mongoDB configuration\", \"distinct\": true, \"url\": \"https://api.github.com/repos/Salhi39/java-web-coding-challenge-/commits/b0600cf34f1aabc109802cc84cde7178775d799d\"}, {\"sha\": \"efa5b2dbbd3cf52afd43fab02441eb5d93911534\", \"author\": {\"name\": \"MedSALHI\", \"email\": \"52f335c0f84d6602205d3457029838b21c33c076@gmail.com\"}, \"message\": \"update attributes and toString\", \"distinct\": true, \"url\": \"https://api.github.com/repos/Salhi39/java-web-coding-challenge-/commits/efa5b2dbbd3cf52afd43fab02441eb5d93911534\"}, {\"sha\": \"572c10f220273a7675cb8ad83391373fbaea1a08\", \"author\": {\"name\": \"MedSALHI\", \"email\": \"52f335c0f84d6602205d3457029838b21c33c076@gmail.com\"}, \"message\": \"complete all methods declaration\", \"distinct\": true, \"url\": \"https://api.github.com/repos/Salhi39/java-web-coding-challenge-/commits/572c10f220273a7675cb8ad83391373fbaea1a08\"}, {\"sha\": \"5d2327736436ba66ea5d9436e2fb77873bde9175\", \"author\": {\"name\": \"MedSALHI\", \"email\": \"52f335c0f84d6602205d3457029838b21c33c076@gmail.com\"}, \"message\": \"test service package\", \"distinct\": true, \"url\": \"https://api.github.com/repos/Salhi39/java-web-coding-challenge-/commits/5d2327736436ba66ea5d9436e2fb77873bde9175\"}]}, \"public\": true, \"created_at\": \"2018-01-01T15:00:07Z\"}\n",
      "{\"id\": \"7045119056\", \"type\": \"PushEvent\", \"actor\": {\"id\": 29452781, \"login\": \"ntbpm\", \"display_login\": \"ntbpm\", \"gravatar_id\": \"\", \"url\": \"https://api.github.com/users/ntbpm\", \"avatar_url\": \"https://avatars.githubusercontent.com/u/29452781?\"}, \"repo\": {\"id\": 94426206, \"name\": \"ntbpm/testv\", \"url\": \"https://api.github.com/repos/ntbpm/testv\"}, \"payload\": {\"push_id\": 2226161689, \"size\": 1, \"distinct_size\": 1, \"ref\": \"refs/heads/master\", \"head\": \"ea96aca01f8e9ae7c45d9263b36443ca3a84fcb7\", \"before\": \"b6e00ce8c7cbc01563ca93f3a854814a9fa835b9\", \"commits\": [{\"sha\": \"ea96aca01f8e9ae7c45d9263b36443ca3a84fcb7\", \"author\": {\"name\": \"ntbpm\", \"email\": \"84cbe9dabffe2f3d99785547480fd6275775b3a6@163.com\"}, \"message\": \"123\", \"distinct\": true, \"url\": \"https://api.github.com/repos/ntbpm/testv/commits/ea96aca01f8e9ae7c45d9263b36443ca3a84fcb7\"}]}, \"public\": true, \"created_at\": \"2018-01-01T15:00:08Z\"}\n",
      "{\"id\": \"7045119058\", \"type\": \"PushEvent\", \"actor\": {\"id\": 255213, \"login\": \"funnythingz\", \"display_login\": \"funnythingz\", \"gravatar_id\": \"\", \"url\": \"https://api.github.com/users/funnythingz\", \"avatar_url\": \"https://avatars.githubusercontent.com/u/255213?\"}, \"repo\": {\"id\": 56332285, \"name\": \"funnythingz/funnypush\", \"url\": \"https://api.github.com/repos/funnythingz/funnypush\"}, \"payload\": {\"push_id\": 2226161688, \"size\": 1, \"distinct_size\": 1, \"ref\": \"refs/heads/master\", \"head\": \"a90ae902950eed5c421706255d9357eba9edc6a4\", \"before\": \"57bc4cbfa899d92010a63fb01b0a5779e3dba170\", \"commits\": [{\"sha\": \"a90ae902950eed5c421706255d9357eba9edc6a4\", \"author\": {\"name\": \"funnythingz\", \"email\": \"52d8fdfd1538b2b858b2a83876150e28b1933511@gmail.com\"}, \"message\": \".\", \"distinct\": true, \"url\": \"https://api.github.com/repos/funnythingz/funnypush/commits/a90ae902950eed5c421706255d9357eba9edc6a4\"}]}, \"public\": true, \"created_at\": \"2018-01-01T15:00:07Z\"}\n",
      "{\"id\": \"7045119059\", \"type\": \"PushEvent\", \"actor\": {\"id\": 5130500, \"login\": \"morpheus65535\", \"display_login\": \"morpheus65535\", \"gravatar_id\": \"\", \"url\": \"https://api.github.com/users/morpheus65535\", \"avatar_url\": \"https://avatars.githubusercontent.com/u/5130500?\"}, \"repo\": {\"id\": 88102501, \"name\": \"morpheus65535/bazarr\", \"url\": \"https://api.github.com/repos/morpheus65535/bazarr\"}, \"payload\": {\"push_id\": 2226161692, \"size\": 1, \"distinct_size\": 1, \"ref\": \"refs/heads/development\", \"head\": \"ac30452c77f05687e904474078fdba99b40aaf97\", \"before\": \"4a69b7ca75095ddff6b04dc9eabb6ce3cc0f5175\", \"commits\": [{\"sha\": \"ac30452c77f05687e904474078fdba99b40aaf97\", \"author\": {\"name\": \"morpheus65535\", \"email\": \"562878fca473192586a0d81cb19ca05f2ef51e1f@users.noreply.github.com\"}, \"message\": \"Logs viewer bug\", \"distinct\": true, \"url\": \"https://api.github.com/repos/morpheus65535/bazarr/commits/ac30452c77f05687e904474078fdba99b40aaf97\"}]}, \"public\": true, \"created_at\": \"2018-01-01T15:00:07Z\"}\n",
      "{\"id\": \"7045119063\", \"type\": \"PushEvent\", \"actor\": {\"id\": 2997229, \"login\": \"apievangelist\", \"display_login\": \"apievangelist\", \"gravatar_id\": \"\", \"url\": \"https://api.github.com/users/apievangelist\", \"avatar_url\": \"https://avatars.githubusercontent.com/u/2997229?\"}, \"repo\": {\"id\": 9590594, \"name\": \"api-evangelist/internet-of-things\", \"url\": \"https://api.github.com/repos/api-evangelist/internet-of-things\"}, \"payload\": {\"push_id\": 2226161694, \"size\": 1, \"distinct_size\": 1, \"ref\": \"refs/heads/gh-pages\", \"head\": \"f2ea94955cc5756dd36f36b0fa0efa2eeb6b62fb\", \"before\": \"3ee5ff2894943d90a0180fc2b677232d94f75d26\", \"commits\": [{\"sha\": \"f2ea94955cc5756dd36f36b0fa0efa2eeb6b62fb\", \"author\": {\"name\": \"API Evangelist\", \"email\": \"59bd0a3ff43b32849b319e645d4798d8a5d1e889@apievangelist.com\"}, \"message\": \"Updating _posts/2017-05-18-the-parrot-sequoia-api-is-nice-and-simple-for-iot.markdown via Laneworks CMS Publish\", \"distinct\": true, \"url\": \"https://api.github.com/repos/api-evangelist/internet-of-things/commits/f2ea94955cc5756dd36f36b0fa0efa2eeb6b62fb\"}]}, \"public\": true, \"created_at\": \"2018-01-01T15:00:07Z\", \"org\": {\"id\": 3026872, \"login\": \"api-evangelist\", \"gravatar_id\": \"\", \"url\": \"https://api.github.com/orgs/api-evangelist\", \"avatar_url\": \"https://avatars.githubusercontent.com/u/3026872?\"}}\n",
      "{\"id\": \"7045119066\", \"type\": \"CreateEvent\", \"actor\": {\"id\": 35003609, \"login\": \"ace-intelligence\", \"display_login\": \"ace-intelligence\", \"gravatar_id\": \"\", \"url\": \"https://api.github.com/users/ace-intelligence\", \"avatar_url\": \"https://avatars.githubusercontent.com/u/35003609?\"}, \"repo\": {\"id\": 115926132, \"name\": \"ace-intelligence/ace-intelligence\", \"url\": \"https://api.github.com/repos/ace-intelligence/ace-intelligence\"}, \"payload\": {\"ref\": null, \"ref_type\": \"repository\", \"master_branch\": \"master\", \"description\": \"Educational Blog of ACE-Laboratory @ KAIST\", \"pusher_type\": \"user\"}, \"public\": true, \"created_at\": \"2018-01-01T15:00:07Z\"}\n",
      "{\"id\": \"7045119069\", \"type\": \"PushEvent\", \"actor\": {\"id\": 32428698, \"login\": \"hashibiroko\", \"display_login\": \"hashibiroko\", \"gravatar_id\": \"\", \"url\": \"https://api.github.com/users/hashibiroko\", \"avatar_url\": \"https://avatars.githubusercontent.com/u/32428698?\"}, \"repo\": {\"id\": 105738748, \"name\": \"hashibiroko/tanoshi\", \"url\": \"https://api.github.com/repos/hashibiroko/tanoshi\"}, \"payload\": {\"push_id\": 2226161701, \"size\": 1, \"distinct_size\": 1, \"ref\": \"refs/heads/master\", \"head\": \"06734918e87fdd0e991449e0246b7e92ec7def76\", \"before\": \"cc36c05f41e2b321f66d9479d3eb0a5d6733feff\", \"commits\": [{\"sha\": \"06734918e87fdd0e991449e0246b7e92ec7def76\", \"author\": {\"name\": \"hashibiroko\", \"email\": \"cd10ef10eea035a82a23cdf5bdd944607b912c14@icloud.com\"}, \"message\": \"wa-i\", \"distinct\": true, \"url\": \"https://api.github.com/repos/hashibiroko/tanoshi/commits/06734918e87fdd0e991449e0246b7e92ec7def76\"}]}, \"public\": true, \"created_at\": \"2018-01-01T15:00:08Z\"}\n",
      "{\"id\": \"7045119073\", \"type\": \"PushEvent\", \"actor\": {\"id\": 23026379, \"login\": \"jyc99\", \"display_login\": \"jyc99\", \"gravatar_id\": \"\", \"url\": \"https://api.github.com/users/jyc99\", \"avatar_url\": \"https://avatars.githubusercontent.com/u/23026379?\"}, \"repo\": {\"id\": 97558960, \"name\": \"jyc99/store\", \"url\": \"https://api.github.com/repos/jyc99/store\"}, \"payload\": {\"push_id\": 2226161703, \"size\": 1, \"distinct_size\": 1, \"ref\": \"refs/heads/master\", \"head\": \"292c24a462a5c6f23855f1cfcb57ebff01b86262\", \"before\": \"0f3203845d0fa0d857e65f35e40bac300f4024cc\", \"commits\": [{\"sha\": \"292c24a462a5c6f23855f1cfcb57ebff01b86262\", \"author\": {\"name\": \"jyc99\", \"email\": \"ea5c35890633d47797657b32063b7aa2ec430fc4@qq.com\"}, \"message\": \"123\", \"distinct\": true, \"url\": \"https://api.github.com/repos/jyc99/store/commits/292c24a462a5c6f23855f1cfcb57ebff01b86262\"}]}, \"public\": true, \"created_at\": \"2018-01-01T15:00:08Z\"}\n",
      "{\"id\": \"7045119074\", \"type\": \"PullRequestEvent\", \"actor\": {\"id\": 7681951, \"login\": \"romainnorberg\", \"display_login\": \"romainnorberg\", \"gravatar_id\": \"\", \"url\": \"https://api.github.com/users/romainnorberg\", \"avatar_url\": \"https://avatars.githubusercontent.com/u/7681951?\"}, \"repo\": {\"id\": 115925529, \"name\": \"romainnorberg/search-bundle\", \"url\": \"https://api.github.com/repos/romainnorberg/search-bundle\"}, \"payload\": {\"action\": \"opened\", \"number\": 1, \"pull_request\": {\"url\": \"https://api.github.com/repos/romainnorberg/search-bundle/pulls/1\", \"id\": 160650728, \"html_url\": \"https://github.com/romainnorberg/search-bundle/pull/1\", \"diff_url\": \"https://github.com/romainnorberg/search-bundle/pull/1.diff\", \"patch_url\": \"https://github.com/romainnorberg/search-bundle/pull/1.patch\", \"issue_url\": \"https://api.github.com/repos/romainnorberg/search-bundle/issues/1\", \"number\": 1, \"state\": \"open\", \"locked\": false, \"title\": \"Introduce temporary credentials for travis\", \"user\": {\"login\": \"romainnorberg\", \"id\": 7681951, \"avatar_url\": \"https://avatars1.githubusercontent.com/u/7681951?v=4\", \"gravatar_id\": \"\", \"url\": \"https://api.github.com/users/romainnorberg\", \"html_url\": \"https://github.com/romainnorberg\", \"followers_url\": \"https://api.github.com/users/romainnorberg/followers\", \"following_url\": \"https://api.github.com/users/romainnorberg/following{/other_user}\", \"gists_url\": \"https://api.github.com/users/romainnorberg/gists{/gist_id}\", \"starred_url\": \"https://api.github.com/users/romainnorberg/starred{/owner}{/repo}\", \"subscriptions_url\": \"https://api.github.com/users/romainnorberg/subscriptions\", \"organizations_url\": \"https://api.github.com/users/romainnorberg/orgs\", \"repos_url\": \"https://api.github.com/users/romainnorberg/repos\", \"events_url\": \"https://api.github.com/users/romainnorberg/events{/privacy}\", \"received_events_url\": \"https://api.github.com/users/romainnorberg/received_events\", \"type\": \"User\", \"site_admin\": false}, \"body\": \"\", \"created_at\": \"2018-01-01T15:00:07Z\", \"updated_at\": \"2018-01-01T15:00:07Z\", \"closed_at\": null, \"merged_at\": null, \"merge_commit_sha\": null, \"assignee\": null, \"assignees\": [], \"requested_reviewers\": [], \"milestone\": null, \"commits_url\": \"https://api.github.com/repos/romainnorberg/search-bundle/pulls/1/commits\", \"review_comments_url\": \"https://api.github.com/repos/romainnorberg/search-bundle/pulls/1/comments\", \"review_comment_url\": \"https://api.github.com/repos/romainnorberg/search-bundle/pulls/comments{/number}\", \"comments_url\": \"https://api.github.com/repos/romainnorberg/search-bundle/issues/1/comments\", \"statuses_url\": \"https://api.github.com/repos/romainnorberg/search-bundle/statuses/05bc993353ceb6d2ca7871fb1fe2e31ccea9e9a3\", \"head\": {\"label\": \"romainnorberg:feat/travis\", \"ref\": \"feat/travis\", \"sha\": \"05bc993353ceb6d2ca7871fb1fe2e31ccea9e9a3\", \"user\": {\"login\": \"romainnorberg\", \"id\": 7681951, \"avatar_url\": \"https://avatars1.githubusercontent.com/u/7681951?v=4\", \"gravatar_id\": \"\", \"url\": \"https://api.github.com/users/romainnorberg\", \"html_url\": \"https://github.com/romainnorberg\", \"followers_url\": \"https://api.github.com/users/romainnorberg/followers\", \"following_url\": \"https://api.github.com/users/romainnorberg/following{/other_user}\", \"gists_url\": \"https://api.github.com/users/romainnorberg/gists{/gist_id}\", \"starred_url\": \"https://api.github.com/users/romainnorberg/starred{/owner}{/repo}\", \"subscriptions_url\": \"https://api.github.com/users/romainnorberg/subscriptions\", \"organizations_url\": \"https://api.github.com/users/romainnorberg/orgs\", \"repos_url\": \"https://api.github.com/users/romainnorberg/repos\", \"events_url\": \"https://api.github.com/users/romainnorberg/events{/privacy}\", \"received_events_url\": \"https://api.github.com/users/romainnorberg/received_events\", \"type\": \"User\", \"site_admin\": false}, \"repo\": {\"id\": 115925529, \"name\": \"search-bundle\", \"full_name\": \"romainnorberg/search-bundle\", \"owner\": {\"login\": \"romainnorberg\", \"id\": 7681951, \"avatar_url\": \"https://avatars1.githubusercontent.com/u/7681951?v=4\", \"gravatar_id\": \"\", \"url\": \"https://api.github.com/users/romainnorberg\", \"html_url\": \"https://github.com/romainnorberg\", \"followers_url\": \"https://api.github.com/users/romainnorberg/followers\", \"following_url\": \"https://api.github.com/users/romainnorberg/following{/other_user}\", \"gists_url\": \"https://api.github.com/users/romainnorberg/gists{/gist_id}\", \"starred_url\": \"https://api.github.com/users/romainnorberg/starred{/owner}{/repo}\", \"subscriptions_url\": \"https://api.github.com/users/romainnorberg/subscriptions\", \"organizations_url\": \"https://api.github.com/users/romainnorberg/orgs\", \"repos_url\": \"https://api.github.com/users/romainnorberg/repos\", \"events_url\": \"https://api.github.com/users/romainnorberg/events{/privacy}\", \"received_events_url\": \"https://api.github.com/users/romainnorberg/received_events\", \"type\": \"User\", \"site_admin\": false}, \"private\": false, \"html_url\": \"https://github.com/romainnorberg/search-bundle\", \"description\": \"Seamless integration of Algolia Search into your Symfony project.\", \"fork\": true, \"url\": \"https://api.github.com/repos/romainnorberg/search-bundle\", \"forks_url\": \"https://api.github.com/repos/romainnorberg/search-bundle/forks\", \"keys_url\": \"https://api.github.com/repos/romainnorberg/search-bundle/keys{/key_id}\", \"collaborators_url\": \"https://api.github.com/repos/romainnorberg/search-bundle/collaborators{/collaborator}\", \"teams_url\": \"https://api.github.com/repos/romainnorberg/search-bundle/teams\", \"hooks_url\": \"https://api.github.com/repos/romainnorberg/search-bundle/hooks\", \"issue_events_url\": \"https://api.github.com/repos/romainnorberg/search-bundle/issues/events{/number}\", \"events_url\": \"https://api.github.com/repos/romainnorberg/search-bundle/events\", \"assignees_url\": \"https://api.github.com/repos/romainnorberg/search-bundle/assignees{/user}\", \"branches_url\": \"https://api.github.com/repos/romainnorberg/search-bundle/branches{/branch}\", \"tags_url\": \"https://api.github.com/repos/romainnorberg/search-bundle/tags\", \"blobs_url\": \"https://api.github.com/repos/romainnorberg/search-bundle/git/blobs{/sha}\", \"git_tags_url\": \"https://api.github.com/repos/romainnorberg/search-bundle/git/tags{/sha}\", \"git_refs_url\": \"https://api.github.com/repos/romainnorberg/search-bundle/git/refs{/sha}\", \"trees_url\": \"https://api.github.com/repos/romainnorberg/search-bundle/git/trees{/sha}\", \"statuses_url\": \"https://api.github.com/repos/romainnorberg/search-bundle/statuses/{sha}\", \"languages_url\": \"https://api.github.com/repos/romainnorberg/search-bundle/languages\", \"stargazers_url\": \"https://api.github.com/repos/romainnorberg/search-bundle/stargazers\", \"contributors_url\": \"https://api.github.com/repos/romainnorberg/search-bundle/contributors\", \"subscribers_url\": \"https://api.github.com/repos/romainnorberg/search-bundle/subscribers\", \"subscription_url\": \"https://api.github.com/repos/romainnorberg/search-bundle/subscription\", \"commits_url\": \"https://api.github.com/repos/romainnorberg/search-bundle/commits{/sha}\", \"git_commits_url\": \"https://api.github.com/repos/romainnorberg/search-bundle/git/commits{/sha}\", \"comments_url\": \"https://api.github.com/repos/romainnorberg/search-bundle/comments{/number}\", \"issue_comment_url\": \"https://api.github.com/repos/romainnorberg/search-bundle/issues/comments{/number}\", \"contents_url\": \"https://api.github.com/repos/romainnorberg/search-bundle/contents/{+path}\", \"compare_url\": \"https://api.github.com/repos/romainnorberg/search-bundle/compare/{base}...{head}\", \"merges_url\": \"https://api.github.com/repos/romainnorberg/search-bundle/merges\", \"archive_url\": \"https://api.github.com/repos/romainnorberg/search-bundle/{archive_format}{/ref}\", \"downloads_url\": \"https://api.github.com/repos/romainnorberg/search-bundle/downloads\", \"issues_url\": \"https://api.github.com/repos/romainnorberg/search-bundle/issues{/number}\", \"pulls_url\": \"https://api.github.com/repos/romainnorberg/search-bundle/pulls{/number}\", \"milestones_url\": \"https://api.github.com/repos/romainnorberg/search-bundle/milestones{/number}\", \"notifications_url\": \"https://api.github.com/repos/romainnorberg/search-bundle/notifications{?since,all,participating}\", \"labels_url\": \"https://api.github.com/repos/romainnorberg/search-bundle/labels{/name}\", \"releases_url\": \"https://api.github.com/repos/romainnorberg/search-bundle/releases{/id}\", \"deployments_url\": \"https://api.github.com/repos/romainnorberg/search-bundle/deployments\", \"created_at\": \"2018-01-01T14:50:11Z\", \"updated_at\": \"2018-01-01T14:50:12Z\", \"pushed_at\": \"2018-01-01T14:52:24Z\", \"git_url\": \"git://github.com/romainnorberg/search-bundle.git\", \"ssh_url\": \"git@github.com:romainnorberg/search-bundle.git\", \"clone_url\": \"https://github.com/romainnorberg/search-bundle.git\", \"svn_url\": \"https://github.com/romainnorberg/search-bundle\", \"homepage\": \"\", \"size\": 476, \"stargazers_count\": 0, \"watchers_count\": 0, \"language\": \"PHP\", \"has_issues\": false, \"has_projects\": true, \"has_downloads\": true, \"has_wiki\": false, \"has_pages\": false, \"forks_count\": 0, \"mirror_url\": null, \"archived\": false, \"open_issues_count\": 1, \"license\": null, \"forks\": 0, \"open_issues\": 1, \"watchers\": 0, \"default_branch\": \"master\"}}, \"base\": {\"label\": \"romainnorberg:master\", \"ref\": \"master\", \"sha\": \"19f7c1b7a36e98a79b83e9f1a964257b7a2876d9\", \"user\": {\"login\": \"romainnorberg\", \"id\": 7681951, \"avatar_url\": \"https://avatars1.githubusercontent.com/u/7681951?v=4\", \"gravatar_id\": \"\", \"url\": \"https://api.github.com/users/romainnorberg\", \"html_url\": \"https://github.com/romainnorberg\", \"followers_url\": \"https://api.github.com/users/romainnorberg/followers\", \"following_url\": \"https://api.github.com/users/romainnorberg/following{/other_user}\", \"gists_url\": \"https://api.github.com/users/romainnorberg/gists{/gist_id}\", \"starred_url\": \"https://api.github.com/users/romainnorberg/starred{/owner}{/repo}\", \"subscriptions_url\": \"https://api.github.com/users/romainnorberg/subscriptions\", \"organizations_url\": \"https://api.github.com/users/romainnorberg/orgs\", \"repos_url\": \"https://api.github.com/users/romainnorberg/repos\", \"events_url\": \"https://api.github.com/users/romainnorberg/events{/privacy}\", \"received_events_url\": \"https://api.github.com/users/romainnorberg/received_events\", \"type\": \"User\", \"site_admin\": false}, \"repo\": {\"id\": 115925529, \"name\": \"search-bundle\", \"full_name\": \"romainnorberg/search-bundle\", \"owner\": {\"login\": \"romainnorberg\", \"id\": 7681951, \"avatar_url\": \"https://avatars1.githubusercontent.com/u/7681951?v=4\", \"gravatar_id\": \"\", \"url\": \"https://api.github.com/users/romainnorberg\", \"html_url\": \"https://github.com/romainnorberg\", \"followers_url\": \"https://api.github.com/users/romainnorberg/followers\", \"following_url\": \"https://api.github.com/users/romainnorberg/following{/other_user}\", \"gists_url\": \"https://api.github.com/users/romainnorberg/gists{/gist_id}\", \"starred_url\": \"https://api.github.com/users/romainnorberg/starred{/owner}{/repo}\", \"subscriptions_url\": \"https://api.github.com/users/romainnorberg/subscriptions\", \"organizations_url\": \"https://api.github.com/users/romainnorberg/orgs\", \"repos_url\": \"https://api.github.com/users/romainnorberg/repos\", \"events_url\": \"https://api.github.com/users/romainnorberg/events{/privacy}\", \"received_events_url\": \"https://api.github.com/users/romainnorberg/received_events\", \"type\": \"User\", \"site_admin\": false}, \"private\": false, \"html_url\": \"https://github.com/romainnorberg/search-bundle\", \"description\": \"Seamless integration of Algolia Search into your Symfony project.\", \"fork\": true, \"url\": \"https://api.github.com/repos/romainnorberg/search-bundle\", \"forks_url\": \"https://api.github.com/repos/romainnorberg/search-bundle/forks\", \"keys_url\": \"https://api.github.com/repos/romainnorberg/search-bundle/keys{/key_id}\", \"collaborators_url\": \"https://api.github.com/repos/romainnorberg/search-bundle/collaborators{/collaborator}\", \"teams_url\": \"https://api.github.com/repos/romainnorberg/search-bundle/teams\", \"hooks_url\": \"https://api.github.com/repos/romainnorberg/search-bundle/hooks\", \"issue_events_url\": \"https://api.github.com/repos/romainnorberg/search-bundle/issues/events{/number}\", \"events_url\": \"https://api.github.com/repos/romainnorberg/search-bundle/events\", \"assignees_url\": \"https://api.github.com/repos/romainnorberg/search-bundle/assignees{/user}\", \"branches_url\": \"https://api.github.com/repos/romainnorberg/search-bundle/branches{/branch}\", \"tags_url\": \"https://api.github.com/repos/romainnorberg/search-bundle/tags\", \"blobs_url\": \"https://api.github.com/repos/romainnorberg/search-bundle/git/blobs{/sha}\", \"git_tags_url\": \"https://api.github.com/repos/romainnorberg/search-bundle/git/tags{/sha}\", \"git_refs_url\": \"https://api.github.com/repos/romainnorberg/search-bundle/git/refs{/sha}\", \"trees_url\": \"https://api.github.com/repos/romainnorberg/search-bundle/git/trees{/sha}\", \"statuses_url\": \"https://api.github.com/repos/romainnorberg/search-bundle/statuses/{sha}\", \"languages_url\": \"https://api.github.com/repos/romainnorberg/search-bundle/languages\", \"stargazers_url\": \"https://api.github.com/repos/romainnorberg/search-bundle/stargazers\", \"contributors_url\": \"https://api.github.com/repos/romainnorberg/search-bundle/contributors\", \"subscribers_url\": \"https://api.github.com/repos/romainnorberg/search-bundle/subscribers\", \"subscription_url\": \"https://api.github.com/repos/romainnorberg/search-bundle/subscription\", \"commits_url\": \"https://api.github.com/repos/romainnorberg/search-bundle/commits{/sha}\", \"git_commits_url\": \"https://api.github.com/repos/romainnorberg/search-bundle/git/commits{/sha}\", \"comments_url\": \"https://api.github.com/repos/romainnorberg/search-bundle/comments{/number}\", \"issue_comment_url\": \"https://api.github.com/repos/romainnorberg/search-bundle/issues/comments{/number}\", \"contents_url\": \"https://api.github.com/repos/romainnorberg/search-bundle/contents/{+path}\", \"compare_url\": \"https://api.github.com/repos/romainnorberg/search-bundle/compare/{base}...{head}\", \"merges_url\": \"https://api.github.com/repos/romainnorberg/search-bundle/merges\", \"archive_url\": \"https://api.github.com/repos/romainnorberg/search-bundle/{archive_format}{/ref}\", \"downloads_url\": \"https://api.github.com/repos/romainnorberg/search-bundle/downloads\", \"issues_url\": \"https://api.github.com/repos/romainnorberg/search-bundle/issues{/number}\", \"pulls_url\": \"https://api.github.com/repos/romainnorberg/search-bundle/pulls{/number}\", \"milestones_url\": \"https://api.github.com/repos/romainnorberg/search-bundle/milestones{/number}\", \"notifications_url\": \"https://api.github.com/repos/romainnorberg/search-bundle/notifications{?since,all,participating}\", \"labels_url\": \"https://api.github.com/repos/romainnorberg/search-bundle/labels{/name}\", \"releases_url\": \"https://api.github.com/repos/romainnorberg/search-bundle/releases{/id}\", \"deployments_url\": \"https://api.github.com/repos/romainnorberg/search-bundle/deployments\", \"created_at\": \"2018-01-01T14:50:11Z\", \"updated_at\": \"2018-01-01T14:50:12Z\", \"pushed_at\": \"2018-01-01T14:52:24Z\", \"git_url\": \"git://github.com/romainnorberg/search-bundle.git\", \"ssh_url\": \"git@github.com:romainnorberg/search-bundle.git\", \"clone_url\": \"https://github.com/romainnorberg/search-bundle.git\", \"svn_url\": \"https://github.com/romainnorberg/search-bundle\", \"homepage\": \"\", \"size\": 476, \"stargazers_count\": 0, \"watchers_count\": 0, \"language\": \"PHP\", \"has_issues\": false, \"has_projects\": true, \"has_downloads\": true, \"has_wiki\": false, \"has_pages\": false, \"forks_count\": 0, \"mirror_url\": null, \"archived\": false, \"open_issues_count\": 1, \"license\": null, \"forks\": 0, \"open_issues\": 1, \"watchers\": 0, \"default_branch\": \"master\"}}, \"_links\": {\"self\": {\"href\": \"https://api.github.com/repos/romainnorberg/search-bundle/pulls/1\"}, \"html\": {\"href\": \"https://github.com/romainnorberg/search-bundle/pull/1\"}, \"issue\": {\"href\": \"https://api.github.com/repos/romainnorberg/search-bundle/issues/1\"}, \"comments\": {\"href\": \"https://api.github.com/repos/romainnorberg/search-bundle/issues/1/comments\"}, \"review_comments\": {\"href\": \"https://api.github.com/repos/romainnorberg/search-bundle/pulls/1/comments\"}, \"review_comment\": {\"href\": \"https://api.github.com/repos/romainnorberg/search-bundle/pulls/comments{/number}\"}, \"commits\": {\"href\": \"https://api.github.com/repos/romainnorberg/search-bundle/pulls/1/commits\"}, \"statuses\": {\"href\": \"https://api.github.com/repos/romainnorberg/search-bundle/statuses/05bc993353ceb6d2ca7871fb1fe2e31ccea9e9a3\"}}, \"author_association\": \"OWNER\", \"merged\": false, \"mergeable\": null, \"rebaseable\": null, \"mergeable_state\": \"unknown\", \"merged_by\": null, \"comments\": 0, \"review_comments\": 0, \"maintainer_can_modify\": false, \"commits\": 1, \"additions\": 88, \"deletions\": 8, \"changed_files\": 4}}, \"public\": true, \"created_at\": \"2018-01-01T15:00:08Z\"}\n",
      "{\"id\": \"7045119077\", \"type\": \"PushEvent\", \"actor\": {\"id\": 34933730, \"login\": \"pinvondev\", \"display_login\": \"pinvondev\", \"gravatar_id\": \"\", \"url\": \"https://api.github.com/users/pinvondev\", \"avatar_url\": \"https://avatars.githubusercontent.com/u/34933730?\"}, \"repo\": {\"id\": 115706443, \"name\": \"pinvondev/pinvondev.github.io\", \"url\": \"https://api.github.com/repos/pinvondev/pinvondev.github.io\"}, \"payload\": {\"push_id\": 2226161708, \"size\": 1, \"distinct_size\": 1, \"ref\": \"refs/heads/master\", \"head\": \"fd6b045ecc39a86a0de13562e3e359b68d795234\", \"before\": \"26cfff48a773c17a08c25581869a38b714054f35\", \"commits\": [{\"sha\": \"fd6b045ecc39a86a0de13562e3e359b68d795234\", \"author\": {\"name\": \"pinvondev\", \"email\": \"76fb07f7109a52e4ced68fae0edf9345b270682e@gmail.com\"}, \"message\": \"Update published html files, committed by org-page.\", \"distinct\": true, \"url\": \"https://api.github.com/repos/pinvondev/pinvondev.github.io/commits/fd6b045ecc39a86a0de13562e3e359b68d795234\"}]}, \"public\": true, \"created_at\": \"2018-01-01T15:00:08Z\"}\n",
      "{\"id\": \"7045119079\", \"type\": \"PushEvent\", \"actor\": {\"id\": 1616850, \"login\": \"HenrikBengtsson\", \"display_login\": \"HenrikBengtsson\", \"gravatar_id\": \"\", \"url\": \"https://api.github.com/users/HenrikBengtsson\", \"avatar_url\": \"https://avatars.githubusercontent.com/u/1616850?\"}, \"repo\": {\"id\": 94832006, \"name\": \"UCSF-TI/TIPCC-slash\", \"url\": \"https://api.github.com/repos/UCSF-TI/TIPCC-slash\"}, \"payload\": {\"push_id\": 2226161709, \"size\": 1, \"distinct_size\": 1, \"ref\": \"refs/heads/master\", \"head\": \"9d54ec1976cc269a3a2fad3e3d86a77fe64e6770\", \"before\": \"6eb0a17f733624e4536ff73110c7cb50e0a9448b\", \"commits\": [{\"sha\": \"9d54ec1976cc269a3a2fad3e3d86a77fe64e6770\", \"author\": {\"name\": \"hb\", \"email\": \"97a26178972a16384b537a7180900cf940ee5c82@aroma-project.org\"}, \"message\": \"STATUS: Updated figures\", \"distinct\": true, \"url\": \"https://api.github.com/repos/UCSF-TI/TIPCC-slash/commits/9d54ec1976cc269a3a2fad3e3d86a77fe64e6770\"}]}, \"public\": true, \"created_at\": \"2018-01-01T15:00:08Z\", \"org\": {\"id\": 14284214, \"login\": \"UCSF-TI\", \"gravatar_id\": \"\", \"url\": \"https://api.github.com/orgs/UCSF-TI\", \"avatar_url\": \"https://avatars.githubusercontent.com/u/14284214?\"}}\n",
      "{\"id\": \"7045119081\", \"type\": \"IssueCommentEvent\", \"actor\": {\"id\": 12693984, \"login\": \"everypoliticianbot\", \"display_login\": \"everypoliticianbot\", \"gravatar_id\": \"\", \"url\": \"https://api.github.com/users/everypoliticianbot\", \"avatar_url\": \"https://avatars.githubusercontent.com/u/12693984?\"}, \"repo\": {\"id\": 34725861, \"name\": \"everypolitician/everypolitician-data\", \"url\": \"https://api.github.com/repos/everypolitician/everypolitician-data\"}, \"payload\": {\"action\": \"created\", \"issue\": {\"url\": \"https://api.github.com/repos/everypolitician/everypolitician-data/issues/70431\", \"repository_url\": \"https://api.github.com/repos/everypolitician/everypolitician-data\", \"labels_url\": \"https://api.github.com/repos/everypolitician/everypolitician-data/issues/70431/labels{/name}\", \"comments_url\": \"https://api.github.com/repos/everypolitician/everypolitician-data/issues/70431/comments\", \"events_url\": \"https://api.github.com/repos/everypolitician/everypolitician-data/issues/70431/events\", \"html_url\": \"https://github.com/everypolitician/everypolitician-data/pull/70431\", \"id\": 284540915, \"number\": 70431, \"title\": \"New Zealand (New Zealand Parliament): refresh wikidata\", \"user\": {\"login\": \"everypoliticianbot\", \"id\": 12693984, \"avatar_url\": \"https://avatars3.githubusercontent.com/u/12693984?v=4\", \"gravatar_id\": \"\", \"url\": \"https://api.github.com/users/everypoliticianbot\", \"html_url\": \"https://github.com/everypoliticianbot\", \"followers_url\": \"https://api.github.com/users/everypoliticianbot/followers\", \"following_url\": \"https://api.github.com/users/everypoliticianbot/following{/other_user}\", \"gists_url\": \"https://api.github.com/users/everypoliticianbot/gists{/gist_id}\", \"starred_url\": \"https://api.github.com/users/everypoliticianbot/starred{/owner}{/repo}\", \"subscriptions_url\": \"https://api.github.com/users/everypoliticianbot/subscriptions\", \"organizations_url\": \"https://api.github.com/users/everypoliticianbot/orgs\", \"repos_url\": \"https://api.github.com/users/everypoliticianbot/repos\", \"events_url\": \"https://api.github.com/users/everypoliticianbot/events{/privacy}\", \"received_events_url\": \"https://api.github.com/users/everypoliticianbot/received_events\", \"type\": \"User\", \"site_admin\": false}, \"labels\": [], \"state\": \"open\", \"locked\": false, \"assignee\": null, \"assignees\": [], \"milestone\": null, \"comments\": 1, \"created_at\": \"2017-12-26T11:24:31Z\", \"updated_at\": \"2018-01-01T15:00:08Z\", \"closed_at\": null, \"author_association\": \"OWNER\", \"pull_request\": {\"url\": \"https://api.github.com/repos/everypolitician/everypolitician-data/pulls/70431\", \"html_url\": \"https://github.com/everypolitician/everypolitician-data/pull/70431\", \"diff_url\": \"https://github.com/everypolitician/everypolitician-data/pull/70431.diff\", \"patch_url\": \"https://github.com/everypolitician/everypolitician-data/pull/70431.patch\"}, \"body\": \"Automated refresh of wikidata for New Zealand - New Zealand Parliament\\n\\n#### Output\\n\\n```\\nSwitched to a new branch 'new-zealand-house-1514287308'\\nAdd memberships from sources/archive/official-51.csv\\nAdd memberships from sources/morph/official-52.csv\\nAdd memberships from sources/morph/wikipedia.csv\\nMerging with sources/morph/wikidata.csv\\nData Mismatches\\n* 2 of 265 unmatched\\n\\t{:id=>\\\"Q42291428\\\", :name=>\\\"Angie Warren-Clark\\\"}\\n\\t{:id=>\\\"Q41689955\\\", :name=>\\\"Golriz Ghahraman\\\"}\\nMerging with sources/morph/genderbalance.csv\\nMerging with sources/morph/twitter.csv\\nData Mismatches\\n* 4 of 140 unmatched\\n\\t{:id=>\\\"858143732884885504\\\", :name=>\\\"Angela Warren-Clark\\\"}\\n\\t{:id=>\\\"923113113641275392\\\", :name=>\\\"Ron Mark MP\\\"}\\n\\t{:id=>\\\"920748947764789248\\\", :name=>\\\"Ron Mark\\\"}\\n\\t{:id=>\\\"870447381006868480\\\", :name=>\\\"Golriz Ghahraman\\\"}\\nDiscarding duplicate membership: {:person_id=>\\\"cbf2d6c4-9fb4-48f1-9926-7265e8c66e39\\\", :organization_id=>\\\"62672598-bda6-4574-a402-cf9ffafa46e9\\\", :role=>\\\"member\\\", :on_behalf_of_id=>\\\"party/new_zealand_national_party\\\", :area_id=>\\\"area/list\\\", :legislative_period_id=>\\\"term/49\\\"}\\nDiscarding duplicate membership: {:person_id=>\\\"517a3527-a103-4385-add3-5710b2e3be25\\\", :organization_id=>\\\"62672598-bda6-4574-a402-cf9ffafa46e9\\\", :role=>\\\"member\\\", :on_behalf_of_id=>\\\"party/new_zealand_national_party\\\", :area_id=>\\\"area/list\\\", :legislative_period_id=>\\\"term/50\\\"}\\nParty maori_party not in Popolo\\n\\nTop identifiers:\\n  263 x wikidata\\n  57 x viaf\\n  56 x freebase\\n  32 x lcauth\\n  11 x isni\\n\\nCreating names.csv\\n  \\u2607 No dates for Amy Adams (Q4451142) as Minister of Justice\\n  \\u2607 No dates for Clem Simich (Q5131196) as Minister of Corrections\\n  \\u2607 No dates for Damien O'Connor (Q5212493) as Minister of Corrections\\n  \\u2607 No dates for Anne Tolley (Q540420) as Minister of Corrections\\n  \\u2607 No dates for Lockwood Smith (Q5978615) as Minister of Education\\n  \\u2607 No dates for Judith Collins (Q6303349) as Minister of Corrections\\n  \\u2607 No dates for Judith Collins (Q6303349) as Minister of Justice\\n  \\u2607 No dates for Paula Bennett (Q6416051) as Minister of Social Development\\n  \\u2607 No dates for Mark Burton (Q6766942) as Minister of Justice\\n  \\u2607 No dates for Paul Swain (Q7153883) as Minister of Corrections\\n  \\u2607 No dates for Peseta Sam Lotu-Iiga (Q7407811) as Minister of Corrections\\n  \\u2607 No dates for Tony Ryall (Q7823330) as Minister of Justice\\n  \\u2607 No dates for Nick Smith (Q976339) as Minister of Corrections\\nPersons matched to Wikidata: 263 \\u2713 | 1 \\u2718\\n  No wikidata: Shane Jones (69cb44a5-0dc2-4d6c-bec8-256520f94156)\\nParties matched to Wikidata: 23 \\u2713 \\nAreas matched to Wikidata: 79 \\u2713 | 20 \\u2718\\n  No wikidata: Rangitikei (area/rangitikei)\\n  No wikidata: X-05Te Tai Tokerau (area/x-05te_tai_tokerau)\\n  No wikidata: X-03T\\u0101maki Makaurau (area/x-03t\\u0101maki_makaurau)\\n  No wikidata: Mount Roskill (area/mount_roskill)\\n  No wikidata: Tamaki (area/tamaki)\\n[new-zealand-house-1514287308 a18b796] New Zealand: Refresh from upstream changes\\n 2 files changed, 12 insertions(+)\\n\\n```\"}, \"comment\": {\"url\": \"https://api.github.com/repos/everypolitician/everypolitician-data/issues/comments/354657567\", \"html_url\": \"https://github.com/everypolitician/everypolitician-data/pull/70431#issuecomment-354657567\", \"issue_url\": \"https://api.github.com/repos/everypolitician/everypolitician-data/issues/70431\", \"id\": 354657567, \"user\": {\"login\": \"everypoliticianbot\", \"id\": 12693984, \"avatar_url\": \"https://avatars3.githubusercontent.com/u/12693984?v=4\", \"gravatar_id\": \"\", \"url\": \"https://api.github.com/users/everypoliticianbot\", \"html_url\": \"https://github.com/everypoliticianbot\", \"followers_url\": \"https://api.github.com/users/everypoliticianbot/followers\", \"following_url\": \"https://api.github.com/users/everypoliticianbot/following{/other_user}\", \"gists_url\": \"https://api.github.com/users/everypoliticianbot/gists{/gist_id}\", \"starred_url\": \"https://api.github.com/users/everypoliticianbot/starred{/owner}{/repo}\", \"subscriptions_url\": \"https://api.github.com/users/everypoliticianbot/subscriptions\", \"organizations_url\": \"https://api.github.com/users/everypoliticianbot/orgs\", \"repos_url\": \"https://api.github.com/users/everypoliticianbot/repos\", \"events_url\": \"https://api.github.com/users/everypoliticianbot/events{/privacy}\", \"received_events_url\": \"https://api.github.com/users/everypoliticianbot/received_events\", \"type\": \"User\", \"site_admin\": false}, \"created_at\": \"2018-01-01T15:00:08Z\", \"updated_at\": \"2018-01-01T15:00:08Z\", \"author_association\": \"OWNER\", \"body\": \"This Pull Request has been superseded by #70570\"}}, \"public\": true, \"created_at\": \"2018-01-01T15:00:08Z\", \"org\": {\"id\": 12497298, \"login\": \"everypolitician\", \"gravatar_id\": \"\", \"url\": \"https://api.github.com/orgs/everypolitician\", \"avatar_url\": \"https://avatars.githubusercontent.com/u/12497298?\"}}\n",
      "{\"id\": \"7045119086\", \"type\": \"PushEvent\", \"actor\": {\"id\": 26699002, \"login\": \"YoshihisaSaitou\", \"display_login\": \"YoshihisaSaitou\", \"gravatar_id\": \"\", \"url\": \"https://api.github.com/users/YoshihisaSaitou\", \"avatar_url\": \"https://avatars.githubusercontent.com/u/26699002?\"}, \"repo\": {\"id\": 108867753, \"name\": \"YoshihisaSaitou/form-create\", \"url\": \"https://api.github.com/repos/YoshihisaSaitou/form-create\"}, \"payload\": {\"push_id\": 2226161713, \"size\": 1, \"distinct_size\": 1, \"ref\": \"refs/heads/master\", \"head\": \"66e7600734312203423c1825f90d00bab9747074\", \"before\": \"b7702369f3967bbbbd303d02eba646f51d20638f\", \"commits\": [{\"sha\": \"66e7600734312203423c1825f90d00bab9747074\", \"author\": {\"name\": \"Saitou Yoshihisa\", \"email\": \"81a40bc8c813367cc19b6d1f33cccb492ec04339@yahoo.co.jp\"}, \"message\": \"edit\", \"distinct\": true, \"url\": \"https://api.github.com/repos/YoshihisaSaitou/form-create/commits/66e7600734312203423c1825f90d00bab9747074\"}]}, \"public\": true, \"created_at\": \"2018-01-01T15:00:08Z\"}\n",
      "{\"id\": \"7045119087\", \"type\": \"PushEvent\", \"actor\": {\"id\": 8517910, \"login\": \"LombiqBot\", \"display_login\": \"LombiqBot\", \"gravatar_id\": \"\", \"url\": \"https://api.github.com/users/LombiqBot\", \"avatar_url\": \"https://avatars.githubusercontent.com/u/8517910?\"}, \"repo\": {\"id\": 31613827, \"name\": \"Lombiq/Orchard-Azure-Application-Insights\", \"url\": \"https://api.github.com/repos/Lombiq/Orchard-Azure-Application-Insights\"}, \"payload\": {\"push_id\": 2226161714, \"size\": 0, \"distinct_size\": 0, \"ref\": \"refs/heads/Orchard-1.9\", \"head\": \"30fbb8b0e298629fe623453890592fa1892525e1\", \"before\": \"30fbb8b0e298629fe623453890592fa1892525e1\", \"commits\": []}, \"public\": true, \"created_at\": \"2018-01-01T15:00:08Z\", \"org\": {\"id\": 8158177, \"login\": \"Lombiq\", \"gravatar_id\": \"\", \"url\": \"https://api.github.com/orgs/Lombiq\", \"avatar_url\": \"https://avatars.githubusercontent.com/u/8158177?\"}}\n",
      "{\"id\": \"7045119091\", \"type\": \"PushEvent\", \"actor\": {\"id\": 822090, \"login\": \"Jaex\", \"display_login\": \"Jaex\", \"gravatar_id\": \"\", \"url\": \"https://api.github.com/users/Jaex\", \"avatar_url\": \"https://avatars.githubusercontent.com/u/822090?\"}, \"repo\": {\"id\": 13428264, \"name\": \"ShareX/ShareX\", \"url\": \"https://api.github.com/repos/ShareX/ShareX\"}, \"payload\": {\"push_id\": 2226161717, \"size\": 2, \"distinct_size\": 2, \"ref\": \"refs/heads/master\", \"head\": \"e81176a8398993d3208f9ca83b0422f6e53ef48d\", \"before\": \"66eae080b4de54ba714db4246d0891903977a15a\", \"commits\": [{\"sha\": \"b463a165679441171b2b924e5e9bd5042ea950cd\", \"author\": {\"name\": \"Jaex\", \"email\": \"832ba94efbf46ed90aa0bcb9184510b7459c050d@users.noreply.github.com\"}, \"message\": \"Update year\", \"distinct\": true, \"url\": \"https://api.github.com/repos/ShareX/ShareX/commits/b463a165679441171b2b924e5e9bd5042ea950cd\"}, {\"sha\": \"e81176a8398993d3208f9ca83b0422f6e53ef48d\", \"author\": {\"name\": \"Jaex\", \"email\": \"832ba94efbf46ed90aa0bcb9184510b7459c050d@users.noreply.github.com\"}, \"message\": \"Merge branch 'master' of github.com:ShareX/ShareX\", \"distinct\": true, \"url\": \"https://api.github.com/repos/ShareX/ShareX/commits/e81176a8398993d3208f9ca83b0422f6e53ef48d\"}]}, \"public\": true, \"created_at\": \"2018-01-01T15:00:08Z\", \"org\": {\"id\": 5548736, \"login\": \"ShareX\", \"gravatar_id\": \"\", \"url\": \"https://api.github.com/orgs/ShareX\", \"avatar_url\": \"https://avatars.githubusercontent.com/u/5548736?\"}}\n",
      "{\"id\": \"7045119093\", \"type\": \"PushEvent\", \"actor\": {\"id\": 4039449, \"login\": \"samuelcolvin\", \"display_login\": \"samuelcolvin\", \"gravatar_id\": \"\", \"url\": \"https://api.github.com/users/samuelcolvin\", \"avatar_url\": \"https://avatars.githubusercontent.com/u/4039449?\"}, \"repo\": {\"id\": 68917117, \"name\": \"aio-libs/aiohttp-devtools\", \"url\": \"https://api.github.com/repos/aio-libs/aiohttp-devtools\"}, \"payload\": {\"push_id\": 2226161721, \"size\": 1, \"distinct_size\": 1, \"ref\": \"refs/heads/pyup-scheduled-update-01-01-2018\", \"head\": \"1ba778e33bc01403c75477665ca508b514deb3db\", \"before\": \"9484f492a0e5eb47de5383c506f45467ff07bbc9\", \"commits\": [{\"sha\": \"1ba778e33bc01403c75477665ca508b514deb3db\", \"author\": {\"name\": \"pyup-bot\", \"email\": \"014ca7bb507255f115360f46141ad318dcf61352@pyup.io\"}, \"message\": \"Update aiohttp from 2.3.1 to 2.3.7\", \"distinct\": true, \"url\": \"https://api.github.com/repos/aio-libs/aiohttp-devtools/commits/1ba778e33bc01403c75477665ca508b514deb3db\"}]}, \"public\": true, \"created_at\": \"2018-01-01T15:00:08Z\", \"org\": {\"id\": 7049303, \"login\": \"aio-libs\", \"gravatar_id\": \"\", \"url\": \"https://api.github.com/orgs/aio-libs\", \"avatar_url\": \"https://avatars.githubusercontent.com/u/7049303?\"}}\n",
      "{\"id\": \"7045119094\", \"type\": \"WatchEvent\", \"actor\": {\"id\": 8772188, \"login\": \"jdgcs\", \"display_login\": \"jdgcs\", \"gravatar_id\": \"\", \"url\": \"https://api.github.com/users/jdgcs\", \"avatar_url\": \"https://avatars.githubusercontent.com/u/8772188?\"}, \"repo\": {\"id\": 72082040, \"name\": \"mbevand/silentarmy\", \"url\": \"https://api.github.com/repos/mbevand/silentarmy\"}, \"payload\": {\"action\": \"started\"}, \"public\": true, \"created_at\": \"2018-01-01T15:00:08Z\"}\n",
      "{\"id\": \"7045119098\", \"type\": \"WatchEvent\", \"actor\": {\"id\": 15092932, \"login\": \"Ahmed-Ayman\", \"display_login\": \"Ahmed-Ayman\", \"gravatar_id\": \"\", \"url\": \"https://api.github.com/users/Ahmed-Ayman\", \"avatar_url\": \"https://avatars.githubusercontent.com/u/15092932?\"}, \"repo\": {\"id\": 7607075, \"name\": \"CamDavidsonPilon/Probabilistic-Programming-and-Bayesian-Methods-for-Hackers\", \"url\": \"https://api.github.com/repos/CamDavidsonPilon/Probabilistic-Programming-and-Bayesian-Methods-for-Hackers\"}, \"payload\": {\"action\": \"started\"}, \"public\": true, \"created_at\": \"2018-01-01T15:00:08Z\"}\n",
      "{\"id\": \"7045119099\", \"type\": \"PushEvent\", \"actor\": {\"id\": 10363868, \"login\": \"coded-aesthetics\", \"display_login\": \"coded-aesthetics\", \"gravatar_id\": \"\", \"url\": \"https://api.github.com/users/coded-aesthetics\", \"avatar_url\": \"https://avatars.githubusercontent.com/u/10363868?\"}, \"repo\": {\"id\": 114111602, \"name\": \"coded-aesthetics/messdaten-test3\", \"url\": \"https://api.github.com/repos/coded-aesthetics/messdaten-test3\"}, \"payload\": {\"push_id\": 2226161723, \"size\": 1, \"distinct_size\": 1, \"ref\": \"refs/heads/master\", \"head\": \"3b683ab9141fa9d11daf47fe7482ac272f5b68e5\", \"before\": \"948c57020804539cf7180e3f1bbb4f25ac77ef6a\", \"commits\": [{\"sha\": \"3b683ab9141fa9d11daf47fe7482ac272f5b68e5\", \"author\": {\"name\": \"Jan Reinsch\", \"email\": \"14e793d896ddc8ca6911747228e86464cf420065@coded-aesthetics.com\"}, \"message\": \"added data\", \"distinct\": true, \"url\": \"https://api.github.com/repos/coded-aesthetics/messdaten-test3/commits/3b683ab9141fa9d11daf47fe7482ac272f5b68e5\"}]}, \"public\": true, \"created_at\": \"2018-01-01T15:00:08Z\"}\n",
      "{\"id\": \"7045119100\", \"type\": \"PullRequestEvent\", \"actor\": {\"id\": 12693984, \"login\": \"everypoliticianbot\", \"display_login\": \"everypoliticianbot\", \"gravatar_id\": \"\", \"url\": \"https://api.github.com/users/everypoliticianbot\", \"avatar_url\": \"https://avatars.githubusercontent.com/u/12693984?\"}, \"repo\": {\"id\": 34725861, \"name\": \"everypolitician/everypolitician-data\", \"url\": \"https://api.github.com/repos/everypolitician/everypolitician-data\"}, \"payload\": {\"action\": \"closed\", \"number\": 70431, \"pull_request\": {\"url\": \"https://api.github.com/repos/everypolitician/everypolitician-data/pulls/70431\", \"id\": 160118226, \"html_url\": \"https://github.com/everypolitician/everypolitician-data/pull/70431\", \"diff_url\": \"https://github.com/everypolitician/everypolitician-data/pull/70431.diff\", \"patch_url\": \"https://github.com/everypolitician/everypolitician-data/pull/70431.patch\", \"issue_url\": \"https://api.github.com/repos/everypolitician/everypolitician-data/issues/70431\", \"number\": 70431, \"state\": \"closed\", \"locked\": false, \"title\": \"New Zealand (New Zealand Parliament): refresh wikidata\", \"user\": {\"login\": \"everypoliticianbot\", \"id\": 12693984, \"avatar_url\": \"https://avatars3.githubusercontent.com/u/12693984?v=4\", \"gravatar_id\": \"\", \"url\": \"https://api.github.com/users/everypoliticianbot\", \"html_url\": \"https://github.com/everypoliticianbot\", \"followers_url\": \"https://api.github.com/users/everypoliticianbot/followers\", \"following_url\": \"https://api.github.com/users/everypoliticianbot/following{/other_user}\", \"gists_url\": \"https://api.github.com/users/everypoliticianbot/gists{/gist_id}\", \"starred_url\": \"https://api.github.com/users/everypoliticianbot/starred{/owner}{/repo}\", \"subscriptions_url\": \"https://api.github.com/users/everypoliticianbot/subscriptions\", \"organizations_url\": \"https://api.github.com/users/everypoliticianbot/orgs\", \"repos_url\": \"https://api.github.com/users/everypoliticianbot/repos\", \"events_url\": \"https://api.github.com/users/everypoliticianbot/events{/privacy}\", \"received_events_url\": \"https://api.github.com/users/everypoliticianbot/received_events\", \"type\": \"User\", \"site_admin\": false}, \"body\": \"Automated refresh of wikidata for New Zealand - New Zealand Parliament\\n\\n#### Output\\n\\n```\\nSwitched to a new branch 'new-zealand-house-1514287308'\\nAdd memberships from sources/archive/official-51.csv\\nAdd memberships from sources/morph/official-52.csv\\nAdd memberships from sources/morph/wikipedia.csv\\nMerging with sources/morph/wikidata.csv\\nData Mismatches\\n* 2 of 265 unmatched\\n\\t{:id=>\\\"Q42291428\\\", :name=>\\\"Angie Warren-Clark\\\"}\\n\\t{:id=>\\\"Q41689955\\\", :name=>\\\"Golriz Ghahraman\\\"}\\nMerging with sources/morph/genderbalance.csv\\nMerging with sources/morph/twitter.csv\\nData Mismatches\\n* 4 of 140 unmatched\\n\\t{:id=>\\\"858143732884885504\\\", :name=>\\\"Angela Warren-Clark\\\"}\\n\\t{:id=>\\\"923113113641275392\\\", :name=>\\\"Ron Mark MP\\\"}\\n\\t{:id=>\\\"920748947764789248\\\", :name=>\\\"Ron Mark\\\"}\\n\\t{:id=>\\\"870447381006868480\\\", :name=>\\\"Golriz Ghahraman\\\"}\\nDiscarding duplicate membership: {:person_id=>\\\"cbf2d6c4-9fb4-48f1-9926-7265e8c66e39\\\", :organization_id=>\\\"62672598-bda6-4574-a402-cf9ffafa46e9\\\", :role=>\\\"member\\\", :on_behalf_of_id=>\\\"party/new_zealand_national_party\\\", :area_id=>\\\"area/list\\\", :legislative_period_id=>\\\"term/49\\\"}\\nDiscarding duplicate membership: {:person_id=>\\\"517a3527-a103-4385-add3-5710b2e3be25\\\", :organization_id=>\\\"62672598-bda6-4574-a402-cf9ffafa46e9\\\", :role=>\\\"member\\\", :on_behalf_of_id=>\\\"party/new_zealand_national_party\\\", :area_id=>\\\"area/list\\\", :legislative_period_id=>\\\"term/50\\\"}\\nParty maori_party not in Popolo\\n\\nTop identifiers:\\n  263 x wikidata\\n  57 x viaf\\n  56 x freebase\\n  32 x lcauth\\n  11 x isni\\n\\nCreating names.csv\\n  \\u2607 No dates for Amy Adams (Q4451142) as Minister of Justice\\n  \\u2607 No dates for Clem Simich (Q5131196) as Minister of Corrections\\n  \\u2607 No dates for Damien O'Connor (Q5212493) as Minister of Corrections\\n  \\u2607 No dates for Anne Tolley (Q540420) as Minister of Corrections\\n  \\u2607 No dates for Lockwood Smith (Q5978615) as Minister of Education\\n  \\u2607 No dates for Judith Collins (Q6303349) as Minister of Corrections\\n  \\u2607 No dates for Judith Collins (Q6303349) as Minister of Justice\\n  \\u2607 No dates for Paula Bennett (Q6416051) as Minister of Social Development\\n  \\u2607 No dates for Mark Burton (Q6766942) as Minister of Justice\\n  \\u2607 No dates for Paul Swain (Q7153883) as Minister of Corrections\\n  \\u2607 No dates for Peseta Sam Lotu-Iiga (Q7407811) as Minister of Corrections\\n  \\u2607 No dates for Tony Ryall (Q7823330) as Minister of Justice\\n  \\u2607 No dates for Nick Smith (Q976339) as Minister of Corrections\\nPersons matched to Wikidata: 263 \\u2713 | 1 \\u2718\\n  No wikidata: Shane Jones (69cb44a5-0dc2-4d6c-bec8-256520f94156)\\nParties matched to Wikidata: 23 \\u2713 \\nAreas matched to Wikidata: 79 \\u2713 | 20 \\u2718\\n  No wikidata: Rangitikei (area/rangitikei)\\n  No wikidata: X-05Te Tai Tokerau (area/x-05te_tai_tokerau)\\n  No wikidata: X-03T\\u0101maki Makaurau (area/x-03t\\u0101maki_makaurau)\\n  No wikidata: Mount Roskill (area/mount_roskill)\\n  No wikidata: Tamaki (area/tamaki)\\n[new-zealand-house-1514287308 a18b796] New Zealand: Refresh from upstream changes\\n 2 files changed, 12 insertions(+)\\n\\n```\", \"created_at\": \"2017-12-26T11:24:31Z\", \"updated_at\": \"2018-01-01T15:00:08Z\", \"closed_at\": \"2018-01-01T15:00:08Z\", \"merged_at\": null, \"merge_commit_sha\": \"2c4edc5cc3177ece3f76ddb7782422764ede1964\", \"assignee\": null, \"assignees\": [], \"requested_reviewers\": [], \"milestone\": null, \"commits_url\": \"https://api.github.com/repos/everypolitician/everypolitician-data/pulls/70431/commits\", \"review_comments_url\": \"https://api.github.com/repos/everypolitician/everypolitician-data/pulls/70431/comments\", \"review_comment_url\": \"https://api.github.com/repos/everypolitician/everypolitician-data/pulls/comments{/number}\", \"comments_url\": \"https://api.github.com/repos/everypolitician/everypolitician-data/issues/70431/comments\", \"statuses_url\": \"https://api.github.com/repos/everypolitician/everypolitician-data/statuses/a18b796320408729206b415daa39c685127a9041\", \"head\": {\"label\": \"everypolitician:new-zealand-house-1514287308\", \"ref\": \"new-zealand-house-1514287308\", \"sha\": \"a18b796320408729206b415daa39c685127a9041\", \"user\": {\"login\": \"everypolitician\", \"id\": 12497298, \"avatar_url\": \"https://avatars2.githubusercontent.com/u/12497298?v=4\", \"gravatar_id\": \"\", \"url\": \"https://api.github.com/users/everypolitician\", \"html_url\": \"https://github.com/everypolitician\", \"followers_url\": \"https://api.github.com/users/everypolitician/followers\", \"following_url\": \"https://api.github.com/users/everypolitician/following{/other_user}\", \"gists_url\": \"https://api.github.com/users/everypolitician/gists{/gist_id}\", \"starred_url\": \"https://api.github.com/users/everypolitician/starred{/owner}{/repo}\", \"subscriptions_url\": \"https://api.github.com/users/everypolitician/subscriptions\", \"organizations_url\": \"https://api.github.com/users/everypolitician/orgs\", \"repos_url\": \"https://api.github.com/users/everypolitician/repos\", \"events_url\": \"https://api.github.com/users/everypolitician/events{/privacy}\", \"received_events_url\": \"https://api.github.com/users/everypolitician/received_events\", \"type\": \"Organization\", \"site_admin\": false}, \"repo\": {\"id\": 34725861, \"name\": \"everypolitician-data\", \"full_name\": \"everypolitician/everypolitician-data\", \"owner\": {\"login\": \"everypolitician\", \"id\": 12497298, \"avatar_url\": \"https://avatars2.githubusercontent.com/u/12497298?v=4\", \"gravatar_id\": \"\", \"url\": \"https://api.github.com/users/everypolitician\", \"html_url\": \"https://github.com/everypolitician\", \"followers_url\": \"https://api.github.com/users/everypolitician/followers\", \"following_url\": \"https://api.github.com/users/everypolitician/following{/other_user}\", \"gists_url\": \"https://api.github.com/users/everypolitician/gists{/gist_id}\", \"starred_url\": \"https://api.github.com/users/everypolitician/starred{/owner}{/repo}\", \"subscriptions_url\": \"https://api.github.com/users/everypolitician/subscriptions\", \"organizations_url\": \"https://api.github.com/users/everypolitician/orgs\", \"repos_url\": \"https://api.github.com/users/everypolitician/repos\", \"events_url\": \"https://api.github.com/users/everypolitician/events{/privacy}\", \"received_events_url\": \"https://api.github.com/users/everypolitician/received_events\", \"type\": \"Organization\", \"site_admin\": false}, \"private\": false, \"html_url\": \"https://github.com/everypolitician/everypolitician-data\", \"description\": \"EveryPolitician's core data store\", \"fork\": false, \"url\": \"https://api.github.com/repos/everypolitician/everypolitician-data\", \"forks_url\": \"https://api.github.com/repos/everypolitician/everypolitician-data/forks\", \"keys_url\": \"https://api.github.com/repos/everypolitician/everypolitician-data/keys{/key_id}\", \"collaborators_url\": \"https://api.github.com/repos/everypolitician/everypolitician-data/collaborators{/collaborator}\", \"teams_url\": \"https://api.github.com/repos/everypolitician/everypolitician-data/teams\", \"hooks_url\": \"https://api.github.com/repos/everypolitician/everypolitician-data/hooks\", \"issue_events_url\": \"https://api.github.com/repos/everypolitician/everypolitician-data/issues/events{/number}\", \"events_url\": \"https://api.github.com/repos/everypolitician/everypolitician-data/events\", \"assignees_url\": \"https://api.github.com/repos/everypolitician/everypolitician-data/assignees{/user}\", \"branches_url\": \"https://api.github.com/repos/everypolitician/everypolitician-data/branches{/branch}\", \"tags_url\": \"https://api.github.com/repos/everypolitician/everypolitician-data/tags\", \"blobs_url\": \"https://api.github.com/repos/everypolitician/everypolitician-data/git/blobs{/sha}\", \"git_tags_url\": \"https://api.github.com/repos/everypolitician/everypolitician-data/git/tags{/sha}\", \"git_refs_url\": \"https://api.github.com/repos/everypolitician/everypolitician-data/git/refs{/sha}\", \"trees_url\": \"https://api.github.com/repos/everypolitician/everypolitician-data/git/trees{/sha}\", \"statuses_url\": \"https://api.github.com/repos/everypolitician/everypolitician-data/statuses/{sha}\", \"languages_url\": \"https://api.github.com/repos/everypolitician/everypolitician-data/languages\", \"stargazers_url\": \"https://api.github.com/repos/everypolitician/everypolitician-data/stargazers\", \"contributors_url\": \"https://api.github.com/repos/everypolitician/everypolitician-data/contributors\", \"subscribers_url\": \"https://api.github.com/repos/everypolitician/everypolitician-data/subscribers\", \"subscription_url\": \"https://api.github.com/repos/everypolitician/everypolitician-data/subscription\", \"commits_url\": \"https://api.github.com/repos/everypolitician/everypolitician-data/commits{/sha}\", \"git_commits_url\": \"https://api.github.com/repos/everypolitician/everypolitician-data/git/commits{/sha}\", \"comments_url\": \"https://api.github.com/repos/everypolitician/everypolitician-data/comments{/number}\", \"issue_comment_url\": \"https://api.github.com/repos/everypolitician/everypolitician-data/issues/comments{/number}\", \"contents_url\": \"https://api.github.com/repos/everypolitician/everypolitician-data/contents/{+path}\", \"compare_url\": \"https://api.github.com/repos/everypolitician/everypolitician-data/compare/{base}...{head}\", \"merges_url\": \"https://api.github.com/repos/everypolitician/everypolitician-data/merges\", \"archive_url\": \"https://api.github.com/repos/everypolitician/everypolitician-data/{archive_format}{/ref}\", \"downloads_url\": \"https://api.github.com/repos/everypolitician/everypolitician-data/downloads\", \"issues_url\": \"https://api.github.com/repos/everypolitician/everypolitician-data/issues{/number}\", \"pulls_url\": \"https://api.github.com/repos/everypolitician/everypolitician-data/pulls{/number}\", \"milestones_url\": \"https://api.github.com/repos/everypolitician/everypolitician-data/milestones{/number}\", \"notifications_url\": \"https://api.github.com/repos/everypolitician/everypolitician-data/notifications{?since,all,participating}\", \"labels_url\": \"https://api.github.com/repos/everypolitician/everypolitician-data/labels{/name}\", \"releases_url\": \"https://api.github.com/repos/everypolitician/everypolitician-data/releases{/id}\", \"deployments_url\": \"https://api.github.com/repos/everypolitician/everypolitician-data/deployments\", \"created_at\": \"2015-04-28T11:10:07Z\", \"updated_at\": \"2017-12-10T22:13:25Z\", \"pushed_at\": \"2018-01-01T14:59:44Z\", \"git_url\": \"git://github.com/everypolitician/everypolitician-data.git\", \"ssh_url\": \"git@github.com:everypolitician/everypolitician-data.git\", \"clone_url\": \"https://github.com/everypolitician/everypolitician-data.git\", \"svn_url\": \"https://github.com/everypolitician/everypolitician-data\", \"homepage\": \"http://everypolitician.org/\", \"size\": 1599623, \"stargazers_count\": 93, \"watchers_count\": 93, \"language\": \"Ruby\", \"has_issues\": true, \"has_projects\": true, \"has_downloads\": true, \"has_wiki\": false, \"has_pages\": false, \"forks_count\": 17, \"mirror_url\": null, \"archived\": false, \"open_issues_count\": 614, \"license\": null, \"forks\": 17, \"open_issues\": 614, \"watchers\": 93, \"default_branch\": \"master\"}}, \"base\": {\"label\": \"everypolitician:master\", \"ref\": \"master\", \"sha\": \"c4a80e8f6d3ceaf07dcdb4c3c9ab85f1feeace9f\", \"user\": {\"login\": \"everypolitician\", \"id\": 12497298, \"avatar_url\": \"https://avatars2.githubusercontent.com/u/12497298?v=4\", \"gravatar_id\": \"\", \"url\": \"https://api.github.com/users/everypolitician\", \"html_url\": \"https://github.com/everypolitician\", \"followers_url\": \"https://api.github.com/users/everypolitician/followers\", \"following_url\": \"https://api.github.com/users/everypolitician/following{/other_user}\", \"gists_url\": \"https://api.github.com/users/everypolitician/gists{/gist_id}\", \"starred_url\": \"https://api.github.com/users/everypolitician/starred{/owner}{/repo}\", \"subscriptions_url\": \"https://api.github.com/users/everypolitician/subscriptions\", \"organizations_url\": \"https://api.github.com/users/everypolitician/orgs\", \"repos_url\": \"https://api.github.com/users/everypolitician/repos\", \"events_url\": \"https://api.github.com/users/everypolitician/events{/privacy}\", \"received_events_url\": \"https://api.github.com/users/everypolitician/received_events\", \"type\": \"Organization\", \"site_admin\": false}, \"repo\": {\"id\": 34725861, \"name\": \"everypolitician-data\", \"full_name\": \"everypolitician/everypolitician-data\", \"owner\": {\"login\": \"everypolitician\", \"id\": 12497298, \"avatar_url\": \"https://avatars2.githubusercontent.com/u/12497298?v=4\", \"gravatar_id\": \"\", \"url\": \"https://api.github.com/users/everypolitician\", \"html_url\": \"https://github.com/everypolitician\", \"followers_url\": \"https://api.github.com/users/everypolitician/followers\", \"following_url\": \"https://api.github.com/users/everypolitician/following{/other_user}\", \"gists_url\": \"https://api.github.com/users/everypolitician/gists{/gist_id}\", \"starred_url\": \"https://api.github.com/users/everypolitician/starred{/owner}{/repo}\", \"subscriptions_url\": \"https://api.github.com/users/everypolitician/subscriptions\", \"organizations_url\": \"https://api.github.com/users/everypolitician/orgs\", \"repos_url\": \"https://api.github.com/users/everypolitician/repos\", \"events_url\": \"https://api.github.com/users/everypolitician/events{/privacy}\", \"received_events_url\": \"https://api.github.com/users/everypolitician/received_events\", \"type\": \"Organization\", \"site_admin\": false}, \"private\": false, \"html_url\": \"https://github.com/everypolitician/everypolitician-data\", \"description\": \"EveryPolitician's core data store\", \"fork\": false, \"url\": \"https://api.github.com/repos/everypolitician/everypolitician-data\", \"forks_url\": \"https://api.github.com/repos/everypolitician/everypolitician-data/forks\", \"keys_url\": \"https://api.github.com/repos/everypolitician/everypolitician-data/keys{/key_id}\", \"collaborators_url\": \"https://api.github.com/repos/everypolitician/everypolitician-data/collaborators{/collaborator}\", \"teams_url\": \"https://api.github.com/repos/everypolitician/everypolitician-data/teams\", \"hooks_url\": \"https://api.github.com/repos/everypolitician/everypolitician-data/hooks\", \"issue_events_url\": \"https://api.github.com/repos/everypolitician/everypolitician-data/issues/events{/number}\", \"events_url\": \"https://api.github.com/repos/everypolitician/everypolitician-data/events\", \"assignees_url\": \"https://api.github.com/repos/everypolitician/everypolitician-data/assignees{/user}\", \"branches_url\": \"https://api.github.com/repos/everypolitician/everypolitician-data/branches{/branch}\", \"tags_url\": \"https://api.github.com/repos/everypolitician/everypolitician-data/tags\", \"blobs_url\": \"https://api.github.com/repos/everypolitician/everypolitician-data/git/blobs{/sha}\", \"git_tags_url\": \"https://api.github.com/repos/everypolitician/everypolitician-data/git/tags{/sha}\", \"git_refs_url\": \"https://api.github.com/repos/everypolitician/everypolitician-data/git/refs{/sha}\", \"trees_url\": \"https://api.github.com/repos/everypolitician/everypolitician-data/git/trees{/sha}\", \"statuses_url\": \"https://api.github.com/repos/everypolitician/everypolitician-data/statuses/{sha}\", \"languages_url\": \"https://api.github.com/repos/everypolitician/everypolitician-data/languages\", \"stargazers_url\": \"https://api.github.com/repos/everypolitician/everypolitician-data/stargazers\", \"contributors_url\": \"https://api.github.com/repos/everypolitician/everypolitician-data/contributors\", \"subscribers_url\": \"https://api.github.com/repos/everypolitician/everypolitician-data/subscribers\", \"subscription_url\": \"https://api.github.com/repos/everypolitician/everypolitician-data/subscription\", \"commits_url\": \"https://api.github.com/repos/everypolitician/everypolitician-data/commits{/sha}\", \"git_commits_url\": \"https://api.github.com/repos/everypolitician/everypolitician-data/git/commits{/sha}\", \"comments_url\": \"https://api.github.com/repos/everypolitician/everypolitician-data/comments{/number}\", \"issue_comment_url\": \"https://api.github.com/repos/everypolitician/everypolitician-data/issues/comments{/number}\", \"contents_url\": \"https://api.github.com/repos/everypolitician/everypolitician-data/contents/{+path}\", \"compare_url\": \"https://api.github.com/repos/everypolitician/everypolitician-data/compare/{base}...{head}\", \"merges_url\": \"https://api.github.com/repos/everypolitician/everypolitician-data/merges\", \"archive_url\": \"https://api.github.com/repos/everypolitician/everypolitician-data/{archive_format}{/ref}\", \"downloads_url\": \"https://api.github.com/repos/everypolitician/everypolitician-data/downloads\", \"issues_url\": \"https://api.github.com/repos/everypolitician/everypolitician-data/issues{/number}\", \"pulls_url\": \"https://api.github.com/repos/everypolitician/everypolitician-data/pulls{/number}\", \"milestones_url\": \"https://api.github.com/repos/everypolitician/everypolitician-data/milestones{/number}\", \"notifications_url\": \"https://api.github.com/repos/everypolitician/everypolitician-data/notifications{?since,all,participating}\", \"labels_url\": \"https://api.github.com/repos/everypolitician/everypolitician-data/labels{/name}\", \"releases_url\": \"https://api.github.com/repos/everypolitician/everypolitician-data/releases{/id}\", \"deployments_url\": \"https://api.github.com/repos/everypolitician/everypolitician-data/deployments\", \"created_at\": \"2015-04-28T11:10:07Z\", \"updated_at\": \"2017-12-10T22:13:25Z\", \"pushed_at\": \"2018-01-01T14:59:44Z\", \"git_url\": \"git://github.com/everypolitician/everypolitician-data.git\", \"ssh_url\": \"git@github.com:everypolitician/everypolitician-data.git\", \"clone_url\": \"https://github.com/everypolitician/everypolitician-data.git\", \"svn_url\": \"https://github.com/everypolitician/everypolitician-data\", \"homepage\": \"http://everypolitician.org/\", \"size\": 1599623, \"stargazers_count\": 93, \"watchers_count\": 93, \"language\": \"Ruby\", \"has_issues\": true, \"has_projects\": true, \"has_downloads\": true, \"has_wiki\": false, \"has_pages\": false, \"forks_count\": 17, \"mirror_url\": null, \"archived\": false, \"open_issues_count\": 614, \"license\": null, \"forks\": 17, \"open_issues\": 614, \"watchers\": 93, \"default_branch\": \"master\"}}, \"_links\": {\"self\": {\"href\": \"https://api.github.com/repos/everypolitician/everypolitician-data/pulls/70431\"}, \"html\": {\"href\": \"https://github.com/everypolitician/everypolitician-data/pull/70431\"}, \"issue\": {\"href\": \"https://api.github.com/repos/everypolitician/everypolitician-data/issues/70431\"}, \"comments\": {\"href\": \"https://api.github.com/repos/everypolitician/everypolitician-data/issues/70431/comments\"}, \"review_comments\": {\"href\": \"https://api.github.com/repos/everypolitician/everypolitician-data/pulls/70431/comments\"}, \"review_comment\": {\"href\": \"https://api.github.com/repos/everypolitician/everypolitician-data/pulls/comments{/number}\"}, \"commits\": {\"href\": \"https://api.github.com/repos/everypolitician/everypolitician-data/pulls/70431/commits\"}, \"statuses\": {\"href\": \"https://api.github.com/repos/everypolitician/everypolitician-data/statuses/a18b796320408729206b415daa39c685127a9041\"}}, \"author_association\": \"OWNER\", \"merged\": false, \"mergeable\": true, \"rebaseable\": true, \"mergeable_state\": \"clean\", \"merged_by\": null, \"comments\": 2, \"review_comments\": 0, \"maintainer_can_modify\": false, \"commits\": 1, \"additions\": 12, \"deletions\": 0, \"changed_files\": 2}}, \"public\": true, \"created_at\": \"2018-01-01T15:00:08Z\", \"org\": {\"id\": 12497298, \"login\": \"everypolitician\", \"gravatar_id\": \"\", \"url\": \"https://api.github.com/orgs/everypolitician\", \"avatar_url\": \"https://avatars.githubusercontent.com/u/12497298?\"}}\n",
      "{\"id\": \"7045119084\", \"type\": \"PushEvent\", \"actor\": {\"id\": 12929071, \"login\": \"nicecodeclub\", \"display_login\": \"nicecodeclub\", \"gravatar_id\": \"\", \"url\": \"https://api.github.com/users/nicecodeclub\", \"avatar_url\": \"https://avatars.githubusercontent.com/u/12929071?\"}, \"repo\": {\"id\": 115924800, \"name\": \"nicecodeclub/Nice.Network\", \"url\": \"https://api.github.com/repos/nicecodeclub/Nice.Network\"}, \"payload\": {\"push_id\": 2226161712, \"size\": 1, \"distinct_size\": 1, \"ref\": \"refs/heads/master\", \"head\": \"8f8d4a1ce91066fe320ff45932dbc465c24f4feb\", \"before\": \"8d85834e5fc1072912603c5465988dcbe8da6b99\", \"commits\": [{\"sha\": \"8f8d4a1ce91066fe320ff45932dbc465c24f4feb\", \"author\": {\"name\": \"maolinxiang\", \"email\": \"34b056cafbb2242e2d67cdf41b72cbc8b465a10b@hotmail.com\"}, \"message\": \"\\u4ec5\\u4fdd\\u7559\\u57fa\\u4e8eSocketAsyncEventArgs\\u7f51\\u7edc\\u9879\\u76ee\\uff0c\\u5220\\u9664Web\\u9879\\u76ee\", \"distinct\": true, \"url\": \"https://api.github.com/repos/nicecodeclub/Nice.Network/commits/8f8d4a1ce91066fe320ff45932dbc465c24f4feb\"}]}, \"public\": true, \"created_at\": \"2018-01-01T15:00:09Z\"}\n",
      "{\"id\": \"7045119103\", \"type\": \"PushEvent\", \"actor\": {\"id\": 14126970, \"login\": \"opensuse-i18n\", \"display_login\": \"opensuse-i18n\", \"gravatar_id\": \"\", \"url\": \"https://api.github.com/users/opensuse-i18n\", \"avatar_url\": \"https://avatars.githubusercontent.com/u/14126970?\"}, \"repo\": {\"id\": 66924714, \"name\": \"yast/yast-translations\", \"url\": \"https://api.github.com/repos/yast/yast-translations\"}, \"payload\": {\"push_id\": 2226161724, \"size\": 1, \"distinct_size\": 1, \"ref\": \"refs/heads/master\", \"head\": \"aa1142610db1e7c2314618426a3c27ab4286e5c1\", \"before\": \"8250db45e9c50da72707668a9824a2f49a1709f0\", \"commits\": [{\"sha\": \"aa1142610db1e7c2314618426a3c27ab4286e5c1\", \"author\": {\"name\": \"SLE Merge Robot\", \"email\": \"d1d6740af61a54d03e82d4dc0c781b78e73e7b5b@opensuse.org\"}, \"message\": \"Translated using Weblate (Arabic)\\n\\nCurrently translated at 100.0% (463 of 463 strings)\", \"distinct\": true, \"url\": \"https://api.github.com/repos/yast/yast-translations/commits/aa1142610db1e7c2314618426a3c27ab4286e5c1\"}]}, \"public\": true, \"created_at\": \"2018-01-01T15:00:09Z\", \"org\": {\"id\": 909990, \"login\": \"yast\", \"gravatar_id\": \"\", \"url\": \"https://api.github.com/orgs/yast\", \"avatar_url\": \"https://avatars.githubusercontent.com/u/909990?\"}}\n",
      "{\"id\": \"7045119105\", \"type\": \"PushEvent\", \"actor\": {\"id\": 23026379, \"login\": \"jyc99\", \"display_login\": \"jyc99\", \"gravatar_id\": \"\", \"url\": \"https://api.github.com/users/jyc99\", \"avatar_url\": \"https://avatars.githubusercontent.com/u/23026379?\"}, \"repo\": {\"id\": 97558960, \"name\": \"jyc99/store\", \"url\": \"https://api.github.com/repos/jyc99/store\"}, \"payload\": {\"push_id\": 2226161726, \"size\": 1, \"distinct_size\": 1, \"ref\": \"refs/heads/master\", \"head\": \"d6f2710990d16786de5469b4938d6188a6e855f6\", \"before\": \"292c24a462a5c6f23855f1cfcb57ebff01b86262\", \"commits\": [{\"sha\": \"d6f2710990d16786de5469b4938d6188a6e855f6\", \"author\": {\"name\": \"jyc99\", \"email\": \"ea5c35890633d47797657b32063b7aa2ec430fc4@qq.com\"}, \"message\": \"123\", \"distinct\": true, \"url\": \"https://api.github.com/repos/jyc99/store/commits/d6f2710990d16786de5469b4938d6188a6e855f6\"}]}, \"public\": true, \"created_at\": \"2018-01-01T15:00:09Z\"}\n",
      "{\"id\": \"7045119108\", \"type\": \"CreateEvent\", \"actor\": {\"id\": 35003609, \"login\": \"ace-intelligence\", \"display_login\": \"ace-intelligence\", \"gravatar_id\": \"\", \"url\": \"https://api.github.com/users/ace-intelligence\", \"avatar_url\": \"https://avatars.githubusercontent.com/u/35003609?\"}, \"repo\": {\"id\": 115926132, \"name\": \"ace-intelligence/ace-intelligence\", \"url\": \"https://api.github.com/repos/ace-intelligence/ace-intelligence\"}, \"payload\": {\"ref\": \"master\", \"ref_type\": \"branch\", \"master_branch\": \"master\", \"description\": \"Educational Blog of ACE-Laboratory @ KAIST\", \"pusher_type\": \"user\"}, \"public\": true, \"created_at\": \"2018-01-01T15:00:09Z\"}\n",
      "{\"id\": \"7045119109\", \"type\": \"PushEvent\", \"actor\": {\"id\": 6701060, \"login\": \"bpb27\", \"display_login\": \"bpb27\", \"gravatar_id\": \"\", \"url\": \"https://api.github.com/users/bpb27\", \"avatar_url\": \"https://avatars.githubusercontent.com/u/6701060?\"}, \"repo\": {\"id\": 67623841, \"name\": \"bpb27/trump-tweet-archive\", \"url\": \"https://api.github.com/repos/bpb27/trump-tweet-archive\"}, \"payload\": {\"push_id\": 2226161727, \"size\": 1, \"distinct_size\": 1, \"ref\": \"refs/heads/master\", \"head\": \"48bd964bd0691a4b0a09e2ddc0f200347ee9050a\", \"before\": \"464ba91f59505dddada7b31cbc461b60d2aec0b8\", \"commits\": [{\"sha\": \"48bd964bd0691a4b0a09e2ddc0f200347ee9050a\", \"author\": {\"name\": \"Brendan\", \"email\": \"6358889c2b39b470e8e962c692c19834f8464e38@gmail.com\"}, \"message\": \"hourly data update\", \"distinct\": true, \"url\": \"https://api.github.com/repos/bpb27/trump-tweet-archive/commits/48bd964bd0691a4b0a09e2ddc0f200347ee9050a\"}]}, \"public\": true, \"created_at\": \"2018-01-01T15:00:09Z\"}\n",
      "{\"id\": \"7045119110\", \"type\": \"ForkEvent\", \"actor\": {\"id\": 29568960, \"login\": \"DeadlySoft\", \"display_login\": \"DeadlySoft\", \"gravatar_id\": \"\", \"url\": \"https://api.github.com/users/DeadlySoft\", \"avatar_url\": \"https://avatars.githubusercontent.com/u/29568960?\"}, \"repo\": {\"id\": 82304453, \"name\": \"tatools/sunshine\", \"url\": \"https://api.github.com/repos/tatools/sunshine\"}, \"payload\": {\"forkee\": {\"id\": 115926133, \"name\": \"sunshine\", \"full_name\": \"DeadlySoft/sunshine\", \"owner\": {\"login\": \"DeadlySoft\", \"id\": 29568960, \"avatar_url\": \"https://avatars3.githubusercontent.com/u/29568960?v=4\", \"gravatar_id\": \"\", \"url\": \"https://api.github.com/users/DeadlySoft\", \"html_url\": \"https://github.com/DeadlySoft\", \"followers_url\": \"https://api.github.com/users/DeadlySoft/followers\", \"following_url\": \"https://api.github.com/users/DeadlySoft/following{/other_user}\", \"gists_url\": \"https://api.github.com/users/DeadlySoft/gists{/gist_id}\", \"starred_url\": \"https://api.github.com/users/DeadlySoft/starred{/owner}{/repo}\", \"subscriptions_url\": \"https://api.github.com/users/DeadlySoft/subscriptions\", \"organizations_url\": \"https://api.github.com/users/DeadlySoft/orgs\", \"repos_url\": \"https://api.github.com/users/DeadlySoft/repos\", \"events_url\": \"https://api.github.com/users/DeadlySoft/events{/privacy}\", \"received_events_url\": \"https://api.github.com/users/DeadlySoft/received_events\", \"type\": \"User\", \"site_admin\": false}, \"private\": false, \"html_url\": \"https://github.com/DeadlySoft/sunshine\", \"description\": \"The Sunshine is a Java library which allows you to distribute automated tests as a Java application (JAR file).\", \"fork\": true, \"url\": \"https://api.github.com/repos/DeadlySoft/sunshine\", \"forks_url\": \"https://api.github.com/repos/DeadlySoft/sunshine/forks\", \"keys_url\": \"https://api.github.com/repos/DeadlySoft/sunshine/keys{/key_id}\", \"collaborators_url\": \"https://api.github.com/repos/DeadlySoft/sunshine/collaborators{/collaborator}\", \"teams_url\": \"https://api.github.com/repos/DeadlySoft/sunshine/teams\", \"hooks_url\": \"https://api.github.com/repos/DeadlySoft/sunshine/hooks\", \"issue_events_url\": \"https://api.github.com/repos/DeadlySoft/sunshine/issues/events{/number}\", \"events_url\": \"https://api.github.com/repos/DeadlySoft/sunshine/events\", \"assignees_url\": \"https://api.github.com/repos/DeadlySoft/sunshine/assignees{/user}\", \"branches_url\": \"https://api.github.com/repos/DeadlySoft/sunshine/branches{/branch}\", \"tags_url\": \"https://api.github.com/repos/DeadlySoft/sunshine/tags\", \"blobs_url\": \"https://api.github.com/repos/DeadlySoft/sunshine/git/blobs{/sha}\", \"git_tags_url\": \"https://api.github.com/repos/DeadlySoft/sunshine/git/tags{/sha}\", \"git_refs_url\": \"https://api.github.com/repos/DeadlySoft/sunshine/git/refs{/sha}\", \"trees_url\": \"https://api.github.com/repos/DeadlySoft/sunshine/git/trees{/sha}\", \"statuses_url\": \"https://api.github.com/repos/DeadlySoft/sunshine/statuses/{sha}\", \"languages_url\": \"https://api.github.com/repos/DeadlySoft/sunshine/languages\", \"stargazers_url\": \"https://api.github.com/repos/DeadlySoft/sunshine/stargazers\", \"contributors_url\": \"https://api.github.com/repos/DeadlySoft/sunshine/contributors\", \"subscribers_url\": \"https://api.github.com/repos/DeadlySoft/sunshine/subscribers\", \"subscription_url\": \"https://api.github.com/repos/DeadlySoft/sunshine/subscription\", \"commits_url\": \"https://api.github.com/repos/DeadlySoft/sunshine/commits{/sha}\", \"git_commits_url\": \"https://api.github.com/repos/DeadlySoft/sunshine/git/commits{/sha}\", \"comments_url\": \"https://api.github.com/repos/DeadlySoft/sunshine/comments{/number}\", \"issue_comment_url\": \"https://api.github.com/repos/DeadlySoft/sunshine/issues/comments{/number}\", \"contents_url\": \"https://api.github.com/repos/DeadlySoft/sunshine/contents/{+path}\", \"compare_url\": \"https://api.github.com/repos/DeadlySoft/sunshine/compare/{base}...{head}\", \"merges_url\": \"https://api.github.com/repos/DeadlySoft/sunshine/merges\", \"archive_url\": \"https://api.github.com/repos/DeadlySoft/sunshine/{archive_format}{/ref}\", \"downloads_url\": \"https://api.github.com/repos/DeadlySoft/sunshine/downloads\", \"issues_url\": \"https://api.github.com/repos/DeadlySoft/sunshine/issues{/number}\", \"pulls_url\": \"https://api.github.com/repos/DeadlySoft/sunshine/pulls{/number}\", \"milestones_url\": \"https://api.github.com/repos/DeadlySoft/sunshine/milestones{/number}\", \"notifications_url\": \"https://api.github.com/repos/DeadlySoft/sunshine/notifications{?since,all,participating}\", \"labels_url\": \"https://api.github.com/repos/DeadlySoft/sunshine/labels{/name}\", \"releases_url\": \"https://api.github.com/repos/DeadlySoft/sunshine/releases{/id}\", \"deployments_url\": \"https://api.github.com/repos/DeadlySoft/sunshine/deployments\", \"created_at\": \"2018-01-01T15:00:08Z\", \"updated_at\": \"2017-06-11T09:59:34Z\", \"pushed_at\": \"2017-10-06T20:04:48Z\", \"git_url\": \"git://github.com/DeadlySoft/sunshine.git\", \"ssh_url\": \"git@github.com:DeadlySoft/sunshine.git\", \"clone_url\": \"https://github.com/DeadlySoft/sunshine.git\", \"svn_url\": \"https://github.com/DeadlySoft/sunshine\", \"homepage\": \"\", \"size\": 312, \"stargazers_count\": 0, \"watchers_count\": 0, \"language\": null, \"has_issues\": false, \"has_projects\": true, \"has_downloads\": true, \"has_wiki\": false, \"has_pages\": false, \"forks_count\": 0, \"mirror_url\": null, \"archived\": false, \"open_issues_count\": 0, \"license\": null, \"forks\": 0, \"open_issues\": 0, \"watchers\": 0, \"default_branch\": \"master\", \"public\": true}}, \"public\": true, \"created_at\": \"2018-01-01T15:00:09Z\", \"org\": {\"id\": 25225554, \"login\": \"tatools\", \"gravatar_id\": \"\", \"url\": \"https://api.github.com/orgs/tatools\", \"avatar_url\": \"https://avatars.githubusercontent.com/u/25225554?\"}}\n",
      "{\"id\": \"7045119111\", \"type\": \"PushEvent\", \"actor\": {\"id\": 12524030, \"login\": \"jsweber\", \"display_login\": \"jsweber\", \"gravatar_id\": \"\", \"url\": \"https://api.github.com/users/jsweber\", \"avatar_url\": \"https://avatars.githubusercontent.com/u/12524030?\"}, \"repo\": {\"id\": 115838653, \"name\": \"jsweber/webapp\", \"url\": \"https://api.github.com/repos/jsweber/webapp\"}, \"payload\": {\"push_id\": 2226161728, \"size\": 1, \"distinct_size\": 1, \"ref\": \"refs/heads/master\", \"head\": \"697cb3178fa835ffafc0ee416203a71cf8fd4c3e\", \"before\": \"883b996d532f4072d1df19c1facddfbb20cb012d\", \"commits\": [{\"sha\": \"697cb3178fa835ffafc0ee416203a71cf8fd4c3e\", \"author\": {\"name\": \"duxq\", \"email\": \"ad7ed0b346e2158880af09db63e35ce02d494f46@lieluobo.com\"}, \"message\": \"add orm\", \"distinct\": true, \"url\": \"https://api.github.com/repos/jsweber/webapp/commits/697cb3178fa835ffafc0ee416203a71cf8fd4c3e\"}]}, \"public\": true, \"created_at\": \"2018-01-01T15:00:09Z\"}\n",
      "{\"id\": \"7045119112\", \"type\": \"PullRequestEvent\", \"actor\": {\"id\": 1437341, \"login\": \"vdloo\", \"display_login\": \"vdloo\", \"gravatar_id\": \"\", \"url\": \"https://api.github.com/users/vdloo\", \"avatar_url\": \"https://avatars.githubusercontent.com/u/1437341?\"}, \"repo\": {\"id\": 64013772, \"name\": \"vdloo/raptiformica\", \"url\": \"https://api.github.com/repos/vdloo/raptiformica\"}, \"payload\": {\"action\": \"opened\", \"number\": 293, \"pull_request\": {\"url\": \"https://api.github.com/repos/vdloo/raptiformica/pulls/293\", \"id\": 160650731, \"html_url\": \"https://github.com/vdloo/raptiformica/pull/293\", \"diff_url\": \"https://github.com/vdloo/raptiformica/pull/293.diff\", \"patch_url\": \"https://github.com/vdloo/raptiformica/pull/293.patch\", \"issue_url\": \"https://api.github.com/repos/vdloo/raptiformica/issues/293\", \"number\": 293, \"state\": \"open\", \"locked\": false, \"title\": \"wait longer and check more often for consensus\", \"user\": {\"login\": \"vdloo\", \"id\": 1437341, \"avatar_url\": \"https://avatars2.githubusercontent.com/u/1437341?v=4\", \"gravatar_id\": \"\", \"url\": \"https://api.github.com/users/vdloo\", \"html_url\": \"https://github.com/vdloo\", \"followers_url\": \"https://api.github.com/users/vdloo/followers\", \"following_url\": \"https://api.github.com/users/vdloo/following{/other_user}\", \"gists_url\": \"https://api.github.com/users/vdloo/gists{/gist_id}\", \"starred_url\": \"https://api.github.com/users/vdloo/starred{/owner}{/repo}\", \"subscriptions_url\": \"https://api.github.com/users/vdloo/subscriptions\", \"organizations_url\": \"https://api.github.com/users/vdloo/orgs\", \"repos_url\": \"https://api.github.com/users/vdloo/repos\", \"events_url\": \"https://api.github.com/users/vdloo/events{/privacy}\", \"received_events_url\": \"https://api.github.com/users/vdloo/received_events\", \"type\": \"User\", \"site_admin\": false}, \"body\": \"in integration tests\", \"created_at\": \"2018-01-01T15:00:08Z\", \"updated_at\": \"2018-01-01T15:00:08Z\", \"closed_at\": null, \"merged_at\": null, \"merge_commit_sha\": null, \"assignee\": null, \"assignees\": [], \"requested_reviewers\": [], \"milestone\": null, \"commits_url\": \"https://api.github.com/repos/vdloo/raptiformica/pulls/293/commits\", \"review_comments_url\": \"https://api.github.com/repos/vdloo/raptiformica/pulls/293/comments\", \"review_comment_url\": \"https://api.github.com/repos/vdloo/raptiformica/pulls/comments{/number}\", \"comments_url\": \"https://api.github.com/repos/vdloo/raptiformica/issues/293/comments\", \"statuses_url\": \"https://api.github.com/repos/vdloo/raptiformica/statuses/abfff31dc99a19e2d3a6d904d634d2e24bb8a879\", \"head\": {\"label\": \"vdloo:wait-longer-and-check-more-often-for-consensus-in-integration-test\", \"ref\": \"wait-longer-and-check-more-often-for-consensus-in-integration-test\", \"sha\": \"abfff31dc99a19e2d3a6d904d634d2e24bb8a879\", \"user\": {\"login\": \"vdloo\", \"id\": 1437341, \"avatar_url\": \"https://avatars2.githubusercontent.com/u/1437341?v=4\", \"gravatar_id\": \"\", \"url\": \"https://api.github.com/users/vdloo\", \"html_url\": \"https://github.com/vdloo\", \"followers_url\": \"https://api.github.com/users/vdloo/followers\", \"following_url\": \"https://api.github.com/users/vdloo/following{/other_user}\", \"gists_url\": \"https://api.github.com/users/vdloo/gists{/gist_id}\", \"starred_url\": \"https://api.github.com/users/vdloo/starred{/owner}{/repo}\", \"subscriptions_url\": \"https://api.github.com/users/vdloo/subscriptions\", \"organizations_url\": \"https://api.github.com/users/vdloo/orgs\", \"repos_url\": \"https://api.github.com/users/vdloo/repos\", \"events_url\": \"https://api.github.com/users/vdloo/events{/privacy}\", \"received_events_url\": \"https://api.github.com/users/vdloo/received_events\", \"type\": \"User\", \"site_admin\": false}, \"repo\": {\"id\": 64013772, \"name\": \"raptiformica\", \"full_name\": \"vdloo/raptiformica\", \"owner\": {\"login\": \"vdloo\", \"id\": 1437341, \"avatar_url\": \"https://avatars2.githubusercontent.com/u/1437341?v=4\", \"gravatar_id\": \"\", \"url\": \"https://api.github.com/users/vdloo\", \"html_url\": \"https://github.com/vdloo\", \"followers_url\": \"https://api.github.com/users/vdloo/followers\", \"following_url\": \"https://api.github.com/users/vdloo/following{/other_user}\", \"gists_url\": \"https://api.github.com/users/vdloo/gists{/gist_id}\", \"starred_url\": \"https://api.github.com/users/vdloo/starred{/owner}{/repo}\", \"subscriptions_url\": \"https://api.github.com/users/vdloo/subscriptions\", \"organizations_url\": \"https://api.github.com/users/vdloo/orgs\", \"repos_url\": \"https://api.github.com/users/vdloo/repos\", \"events_url\": \"https://api.github.com/users/vdloo/events{/privacy}\", \"received_events_url\": \"https://api.github.com/users/vdloo/received_events\", \"type\": \"User\", \"site_admin\": false}, \"private\": false, \"html_url\": \"https://github.com/vdloo/raptiformica\", \"description\": \"Decentralized server orchestration\", \"fork\": false, \"url\": \"https://api.github.com/repos/vdloo/raptiformica\", \"forks_url\": \"https://api.github.com/repos/vdloo/raptiformica/forks\", \"keys_url\": \"https://api.github.com/repos/vdloo/raptiformica/keys{/key_id}\", \"collaborators_url\": \"https://api.github.com/repos/vdloo/raptiformica/collaborators{/collaborator}\", \"teams_url\": \"https://api.github.com/repos/vdloo/raptiformica/teams\", \"hooks_url\": \"https://api.github.com/repos/vdloo/raptiformica/hooks\", \"issue_events_url\": \"https://api.github.com/repos/vdloo/raptiformica/issues/events{/number}\", \"events_url\": \"https://api.github.com/repos/vdloo/raptiformica/events\", \"assignees_url\": \"https://api.github.com/repos/vdloo/raptiformica/assignees{/user}\", \"branches_url\": \"https://api.github.com/repos/vdloo/raptiformica/branches{/branch}\", \"tags_url\": \"https://api.github.com/repos/vdloo/raptiformica/tags\", \"blobs_url\": \"https://api.github.com/repos/vdloo/raptiformica/git/blobs{/sha}\", \"git_tags_url\": \"https://api.github.com/repos/vdloo/raptiformica/git/tags{/sha}\", \"git_refs_url\": \"https://api.github.com/repos/vdloo/raptiformica/git/refs{/sha}\", \"trees_url\": \"https://api.github.com/repos/vdloo/raptiformica/git/trees{/sha}\", \"statuses_url\": \"https://api.github.com/repos/vdloo/raptiformica/statuses/{sha}\", \"languages_url\": \"https://api.github.com/repos/vdloo/raptiformica/languages\", \"stargazers_url\": \"https://api.github.com/repos/vdloo/raptiformica/stargazers\", \"contributors_url\": \"https://api.github.com/repos/vdloo/raptiformica/contributors\", \"subscribers_url\": \"https://api.github.com/repos/vdloo/raptiformica/subscribers\", \"subscription_url\": \"https://api.github.com/repos/vdloo/raptiformica/subscription\", \"commits_url\": \"https://api.github.com/repos/vdloo/raptiformica/commits{/sha}\", \"git_commits_url\": \"https://api.github.com/repos/vdloo/raptiformica/git/commits{/sha}\", \"comments_url\": \"https://api.github.com/repos/vdloo/raptiformica/comments{/number}\", \"issue_comment_url\": \"https://api.github.com/repos/vdloo/raptiformica/issues/comments{/number}\", \"contents_url\": \"https://api.github.com/repos/vdloo/raptiformica/contents/{+path}\", \"compare_url\": \"https://api.github.com/repos/vdloo/raptiformica/compare/{base}...{head}\", \"merges_url\": \"https://api.github.com/repos/vdloo/raptiformica/merges\", \"archive_url\": \"https://api.github.com/repos/vdloo/raptiformica/{archive_format}{/ref}\", \"downloads_url\": \"https://api.github.com/repos/vdloo/raptiformica/downloads\", \"issues_url\": \"https://api.github.com/repos/vdloo/raptiformica/issues{/number}\", \"pulls_url\": \"https://api.github.com/repos/vdloo/raptiformica/pulls{/number}\", \"milestones_url\": \"https://api.github.com/repos/vdloo/raptiformica/milestones{/number}\", \"notifications_url\": \"https://api.github.com/repos/vdloo/raptiformica/notifications{?since,all,participating}\", \"labels_url\": \"https://api.github.com/repos/vdloo/raptiformica/labels{/name}\", \"releases_url\": \"https://api.github.com/repos/vdloo/raptiformica/releases{/id}\", \"deployments_url\": \"https://api.github.com/repos/vdloo/raptiformica/deployments\", \"created_at\": \"2016-07-23T11:45:47Z\", \"updated_at\": \"2017-10-26T03:40:41Z\", \"pushed_at\": \"2018-01-01T15:00:03Z\", \"git_url\": \"git://github.com/vdloo/raptiformica.git\", \"ssh_url\": \"git@github.com:vdloo/raptiformica.git\", \"clone_url\": \"https://github.com/vdloo/raptiformica.git\", \"svn_url\": \"https://github.com/vdloo/raptiformica\", \"homepage\": \"\", \"size\": 750, \"stargazers_count\": 12, \"watchers_count\": 12, \"language\": \"Python\", \"has_issues\": true, \"has_projects\": true, \"has_downloads\": true, \"has_wiki\": true, \"has_pages\": false, \"forks_count\": 0, \"mirror_url\": null, \"archived\": false, \"open_issues_count\": 2, \"license\": {\"key\": \"mit\", \"name\": \"MIT License\", \"spdx_id\": \"MIT\", \"url\": \"https://api.github.com/licenses/mit\"}, \"forks\": 0, \"open_issues\": 2, \"watchers\": 12, \"default_branch\": \"master\"}}, \"base\": {\"label\": \"vdloo:master\", \"ref\": \"master\", \"sha\": \"5c69784e770d91ebae399f0ad583f06333648ee4\", \"user\": {\"login\": \"vdloo\", \"id\": 1437341, \"avatar_url\": \"https://avatars2.githubusercontent.com/u/1437341?v=4\", \"gravatar_id\": \"\", \"url\": \"https://api.github.com/users/vdloo\", \"html_url\": \"https://github.com/vdloo\", \"followers_url\": \"https://api.github.com/users/vdloo/followers\", \"following_url\": \"https://api.github.com/users/vdloo/following{/other_user}\", \"gists_url\": \"https://api.github.com/users/vdloo/gists{/gist_id}\", \"starred_url\": \"https://api.github.com/users/vdloo/starred{/owner}{/repo}\", \"subscriptions_url\": \"https://api.github.com/users/vdloo/subscriptions\", \"organizations_url\": \"https://api.github.com/users/vdloo/orgs\", \"repos_url\": \"https://api.github.com/users/vdloo/repos\", \"events_url\": \"https://api.github.com/users/vdloo/events{/privacy}\", \"received_events_url\": \"https://api.github.com/users/vdloo/received_events\", \"type\": \"User\", \"site_admin\": false}, \"repo\": {\"id\": 64013772, \"name\": \"raptiformica\", \"full_name\": \"vdloo/raptiformica\", \"owner\": {\"login\": \"vdloo\", \"id\": 1437341, \"avatar_url\": \"https://avatars2.githubusercontent.com/u/1437341?v=4\", \"gravatar_id\": \"\", \"url\": \"https://api.github.com/users/vdloo\", \"html_url\": \"https://github.com/vdloo\", \"followers_url\": \"https://api.github.com/users/vdloo/followers\", \"following_url\": \"https://api.github.com/users/vdloo/following{/other_user}\", \"gists_url\": \"https://api.github.com/users/vdloo/gists{/gist_id}\", \"starred_url\": \"https://api.github.com/users/vdloo/starred{/owner}{/repo}\", \"subscriptions_url\": \"https://api.github.com/users/vdloo/subscriptions\", \"organizations_url\": \"https://api.github.com/users/vdloo/orgs\", \"repos_url\": \"https://api.github.com/users/vdloo/repos\", \"events_url\": \"https://api.github.com/users/vdloo/events{/privacy}\", \"received_events_url\": \"https://api.github.com/users/vdloo/received_events\", \"type\": \"User\", \"site_admin\": false}, \"private\": false, \"html_url\": \"https://github.com/vdloo/raptiformica\", \"description\": \"Decentralized server orchestration\", \"fork\": false, \"url\": \"https://api.github.com/repos/vdloo/raptiformica\", \"forks_url\": \"https://api.github.com/repos/vdloo/raptiformica/forks\", \"keys_url\": \"https://api.github.com/repos/vdloo/raptiformica/keys{/key_id}\", \"collaborators_url\": \"https://api.github.com/repos/vdloo/raptiformica/collaborators{/collaborator}\", \"teams_url\": \"https://api.github.com/repos/vdloo/raptiformica/teams\", \"hooks_url\": \"https://api.github.com/repos/vdloo/raptiformica/hooks\", \"issue_events_url\": \"https://api.github.com/repos/vdloo/raptiformica/issues/events{/number}\", \"events_url\": \"https://api.github.com/repos/vdloo/raptiformica/events\", \"assignees_url\": \"https://api.github.com/repos/vdloo/raptiformica/assignees{/user}\", \"branches_url\": \"https://api.github.com/repos/vdloo/raptiformica/branches{/branch}\", \"tags_url\": \"https://api.github.com/repos/vdloo/raptiformica/tags\", \"blobs_url\": \"https://api.github.com/repos/vdloo/raptiformica/git/blobs{/sha}\", \"git_tags_url\": \"https://api.github.com/repos/vdloo/raptiformica/git/tags{/sha}\", \"git_refs_url\": \"https://api.github.com/repos/vdloo/raptiformica/git/refs{/sha}\", \"trees_url\": \"https://api.github.com/repos/vdloo/raptiformica/git/trees{/sha}\", \"statuses_url\": \"https://api.github.com/repos/vdloo/raptiformica/statuses/{sha}\", \"languages_url\": \"https://api.github.com/repos/vdloo/raptiformica/languages\", \"stargazers_url\": \"https://api.github.com/repos/vdloo/raptiformica/stargazers\", \"contributors_url\": \"https://api.github.com/repos/vdloo/raptiformica/contributors\", \"subscribers_url\": \"https://api.github.com/repos/vdloo/raptiformica/subscribers\", \"subscription_url\": \"https://api.github.com/repos/vdloo/raptiformica/subscription\", \"commits_url\": \"https://api.github.com/repos/vdloo/raptiformica/commits{/sha}\", \"git_commits_url\": \"https://api.github.com/repos/vdloo/raptiformica/git/commits{/sha}\", \"comments_url\": \"https://api.github.com/repos/vdloo/raptiformica/comments{/number}\", \"issue_comment_url\": \"https://api.github.com/repos/vdloo/raptiformica/issues/comments{/number}\", \"contents_url\": \"https://api.github.com/repos/vdloo/raptiformica/contents/{+path}\", \"compare_url\": \"https://api.github.com/repos/vdloo/raptiformica/compare/{base}...{head}\", \"merges_url\": \"https://api.github.com/repos/vdloo/raptiformica/merges\", \"archive_url\": \"https://api.github.com/repos/vdloo/raptiformica/{archive_format}{/ref}\", \"downloads_url\": \"https://api.github.com/repos/vdloo/raptiformica/downloads\", \"issues_url\": \"https://api.github.com/repos/vdloo/raptiformica/issues{/number}\", \"pulls_url\": \"https://api.github.com/repos/vdloo/raptiformica/pulls{/number}\", \"milestones_url\": \"https://api.github.com/repos/vdloo/raptiformica/milestones{/number}\", \"notifications_url\": \"https://api.github.com/repos/vdloo/raptiformica/notifications{?since,all,participating}\", \"labels_url\": \"https://api.github.com/repos/vdloo/raptiformica/labels{/name}\", \"releases_url\": \"https://api.github.com/repos/vdloo/raptiformica/releases{/id}\", \"deployments_url\": \"https://api.github.com/repos/vdloo/raptiformica/deployments\", \"created_at\": \"2016-07-23T11:45:47Z\", \"updated_at\": \"2017-10-26T03:40:41Z\", \"pushed_at\": \"2018-01-01T15:00:03Z\", \"git_url\": \"git://github.com/vdloo/raptiformica.git\", \"ssh_url\": \"git@github.com:vdloo/raptiformica.git\", \"clone_url\": \"https://github.com/vdloo/raptiformica.git\", \"svn_url\": \"https://github.com/vdloo/raptiformica\", \"homepage\": \"\", \"size\": 750, \"stargazers_count\": 12, \"watchers_count\": 12, \"language\": \"Python\", \"has_issues\": true, \"has_projects\": true, \"has_downloads\": true, \"has_wiki\": true, \"has_pages\": false, \"forks_count\": 0, \"mirror_url\": null, \"archived\": false, \"open_issues_count\": 2, \"license\": {\"key\": \"mit\", \"name\": \"MIT License\", \"spdx_id\": \"MIT\", \"url\": \"https://api.github.com/licenses/mit\"}, \"forks\": 0, \"open_issues\": 2, \"watchers\": 12, \"default_branch\": \"master\"}}, \"_links\": {\"self\": {\"href\": \"https://api.github.com/repos/vdloo/raptiformica/pulls/293\"}, \"html\": {\"href\": \"https://github.com/vdloo/raptiformica/pull/293\"}, \"issue\": {\"href\": \"https://api.github.com/repos/vdloo/raptiformica/issues/293\"}, \"comments\": {\"href\": \"https://api.github.com/repos/vdloo/raptiformica/issues/293/comments\"}, \"review_comments\": {\"href\": \"https://api.github.com/repos/vdloo/raptiformica/pulls/293/comments\"}, \"review_comment\": {\"href\": \"https://api.github.com/repos/vdloo/raptiformica/pulls/comments{/number}\"}, \"commits\": {\"href\": \"https://api.github.com/repos/vdloo/raptiformica/pulls/293/commits\"}, \"statuses\": {\"href\": \"https://api.github.com/repos/vdloo/raptiformica/statuses/abfff31dc99a19e2d3a6d904d634d2e24bb8a879\"}}, \"author_association\": \"OWNER\", \"merged\": false, \"mergeable\": null, \"rebaseable\": null, \"mergeable_state\": \"unknown\", \"merged_by\": null, \"comments\": 0, \"review_comments\": 0, \"maintainer_can_modify\": false, \"commits\": 1, \"additions\": 2, \"deletions\": 2, \"changed_files\": 1}}, \"public\": true, \"created_at\": \"2018-01-01T15:00:09Z\"}\n",
      "{\"id\": \"7045119115\", \"type\": \"CreateEvent\", \"actor\": {\"id\": 30839409, \"login\": \"hugopm\", \"display_login\": \"hugopm\", \"gravatar_id\": \"\", \"url\": \"https://api.github.com/users/hugopm\", \"avatar_url\": \"https://avatars.githubusercontent.com/u/30839409?\"}, \"repo\": {\"id\": 115926134, \"name\": \"hugopm/cours-cpp\", \"url\": \"https://api.github.com/repos/hugopm/cours-cpp\"}, \"payload\": {\"ref\": null, \"ref_type\": \"repository\", \"master_branch\": \"master\", \"description\": \"Un cours de C++ fait par et pour des algorithmiciens\", \"pusher_type\": \"user\"}, \"public\": true, \"created_at\": \"2018-01-01T15:00:09Z\"}\n",
      "{\"id\": \"7045119116\", \"type\": \"PushEvent\", \"actor\": {\"id\": 16750352, \"login\": \"WillisCat\", \"display_login\": \"WillisCat\", \"gravatar_id\": \"\", \"url\": \"https://api.github.com/users/WillisCat\", \"avatar_url\": \"https://avatars.githubusercontent.com/u/16750352?\"}, \"repo\": {\"id\": 86402280, \"name\": \"WillisCat/minecraft_server_1.11.2\", \"url\": \"https://api.github.com/repos/WillisCat/minecraft_server_1.11.2\"}, \"payload\": {\"push_id\": 2226161731, \"size\": 1, \"distinct_size\": 1, \"ref\": \"refs/heads/master\", \"head\": \"2a791c849f2a036fb21e5518f32ce157322b0a65\", \"before\": \"fdd5833ea2c9014821fedc5f9894472353190c78\", \"commits\": [{\"sha\": \"2a791c849f2a036fb21e5518f32ce157322b0a65\", \"author\": {\"name\": \"Poutas\", \"email\": \"c2f026013358514db3ef6a9c997b18d1549f0bcc@live.cn\"}, \"message\": \"auto update\", \"distinct\": true, \"url\": \"https://api.github.com/repos/WillisCat/minecraft_server_1.11.2/commits/2a791c849f2a036fb21e5518f32ce157322b0a65\"}]}, \"public\": true, \"created_at\": \"2018-01-01T15:00:09Z\"}\n",
      "{\"id\": \"7045119120\", \"type\": \"CreateEvent\", \"actor\": {\"id\": 3400679, \"login\": \"kkh30\", \"display_login\": \"kkh30\", \"gravatar_id\": \"\", \"url\": \"https://api.github.com/users/kkh30\", \"avatar_url\": \"https://avatars.githubusercontent.com/u/3400679?\"}, \"repo\": {\"id\": 115926091, \"name\": \"kkh30/KEngine\", \"url\": \"https://api.github.com/repos/kkh30/KEngine\"}, \"payload\": {\"ref\": \"master\", \"ref_type\": \"branch\", \"master_branch\": \"master\", \"description\": null, \"pusher_type\": \"user\"}, \"public\": true, \"created_at\": \"2018-01-01T15:00:09Z\"}\n",
      "{\"id\": \"7045119121\", \"type\": \"PushEvent\", \"actor\": {\"id\": 8864479, \"login\": \"miscbits\", \"display_login\": \"miscbits\", \"gravatar_id\": \"\", \"url\": \"https://api.github.com/users/miscbits\", \"avatar_url\": \"https://avatars.githubusercontent.com/u/8864479?\"}, \"repo\": {\"id\": 96364801, \"name\": \"miscbits/commitcountsaredumb\", \"url\": \"https://api.github.com/repos/miscbits/commitcountsaredumb\"}, \"payload\": {\"push_id\": 2226161735, \"size\": 2, \"distinct_size\": 2, \"ref\": \"refs/heads/master\", \"head\": \"b11be96d1b0429ff17ee32808b366564e46cb1d7\", \"before\": \"bb038feea75d5b3bf19fa234a4e89eb474b6ba1b\", \"commits\": [{\"sha\": \"e0ec48bbbfdc9d745605a05ae3f127181572f898\", \"author\": {\"name\": \"miscbits\", \"email\": \"e47322457f46c4e5342360236871860f2eb37036@gmail.com\"}, \"message\": \"changed hash to ZSWGXBPEPUDP8QKBMHV4\", \"distinct\": true, \"url\": \"https://api.github.com/repos/miscbits/commitcountsaredumb/commits/e0ec48bbbfdc9d745605a05ae3f127181572f898\"}, {\"sha\": \"b11be96d1b0429ff17ee32808b366564e46cb1d7\", \"author\": {\"name\": \"miscbits\", \"email\": \"e47322457f46c4e5342360236871860f2eb37036@gmail.com\"}, \"message\": \"changed hash to TEZ42ZAK5H8X0X\", \"distinct\": true, \"url\": \"https://api.github.com/repos/miscbits/commitcountsaredumb/commits/b11be96d1b0429ff17ee32808b366564e46cb1d7\"}]}, \"public\": true, \"created_at\": \"2018-01-01T15:00:09Z\"}\n",
      "{\"id\": \"7045119125\", \"type\": \"PushEvent\", \"actor\": {\"id\": 16347475, \"login\": \"laksa19\", \"display_login\": \"laksa19\", \"gravatar_id\": \"\", \"url\": \"https://api.github.com/users/laksa19\", \"avatar_url\": \"https://avatars.githubusercontent.com/u/16347475?\"}, \"repo\": {\"id\": 113741284, \"name\": \"laksa19/laksa19.github.io\", \"url\": \"https://api.github.com/repos/laksa19/laksa19.github.io\"}, \"payload\": {\"push_id\": 2226161738, \"size\": 1, \"distinct_size\": 1, \"ref\": \"refs/heads/master\", \"head\": \"c9c00355f36eed379f0ad65baaf1ee7d4e3bc4c9\", \"before\": \"9a0a0d0e22f8452bdab425ef029ec928f571f416\", \"commits\": [{\"sha\": \"c9c00355f36eed379f0ad65baaf1ee7d4e3bc4c9\", \"author\": {\"name\": \"Laksamadi Guko\", \"email\": \"82f1f06232d5cd753bf4e08a7fb29b15e2519f48@gmail.com\"}, \"message\": \"Update index.html\", \"distinct\": true, \"url\": \"https://api.github.com/repos/laksa19/laksa19.github.io/commits/c9c00355f36eed379f0ad65baaf1ee7d4e3bc4c9\"}]}, \"public\": true, \"created_at\": \"2018-01-01T15:00:09Z\"}\n",
      "{\"id\": \"7045119126\", \"type\": \"CreateEvent\", \"actor\": {\"id\": 34457192, \"login\": \"HaggredL2Code\", \"display_login\": \"HaggredL2Code\", \"gravatar_id\": \"\", \"url\": \"https://api.github.com/users/HaggredL2Code\", \"avatar_url\": \"https://avatars.githubusercontent.com/u/34457192?\"}, \"repo\": {\"id\": 114689177, \"name\": \"Moscow4/NBD\", \"url\": \"https://api.github.com/repos/Moscow4/NBD\"}, \"payload\": {\"ref\": \"ChrisBootystrapchanges\", \"ref_type\": \"branch\", \"master_branch\": \"master\", \"description\": \"Moscow4's official NBD Project repo.\", \"pusher_type\": \"user\"}, \"public\": true, \"created_at\": \"2018-01-01T15:00:09Z\", \"org\": {\"id\": 34279076, \"login\": \"Moscow4\", \"gravatar_id\": \"\", \"url\": \"https://api.github.com/orgs/Moscow4\", \"avatar_url\": \"https://avatars.githubusercontent.com/u/34279076?\"}}\n",
      "{\"id\": \"7045119131\", \"type\": \"PushEvent\", \"actor\": {\"id\": 17070223, \"login\": \"Manpos\", \"display_login\": \"Manpos\", \"gravatar_id\": \"\", \"url\": \"https://api.github.com/users/Manpos\", \"avatar_url\": \"https://avatars.githubusercontent.com/u/17070223?\"}, \"repo\": {\"id\": 108245963, \"name\": \"Manpos/Curling-simulation\", \"url\": \"https://api.github.com/repos/Manpos/Curling-simulation\"}, \"payload\": {\"push_id\": 2226161742, \"size\": 1, \"distinct_size\": 1, \"ref\": \"refs/heads/test-branch\", \"head\": \"cc06eeb6f6ead3d2102adc66931e8e66215f0908\", \"before\": \"815c1e43b35814944c86617805049e34aae9c59a\", \"commits\": [{\"sha\": \"cc06eeb6f6ead3d2102adc66931e8e66215f0908\", \"author\": {\"name\": \"Miquel Postigo Llabres\", \"email\": \"3bc080396f95180fb6de4aa45a13250476996460@gmail.com\"}, \"message\": \"Matrix 3x3 class added\", \"distinct\": true, \"url\": \"https://api.github.com/repos/Manpos/Curling-simulation/commits/cc06eeb6f6ead3d2102adc66931e8e66215f0908\"}]}, \"public\": true, \"created_at\": \"2018-01-01T15:00:09Z\"}\n",
      "{\"id\": \"7045119117\", \"type\": \"PushEvent\", \"actor\": {\"id\": 5527248, \"login\": \"harald-lang\", \"display_login\": \"harald-lang\", \"gravatar_id\": \"\", \"url\": \"https://api.github.com/users/harald-lang\", \"avatar_url\": \"https://avatars.githubusercontent.com/u/5527248?\"}, \"repo\": {\"id\": 115925579, \"name\": \"harald-lang/alexa-skills-kit-sdk-for-nodejs\", \"url\": \"https://api.github.com/repos/harald-lang/alexa-skills-kit-sdk-for-nodejs\"}, \"payload\": {\"push_id\": 2226161733, \"size\": 1, \"distinct_size\": 1, \"ref\": \"refs/heads/patch-1\", \"head\": \"5aa5de92e93bfa6586cb360a5a434c8cfadd4eae\", \"before\": \"c2a39f0fed6aa00bd2ae6de26fd5eea8d7cc2ae4\", \"commits\": [{\"sha\": \"5aa5de92e93bfa6586cb360a5a434c8cfadd4eae\", \"author\": {\"name\": \"Harald Lang\", \"email\": \"1ac2a6b1d53d11af5d6aa13806875639dfa0af2e@gmail.com\"}, \"message\": \"fix typo in Readme.md\", \"distinct\": true, \"url\": \"https://api.github.com/repos/harald-lang/alexa-skills-kit-sdk-for-nodejs/commits/5aa5de92e93bfa6586cb360a5a434c8cfadd4eae\"}]}, \"public\": true, \"created_at\": \"2018-01-01T15:00:10Z\"}\n",
      "{\"id\": \"7045119129\", \"type\": \"PushEvent\", \"actor\": {\"id\": 34997530, \"login\": \"happynewyear-2018\", \"display_login\": \"happynewyear-2018\", \"gravatar_id\": \"\", \"url\": \"https://api.github.com/users/happynewyear-2018\", \"avatar_url\": \"https://avatars.githubusercontent.com/u/34997530?\"}, \"repo\": {\"id\": 115907899, \"name\": \"happynewyear-2018/happynewyear-2018.github.io\", \"url\": \"https://api.github.com/repos/happynewyear-2018/happynewyear-2018.github.io\"}, \"payload\": {\"push_id\": 2226161741, \"size\": 1, \"distinct_size\": 1, \"ref\": \"refs/heads/auto_merge/20180101_174848_happynewyear-2018\", \"head\": \"85f2a7774c506533a1392929b5ba54bfb43994f6\", \"before\": \"141018092284648e640bdad63e9e4339c75bdc13\", \"commits\": [{\"sha\": \"85f2a7774c506533a1392929b5ba54bfb43994f6\", \"author\": {\"name\": \"happynewyear-2018\", \"email\": \"06c401dd47d8d10f6f8dbda9416cff670ef73a2d@gmail.com\"}, \"message\": \"auto commit\", \"distinct\": true, \"url\": \"https://api.github.com/repos/happynewyear-2018/happynewyear-2018.github.io/commits/85f2a7774c506533a1392929b5ba54bfb43994f6\"}]}, \"public\": true, \"created_at\": \"2018-01-01T15:00:10Z\"}\n",
      "{\"id\": \"7045119135\", \"type\": \"PushEvent\", \"actor\": {\"id\": 4638942, \"login\": \"andywhale\", \"display_login\": \"andywhale\", \"gravatar_id\": \"\", \"url\": \"https://api.github.com/users/andywhale\", \"avatar_url\": \"https://avatars.githubusercontent.com/u/4638942?\"}, \"repo\": {\"id\": 67519996, \"name\": \"numiko/packagist\", \"url\": \"https://api.github.com/repos/numiko/packagist\"}, \"payload\": {\"push_id\": 2226161746, \"size\": 1, \"distinct_size\": 1, \"ref\": \"refs/heads/master\", \"head\": \"806737e7d940d4ef1eebd6b004457536f1228c9c\", \"before\": \"f539ecaf587e27f1a8ca2082b655c6287fd41451\", \"commits\": [{\"sha\": \"806737e7d940d4ef1eebd6b004457536f1228c9c\", \"author\": {\"name\": \"andywhale\", \"email\": \"aabda98c5e334a3df704ed55c4f406c63a1e73b4@numiko.com\"}, \"message\": \"Update packagist\", \"distinct\": true, \"url\": \"https://api.github.com/repos/numiko/packagist/commits/806737e7d940d4ef1eebd6b004457536f1228c9c\"}]}, \"public\": true, \"created_at\": \"2018-01-01T15:00:10Z\", \"org\": {\"id\": 2065500, \"login\": \"numiko\", \"gravatar_id\": \"\", \"url\": \"https://api.github.com/orgs/numiko\", \"avatar_url\": \"https://avatars.githubusercontent.com/u/2065500?\"}}\n",
      "{\"id\": \"7045119136\", \"type\": \"PushEvent\", \"actor\": {\"id\": 23026379, \"login\": \"jyc99\", \"display_login\": \"jyc99\", \"gravatar_id\": \"\", \"url\": \"https://api.github.com/users/jyc99\", \"avatar_url\": \"https://avatars.githubusercontent.com/u/23026379?\"}, \"repo\": {\"id\": 97558960, \"name\": \"jyc99/store\", \"url\": \"https://api.github.com/repos/jyc99/store\"}, \"payload\": {\"push_id\": 2226161747, \"size\": 1, \"distinct_size\": 1, \"ref\": \"refs/heads/master\", \"head\": \"a29d7a5e0b3631c3ec0666175974a0bd3c306b47\", \"before\": \"d6f2710990d16786de5469b4938d6188a6e855f6\", \"commits\": [{\"sha\": \"a29d7a5e0b3631c3ec0666175974a0bd3c306b47\", \"author\": {\"name\": \"jyc99\", \"email\": \"ea5c35890633d47797657b32063b7aa2ec430fc4@qq.com\"}, \"message\": \"123\", \"distinct\": true, \"url\": \"https://api.github.com/repos/jyc99/store/commits/a29d7a5e0b3631c3ec0666175974a0bd3c306b47\"}]}, \"public\": true, \"created_at\": \"2018-01-01T15:00:10Z\"}\n",
      "{\"id\": \"7045119140\", \"type\": \"ForkEvent\", \"actor\": {\"id\": 19212818, \"login\": \"esk205\", \"display_login\": \"esk205\", \"gravatar_id\": \"\", \"url\": \"https://api.github.com/users/esk205\", \"avatar_url\": \"https://avatars.githubusercontent.com/u/19212818?\"}, \"repo\": {\"id\": 6520784, \"name\": \"RPCS3/rpcs3\", \"url\": \"https://api.github.com/repos/RPCS3/rpcs3\"}, \"payload\": {\"forkee\": {\"id\": 115926136, \"name\": \"rpcs3\", \"full_name\": \"esk205/rpcs3\", \"owner\": {\"login\": \"esk205\", \"id\": 19212818, \"avatar_url\": \"https://avatars2.githubusercontent.com/u/19212818?v=4\", \"gravatar_id\": \"\", \"url\": \"https://api.github.com/users/esk205\", \"html_url\": \"https://github.com/esk205\", \"followers_url\": \"https://api.github.com/users/esk205/followers\", \"following_url\": \"https://api.github.com/users/esk205/following{/other_user}\", \"gists_url\": \"https://api.github.com/users/esk205/gists{/gist_id}\", \"starred_url\": \"https://api.github.com/users/esk205/starred{/owner}{/repo}\", \"subscriptions_url\": \"https://api.github.com/users/esk205/subscriptions\", \"organizations_url\": \"https://api.github.com/users/esk205/orgs\", \"repos_url\": \"https://api.github.com/users/esk205/repos\", \"events_url\": \"https://api.github.com/users/esk205/events{/privacy}\", \"received_events_url\": \"https://api.github.com/users/esk205/received_events\", \"type\": \"User\", \"site_admin\": false}, \"private\": false, \"html_url\": \"https://github.com/esk205/rpcs3\", \"description\": \"PS3 emulator/debugger\", \"fork\": true, \"url\": \"https://api.github.com/repos/esk205/rpcs3\", \"forks_url\": \"https://api.github.com/repos/esk205/rpcs3/forks\", \"keys_url\": \"https://api.github.com/repos/esk205/rpcs3/keys{/key_id}\", \"collaborators_url\": \"https://api.github.com/repos/esk205/rpcs3/collaborators{/collaborator}\", \"teams_url\": \"https://api.github.com/repos/esk205/rpcs3/teams\", \"hooks_url\": \"https://api.github.com/repos/esk205/rpcs3/hooks\", \"issue_events_url\": \"https://api.github.com/repos/esk205/rpcs3/issues/events{/number}\", \"events_url\": \"https://api.github.com/repos/esk205/rpcs3/events\", \"assignees_url\": \"https://api.github.com/repos/esk205/rpcs3/assignees{/user}\", \"branches_url\": \"https://api.github.com/repos/esk205/rpcs3/branches{/branch}\", \"tags_url\": \"https://api.github.com/repos/esk205/rpcs3/tags\", \"blobs_url\": \"https://api.github.com/repos/esk205/rpcs3/git/blobs{/sha}\", \"git_tags_url\": \"https://api.github.com/repos/esk205/rpcs3/git/tags{/sha}\", \"git_refs_url\": \"https://api.github.com/repos/esk205/rpcs3/git/refs{/sha}\", \"trees_url\": \"https://api.github.com/repos/esk205/rpcs3/git/trees{/sha}\", \"statuses_url\": \"https://api.github.com/repos/esk205/rpcs3/statuses/{sha}\", \"languages_url\": \"https://api.github.com/repos/esk205/rpcs3/languages\", \"stargazers_url\": \"https://api.github.com/repos/esk205/rpcs3/stargazers\", \"contributors_url\": \"https://api.github.com/repos/esk205/rpcs3/contributors\", \"subscribers_url\": \"https://api.github.com/repos/esk205/rpcs3/subscribers\", \"subscription_url\": \"https://api.github.com/repos/esk205/rpcs3/subscription\", \"commits_url\": \"https://api.github.com/repos/esk205/rpcs3/commits{/sha}\", \"git_commits_url\": \"https://api.github.com/repos/esk205/rpcs3/git/commits{/sha}\", \"comments_url\": \"https://api.github.com/repos/esk205/rpcs3/comments{/number}\", \"issue_comment_url\": \"https://api.github.com/repos/esk205/rpcs3/issues/comments{/number}\", \"contents_url\": \"https://api.github.com/repos/esk205/rpcs3/contents/{+path}\", \"compare_url\": \"https://api.github.com/repos/esk205/rpcs3/compare/{base}...{head}\", \"merges_url\": \"https://api.github.com/repos/esk205/rpcs3/merges\", \"archive_url\": \"https://api.github.com/repos/esk205/rpcs3/{archive_format}{/ref}\", \"downloads_url\": \"https://api.github.com/repos/esk205/rpcs3/downloads\", \"issues_url\": \"https://api.github.com/repos/esk205/rpcs3/issues{/number}\", \"pulls_url\": \"https://api.github.com/repos/esk205/rpcs3/pulls{/number}\", \"milestones_url\": \"https://api.github.com/repos/esk205/rpcs3/milestones{/number}\", \"notifications_url\": \"https://api.github.com/repos/esk205/rpcs3/notifications{?since,all,participating}\", \"labels_url\": \"https://api.github.com/repos/esk205/rpcs3/labels{/name}\", \"releases_url\": \"https://api.github.com/repos/esk205/rpcs3/releases{/id}\", \"deployments_url\": \"https://api.github.com/repos/esk205/rpcs3/deployments\", \"created_at\": \"2018-01-01T15:00:10Z\", \"updated_at\": \"2018-01-01T01:55:17Z\", \"pushed_at\": \"2018-01-01T14:29:57Z\", \"git_url\": \"git://github.com/esk205/rpcs3.git\", \"ssh_url\": \"git@github.com:esk205/rpcs3.git\", \"clone_url\": \"https://github.com/esk205/rpcs3.git\", \"svn_url\": \"https://github.com/esk205/rpcs3\", \"homepage\": \"https://rpcs3.net/\", \"size\": 45954, \"stargazers_count\": 0, \"watchers_count\": 0, \"language\": null, \"has_issues\": false, \"has_projects\": true, \"has_downloads\": true, \"has_wiki\": true, \"has_pages\": false, \"forks_count\": 0, \"mirror_url\": null, \"archived\": false, \"open_issues_count\": 0, \"license\": null, \"forks\": 0, \"open_issues\": 0, \"watchers\": 0, \"default_branch\": \"master\", \"public\": true}}, \"public\": true, \"created_at\": \"2018-01-01T15:00:10Z\", \"org\": {\"id\": 8070735, \"login\": \"RPCS3\", \"gravatar_id\": \"\", \"url\": \"https://api.github.com/orgs/RPCS3\", \"avatar_url\": \"https://avatars.githubusercontent.com/u/8070735?\"}}\n",
      "{\"id\": \"7045119149\", \"type\": \"PullRequestEvent\", \"actor\": {\"id\": 18074506, \"login\": \"iamvane\", \"display_login\": \"iamvane\", \"gravatar_id\": \"\", \"url\": \"https://api.github.com/users/iamvane\", \"avatar_url\": \"https://avatars.githubusercontent.com/u/18074506?\"}, \"repo\": {\"id\": 114398217, \"name\": \"iamvane/nabi_api\", \"url\": \"https://api.github.com/repos/iamvane/nabi_api\"}, \"payload\": {\"action\": \"closed\", \"number\": 5, \"pull_request\": {\"url\": \"https://api.github.com/repos/iamvane/nabi_api/pulls/5\", \"id\": 160650726, \"html_url\": \"https://github.com/iamvane/nabi_api/pull/5\", \"diff_url\": \"https://github.com/iamvane/nabi_api/pull/5.diff\", \"patch_url\": \"https://github.com/iamvane/nabi_api/pull/5.patch\", \"issue_url\": \"https://api.github.com/repos/iamvane/nabi_api/issues/5\", \"number\": 5, \"state\": \"closed\", \"locked\": false, \"title\": \"Nabi 31 unit tests\", \"user\": {\"login\": \"iamvane\", \"id\": 18074506, \"avatar_url\": \"https://avatars2.githubusercontent.com/u/18074506?v=4\", \"gravatar_id\": \"\", \"url\": \"https://api.github.com/users/iamvane\", \"html_url\": \"https://github.com/iamvane\", \"followers_url\": \"https://api.github.com/users/iamvane/followers\", \"following_url\": \"https://api.github.com/users/iamvane/following{/other_user}\", \"gists_url\": \"https://api.github.com/users/iamvane/gists{/gist_id}\", \"starred_url\": \"https://api.github.com/users/iamvane/starred{/owner}{/repo}\", \"subscriptions_url\": \"https://api.github.com/users/iamvane/subscriptions\", \"organizations_url\": \"https://api.github.com/users/iamvane/orgs\", \"repos_url\": \"https://api.github.com/users/iamvane/repos\", \"events_url\": \"https://api.github.com/users/iamvane/events{/privacy}\", \"received_events_url\": \"https://api.github.com/users/iamvane/received_events\", \"type\": \"User\", \"site_admin\": false}, \"body\": \"-Organized application\\r\\n-Wrote configuration\\r\\n-Finished tests for initial resources\", \"created_at\": \"2018-01-01T15:00:01Z\", \"updated_at\": \"2018-01-01T15:00:10Z\", \"closed_at\": \"2018-01-01T15:00:10Z\", \"merged_at\": \"2018-01-01T15:00:10Z\", \"merge_commit_sha\": \"2fe28c0bca32933551ddad6dc388a36c748f07d1\", \"assignee\": null, \"assignees\": [], \"requested_reviewers\": [], \"milestone\": null, \"commits_url\": \"https://api.github.com/repos/iamvane/nabi_api/pulls/5/commits\", \"review_comments_url\": \"https://api.github.com/repos/iamvane/nabi_api/pulls/5/comments\", \"review_comment_url\": \"https://api.github.com/repos/iamvane/nabi_api/pulls/comments{/number}\", \"comments_url\": \"https://api.github.com/repos/iamvane/nabi_api/issues/5/comments\", \"statuses_url\": \"https://api.github.com/repos/iamvane/nabi_api/statuses/4bbd840b75ab6e45bcec4053f455d76ceb9b3a92\", \"head\": {\"label\": \"iamvane:nabi-31-unit-tests\", \"ref\": \"nabi-31-unit-tests\", \"sha\": \"4bbd840b75ab6e45bcec4053f455d76ceb9b3a92\", \"user\": {\"login\": \"iamvane\", \"id\": 18074506, \"avatar_url\": \"https://avatars2.githubusercontent.com/u/18074506?v=4\", \"gravatar_id\": \"\", \"url\": \"https://api.github.com/users/iamvane\", \"html_url\": \"https://github.com/iamvane\", \"followers_url\": \"https://api.github.com/users/iamvane/followers\", \"following_url\": \"https://api.github.com/users/iamvane/following{/other_user}\", \"gists_url\": \"https://api.github.com/users/iamvane/gists{/gist_id}\", \"starred_url\": \"https://api.github.com/users/iamvane/starred{/owner}{/repo}\", \"subscriptions_url\": \"https://api.github.com/users/iamvane/subscriptions\", \"organizations_url\": \"https://api.github.com/users/iamvane/orgs\", \"repos_url\": \"https://api.github.com/users/iamvane/repos\", \"events_url\": \"https://api.github.com/users/iamvane/events{/privacy}\", \"received_events_url\": \"https://api.github.com/users/iamvane/received_events\", \"type\": \"User\", \"site_admin\": false}, \"repo\": {\"id\": 114398217, \"name\": \"nabi_api\", \"full_name\": \"iamvane/nabi_api\", \"owner\": {\"login\": \"iamvane\", \"id\": 18074506, \"avatar_url\": \"https://avatars2.githubusercontent.com/u/18074506?v=4\", \"gravatar_id\": \"\", \"url\": \"https://api.github.com/users/iamvane\", \"html_url\": \"https://github.com/iamvane\", \"followers_url\": \"https://api.github.com/users/iamvane/followers\", \"following_url\": \"https://api.github.com/users/iamvane/following{/other_user}\", \"gists_url\": \"https://api.github.com/users/iamvane/gists{/gist_id}\", \"starred_url\": \"https://api.github.com/users/iamvane/starred{/owner}{/repo}\", \"subscriptions_url\": \"https://api.github.com/users/iamvane/subscriptions\", \"organizations_url\": \"https://api.github.com/users/iamvane/orgs\", \"repos_url\": \"https://api.github.com/users/iamvane/repos\", \"events_url\": \"https://api.github.com/users/iamvane/events{/privacy}\", \"received_events_url\": \"https://api.github.com/users/iamvane/received_events\", \"type\": \"User\", \"site_admin\": false}, \"private\": false, \"html_url\": \"https://github.com/iamvane/nabi_api\", \"description\": null, \"fork\": false, \"url\": \"https://api.github.com/repos/iamvane/nabi_api\", \"forks_url\": \"https://api.github.com/repos/iamvane/nabi_api/forks\", \"keys_url\": \"https://api.github.com/repos/iamvane/nabi_api/keys{/key_id}\", \"collaborators_url\": \"https://api.github.com/repos/iamvane/nabi_api/collaborators{/collaborator}\", \"teams_url\": \"https://api.github.com/repos/iamvane/nabi_api/teams\", \"hooks_url\": \"https://api.github.com/repos/iamvane/nabi_api/hooks\", \"issue_events_url\": \"https://api.github.com/repos/iamvane/nabi_api/issues/events{/number}\", \"events_url\": \"https://api.github.com/repos/iamvane/nabi_api/events\", \"assignees_url\": \"https://api.github.com/repos/iamvane/nabi_api/assignees{/user}\", \"branches_url\": \"https://api.github.com/repos/iamvane/nabi_api/branches{/branch}\", \"tags_url\": \"https://api.github.com/repos/iamvane/nabi_api/tags\", \"blobs_url\": \"https://api.github.com/repos/iamvane/nabi_api/git/blobs{/sha}\", \"git_tags_url\": \"https://api.github.com/repos/iamvane/nabi_api/git/tags{/sha}\", \"git_refs_url\": \"https://api.github.com/repos/iamvane/nabi_api/git/refs{/sha}\", \"trees_url\": \"https://api.github.com/repos/iamvane/nabi_api/git/trees{/sha}\", \"statuses_url\": \"https://api.github.com/repos/iamvane/nabi_api/statuses/{sha}\", \"languages_url\": \"https://api.github.com/repos/iamvane/nabi_api/languages\", \"stargazers_url\": \"https://api.github.com/repos/iamvane/nabi_api/stargazers\", \"contributors_url\": \"https://api.github.com/repos/iamvane/nabi_api/contributors\", \"subscribers_url\": \"https://api.github.com/repos/iamvane/nabi_api/subscribers\", \"subscription_url\": \"https://api.github.com/repos/iamvane/nabi_api/subscription\", \"commits_url\": \"https://api.github.com/repos/iamvane/nabi_api/commits{/sha}\", \"git_commits_url\": \"https://api.github.com/repos/iamvane/nabi_api/git/commits{/sha}\", \"comments_url\": \"https://api.github.com/repos/iamvane/nabi_api/comments{/number}\", \"issue_comment_url\": \"https://api.github.com/repos/iamvane/nabi_api/issues/comments{/number}\", \"contents_url\": \"https://api.github.com/repos/iamvane/nabi_api/contents/{+path}\", \"compare_url\": \"https://api.github.com/repos/iamvane/nabi_api/compare/{base}...{head}\", \"merges_url\": \"https://api.github.com/repos/iamvane/nabi_api/merges\", \"archive_url\": \"https://api.github.com/repos/iamvane/nabi_api/{archive_format}{/ref}\", \"downloads_url\": \"https://api.github.com/repos/iamvane/nabi_api/downloads\", \"issues_url\": \"https://api.github.com/repos/iamvane/nabi_api/issues{/number}\", \"pulls_url\": \"https://api.github.com/repos/iamvane/nabi_api/pulls{/number}\", \"milestones_url\": \"https://api.github.com/repos/iamvane/nabi_api/milestones{/number}\", \"notifications_url\": \"https://api.github.com/repos/iamvane/nabi_api/notifications{?since,all,participating}\", \"labels_url\": \"https://api.github.com/repos/iamvane/nabi_api/labels{/name}\", \"releases_url\": \"https://api.github.com/repos/iamvane/nabi_api/releases{/id}\", \"deployments_url\": \"https://api.github.com/repos/iamvane/nabi_api/deployments\", \"created_at\": \"2017-12-15T18:04:37Z\", \"updated_at\": \"2017-12-15T18:16:47Z\", \"pushed_at\": \"2018-01-01T15:00:10Z\", \"git_url\": \"git://github.com/iamvane/nabi_api.git\", \"ssh_url\": \"git@github.com:iamvane/nabi_api.git\", \"clone_url\": \"https://github.com/iamvane/nabi_api.git\", \"svn_url\": \"https://github.com/iamvane/nabi_api\", \"homepage\": null, \"size\": 50, \"stargazers_count\": 0, \"watchers_count\": 0, \"language\": \"JavaScript\", \"has_issues\": true, \"has_projects\": true, \"has_downloads\": true, \"has_wiki\": true, \"has_pages\": false, \"forks_count\": 0, \"mirror_url\": null, \"archived\": false, \"open_issues_count\": 0, \"license\": null, \"forks\": 0, \"open_issues\": 0, \"watchers\": 0, \"default_branch\": \"master\"}}, \"base\": {\"label\": \"iamvane:master\", \"ref\": \"master\", \"sha\": \"70f1408dcf3a64fca6160b0bc8a5120dce7c9909\", \"user\": {\"login\": \"iamvane\", \"id\": 18074506, \"avatar_url\": \"https://avatars2.githubusercontent.com/u/18074506?v=4\", \"gravatar_id\": \"\", \"url\": \"https://api.github.com/users/iamvane\", \"html_url\": \"https://github.com/iamvane\", \"followers_url\": \"https://api.github.com/users/iamvane/followers\", \"following_url\": \"https://api.github.com/users/iamvane/following{/other_user}\", \"gists_url\": \"https://api.github.com/users/iamvane/gists{/gist_id}\", \"starred_url\": \"https://api.github.com/users/iamvane/starred{/owner}{/repo}\", \"subscriptions_url\": \"https://api.github.com/users/iamvane/subscriptions\", \"organizations_url\": \"https://api.github.com/users/iamvane/orgs\", \"repos_url\": \"https://api.github.com/users/iamvane/repos\", \"events_url\": \"https://api.github.com/users/iamvane/events{/privacy}\", \"received_events_url\": \"https://api.github.com/users/iamvane/received_events\", \"type\": \"User\", \"site_admin\": false}, \"repo\": {\"id\": 114398217, \"name\": \"nabi_api\", \"full_name\": \"iamvane/nabi_api\", \"owner\": {\"login\": \"iamvane\", \"id\": 18074506, \"avatar_url\": \"https://avatars2.githubusercontent.com/u/18074506?v=4\", \"gravatar_id\": \"\", \"url\": \"https://api.github.com/users/iamvane\", \"html_url\": \"https://github.com/iamvane\", \"followers_url\": \"https://api.github.com/users/iamvane/followers\", \"following_url\": \"https://api.github.com/users/iamvane/following{/other_user}\", \"gists_url\": \"https://api.github.com/users/iamvane/gists{/gist_id}\", \"starred_url\": \"https://api.github.com/users/iamvane/starred{/owner}{/repo}\", \"subscriptions_url\": \"https://api.github.com/users/iamvane/subscriptions\", \"organizations_url\": \"https://api.github.com/users/iamvane/orgs\", \"repos_url\": \"https://api.github.com/users/iamvane/repos\", \"events_url\": \"https://api.github.com/users/iamvane/events{/privacy}\", \"received_events_url\": \"https://api.github.com/users/iamvane/received_events\", \"type\": \"User\", \"site_admin\": false}, \"private\": false, \"html_url\": \"https://github.com/iamvane/nabi_api\", \"description\": null, \"fork\": false, \"url\": \"https://api.github.com/repos/iamvane/nabi_api\", \"forks_url\": \"https://api.github.com/repos/iamvane/nabi_api/forks\", \"keys_url\": \"https://api.github.com/repos/iamvane/nabi_api/keys{/key_id}\", \"collaborators_url\": \"https://api.github.com/repos/iamvane/nabi_api/collaborators{/collaborator}\", \"teams_url\": \"https://api.github.com/repos/iamvane/nabi_api/teams\", \"hooks_url\": \"https://api.github.com/repos/iamvane/nabi_api/hooks\", \"issue_events_url\": \"https://api.github.com/repos/iamvane/nabi_api/issues/events{/number}\", \"events_url\": \"https://api.github.com/repos/iamvane/nabi_api/events\", \"assignees_url\": \"https://api.github.com/repos/iamvane/nabi_api/assignees{/user}\", \"branches_url\": \"https://api.github.com/repos/iamvane/nabi_api/branches{/branch}\", \"tags_url\": \"https://api.github.com/repos/iamvane/nabi_api/tags\", \"blobs_url\": \"https://api.github.com/repos/iamvane/nabi_api/git/blobs{/sha}\", \"git_tags_url\": \"https://api.github.com/repos/iamvane/nabi_api/git/tags{/sha}\", \"git_refs_url\": \"https://api.github.com/repos/iamvane/nabi_api/git/refs{/sha}\", \"trees_url\": \"https://api.github.com/repos/iamvane/nabi_api/git/trees{/sha}\", \"statuses_url\": \"https://api.github.com/repos/iamvane/nabi_api/statuses/{sha}\", \"languages_url\": \"https://api.github.com/repos/iamvane/nabi_api/languages\", \"stargazers_url\": \"https://api.github.com/repos/iamvane/nabi_api/stargazers\", \"contributors_url\": \"https://api.github.com/repos/iamvane/nabi_api/contributors\", \"subscribers_url\": \"https://api.github.com/repos/iamvane/nabi_api/subscribers\", \"subscription_url\": \"https://api.github.com/repos/iamvane/nabi_api/subscription\", \"commits_url\": \"https://api.github.com/repos/iamvane/nabi_api/commits{/sha}\", \"git_commits_url\": \"https://api.github.com/repos/iamvane/nabi_api/git/commits{/sha}\", \"comments_url\": \"https://api.github.com/repos/iamvane/nabi_api/comments{/number}\", \"issue_comment_url\": \"https://api.github.com/repos/iamvane/nabi_api/issues/comments{/number}\", \"contents_url\": \"https://api.github.com/repos/iamvane/nabi_api/contents/{+path}\", \"compare_url\": \"https://api.github.com/repos/iamvane/nabi_api/compare/{base}...{head}\", \"merges_url\": \"https://api.github.com/repos/iamvane/nabi_api/merges\", \"archive_url\": \"https://api.github.com/repos/iamvane/nabi_api/{archive_format}{/ref}\", \"downloads_url\": \"https://api.github.com/repos/iamvane/nabi_api/downloads\", \"issues_url\": \"https://api.github.com/repos/iamvane/nabi_api/issues{/number}\", \"pulls_url\": \"https://api.github.com/repos/iamvane/nabi_api/pulls{/number}\", \"milestones_url\": \"https://api.github.com/repos/iamvane/nabi_api/milestones{/number}\", \"notifications_url\": \"https://api.github.com/repos/iamvane/nabi_api/notifications{?since,all,participating}\", \"labels_url\": \"https://api.github.com/repos/iamvane/nabi_api/labels{/name}\", \"releases_url\": \"https://api.github.com/repos/iamvane/nabi_api/releases{/id}\", \"deployments_url\": \"https://api.github.com/repos/iamvane/nabi_api/deployments\", \"created_at\": \"2017-12-15T18:04:37Z\", \"updated_at\": \"2017-12-15T18:16:47Z\", \"pushed_at\": \"2018-01-01T15:00:10Z\", \"git_url\": \"git://github.com/iamvane/nabi_api.git\", \"ssh_url\": \"git@github.com:iamvane/nabi_api.git\", \"clone_url\": \"https://github.com/iamvane/nabi_api.git\", \"svn_url\": \"https://github.com/iamvane/nabi_api\", \"homepage\": null, \"size\": 50, \"stargazers_count\": 0, \"watchers_count\": 0, \"language\": \"JavaScript\", \"has_issues\": true, \"has_projects\": true, \"has_downloads\": true, \"has_wiki\": true, \"has_pages\": false, \"forks_count\": 0, \"mirror_url\": null, \"archived\": false, \"open_issues_count\": 0, \"license\": null, \"forks\": 0, \"open_issues\": 0, \"watchers\": 0, \"default_branch\": \"master\"}}, \"_links\": {\"self\": {\"href\": \"https://api.github.com/repos/iamvane/nabi_api/pulls/5\"}, \"html\": {\"href\": \"https://github.com/iamvane/nabi_api/pull/5\"}, \"issue\": {\"href\": \"https://api.github.com/repos/iamvane/nabi_api/issues/5\"}, \"comments\": {\"href\": \"https://api.github.com/repos/iamvane/nabi_api/issues/5/comments\"}, \"review_comments\": {\"href\": \"https://api.github.com/repos/iamvane/nabi_api/pulls/5/comments\"}, \"review_comment\": {\"href\": \"https://api.github.com/repos/iamvane/nabi_api/pulls/comments{/number}\"}, \"commits\": {\"href\": \"https://api.github.com/repos/iamvane/nabi_api/pulls/5/commits\"}, \"statuses\": {\"href\": \"https://api.github.com/repos/iamvane/nabi_api/statuses/4bbd840b75ab6e45bcec4053f455d76ceb9b3a92\"}}, \"author_association\": \"OWNER\", \"merged\": true, \"mergeable\": null, \"rebaseable\": null, \"mergeable_state\": \"unknown\", \"merged_by\": {\"login\": \"iamvane\", \"id\": 18074506, \"avatar_url\": \"https://avatars2.githubusercontent.com/u/18074506?v=4\", \"gravatar_id\": \"\", \"url\": \"https://api.github.com/users/iamvane\", \"html_url\": \"https://github.com/iamvane\", \"followers_url\": \"https://api.github.com/users/iamvane/followers\", \"following_url\": \"https://api.github.com/users/iamvane/following{/other_user}\", \"gists_url\": \"https://api.github.com/users/iamvane/gists{/gist_id}\", \"starred_url\": \"https://api.github.com/users/iamvane/starred{/owner}{/repo}\", \"subscriptions_url\": \"https://api.github.com/users/iamvane/subscriptions\", \"organizations_url\": \"https://api.github.com/users/iamvane/orgs\", \"repos_url\": \"https://api.github.com/users/iamvane/repos\", \"events_url\": \"https://api.github.com/users/iamvane/events{/privacy}\", \"received_events_url\": \"https://api.github.com/users/iamvane/received_events\", \"type\": \"User\", \"site_admin\": false}, \"comments\": 0, \"review_comments\": 0, \"maintainer_can_modify\": false, \"commits\": 27, \"additions\": 629, \"deletions\": 44, \"changed_files\": 21}}, \"public\": true, \"created_at\": \"2018-01-01T15:00:10Z\"}\n",
      "{\"id\": \"7045119151\", \"type\": \"PushEvent\", \"actor\": {\"id\": 31729134, \"login\": \"seinver\", \"display_login\": \"seinver\", \"gravatar_id\": \"\", \"url\": \"https://api.github.com/users/seinver\", \"avatar_url\": \"https://avatars.githubusercontent.com/u/31729134?\"}, \"repo\": {\"id\": 105450675, \"name\": \"seinver/dad\", \"url\": \"https://api.github.com/repos/seinver/dad\"}, \"payload\": {\"push_id\": 2226161757, \"size\": 1, \"distinct_size\": 1, \"ref\": \"refs/heads/master\", \"head\": \"5192f752ba11baf956b7d2d1cae78ea9e927b516\", \"before\": \"aabd8772069113c28116192a8071ecc1793316c0\", \"commits\": [{\"sha\": \"5192f752ba11baf956b7d2d1cae78ea9e927b516\", \"author\": {\"name\": \"seinver\", \"email\": \"2672b7086d27b6d680e121c3300053976320c852@users.noreply.github.com\"}, \"message\": \"Update kursach\", \"distinct\": true, \"url\": \"https://api.github.com/repos/seinver/dad/commits/5192f752ba11baf956b7d2d1cae78ea9e927b516\"}]}, \"public\": true, \"created_at\": \"2018-01-01T15:00:10Z\"}\n",
      "{\"id\": \"7045119157\", \"type\": \"CreateEvent\", \"actor\": {\"id\": 32643866, \"login\": \"hordosikrisztian\", \"display_login\": \"hordosikrisztian\", \"gravatar_id\": \"\", \"url\": \"https://api.github.com/users/hordosikrisztian\", \"avatar_url\": \"https://avatars.githubusercontent.com/u/32643866?\"}, \"repo\": {\"id\": 115926138, \"name\": \"hordosikrisztian/rock-paper-scissors\", \"url\": \"https://api.github.com/repos/hordosikrisztian/rock-paper-scissors\"}, \"payload\": {\"ref\": null, \"ref_type\": \"repository\", \"master_branch\": \"master\", \"description\": null, \"pusher_type\": \"user\"}, \"public\": true, \"created_at\": \"2018-01-01T15:00:10Z\"}\n",
      "{\"id\": \"7045119158\", \"type\": \"CreateEvent\", \"actor\": {\"id\": 6795378, \"login\": \"JiraiyaGerotora\", \"display_login\": \"JiraiyaGerotora\", \"gravatar_id\": \"\", \"url\": \"https://api.github.com/users/JiraiyaGerotora\", \"avatar_url\": \"https://avatars.githubusercontent.com/u/6795378?\"}, \"repo\": {\"id\": 115926139, \"name\": \"JiraiyaGerotora/Udemy_cpp_btoe\", \"url\": \"https://api.github.com/repos/JiraiyaGerotora/Udemy_cpp_btoe\"}, \"payload\": {\"ref\": null, \"ref_type\": \"repository\", \"master_branch\": \"master\", \"description\": null, \"pusher_type\": \"user\"}, \"public\": true, \"created_at\": \"2018-01-01T15:00:10Z\"}\n",
      "{\"id\": \"7045119159\", \"type\": \"PushEvent\", \"actor\": {\"id\": 16265444, \"login\": \"foxapple\", \"display_login\": \"foxapple\", \"gravatar_id\": \"\", \"url\": \"https://api.github.com/users/foxapple\", \"avatar_url\": \"https://avatars.githubusercontent.com/u/16265444?\"}, \"repo\": {\"id\": 114522791, \"name\": \"foxapple/foxapple.github.io\", \"url\": \"https://api.github.com/repos/foxapple/foxapple.github.io\"}, \"payload\": {\"push_id\": 2226161761, \"size\": 1, \"distinct_size\": 1, \"ref\": \"refs/heads/master\", \"head\": \"d4aeeda5fbe1966e99a799beab24afb0308ef859\", \"before\": \"cf88df016f1be808628513c65d8244150a62d8fd\", \"commits\": [{\"sha\": \"d4aeeda5fbe1966e99a799beab24afb0308ef859\", \"author\": {\"name\": \"foxapple\", \"email\": \"e6e9f867a8238eab81e1b188b27a8b2f0cb07b52@foxmail.com\"}, \"message\": \"new post\", \"distinct\": true, \"url\": \"https://api.github.com/repos/foxapple/foxapple.github.io/commits/d4aeeda5fbe1966e99a799beab24afb0308ef859\"}]}, \"public\": true, \"created_at\": \"2018-01-01T15:00:10Z\"}\n",
      "{\"id\": \"7045119163\", \"type\": \"PullRequestEvent\", \"actor\": {\"id\": 34997530, \"login\": \"happynewyear-2018\", \"display_login\": \"happynewyear-2018\", \"gravatar_id\": \"\", \"url\": \"https://api.github.com/users/happynewyear-2018\", \"avatar_url\": \"https://avatars.githubusercontent.com/u/34997530?\"}, \"repo\": {\"id\": 115907899, \"name\": \"happynewyear-2018/happynewyear-2018.github.io\", \"url\": \"https://api.github.com/repos/happynewyear-2018/happynewyear-2018.github.io\"}, \"payload\": {\"action\": \"opened\", \"number\": 4, \"pull_request\": {\"url\": \"https://api.github.com/repos/happynewyear-2018/happynewyear-2018.github.io/pulls/4\", \"id\": 160650732, \"html_url\": \"https://github.com/happynewyear-2018/happynewyear-2018.github.io/pull/4\", \"diff_url\": \"https://github.com/happynewyear-2018/happynewyear-2018.github.io/pull/4.diff\", \"patch_url\": \"https://github.com/happynewyear-2018/happynewyear-2018.github.io/pull/4.patch\", \"issue_url\": \"https://api.github.com/repos/happynewyear-2018/happynewyear-2018.github.io/issues/4\", \"number\": 4, \"state\": \"open\", \"locked\": false, \"title\": \"auto_merge/20180101_174848_happynewyear-2018\", \"user\": {\"login\": \"happynewyear-2018\", \"id\": 34997530, \"avatar_url\": \"https://avatars3.githubusercontent.com/u/34997530?v=4\", \"gravatar_id\": \"\", \"url\": \"https://api.github.com/users/happynewyear-2018\", \"html_url\": \"https://github.com/happynewyear-2018\", \"followers_url\": \"https://api.github.com/users/happynewyear-2018/followers\", \"following_url\": \"https://api.github.com/users/happynewyear-2018/following{/other_user}\", \"gists_url\": \"https://api.github.com/users/happynewyear-2018/gists{/gist_id}\", \"starred_url\": \"https://api.github.com/users/happynewyear-2018/starred{/owner}{/repo}\", \"subscriptions_url\": \"https://api.github.com/users/happynewyear-2018/subscriptions\", \"organizations_url\": \"https://api.github.com/users/happynewyear-2018/orgs\", \"repos_url\": \"https://api.github.com/users/happynewyear-2018/repos\", \"events_url\": \"https://api.github.com/users/happynewyear-2018/events{/privacy}\", \"received_events_url\": \"https://api.github.com/users/happynewyear-2018/received_events\", \"type\": \"User\", \"site_admin\": false}, \"body\": null, \"created_at\": \"2018-01-01T15:00:10Z\", \"updated_at\": \"2018-01-01T15:00:10Z\", \"closed_at\": null, \"merged_at\": null, \"merge_commit_sha\": null, \"assignee\": null, \"assignees\": [], \"requested_reviewers\": [], \"milestone\": null, \"commits_url\": \"https://api.github.com/repos/happynewyear-2018/happynewyear-2018.github.io/pulls/4/commits\", \"review_comments_url\": \"https://api.github.com/repos/happynewyear-2018/happynewyear-2018.github.io/pulls/4/comments\", \"review_comment_url\": \"https://api.github.com/repos/happynewyear-2018/happynewyear-2018.github.io/pulls/comments{/number}\", \"comments_url\": \"https://api.github.com/repos/happynewyear-2018/happynewyear-2018.github.io/issues/4/comments\", \"statuses_url\": \"https://api.github.com/repos/happynewyear-2018/happynewyear-2018.github.io/statuses/85f2a7774c506533a1392929b5ba54bfb43994f6\", \"head\": {\"label\": \"happynewyear-2018:auto_merge/20180101_174848_happynewyear-2018\", \"ref\": \"auto_merge/20180101_174848_happynewyear-2018\", \"sha\": \"85f2a7774c506533a1392929b5ba54bfb43994f6\", \"user\": {\"login\": \"happynewyear-2018\", \"id\": 34997530, \"avatar_url\": \"https://avatars3.githubusercontent.com/u/34997530?v=4\", \"gravatar_id\": \"\", \"url\": \"https://api.github.com/users/happynewyear-2018\", \"html_url\": \"https://github.com/happynewyear-2018\", \"followers_url\": \"https://api.github.com/users/happynewyear-2018/followers\", \"following_url\": \"https://api.github.com/users/happynewyear-2018/following{/other_user}\", \"gists_url\": \"https://api.github.com/users/happynewyear-2018/gists{/gist_id}\", \"starred_url\": \"https://api.github.com/users/happynewyear-2018/starred{/owner}{/repo}\", \"subscriptions_url\": \"https://api.github.com/users/happynewyear-2018/subscriptions\", \"organizations_url\": \"https://api.github.com/users/happynewyear-2018/orgs\", \"repos_url\": \"https://api.github.com/users/happynewyear-2018/repos\", \"events_url\": \"https://api.github.com/users/happynewyear-2018/events{/privacy}\", \"received_events_url\": \"https://api.github.com/users/happynewyear-2018/received_events\", \"type\": \"User\", \"site_admin\": false}, \"repo\": {\"id\": 115907899, \"name\": \"happynewyear-2018.github.io\", \"full_name\": \"happynewyear-2018/happynewyear-2018.github.io\", \"owner\": {\"login\": \"happynewyear-2018\", \"id\": 34997530, \"avatar_url\": \"https://avatars3.githubusercontent.com/u/34997530?v=4\", \"gravatar_id\": \"\", \"url\": \"https://api.github.com/users/happynewyear-2018\", \"html_url\": \"https://github.com/happynewyear-2018\", \"followers_url\": \"https://api.github.com/users/happynewyear-2018/followers\", \"following_url\": \"https://api.github.com/users/happynewyear-2018/following{/other_user}\", \"gists_url\": \"https://api.github.com/users/happynewyear-2018/gists{/gist_id}\", \"starred_url\": \"https://api.github.com/users/happynewyear-2018/starred{/owner}{/repo}\", \"subscriptions_url\": \"https://api.github.com/users/happynewyear-2018/subscriptions\", \"organizations_url\": \"https://api.github.com/users/happynewyear-2018/orgs\", \"repos_url\": \"https://api.github.com/users/happynewyear-2018/repos\", \"events_url\": \"https://api.github.com/users/happynewyear-2018/events{/privacy}\", \"received_events_url\": \"https://api.github.com/users/happynewyear-2018/received_events\", \"type\": \"User\", \"site_admin\": false}, \"private\": false, \"html_url\": \"https://github.com/happynewyear-2018/happynewyear-2018.github.io\", \"description\": \"html\", \"fork\": false, \"url\": \"https://api.github.com/repos/happynewyear-2018/happynewyear-2018.github.io\", \"forks_url\": \"https://api.github.com/repos/happynewyear-2018/happynewyear-2018.github.io/forks\", \"keys_url\": \"https://api.github.com/repos/happynewyear-2018/happynewyear-2018.github.io/keys{/key_id}\", \"collaborators_url\": \"https://api.github.com/repos/happynewyear-2018/happynewyear-2018.github.io/collaborators{/collaborator}\", \"teams_url\": \"https://api.github.com/repos/happynewyear-2018/happynewyear-2018.github.io/teams\", \"hooks_url\": \"https://api.github.com/repos/happynewyear-2018/happynewyear-2018.github.io/hooks\", \"issue_events_url\": \"https://api.github.com/repos/happynewyear-2018/happynewyear-2018.github.io/issues/events{/number}\", \"events_url\": \"https://api.github.com/repos/happynewyear-2018/happynewyear-2018.github.io/events\", \"assignees_url\": \"https://api.github.com/repos/happynewyear-2018/happynewyear-2018.github.io/assignees{/user}\", \"branches_url\": \"https://api.github.com/repos/happynewyear-2018/happynewyear-2018.github.io/branches{/branch}\", \"tags_url\": \"https://api.github.com/repos/happynewyear-2018/happynewyear-2018.github.io/tags\", \"blobs_url\": \"https://api.github.com/repos/happynewyear-2018/happynewyear-2018.github.io/git/blobs{/sha}\", \"git_tags_url\": \"https://api.github.com/repos/happynewyear-2018/happynewyear-2018.github.io/git/tags{/sha}\", \"git_refs_url\": \"https://api.github.com/repos/happynewyear-2018/happynewyear-2018.github.io/git/refs{/sha}\", \"trees_url\": \"https://api.github.com/repos/happynewyear-2018/happynewyear-2018.github.io/git/trees{/sha}\", \"statuses_url\": \"https://api.github.com/repos/happynewyear-2018/happynewyear-2018.github.io/statuses/{sha}\", \"languages_url\": \"https://api.github.com/repos/happynewyear-2018/happynewyear-2018.github.io/languages\", \"stargazers_url\": \"https://api.github.com/repos/happynewyear-2018/happynewyear-2018.github.io/stargazers\", \"contributors_url\": \"https://api.github.com/repos/happynewyear-2018/happynewyear-2018.github.io/contributors\", \"subscribers_url\": \"https://api.github.com/repos/happynewyear-2018/happynewyear-2018.github.io/subscribers\", \"subscription_url\": \"https://api.github.com/repos/happynewyear-2018/happynewyear-2018.github.io/subscription\", \"commits_url\": \"https://api.github.com/repos/happynewyear-2018/happynewyear-2018.github.io/commits{/sha}\", \"git_commits_url\": \"https://api.github.com/repos/happynewyear-2018/happynewyear-2018.github.io/git/commits{/sha}\", \"comments_url\": \"https://api.github.com/repos/happynewyear-2018/happynewyear-2018.github.io/comments{/number}\", \"issue_comment_url\": \"https://api.github.com/repos/happynewyear-2018/happynewyear-2018.github.io/issues/comments{/number}\", \"contents_url\": \"https://api.github.com/repos/happynewyear-2018/happynewyear-2018.github.io/contents/{+path}\", \"compare_url\": \"https://api.github.com/repos/happynewyear-2018/happynewyear-2018.github.io/compare/{base}...{head}\", \"merges_url\": \"https://api.github.com/repos/happynewyear-2018/happynewyear-2018.github.io/merges\", \"archive_url\": \"https://api.github.com/repos/happynewyear-2018/happynewyear-2018.github.io/{archive_format}{/ref}\", \"downloads_url\": \"https://api.github.com/repos/happynewyear-2018/happynewyear-2018.github.io/downloads\", \"issues_url\": \"https://api.github.com/repos/happynewyear-2018/happynewyear-2018.github.io/issues{/number}\", \"pulls_url\": \"https://api.github.com/repos/happynewyear-2018/happynewyear-2018.github.io/pulls{/number}\", \"milestones_url\": \"https://api.github.com/repos/happynewyear-2018/happynewyear-2018.github.io/milestones{/number}\", \"notifications_url\": \"https://api.github.com/repos/happynewyear-2018/happynewyear-2018.github.io/notifications{?since,all,participating}\", \"labels_url\": \"https://api.github.com/repos/happynewyear-2018/happynewyear-2018.github.io/labels{/name}\", \"releases_url\": \"https://api.github.com/repos/happynewyear-2018/happynewyear-2018.github.io/releases{/id}\", \"deployments_url\": \"https://api.github.com/repos/happynewyear-2018/happynewyear-2018.github.io/deployments\", \"created_at\": \"2018-01-01T08:32:44Z\", \"updated_at\": \"2018-01-01T08:48:34Z\", \"pushed_at\": \"2018-01-01T15:00:09Z\", \"git_url\": \"git://github.com/happynewyear-2018/happynewyear-2018.github.io.git\", \"ssh_url\": \"git@github.com:happynewyear-2018/happynewyear-2018.github.io.git\", \"clone_url\": \"https://github.com/happynewyear-2018/happynewyear-2018.github.io.git\", \"svn_url\": \"https://github.com/happynewyear-2018/happynewyear-2018.github.io\", \"homepage\": null, \"size\": 6493, \"stargazers_count\": 0, \"watchers_count\": 0, \"language\": \"HTML\", \"has_issues\": true, \"has_projects\": true, \"has_downloads\": true, \"has_wiki\": true, \"has_pages\": true, \"forks_count\": 0, \"mirror_url\": null, \"archived\": false, \"open_issues_count\": 1, \"license\": null, \"forks\": 0, \"open_issues\": 1, \"watchers\": 0, \"default_branch\": \"master\"}}, \"base\": {\"label\": \"happynewyear-2018:master\", \"ref\": \"master\", \"sha\": \"f298807172635fbbd9d2b615466368f77199db10\", \"user\": {\"login\": \"happynewyear-2018\", \"id\": 34997530, \"avatar_url\": \"https://avatars3.githubusercontent.com/u/34997530?v=4\", \"gravatar_id\": \"\", \"url\": \"https://api.github.com/users/happynewyear-2018\", \"html_url\": \"https://github.com/happynewyear-2018\", \"followers_url\": \"https://api.github.com/users/happynewyear-2018/followers\", \"following_url\": \"https://api.github.com/users/happynewyear-2018/following{/other_user}\", \"gists_url\": \"https://api.github.com/users/happynewyear-2018/gists{/gist_id}\", \"starred_url\": \"https://api.github.com/users/happynewyear-2018/starred{/owner}{/repo}\", \"subscriptions_url\": \"https://api.github.com/users/happynewyear-2018/subscriptions\", \"organizations_url\": \"https://api.github.com/users/happynewyear-2018/orgs\", \"repos_url\": \"https://api.github.com/users/happynewyear-2018/repos\", \"events_url\": \"https://api.github.com/users/happynewyear-2018/events{/privacy}\", \"received_events_url\": \"https://api.github.com/users/happynewyear-2018/received_events\", \"type\": \"User\", \"site_admin\": false}, \"repo\": {\"id\": 115907899, \"name\": \"happynewyear-2018.github.io\", \"full_name\": \"happynewyear-2018/happynewyear-2018.github.io\", \"owner\": {\"login\": \"happynewyear-2018\", \"id\": 34997530, \"avatar_url\": \"https://avatars3.githubusercontent.com/u/34997530?v=4\", \"gravatar_id\": \"\", \"url\": \"https://api.github.com/users/happynewyear-2018\", \"html_url\": \"https://github.com/happynewyear-2018\", \"followers_url\": \"https://api.github.com/users/happynewyear-2018/followers\", \"following_url\": \"https://api.github.com/users/happynewyear-2018/following{/other_user}\", \"gists_url\": \"https://api.github.com/users/happynewyear-2018/gists{/gist_id}\", \"starred_url\": \"https://api.github.com/users/happynewyear-2018/starred{/owner}{/repo}\", \"subscriptions_url\": \"https://api.github.com/users/happynewyear-2018/subscriptions\", \"organizations_url\": \"https://api.github.com/users/happynewyear-2018/orgs\", \"repos_url\": \"https://api.github.com/users/happynewyear-2018/repos\", \"events_url\": \"https://api.github.com/users/happynewyear-2018/events{/privacy}\", \"received_events_url\": \"https://api.github.com/users/happynewyear-2018/received_events\", \"type\": \"User\", \"site_admin\": false}, \"private\": false, \"html_url\": \"https://github.com/happynewyear-2018/happynewyear-2018.github.io\", \"description\": \"html\", \"fork\": false, \"url\": \"https://api.github.com/repos/happynewyear-2018/happynewyear-2018.github.io\", \"forks_url\": \"https://api.github.com/repos/happynewyear-2018/happynewyear-2018.github.io/forks\", \"keys_url\": \"https://api.github.com/repos/happynewyear-2018/happynewyear-2018.github.io/keys{/key_id}\", \"collaborators_url\": \"https://api.github.com/repos/happynewyear-2018/happynewyear-2018.github.io/collaborators{/collaborator}\", \"teams_url\": \"https://api.github.com/repos/happynewyear-2018/happynewyear-2018.github.io/teams\", \"hooks_url\": \"https://api.github.com/repos/happynewyear-2018/happynewyear-2018.github.io/hooks\", \"issue_events_url\": \"https://api.github.com/repos/happynewyear-2018/happynewyear-2018.github.io/issues/events{/number}\", \"events_url\": \"https://api.github.com/repos/happynewyear-2018/happynewyear-2018.github.io/events\", \"assignees_url\": \"https://api.github.com/repos/happynewyear-2018/happynewyear-2018.github.io/assignees{/user}\", \"branches_url\": \"https://api.github.com/repos/happynewyear-2018/happynewyear-2018.github.io/branches{/branch}\", \"tags_url\": \"https://api.github.com/repos/happynewyear-2018/happynewyear-2018.github.io/tags\", \"blobs_url\": \"https://api.github.com/repos/happynewyear-2018/happynewyear-2018.github.io/git/blobs{/sha}\", \"git_tags_url\": \"https://api.github.com/repos/happynewyear-2018/happynewyear-2018.github.io/git/tags{/sha}\", \"git_refs_url\": \"https://api.github.com/repos/happynewyear-2018/happynewyear-2018.github.io/git/refs{/sha}\", \"trees_url\": \"https://api.github.com/repos/happynewyear-2018/happynewyear-2018.github.io/git/trees{/sha}\", \"statuses_url\": \"https://api.github.com/repos/happynewyear-2018/happynewyear-2018.github.io/statuses/{sha}\", \"languages_url\": \"https://api.github.com/repos/happynewyear-2018/happynewyear-2018.github.io/languages\", \"stargazers_url\": \"https://api.github.com/repos/happynewyear-2018/happynewyear-2018.github.io/stargazers\", \"contributors_url\": \"https://api.github.com/repos/happynewyear-2018/happynewyear-2018.github.io/contributors\", \"subscribers_url\": \"https://api.github.com/repos/happynewyear-2018/happynewyear-2018.github.io/subscribers\", \"subscription_url\": \"https://api.github.com/repos/happynewyear-2018/happynewyear-2018.github.io/subscription\", \"commits_url\": \"https://api.github.com/repos/happynewyear-2018/happynewyear-2018.github.io/commits{/sha}\", \"git_commits_url\": \"https://api.github.com/repos/happynewyear-2018/happynewyear-2018.github.io/git/commits{/sha}\", \"comments_url\": \"https://api.github.com/repos/happynewyear-2018/happynewyear-2018.github.io/comments{/number}\", \"issue_comment_url\": \"https://api.github.com/repos/happynewyear-2018/happynewyear-2018.github.io/issues/comments{/number}\", \"contents_url\": \"https://api.github.com/repos/happynewyear-2018/happynewyear-2018.github.io/contents/{+path}\", \"compare_url\": \"https://api.github.com/repos/happynewyear-2018/happynewyear-2018.github.io/compare/{base}...{head}\", \"merges_url\": \"https://api.github.com/repos/happynewyear-2018/happynewyear-2018.github.io/merges\", \"archive_url\": \"https://api.github.com/repos/happynewyear-2018/happynewyear-2018.github.io/{archive_format}{/ref}\", \"downloads_url\": \"https://api.github.com/repos/happynewyear-2018/happynewyear-2018.github.io/downloads\", \"issues_url\": \"https://api.github.com/repos/happynewyear-2018/happynewyear-2018.github.io/issues{/number}\", \"pulls_url\": \"https://api.github.com/repos/happynewyear-2018/happynewyear-2018.github.io/pulls{/number}\", \"milestones_url\": \"https://api.github.com/repos/happynewyear-2018/happynewyear-2018.github.io/milestones{/number}\", \"notifications_url\": \"https://api.github.com/repos/happynewyear-2018/happynewyear-2018.github.io/notifications{?since,all,participating}\", \"labels_url\": \"https://api.github.com/repos/happynewyear-2018/happynewyear-2018.github.io/labels{/name}\", \"releases_url\": \"https://api.github.com/repos/happynewyear-2018/happynewyear-2018.github.io/releases{/id}\", \"deployments_url\": \"https://api.github.com/repos/happynewyear-2018/happynewyear-2018.github.io/deployments\", \"created_at\": \"2018-01-01T08:32:44Z\", \"updated_at\": \"2018-01-01T08:48:34Z\", \"pushed_at\": \"2018-01-01T15:00:09Z\", \"git_url\": \"git://github.com/happynewyear-2018/happynewyear-2018.github.io.git\", \"ssh_url\": \"git@github.com:happynewyear-2018/happynewyear-2018.github.io.git\", \"clone_url\": \"https://github.com/happynewyear-2018/happynewyear-2018.github.io.git\", \"svn_url\": \"https://github.com/happynewyear-2018/happynewyear-2018.github.io\", \"homepage\": null, \"size\": 6493, \"stargazers_count\": 0, \"watchers_count\": 0, \"language\": \"HTML\", \"has_issues\": true, \"has_projects\": true, \"has_downloads\": true, \"has_wiki\": true, \"has_pages\": true, \"forks_count\": 0, \"mirror_url\": null, \"archived\": false, \"open_issues_count\": 1, \"license\": null, \"forks\": 0, \"open_issues\": 1, \"watchers\": 0, \"default_branch\": \"master\"}}, \"_links\": {\"self\": {\"href\": \"https://api.github.com/repos/happynewyear-2018/happynewyear-2018.github.io/pulls/4\"}, \"html\": {\"href\": \"https://github.com/happynewyear-2018/happynewyear-2018.github.io/pull/4\"}, \"issue\": {\"href\": \"https://api.github.com/repos/happynewyear-2018/happynewyear-2018.github.io/issues/4\"}, \"comments\": {\"href\": \"https://api.github.com/repos/happynewyear-2018/happynewyear-2018.github.io/issues/4/comments\"}, \"review_comments\": {\"href\": \"https://api.github.com/repos/happynewyear-2018/happynewyear-2018.github.io/pulls/4/comments\"}, \"review_comment\": {\"href\": \"https://api.github.com/repos/happynewyear-2018/happynewyear-2018.github.io/pulls/comments{/number}\"}, \"commits\": {\"href\": \"https://api.github.com/repos/happynewyear-2018/happynewyear-2018.github.io/pulls/4/commits\"}, \"statuses\": {\"href\": \"https://api.github.com/repos/happynewyear-2018/happynewyear-2018.github.io/statuses/85f2a7774c506533a1392929b5ba54bfb43994f6\"}}, \"author_association\": \"OWNER\", \"merged\": false, \"mergeable\": null, \"rebaseable\": null, \"mergeable_state\": \"unknown\", \"merged_by\": null, \"comments\": 0, \"review_comments\": 0, \"maintainer_can_modify\": false, \"commits\": 1, \"additions\": 1, \"deletions\": 1, \"changed_files\": 1}}, \"public\": true, \"created_at\": \"2018-01-01T15:00:10Z\"}\n",
      "{\"id\": \"7045119165\", \"type\": \"PushEvent\", \"actor\": {\"id\": 1385823, \"login\": \"505aaron\", \"display_login\": \"505aaron\", \"gravatar_id\": \"\", \"url\": \"https://api.github.com/users/505aaron\", \"avatar_url\": \"https://avatars.githubusercontent.com/u/1385823?\"}, \"repo\": {\"id\": 115760176, \"name\": \"leaniterationsllc/mealprepplan\", \"url\": \"https://api.github.com/repos/leaniterationsllc/mealprepplan\"}, \"payload\": {\"push_id\": 2226161767, \"size\": 1, \"distinct_size\": 1, \"ref\": \"refs/heads/master\", \"head\": \"03bf72a225f015954a38ce455a782b9fd3c5e36b\", \"before\": \"571e38391124a0b6f814706d5bd54dd8a0c20a2a\", \"commits\": [{\"sha\": \"03bf72a225f015954a38ce455a782b9fd3c5e36b\", \"author\": {\"name\": \"Aaron Cordova\", \"email\": \"1503abe08602224ee7f8856d1330c806153efab8@gmail.com\"}, \"message\": \"Adding Google Tag Manager, removing GA\", \"distinct\": true, \"url\": \"https://api.github.com/repos/leaniterationsllc/mealprepplan/commits/03bf72a225f015954a38ce455a782b9fd3c5e36b\"}]}, \"public\": true, \"created_at\": \"2018-01-01T15:00:10Z\", \"org\": {\"id\": 34909282, \"login\": \"leaniterationsllc\", \"gravatar_id\": \"\", \"url\": \"https://api.github.com/orgs/leaniterationsllc\", \"avatar_url\": \"https://avatars.githubusercontent.com/u/34909282?\"}}\n",
      "{\"id\": \"7045119166\", \"type\": \"PushEvent\", \"actor\": {\"id\": 35000242, \"login\": \"ricky1995m12\", \"display_login\": \"ricky1995m12\", \"gravatar_id\": \"\", \"url\": \"https://api.github.com/users/ricky1995m12\", \"avatar_url\": \"https://avatars.githubusercontent.com/u/35000242?\"}, \"repo\": {\"id\": 115918806, \"name\": \"ricky1995m12/galeria-de-videos\", \"url\": \"https://api.github.com/repos/ricky1995m12/galeria-de-videos\"}, \"payload\": {\"push_id\": 2226161768, \"size\": 1, \"distinct_size\": 1, \"ref\": \"refs/heads/master\", \"head\": \"0ad68ec5aab0f7935fd456ae92a00153cd5bd6f0\", \"before\": \"07b45fcb962395799be42b1aad441a65191ba76f\", \"commits\": [{\"sha\": \"0ad68ec5aab0f7935fd456ae92a00153cd5bd6f0\", \"author\": {\"name\": \"Ricardo Arancibia Arancibia\", \"email\": \"d0a526a84a8cce32e51802f9545874aa791f9fe6@gmail.com\"}, \"message\": \"Add head reference and package definition\", \"distinct\": true, \"url\": \"https://api.github.com/repos/ricky1995m12/galeria-de-videos/commits/0ad68ec5aab0f7935fd456ae92a00153cd5bd6f0\"}]}, \"public\": true, \"created_at\": \"2018-01-01T15:00:10Z\"}\n",
      "{\"id\": \"7045119144\", \"type\": \"PushEvent\", \"actor\": {\"id\": 4039449, \"login\": \"samuelcolvin\", \"display_login\": \"samuelcolvin\", \"gravatar_id\": \"\", \"url\": \"https://api.github.com/users/samuelcolvin\", \"avatar_url\": \"https://avatars.githubusercontent.com/u/4039449?\"}, \"repo\": {\"id\": 68917117, \"name\": \"aio-libs/aiohttp-devtools\", \"url\": \"https://api.github.com/repos/aio-libs/aiohttp-devtools\"}, \"payload\": {\"push_id\": 2226161753, \"size\": 1, \"distinct_size\": 1, \"ref\": \"refs/heads/pyup-scheduled-update-01-01-2018\", \"head\": \"00dc2ef68a715042ee76920e2531ddf6851d0944\", \"before\": \"1ba778e33bc01403c75477665ca508b514deb3db\", \"commits\": [{\"sha\": \"00dc2ef68a715042ee76920e2531ddf6851d0944\", \"author\": {\"name\": \"pyup-bot\", \"email\": \"014ca7bb507255f115360f46141ad318dcf61352@pyup.io\"}, \"message\": \"Update pytest from 3.2.3 to 3.3.1\", \"distinct\": true, \"url\": \"https://api.github.com/repos/aio-libs/aiohttp-devtools/commits/00dc2ef68a715042ee76920e2531ddf6851d0944\"}]}, \"public\": true, \"created_at\": \"2018-01-01T15:00:11Z\", \"org\": {\"id\": 7049303, \"login\": \"aio-libs\", \"gravatar_id\": \"\", \"url\": \"https://api.github.com/orgs/aio-libs\", \"avatar_url\": \"https://avatars.githubusercontent.com/u/7049303?\"}}\n",
      "{\"id\": \"7045119147\", \"type\": \"CreateEvent\", \"actor\": {\"id\": 33388236, \"login\": \"yutingeko\", \"display_login\": \"yutingeko\", \"gravatar_id\": \"\", \"url\": \"https://api.github.com/users/yutingeko\", \"avatar_url\": \"https://avatars.githubusercontent.com/u/33388236?\"}, \"repo\": {\"id\": 115926137, \"name\": \"yutingeko/react_practice\", \"url\": \"https://api.github.com/repos/yutingeko/react_practice\"}, \"payload\": {\"ref\": null, \"ref_type\": \"repository\", \"master_branch\": \"master\", \"description\": \"creat-react-app + less\", \"pusher_type\": \"user\"}, \"public\": true, \"created_at\": \"2018-01-01T15:00:11Z\"}\n",
      "{\"id\": \"7045119164\", \"type\": \"PushEvent\", \"actor\": {\"id\": 4883379, \"login\": \"detomon\", \"display_login\": \"detomon\", \"gravatar_id\": \"\", \"url\": \"https://api.github.com/users/detomon\", \"avatar_url\": \"https://avatars.githubusercontent.com/u/4883379?\"}, \"repo\": {\"id\": 114608592, \"name\": \"detomon/BlipKit-wasm\", \"url\": \"https://api.github.com/repos/detomon/BlipKit-wasm\"}, \"payload\": {\"push_id\": 2226161766, \"size\": 1, \"distinct_size\": 1, \"ref\": \"refs/heads/master\", \"head\": \"4804ef5fd83fdf25a275bb70cd6a40b6b51c0c64\", \"before\": \"10e31a05bbcf2de6904fef6e2dd7719713f3d3fb\", \"commits\": [{\"sha\": \"4804ef5fd83fdf25a275bb70cd6a40b6b51c0c64\", \"author\": {\"name\": \"detomon\", \"email\": \"088e16a1019277b15d58faf0541e11910eb756f6@monoxid.ch\"}, \"message\": \"Add source compiler\", \"distinct\": true, \"url\": \"https://api.github.com/repos/detomon/BlipKit-wasm/commits/4804ef5fd83fdf25a275bb70cd6a40b6b51c0c64\"}]}, \"public\": true, \"created_at\": \"2018-01-01T15:00:11Z\"}\n",
      "{\"id\": \"7045119167\", \"type\": \"PushEvent\", \"actor\": {\"id\": 32526637, \"login\": \"gjkbot\", \"display_login\": \"gjkbot\", \"gravatar_id\": \"\", \"url\": \"https://api.github.com/users/gjkbot\", \"avatar_url\": \"https://avatars.githubusercontent.com/u/32526637?\"}, \"repo\": {\"id\": 110349856, \"name\": \"rust-gjk/snapshot2\", \"url\": \"https://api.github.com/repos/rust-gjk/snapshot2\"}, \"payload\": {\"push_id\": 2226161770, \"size\": 1, \"distinct_size\": 1, \"ref\": \"refs/heads/master\", \"head\": \"33b844fd5dd43f26e8a60bc3f545e843bc1ccc52\", \"before\": \"4ff16e8ac44d69032f43ae4e29435a4d071d55f1\", \"commits\": [{\"sha\": \"33b844fd5dd43f26e8a60bc3f545e843bc1ccc52\", \"author\": {\"name\": \"gjkbot\", \"email\": \"7b41f80fc68bc2a989356f0c048a4a08095efefc@magnusi.tech\"}, \"message\": \"Mon Jan  1 15:00:02 UTC 2018\", \"distinct\": true, \"url\": \"https://api.github.com/repos/rust-gjk/snapshot2/commits/33b844fd5dd43f26e8a60bc3f545e843bc1ccc52\"}]}, \"public\": true, \"created_at\": \"2018-01-01T15:00:11Z\", \"org\": {\"id\": 32524621, \"login\": \"rust-gjk\", \"gravatar_id\": \"\", \"url\": \"https://api.github.com/orgs/rust-gjk\", \"avatar_url\": \"https://avatars.githubusercontent.com/u/32524621?\"}}\n",
      "{\"id\": \"7045119175\", \"type\": \"PushEvent\", \"actor\": {\"id\": 9758711, \"login\": \"axetroy\", \"display_login\": \"axetroy\", \"gravatar_id\": \"\", \"url\": \"https://api.github.com/users/axetroy\", \"avatar_url\": \"https://avatars.githubusercontent.com/u/9758711?\"}, \"repo\": {\"id\": 108525620, \"name\": \"axetroy/committing\", \"url\": \"https://api.github.com/repos/axetroy/committing\"}, \"payload\": {\"push_id\": 2226161775, \"size\": 1, \"distinct_size\": 1, \"ref\": \"refs/heads/master\", \"head\": \"5766c76472d6912feb1bc57b0636215f46ffad3e\", \"before\": \"ca1c5be8cb2b92d94d673d5650e1898c9db99963\", \"commits\": [{\"sha\": \"5766c76472d6912feb1bc57b0636215f46ffad3e\", \"author\": {\"name\": \"axetroy\", \"email\": \"fc6470b76fe91c61628e5d708390ddbc1ebaafcd@gmail.com\"}, \"message\": \"[2018-01-01 15:00:00] 1370th \\u23ea\", \"distinct\": true, \"url\": \"https://api.github.com/repos/axetroy/committing/commits/5766c76472d6912feb1bc57b0636215f46ffad3e\"}]}, \"public\": true, \"created_at\": \"2018-01-01T15:00:11Z\"}\n",
      "{\"id\": \"7045119176\", \"type\": \"PushEvent\", \"actor\": {\"id\": 13177974, \"login\": \"pujiaxun\", \"display_login\": \"pujiaxun\", \"gravatar_id\": \"\", \"url\": \"https://api.github.com/users/pujiaxun\", \"avatar_url\": \"https://avatars.githubusercontent.com/u/13177974?\"}, \"repo\": {\"id\": 54624079, \"name\": \"pujiaxun/pujiaxun.github.io\", \"url\": \"https://api.github.com/repos/pujiaxun/pujiaxun.github.io\"}, \"payload\": {\"push_id\": 2226161773, \"size\": 1, \"distinct_size\": 1, \"ref\": \"refs/heads/master\", \"head\": \"15471548ac1b73c2477abd6e41b73dcb3a71b0e4\", \"before\": \"02ab3505d91b0640e4d0edcac49f3d59e7567998\", \"commits\": [{\"sha\": \"15471548ac1b73c2477abd6e41b73dcb3a71b0e4\", \"author\": {\"name\": \"pujiaxun\", \"email\": \"bf829f2e5de5b1832a3c9a2638c48ee45b0a0173@gmail.com\"}, \"message\": \"\\u66f4\\u65b0\\u535a\\u5ba2 2018-01-01 22:59:58\", \"distinct\": true, \"url\": \"https://api.github.com/repos/pujiaxun/pujiaxun.github.io/commits/15471548ac1b73c2477abd6e41b73dcb3a71b0e4\"}]}, \"public\": true, \"created_at\": \"2018-01-01T15:00:11Z\"}\n",
      "{\"id\": \"7045119177\", \"type\": \"PushEvent\", \"actor\": {\"id\": 6906912, \"login\": \"bomb1e\", \"display_login\": \"bomb1e\", \"gravatar_id\": \"\", \"url\": \"https://api.github.com/users/bomb1e\", \"avatar_url\": \"https://avatars.githubusercontent.com/u/6906912?\"}, \"repo\": {\"id\": 75600461, \"name\": \"bomb1e/gotgit\", \"url\": \"https://api.github.com/repos/bomb1e/gotgit\"}, \"payload\": {\"push_id\": 2226161774, \"size\": 1, \"distinct_size\": 1, \"ref\": \"refs/heads/master\", \"head\": \"8e2693e9ec015bb9c7ab1e8f3a230141be5b66b2\", \"before\": \"fc5241b5ca5d99d1705a96974ba9539b8cc27fb5\", \"commits\": [{\"sha\": \"8e2693e9ec015bb9c7ab1e8f3a230141be5b66b2\", \"author\": {\"name\": \"Eric Githinji\", \"email\": \"4768c958becd72bda10239e750870bb8a15283bb@gmail.com\"}, \"message\": \"syntax\", \"distinct\": true, \"url\": \"https://api.github.com/repos/bomb1e/gotgit/commits/8e2693e9ec015bb9c7ab1e8f3a230141be5b66b2\"}]}, \"public\": true, \"created_at\": \"2018-01-01T15:00:11Z\"}\n",
      "{\"id\": \"7045119179\", \"type\": \"PushEvent\", \"actor\": {\"id\": 8517910, \"login\": \"LombiqBot\", \"display_login\": \"LombiqBot\", \"gravatar_id\": \"\", \"url\": \"https://api.github.com/users/LombiqBot\", \"avatar_url\": \"https://avatars.githubusercontent.com/u/8517910?\"}, \"repo\": {\"id\": 31613827, \"name\": \"Lombiq/Orchard-Azure-Application-Insights\", \"url\": \"https://api.github.com/repos/Lombiq/Orchard-Azure-Application-Insights\"}, \"payload\": {\"push_id\": 2226161776, \"size\": 0, \"distinct_size\": 0, \"ref\": \"refs/heads/Orchard-1.9.1\", \"head\": \"0caf95f63dbc69859ecb2c5d59cfe40c8bf1808e\", \"before\": \"0caf95f63dbc69859ecb2c5d59cfe40c8bf1808e\", \"commits\": []}, \"public\": true, \"created_at\": \"2018-01-01T15:00:11Z\", \"org\": {\"id\": 8158177, \"login\": \"Lombiq\", \"gravatar_id\": \"\", \"url\": \"https://api.github.com/orgs/Lombiq\", \"avatar_url\": \"https://avatars.githubusercontent.com/u/8158177?\"}}\n",
      "{\"id\": \"7045119180\", \"type\": \"PushEvent\", \"actor\": {\"id\": 3768851, \"login\": \"Prof9\", \"display_login\": \"Prof9\", \"gravatar_id\": \"\", \"url\": \"https://api.github.com/users/Prof9\", \"avatar_url\": \"https://avatars.githubusercontent.com/u/3768851?\"}, \"repo\": {\"id\": 53156533, \"name\": \"Prof9/TextPet\", \"url\": \"https://api.github.com/repos/Prof9/TextPet\"}, \"payload\": {\"push_id\": 2226161778, \"size\": 1, \"distinct_size\": 1, \"ref\": \"refs/heads/flex-params\", \"head\": \"f1ddbbc00cd539e5a35dabe33e99f0f0ced28086\", \"before\": \"9cc24a9dbc336409332506cd4914f23d5880e9c8\", \"commits\": [{\"sha\": \"f1ddbbc00cd539e5a35dabe33e99f0f0ced28086\", \"author\": {\"name\": \"Prof. 9\", \"email\": \"1b8fcc99fcf2270270f6a8ffcf779df6731ca6d3@outlook.com\"}, \"message\": \"Reverse parameter bytes for value encodings.\", \"distinct\": true, \"url\": \"https://api.github.com/repos/Prof9/TextPet/commits/f1ddbbc00cd539e5a35dabe33e99f0f0ced28086\"}]}, \"public\": true, \"created_at\": \"2018-01-01T15:00:11Z\"}\n",
      "{\"id\": \"7045119184\", \"type\": \"PushEvent\", \"actor\": {\"id\": 9016289, \"login\": \"mohamedelsayed95\", \"display_login\": \"mohamedelsayed95\", \"gravatar_id\": \"\", \"url\": \"https://api.github.com/users/mohamedelsayed95\", \"avatar_url\": \"https://avatars.githubusercontent.com/u/9016289?\"}, \"repo\": {\"id\": 115923582, \"name\": \"mohamedelsayed95/ros_ws\", \"url\": \"https://api.github.com/repos/mohamedelsayed95/ros_ws\"}, \"payload\": {\"push_id\": 2226161781, \"size\": 1, \"distinct_size\": 1, \"ref\": \"refs/heads/master\", \"head\": \"0a7a7ab107fe4b123cbcd5a9c9517fc3848a563c\", \"before\": \"7a2a0b110bf648adff42ed8c37f06fd45dec72e7\", \"commits\": [{\"sha\": \"0a7a7ab107fe4b123cbcd5a9c9517fc3848a563c\", \"author\": {\"name\": \"Mohamed Elsayed\", \"email\": \"ff96079969001aab89d124a50012703661700c82@gmail.com\"}, \"message\": \"Add files via upload\", \"distinct\": true, \"url\": \"https://api.github.com/repos/mohamedelsayed95/ros_ws/commits/0a7a7ab107fe4b123cbcd5a9c9517fc3848a563c\"}]}, \"public\": true, \"created_at\": \"2018-01-01T15:00:11Z\"}\n",
      "{\"id\": \"7045119185\", \"type\": \"PushEvent\", \"actor\": {\"id\": 11330591, \"login\": \"buildroot-auto-update\", \"display_login\": \"buildroot-auto-update\", \"gravatar_id\": \"\", \"url\": \"https://api.github.com/users/buildroot-auto-update\", \"avatar_url\": \"https://avatars.githubusercontent.com/u/11330591?\"}, \"repo\": {\"id\": 9752041, \"name\": \"buildroot/buildroot\", \"url\": \"https://api.github.com/repos/buildroot/buildroot\"}, \"payload\": {\"push_id\": 2226161780, \"size\": 1, \"distinct_size\": 1, \"ref\": \"refs/heads/master\", \"head\": \"443897bce4b01eae98155ac947d3387e6a2f289e\", \"before\": \"8e741412d444f9fd2a9af75bf33066a083f7f81b\", \"commits\": [{\"sha\": \"443897bce4b01eae98155ac947d3387e6a2f289e\", \"author\": {\"name\": \"Carlos Santos\", \"email\": \"2a7442c298acc4a91d7194decf545dfc1c52d086@datacom.ind.br\"}, \"message\": \"coreutils: expand list of files moved from /usr/bin to /bin\\n\\nBusyBox installs kill, link, mktemp, nice and printenv on /bin, so\\nensure that coreutils replaces them.\\n\\nSigned-off-by: Carlos Santos <casantos@datacom.ind.br>\\nSigned-off-by: Thomas Petazzoni <thomas.petazzoni@free-electrons.com>\", \"distinct\": true, \"url\": \"https://api.github.com/repos/buildroot/buildroot/commits/443897bce4b01eae98155ac947d3387e6a2f289e\"}]}, \"public\": true, \"created_at\": \"2018-01-01T15:00:11Z\", \"org\": {\"id\": 4293647, \"login\": \"buildroot\", \"gravatar_id\": \"\", \"url\": \"https://api.github.com/orgs/buildroot\", \"avatar_url\": \"https://avatars.githubusercontent.com/u/4293647?\"}}\n",
      "{\"id\": \"7045119187\", \"type\": \"PushEvent\", \"actor\": {\"id\": 7764670, \"login\": \"media-lib\", \"display_login\": \"media-lib\", \"gravatar_id\": \"\", \"url\": \"https://api.github.com/users/media-lib\", \"avatar_url\": \"https://avatars.githubusercontent.com/u/7764670?\"}, \"repo\": {\"id\": 112573901, \"name\": \"media-lib/status\", \"url\": \"https://api.github.com/repos/media-lib/status\"}, \"payload\": {\"push_id\": 2226161782, \"size\": 1, \"distinct_size\": 1, \"ref\": \"refs/heads/master\", \"head\": \"435c5dd5e79d3b103af8b086864aed41d3146a07\", \"before\": \"4e5a7736e43d447ede91c167d87067a9e4a13fd2\", \"commits\": [{\"sha\": \"435c5dd5e79d3b103af8b086864aed41d3146a07\", \"author\": {\"name\": \"da99\", \"email\": \"864133c50ed2516a4f909db75bba65180fc2be34@mailinator.com\"}, \"message\": \"Updated: people.\", \"distinct\": true, \"url\": \"https://api.github.com/repos/media-lib/status/commits/435c5dd5e79d3b103af8b086864aed41d3146a07\"}]}, \"public\": true, \"created_at\": \"2018-01-01T15:00:11Z\"}\n",
      "{\"id\": \"7045119190\", \"type\": \"WatchEvent\", \"actor\": {\"id\": 34270507, \"login\": \"gotrending\", \"display_login\": \"gotrending\", \"gravatar_id\": \"\", \"url\": \"https://api.github.com/users/gotrending\", \"avatar_url\": \"https://avatars.githubusercontent.com/u/34270507?\"}, \"repo\": {\"id\": 72495579, \"name\": \"go-gitea/gitea\", \"url\": \"https://api.github.com/repos/go-gitea/gitea\"}, \"payload\": {\"action\": \"started\"}, \"public\": true, \"created_at\": \"2018-01-01T15:00:11Z\", \"org\": {\"id\": 12724356, \"login\": \"go-gitea\", \"gravatar_id\": \"\", \"url\": \"https://api.github.com/orgs/go-gitea\", \"avatar_url\": \"https://avatars.githubusercontent.com/u/12724356?\"}}\n",
      "{\"id\": \"7045119194\", \"type\": \"PushEvent\", \"actor\": {\"id\": 23026379, \"login\": \"jyc99\", \"display_login\": \"jyc99\", \"gravatar_id\": \"\", \"url\": \"https://api.github.com/users/jyc99\", \"avatar_url\": \"https://avatars.githubusercontent.com/u/23026379?\"}, \"repo\": {\"id\": 97558960, \"name\": \"jyc99/store\", \"url\": \"https://api.github.com/repos/jyc99/store\"}, \"payload\": {\"push_id\": 2226161785, \"size\": 1, \"distinct_size\": 1, \"ref\": \"refs/heads/master\", \"head\": \"0faffe45c624a1c5fa1e5cf08dcf6cba3ed0725a\", \"before\": \"a29d7a5e0b3631c3ec0666175974a0bd3c306b47\", \"commits\": [{\"sha\": \"0faffe45c624a1c5fa1e5cf08dcf6cba3ed0725a\", \"author\": {\"name\": \"jyc99\", \"email\": \"ea5c35890633d47797657b32063b7aa2ec430fc4@qq.com\"}, \"message\": \"123\", \"distinct\": true, \"url\": \"https://api.github.com/repos/jyc99/store/commits/0faffe45c624a1c5fa1e5cf08dcf6cba3ed0725a\"}]}, \"public\": true, \"created_at\": \"2018-01-01T15:00:11Z\"}\n",
      "{\"id\": \"7045119202\", \"type\": \"PushEvent\", \"actor\": {\"id\": 7423020, \"login\": \"pleroy\", \"display_login\": \"pleroy\", \"gravatar_id\": \"\", \"url\": \"https://api.github.com/users/pleroy\", \"avatar_url\": \"https://avatars.githubusercontent.com/u/7423020?\"}, \"repo\": {\"id\": 40078011, \"name\": \"mockingbirdnest/glog\", \"url\": \"https://api.github.com/repos/mockingbirdnest/glog\"}, \"payload\": {\"push_id\": 2226161789, \"size\": 1, \"distinct_size\": 1, \"ref\": \"refs/heads/master\", \"head\": \"bbf8f1e749007d13f5db4bc7fba2188ece21b863\", \"before\": \"07de12b9fbe7ed988dec82d10e26e2144e9898e7\", \"commits\": [{\"sha\": \"bbf8f1e749007d13f5db4bc7fba2188ece21b863\", \"author\": {\"name\": \"pleroy\", \"email\": \"78f098dd26aa1a106acd03f5e59084ff5bbc1682@google.com\"}, \"message\": \"Disable a warning in the destructor of LogMessageFatal.\", \"distinct\": true, \"url\": \"https://api.github.com/repos/mockingbirdnest/glog/commits/bbf8f1e749007d13f5db4bc7fba2188ece21b863\"}]}, \"public\": true, \"created_at\": \"2018-01-01T15:00:11Z\", \"org\": {\"id\": 7462691, \"login\": \"mockingbirdnest\", \"gravatar_id\": \"\", \"url\": \"https://api.github.com/orgs/mockingbirdnest\", \"avatar_url\": \"https://avatars.githubusercontent.com/u/7462691?\"}}\n",
      "{\"id\": \"7045119203\", \"type\": \"PushEvent\", \"actor\": {\"id\": 14183988, \"login\": \"2yan\", \"display_login\": \"2yan\", \"gravatar_id\": \"\", \"url\": \"https://api.github.com/users/2yan\", \"avatar_url\": \"https://avatars.githubusercontent.com/u/14183988?\"}, \"repo\": {\"id\": 114698474, \"name\": \"2yan/Containment_Center\", \"url\": \"https://api.github.com/repos/2yan/Containment_Center\"}, \"payload\": {\"push_id\": 2226161790, \"size\": 1, \"distinct_size\": 1, \"ref\": \"refs/heads/master\", \"head\": \"c4ecc880332ebd3572886568d7d0c3dd00a289d3\", \"before\": \"b4d6dc1297b6ed9f49cf13e587803739d61b30cb\", \"commits\": [{\"sha\": \"c4ecc880332ebd3572886568d7d0c3dd00a289d3\", \"author\": {\"name\": \"ship alpha\", \"email\": \"f497a001f156dcc687d06242186cc2b1ad53b728@Andromeda.lan\"}, \"message\": \"update_data\", \"distinct\": true, \"url\": \"https://api.github.com/repos/2yan/Containment_Center/commits/c4ecc880332ebd3572886568d7d0c3dd00a289d3\"}]}, \"public\": true, \"created_at\": \"2018-01-01T15:00:11Z\"}\n",
      "{\"id\": \"7045119204\", \"type\": \"PushEvent\", \"actor\": {\"id\": 12632575, \"login\": \"Darv72\", \"display_login\": \"Darv72\", \"gravatar_id\": \"\", \"url\": \"https://api.github.com/users/Darv72\", \"avatar_url\": \"https://avatars.githubusercontent.com/u/12632575?\"}, \"repo\": {\"id\": 37224224, \"name\": \"bcgov/dbcrss\", \"url\": \"https://api.github.com/repos/bcgov/dbcrss\"}, \"payload\": {\"push_id\": 2226161791, \"size\": 1, \"distinct_size\": 1, \"ref\": \"refs/heads/master\", \"head\": \"dd1a39ecf3856696c6fc1ce13312afd3c284d490\", \"before\": \"f6d561c4898e0493c0a2cb324040f57d8b3c2c51\", \"commits\": [{\"sha\": \"dd1a39ecf3856696c6fc1ce13312afd3c284d490\", \"author\": {\"name\": \"DataBC\", \"email\": \"a17c9aaa61e80a1bf71d0d850af4e5baa9800bbd@gov.bc.ca\"}, \"message\": \"Heartbeat update\", \"distinct\": true, \"url\": \"https://api.github.com/repos/bcgov/dbcrss/commits/dd1a39ecf3856696c6fc1ce13312afd3c284d490\"}]}, \"public\": true, \"created_at\": \"2018-01-01T15:00:11Z\", \"org\": {\"id\": 916280, \"login\": \"bcgov\", \"gravatar_id\": \"\", \"url\": \"https://api.github.com/orgs/bcgov\", \"avatar_url\": \"https://avatars.githubusercontent.com/u/916280?\"}}\n",
      "{\"id\": \"7045119208\", \"type\": \"CreateEvent\", \"actor\": {\"id\": 2928442, \"login\": \"flexnst\", \"display_login\": \"flexnst\", \"gravatar_id\": \"\", \"url\": \"https://api.github.com/users/flexnst\", \"avatar_url\": \"https://avatars.githubusercontent.com/u/2928442?\"}, \"repo\": {\"id\": 115926140, \"name\": \"flexnst/laravel-image\", \"url\": \"https://api.github.com/repos/flexnst/laravel-image\"}, \"payload\": {\"ref\": null, \"ref_type\": \"repository\", \"master_branch\": \"master\", \"description\": null, \"pusher_type\": \"user\"}, \"public\": true, \"created_at\": \"2018-01-01T15:00:11Z\"}\n",
      "{\"id\": \"7045119212\", \"type\": \"ForkEvent\", \"actor\": {\"id\": 8772188, \"login\": \"jdgcs\", \"display_login\": \"jdgcs\", \"gravatar_id\": \"\", \"url\": \"https://api.github.com/users/jdgcs\", \"avatar_url\": \"https://avatars.githubusercontent.com/u/8772188?\"}, \"repo\": {\"id\": 72082040, \"name\": \"mbevand/silentarmy\", \"url\": \"https://api.github.com/repos/mbevand/silentarmy\"}, \"payload\": {\"forkee\": {\"id\": 115926141, \"name\": \"silentarmy\", \"full_name\": \"jdgcs/silentarmy\", \"owner\": {\"login\": \"jdgcs\", \"id\": 8772188, \"avatar_url\": \"https://avatars3.githubusercontent.com/u/8772188?v=4\", \"gravatar_id\": \"\", \"url\": \"https://api.github.com/users/jdgcs\", \"html_url\": \"https://github.com/jdgcs\", \"followers_url\": \"https://api.github.com/users/jdgcs/followers\", \"following_url\": \"https://api.github.com/users/jdgcs/following{/other_user}\", \"gists_url\": \"https://api.github.com/users/jdgcs/gists{/gist_id}\", \"starred_url\": \"https://api.github.com/users/jdgcs/starred{/owner}{/repo}\", \"subscriptions_url\": \"https://api.github.com/users/jdgcs/subscriptions\", \"organizations_url\": \"https://api.github.com/users/jdgcs/orgs\", \"repos_url\": \"https://api.github.com/users/jdgcs/repos\", \"events_url\": \"https://api.github.com/users/jdgcs/events{/privacy}\", \"received_events_url\": \"https://api.github.com/users/jdgcs/received_events\", \"type\": \"User\", \"site_admin\": false}, \"private\": false, \"html_url\": \"https://github.com/jdgcs/silentarmy\", \"description\": \"Zcash miner optimized for AMD & Nvidia GPUs\", \"fork\": true, \"url\": \"https://api.github.com/repos/jdgcs/silentarmy\", \"forks_url\": \"https://api.github.com/repos/jdgcs/silentarmy/forks\", \"keys_url\": \"https://api.github.com/repos/jdgcs/silentarmy/keys{/key_id}\", \"collaborators_url\": \"https://api.github.com/repos/jdgcs/silentarmy/collaborators{/collaborator}\", \"teams_url\": \"https://api.github.com/repos/jdgcs/silentarmy/teams\", \"hooks_url\": \"https://api.github.com/repos/jdgcs/silentarmy/hooks\", \"issue_events_url\": \"https://api.github.com/repos/jdgcs/silentarmy/issues/events{/number}\", \"events_url\": \"https://api.github.com/repos/jdgcs/silentarmy/events\", \"assignees_url\": \"https://api.github.com/repos/jdgcs/silentarmy/assignees{/user}\", \"branches_url\": \"https://api.github.com/repos/jdgcs/silentarmy/branches{/branch}\", \"tags_url\": \"https://api.github.com/repos/jdgcs/silentarmy/tags\", \"blobs_url\": \"https://api.github.com/repos/jdgcs/silentarmy/git/blobs{/sha}\", \"git_tags_url\": \"https://api.github.com/repos/jdgcs/silentarmy/git/tags{/sha}\", \"git_refs_url\": \"https://api.github.com/repos/jdgcs/silentarmy/git/refs{/sha}\", \"trees_url\": \"https://api.github.com/repos/jdgcs/silentarmy/git/trees{/sha}\", \"statuses_url\": \"https://api.github.com/repos/jdgcs/silentarmy/statuses/{sha}\", \"languages_url\": \"https://api.github.com/repos/jdgcs/silentarmy/languages\", \"stargazers_url\": \"https://api.github.com/repos/jdgcs/silentarmy/stargazers\", \"contributors_url\": \"https://api.github.com/repos/jdgcs/silentarmy/contributors\", \"subscribers_url\": \"https://api.github.com/repos/jdgcs/silentarmy/subscribers\", \"subscription_url\": \"https://api.github.com/repos/jdgcs/silentarmy/subscription\", \"commits_url\": \"https://api.github.com/repos/jdgcs/silentarmy/commits{/sha}\", \"git_commits_url\": \"https://api.github.com/repos/jdgcs/silentarmy/git/commits{/sha}\", \"comments_url\": \"https://api.github.com/repos/jdgcs/silentarmy/comments{/number}\", \"issue_comment_url\": \"https://api.github.com/repos/jdgcs/silentarmy/issues/comments{/number}\", \"contents_url\": \"https://api.github.com/repos/jdgcs/silentarmy/contents/{+path}\", \"compare_url\": \"https://api.github.com/repos/jdgcs/silentarmy/compare/{base}...{head}\", \"merges_url\": \"https://api.github.com/repos/jdgcs/silentarmy/merges\", \"archive_url\": \"https://api.github.com/repos/jdgcs/silentarmy/{archive_format}{/ref}\", \"downloads_url\": \"https://api.github.com/repos/jdgcs/silentarmy/downloads\", \"issues_url\": \"https://api.github.com/repos/jdgcs/silentarmy/issues{/number}\", \"pulls_url\": \"https://api.github.com/repos/jdgcs/silentarmy/pulls{/number}\", \"milestones_url\": \"https://api.github.com/repos/jdgcs/silentarmy/milestones{/number}\", \"notifications_url\": \"https://api.github.com/repos/jdgcs/silentarmy/notifications{?since,all,participating}\", \"labels_url\": \"https://api.github.com/repos/jdgcs/silentarmy/labels{/name}\", \"releases_url\": \"https://api.github.com/repos/jdgcs/silentarmy/releases{/id}\", \"deployments_url\": \"https://api.github.com/repos/jdgcs/silentarmy/deployments\", \"created_at\": \"2018-01-01T15:00:11Z\", \"updated_at\": \"2018-01-01T15:00:08Z\", \"pushed_at\": \"2017-12-16T17:30:04Z\", \"git_url\": \"git://github.com/jdgcs/silentarmy.git\", \"ssh_url\": \"git@github.com:jdgcs/silentarmy.git\", \"clone_url\": \"https://github.com/jdgcs/silentarmy.git\", \"svn_url\": \"https://github.com/jdgcs/silentarmy\", \"homepage\": \"\", \"size\": 1090, \"stargazers_count\": 0, \"watchers_count\": 0, \"language\": null, \"has_issues\": false, \"has_projects\": true, \"has_downloads\": true, \"has_wiki\": true, \"has_pages\": false, \"forks_count\": 0, \"mirror_url\": null, \"archived\": false, \"open_issues_count\": 0, \"license\": null, \"forks\": 0, \"open_issues\": 0, \"watchers\": 0, \"default_branch\": \"master\", \"public\": true}}, \"public\": true, \"created_at\": \"2018-01-01T15:00:11Z\"}\n",
      "{\"id\": \"7045119213\", \"type\": \"PullRequestEvent\", \"actor\": {\"id\": 1581541, \"login\": \"bwhmather\", \"display_login\": \"bwhmather\", \"gravatar_id\": \"\", \"url\": \"https://api.github.com/users/bwhmather\", \"avatar_url\": \"https://avatars.githubusercontent.com/u/1581541?\"}, \"repo\": {\"id\": 102607262, \"name\": \"bwhmather/python-validation\", \"url\": \"https://api.github.com/repos/bwhmather/python-validation\"}, \"payload\": {\"action\": \"closed\", \"number\": 52, \"pull_request\": {\"url\": \"https://api.github.com/repos/bwhmather/python-validation/pulls/52\", \"id\": 160650627, \"html_url\": \"https://github.com/bwhmather/python-validation/pull/52\", \"diff_url\": \"https://github.com/bwhmather/python-validation/pull/52.diff\", \"patch_url\": \"https://github.com/bwhmather/python-validation/pull/52.patch\", \"issue_url\": \"https://api.github.com/repos/bwhmather/python-validation/issues/52\", \"number\": 52, \"state\": \"closed\", \"locked\": false, \"title\": \"Release 0.4.1\", \"user\": {\"login\": \"bwhmather\", \"id\": 1581541, \"avatar_url\": \"https://avatars0.githubusercontent.com/u/1581541?v=4\", \"gravatar_id\": \"\", \"url\": \"https://api.github.com/users/bwhmather\", \"html_url\": \"https://github.com/bwhmather\", \"followers_url\": \"https://api.github.com/users/bwhmather/followers\", \"following_url\": \"https://api.github.com/users/bwhmather/following{/other_user}\", \"gists_url\": \"https://api.github.com/users/bwhmather/gists{/gist_id}\", \"starred_url\": \"https://api.github.com/users/bwhmather/starred{/owner}{/repo}\", \"subscriptions_url\": \"https://api.github.com/users/bwhmather/subscriptions\", \"organizations_url\": \"https://api.github.com/users/bwhmather/orgs\", \"repos_url\": \"https://api.github.com/users/bwhmather/repos\", \"events_url\": \"https://api.github.com/users/bwhmather/events{/privacy}\", \"received_events_url\": \"https://api.github.com/users/bwhmather/received_events\", \"type\": \"User\", \"site_admin\": false}, \"body\": \"Changes:\\r\\n  - Improved rendering of default values in documentation.\\r\\n  - Support for developing on windows.\", \"created_at\": \"2018-01-01T14:56:18Z\", \"updated_at\": \"2018-01-01T15:00:11Z\", \"closed_at\": \"2018-01-01T15:00:11Z\", \"merged_at\": \"2018-01-01T15:00:11Z\", \"merge_commit_sha\": \"9f55ea7485098256f5002013e3e613476d2588f8\", \"assignee\": null, \"assignees\": [], \"requested_reviewers\": [], \"milestone\": null, \"commits_url\": \"https://api.github.com/repos/bwhmather/python-validation/pulls/52/commits\", \"review_comments_url\": \"https://api.github.com/repos/bwhmather/python-validation/pulls/52/comments\", \"review_comment_url\": \"https://api.github.com/repos/bwhmather/python-validation/pulls/comments{/number}\", \"comments_url\": \"https://api.github.com/repos/bwhmather/python-validation/issues/52/comments\", \"statuses_url\": \"https://api.github.com/repos/bwhmather/python-validation/statuses/8a418a38aa12a0b04e6e52e28a5a4cb7c77277b2\", \"head\": {\"label\": \"bwhmather:release/0.4.1\", \"ref\": \"release/0.4.1\", \"sha\": \"8a418a38aa12a0b04e6e52e28a5a4cb7c77277b2\", \"user\": {\"login\": \"bwhmather\", \"id\": 1581541, \"avatar_url\": \"https://avatars0.githubusercontent.com/u/1581541?v=4\", \"gravatar_id\": \"\", \"url\": \"https://api.github.com/users/bwhmather\", \"html_url\": \"https://github.com/bwhmather\", \"followers_url\": \"https://api.github.com/users/bwhmather/followers\", \"following_url\": \"https://api.github.com/users/bwhmather/following{/other_user}\", \"gists_url\": \"https://api.github.com/users/bwhmather/gists{/gist_id}\", \"starred_url\": \"https://api.github.com/users/bwhmather/starred{/owner}{/repo}\", \"subscriptions_url\": \"https://api.github.com/users/bwhmather/subscriptions\", \"organizations_url\": \"https://api.github.com/users/bwhmather/orgs\", \"repos_url\": \"https://api.github.com/users/bwhmather/repos\", \"events_url\": \"https://api.github.com/users/bwhmather/events{/privacy}\", \"received_events_url\": \"https://api.github.com/users/bwhmather/received_events\", \"type\": \"User\", \"site_admin\": false}, \"repo\": {\"id\": 102607262, \"name\": \"python-validation\", \"full_name\": \"bwhmather/python-validation\", \"owner\": {\"login\": \"bwhmather\", \"id\": 1581541, \"avatar_url\": \"https://avatars0.githubusercontent.com/u/1581541?v=4\", \"gravatar_id\": \"\", \"url\": \"https://api.github.com/users/bwhmather\", \"html_url\": \"https://github.com/bwhmather\", \"followers_url\": \"https://api.github.com/users/bwhmather/followers\", \"following_url\": \"https://api.github.com/users/bwhmather/following{/other_user}\", \"gists_url\": \"https://api.github.com/users/bwhmather/gists{/gist_id}\", \"starred_url\": \"https://api.github.com/users/bwhmather/starred{/owner}{/repo}\", \"subscriptions_url\": \"https://api.github.com/users/bwhmather/subscriptions\", \"organizations_url\": \"https://api.github.com/users/bwhmather/orgs\", \"repos_url\": \"https://api.github.com/users/bwhmather/repos\", \"events_url\": \"https://api.github.com/users/bwhmather/events{/privacy}\", \"received_events_url\": \"https://api.github.com/users/bwhmather/received_events\", \"type\": \"User\", \"site_admin\": false}, \"private\": false, \"html_url\": \"https://github.com/bwhmather/python-validation\", \"description\": \"A python library for runtime validation and type checking of python values.\", \"fork\": false, \"url\": \"https://api.github.com/repos/bwhmather/python-validation\", \"forks_url\": \"https://api.github.com/repos/bwhmather/python-validation/forks\", \"keys_url\": \"https://api.github.com/repos/bwhmather/python-validation/keys{/key_id}\", \"collaborators_url\": \"https://api.github.com/repos/bwhmather/python-validation/collaborators{/collaborator}\", \"teams_url\": \"https://api.github.com/repos/bwhmather/python-validation/teams\", \"hooks_url\": \"https://api.github.com/repos/bwhmather/python-validation/hooks\", \"issue_events_url\": \"https://api.github.com/repos/bwhmather/python-validation/issues/events{/number}\", \"events_url\": \"https://api.github.com/repos/bwhmather/python-validation/events\", \"assignees_url\": \"https://api.github.com/repos/bwhmather/python-validation/assignees{/user}\", \"branches_url\": \"https://api.github.com/repos/bwhmather/python-validation/branches{/branch}\", \"tags_url\": \"https://api.github.com/repos/bwhmather/python-validation/tags\", \"blobs_url\": \"https://api.github.com/repos/bwhmather/python-validation/git/blobs{/sha}\", \"git_tags_url\": \"https://api.github.com/repos/bwhmather/python-validation/git/tags{/sha}\", \"git_refs_url\": \"https://api.github.com/repos/bwhmather/python-validation/git/refs{/sha}\", \"trees_url\": \"https://api.github.com/repos/bwhmather/python-validation/git/trees{/sha}\", \"statuses_url\": \"https://api.github.com/repos/bwhmather/python-validation/statuses/{sha}\", \"languages_url\": \"https://api.github.com/repos/bwhmather/python-validation/languages\", \"stargazers_url\": \"https://api.github.com/repos/bwhmather/python-validation/stargazers\", \"contributors_url\": \"https://api.github.com/repos/bwhmather/python-validation/contributors\", \"subscribers_url\": \"https://api.github.com/repos/bwhmather/python-validation/subscribers\", \"subscription_url\": \"https://api.github.com/repos/bwhmather/python-validation/subscription\", \"commits_url\": \"https://api.github.com/repos/bwhmather/python-validation/commits{/sha}\", \"git_commits_url\": \"https://api.github.com/repos/bwhmather/python-validation/git/commits{/sha}\", \"comments_url\": \"https://api.github.com/repos/bwhmather/python-validation/comments{/number}\", \"issue_comment_url\": \"https://api.github.com/repos/bwhmather/python-validation/issues/comments{/number}\", \"contents_url\": \"https://api.github.com/repos/bwhmather/python-validation/contents/{+path}\", \"compare_url\": \"https://api.github.com/repos/bwhmather/python-validation/compare/{base}...{head}\", \"merges_url\": \"https://api.github.com/repos/bwhmather/python-validation/merges\", \"archive_url\": \"https://api.github.com/repos/bwhmather/python-validation/{archive_format}{/ref}\", \"downloads_url\": \"https://api.github.com/repos/bwhmather/python-validation/downloads\", \"issues_url\": \"https://api.github.com/repos/bwhmather/python-validation/issues{/number}\", \"pulls_url\": \"https://api.github.com/repos/bwhmather/python-validation/pulls{/number}\", \"milestones_url\": \"https://api.github.com/repos/bwhmather/python-validation/milestones{/number}\", \"notifications_url\": \"https://api.github.com/repos/bwhmather/python-validation/notifications{?since,all,participating}\", \"labels_url\": \"https://api.github.com/repos/bwhmather/python-validation/labels{/name}\", \"releases_url\": \"https://api.github.com/repos/bwhmather/python-validation/releases{/id}\", \"deployments_url\": \"https://api.github.com/repos/bwhmather/python-validation/deployments\", \"created_at\": \"2017-09-06T12:45:01Z\", \"updated_at\": \"2017-12-01T21:31:12Z\", \"pushed_at\": \"2018-01-01T15:00:11Z\", \"git_url\": \"git://github.com/bwhmather/python-validation.git\", \"ssh_url\": \"git@github.com:bwhmather/python-validation.git\", \"clone_url\": \"https://github.com/bwhmather/python-validation.git\", \"svn_url\": \"https://github.com/bwhmather/python-validation\", \"homepage\": \"https://bwhmather.github.io/python-validation/\", \"size\": 347, \"stargazers_count\": 1, \"watchers_count\": 1, \"language\": \"Python\", \"has_issues\": true, \"has_projects\": false, \"has_downloads\": true, \"has_wiki\": false, \"has_pages\": true, \"forks_count\": 0, \"mirror_url\": null, \"archived\": false, \"open_issues_count\": 16, \"license\": {\"key\": \"apache-2.0\", \"name\": \"Apache License 2.0\", \"spdx_id\": \"Apache-2.0\", \"url\": \"https://api.github.com/licenses/apache-2.0\"}, \"forks\": 0, \"open_issues\": 16, \"watchers\": 1, \"default_branch\": \"develop\"}}, \"base\": {\"label\": \"bwhmather:master\", \"ref\": \"master\", \"sha\": \"a23500a7b33bff5c29564d0f40533a932c249dd1\", \"user\": {\"login\": \"bwhmather\", \"id\": 1581541, \"avatar_url\": \"https://avatars0.githubusercontent.com/u/1581541?v=4\", \"gravatar_id\": \"\", \"url\": \"https://api.github.com/users/bwhmather\", \"html_url\": \"https://github.com/bwhmather\", \"followers_url\": \"https://api.github.com/users/bwhmather/followers\", \"following_url\": \"https://api.github.com/users/bwhmather/following{/other_user}\", \"gists_url\": \"https://api.github.com/users/bwhmather/gists{/gist_id}\", \"starred_url\": \"https://api.github.com/users/bwhmather/starred{/owner}{/repo}\", \"subscriptions_url\": \"https://api.github.com/users/bwhmather/subscriptions\", \"organizations_url\": \"https://api.github.com/users/bwhmather/orgs\", \"repos_url\": \"https://api.github.com/users/bwhmather/repos\", \"events_url\": \"https://api.github.com/users/bwhmather/events{/privacy}\", \"received_events_url\": \"https://api.github.com/users/bwhmather/received_events\", \"type\": \"User\", \"site_admin\": false}, \"repo\": {\"id\": 102607262, \"name\": \"python-validation\", \"full_name\": \"bwhmather/python-validation\", \"owner\": {\"login\": \"bwhmather\", \"id\": 1581541, \"avatar_url\": \"https://avatars0.githubusercontent.com/u/1581541?v=4\", \"gravatar_id\": \"\", \"url\": \"https://api.github.com/users/bwhmather\", \"html_url\": \"https://github.com/bwhmather\", \"followers_url\": \"https://api.github.com/users/bwhmather/followers\", \"following_url\": \"https://api.github.com/users/bwhmather/following{/other_user}\", \"gists_url\": \"https://api.github.com/users/bwhmather/gists{/gist_id}\", \"starred_url\": \"https://api.github.com/users/bwhmather/starred{/owner}{/repo}\", \"subscriptions_url\": \"https://api.github.com/users/bwhmather/subscriptions\", \"organizations_url\": \"https://api.github.com/users/bwhmather/orgs\", \"repos_url\": \"https://api.github.com/users/bwhmather/repos\", \"events_url\": \"https://api.github.com/users/bwhmather/events{/privacy}\", \"received_events_url\": \"https://api.github.com/users/bwhmather/received_events\", \"type\": \"User\", \"site_admin\": false}, \"private\": false, \"html_url\": \"https://github.com/bwhmather/python-validation\", \"description\": \"A python library for runtime validation and type checking of python values.\", \"fork\": false, \"url\": \"https://api.github.com/repos/bwhmather/python-validation\", \"forks_url\": \"https://api.github.com/repos/bwhmather/python-validation/forks\", \"keys_url\": \"https://api.github.com/repos/bwhmather/python-validation/keys{/key_id}\", \"collaborators_url\": \"https://api.github.com/repos/bwhmather/python-validation/collaborators{/collaborator}\", \"teams_url\": \"https://api.github.com/repos/bwhmather/python-validation/teams\", \"hooks_url\": \"https://api.github.com/repos/bwhmather/python-validation/hooks\", \"issue_events_url\": \"https://api.github.com/repos/bwhmather/python-validation/issues/events{/number}\", \"events_url\": \"https://api.github.com/repos/bwhmather/python-validation/events\", \"assignees_url\": \"https://api.github.com/repos/bwhmather/python-validation/assignees{/user}\", \"branches_url\": \"https://api.github.com/repos/bwhmather/python-validation/branches{/branch}\", \"tags_url\": \"https://api.github.com/repos/bwhmather/python-validation/tags\", \"blobs_url\": \"https://api.github.com/repos/bwhmather/python-validation/git/blobs{/sha}\", \"git_tags_url\": \"https://api.github.com/repos/bwhmather/python-validation/git/tags{/sha}\", \"git_refs_url\": \"https://api.github.com/repos/bwhmather/python-validation/git/refs{/sha}\", \"trees_url\": \"https://api.github.com/repos/bwhmather/python-validation/git/trees{/sha}\", \"statuses_url\": \"https://api.github.com/repos/bwhmather/python-validation/statuses/{sha}\", \"languages_url\": \"https://api.github.com/repos/bwhmather/python-validation/languages\", \"stargazers_url\": \"https://api.github.com/repos/bwhmather/python-validation/stargazers\", \"contributors_url\": \"https://api.github.com/repos/bwhmather/python-validation/contributors\", \"subscribers_url\": \"https://api.github.com/repos/bwhmather/python-validation/subscribers\", \"subscription_url\": \"https://api.github.com/repos/bwhmather/python-validation/subscription\", \"commits_url\": \"https://api.github.com/repos/bwhmather/python-validation/commits{/sha}\", \"git_commits_url\": \"https://api.github.com/repos/bwhmather/python-validation/git/commits{/sha}\", \"comments_url\": \"https://api.github.com/repos/bwhmather/python-validation/comments{/number}\", \"issue_comment_url\": \"https://api.github.com/repos/bwhmather/python-validation/issues/comments{/number}\", \"contents_url\": \"https://api.github.com/repos/bwhmather/python-validation/contents/{+path}\", \"compare_url\": \"https://api.github.com/repos/bwhmather/python-validation/compare/{base}...{head}\", \"merges_url\": \"https://api.github.com/repos/bwhmather/python-validation/merges\", \"archive_url\": \"https://api.github.com/repos/bwhmather/python-validation/{archive_format}{/ref}\", \"downloads_url\": \"https://api.github.com/repos/bwhmather/python-validation/downloads\", \"issues_url\": \"https://api.github.com/repos/bwhmather/python-validation/issues{/number}\", \"pulls_url\": \"https://api.github.com/repos/bwhmather/python-validation/pulls{/number}\", \"milestones_url\": \"https://api.github.com/repos/bwhmather/python-validation/milestones{/number}\", \"notifications_url\": \"https://api.github.com/repos/bwhmather/python-validation/notifications{?since,all,participating}\", \"labels_url\": \"https://api.github.com/repos/bwhmather/python-validation/labels{/name}\", \"releases_url\": \"https://api.github.com/repos/bwhmather/python-validation/releases{/id}\", \"deployments_url\": \"https://api.github.com/repos/bwhmather/python-validation/deployments\", \"created_at\": \"2017-09-06T12:45:01Z\", \"updated_at\": \"2017-12-01T21:31:12Z\", \"pushed_at\": \"2018-01-01T15:00:11Z\", \"git_url\": \"git://github.com/bwhmather/python-validation.git\", \"ssh_url\": \"git@github.com:bwhmather/python-validation.git\", \"clone_url\": \"https://github.com/bwhmather/python-validation.git\", \"svn_url\": \"https://github.com/bwhmather/python-validation\", \"homepage\": \"https://bwhmather.github.io/python-validation/\", \"size\": 347, \"stargazers_count\": 1, \"watchers_count\": 1, \"language\": \"Python\", \"has_issues\": true, \"has_projects\": false, \"has_downloads\": true, \"has_wiki\": false, \"has_pages\": true, \"forks_count\": 0, \"mirror_url\": null, \"archived\": false, \"open_issues_count\": 16, \"license\": {\"key\": \"apache-2.0\", \"name\": \"Apache License 2.0\", \"spdx_id\": \"Apache-2.0\", \"url\": \"https://api.github.com/licenses/apache-2.0\"}, \"forks\": 0, \"open_issues\": 16, \"watchers\": 1, \"default_branch\": \"develop\"}}, \"_links\": {\"self\": {\"href\": \"https://api.github.com/repos/bwhmather/python-validation/pulls/52\"}, \"html\": {\"href\": \"https://github.com/bwhmather/python-validation/pull/52\"}, \"issue\": {\"href\": \"https://api.github.com/repos/bwhmather/python-validation/issues/52\"}, \"comments\": {\"href\": \"https://api.github.com/repos/bwhmather/python-validation/issues/52/comments\"}, \"review_comments\": {\"href\": \"https://api.github.com/repos/bwhmather/python-validation/pulls/52/comments\"}, \"review_comment\": {\"href\": \"https://api.github.com/repos/bwhmather/python-validation/pulls/comments{/number}\"}, \"commits\": {\"href\": \"https://api.github.com/repos/bwhmather/python-validation/pulls/52/commits\"}, \"statuses\": {\"href\": \"https://api.github.com/repos/bwhmather/python-validation/statuses/8a418a38aa12a0b04e6e52e28a5a4cb7c77277b2\"}}, \"author_association\": \"OWNER\", \"merged\": true, \"mergeable\": null, \"rebaseable\": null, \"mergeable_state\": \"unknown\", \"merged_by\": {\"login\": \"bwhmather\", \"id\": 1581541, \"avatar_url\": \"https://avatars0.githubusercontent.com/u/1581541?v=4\", \"gravatar_id\": \"\", \"url\": \"https://api.github.com/users/bwhmather\", \"html_url\": \"https://github.com/bwhmather\", \"followers_url\": \"https://api.github.com/users/bwhmather/followers\", \"following_url\": \"https://api.github.com/users/bwhmather/following{/other_user}\", \"gists_url\": \"https://api.github.com/users/bwhmather/gists{/gist_id}\", \"starred_url\": \"https://api.github.com/users/bwhmather/starred{/owner}{/repo}\", \"subscriptions_url\": \"https://api.github.com/users/bwhmather/subscriptions\", \"organizations_url\": \"https://api.github.com/users/bwhmather/orgs\", \"repos_url\": \"https://api.github.com/users/bwhmather/repos\", \"events_url\": \"https://api.github.com/users/bwhmather/events{/privacy}\", \"received_events_url\": \"https://api.github.com/users/bwhmather/received_events\", \"type\": \"User\", \"site_admin\": false}, \"comments\": 0, \"review_comments\": 0, \"maintainer_can_modify\": false, \"commits\": 15, \"additions\": 132, \"deletions\": 15, \"changed_files\": 13}}, \"public\": true, \"created_at\": \"2018-01-01T15:00:11Z\"}\n",
      "{\"id\": \"7045119216\", \"type\": \"PushEvent\", \"actor\": {\"id\": 299787, \"login\": \"slowe\", \"display_login\": \"slowe\", \"gravatar_id\": \"\", \"url\": \"https://api.github.com/users/slowe\", \"avatar_url\": \"https://avatars.githubusercontent.com/u/299787?\"}, \"repo\": {\"id\": 14986641, \"name\": \"slowe/RTWbike\", \"url\": \"https://api.github.com/repos/slowe/RTWbike\"}, \"payload\": {\"push_id\": 2226161798, \"size\": 1, \"distinct_size\": 1, \"ref\": \"refs/heads/master\", \"head\": \"7c207791eb7845f5bfae52f0e3dbaacb01482dae\", \"before\": \"c9a4a7b67d5e9dec0d04803fb3082fd69b1b7ce0\", \"commits\": [{\"sha\": \"7c207791eb7845f5bfae52f0e3dbaacb01482dae\", \"author\": {\"name\": \"slowe\", \"email\": \"92bbb854391fe6840c848a5d8127f8c0b6b46d16@strudel.org.uk\"}, \"message\": \"Local webpage creation\", \"distinct\": true, \"url\": \"https://api.github.com/repos/slowe/RTWbike/commits/7c207791eb7845f5bfae52f0e3dbaacb01482dae\"}]}, \"public\": true, \"created_at\": \"2018-01-01T15:00:11Z\"}\n",
      "{\"id\": \"7045119217\", \"type\": \"CreateEvent\", \"actor\": {\"id\": 33388236, \"login\": \"yutingeko\", \"display_login\": \"yutingeko\", \"gravatar_id\": \"\", \"url\": \"https://api.github.com/users/yutingeko\", \"avatar_url\": \"https://avatars.githubusercontent.com/u/33388236?\"}, \"repo\": {\"id\": 115926137, \"name\": \"yutingeko/react_practice\", \"url\": \"https://api.github.com/repos/yutingeko/react_practice\"}, \"payload\": {\"ref\": \"master\", \"ref_type\": \"branch\", \"master_branch\": \"master\", \"description\": \"creat-react-app + less\", \"pusher_type\": \"user\"}, \"public\": true, \"created_at\": \"2018-01-01T15:00:11Z\"}\n",
      "{\"id\": \"7045119224\", \"type\": \"PushEvent\", \"actor\": {\"id\": 2318343, \"login\": \"treckstar\", \"display_login\": \"treckstar\", \"gravatar_id\": \"\", \"url\": \"https://api.github.com/users/treckstar\", \"avatar_url\": \"https://avatars.githubusercontent.com/u/2318343?\"}, \"repo\": {\"id\": 17101123, \"name\": \"treckstar/yolo-octo-hipster\", \"url\": \"https://api.github.com/repos/treckstar/yolo-octo-hipster\"}, \"payload\": {\"push_id\": 2226161802, \"size\": 1, \"distinct_size\": 1, \"ref\": \"refs/heads/master\", \"head\": \"49e99750930e4e1b405d949271795aa861e57955\", \"before\": \"32da969c3d692b5a470336e833740732b8ddc04d\", \"commits\": [{\"sha\": \"49e99750930e4e1b405d949271795aa861e57955\", \"author\": {\"name\": \"treckstar\", \"email\": \"28cf8d5dd63a27bb1a047ac2fe7ded863d3bc56c@gmail.com\"}, \"message\": \"It seems like people get afraid of a certain music if they can't pigeonhole it to their satisfaction... Good music is good music, and that should be enough for anybody.\", \"distinct\": true, \"url\": \"https://api.github.com/repos/treckstar/yolo-octo-hipster/commits/49e99750930e4e1b405d949271795aa861e57955\"}]}, \"public\": true, \"created_at\": \"2018-01-01T15:00:11Z\"}\n",
      "{\"id\": \"7045119227\", \"type\": \"CreateEvent\", \"actor\": {\"id\": 6763624, \"login\": \"davidwessman\", \"display_login\": \"davidwessman\", \"gravatar_id\": \"\", \"url\": \"https://api.github.com/users/davidwessman\", \"avatar_url\": \"https://avatars.githubusercontent.com/u/6763624?\"}, \"repo\": {\"id\": 51146340, \"name\": \"fsek/voting\", \"url\": \"https://api.github.com/repos/fsek/voting\"}, \"payload\": {\"ref\": \"locale\", \"ref_type\": \"branch\", \"master_branch\": \"master\", \"description\": \"Voting system for General meeting.\", \"pusher_type\": \"user\"}, \"public\": true, \"created_at\": \"2018-01-01T15:00:11Z\", \"org\": {\"id\": 10084654, \"login\": \"fsek\", \"gravatar_id\": \"\", \"url\": \"https://api.github.com/orgs/fsek\", \"avatar_url\": \"https://avatars.githubusercontent.com/u/10084654?\"}}\n",
      "{\"id\": \"7045119228\", \"type\": \"PushEvent\", \"actor\": {\"id\": 4039449, \"login\": \"samuelcolvin\", \"display_login\": \"samuelcolvin\", \"gravatar_id\": \"\", \"url\": \"https://api.github.com/users/samuelcolvin\", \"avatar_url\": \"https://avatars.githubusercontent.com/u/4039449?\"}, \"repo\": {\"id\": 68917117, \"name\": \"aio-libs/aiohttp-devtools\", \"url\": \"https://api.github.com/repos/aio-libs/aiohttp-devtools\"}, \"payload\": {\"push_id\": 2226161810, \"size\": 1, \"distinct_size\": 1, \"ref\": \"refs/heads/pyup-scheduled-update-01-01-2018\", \"head\": \"fbe0dcc3a1b8ad7c29e83383638ce3a91dc54617\", \"before\": \"00dc2ef68a715042ee76920e2531ddf6851d0944\", \"commits\": [{\"sha\": \"fbe0dcc3a1b8ad7c29e83383638ce3a91dc54617\", \"author\": {\"name\": \"pyup-bot\", \"email\": \"014ca7bb507255f115360f46141ad318dcf61352@pyup.io\"}, \"message\": \"Update pytest from 3.2.3 to 3.3.1\", \"distinct\": true, \"url\": \"https://api.github.com/repos/aio-libs/aiohttp-devtools/commits/fbe0dcc3a1b8ad7c29e83383638ce3a91dc54617\"}]}, \"public\": true, \"created_at\": \"2018-01-01T15:00:11Z\", \"org\": {\"id\": 7049303, \"login\": \"aio-libs\", \"gravatar_id\": \"\", \"url\": \"https://api.github.com/orgs/aio-libs\", \"avatar_url\": \"https://avatars.githubusercontent.com/u/7049303?\"}}\n",
      "{\"id\": \"7045119232\", \"type\": \"CreateEvent\", \"actor\": {\"id\": 32643866, \"login\": \"hordosikrisztian\", \"display_login\": \"hordosikrisztian\", \"gravatar_id\": \"\", \"url\": \"https://api.github.com/users/hordosikrisztian\", \"avatar_url\": \"https://avatars.githubusercontent.com/u/32643866?\"}, \"repo\": {\"id\": 115926138, \"name\": \"hordosikrisztian/rock-paper-scissors\", \"url\": \"https://api.github.com/repos/hordosikrisztian/rock-paper-scissors\"}, \"payload\": {\"ref\": \"master\", \"ref_type\": \"branch\", \"master_branch\": \"master\", \"description\": null, \"pusher_type\": \"user\"}, \"public\": true, \"created_at\": \"2018-01-01T15:00:11Z\"}\n",
      "{\"id\": \"7045119205\", \"type\": \"PushEvent\", \"actor\": {\"id\": 23132358, \"login\": \"americast\", \"display_login\": \"americast\", \"gravatar_id\": \"\", \"url\": \"https://api.github.com/users/americast\", \"avatar_url\": \"https://avatars.githubusercontent.com/u/23132358?\"}, \"repo\": {\"id\": 76120049, \"name\": \"americast/naarad-source\", \"url\": \"https://api.github.com/repos/americast/naarad-source\"}, \"payload\": {\"push_id\": 2226161792, \"size\": 1, \"distinct_size\": 1, \"ref\": \"refs/heads/master\", \"head\": \"aa5312142a157e9039277810e9f4cf231328f3b4\", \"before\": \"80d3688459dc45ceab43e73d6c85824a2ea869a4\", \"commits\": [{\"sha\": \"aa5312142a157e9039277810e9f4cf231328f3b4\", \"author\": {\"name\": \"Naarad Muni\", \"email\": \"8db2a526eef01e1bf5f9bd47b5a0ab39459ebfb9@kossiitkgp.in\"}, \"message\": \"Update and Build\", \"distinct\": true, \"url\": \"https://api.github.com/repos/americast/naarad-source/commits/aa5312142a157e9039277810e9f4cf231328f3b4\"}]}, \"public\": true, \"created_at\": \"2018-01-01T15:00:12Z\"}\n",
      "{\"id\": \"7045119207\", \"type\": \"PushEvent\", \"actor\": {\"id\": 18074506, \"login\": \"iamvane\", \"display_login\": \"iamvane\", \"gravatar_id\": \"\", \"url\": \"https://api.github.com/users/iamvane\", \"avatar_url\": \"https://avatars.githubusercontent.com/u/18074506?\"}, \"repo\": {\"id\": 114398217, \"name\": \"iamvane/nabi_api\", \"url\": \"https://api.github.com/repos/iamvane/nabi_api\"}, \"payload\": {\"push_id\": 2226161794, \"size\": 28, \"distinct_size\": 1, \"ref\": \"refs/heads/master\", \"head\": \"2fe28c0bca32933551ddad6dc388a36c748f07d1\", \"before\": \"70f1408dcf3a64fca6160b0bc8a5120dce7c9909\", \"commits\": [{\"sha\": \"3f063094e08ec874704561c64388084fd5e2850a\", \"author\": {\"name\": \"Vanessa Charles Thompson\", \"email\": \"ade5f97ed2193f8613b83c010cddad9ff436649f@oracle.com\"}, \"message\": \"[NABI-30] Added error logging\", \"distinct\": false, \"url\": \"https://api.github.com/repos/iamvane/nabi_api/commits/3f063094e08ec874704561c64388084fd5e2850a\"}, {\"sha\": \"6be683482018e2de19672364bcf5e48fd14c3d81\", \"author\": {\"name\": \"Vanessa Charles Thompson\", \"email\": \"ade5f97ed2193f8613b83c010cddad9ff436649f@oracle.com\"}, \"message\": \"[NABI-31] install testing dependencies and initialized spec file\", \"distinct\": false, \"url\": \"https://api.github.com/repos/iamvane/nabi_api/commits/6be683482018e2de19672364bcf5e48fd14c3d81\"}, {\"sha\": \"992adce9d4d58cf08687afd9fe983f26a3a90cfc\", \"author\": {\"name\": \"Vanessa Charles Thompson\", \"email\": \"ade5f97ed2193f8613b83c010cddad9ff436649f@oracle.com\"}, \"message\": \"[NABI-31] wrote test for getting all users\", \"distinct\": false, \"url\": \"https://api.github.com/repos/iamvane/nabi_api/commits/992adce9d4d58cf08687afd9fe983f26a3a90cfc\"}, {\"sha\": \"ff91d1b98545343f38681737597fdb707777fe88\", \"author\": {\"name\": \"Vanessa Charles Thompson\", \"email\": \"ade5f97ed2193f8613b83c010cddad9ff436649f@oracle.com\"}, \"message\": \"[NABI-31] Fixed put route error\", \"distinct\": false, \"url\": \"https://api.github.com/repos/iamvane/nabi_api/commits/ff91d1b98545343f38681737597fdb707777fe88\"}, {\"sha\": \"108bfae6300e79a3425d768b0f78c353789bb026\", \"author\": {\"name\": \"Vanessa Charles Thompson\", \"email\": \"ade5f97ed2193f8613b83c010cddad9ff436649f@oracle.com\"}, \"message\": \"[NABI-31] Fixed test, missing exporting app\", \"distinct\": false, \"url\": \"https://api.github.com/repos/iamvane/nabi_api/commits/108bfae6300e79a3425d768b0f78c353789bb026\"}, {\"sha\": \"da9352725a4963c7fd9d4d81645ae3b4d8d3e490\", \"author\": {\"name\": \"Vanessa Charles Thompson\", \"email\": \"ade5f97ed2193f8613b83c010cddad9ff436649f@oracle.com\"}, \"message\": \"[NABI-31] Added create user route\", \"distinct\": false, \"url\": \"https://api.github.com/repos/iamvane/nabi_api/commits/da9352725a4963c7fd9d4d81645ae3b4d8d3e490\"}, {\"sha\": \"9e196d317d22186c184421a80377f8b6a3f3f683\", \"author\": {\"name\": \"Vanessa Charles Thompson\", \"email\": \"ade5f97ed2193f8613b83c010cddad9ff436649f@oracle.com\"}, \"message\": \"[NABI-31] Added delete user route\", \"distinct\": false, \"url\": \"https://api.github.com/repos/iamvane/nabi_api/commits/9e196d317d22186c184421a80377f8b6a3f3f683\"}, {\"sha\": \"7f93fb2de6fce46c05dd6c77ab95f983fec960a0\", \"author\": {\"name\": \"Vanessa Charles Thompson\", \"email\": \"ade5f97ed2193f8613b83c010cddad9ff436649f@oracle.com\"}, \"message\": \"[NABI-31] Added delete update user route\", \"distinct\": false, \"url\": \"https://api.github.com/repos/iamvane/nabi_api/commits/7f93fb2de6fce46c05dd6c77ab95f983fec960a0\"}, {\"sha\": \"d79260e1bba8c87048ea8b43bc736c91318e9363\", \"author\": {\"name\": \"Vanessa Charles Thompson\", \"email\": \"ade5f97ed2193f8613b83c010cddad9ff436649f@oracle.com\"}, \"message\": \"[NABI-31] deleted unnecessary comment\", \"distinct\": false, \"url\": \"https://api.github.com/repos/iamvane/nabi_api/commits/d79260e1bba8c87048ea8b43bc736c91318e9363\"}, {\"sha\": \"dda196431b610f90aea3efc3b0cb515a688b41db\", \"author\": {\"name\": \"Vanessa Charles Thompson\", \"email\": \"ade5f97ed2193f8613b83c010cddad9ff436649f@oracle.com\"}, \"message\": \"[NABI-31] Moved app.js to server directory\", \"distinct\": false, \"url\": \"https://api.github.com/repos/iamvane/nabi_api/commits/dda196431b610f90aea3efc3b0cb515a688b41db\"}, {\"sha\": \"76a29907e32709d010aff919952968bf1ce88e8e\", \"author\": {\"name\": \"Vanessa Charles Thompson\", \"email\": \"ade5f97ed2193f8613b83c010cddad9ff436649f@oracle.com\"}, \"message\": \"[NABI-31] Deleted html file and added index.js file\", \"distinct\": false, \"url\": \"https://api.github.com/repos/iamvane/nabi_api/commits/76a29907e32709d010aff919952968bf1ce88e8e\"}, {\"sha\": \"94a4df4c0b0e6d7699e02e65f471dfb7a8019d2c\", \"author\": {\"name\": \"Vanessa Charles Thompson\", \"email\": \"ade5f97ed2193f8613b83c010cddad9ff436649f@oracle.com\"}, \"message\": \"[NABI-31] Renaming and organizing\", \"distinct\": false, \"url\": \"https://api.github.com/repos/iamvane/nabi_api/commits/94a4df4c0b0e6d7699e02e65f471dfb7a8019d2c\"}, {\"sha\": \"6d6a8283644037e0bf675ecf06b2856c5e8fcbe8\", \"author\": {\"name\": \"Vanessa Charles Thompson\", \"email\": \"ade5f97ed2193f8613b83c010cddad9ff436649f@oracle.com\"}, \"message\": \"[NABI-31] Added configuration file and api.js file, set up config file\", \"distinct\": false, \"url\": \"https://api.github.com/repos/iamvane/nabi_api/commits/6d6a8283644037e0bf675ecf06b2856c5e8fcbe8\"}, {\"sha\": \"9300266f184f7a7079be30c31a5671bbc6bcdadd\", \"author\": {\"name\": \"Vanessa Charles Thompson\", \"email\": \"ade5f97ed2193f8613b83c010cddad9ff436649f@oracle.com\"}, \"message\": \"[NABI-31] Set up environment files\", \"distinct\": false, \"url\": \"https://api.github.com/repos/iamvane/nabi_api/commits/9300266f184f7a7079be30c31a5671bbc6bcdadd\"}, {\"sha\": \"6661c98130d6997d953f96680eaa0a48f49a5e62\", \"author\": {\"name\": \"Vanessa Charles Thompson\", \"email\": \"ade5f97ed2193f8613b83c010cddad9ff436649f@oracle.com\"}, \"message\": \"[NABI-31] Set up logger and installed colors module\", \"distinct\": false, \"url\": \"https://api.github.com/repos/iamvane/nabi_api/commits/6661c98130d6997d953f96680eaa0a48f49a5e62\"}, {\"sha\": \"b22965735a5bedeefb5550bf18ffe546039482a9\", \"author\": {\"name\": \"Vanessa Charles Thompson\", \"email\": \"ade5f97ed2193f8613b83c010cddad9ff436649f@oracle.com\"}, \"message\": \"[NABI-31] Set up middleware\", \"distinct\": false, \"url\": \"https://api.github.com/repos/iamvane/nabi_api/commits/b22965735a5bedeefb5550bf18ffe546039482a9\"}, {\"sha\": \"aeca6ab347743e7bde64cbf0615797d0137886b2\", \"author\": {\"name\": \"Vanessa Charles Thompson\", \"email\": \"ade5f97ed2193f8613b83c010cddad9ff436649f@oracle.com\"}, \"message\": \"[NABI-31] Mounted routes\", \"distinct\": false, \"url\": \"https://api.github.com/repos/iamvane/nabi_api/commits/aeca6ab347743e7bde64cbf0615797d0137886b2\"}, {\"sha\": \"ca87277aba746ba4634038771a6bebd8ff52359b\", \"author\": {\"name\": \"Vanessa Charles Thompson\", \"email\": \"ade5f97ed2193f8613b83c010cddad9ff436649f@oracle.com\"}, \"message\": \"[NABI-31] Finished configuring and organizing\", \"distinct\": false, \"url\": \"https://api.github.com/repos/iamvane/nabi_api/commits/ca87277aba746ba4634038771a6bebd8ff52359b\"}, {\"sha\": \"005a0083e57851c33c0d607c8b303cb21d41218a\", \"author\": {\"name\": \"Vanessa Charles Thompson\", \"email\": \"ade5f97ed2193f8613b83c010cddad9ff436649f@oracle.com\"}, \"message\": \"[NABI-31] Chanegd successful logging message\", \"distinct\": false, \"url\": \"https://api.github.com/repos/iamvane/nabi_api/commits/005a0083e57851c33c0d607c8b303cb21d41218a\"}, {\"sha\": \"ae6243ff5e8efb41aa9399c31d59cc6f04ff77e5\", \"author\": {\"name\": \"Vanessa Charles Thompson\", \"email\": \"ade5f97ed2193f8613b83c010cddad9ff436649f@oracle.com\"}, \"message\": \"[NABI-31] Minor refactoring\", \"distinct\": false, \"url\": \"https://api.github.com/repos/iamvane/nabi_api/commits/ae6243ff5e8efb41aa9399c31d59cc6f04ff77e5\"}]}, \"public\": true, \"created_at\": \"2018-01-01T15:00:12Z\"}\n",
      "{\"id\": \"7045119218\", \"type\": \"DeleteEvent\", \"actor\": {\"id\": 25561256, \"login\": \"adekmaulana\", \"display_login\": \"adekmaulana\", \"gravatar_id\": \"\", \"url\": \"https://api.github.com/users/adekmaulana\", \"avatar_url\": \"https://avatars.githubusercontent.com/u/25561256?\"}, \"repo\": {\"id\": 110608798, \"name\": \"techdro-id/zip\", \"url\": \"https://api.github.com/repos/techdro-id/zip\"}, \"payload\": {\"ref\": \"3.9\", \"ref_type\": \"tag\", \"pusher_type\": \"user\"}, \"public\": true, \"created_at\": \"2018-01-01T15:00:12Z\", \"org\": {\"id\": 32587349, \"login\": \"techdro-id\", \"gravatar_id\": \"\", \"url\": \"https://api.github.com/orgs/techdro-id\", \"avatar_url\": \"https://avatars.githubusercontent.com/u/32587349?\"}}\n",
      "{\"id\": \"7045119223\", \"type\": \"PushEvent\", \"actor\": {\"id\": 30485389, \"login\": \"Ssenkowski\", \"display_login\": \"Ssenkowski\", \"gravatar_id\": \"\", \"url\": \"https://api.github.com/users/Ssenkowski\", \"avatar_url\": \"https://avatars.githubusercontent.com/u/30485389?\"}, \"repo\": {\"id\": 115923434, \"name\": \"Ssenkowski/activerecord-costume-store-todo-v-000\", \"url\": \"https://api.github.com/repos/Ssenkowski/activerecord-costume-store-todo-v-000\"}, \"payload\": {\"push_id\": 2226161805, \"size\": 1, \"distinct_size\": 1, \"ref\": \"refs/heads/wip\", \"head\": \"66470060da5d9d4833d2c5fc0f32682cb5927013\", \"before\": \"d727543164d14df652954ca14894ad231a553ea1\", \"commits\": [{\"sha\": \"66470060da5d9d4833d2c5fc0f32682cb5927013\", \"author\": {\"name\": \"Steven Senkowski\", \"email\": \"e80a7c2ddd7643eb9bc2e27d61f2f50351cdd518@gmail.com\"}, \"message\": \"automatically backed up by learn\", \"distinct\": true, \"url\": \"https://api.github.com/repos/Ssenkowski/activerecord-costume-store-todo-v-000/commits/66470060da5d9d4833d2c5fc0f32682cb5927013\"}]}, \"public\": true, \"created_at\": \"2018-01-01T15:00:12Z\"}\n",
      "{\"id\": \"7045119225\", \"type\": \"PushEvent\", \"actor\": {\"id\": 15072580, \"login\": \"th174\", \"display_login\": \"th174\", \"gravatar_id\": \"\", \"url\": \"https://api.github.com/users/th174\", \"avatar_url\": \"https://avatars.githubusercontent.com/u/15072580?\"}, \"repo\": {\"id\": 74274226, \"name\": \"th174/LegitiFact-source-checker-bot\", \"url\": \"https://api.github.com/repos/th174/LegitiFact-source-checker-bot\"}, \"payload\": {\"push_id\": 2226161807, \"size\": 1, \"distinct_size\": 1, \"ref\": \"refs/heads/master\", \"head\": \"cd6efab0d50e191c4ae5662ceac3ff37bac94036\", \"before\": \"e0024cc40141d7f0776678b4e5f14c27ed2a5144\", \"commits\": [{\"sha\": \"cd6efab0d50e191c4ae5662ceac3ff37bac94036\", \"author\": {\"name\": \"Tianyue Huang\", \"email\": \"4318162e6a9a3f81b77eadae409a7beb655c3b8e@duke.edu\"}, \"message\": \"automatic log update 2018-01-01---10:00:06\", \"distinct\": true, \"url\": \"https://api.github.com/repos/th174/LegitiFact-source-checker-bot/commits/cd6efab0d50e191c4ae5662ceac3ff37bac94036\"}]}, \"public\": true, \"created_at\": \"2018-01-01T15:00:12Z\"}\n",
      "{\"id\": \"7045119238\", \"type\": \"PushEvent\", \"actor\": {\"id\": 4970, \"login\": \"gugod\", \"display_login\": \"gugod\", \"gravatar_id\": \"\", \"url\": \"https://api.github.com/users/gugod\", \"avatar_url\": \"https://avatars.githubusercontent.com/u/4970?\"}, \"repo\": {\"id\": 115630585, \"name\": \"g0v-data/mirror-minutely\", \"url\": \"https://api.github.com/repos/g0v-data/mirror-minutely\"}, \"payload\": {\"push_id\": 2226161820, \"size\": 1, \"distinct_size\": 1, \"ref\": \"refs/heads/master\", \"head\": \"eb32e83c6c18a4625bf4681240ff0ba5e64ec93c\", \"before\": \"2579464442a709d2207f8b61d2c3fdd06e77fb49\", \"commits\": [{\"sha\": \"eb32e83c6c18a4625bf4681240ff0ba5e64ec93c\", \"author\": {\"name\": \"nobody\", \"email\": \"365ec17a675f3273bc16c74761ad83f2cf07c59a@nowhere\"}, \"message\": \"\", \"distinct\": true, \"url\": \"https://api.github.com/repos/g0v-data/mirror-minutely/commits/eb32e83c6c18a4625bf4681240ff0ba5e64ec93c\"}]}, \"public\": true, \"created_at\": \"2018-01-01T15:00:11Z\", \"org\": {\"id\": 5207509, \"login\": \"g0v-data\", \"gravatar_id\": \"\", \"url\": \"https://api.github.com/orgs/g0v-data\", \"avatar_url\": \"https://avatars.githubusercontent.com/u/5207509?\"}}\n",
      "{\"id\": \"7045119246\", \"type\": \"PullRequestReviewCommentEvent\", \"actor\": {\"id\": 564768, \"login\": \"niccokunzmann\", \"display_login\": \"niccokunzmann\", \"gravatar_id\": \"\", \"url\": \"https://api.github.com/users/niccokunzmann\", \"avatar_url\": \"https://avatars.githubusercontent.com/u/564768?\"}, \"repo\": {\"id\": 112026126, \"name\": \"fossasia/labyrinth\", \"url\": \"https://api.github.com/repos/fossasia/labyrinth\"}, \"payload\": {\"action\": \"created\", \"comment\": {\"url\": \"https://api.github.com/repos/fossasia/labyrinth/pulls/comments/159157427\", \"pull_request_review_id\": 86063900, \"id\": 159157427, \"diff_hunk\": \"@@ -0,0 +1,28 @@\\n+<!-- https://codein.withgoogle.com/dashboard/tasks/4946505678979072/ -->\\n+\\n+---\\n+\\n+# Labyrinth: Build/Inprove the UI of the game\\n+\\n+The [FOSSASIA Labyrinth](https://github.com/fossasia/labyrinth/) allows you to contribute parts to a huge labyrinth.\\n+To extent the labyrinth, please add a new level.\", \"path\": \"tasks/inprove-the-UI-of-the-game.md\", \"position\": 8, \"original_position\": 8, \"commit_id\": \"23ca726053159a7dc0bc0b2069095ca4a6004529\", \"original_commit_id\": \"23ca726053159a7dc0bc0b2069095ca4a6004529\", \"user\": {\"login\": \"niccokunzmann\", \"id\": 564768, \"avatar_url\": \"https://avatars1.githubusercontent.com/u/564768?v=4\", \"gravatar_id\": \"\", \"url\": \"https://api.github.com/users/niccokunzmann\", \"html_url\": \"https://github.com/niccokunzmann\", \"followers_url\": \"https://api.github.com/users/niccokunzmann/followers\", \"following_url\": \"https://api.github.com/users/niccokunzmann/following{/other_user}\", \"gists_url\": \"https://api.github.com/users/niccokunzmann/gists{/gist_id}\", \"starred_url\": \"https://api.github.com/users/niccokunzmann/starred{/owner}{/repo}\", \"subscriptions_url\": \"https://api.github.com/users/niccokunzmann/subscriptions\", \"organizations_url\": \"https://api.github.com/users/niccokunzmann/orgs\", \"repos_url\": \"https://api.github.com/users/niccokunzmann/repos\", \"events_url\": \"https://api.github.com/users/niccokunzmann/events{/privacy}\", \"received_events_url\": \"https://api.github.com/users/niccokunzmann/received_events\", \"type\": \"User\", \"site_admin\": false}, \"body\": \"We can change this line, too.\", \"created_at\": \"2018-01-01T15:00:11Z\", \"updated_at\": \"2018-01-01T15:00:12Z\", \"html_url\": \"https://github.com/fossasia/labyrinth/pull/96#discussion_r159157427\", \"pull_request_url\": \"https://api.github.com/repos/fossasia/labyrinth/pulls/96\", \"author_association\": \"MEMBER\", \"_links\": {\"self\": {\"href\": \"https://api.github.com/repos/fossasia/labyrinth/pulls/comments/159157427\"}, \"html\": {\"href\": \"https://github.com/fossasia/labyrinth/pull/96#discussion_r159157427\"}, \"pull_request\": {\"href\": \"https://api.github.com/repos/fossasia/labyrinth/pulls/96\"}}}, \"pull_request\": {\"url\": \"https://api.github.com/repos/fossasia/labyrinth/pulls/96\", \"id\": 160647639, \"html_url\": \"https://github.com/fossasia/labyrinth/pull/96\", \"diff_url\": \"https://github.com/fossasia/labyrinth/pull/96.diff\", \"patch_url\": \"https://github.com/fossasia/labyrinth/pull/96.patch\", \"issue_url\": \"https://api.github.com/repos/fossasia/labyrinth/issues/96\", \"number\": 96, \"state\": \"open\", \"locked\": false, \"title\": \"New Task Improve the UI of game\", \"user\": {\"login\": \"YashKumarVerma\", \"id\": 14032427, \"avatar_url\": \"https://avatars1.githubusercontent.com/u/14032427?v=4\", \"gravatar_id\": \"\", \"url\": \"https://api.github.com/users/YashKumarVerma\", \"html_url\": \"https://github.com/YashKumarVerma\", \"followers_url\": \"https://api.github.com/users/YashKumarVerma/followers\", \"following_url\": \"https://api.github.com/users/YashKumarVerma/following{/other_user}\", \"gists_url\": \"https://api.github.com/users/YashKumarVerma/gists{/gist_id}\", \"starred_url\": \"https://api.github.com/users/YashKumarVerma/starred{/owner}{/repo}\", \"subscriptions_url\": \"https://api.github.com/users/YashKumarVerma/subscriptions\", \"organizations_url\": \"https://api.github.com/users/YashKumarVerma/orgs\", \"repos_url\": \"https://api.github.com/users/YashKumarVerma/repos\", \"events_url\": \"https://api.github.com/users/YashKumarVerma/events{/privacy}\", \"received_events_url\": \"https://api.github.com/users/YashKumarVerma/received_events\", \"type\": \"User\", \"site_admin\": false}, \"body\": \"<!-- https://codein.withgoogle.com/dashboard/tasks/4946505678979072/ -->\\r\\n\\r\\n---\\r\\n\\r\\n# Labyrinth: Build/Inprove the UI of the game\\r\\n\\r\\nThe [FOSSASIA Labyrinth](https://github.com/fossasia/labyrinth/) allows you to contribute parts to a huge labyrinth.\\r\\nTo extent the labyrinth, please add a new level.\\r\\n\\r\\nRequirements:\\r\\n- Add the basic UI elements (zoom in, zoom out, pan etc, reset, etc) to the game / Improve( in terms on compatibility, ease of access, solve bugs) if they already exist.\\r\\n- Develop / Enhance the on-screen controls.\\r\\n\\r\\nExpected Outcome:\\r\\n- A systematic (uniform) UI elements that match the overall design of the game.\\r\\n\\r\\nHints:\\r\\n- If someone wants to work with you, let them do that. You can use techniques like [pair programming](https://www.youtube.com/watch?v=vgkahOzFH2Q) or collaborate together on branches of your forks. You can attribute a pull-request also to other people who helped you out or submit a pull-request where you and an other person contributed together.\\r\\n- You can join our [chat on gitter](https://gitter.im/fossasia/labyrinth) if you get stuck to get help or just hang out and have a nice time with others.\\r\\n\\r\\n---\\r\\n\\r\\nCategories:\\r\\n- [X] Code\\r\\n- [X] User Interface\\r\\n- [ ] Documentation / Training\\r\\n- [x] Quality Assurance\\r\\n- [ ] Outreach / Research\\r\\n\", \"created_at\": \"2018-01-01T13:04:07Z\", \"updated_at\": \"2018-01-01T15:00:12Z\", \"closed_at\": null, \"merged_at\": null, \"merge_commit_sha\": \"90ca9e07e9d39271efb78348689b27cfaa2a7fd2\", \"assignee\": null, \"assignees\": [], \"requested_reviewers\": [], \"milestone\": null, \"commits_url\": \"https://api.github.com/repos/fossasia/labyrinth/pulls/96/commits\", \"review_comments_url\": \"https://api.github.com/repos/fossasia/labyrinth/pulls/96/comments\", \"review_comment_url\": \"https://api.github.com/repos/fossasia/labyrinth/pulls/comments{/number}\", \"comments_url\": \"https://api.github.com/repos/fossasia/labyrinth/issues/96/comments\", \"statuses_url\": \"https://api.github.com/repos/fossasia/labyrinth/statuses/23ca726053159a7dc0bc0b2069095ca4a6004529\", \"head\": {\"label\": \"YashKumarVerma:master\", \"ref\": \"master\", \"sha\": \"23ca726053159a7dc0bc0b2069095ca4a6004529\", \"user\": {\"login\": \"YashKumarVerma\", \"id\": 14032427, \"avatar_url\": \"https://avatars1.githubusercontent.com/u/14032427?v=4\", \"gravatar_id\": \"\", \"url\": \"https://api.github.com/users/YashKumarVerma\", \"html_url\": \"https://github.com/YashKumarVerma\", \"followers_url\": \"https://api.github.com/users/YashKumarVerma/followers\", \"following_url\": \"https://api.github.com/users/YashKumarVerma/following{/other_user}\", \"gists_url\": \"https://api.github.com/users/YashKumarVerma/gists{/gist_id}\", \"starred_url\": \"https://api.github.com/users/YashKumarVerma/starred{/owner}{/repo}\", \"subscriptions_url\": \"https://api.github.com/users/YashKumarVerma/subscriptions\", \"organizations_url\": \"https://api.github.com/users/YashKumarVerma/orgs\", \"repos_url\": \"https://api.github.com/users/YashKumarVerma/repos\", \"events_url\": \"https://api.github.com/users/YashKumarVerma/events{/privacy}\", \"received_events_url\": \"https://api.github.com/users/YashKumarVerma/received_events\", \"type\": \"User\", \"site_admin\": false}, \"repo\": {\"id\": 115902848, \"name\": \"labyrinth\", \"full_name\": \"YashKumarVerma/labyrinth\", \"owner\": {\"login\": \"YashKumarVerma\", \"id\": 14032427, \"avatar_url\": \"https://avatars1.githubusercontent.com/u/14032427?v=4\", \"gravatar_id\": \"\", \"url\": \"https://api.github.com/users/YashKumarVerma\", \"html_url\": \"https://github.com/YashKumarVerma\", \"followers_url\": \"https://api.github.com/users/YashKumarVerma/followers\", \"following_url\": \"https://api.github.com/users/YashKumarVerma/following{/other_user}\", \"gists_url\": \"https://api.github.com/users/YashKumarVerma/gists{/gist_id}\", \"starred_url\": \"https://api.github.com/users/YashKumarVerma/starred{/owner}{/repo}\", \"subscriptions_url\": \"https://api.github.com/users/YashKumarVerma/subscriptions\", \"organizations_url\": \"https://api.github.com/users/YashKumarVerma/orgs\", \"repos_url\": \"https://api.github.com/users/YashKumarVerma/repos\", \"events_url\": \"https://api.github.com/users/YashKumarVerma/events{/privacy}\", \"received_events_url\": \"https://api.github.com/users/YashKumarVerma/received_events\", \"type\": \"User\", \"site_admin\": false}, \"private\": false, \"html_url\": \"https://github.com/YashKumarVerma/labyrinth\", \"description\": \"FOSSASIA Labyrinth\", \"fork\": true, \"url\": \"https://api.github.com/repos/YashKumarVerma/labyrinth\", \"forks_url\": \"https://api.github.com/repos/YashKumarVerma/labyrinth/forks\", \"keys_url\": \"https://api.github.com/repos/YashKumarVerma/labyrinth/keys{/key_id}\", \"collaborators_url\": \"https://api.github.com/repos/YashKumarVerma/labyrinth/collaborators{/collaborator}\", \"teams_url\": \"https://api.github.com/repos/YashKumarVerma/labyrinth/teams\", \"hooks_url\": \"https://api.github.com/repos/YashKumarVerma/labyrinth/hooks\", \"issue_events_url\": \"https://api.github.com/repos/YashKumarVerma/labyrinth/issues/events{/number}\", \"events_url\": \"https://api.github.com/repos/YashKumarVerma/labyrinth/events\", \"assignees_url\": \"https://api.github.com/repos/YashKumarVerma/labyrinth/assignees{/user}\", \"branches_url\": \"https://api.github.com/repos/YashKumarVerma/labyrinth/branches{/branch}\", \"tags_url\": \"https://api.github.com/repos/YashKumarVerma/labyrinth/tags\", \"blobs_url\": \"https://api.github.com/repos/YashKumarVerma/labyrinth/git/blobs{/sha}\", \"git_tags_url\": \"https://api.github.com/repos/YashKumarVerma/labyrinth/git/tags{/sha}\", \"git_refs_url\": \"https://api.github.com/repos/YashKumarVerma/labyrinth/git/refs{/sha}\", \"trees_url\": \"https://api.github.com/repos/YashKumarVerma/labyrinth/git/trees{/sha}\", \"statuses_url\": \"https://api.github.com/repos/YashKumarVerma/labyrinth/statuses/{sha}\", \"languages_url\": \"https://api.github.com/repos/YashKumarVerma/labyrinth/languages\", \"stargazers_url\": \"https://api.github.com/repos/YashKumarVerma/labyrinth/stargazers\", \"contributors_url\": \"https://api.github.com/repos/YashKumarVerma/labyrinth/contributors\", \"subscribers_url\": \"https://api.github.com/repos/YashKumarVerma/labyrinth/subscribers\", \"subscription_url\": \"https://api.github.com/repos/YashKumarVerma/labyrinth/subscription\", \"commits_url\": \"https://api.github.com/repos/YashKumarVerma/labyrinth/commits{/sha}\", \"git_commits_url\": \"https://api.github.com/repos/YashKumarVerma/labyrinth/git/commits{/sha}\", \"comments_url\": \"https://api.github.com/repos/YashKumarVerma/labyrinth/comments{/number}\", \"issue_comment_url\": \"https://api.github.com/repos/YashKumarVerma/labyrinth/issues/comments{/number}\", \"contents_url\": \"https://api.github.com/repos/YashKumarVerma/labyrinth/contents/{+path}\", \"compare_url\": \"https://api.github.com/repos/YashKumarVerma/labyrinth/compare/{base}...{head}\", \"merges_url\": \"https://api.github.com/repos/YashKumarVerma/labyrinth/merges\", \"archive_url\": \"https://api.github.com/repos/YashKumarVerma/labyrinth/{archive_format}{/ref}\", \"downloads_url\": \"https://api.github.com/repos/YashKumarVerma/labyrinth/downloads\", \"issues_url\": \"https://api.github.com/repos/YashKumarVerma/labyrinth/issues{/number}\", \"pulls_url\": \"https://api.github.com/repos/YashKumarVerma/labyrinth/pulls{/number}\", \"milestones_url\": \"https://api.github.com/repos/YashKumarVerma/labyrinth/milestones{/number}\", \"notifications_url\": \"https://api.github.com/repos/YashKumarVerma/labyrinth/notifications{?since,all,participating}\", \"labels_url\": \"https://api.github.com/repos/YashKumarVerma/labyrinth/labels{/name}\", \"releases_url\": \"https://api.github.com/repos/YashKumarVerma/labyrinth/releases{/id}\", \"deployments_url\": \"https://api.github.com/repos/YashKumarVerma/labyrinth/deployments\", \"created_at\": \"2018-01-01T06:16:41Z\", \"updated_at\": \"2018-01-01T06:16:43Z\", \"pushed_at\": \"2018-01-01T13:03:27Z\", \"git_url\": \"git://github.com/YashKumarVerma/labyrinth.git\", \"ssh_url\": \"git@github.com:YashKumarVerma/labyrinth.git\", \"clone_url\": \"https://github.com/YashKumarVerma/labyrinth.git\", \"svn_url\": \"https://github.com/YashKumarVerma/labyrinth\", \"homepage\": null, \"size\": 2038, \"stargazers_count\": 0, \"watchers_count\": 0, \"language\": \"JavaScript\", \"has_issues\": false, \"has_projects\": true, \"has_downloads\": true, \"has_wiki\": false, \"has_pages\": false, \"forks_count\": 0, \"mirror_url\": null, \"archived\": false, \"open_issues_count\": 0, \"license\": null, \"forks\": 0, \"open_issues\": 0, \"watchers\": 0, \"default_branch\": \"master\"}}, \"base\": {\"label\": \"fossasia:master\", \"ref\": \"master\", \"sha\": \"cc2af2c7d58db87e1354cb5154fbfb7cec5b5326\", \"user\": {\"login\": \"fossasia\", \"id\": 6295529, \"avatar_url\": \"https://avatars3.githubusercontent.com/u/6295529?v=4\", \"gravatar_id\": \"\", \"url\": \"https://api.github.com/users/fossasia\", \"html_url\": \"https://github.com/fossasia\", \"followers_url\": \"https://api.github.com/users/fossasia/followers\", \"following_url\": \"https://api.github.com/users/fossasia/following{/other_user}\", \"gists_url\": \"https://api.github.com/users/fossasia/gists{/gist_id}\", \"starred_url\": \"https://api.github.com/users/fossasia/starred{/owner}{/repo}\", \"subscriptions_url\": \"https://api.github.com/users/fossasia/subscriptions\", \"organizations_url\": \"https://api.github.com/users/fossasia/orgs\", \"repos_url\": \"https://api.github.com/users/fossasia/repos\", \"events_url\": \"https://api.github.com/users/fossasia/events{/privacy}\", \"received_events_url\": \"https://api.github.com/users/fossasia/received_events\", \"type\": \"Organization\", \"site_admin\": false}, \"repo\": {\"id\": 112026126, \"name\": \"labyrinth\", \"full_name\": \"fossasia/labyrinth\", \"owner\": {\"login\": \"fossasia\", \"id\": 6295529, \"avatar_url\": \"https://avatars3.githubusercontent.com/u/6295529?v=4\", \"gravatar_id\": \"\", \"url\": \"https://api.github.com/users/fossasia\", \"html_url\": \"https://github.com/fossasia\", \"followers_url\": \"https://api.github.com/users/fossasia/followers\", \"following_url\": \"https://api.github.com/users/fossasia/following{/other_user}\", \"gists_url\": \"https://api.github.com/users/fossasia/gists{/gist_id}\", \"starred_url\": \"https://api.github.com/users/fossasia/starred{/owner}{/repo}\", \"subscriptions_url\": \"https://api.github.com/users/fossasia/subscriptions\", \"organizations_url\": \"https://api.github.com/users/fossasia/orgs\", \"repos_url\": \"https://api.github.com/users/fossasia/repos\", \"events_url\": \"https://api.github.com/users/fossasia/events{/privacy}\", \"received_events_url\": \"https://api.github.com/users/fossasia/received_events\", \"type\": \"Organization\", \"site_admin\": false}, \"private\": false, \"html_url\": \"https://github.com/fossasia/labyrinth\", \"description\": \"FOSSASIA Labyrinth\", \"fork\": false, \"url\": \"https://api.github.com/repos/fossasia/labyrinth\", \"forks_url\": \"https://api.github.com/repos/fossasia/labyrinth/forks\", \"keys_url\": \"https://api.github.com/repos/fossasia/labyrinth/keys{/key_id}\", \"collaborators_url\": \"https://api.github.com/repos/fossasia/labyrinth/collaborators{/collaborator}\", \"teams_url\": \"https://api.github.com/repos/fossasia/labyrinth/teams\", \"hooks_url\": \"https://api.github.com/repos/fossasia/labyrinth/hooks\", \"issue_events_url\": \"https://api.github.com/repos/fossasia/labyrinth/issues/events{/number}\", \"events_url\": \"https://api.github.com/repos/fossasia/labyrinth/events\", \"assignees_url\": \"https://api.github.com/repos/fossasia/labyrinth/assignees{/user}\", \"branches_url\": \"https://api.github.com/repos/fossasia/labyrinth/branches{/branch}\", \"tags_url\": \"https://api.github.com/repos/fossasia/labyrinth/tags\", \"blobs_url\": \"https://api.github.com/repos/fossasia/labyrinth/git/blobs{/sha}\", \"git_tags_url\": \"https://api.github.com/repos/fossasia/labyrinth/git/tags{/sha}\", \"git_refs_url\": \"https://api.github.com/repos/fossasia/labyrinth/git/refs{/sha}\", \"trees_url\": \"https://api.github.com/repos/fossasia/labyrinth/git/trees{/sha}\", \"statuses_url\": \"https://api.github.com/repos/fossasia/labyrinth/statuses/{sha}\", \"languages_url\": \"https://api.github.com/repos/fossasia/labyrinth/languages\", \"stargazers_url\": \"https://api.github.com/repos/fossasia/labyrinth/stargazers\", \"contributors_url\": \"https://api.github.com/repos/fossasia/labyrinth/contributors\", \"subscribers_url\": \"https://api.github.com/repos/fossasia/labyrinth/subscribers\", \"subscription_url\": \"https://api.github.com/repos/fossasia/labyrinth/subscription\", \"commits_url\": \"https://api.github.com/repos/fossasia/labyrinth/commits{/sha}\", \"git_commits_url\": \"https://api.github.com/repos/fossasia/labyrinth/git/commits{/sha}\", \"comments_url\": \"https://api.github.com/repos/fossasia/labyrinth/comments{/number}\", \"issue_comment_url\": \"https://api.github.com/repos/fossasia/labyrinth/issues/comments{/number}\", \"contents_url\": \"https://api.github.com/repos/fossasia/labyrinth/contents/{+path}\", \"compare_url\": \"https://api.github.com/repos/fossasia/labyrinth/compare/{base}...{head}\", \"merges_url\": \"https://api.github.com/repos/fossasia/labyrinth/merges\", \"archive_url\": \"https://api.github.com/repos/fossasia/labyrinth/{archive_format}{/ref}\", \"downloads_url\": \"https://api.github.com/repos/fossasia/labyrinth/downloads\", \"issues_url\": \"https://api.github.com/repos/fossasia/labyrinth/issues{/number}\", \"pulls_url\": \"https://api.github.com/repos/fossasia/labyrinth/pulls{/number}\", \"milestones_url\": \"https://api.github.com/repos/fossasia/labyrinth/milestones{/number}\", \"notifications_url\": \"https://api.github.com/repos/fossasia/labyrinth/notifications{?since,all,participating}\", \"labels_url\": \"https://api.github.com/repos/fossasia/labyrinth/labels{/name}\", \"releases_url\": \"https://api.github.com/repos/fossasia/labyrinth/releases{/id}\", \"deployments_url\": \"https://api.github.com/repos/fossasia/labyrinth/deployments\", \"created_at\": \"2017-11-25T18:37:27Z\", \"updated_at\": \"2018-01-01T10:26:58Z\", \"pushed_at\": \"2018-01-01T14:57:31Z\", \"git_url\": \"git://github.com/fossasia/labyrinth.git\", \"ssh_url\": \"git@github.com:fossasia/labyrinth.git\", \"clone_url\": \"https://github.com/fossasia/labyrinth.git\", \"svn_url\": \"https://github.com/fossasia/labyrinth\", \"homepage\": null, \"size\": 2082, \"stargazers_count\": 126, \"watchers_count\": 126, \"language\": \"JavaScript\", \"has_issues\": true, \"has_projects\": false, \"has_downloads\": true, \"has_wiki\": false, \"has_pages\": false, \"forks_count\": 29, \"mirror_url\": null, \"archived\": false, \"open_issues_count\": 17, \"license\": {\"key\": \"agpl-3.0\", \"name\": \"GNU Affero General Public License v3.0\", \"spdx_id\": \"AGPL-3.0\", \"url\": \"https://api.github.com/licenses/agpl-3.0\"}, \"forks\": 29, \"open_issues\": 17, \"watchers\": 126, \"default_branch\": \"master\"}}, \"_links\": {\"self\": {\"href\": \"https://api.github.com/repos/fossasia/labyrinth/pulls/96\"}, \"html\": {\"href\": \"https://github.com/fossasia/labyrinth/pull/96\"}, \"issue\": {\"href\": \"https://api.github.com/repos/fossasia/labyrinth/issues/96\"}, \"comments\": {\"href\": \"https://api.github.com/repos/fossasia/labyrinth/issues/96/comments\"}, \"review_comments\": {\"href\": \"https://api.github.com/repos/fossasia/labyrinth/pulls/96/comments\"}, \"review_comment\": {\"href\": \"https://api.github.com/repos/fossasia/labyrinth/pulls/comments{/number}\"}, \"commits\": {\"href\": \"https://api.github.com/repos/fossasia/labyrinth/pulls/96/commits\"}, \"statuses\": {\"href\": \"https://api.github.com/repos/fossasia/labyrinth/statuses/23ca726053159a7dc0bc0b2069095ca4a6004529\"}}, \"author_association\": \"MEMBER\"}}, \"public\": true, \"created_at\": \"2018-01-01T15:00:11Z\", \"org\": {\"id\": 6295529, \"login\": \"fossasia\", \"gravatar_id\": \"\", \"url\": \"https://api.github.com/orgs/fossasia\", \"avatar_url\": \"https://avatars.githubusercontent.com/u/6295529?\"}}\n",
      "{\"id\": \"7045119239\", \"type\": \"CreateEvent\", \"actor\": {\"id\": 582346, \"login\": \"iluwatar\", \"display_login\": \"iluwatar\", \"gravatar_id\": \"\", \"url\": \"https://api.github.com/users/iluwatar\", \"avatar_url\": \"https://avatars.githubusercontent.com/u/582346?\"}, \"repo\": {\"id\": 22790488, \"name\": \"iluwatar/java-design-patterns\", \"url\": \"https://api.github.com/repos/iluwatar/java-design-patterns\"}, \"payload\": {\"ref\": \"1.18.0\", \"ref_type\": \"tag\", \"master_branch\": \"master\", \"description\": \"Design patterns implemented in Java\", \"pusher_type\": \"user\"}, \"public\": true, \"created_at\": \"2018-01-01T15:00:12Z\"}\n",
      "{\"id\": \"7045119240\", \"type\": \"PushEvent\", \"actor\": {\"id\": 25877024, \"login\": \"znhocn\", \"display_login\": \"znhocn\", \"gravatar_id\": \"\", \"url\": \"https://api.github.com/users/znhocn\", \"avatar_url\": \"https://avatars.githubusercontent.com/u/25877024?\"}, \"repo\": {\"id\": 83143013, \"name\": \"znhocn/slog\", \"url\": \"https://api.github.com/repos/znhocn/slog\"}, \"payload\": {\"push_id\": 2226161822, \"size\": 1, \"distinct_size\": 1, \"ref\": \"refs/heads/master\", \"head\": \"c7e5c4bf71cf0a537db0e0a479601d4627320558\", \"before\": \"2e04c3018a08a31e6dbb571f7d2bb1c30acd9869\", \"commits\": [{\"sha\": \"c7e5c4bf71cf0a537db0e0a479601d4627320558\", \"author\": {\"name\": \"ZnHoCn\", \"email\": \"b1c1d8736f20db3fb6c1c66bb1455ed43909f0d8@hakr.xyz\"}, \"message\": \"Updated: 2018-01-01 23:00\", \"distinct\": true, \"url\": \"https://api.github.com/repos/znhocn/slog/commits/c7e5c4bf71cf0a537db0e0a479601d4627320558\"}]}, \"public\": true, \"created_at\": \"2018-01-01T15:00:12Z\"}\n",
      "{\"id\": \"7045119241\", \"type\": \"PushEvent\", \"actor\": {\"id\": 13743792, \"login\": \"cheer4chai\", \"display_login\": \"cheer4chai\", \"gravatar_id\": \"\", \"url\": \"https://api.github.com/users/cheer4chai\", \"avatar_url\": \"https://avatars.githubusercontent.com/u/13743792?\"}, \"repo\": {\"id\": 113295934, \"name\": \"cheer4chai/myBlog\", \"url\": \"https://api.github.com/repos/cheer4chai/myBlog\"}, \"payload\": {\"push_id\": 2226161823, \"size\": 1, \"distinct_size\": 1, \"ref\": \"refs/heads/master\", \"head\": \"e1af3f054a181b1b9bf0c2a81df054aabacc70ad\", \"before\": \"157d641066d7fafb1b205ec4aec7301a42d8304a\", \"commits\": [{\"sha\": \"e1af3f054a181b1b9bf0c2a81df054aabacc70ad\", \"author\": {\"name\": \"cheer4chai\", \"email\": \"64b304cb13ba6cd4036a8d3a92746785729cd6de@qq.com\"}, \"message\": \"\\u66f4\\u65b0README\", \"distinct\": true, \"url\": \"https://api.github.com/repos/cheer4chai/myBlog/commits/e1af3f054a181b1b9bf0c2a81df054aabacc70ad\"}]}, \"public\": true, \"created_at\": \"2018-01-01T15:00:12Z\"}\n",
      "{\"id\": \"7045119242\", \"type\": \"PushEvent\", \"actor\": {\"id\": 8644337, \"login\": \"FredFury\", \"display_login\": \"FredFury\", \"gravatar_id\": \"\", \"url\": \"https://api.github.com/users/FredFury\", \"avatar_url\": \"https://avatars.githubusercontent.com/u/8644337?\"}, \"repo\": {\"id\": 114369489, \"name\": \"FredFury/Slocum_tricks\", \"url\": \"https://api.github.com/repos/FredFury/Slocum_tricks\"}, \"payload\": {\"push_id\": 2226161825, \"size\": 1, \"distinct_size\": 1, \"ref\": \"refs/heads/master\", \"head\": \"bf5b57ae006456677116b7e3e18badc068adff37\", \"before\": \"2af87fe410110e28ef794e10a9e707eb3c724a34\", \"commits\": [{\"sha\": \"bf5b57ae006456677116b7e3e18badc068adff37\", \"author\": {\"name\": \"FredFury\", \"email\": \"060ab27e4faeecb4834fdf60c7e91bc3c88b36fb@gmail.com\"}, \"message\": \"updated wave glider track line\", \"distinct\": true, \"url\": \"https://api.github.com/repos/FredFury/Slocum_tricks/commits/bf5b57ae006456677116b7e3e18badc068adff37\"}]}, \"public\": true, \"created_at\": \"2018-01-01T15:00:12Z\"}\n",
      "{\"id\": \"7045119244\", \"type\": \"CreateEvent\", \"actor\": {\"id\": 1686007, \"login\": \"efarbereger\", \"display_login\": \"efarbereger\", \"gravatar_id\": \"\", \"url\": \"https://api.github.com/users/efarbereger\", \"avatar_url\": \"https://avatars.githubusercontent.com/u/1686007?\"}, \"repo\": {\"id\": 115926124, \"name\": \"efarbereger/historyclockimage\", \"url\": \"https://api.github.com/repos/efarbereger/historyclockimage\"}, \"payload\": {\"ref\": \"master\", \"ref_type\": \"branch\", \"master_branch\": \"master\", \"description\": \"makes a fun clock\", \"pusher_type\": \"user\"}, \"public\": true, \"created_at\": \"2018-01-01T15:00:12Z\"}\n",
      "{\"id\": \"7045119249\", \"type\": \"PushEvent\", \"actor\": {\"id\": 404003, \"login\": \"peterfpeterson\", \"display_login\": \"peterfpeterson\", \"gravatar_id\": \"\", \"url\": \"https://api.github.com/users/peterfpeterson\", \"avatar_url\": \"https://avatars.githubusercontent.com/u/404003?\"}, \"repo\": {\"id\": 15552782, \"name\": \"mantidproject/developer\", \"url\": \"https://api.github.com/repos/mantidproject/developer\"}, \"payload\": {\"push_id\": 2226161827, \"size\": 1, \"distinct_size\": 1, \"ref\": \"refs/heads/gh-pages\", \"head\": \"97c524dc03a7d84128e84d264123ecc56c64a80c\", \"before\": \"7305eb5386cd558271209e250be4bc95082814f9\", \"commits\": [{\"sha\": \"97c524dc03a7d84128e84d264123ecc56c64a80c\", \"author\": {\"name\": \"Pete Peterson\", \"email\": \"54806f3710b1e83ae64fdb274028a4436bf325c7@ornl.gov\"}, \"message\": \"Updating skipped system tests via jenkins\", \"distinct\": true, \"url\": \"https://api.github.com/repos/mantidproject/developer/commits/97c524dc03a7d84128e84d264123ecc56c64a80c\"}]}, \"public\": true, \"created_at\": \"2018-01-01T15:00:12Z\", \"org\": {\"id\": 671496, \"login\": \"mantidproject\", \"gravatar_id\": \"\", \"url\": \"https://api.github.com/orgs/mantidproject\", \"avatar_url\": \"https://avatars.githubusercontent.com/u/671496?\"}}\n",
      "{\"id\": \"7045119250\", \"type\": \"PushEvent\", \"actor\": {\"id\": 31858072, \"login\": \"TalibAzir\", \"display_login\": \"TalibAzir\", \"gravatar_id\": \"\", \"url\": \"https://api.github.com/users/TalibAzir\", \"avatar_url\": \"https://avatars.githubusercontent.com/u/31858072?\"}, \"repo\": {\"id\": 103155160, \"name\": \"TalibAzir/AllahPadishah\", \"url\": \"https://api.github.com/repos/TalibAzir/AllahPadishah\"}, \"payload\": {\"push_id\": 2226161829, \"size\": 1, \"distinct_size\": 1, \"ref\": \"refs/heads/master\", \"head\": \"27a7d27f2826c2f39db617862f33b15e319ececf\", \"before\": \"d0ccef4019f4e19b116b560a857ac3e3c6bb077b\", \"commits\": [{\"sha\": \"27a7d27f2826c2f39db617862f33b15e319ececf\", \"author\": {\"name\": \"TalibAzir\", \"email\": \"133848c21a04c1fe966b65ff8370f84259f10f62@users.noreply.github.com\"}, \"message\": \"[2018-01-01_18:02:12]_UsersUpdate\", \"distinct\": true, \"url\": \"https://api.github.com/repos/TalibAzir/AllahPadishah/commits/27a7d27f2826c2f39db617862f33b15e319ececf\"}]}, \"public\": true, \"created_at\": \"2018-01-01T15:00:12Z\"}\n",
      "{\"id\": \"7045119253\", \"type\": \"PushEvent\", \"actor\": {\"id\": 2678195, \"login\": \"lukemassa\", \"display_login\": \"lukemassa\", \"gravatar_id\": \"\", \"url\": \"https://api.github.com/users/lukemassa\", \"avatar_url\": \"https://avatars.githubusercontent.com/u/2678195?\"}, \"repo\": {\"id\": 101575316, \"name\": \"lukemassa/jclubtakeaways\", \"url\": \"https://api.github.com/repos/lukemassa/jclubtakeaways\"}, \"payload\": {\"push_id\": 2226161832, \"size\": 1, \"distinct_size\": 1, \"ref\": \"refs/heads/master\", \"head\": \"660914a0f34669497ea488a0915229022049f290\", \"before\": \"4fb5485fa9c4f6102a03fc0056cb1d528856c196\", \"commits\": [{\"sha\": \"660914a0f34669497ea488a0915229022049f290\", \"author\": {\"name\": \"root\", \"email\": \"dc76e9f0c0006e8f919e0c515c66dbba3982f785@lmassa-dev.dhcp.tripadvisor.com\"}, \"message\": \"Updated oauth token\", \"distinct\": true, \"url\": \"https://api.github.com/repos/lukemassa/jclubtakeaways/commits/660914a0f34669497ea488a0915229022049f290\"}]}, \"public\": true, \"created_at\": \"2018-01-01T15:00:12Z\"}\n",
      "{\"id\": \"7045119256\", \"type\": \"PushEvent\", \"actor\": {\"id\": 5897356, \"login\": \"toby1991\", \"display_login\": \"toby1991\", \"gravatar_id\": \"\", \"url\": \"https://api.github.com/users/toby1991\", \"avatar_url\": \"https://avatars.githubusercontent.com/u/5897356?\"}, \"repo\": {\"id\": 101966293, \"name\": \"toby1991/laravel-release\", \"url\": \"https://api.github.com/repos/toby1991/laravel-release\"}, \"payload\": {\"push_id\": 2226161833, \"size\": 1, \"distinct_size\": 1, \"ref\": \"refs/heads/master\", \"head\": \"8470e3edba15d93c221eabf611d8115a734b8c05\", \"before\": \"0ff6b904f0eabd6d333f6f7f07afd287ae367125\", \"commits\": [{\"sha\": \"8470e3edba15d93c221eabf611d8115a734b8c05\", \"author\": {\"name\": \"toby1991\", \"email\": \"bea1102304057a5e5abb8e0ee47ed591f74984bb@hotmail.com\"}, \"message\": \"build date: 2018-01-01 23:00:01\", \"distinct\": true, \"url\": \"https://api.github.com/repos/toby1991/laravel-release/commits/8470e3edba15d93c221eabf611d8115a734b8c05\"}]}, \"public\": true, \"created_at\": \"2018-01-01T15:00:12Z\"}\n",
      "{\"id\": \"7045119257\", \"type\": \"CreateEvent\", \"actor\": {\"id\": 5897356, \"login\": \"toby1991\", \"display_login\": \"toby1991\", \"gravatar_id\": \"\", \"url\": \"https://api.github.com/users/toby1991\", \"avatar_url\": \"https://avatars.githubusercontent.com/u/5897356?\"}, \"repo\": {\"id\": 101966293, \"name\": \"toby1991/laravel-release\", \"url\": \"https://api.github.com/repos/toby1991/laravel-release\"}, \"payload\": {\"ref\": \"2018-01-01-23-00-01\", \"ref_type\": \"tag\", \"master_branch\": \"master\", \"description\": \"help people who's behind the wall to use laravel. \\u5e2e\\u52a9\\u6ca1\\u6709\\u7f51\\u7edc\\u81ea\\u7531\\u7684\\u4eba\\u4f7f\\u7528Laravel\", \"pusher_type\": \"user\"}, \"public\": true, \"created_at\": \"2018-01-01T15:00:12Z\"}\n",
      "{\"id\": \"7045119259\", \"type\": \"PushEvent\", \"actor\": {\"id\": 8112599, \"login\": \"sagiegurari\", \"display_login\": \"sagiegurari\", \"gravatar_id\": \"\", \"url\": \"https://api.github.com/users/sagiegurari\", \"avatar_url\": \"https://avatars.githubusercontent.com/u/8112599?\"}, \"repo\": {\"id\": 107773293, \"name\": \"sagiegurari/shell2batch\", \"url\": \"https://api.github.com/repos/sagiegurari/shell2batch\"}, \"payload\": {\"push_id\": 2226161835, \"size\": 1, \"distinct_size\": 1, \"ref\": \"refs/heads/master\", \"head\": \"53e4ce90f18da120bfb284c737e1367f4f82f463\", \"before\": \"d11409078ee3a6a83984d728eeb93866810529da\", \"commits\": [{\"sha\": \"53e4ce90f18da120bfb284c737e1367f4f82f463\", \"author\": {\"name\": \"sagie gur ari\", \"email\": \"1cb5861a01f796ca997690c4298e76a114081ca4@gmail.com\"}, \"message\": \"update dependencies\", \"distinct\": true, \"url\": \"https://api.github.com/repos/sagiegurari/shell2batch/commits/53e4ce90f18da120bfb284c737e1367f4f82f463\"}]}, \"public\": true, \"created_at\": \"2018-01-01T15:00:12Z\"}\n",
      "{\"id\": \"7045119260\", \"type\": \"IssueCommentEvent\", \"actor\": {\"id\": 19946467, \"login\": \"Vg1ee\", \"display_login\": \"Vg1ee\", \"gravatar_id\": \"\", \"url\": \"https://api.github.com/users/Vg1ee\", \"avatar_url\": \"https://avatars.githubusercontent.com/u/19946467?\"}, \"repo\": {\"id\": 115675788, \"name\": \"wangshub/wechat_jump_game\", \"url\": \"https://api.github.com/repos/wangshub/wechat_jump_game\"}, \"payload\": {\"action\": \"created\", \"issue\": {\"url\": \"https://api.github.com/repos/wangshub/wechat_jump_game/issues/543\", \"repository_url\": \"https://api.github.com/repos/wangshub/wechat_jump_game\", \"labels_url\": \"https://api.github.com/repos/wangshub/wechat_jump_game/issues/543/labels{/name}\", \"comments_url\": \"https://api.github.com/repos/wangshub/wechat_jump_game/issues/543/comments\", \"events_url\": \"https://api.github.com/repos/wangshub/wechat_jump_game/issues/543/events\", \"html_url\": \"https://github.com/wangshub/wechat_jump_game/issues/543\", \"id\": 285310813, \"number\": 543, \"title\": \"\\u6c42\\u51e0\\u4e2a\\u56e0\\u4e3a\\u97f3\\u7b26\\u51fa\\u9519\\u7684\\u622a\\u56fe,\\u5c1d\\u8bd5\\u4fee\\u590d\\u4e00\\u4e0b\", \"user\": {\"login\": \"Sowevo\", \"id\": 31763582, \"avatar_url\": \"https://avatars2.githubusercontent.com/u/31763582?v=4\", \"gravatar_id\": \"\", \"url\": \"https://api.github.com/users/Sowevo\", \"html_url\": \"https://github.com/Sowevo\", \"followers_url\": \"https://api.github.com/users/Sowevo/followers\", \"following_url\": \"https://api.github.com/users/Sowevo/following{/other_user}\", \"gists_url\": \"https://api.github.com/users/Sowevo/gists{/gist_id}\", \"starred_url\": \"https://api.github.com/users/Sowevo/starred{/owner}{/repo}\", \"subscriptions_url\": \"https://api.github.com/users/Sowevo/subscriptions\", \"organizations_url\": \"https://api.github.com/users/Sowevo/orgs\", \"repos_url\": \"https://api.github.com/users/Sowevo/repos\", \"events_url\": \"https://api.github.com/users/Sowevo/events{/privacy}\", \"received_events_url\": \"https://api.github.com/users/Sowevo/received_events\", \"type\": \"User\", \"site_admin\": false}, \"labels\": [{\"id\": 792111668, \"url\": \"https://api.github.com/repos/wangshub/wechat_jump_game/labels/Screenshot\", \"name\": \"Screenshot\", \"color\": \"d8ea91\", \"default\": false}], \"state\": \"open\", \"locked\": false, \"assignee\": null, \"assignees\": [], \"milestone\": null, \"comments\": 0, \"created_at\": \"2018-01-01T14:41:13Z\", \"updated_at\": \"2018-01-01T15:00:12Z\", \"closed_at\": null, \"author_association\": \"COLLABORATOR\", \"body\": \"\"}, \"comment\": {\"url\": \"https://api.github.com/repos/wangshub/wechat_jump_game/issues/comments/354657572\", \"html_url\": \"https://github.com/wangshub/wechat_jump_game/issues/543#issuecomment-354657572\", \"issue_url\": \"https://api.github.com/repos/wangshub/wechat_jump_game/issues/543\", \"id\": 354657572, \"user\": {\"login\": \"Vg1ee\", \"id\": 19946467, \"avatar_url\": \"https://avatars1.githubusercontent.com/u/19946467?v=4\", \"gravatar_id\": \"\", \"url\": \"https://api.github.com/users/Vg1ee\", \"html_url\": \"https://github.com/Vg1ee\", \"followers_url\": \"https://api.github.com/users/Vg1ee/followers\", \"following_url\": \"https://api.github.com/users/Vg1ee/following{/other_user}\", \"gists_url\": \"https://api.github.com/users/Vg1ee/gists{/gist_id}\", \"starred_url\": \"https://api.github.com/users/Vg1ee/starred{/owner}{/repo}\", \"subscriptions_url\": \"https://api.github.com/users/Vg1ee/subscriptions\", \"organizations_url\": \"https://api.github.com/users/Vg1ee/orgs\", \"repos_url\": \"https://api.github.com/users/Vg1ee/repos\", \"events_url\": \"https://api.github.com/users/Vg1ee/events{/privacy}\", \"received_events_url\": \"https://api.github.com/users/Vg1ee/received_events\", \"type\": \"User\", \"site_admin\": false}, \"created_at\": \"2018-01-01T15:00:12Z\", \"updated_at\": \"2018-01-01T15:00:12Z\", \"author_association\": \"COLLABORATOR\", \"body\": \"\\u7f29\\u7a84x\\u641c\\u7d22\\u8303\\u56f4\\u4e4b\\u540e\\u597d\\u50cf\\u5c31\\u6ca1\\u9047\\u5230\\u8fc7\\u8fd9\\u6837\\u7684\\u95ee\\u9898\\u4e86\"}}, \"public\": true, \"created_at\": \"2018-01-01T15:00:12Z\"}\n",
      "{\"id\": \"7045119261\", \"type\": \"PullRequestEvent\", \"actor\": {\"id\": 34997530, \"login\": \"happynewyear-2018\", \"display_login\": \"happynewyear-2018\", \"gravatar_id\": \"\", \"url\": \"https://api.github.com/users/happynewyear-2018\", \"avatar_url\": \"https://avatars.githubusercontent.com/u/34997530?\"}, \"repo\": {\"id\": 115907899, \"name\": \"happynewyear-2018/happynewyear-2018.github.io\", \"url\": \"https://api.github.com/repos/happynewyear-2018/happynewyear-2018.github.io\"}, \"payload\": {\"action\": \"closed\", \"number\": 4, \"pull_request\": {\"url\": \"https://api.github.com/repos/happynewyear-2018/happynewyear-2018.github.io/pulls/4\", \"id\": 160650732, \"html_url\": \"https://github.com/happynewyear-2018/happynewyear-2018.github.io/pull/4\", \"diff_url\": \"https://github.com/happynewyear-2018/happynewyear-2018.github.io/pull/4.diff\", \"patch_url\": \"https://github.com/happynewyear-2018/happynewyear-2018.github.io/pull/4.patch\", \"issue_url\": \"https://api.github.com/repos/happynewyear-2018/happynewyear-2018.github.io/issues/4\", \"number\": 4, \"state\": \"closed\", \"locked\": false, \"title\": \"auto_merge/20180101_174848_happynewyear-2018\", \"user\": {\"login\": \"happynewyear-2018\", \"id\": 34997530, \"avatar_url\": \"https://avatars3.githubusercontent.com/u/34997530?v=4\", \"gravatar_id\": \"\", \"url\": \"https://api.github.com/users/happynewyear-2018\", \"html_url\": \"https://github.com/happynewyear-2018\", \"followers_url\": \"https://api.github.com/users/happynewyear-2018/followers\", \"following_url\": \"https://api.github.com/users/happynewyear-2018/following{/other_user}\", \"gists_url\": \"https://api.github.com/users/happynewyear-2018/gists{/gist_id}\", \"starred_url\": \"https://api.github.com/users/happynewyear-2018/starred{/owner}{/repo}\", \"subscriptions_url\": \"https://api.github.com/users/happynewyear-2018/subscriptions\", \"organizations_url\": \"https://api.github.com/users/happynewyear-2018/orgs\", \"repos_url\": \"https://api.github.com/users/happynewyear-2018/repos\", \"events_url\": \"https://api.github.com/users/happynewyear-2018/events{/privacy}\", \"received_events_url\": \"https://api.github.com/users/happynewyear-2018/received_events\", \"type\": \"User\", \"site_admin\": false}, \"body\": null, \"created_at\": \"2018-01-01T15:00:10Z\", \"updated_at\": \"2018-01-01T15:00:12Z\", \"closed_at\": \"2018-01-01T15:00:12Z\", \"merged_at\": \"2018-01-01T15:00:12Z\", \"merge_commit_sha\": \"d6bae97e71f450f45081cf1c7517af3591b88bbe\", \"assignee\": null, \"assignees\": [], \"requested_reviewers\": [], \"milestone\": null, \"commits_url\": \"https://api.github.com/repos/happynewyear-2018/happynewyear-2018.github.io/pulls/4/commits\", \"review_comments_url\": \"https://api.github.com/repos/happynewyear-2018/happynewyear-2018.github.io/pulls/4/comments\", \"review_comment_url\": \"https://api.github.com/repos/happynewyear-2018/happynewyear-2018.github.io/pulls/comments{/number}\", \"comments_url\": \"https://api.github.com/repos/happynewyear-2018/happynewyear-2018.github.io/issues/4/comments\", \"statuses_url\": \"https://api.github.com/repos/happynewyear-2018/happynewyear-2018.github.io/statuses/85f2a7774c506533a1392929b5ba54bfb43994f6\", \"head\": {\"label\": \"happynewyear-2018:auto_merge/20180101_174848_happynewyear-2018\", \"ref\": \"auto_merge/20180101_174848_happynewyear-2018\", \"sha\": \"85f2a7774c506533a1392929b5ba54bfb43994f6\", \"user\": {\"login\": \"happynewyear-2018\", \"id\": 34997530, \"avatar_url\": \"https://avatars3.githubusercontent.com/u/34997530?v=4\", \"gravatar_id\": \"\", \"url\": \"https://api.github.com/users/happynewyear-2018\", \"html_url\": \"https://github.com/happynewyear-2018\", \"followers_url\": \"https://api.github.com/users/happynewyear-2018/followers\", \"following_url\": \"https://api.github.com/users/happynewyear-2018/following{/other_user}\", \"gists_url\": \"https://api.github.com/users/happynewyear-2018/gists{/gist_id}\", \"starred_url\": \"https://api.github.com/users/happynewyear-2018/starred{/owner}{/repo}\", \"subscriptions_url\": \"https://api.github.com/users/happynewyear-2018/subscriptions\", \"organizations_url\": \"https://api.github.com/users/happynewyear-2018/orgs\", \"repos_url\": \"https://api.github.com/users/happynewyear-2018/repos\", \"events_url\": \"https://api.github.com/users/happynewyear-2018/events{/privacy}\", \"received_events_url\": \"https://api.github.com/users/happynewyear-2018/received_events\", \"type\": \"User\", \"site_admin\": false}, \"repo\": {\"id\": 115907899, \"name\": \"happynewyear-2018.github.io\", \"full_name\": \"happynewyear-2018/happynewyear-2018.github.io\", \"owner\": {\"login\": \"happynewyear-2018\", \"id\": 34997530, \"avatar_url\": \"https://avatars3.githubusercontent.com/u/34997530?v=4\", \"gravatar_id\": \"\", \"url\": \"https://api.github.com/users/happynewyear-2018\", \"html_url\": \"https://github.com/happynewyear-2018\", \"followers_url\": \"https://api.github.com/users/happynewyear-2018/followers\", \"following_url\": \"https://api.github.com/users/happynewyear-2018/following{/other_user}\", \"gists_url\": \"https://api.github.com/users/happynewyear-2018/gists{/gist_id}\", \"starred_url\": \"https://api.github.com/users/happynewyear-2018/starred{/owner}{/repo}\", \"subscriptions_url\": \"https://api.github.com/users/happynewyear-2018/subscriptions\", \"organizations_url\": \"https://api.github.com/users/happynewyear-2018/orgs\", \"repos_url\": \"https://api.github.com/users/happynewyear-2018/repos\", \"events_url\": \"https://api.github.com/users/happynewyear-2018/events{/privacy}\", \"received_events_url\": \"https://api.github.com/users/happynewyear-2018/received_events\", \"type\": \"User\", \"site_admin\": false}, \"private\": false, \"html_url\": \"https://github.com/happynewyear-2018/happynewyear-2018.github.io\", \"description\": \"html\", \"fork\": false, \"url\": \"https://api.github.com/repos/happynewyear-2018/happynewyear-2018.github.io\", \"forks_url\": \"https://api.github.com/repos/happynewyear-2018/happynewyear-2018.github.io/forks\", \"keys_url\": \"https://api.github.com/repos/happynewyear-2018/happynewyear-2018.github.io/keys{/key_id}\", \"collaborators_url\": \"https://api.github.com/repos/happynewyear-2018/happynewyear-2018.github.io/collaborators{/collaborator}\", \"teams_url\": \"https://api.github.com/repos/happynewyear-2018/happynewyear-2018.github.io/teams\", \"hooks_url\": \"https://api.github.com/repos/happynewyear-2018/happynewyear-2018.github.io/hooks\", \"issue_events_url\": \"https://api.github.com/repos/happynewyear-2018/happynewyear-2018.github.io/issues/events{/number}\", \"events_url\": \"https://api.github.com/repos/happynewyear-2018/happynewyear-2018.github.io/events\", \"assignees_url\": \"https://api.github.com/repos/happynewyear-2018/happynewyear-2018.github.io/assignees{/user}\", \"branches_url\": \"https://api.github.com/repos/happynewyear-2018/happynewyear-2018.github.io/branches{/branch}\", \"tags_url\": \"https://api.github.com/repos/happynewyear-2018/happynewyear-2018.github.io/tags\", \"blobs_url\": \"https://api.github.com/repos/happynewyear-2018/happynewyear-2018.github.io/git/blobs{/sha}\", \"git_tags_url\": \"https://api.github.com/repos/happynewyear-2018/happynewyear-2018.github.io/git/tags{/sha}\", \"git_refs_url\": \"https://api.github.com/repos/happynewyear-2018/happynewyear-2018.github.io/git/refs{/sha}\", \"trees_url\": \"https://api.github.com/repos/happynewyear-2018/happynewyear-2018.github.io/git/trees{/sha}\", \"statuses_url\": \"https://api.github.com/repos/happynewyear-2018/happynewyear-2018.github.io/statuses/{sha}\", \"languages_url\": \"https://api.github.com/repos/happynewyear-2018/happynewyear-2018.github.io/languages\", \"stargazers_url\": \"https://api.github.com/repos/happynewyear-2018/happynewyear-2018.github.io/stargazers\", \"contributors_url\": \"https://api.github.com/repos/happynewyear-2018/happynewyear-2018.github.io/contributors\", \"subscribers_url\": \"https://api.github.com/repos/happynewyear-2018/happynewyear-2018.github.io/subscribers\", \"subscription_url\": \"https://api.github.com/repos/happynewyear-2018/happynewyear-2018.github.io/subscription\", \"commits_url\": \"https://api.github.com/repos/happynewyear-2018/happynewyear-2018.github.io/commits{/sha}\", \"git_commits_url\": \"https://api.github.com/repos/happynewyear-2018/happynewyear-2018.github.io/git/commits{/sha}\", \"comments_url\": \"https://api.github.com/repos/happynewyear-2018/happynewyear-2018.github.io/comments{/number}\", \"issue_comment_url\": \"https://api.github.com/repos/happynewyear-2018/happynewyear-2018.github.io/issues/comments{/number}\", \"contents_url\": \"https://api.github.com/repos/happynewyear-2018/happynewyear-2018.github.io/contents/{+path}\", \"compare_url\": \"https://api.github.com/repos/happynewyear-2018/happynewyear-2018.github.io/compare/{base}...{head}\", \"merges_url\": \"https://api.github.com/repos/happynewyear-2018/happynewyear-2018.github.io/merges\", \"archive_url\": \"https://api.github.com/repos/happynewyear-2018/happynewyear-2018.github.io/{archive_format}{/ref}\", \"downloads_url\": \"https://api.github.com/repos/happynewyear-2018/happynewyear-2018.github.io/downloads\", \"issues_url\": \"https://api.github.com/repos/happynewyear-2018/happynewyear-2018.github.io/issues{/number}\", \"pulls_url\": \"https://api.github.com/repos/happynewyear-2018/happynewyear-2018.github.io/pulls{/number}\", \"milestones_url\": \"https://api.github.com/repos/happynewyear-2018/happynewyear-2018.github.io/milestones{/number}\", \"notifications_url\": \"https://api.github.com/repos/happynewyear-2018/happynewyear-2018.github.io/notifications{?since,all,participating}\", \"labels_url\": \"https://api.github.com/repos/happynewyear-2018/happynewyear-2018.github.io/labels{/name}\", \"releases_url\": \"https://api.github.com/repos/happynewyear-2018/happynewyear-2018.github.io/releases{/id}\", \"deployments_url\": \"https://api.github.com/repos/happynewyear-2018/happynewyear-2018.github.io/deployments\", \"created_at\": \"2018-01-01T08:32:44Z\", \"updated_at\": \"2018-01-01T08:48:34Z\", \"pushed_at\": \"2018-01-01T15:00:12Z\", \"git_url\": \"git://github.com/happynewyear-2018/happynewyear-2018.github.io.git\", \"ssh_url\": \"git@github.com:happynewyear-2018/happynewyear-2018.github.io.git\", \"clone_url\": \"https://github.com/happynewyear-2018/happynewyear-2018.github.io.git\", \"svn_url\": \"https://github.com/happynewyear-2018/happynewyear-2018.github.io\", \"homepage\": null, \"size\": 6493, \"stargazers_count\": 0, \"watchers_count\": 0, \"language\": \"HTML\", \"has_issues\": true, \"has_projects\": true, \"has_downloads\": true, \"has_wiki\": true, \"has_pages\": true, \"forks_count\": 0, \"mirror_url\": null, \"archived\": false, \"open_issues_count\": 0, \"license\": null, \"forks\": 0, \"open_issues\": 0, \"watchers\": 0, \"default_branch\": \"master\"}}, \"base\": {\"label\": \"happynewyear-2018:master\", \"ref\": \"master\", \"sha\": \"f298807172635fbbd9d2b615466368f77199db10\", \"user\": {\"login\": \"happynewyear-2018\", \"id\": 34997530, \"avatar_url\": \"https://avatars3.githubusercontent.com/u/34997530?v=4\", \"gravatar_id\": \"\", \"url\": \"https://api.github.com/users/happynewyear-2018\", \"html_url\": \"https://github.com/happynewyear-2018\", \"followers_url\": \"https://api.github.com/users/happynewyear-2018/followers\", \"following_url\": \"https://api.github.com/users/happynewyear-2018/following{/other_user}\", \"gists_url\": \"https://api.github.com/users/happynewyear-2018/gists{/gist_id}\", \"starred_url\": \"https://api.github.com/users/happynewyear-2018/starred{/owner}{/repo}\", \"subscriptions_url\": \"https://api.github.com/users/happynewyear-2018/subscriptions\", \"organizations_url\": \"https://api.github.com/users/happynewyear-2018/orgs\", \"repos_url\": \"https://api.github.com/users/happynewyear-2018/repos\", \"events_url\": \"https://api.github.com/users/happynewyear-2018/events{/privacy}\", \"received_events_url\": \"https://api.github.com/users/happynewyear-2018/received_events\", \"type\": \"User\", \"site_admin\": false}, \"repo\": {\"id\": 115907899, \"name\": \"happynewyear-2018.github.io\", \"full_name\": \"happynewyear-2018/happynewyear-2018.github.io\", \"owner\": {\"login\": \"happynewyear-2018\", \"id\": 34997530, \"avatar_url\": \"https://avatars3.githubusercontent.com/u/34997530?v=4\", \"gravatar_id\": \"\", \"url\": \"https://api.github.com/users/happynewyear-2018\", \"html_url\": \"https://github.com/happynewyear-2018\", \"followers_url\": \"https://api.github.com/users/happynewyear-2018/followers\", \"following_url\": \"https://api.github.com/users/happynewyear-2018/following{/other_user}\", \"gists_url\": \"https://api.github.com/users/happynewyear-2018/gists{/gist_id}\", \"starred_url\": \"https://api.github.com/users/happynewyear-2018/starred{/owner}{/repo}\", \"subscriptions_url\": \"https://api.github.com/users/happynewyear-2018/subscriptions\", \"organizations_url\": \"https://api.github.com/users/happynewyear-2018/orgs\", \"repos_url\": \"https://api.github.com/users/happynewyear-2018/repos\", \"events_url\": \"https://api.github.com/users/happynewyear-2018/events{/privacy}\", \"received_events_url\": \"https://api.github.com/users/happynewyear-2018/received_events\", \"type\": \"User\", \"site_admin\": false}, \"private\": false, \"html_url\": \"https://github.com/happynewyear-2018/happynewyear-2018.github.io\", \"description\": \"html\", \"fork\": false, \"url\": \"https://api.github.com/repos/happynewyear-2018/happynewyear-2018.github.io\", \"forks_url\": \"https://api.github.com/repos/happynewyear-2018/happynewyear-2018.github.io/forks\", \"keys_url\": \"https://api.github.com/repos/happynewyear-2018/happynewyear-2018.github.io/keys{/key_id}\", \"collaborators_url\": \"https://api.github.com/repos/happynewyear-2018/happynewyear-2018.github.io/collaborators{/collaborator}\", \"teams_url\": \"https://api.github.com/repos/happynewyear-2018/happynewyear-2018.github.io/teams\", \"hooks_url\": \"https://api.github.com/repos/happynewyear-2018/happynewyear-2018.github.io/hooks\", \"issue_events_url\": \"https://api.github.com/repos/happynewyear-2018/happynewyear-2018.github.io/issues/events{/number}\", \"events_url\": \"https://api.github.com/repos/happynewyear-2018/happynewyear-2018.github.io/events\", \"assignees_url\": \"https://api.github.com/repos/happynewyear-2018/happynewyear-2018.github.io/assignees{/user}\", \"branches_url\": \"https://api.github.com/repos/happynewyear-2018/happynewyear-2018.github.io/branches{/branch}\", \"tags_url\": \"https://api.github.com/repos/happynewyear-2018/happynewyear-2018.github.io/tags\", \"blobs_url\": \"https://api.github.com/repos/happynewyear-2018/happynewyear-2018.github.io/git/blobs{/sha}\", \"git_tags_url\": \"https://api.github.com/repos/happynewyear-2018/happynewyear-2018.github.io/git/tags{/sha}\", \"git_refs_url\": \"https://api.github.com/repos/happynewyear-2018/happynewyear-2018.github.io/git/refs{/sha}\", \"trees_url\": \"https://api.github.com/repos/happynewyear-2018/happynewyear-2018.github.io/git/trees{/sha}\", \"statuses_url\": \"https://api.github.com/repos/happynewyear-2018/happynewyear-2018.github.io/statuses/{sha}\", \"languages_url\": \"https://api.github.com/repos/happynewyear-2018/happynewyear-2018.github.io/languages\", \"stargazers_url\": \"https://api.github.com/repos/happynewyear-2018/happynewyear-2018.github.io/stargazers\", \"contributors_url\": \"https://api.github.com/repos/happynewyear-2018/happynewyear-2018.github.io/contributors\", \"subscribers_url\": \"https://api.github.com/repos/happynewyear-2018/happynewyear-2018.github.io/subscribers\", \"subscription_url\": \"https://api.github.com/repos/happynewyear-2018/happynewyear-2018.github.io/subscription\", \"commits_url\": \"https://api.github.com/repos/happynewyear-2018/happynewyear-2018.github.io/commits{/sha}\", \"git_commits_url\": \"https://api.github.com/repos/happynewyear-2018/happynewyear-2018.github.io/git/commits{/sha}\", \"comments_url\": \"https://api.github.com/repos/happynewyear-2018/happynewyear-2018.github.io/comments{/number}\", \"issue_comment_url\": \"https://api.github.com/repos/happynewyear-2018/happynewyear-2018.github.io/issues/comments{/number}\", \"contents_url\": \"https://api.github.com/repos/happynewyear-2018/happynewyear-2018.github.io/contents/{+path}\", \"compare_url\": \"https://api.github.com/repos/happynewyear-2018/happynewyear-2018.github.io/compare/{base}...{head}\", \"merges_url\": \"https://api.github.com/repos/happynewyear-2018/happynewyear-2018.github.io/merges\", \"archive_url\": \"https://api.github.com/repos/happynewyear-2018/happynewyear-2018.github.io/{archive_format}{/ref}\", \"downloads_url\": \"https://api.github.com/repos/happynewyear-2018/happynewyear-2018.github.io/downloads\", \"issues_url\": \"https://api.github.com/repos/happynewyear-2018/happynewyear-2018.github.io/issues{/number}\", \"pulls_url\": \"https://api.github.com/repos/happynewyear-2018/happynewyear-2018.github.io/pulls{/number}\", \"milestones_url\": \"https://api.github.com/repos/happynewyear-2018/happynewyear-2018.github.io/milestones{/number}\", \"notifications_url\": \"https://api.github.com/repos/happynewyear-2018/happynewyear-2018.github.io/notifications{?since,all,participating}\", \"labels_url\": \"https://api.github.com/repos/happynewyear-2018/happynewyear-2018.github.io/labels{/name}\", \"releases_url\": \"https://api.github.com/repos/happynewyear-2018/happynewyear-2018.github.io/releases{/id}\", \"deployments_url\": \"https://api.github.com/repos/happynewyear-2018/happynewyear-2018.github.io/deployments\", \"created_at\": \"2018-01-01T08:32:44Z\", \"updated_at\": \"2018-01-01T08:48:34Z\", \"pushed_at\": \"2018-01-01T15:00:12Z\", \"git_url\": \"git://github.com/happynewyear-2018/happynewyear-2018.github.io.git\", \"ssh_url\": \"git@github.com:happynewyear-2018/happynewyear-2018.github.io.git\", \"clone_url\": \"https://github.com/happynewyear-2018/happynewyear-2018.github.io.git\", \"svn_url\": \"https://github.com/happynewyear-2018/happynewyear-2018.github.io\", \"homepage\": null, \"size\": 6493, \"stargazers_count\": 0, \"watchers_count\": 0, \"language\": \"HTML\", \"has_issues\": true, \"has_projects\": true, \"has_downloads\": true, \"has_wiki\": true, \"has_pages\": true, \"forks_count\": 0, \"mirror_url\": null, \"archived\": false, \"open_issues_count\": 0, \"license\": null, \"forks\": 0, \"open_issues\": 0, \"watchers\": 0, \"default_branch\": \"master\"}}, \"_links\": {\"self\": {\"href\": \"https://api.github.com/repos/happynewyear-2018/happynewyear-2018.github.io/pulls/4\"}, \"html\": {\"href\": \"https://github.com/happynewyear-2018/happynewyear-2018.github.io/pull/4\"}, \"issue\": {\"href\": \"https://api.github.com/repos/happynewyear-2018/happynewyear-2018.github.io/issues/4\"}, \"comments\": {\"href\": \"https://api.github.com/repos/happynewyear-2018/happynewyear-2018.github.io/issues/4/comments\"}, \"review_comments\": {\"href\": \"https://api.github.com/repos/happynewyear-2018/happynewyear-2018.github.io/pulls/4/comments\"}, \"review_comment\": {\"href\": \"https://api.github.com/repos/happynewyear-2018/happynewyear-2018.github.io/pulls/comments{/number}\"}, \"commits\": {\"href\": \"https://api.github.com/repos/happynewyear-2018/happynewyear-2018.github.io/pulls/4/commits\"}, \"statuses\": {\"href\": \"https://api.github.com/repos/happynewyear-2018/happynewyear-2018.github.io/statuses/85f2a7774c506533a1392929b5ba54bfb43994f6\"}}, \"author_association\": \"OWNER\", \"merged\": true, \"mergeable\": null, \"rebaseable\": null, \"mergeable_state\": \"unknown\", \"merged_by\": {\"login\": \"happynewyear-2018\", \"id\": 34997530, \"avatar_url\": \"https://avatars3.githubusercontent.com/u/34997530?v=4\", \"gravatar_id\": \"\", \"url\": \"https://api.github.com/users/happynewyear-2018\", \"html_url\": \"https://github.com/happynewyear-2018\", \"followers_url\": \"https://api.github.com/users/happynewyear-2018/followers\", \"following_url\": \"https://api.github.com/users/happynewyear-2018/following{/other_user}\", \"gists_url\": \"https://api.github.com/users/happynewyear-2018/gists{/gist_id}\", \"starred_url\": \"https://api.github.com/users/happynewyear-2018/starred{/owner}{/repo}\", \"subscriptions_url\": \"https://api.github.com/users/happynewyear-2018/subscriptions\", \"organizations_url\": \"https://api.github.com/users/happynewyear-2018/orgs\", \"repos_url\": \"https://api.github.com/users/happynewyear-2018/repos\", \"events_url\": \"https://api.github.com/users/happynewyear-2018/events{/privacy}\", \"received_events_url\": \"https://api.github.com/users/happynewyear-2018/received_events\", \"type\": \"User\", \"site_admin\": false}, \"comments\": 0, \"review_comments\": 0, \"maintainer_can_modify\": false, \"commits\": 1, \"additions\": 1, \"deletions\": 1, \"changed_files\": 1}}, \"public\": true, \"created_at\": \"2018-01-01T15:00:12Z\"}\n",
      "{\"id\": \"7045119262\", \"type\": \"IssueCommentEvent\", \"actor\": {\"id\": 7353366, \"login\": \"DarthJahus\", \"display_login\": \"DarthJahus\", \"gravatar_id\": \"\", \"url\": \"https://api.github.com/users/DarthJahus\", \"avatar_url\": \"https://avatars.githubusercontent.com/u/7353366?\"}, \"repo\": {\"id\": 50223128, \"name\": \"vergecurrency/VERGE\", \"url\": \"https://api.github.com/repos/vergecurrency/VERGE\"}, \"payload\": {\"action\": \"created\", \"issue\": {\"url\": \"https://api.github.com/repos/vergecurrency/VERGE/issues/205\", \"repository_url\": \"https://api.github.com/repos/vergecurrency/VERGE\", \"labels_url\": \"https://api.github.com/repos/vergecurrency/VERGE/issues/205/labels{/name}\", \"comments_url\": \"https://api.github.com/repos/vergecurrency/VERGE/issues/205/comments\", \"events_url\": \"https://api.github.com/repos/vergecurrency/VERGE/issues/205/events\", \"html_url\": \"https://github.com/vergecurrency/VERGE/issues/205\", \"id\": 285308370, \"number\": 205, \"title\": \"Copy stealth address from UI only copies partial address\", \"user\": {\"login\": \"topcatx\", \"id\": 34992411, \"avatar_url\": \"https://avatars0.githubusercontent.com/u/34992411?v=4\", \"gravatar_id\": \"\", \"url\": \"https://api.github.com/users/topcatx\", \"html_url\": \"https://github.com/topcatx\", \"followers_url\": \"https://api.github.com/users/topcatx/followers\", \"following_url\": \"https://api.github.com/users/topcatx/following{/other_user}\", \"gists_url\": \"https://api.github.com/users/topcatx/gists{/gist_id}\", \"starred_url\": \"https://api.github.com/users/topcatx/starred{/owner}{/repo}\", \"subscriptions_url\": \"https://api.github.com/users/topcatx/subscriptions\", \"organizations_url\": \"https://api.github.com/users/topcatx/orgs\", \"repos_url\": \"https://api.github.com/users/topcatx/repos\", \"events_url\": \"https://api.github.com/users/topcatx/events{/privacy}\", \"received_events_url\": \"https://api.github.com/users/topcatx/received_events\", \"type\": \"User\", \"site_admin\": false}, \"labels\": [], \"state\": \"open\", \"locked\": false, \"assignee\": null, \"assignees\": [], \"milestone\": null, \"comments\": 1, \"created_at\": \"2018-01-01T13:50:35Z\", \"updated_at\": \"2018-01-01T15:00:12Z\", \"closed_at\": null, \"author_association\": \"NONE\", \"body\": \"Generated stealth address by going to  Help -> Debug -> Console and typing in `getnewstealthaddress`. The address appears on the address list.\\r\\n\\r\\n<img width=\\\"1060\\\" alt=\\\"screen shot 2018-01-01 at 8 44 07 am\\\" src=\\\"https://user-images.githubusercontent.com/34992411/34468122-32d488cc-eed0-11e7-8478-fbd364c7817f.png\\\">\\r\\n\\r\\nRight click -> copy or hit copy address and only partial address seems to be copied to the clipboard.\\r\\nLooks like it's probably copying with a buffer size of old address and does not quite recognize the stealth address in the UI.\\r\\n\\r\\n<img width=\\\"699\\\" alt=\\\"screen shot 2018-01-01 at 8 44 51 am\\\" src=\\\"https://user-images.githubusercontent.com/34992411/34468145-9f79cb36-eed0-11e7-9b81-d0b0a154ebc5.png\\\">\\r\\n\"}, \"comment\": {\"url\": \"https://api.github.com/repos/vergecurrency/VERGE/issues/comments/354657574\", \"html_url\": \"https://github.com/vergecurrency/VERGE/issues/205#issuecomment-354657574\", \"issue_url\": \"https://api.github.com/repos/vergecurrency/VERGE/issues/205\", \"id\": 354657574, \"user\": {\"login\": \"DarthJahus\", \"id\": 7353366, \"avatar_url\": \"https://avatars3.githubusercontent.com/u/7353366?v=4\", \"gravatar_id\": \"\", \"url\": \"https://api.github.com/users/DarthJahus\", \"html_url\": \"https://github.com/DarthJahus\", \"followers_url\": \"https://api.github.com/users/DarthJahus/followers\", \"following_url\": \"https://api.github.com/users/DarthJahus/following{/other_user}\", \"gists_url\": \"https://api.github.com/users/DarthJahus/gists{/gist_id}\", \"starred_url\": \"https://api.github.com/users/DarthJahus/starred{/owner}{/repo}\", \"subscriptions_url\": \"https://api.github.com/users/DarthJahus/subscriptions\", \"organizations_url\": \"https://api.github.com/users/DarthJahus/orgs\", \"repos_url\": \"https://api.github.com/users/DarthJahus/repos\", \"events_url\": \"https://api.github.com/users/DarthJahus/events{/privacy}\", \"received_events_url\": \"https://api.github.com/users/DarthJahus/received_events\", \"type\": \"User\", \"site_admin\": false}, \"created_at\": \"2018-01-01T15:00:12Z\", \"updated_at\": \"2018-01-01T15:00:12Z\", \"author_association\": \"NONE\", \"body\": \"Would be good to rename the issue to \\\"address textbox only accept normal address length and truncates stealth address\\\" or something similar.\"}}, \"public\": true, \"created_at\": \"2018-01-01T15:00:12Z\", \"org\": {\"id\": 16771005, \"login\": \"vergecurrency\", \"gravatar_id\": \"\", \"url\": \"https://api.github.com/orgs/vergecurrency\", \"avatar_url\": \"https://avatars.githubusercontent.com/u/16771005?\"}}\n",
      "{\"id\": \"7045119264\", \"type\": \"GollumEvent\", \"actor\": {\"id\": 33619494, \"login\": \"luckymagic7\", \"display_login\": \"luckymagic7\", \"gravatar_id\": \"\", \"url\": \"https://api.github.com/users/luckymagic7\", \"avatar_url\": \"https://avatars.githubusercontent.com/u/33619494?\"}, \"repo\": {\"id\": 110520169, \"name\": \"luckymagic7/minds\", \"url\": \"https://api.github.com/repos/luckymagic7/minds\"}, \"payload\": {\"pages\": [{\"page_name\": \"pre\", \"title\": \"pre\", \"summary\": null, \"action\": \"created\", \"sha\": \"b02e0381dd21c9d472563fe6e7c76da963df2a4d\", \"html_url\": \"https://github.com/luckymagic7/minds/wiki/pre\"}]}, \"public\": true, \"created_at\": \"2018-01-01T15:00:12Z\"}\n",
      "{\"id\": \"7045119266\", \"type\": \"PushEvent\", \"actor\": {\"id\": 533180, \"login\": \"scriptzteam\", \"display_login\": \"scriptzteam\", \"gravatar_id\": \"\", \"url\": \"https://api.github.com/users/scriptzteam\", \"avatar_url\": \"https://avatars.githubusercontent.com/u/533180?\"}, \"repo\": {\"id\": 115344547, \"name\": \"scriptzteam/BitCoin-Nodes\", \"url\": \"https://api.github.com/repos/scriptzteam/BitCoin-Nodes\"}, \"payload\": {\"push_id\": 2226161837, \"size\": 1, \"distinct_size\": 1, \"ref\": \"refs/heads/master\", \"head\": \"1901585588a426ad6fd4fd6be646ee0a192d6245\", \"before\": \"71232d3af7e89acaf73661ca014d3ca39076dff8\", \"commits\": [{\"sha\": \"1901585588a426ad6fd4fd6be646ee0a192d6245\", \"author\": {\"name\": \"scriptzteam\", \"email\": \"4c01069dbf0898ed2db6b83dc8938e83ac9f7b28@gmail.com\"}, \"message\": \"^^uPdAtE\", \"distinct\": true, \"url\": \"https://api.github.com/repos/scriptzteam/BitCoin-Nodes/commits/1901585588a426ad6fd4fd6be646ee0a192d6245\"}]}, \"public\": true, \"created_at\": \"2018-01-01T15:00:12Z\"}\n",
      "{\"id\": \"7045119270\", \"type\": \"WatchEvent\", \"actor\": {\"id\": 28746898, \"login\": \"kevinptx\", \"display_login\": \"kevinptx\", \"gravatar_id\": \"\", \"url\": \"https://api.github.com/users/kevinptx\", \"avatar_url\": \"https://avatars.githubusercontent.com/u/28746898?\"}, \"repo\": {\"id\": 19415064, \"name\": \"ossu/computer-science\", \"url\": \"https://api.github.com/repos/ossu/computer-science\"}, \"payload\": {\"action\": \"started\"}, \"public\": true, \"created_at\": \"2018-01-01T15:00:12Z\", \"org\": {\"id\": 14957346, \"login\": \"ossu\", \"gravatar_id\": \"\", \"url\": \"https://api.github.com/orgs/ossu\", \"avatar_url\": \"https://avatars.githubusercontent.com/u/14957346?\"}}\n",
      "{\"id\": \"7045119248\", \"type\": \"PushEvent\", \"actor\": {\"id\": 1581541, \"login\": \"bwhmather\", \"display_login\": \"bwhmather\", \"gravatar_id\": \"\", \"url\": \"https://api.github.com/users/bwhmather\", \"avatar_url\": \"https://avatars.githubusercontent.com/u/1581541?\"}, \"repo\": {\"id\": 102607262, \"name\": \"bwhmather/python-validation\", \"url\": \"https://api.github.com/repos/bwhmather/python-validation\"}, \"payload\": {\"push_id\": 2226161828, \"size\": 16, \"distinct_size\": 1, \"ref\": \"refs/heads/master\", \"head\": \"9f55ea7485098256f5002013e3e613476d2588f8\", \"before\": \"a23500a7b33bff5c29564d0f40533a932c249dd1\", \"commits\": [{\"sha\": \"a26ec8cbb07797ec565364ff0c53e89db3738ed6\", \"author\": {\"name\": \"Ben Mather\", \"email\": \"3a8c9bdbaf4c695faa59f37a65ce253588f9fdfd@bwhmather.com\"}, \"message\": \"Merge pull request #46 from bwhmather/release/0.4.0\\n\\nBump version to 0.4.0\", \"distinct\": false, \"url\": \"https://api.github.com/repos/bwhmather/python-validation/commits/a26ec8cbb07797ec565364ff0c53e89db3738ed6\"}, {\"sha\": \"c718d703be425d7d6940b66ef67757e2a6c3f3cf\", \"author\": {\"name\": \"Ben Mather\", \"email\": \"3a8c9bdbaf4c695faa59f37a65ce253588f9fdfd@bwhmather.com\"}, \"message\": \"Add function for creating default values for optional arguments\", \"distinct\": false, \"url\": \"https://api.github.com/repos/bwhmather/python-validation/commits/c718d703be425d7d6940b66ef67757e2a6c3f3cf\"}, {\"sha\": \"3a4825fdd274d7d41631f22dd9b96b15056907db\", \"author\": {\"name\": \"Ben Mather\", \"email\": \"3a8c9bdbaf4c695faa59f37a65ce253588f9fdfd@bwhmather.com\"}, \"message\": \"Replace `_undefined = object()` with custom class with better __repr__\", \"distinct\": false, \"url\": \"https://api.github.com/repos/bwhmather/python-validation/commits/3a4825fdd274d7d41631f22dd9b96b15056907db\"}, {\"sha\": \"cd847064c2df8ced9f61cfa6d4ad4b9b817aaa63\", \"author\": {\"name\": \"Ben Mather\", \"email\": \"3a8c9bdbaf4c695faa59f37a65ce253588f9fdfd@bwhmather.com\"}, \"message\": \"Merge pull request #48 from bwhmather/docs/47/default-value-rendering\\n\\nReplace `_undefined = object()` with custom class with better __repr__\", \"distinct\": false, \"url\": \"https://api.github.com/repos/bwhmather/python-validation/commits/cd847064c2df8ced9f61cfa6d4ad4b9b817aaa63\"}, {\"sha\": \"25c359b7fc2ce472dd815314c9cf190e5ab1229a\", \"author\": {\"name\": \"Ben Mather\", \"email\": \"3a8c9bdbaf4c695faa59f37a65ce253588f9fdfd@bwhmather.com\"}, \"message\": \"Add extras target to install test dependencies\", \"distinct\": false, \"url\": \"https://api.github.com/repos/bwhmather/python-validation/commits/25c359b7fc2ce472dd815314c9cf190e5ab1229a\"}, {\"sha\": \"162ae5f71b97eef0b6c9a3567e8e11d55c6a6056\", \"author\": {\"name\": \"Ben Mather\", \"email\": \"3a8c9bdbaf4c695faa59f37a65ce253588f9fdfd@bwhmather.com\"}, \"message\": \"Install test dependencies when running tools that follow imports\", \"distinct\": false, \"url\": \"https://api.github.com/repos/bwhmather/python-validation/commits/162ae5f71b97eef0b6c9a3567e8e11d55c6a6056\"}, {\"sha\": \"f0f67073740bafb015379a978ed01bc5542755e3\", \"author\": {\"name\": \"Ben Mather\", \"email\": \"3a8c9bdbaf4c695faa59f37a65ce253588f9fdfd@bwhmather.com\"}, \"message\": \"Tell pylint to ignore unittest2 import that will only work for python26\", \"distinct\": false, \"url\": \"https://api.github.com/repos/bwhmather/python-validation/commits/f0f67073740bafb015379a978ed01bc5542755e3\"}, {\"sha\": \"3fad764850f6c0f69cc952b61497f7a118234a89\", \"author\": {\"name\": \"Ben Mather\", \"email\": \"3a8c9bdbaf4c695faa59f37a65ce253588f9fdfd@bwhmather.com\"}, \"message\": \"Install test dependencies on travis\", \"distinct\": false, \"url\": \"https://api.github.com/repos/bwhmather/python-validation/commits/3fad764850f6c0f69cc952b61497f7a118234a89\"}, {\"sha\": \"b9d90f8be297f7f30c68152dbb725cb0e4c1ccaa\", \"author\": {\"name\": \"Ben Mather\", \"email\": \"3a8c9bdbaf4c695faa59f37a65ce253588f9fdfd@bwhmather.com\"}, \"message\": \"Merge pull request #50 from bwhmather/infra/install-test-deps-for-tools\\n\\nInstall test dependencies for tools\", \"distinct\": false, \"url\": \"https://api.github.com/repos/bwhmather/python-validation/commits/b9d90f8be297f7f30c68152dbb725cb0e4c1ccaa\"}, {\"sha\": \"5a14db61f411b373d576aa1321e5f79fd167e4f5\", \"author\": {\"name\": \"Ben Mather\", \"email\": \"3a8c9bdbaf4c695faa59f37a65ce253588f9fdfd@bwhmather.com\"}, \"message\": \"Ignore PyCharm project files\", \"distinct\": false, \"url\": \"https://api.github.com/repos/bwhmather/python-validation/commits/5a14db61f411b373d576aa1321e5f79fd167e4f5\"}, {\"sha\": \"55f9f48fd269ed9353de9291939d7fc73ca8bae6\", \"author\": {\"name\": \"Ben Mather\", \"email\": \"3a8c9bdbaf4c695faa59f37a65ce253588f9fdfd@bwhmather.com\"}, \"message\": \"Specify minor interpreter version in order to run tools on windows\", \"distinct\": false, \"url\": \"https://api.github.com/repos/bwhmather/python-validation/commits/55f9f48fd269ed9353de9291939d7fc73ca8bae6\"}, {\"sha\": \"b481248ab5a07b431c55d098c4982ac5d364222b\", \"author\": {\"name\": \"Ben Mather\", \"email\": \"3a8c9bdbaf4c695faa59f37a65ce253588f9fdfd@bwhmather.com\"}, \"message\": \"Merge pull request #49 from bwhmather/infra/pycharm-support\\n\\nMake it possible to develop on windows using PyCharm\", \"distinct\": false, \"url\": \"https://api.github.com/repos/bwhmather/python-validation/commits/b481248ab5a07b431c55d098c4982ac5d364222b\"}, {\"sha\": \"b1f3a83547eb68265831855900f70db2f36a42b3\", \"author\": {\"name\": \"Ben Mather\", \"email\": \"3a8c9bdbaf4c695faa59f37a65ce253588f9fdfd@bwhmather.com\"}, \"message\": \"Fill in copyright notice template\", \"distinct\": false, \"url\": \"https://api.github.com/repos/bwhmather/python-validation/commits/b1f3a83547eb68265831855900f70db2f36a42b3\"}, {\"sha\": \"fe74a9c1adcee832b1a807bf7fe2e36b9ea9808f\", \"author\": {\"name\": \"Ben Mather\", \"email\": \"3a8c9bdbaf4c695faa59f37a65ce253588f9fdfd@bwhmather.com\"}, \"message\": \"Merge pull request #51 from bwhmather/docs/license-copyright\\n\\nFill in copyright notice template\", \"distinct\": false, \"url\": \"https://api.github.com/repos/bwhmather/python-validation/commits/fe74a9c1adcee832b1a807bf7fe2e36b9ea9808f\"}, {\"sha\": \"8a418a38aa12a0b04e6e52e28a5a4cb7c77277b2\", \"author\": {\"name\": \"Ben Mather\", \"email\": \"3a8c9bdbaf4c695faa59f37a65ce253588f9fdfd@bwhmather.com\"}, \"message\": \"Bump version to 0.4.1\", \"distinct\": false, \"url\": \"https://api.github.com/repos/bwhmather/python-validation/commits/8a418a38aa12a0b04e6e52e28a5a4cb7c77277b2\"}, {\"sha\": \"9f55ea7485098256f5002013e3e613476d2588f8\", \"author\": {\"name\": \"Ben Mather\", \"email\": \"3a8c9bdbaf4c695faa59f37a65ce253588f9fdfd@bwhmather.com\"}, \"message\": \"Merge pull request #52 from bwhmather/release/0.4.1\\n\\nRelease 0.4.1\", \"distinct\": true, \"url\": \"https://api.github.com/repos/bwhmather/python-validation/commits/9f55ea7485098256f5002013e3e613476d2588f8\"}]}, \"public\": true, \"created_at\": \"2018-01-01T15:00:13Z\"}\n",
      "{\"id\": \"7045119252\", \"type\": \"PushEvent\", \"actor\": {\"id\": 533180, \"login\": \"scriptzteam\", \"display_login\": \"scriptzteam\", \"gravatar_id\": \"\", \"url\": \"https://api.github.com/users/scriptzteam\", \"avatar_url\": \"https://avatars.githubusercontent.com/u/533180?\"}, \"repo\": {\"id\": 115192209, \"name\": \"scriptzteam/BitCoin-MemPool-Fees\", \"url\": \"https://api.github.com/repos/scriptzteam/BitCoin-MemPool-Fees\"}, \"payload\": {\"push_id\": 2226161831, \"size\": 1, \"distinct_size\": 1, \"ref\": \"refs/heads/master\", \"head\": \"0d19b66d6d8f15411e262c73a9246f1a81804471\", \"before\": \"87ade8074ee4e31b581f1ca1fe59a88fe433dc11\", \"commits\": [{\"sha\": \"0d19b66d6d8f15411e262c73a9246f1a81804471\", \"author\": {\"name\": \"scriptzteam\", \"email\": \"4c01069dbf0898ed2db6b83dc8938e83ac9f7b28@gmail.com\"}, \"message\": \"^^uPdAtE\", \"distinct\": true, \"url\": \"https://api.github.com/repos/scriptzteam/BitCoin-MemPool-Fees/commits/0d19b66d6d8f15411e262c73a9246f1a81804471\"}]}, \"public\": true, \"created_at\": \"2018-01-01T15:00:13Z\"}\n",
      "{\"id\": \"7045119258\", \"type\": \"PushEvent\", \"actor\": {\"id\": 28632854, \"login\": \"R3tter\", \"display_login\": \"R3tter\", \"gravatar_id\": \"\", \"url\": \"https://api.github.com/users/R3tter\", \"avatar_url\": \"https://avatars.githubusercontent.com/u/28632854?\"}, \"repo\": {\"id\": 111292260, \"name\": \"R3tter/React_webpack\", \"url\": \"https://api.github.com/repos/R3tter/React_webpack\"}, \"payload\": {\"push_id\": 2226161834, \"size\": 28, \"distinct_size\": 1, \"ref\": \"refs/heads/develop\", \"head\": \"22056cc508b02e7acec3f4e5612e2528235f7655\", \"before\": \"ea9abe1d2e5f9f8869c5a81b8b179e63efc0b328\", \"commits\": [{\"sha\": \"cd366f347a9468da1ba8934241eeabc0347218c2\", \"author\": {\"name\": \"Yaroslav\", \"email\": \"3510d56ce31bc2d401ff2ebb46e76312ff901479@gmail.com\"}, \"message\": \"Update README.md\", \"distinct\": false, \"url\": \"https://api.github.com/repos/R3tter/React_webpack/commits/cd366f347a9468da1ba8934241eeabc0347218c2\"}, {\"sha\": \"0f97b606a7038acb5b09c6445227eb9bd46637e8\", \"author\": {\"name\": \"Yaroslav\", \"email\": \"3510d56ce31bc2d401ff2ebb46e76312ff901479@gmail.com\"}, \"message\": \"Update README.md\", \"distinct\": false, \"url\": \"https://api.github.com/repos/R3tter/React_webpack/commits/0f97b606a7038acb5b09c6445227eb9bd46637e8\"}, {\"sha\": \"a75ede3a0021fdb41bd351d02265f286246f3b25\", \"author\": {\"name\": \"Yaroslav\", \"email\": \"3510d56ce31bc2d401ff2ebb46e76312ff901479@gmail.com\"}, \"message\": \"Update README.md\", \"distinct\": false, \"url\": \"https://api.github.com/repos/R3tter/React_webpack/commits/a75ede3a0021fdb41bd351d02265f286246f3b25\"}, {\"sha\": \"564a3e513cf285c7d15ede9569cb56adde297017\", \"author\": {\"name\": \"Yaroslav\", \"email\": \"3510d56ce31bc2d401ff2ebb46e76312ff901479@gmail.com\"}, \"message\": \"Update README.md\", \"distinct\": false, \"url\": \"https://api.github.com/repos/R3tter/React_webpack/commits/564a3e513cf285c7d15ede9569cb56adde297017\"}, {\"sha\": \"efe1ff1b9e3826deab9fd9904ccd72dc6d0bccc1\", \"author\": {\"name\": \"Yaroslav\", \"email\": \"3510d56ce31bc2d401ff2ebb46e76312ff901479@gmail.com\"}, \"message\": \"Update README.md\", \"distinct\": false, \"url\": \"https://api.github.com/repos/R3tter/React_webpack/commits/efe1ff1b9e3826deab9fd9904ccd72dc6d0bccc1\"}, {\"sha\": \"6418b332587eeebecb87bab7619a70ec69501eb7\", \"author\": {\"name\": \"Yaroslav\", \"email\": \"3510d56ce31bc2d401ff2ebb46e76312ff901479@gmail.com\"}, \"message\": \"Update README.md\", \"distinct\": false, \"url\": \"https://api.github.com/repos/R3tter/React_webpack/commits/6418b332587eeebecb87bab7619a70ec69501eb7\"}, {\"sha\": \"e994ba9b9155ffdf772080d81779c2b526ac7673\", \"author\": {\"name\": \"Yaroslav\", \"email\": \"3510d56ce31bc2d401ff2ebb46e76312ff901479@gmail.com\"}, \"message\": \"Update README.md\", \"distinct\": false, \"url\": \"https://api.github.com/repos/R3tter/React_webpack/commits/e994ba9b9155ffdf772080d81779c2b526ac7673\"}, {\"sha\": \"91ab8eeb17477f52319829249ef4c63ce36098c5\", \"author\": {\"name\": \"Yaroslav\", \"email\": \"3510d56ce31bc2d401ff2ebb46e76312ff901479@gmail.com\"}, \"message\": \"Update README.md\", \"distinct\": false, \"url\": \"https://api.github.com/repos/R3tter/React_webpack/commits/91ab8eeb17477f52319829249ef4c63ce36098c5\"}, {\"sha\": \"bc3d728e0ae1509af521a6c8ae99df474b8bb568\", \"author\": {\"name\": \"Yaroslav\", \"email\": \"3510d56ce31bc2d401ff2ebb46e76312ff901479@gmail.com\"}, \"message\": \"Update README.md\", \"distinct\": false, \"url\": \"https://api.github.com/repos/R3tter/React_webpack/commits/bc3d728e0ae1509af521a6c8ae99df474b8bb568\"}, {\"sha\": \"c90b114d02b0557061d44063431366baf4ab438d\", \"author\": {\"name\": \"Yaroslav\", \"email\": \"3510d56ce31bc2d401ff2ebb46e76312ff901479@gmail.com\"}, \"message\": \"Update README.md\", \"distinct\": false, \"url\": \"https://api.github.com/repos/R3tter/React_webpack/commits/c90b114d02b0557061d44063431366baf4ab438d\"}, {\"sha\": \"6cae95c4d5d95e718aceb3bfd56e3a29bb87b15f\", \"author\": {\"name\": \"Yaroslav\", \"email\": \"3510d56ce31bc2d401ff2ebb46e76312ff901479@gmail.com\"}, \"message\": \"Merge branch 'develop'\", \"distinct\": false, \"url\": \"https://api.github.com/repos/R3tter/React_webpack/commits/6cae95c4d5d95e718aceb3bfd56e3a29bb87b15f\"}, {\"sha\": \"48d9ed2dffd0d42b94ab192a4392e0f8b3782546\", \"author\": {\"name\": \"Yaroslav\", \"email\": \"3510d56ce31bc2d401ff2ebb46e76312ff901479@gmail.com\"}, \"message\": \"chenge file structure (add css css/partials folder)\", \"distinct\": false, \"url\": \"https://api.github.com/repos/R3tter/React_webpack/commits/48d9ed2dffd0d42b94ab192a4392e0f8b3782546\"}, {\"sha\": \"4581e7fe200cbd4188460d69766892de6848a6fc\", \"author\": {\"name\": \"Yaroslav\", \"email\": \"3510d56ce31bc2d401ff2ebb46e76312ff901479@gmail.com\"}, \"message\": \"Update webpack.config.js\\n\\nfix problem with url path with router\", \"distinct\": false, \"url\": \"https://api.github.com/repos/R3tter/React_webpack/commits/4581e7fe200cbd4188460d69766892de6848a6fc\"}, {\"sha\": \"34804961a47e7b3bfd131909349010c657ae12e3\", \"author\": {\"name\": \"Yaroslav\", \"email\": \"3510d56ce31bc2d401ff2ebb46e76312ff901479@gmail.com\"}, \"message\": \"Update webpack.config.js\\n\\nEnable lazy load\", \"distinct\": false, \"url\": \"https://api.github.com/repos/R3tter/React_webpack/commits/34804961a47e7b3bfd131909349010c657ae12e3\"}, {\"sha\": \"3991607f92ba4dfe1aadba43b32217e6bc2c9db4\", \"author\": {\"name\": \"Yaroslav\", \"email\": \"3510d56ce31bc2d401ff2ebb46e76312ff901479@gmail.com\"}, \"message\": \"Update package.json\\n\\nAdd router and enable lazy load with react router\", \"distinct\": false, \"url\": \"https://api.github.com/repos/R3tter/React_webpack/commits/3991607f92ba4dfe1aadba43b32217e6bc2c9db4\"}, {\"sha\": \"9df6e43c33914a9de490edc38ff494e3a2604f12\", \"author\": {\"name\": \"Yaroslav\", \"email\": \"3510d56ce31bc2d401ff2ebb46e76312ff901479@gmail.com\"}, \"message\": \"Update webpack.config.js\", \"distinct\": false, \"url\": \"https://api.github.com/repos/R3tter/React_webpack/commits/9df6e43c33914a9de490edc38ff494e3a2604f12\"}, {\"sha\": \"6269a71c61891ff649f026d2a03b80fc85d12b1b\", \"author\": {\"name\": \"Yaroslav\", \"email\": \"3510d56ce31bc2d401ff2ebb46e76312ff901479@gmail.com\"}, \"message\": \"Update package.json\", \"distinct\": false, \"url\": \"https://api.github.com/repos/R3tter/React_webpack/commits/6269a71c61891ff649f026d2a03b80fc85d12b1b\"}, {\"sha\": \"ffa6f48df5a9bb0b59880fa1d4e002b39ed753ca\", \"author\": {\"name\": \"Yaroslav\", \"email\": \"3510d56ce31bc2d401ff2ebb46e76312ff901479@gmail.com\"}, \"message\": \"Update webpack.config.js\", \"distinct\": false, \"url\": \"https://api.github.com/repos/R3tter/React_webpack/commits/ffa6f48df5a9bb0b59880fa1d4e002b39ed753ca\"}, {\"sha\": \"967a7904043fa2a12264a2f2c84c2d0666c50950\", \"author\": {\"name\": \"Yaroslav\", \"email\": \"3510d56ce31bc2d401ff2ebb46e76312ff901479@gmail.com\"}, \"message\": \"Update postcss.config.js\", \"distinct\": false, \"url\": \"https://api.github.com/repos/R3tter/React_webpack/commits/967a7904043fa2a12264a2f2c84c2d0666c50950\"}, {\"sha\": \"f4fdd845d30601bdd8d464afef92dcca8862b531\", \"author\": {\"name\": \"Yaroslav\", \"email\": \"3510d56ce31bc2d401ff2ebb46e76312ff901479@gmail.com\"}, \"message\": \"Update webpack.config.js\", \"distinct\": false, \"url\": \"https://api.github.com/repos/R3tter/React_webpack/commits/f4fdd845d30601bdd8d464afef92dcca8862b531\"}]}, \"public\": true, \"created_at\": \"2018-01-01T15:00:13Z\"}\n",
      "{\"id\": \"7045119267\", \"type\": \"PushEvent\", \"actor\": {\"id\": 4408379, \"login\": \"lex111\", \"display_login\": \"lex111\", \"gravatar_id\": \"\", \"url\": \"https://api.github.com/users/lex111\", \"avatar_url\": \"https://avatars.githubusercontent.com/u/4408379?\"}, \"repo\": {\"id\": 112324244, \"name\": \"lex111/php-doc-ru\", \"url\": \"https://api.github.com/repos/lex111/php-doc-ru\"}, \"payload\": {\"push_id\": 2226161838, \"size\": 2, \"distinct_size\": 2, \"ref\": \"refs/heads/master\", \"head\": \"99d9598b390c74a8ff541c2ed0c099592ec5f566\", \"before\": \"110ce610c1766bcc9581c95771dafa1b5ac47863\", \"commits\": [{\"sha\": \"52f56cc0594a3edcb4d33675e7d52d0ee0b35527\", \"author\": {\"name\": \"lex\", \"email\": \"2fdf8c46b9c02513a4efd78ae79467bd8249793a@gmail.com\"}, \"message\": \"Iterables: improvements\\n\\ngit-svn-id: https://svn.php.net/repository/phpdoc/ru/trunk@343733 c90b9560-bf6c-de11-be94-00142212c4b1\", \"distinct\": true, \"url\": \"https://api.github.com/repos/lex111/php-doc-ru/commits/52f56cc0594a3edcb4d33675e7d52d0ee0b35527\"}, {\"sha\": \"99d9598b390c74a8ff541c2ed0c099592ec5f566\", \"author\": {\"name\": \"lex\", \"email\": \"2fdf8c46b9c02513a4efd78ae79467bd8249793a@gmail.com\"}, \"message\": \"Upd\\n\\ngit-svn-id: https://svn.php.net/repository/phpdoc/ru/trunk@343734 c90b9560-bf6c-de11-be94-00142212c4b1\", \"distinct\": true, \"url\": \"https://api.github.com/repos/lex111/php-doc-ru/commits/99d9598b390c74a8ff541c2ed0c099592ec5f566\"}]}, \"public\": true, \"created_at\": \"2018-01-01T15:00:13Z\"}\n",
      "{\"id\": \"7045119271\", \"type\": \"PushEvent\", \"actor\": {\"id\": 4447136, \"login\": \"su-github-machine-user\", \"display_login\": \"su-github-machine-user\", \"gravatar_id\": \"\", \"url\": \"https://api.github.com/users/su-github-machine-user\", \"avatar_url\": \"https://avatars.githubusercontent.com/u/4447136?\"}, \"repo\": {\"id\": 10314483, \"name\": \"su-github-machine-user/github-nagios-check\", \"url\": \"https://api.github.com/repos/su-github-machine-user/github-nagios-check\"}, \"payload\": {\"push_id\": 2226161842, \"size\": 1, \"distinct_size\": 1, \"ref\": \"refs/heads/master\", \"head\": \"839cdd2bc2ba51a13eeb15e688894a42df0cbf2a\", \"before\": \"8d048f24f545ff1f215565c8ceb76f3fc41da81a\", \"commits\": [{\"sha\": \"839cdd2bc2ba51a13eeb15e688894a42df0cbf2a\", \"author\": {\"name\": \"su-githubmirror\", \"email\": \"875a8f2f42c570f5f4ea7bfd154f582bcf95673a@su.se\"}, \"message\": \"New timestamp: 1514818801\", \"distinct\": true, \"url\": \"https://api.github.com/repos/su-github-machine-user/github-nagios-check/commits/839cdd2bc2ba51a13eeb15e688894a42df0cbf2a\"}]}, \"public\": true, \"created_at\": \"2018-01-01T15:00:13Z\"}\n",
      "{\"id\": \"7045119272\", \"type\": \"PushEvent\", \"actor\": {\"id\": 8517910, \"login\": \"LombiqBot\", \"display_login\": \"LombiqBot\", \"gravatar_id\": \"\", \"url\": \"https://api.github.com/users/LombiqBot\", \"avatar_url\": \"https://avatars.githubusercontent.com/u/8517910?\"}, \"repo\": {\"id\": 31613827, \"name\": \"Lombiq/Orchard-Azure-Application-Insights\", \"url\": \"https://api.github.com/repos/Lombiq/Orchard-Azure-Application-Insights\"}, \"payload\": {\"push_id\": 2226161841, \"size\": 0, \"distinct_size\": 0, \"ref\": \"refs/heads/Orchard-1.9.x\", \"head\": \"3d66e5832632cf985008b76611da074fb1692c3f\", \"before\": \"3d66e5832632cf985008b76611da074fb1692c3f\", \"commits\": []}, \"public\": true, \"created_at\": \"2018-01-01T15:00:13Z\", \"org\": {\"id\": 8158177, \"login\": \"Lombiq\", \"gravatar_id\": \"\", \"url\": \"https://api.github.com/orgs/Lombiq\", \"avatar_url\": \"https://avatars.githubusercontent.com/u/8158177?\"}}\n",
      "{\"id\": \"7045119273\", \"type\": \"PushEvent\", \"actor\": {\"id\": 6955786, \"login\": \"Windos\", \"display_login\": \"Windos\", \"gravatar_id\": \"\", \"url\": \"https://api.github.com/users/Windos\", \"avatar_url\": \"https://avatars.githubusercontent.com/u/6955786?\"}, \"repo\": {\"id\": 100082059, \"name\": \"Windos/WindowsUpdateUptime\", \"url\": \"https://api.github.com/repos/Windos/WindowsUpdateUptime\"}, \"payload\": {\"push_id\": 2226161843, \"size\": 1, \"distinct_size\": 1, \"ref\": \"refs/heads/master\", \"head\": \"3d6cb4206fb7b35a29277b3e6548518759807e25\", \"before\": \"912efe72f57d42908c7541d3be0d305edc8f4423\", \"commits\": [{\"sha\": \"3d6cb4206fb7b35a29277b3e6548518759807e25\", \"author\": {\"name\": \"Windos (Auto)\", \"email\": \"7c37bf25723abc2c16b02a3512dbc712de577d5b@gmail.com\"}, \"message\": \"Update VM Uptime - 2/01/2018 4:00 AM\", \"distinct\": true, \"url\": \"https://api.github.com/repos/Windos/WindowsUpdateUptime/commits/3d6cb4206fb7b35a29277b3e6548518759807e25\"}]}, \"public\": true, \"created_at\": \"2018-01-01T15:00:13Z\"}\n",
      "{\"id\": \"7045119276\", \"type\": \"PushEvent\", \"actor\": {\"id\": 28730498, \"login\": \"ondrisel\", \"display_login\": \"ondrisel\", \"gravatar_id\": \"\", \"url\": \"https://api.github.com/users/ondrisel\", \"avatar_url\": \"https://avatars.githubusercontent.com/u/28730498?\"}, \"repo\": {\"id\": 115744524, \"name\": \"ondrisel/cinema-one\", \"url\": \"https://api.github.com/repos/ondrisel/cinema-one\"}, \"payload\": {\"push_id\": 2226161845, \"size\": 1, \"distinct_size\": 1, \"ref\": \"refs/heads/master\", \"head\": \"263d8e1a119a1a200a9a75291b85c596215233f2\", \"before\": \"5acf585e5291a5f411a2c8ae102456147cf5009e\", \"commits\": [{\"sha\": \"263d8e1a119a1a200a9a75291b85c596215233f2\", \"author\": {\"name\": \"ondrisel\", \"email\": \"f39797fe95637095eec454d4efd9d06226e25076@gmail.com\"}, \"message\": \"Update movies.xml\", \"distinct\": true, \"url\": \"https://api.github.com/repos/ondrisel/cinema-one/commits/263d8e1a119a1a200a9a75291b85c596215233f2\"}]}, \"public\": true, \"created_at\": \"2018-01-01T15:00:13Z\"}\n",
      "{\"id\": \"7045119278\", \"type\": \"PushEvent\", \"actor\": {\"id\": 4039449, \"login\": \"samuelcolvin\", \"display_login\": \"samuelcolvin\", \"gravatar_id\": \"\", \"url\": \"https://api.github.com/users/samuelcolvin\", \"avatar_url\": \"https://avatars.githubusercontent.com/u/4039449?\"}, \"repo\": {\"id\": 68917117, \"name\": \"aio-libs/aiohttp-devtools\", \"url\": \"https://api.github.com/repos/aio-libs/aiohttp-devtools\"}, \"payload\": {\"push_id\": 2226161847, \"size\": 1, \"distinct_size\": 1, \"ref\": \"refs/heads/pyup-scheduled-update-01-01-2018\", \"head\": \"62815353b440b032d19c4b44bbbcfa582c4d3a21\", \"before\": \"fbe0dcc3a1b8ad7c29e83383638ce3a91dc54617\", \"commits\": [{\"sha\": \"62815353b440b032d19c4b44bbbcfa582c4d3a21\", \"author\": {\"name\": \"pyup-bot\", \"email\": \"014ca7bb507255f115360f46141ad318dcf61352@pyup.io\"}, \"message\": \"Update pytest-aiohttp from 0.1.3 to 0.3.0\", \"distinct\": true, \"url\": \"https://api.github.com/repos/aio-libs/aiohttp-devtools/commits/62815353b440b032d19c4b44bbbcfa582c4d3a21\"}]}, \"public\": true, \"created_at\": \"2018-01-01T15:00:13Z\", \"org\": {\"id\": 7049303, \"login\": \"aio-libs\", \"gravatar_id\": \"\", \"url\": \"https://api.github.com/orgs/aio-libs\", \"avatar_url\": \"https://avatars.githubusercontent.com/u/7049303?\"}}\n",
      "{\"id\": \"7045119281\", \"type\": \"PushEvent\", \"actor\": {\"id\": 33546969, \"login\": \"nanase777\", \"display_login\": \"nanase777\", \"gravatar_id\": \"\", \"url\": \"https://api.github.com/users/nanase777\", \"avatar_url\": \"https://avatars.githubusercontent.com/u/33546969?\"}, \"repo\": {\"id\": 110243796, \"name\": \"zaka46/tpe48-votelog\", \"url\": \"https://api.github.com/repos/zaka46/tpe48-votelog\"}, \"payload\": {\"push_id\": 2226161851, \"size\": 1, \"distinct_size\": 1, \"ref\": \"refs/heads/master\", \"head\": \"02d95c81d6cb1ba3f29520e7c1f0fdaaa8f8b3f5\", \"before\": \"965c6202022f25c68543c0df69562654a6edc98a\", \"commits\": [{\"sha\": \"02d95c81d6cb1ba3f29520e7c1f0fdaaa8f8b3f5\", \"author\": {\"name\": \"nanase777\", \"email\": \"719ec569a166f8f626caa21623c46c82e5f97211@zaka46.me\"}, \"message\": \"update 20180101 2300\", \"distinct\": true, \"url\": \"https://api.github.com/repos/zaka46/tpe48-votelog/commits/02d95c81d6cb1ba3f29520e7c1f0fdaaa8f8b3f5\"}]}, \"public\": true, \"created_at\": \"2018-01-01T15:00:13Z\", \"org\": {\"id\": 32794596, \"login\": \"zaka46\", \"gravatar_id\": \"\", \"url\": \"https://api.github.com/orgs/zaka46\", \"avatar_url\": \"https://avatars.githubusercontent.com/u/32794596?\"}}\n",
      "{\"id\": \"7045119282\", \"type\": \"PushEvent\", \"actor\": {\"id\": 34997530, \"login\": \"happynewyear-2018\", \"display_login\": \"happynewyear-2018\", \"gravatar_id\": \"\", \"url\": \"https://api.github.com/users/happynewyear-2018\", \"avatar_url\": \"https://avatars.githubusercontent.com/u/34997530?\"}, \"repo\": {\"id\": 115907899, \"name\": \"happynewyear-2018/happynewyear-2018.github.io\", \"url\": \"https://api.github.com/repos/happynewyear-2018/happynewyear-2018.github.io\"}, \"payload\": {\"push_id\": 2226161852, \"size\": 2, \"distinct_size\": 1, \"ref\": \"refs/heads/master\", \"head\": \"d6bae97e71f450f45081cf1c7517af3591b88bbe\", \"before\": \"f298807172635fbbd9d2b615466368f77199db10\", \"commits\": [{\"sha\": \"85f2a7774c506533a1392929b5ba54bfb43994f6\", \"author\": {\"name\": \"happynewyear-2018\", \"email\": \"06c401dd47d8d10f6f8dbda9416cff670ef73a2d@gmail.com\"}, \"message\": \"auto commit\", \"distinct\": false, \"url\": \"https://api.github.com/repos/happynewyear-2018/happynewyear-2018.github.io/commits/85f2a7774c506533a1392929b5ba54bfb43994f6\"}, {\"sha\": \"d6bae97e71f450f45081cf1c7517af3591b88bbe\", \"author\": {\"name\": \"happynewyear-2018\", \"email\": \"1f1fe1260c172d65d0650d758d784d940cef2df3@users.noreply.github.com\"}, \"message\": \"Merge pull request #4 from happynewyear-2018/auto_merge/20180101_174848_happynewyear-2018\\n\\nauto_merge/20180101_174848_happynewyear-2018\", \"distinct\": true, \"url\": \"https://api.github.com/repos/happynewyear-2018/happynewyear-2018.github.io/commits/d6bae97e71f450f45081cf1c7517af3591b88bbe\"}]}, \"public\": true, \"created_at\": \"2018-01-01T15:00:13Z\"}\n",
      "{\"id\": \"7045119285\", \"type\": \"PushEvent\", \"actor\": {\"id\": 33187853, \"login\": \"penalhuset\", \"display_login\": \"penalhuset\", \"gravatar_id\": \"\", \"url\": \"https://api.github.com/users/penalhuset\", \"avatar_url\": \"https://avatars.githubusercontent.com/u/33187853?\"}, \"repo\": {\"id\": 108691336, \"name\": \"penalhuset/smoke\", \"url\": \"https://api.github.com/repos/penalhuset/smoke\"}, \"payload\": {\"push_id\": 2226161854, \"size\": 1, \"distinct_size\": 1, \"ref\": \"refs/heads/master\", \"head\": \"186addec293fb168709fb4475c4c7edcbfd6cadd\", \"before\": \"b541b2e92dc787f75601780b66e579242dbd99ae\", \"commits\": [{\"sha\": \"186addec293fb168709fb4475c4c7edcbfd6cadd\", \"author\": {\"name\": \"Penalhuset\", \"email\": \"0beec7b5ea3f0fdbc95d0dd47f3c5bc275da8a33@bar.local\"}, \"message\": \"update\", \"distinct\": true, \"url\": \"https://api.github.com/repos/penalhuset/smoke/commits/186addec293fb168709fb4475c4c7edcbfd6cadd\"}]}, \"public\": true, \"created_at\": \"2018-01-01T15:00:13Z\"}\n"
     ]
    }
   ],
   "source": [
    "%%jsoniq \n",
    "\n",
    "json-file(\"https://www.rumbledb.org/samples/git-archive.json\")"
   ]
  },
  {
   "cell_type": "markdown",
   "id": "80a7fdeb-1edc-4b42-a3c2-b91d6baa6959",
   "metadata": {},
   "source": [
    "It is a good idea to look at the first object of a collection to get a rough idea of what the layout looks like (although there is always the risk of heterogeneity, and there is no guarantee all objects look the same):\n"
   ]
  },
  {
   "cell_type": "code",
   "execution_count": 29,
   "id": "505043d3-b4cf-4ecc-8465-02ea66317dab",
   "metadata": {},
   "outputs": [
    {
     "name": "stdout",
     "output_type": "stream",
     "text": [
      "Took: 10.593615531921387 ms\n",
      "{\"id\": \"7045118886\", \"type\": \"PushEvent\", \"actor\": {\"id\": 20090775, \"login\": \"lainrose\", \"display_login\": \"lainrose\", \"gravatar_id\": \"\", \"url\": \"https://api.github.com/users/lainrose\", \"avatar_url\": \"https://avatars.githubusercontent.com/u/20090775?\"}, \"repo\": {\"id\": 115387592, \"name\": \"lainrose/Python-Grammar\", \"url\": \"https://api.github.com/repos/lainrose/Python-Grammar\"}, \"payload\": {\"push_id\": 2226161589, \"size\": 1, \"distinct_size\": 1, \"ref\": \"refs/heads/master\", \"head\": \"27a01fbdbec8e26daa40fc8faa052dd0be23836a\", \"before\": \"d6fce97b8de28a31d021c9a9f7ac939baa14d208\", \"commits\": [{\"sha\": \"27a01fbdbec8e26daa40fc8faa052dd0be23836a\", \"author\": {\"name\": \"lainrose\", \"email\": \"fb4676bf30682e2ece361fd363a69ad11779c42e@Naver.com\"}, \"message\": \"Update Study Contents\", \"distinct\": true, \"url\": \"https://api.github.com/repos/lainrose/Python-Grammar/commits/27a01fbdbec8e26daa40fc8faa052dd0be23836a\"}]}, \"public\": true, \"created_at\": \"2018-01-01T15:00:00Z\"}\n"
     ]
    }
   ],
   "source": [
    "%%jsoniq \n",
    "\n",
    "json-file(\"https://www.rumbledb.org/samples/git-archive.json\")[1]"
   ]
  },
  {
   "cell_type": "markdown",
   "id": "ef710987-2931-4b8c-9199-d7b0c1808ebd",
   "metadata": {},
   "source": [
    "One can also look at the top N objects using the position function in a predicate, which returns the position in the sequence of the current item being tested by the predicate (similar to the LIMIT clause in SQL):"
   ]
  },
  {
   "cell_type": "code",
   "execution_count": 30,
   "id": "6e1e1a28-5cc8-44b1-b6ea-60e5b5fc21cc",
   "metadata": {},
   "outputs": [
    {
     "name": "stdout",
     "output_type": "stream",
     "text": [
      "Took: 9.783782243728638 ms\n",
      "{\"id\": \"7045118886\", \"type\": \"PushEvent\", \"actor\": {\"id\": 20090775, \"login\": \"lainrose\", \"display_login\": \"lainrose\", \"gravatar_id\": \"\", \"url\": \"https://api.github.com/users/lainrose\", \"avatar_url\": \"https://avatars.githubusercontent.com/u/20090775?\"}, \"repo\": {\"id\": 115387592, \"name\": \"lainrose/Python-Grammar\", \"url\": \"https://api.github.com/repos/lainrose/Python-Grammar\"}, \"payload\": {\"push_id\": 2226161589, \"size\": 1, \"distinct_size\": 1, \"ref\": \"refs/heads/master\", \"head\": \"27a01fbdbec8e26daa40fc8faa052dd0be23836a\", \"before\": \"d6fce97b8de28a31d021c9a9f7ac939baa14d208\", \"commits\": [{\"sha\": \"27a01fbdbec8e26daa40fc8faa052dd0be23836a\", \"author\": {\"name\": \"lainrose\", \"email\": \"fb4676bf30682e2ece361fd363a69ad11779c42e@Naver.com\"}, \"message\": \"Update Study Contents\", \"distinct\": true, \"url\": \"https://api.github.com/repos/lainrose/Python-Grammar/commits/27a01fbdbec8e26daa40fc8faa052dd0be23836a\"}]}, \"public\": true, \"created_at\": \"2018-01-01T15:00:00Z\"}\n",
      "{\"id\": \"7045118891\", \"type\": \"PushEvent\", \"actor\": {\"id\": 17426563, \"login\": \"tumhopaasmere\", \"display_login\": \"tumhopaasmere\", \"gravatar_id\": \"\", \"url\": \"https://api.github.com/users/tumhopaasmere\", \"avatar_url\": \"https://avatars.githubusercontent.com/u/17426563?\"}, \"repo\": {\"id\": 115922595, \"name\": \"tumhopaasmere/tumhopaasmere\", \"url\": \"https://api.github.com/repos/tumhopaasmere/tumhopaasmere\"}, \"payload\": {\"push_id\": 2226161592, \"size\": 1, \"distinct_size\": 1, \"ref\": \"refs/heads/master\", \"head\": \"45b2f857540d7d4286d1abef204aef167190be0f\", \"before\": \"4988f2985f79262054178aa49c3f20b71aca5e8f\", \"commits\": [{\"sha\": \"45b2f857540d7d4286d1abef204aef167190be0f\", \"author\": {\"name\": \"tumhopaasmere\", \"email\": \"bcc6c59276ad7bbcd0b972dd58baaef7cccc22d4@mailinator.com\"}, \"message\": \"GIT CloneShare Commit\", \"distinct\": true, \"url\": \"https://api.github.com/repos/tumhopaasmere/tumhopaasmere/commits/45b2f857540d7d4286d1abef204aef167190be0f\"}]}, \"public\": true, \"created_at\": \"2018-01-01T15:00:00Z\"}\n",
      "{\"id\": \"7045118892\", \"type\": \"PullRequestEvent\", \"actor\": {\"id\": 1449578, \"login\": \"daa84\", \"display_login\": \"daa84\", \"gravatar_id\": \"\", \"url\": \"https://api.github.com/users/daa84\", \"avatar_url\": \"https://avatars.githubusercontent.com/u/1449578?\"}, \"repo\": {\"id\": 62063441, \"name\": \"daa84/neovim-gtk\", \"url\": \"https://api.github.com/repos/daa84/neovim-gtk\"}, \"payload\": {\"action\": \"closed\", \"number\": 40, \"pull_request\": {\"url\": \"https://api.github.com/repos/daa84/neovim-gtk/pulls/40\", \"id\": 160633855, \"html_url\": \"https://github.com/daa84/neovim-gtk/pull/40\", \"diff_url\": \"https://github.com/daa84/neovim-gtk/pull/40.diff\", \"patch_url\": \"https://github.com/daa84/neovim-gtk/pull/40.patch\", \"issue_url\": \"https://api.github.com/repos/daa84/neovim-gtk/issues/40\", \"number\": 40, \"state\": \"closed\", \"locked\": false, \"title\": \"Add RPC/GTK clipboard provider\", \"user\": {\"login\": \"myfreeweb\", \"id\": 208340, \"avatar_url\": \"https://avatars0.githubusercontent.com/u/208340?v=4\", \"gravatar_id\": \"\", \"url\": \"https://api.github.com/users/myfreeweb\", \"html_url\": \"https://github.com/myfreeweb\", \"followers_url\": \"https://api.github.com/users/myfreeweb/followers\", \"following_url\": \"https://api.github.com/users/myfreeweb/following{/other_user}\", \"gists_url\": \"https://api.github.com/users/myfreeweb/gists{/gist_id}\", \"starred_url\": \"https://api.github.com/users/myfreeweb/starred{/owner}{/repo}\", \"subscriptions_url\": \"https://api.github.com/users/myfreeweb/subscriptions\", \"organizations_url\": \"https://api.github.com/users/myfreeweb/orgs\", \"repos_url\": \"https://api.github.com/users/myfreeweb/repos\", \"events_url\": \"https://api.github.com/users/myfreeweb/events{/privacy}\", \"received_events_url\": \"https://api.github.com/users/myfreeweb/received_events\", \"type\": \"User\", \"site_admin\": false}, \"body\": \"Hi, just discovered this project recently, ligatures and native completion popups are great, I'm actually looking into switching from tmux + neovim in terminal to this + terminals in neovim :)\\r\\n\\r\\nTo avoid xclip usage on Wayland and to improve potential remote usage, it would be nice to have native gtk clipboard support. Here's my attempt :)\\r\\n\\r\\n- Can't have the UI borrowed mutably when waiting for the clipboard text, so I had to push the mutex locking down into the request handlers to be able to make the borrows work for the clipboard get command;\\r\\n- Using an `mpsc` channel basically as a future, to avoid extra dependencies; \\r\\n- I've tried placing the clipboard function into `runtime/autoload/providers/clipboard.vim`, but it didn't load for some reason\", \"created_at\": \"2018-01-01T00:38:08Z\", \"updated_at\": \"2018-01-01T14:59:59Z\", \"closed_at\": \"2018-01-01T14:59:59Z\", \"merged_at\": \"2018-01-01T14:59:59Z\", \"merge_commit_sha\": \"b88159630d016a7b7cb622c966cbbd4859c9bcd6\", \"assignee\": null, \"assignees\": [], \"requested_reviewers\": [], \"milestone\": null, \"commits_url\": \"https://api.github.com/repos/daa84/neovim-gtk/pulls/40/commits\", \"review_comments_url\": \"https://api.github.com/repos/daa84/neovim-gtk/pulls/40/comments\", \"review_comment_url\": \"https://api.github.com/repos/daa84/neovim-gtk/pulls/comments{/number}\", \"comments_url\": \"https://api.github.com/repos/daa84/neovim-gtk/issues/40/comments\", \"statuses_url\": \"https://api.github.com/repos/daa84/neovim-gtk/statuses/fbf662505997cc6af2e7f8ddb7e8893da622652c\", \"head\": {\"label\": \"myfreeweb:gtk-clipboard\", \"ref\": \"gtk-clipboard\", \"sha\": \"fbf662505997cc6af2e7f8ddb7e8893da622652c\", \"user\": {\"login\": \"myfreeweb\", \"id\": 208340, \"avatar_url\": \"https://avatars0.githubusercontent.com/u/208340?v=4\", \"gravatar_id\": \"\", \"url\": \"https://api.github.com/users/myfreeweb\", \"html_url\": \"https://github.com/myfreeweb\", \"followers_url\": \"https://api.github.com/users/myfreeweb/followers\", \"following_url\": \"https://api.github.com/users/myfreeweb/following{/other_user}\", \"gists_url\": \"https://api.github.com/users/myfreeweb/gists{/gist_id}\", \"starred_url\": \"https://api.github.com/users/myfreeweb/starred{/owner}{/repo}\", \"subscriptions_url\": \"https://api.github.com/users/myfreeweb/subscriptions\", \"organizations_url\": \"https://api.github.com/users/myfreeweb/orgs\", \"repos_url\": \"https://api.github.com/users/myfreeweb/repos\", \"events_url\": \"https://api.github.com/users/myfreeweb/events{/privacy}\", \"received_events_url\": \"https://api.github.com/users/myfreeweb/received_events\", \"type\": \"User\", \"site_admin\": false}, \"repo\": {\"id\": 115889489, \"name\": \"neovim-gtk\", \"full_name\": \"myfreeweb/neovim-gtk\", \"owner\": {\"login\": \"myfreeweb\", \"id\": 208340, \"avatar_url\": \"https://avatars0.githubusercontent.com/u/208340?v=4\", \"gravatar_id\": \"\", \"url\": \"https://api.github.com/users/myfreeweb\", \"html_url\": \"https://github.com/myfreeweb\", \"followers_url\": \"https://api.github.com/users/myfreeweb/followers\", \"following_url\": \"https://api.github.com/users/myfreeweb/following{/other_user}\", \"gists_url\": \"https://api.github.com/users/myfreeweb/gists{/gist_id}\", \"starred_url\": \"https://api.github.com/users/myfreeweb/starred{/owner}{/repo}\", \"subscriptions_url\": \"https://api.github.com/users/myfreeweb/subscriptions\", \"organizations_url\": \"https://api.github.com/users/myfreeweb/orgs\", \"repos_url\": \"https://api.github.com/users/myfreeweb/repos\", \"events_url\": \"https://api.github.com/users/myfreeweb/events{/privacy}\", \"received_events_url\": \"https://api.github.com/users/myfreeweb/received_events\", \"type\": \"User\", \"site_admin\": false}, \"private\": false, \"html_url\": \"https://github.com/myfreeweb/neovim-gtk\", \"description\": \"gtk ui for neovim\", \"fork\": true, \"url\": \"https://api.github.com/repos/myfreeweb/neovim-gtk\", \"forks_url\": \"https://api.github.com/repos/myfreeweb/neovim-gtk/forks\", \"keys_url\": \"https://api.github.com/repos/myfreeweb/neovim-gtk/keys{/key_id}\", \"collaborators_url\": \"https://api.github.com/repos/myfreeweb/neovim-gtk/collaborators{/collaborator}\", \"teams_url\": \"https://api.github.com/repos/myfreeweb/neovim-gtk/teams\", \"hooks_url\": \"https://api.github.com/repos/myfreeweb/neovim-gtk/hooks\", \"issue_events_url\": \"https://api.github.com/repos/myfreeweb/neovim-gtk/issues/events{/number}\", \"events_url\": \"https://api.github.com/repos/myfreeweb/neovim-gtk/events\", \"assignees_url\": \"https://api.github.com/repos/myfreeweb/neovim-gtk/assignees{/user}\", \"branches_url\": \"https://api.github.com/repos/myfreeweb/neovim-gtk/branches{/branch}\", \"tags_url\": \"https://api.github.com/repos/myfreeweb/neovim-gtk/tags\", \"blobs_url\": \"https://api.github.com/repos/myfreeweb/neovim-gtk/git/blobs{/sha}\", \"git_tags_url\": \"https://api.github.com/repos/myfreeweb/neovim-gtk/git/tags{/sha}\", \"git_refs_url\": \"https://api.github.com/repos/myfreeweb/neovim-gtk/git/refs{/sha}\", \"trees_url\": \"https://api.github.com/repos/myfreeweb/neovim-gtk/git/trees{/sha}\", \"statuses_url\": \"https://api.github.com/repos/myfreeweb/neovim-gtk/statuses/{sha}\", \"languages_url\": \"https://api.github.com/repos/myfreeweb/neovim-gtk/languages\", \"stargazers_url\": \"https://api.github.com/repos/myfreeweb/neovim-gtk/stargazers\", \"contributors_url\": \"https://api.github.com/repos/myfreeweb/neovim-gtk/contributors\", \"subscribers_url\": \"https://api.github.com/repos/myfreeweb/neovim-gtk/subscribers\", \"subscription_url\": \"https://api.github.com/repos/myfreeweb/neovim-gtk/subscription\", \"commits_url\": \"https://api.github.com/repos/myfreeweb/neovim-gtk/commits{/sha}\", \"git_commits_url\": \"https://api.github.com/repos/myfreeweb/neovim-gtk/git/commits{/sha}\", \"comments_url\": \"https://api.github.com/repos/myfreeweb/neovim-gtk/comments{/number}\", \"issue_comment_url\": \"https://api.github.com/repos/myfreeweb/neovim-gtk/issues/comments{/number}\", \"contents_url\": \"https://api.github.com/repos/myfreeweb/neovim-gtk/contents/{+path}\", \"compare_url\": \"https://api.github.com/repos/myfreeweb/neovim-gtk/compare/{base}...{head}\", \"merges_url\": \"https://api.github.com/repos/myfreeweb/neovim-gtk/merges\", \"archive_url\": \"https://api.github.com/repos/myfreeweb/neovim-gtk/{archive_format}{/ref}\", \"downloads_url\": \"https://api.github.com/repos/myfreeweb/neovim-gtk/downloads\", \"issues_url\": \"https://api.github.com/repos/myfreeweb/neovim-gtk/issues{/number}\", \"pulls_url\": \"https://api.github.com/repos/myfreeweb/neovim-gtk/pulls{/number}\", \"milestones_url\": \"https://api.github.com/repos/myfreeweb/neovim-gtk/milestones{/number}\", \"notifications_url\": \"https://api.github.com/repos/myfreeweb/neovim-gtk/notifications{?since,all,participating}\", \"labels_url\": \"https://api.github.com/repos/myfreeweb/neovim-gtk/labels{/name}\", \"releases_url\": \"https://api.github.com/repos/myfreeweb/neovim-gtk/releases{/id}\", \"deployments_url\": \"https://api.github.com/repos/myfreeweb/neovim-gtk/deployments\", \"created_at\": \"2017-12-31T23:11:00Z\", \"updated_at\": \"2017-12-31T23:11:02Z\", \"pushed_at\": \"2018-01-01T12:33:29Z\", \"git_url\": \"git://github.com/myfreeweb/neovim-gtk.git\", \"ssh_url\": \"git@github.com:myfreeweb/neovim-gtk.git\", \"clone_url\": \"https://github.com/myfreeweb/neovim-gtk.git\", \"svn_url\": \"https://github.com/myfreeweb/neovim-gtk\", \"homepage\": null, \"size\": 2051, \"stargazers_count\": 0, \"watchers_count\": 0, \"language\": \"Rust\", \"has_issues\": false, \"has_projects\": true, \"has_downloads\": true, \"has_wiki\": true, \"has_pages\": false, \"forks_count\": 0, \"mirror_url\": null, \"archived\": false, \"open_issues_count\": 0, \"license\": null, \"forks\": 0, \"open_issues\": 0, \"watchers\": 0, \"default_branch\": \"master\"}}, \"base\": {\"label\": \"daa84:master\", \"ref\": \"master\", \"sha\": \"30ccc4b62cafac800c201f9f079405702ff87dde\", \"user\": {\"login\": \"daa84\", \"id\": 1449578, \"avatar_url\": \"https://avatars0.githubusercontent.com/u/1449578?v=4\", \"gravatar_id\": \"\", \"url\": \"https://api.github.com/users/daa84\", \"html_url\": \"https://github.com/daa84\", \"followers_url\": \"https://api.github.com/users/daa84/followers\", \"following_url\": \"https://api.github.com/users/daa84/following{/other_user}\", \"gists_url\": \"https://api.github.com/users/daa84/gists{/gist_id}\", \"starred_url\": \"https://api.github.com/users/daa84/starred{/owner}{/repo}\", \"subscriptions_url\": \"https://api.github.com/users/daa84/subscriptions\", \"organizations_url\": \"https://api.github.com/users/daa84/orgs\", \"repos_url\": \"https://api.github.com/users/daa84/repos\", \"events_url\": \"https://api.github.com/users/daa84/events{/privacy}\", \"received_events_url\": \"https://api.github.com/users/daa84/received_events\", \"type\": \"User\", \"site_admin\": false}, \"repo\": {\"id\": 62063441, \"name\": \"neovim-gtk\", \"full_name\": \"daa84/neovim-gtk\", \"owner\": {\"login\": \"daa84\", \"id\": 1449578, \"avatar_url\": \"https://avatars0.githubusercontent.com/u/1449578?v=4\", \"gravatar_id\": \"\", \"url\": \"https://api.github.com/users/daa84\", \"html_url\": \"https://github.com/daa84\", \"followers_url\": \"https://api.github.com/users/daa84/followers\", \"following_url\": \"https://api.github.com/users/daa84/following{/other_user}\", \"gists_url\": \"https://api.github.com/users/daa84/gists{/gist_id}\", \"starred_url\": \"https://api.github.com/users/daa84/starred{/owner}{/repo}\", \"subscriptions_url\": \"https://api.github.com/users/daa84/subscriptions\", \"organizations_url\": \"https://api.github.com/users/daa84/orgs\", \"repos_url\": \"https://api.github.com/users/daa84/repos\", \"events_url\": \"https://api.github.com/users/daa84/events{/privacy}\", \"received_events_url\": \"https://api.github.com/users/daa84/received_events\", \"type\": \"User\", \"site_admin\": false}, \"private\": false, \"html_url\": \"https://github.com/daa84/neovim-gtk\", \"description\": \"gtk ui for neovim\", \"fork\": false, \"url\": \"https://api.github.com/repos/daa84/neovim-gtk\", \"forks_url\": \"https://api.github.com/repos/daa84/neovim-gtk/forks\", \"keys_url\": \"https://api.github.com/repos/daa84/neovim-gtk/keys{/key_id}\", \"collaborators_url\": \"https://api.github.com/repos/daa84/neovim-gtk/collaborators{/collaborator}\", \"teams_url\": \"https://api.github.com/repos/daa84/neovim-gtk/teams\", \"hooks_url\": \"https://api.github.com/repos/daa84/neovim-gtk/hooks\", \"issue_events_url\": \"https://api.github.com/repos/daa84/neovim-gtk/issues/events{/number}\", \"events_url\": \"https://api.github.com/repos/daa84/neovim-gtk/events\", \"assignees_url\": \"https://api.github.com/repos/daa84/neovim-gtk/assignees{/user}\", \"branches_url\": \"https://api.github.com/repos/daa84/neovim-gtk/branches{/branch}\", \"tags_url\": \"https://api.github.com/repos/daa84/neovim-gtk/tags\", \"blobs_url\": \"https://api.github.com/repos/daa84/neovim-gtk/git/blobs{/sha}\", \"git_tags_url\": \"https://api.github.com/repos/daa84/neovim-gtk/git/tags{/sha}\", \"git_refs_url\": \"https://api.github.com/repos/daa84/neovim-gtk/git/refs{/sha}\", \"trees_url\": \"https://api.github.com/repos/daa84/neovim-gtk/git/trees{/sha}\", \"statuses_url\": \"https://api.github.com/repos/daa84/neovim-gtk/statuses/{sha}\", \"languages_url\": \"https://api.github.com/repos/daa84/neovim-gtk/languages\", \"stargazers_url\": \"https://api.github.com/repos/daa84/neovim-gtk/stargazers\", \"contributors_url\": \"https://api.github.com/repos/daa84/neovim-gtk/contributors\", \"subscribers_url\": \"https://api.github.com/repos/daa84/neovim-gtk/subscribers\", \"subscription_url\": \"https://api.github.com/repos/daa84/neovim-gtk/subscription\", \"commits_url\": \"https://api.github.com/repos/daa84/neovim-gtk/commits{/sha}\", \"git_commits_url\": \"https://api.github.com/repos/daa84/neovim-gtk/git/commits{/sha}\", \"comments_url\": \"https://api.github.com/repos/daa84/neovim-gtk/comments{/number}\", \"issue_comment_url\": \"https://api.github.com/repos/daa84/neovim-gtk/issues/comments{/number}\", \"contents_url\": \"https://api.github.com/repos/daa84/neovim-gtk/contents/{+path}\", \"compare_url\": \"https://api.github.com/repos/daa84/neovim-gtk/compare/{base}...{head}\", \"merges_url\": \"https://api.github.com/repos/daa84/neovim-gtk/merges\", \"archive_url\": \"https://api.github.com/repos/daa84/neovim-gtk/{archive_format}{/ref}\", \"downloads_url\": \"https://api.github.com/repos/daa84/neovim-gtk/downloads\", \"issues_url\": \"https://api.github.com/repos/daa84/neovim-gtk/issues{/number}\", \"pulls_url\": \"https://api.github.com/repos/daa84/neovim-gtk/pulls{/number}\", \"milestones_url\": \"https://api.github.com/repos/daa84/neovim-gtk/milestones{/number}\", \"notifications_url\": \"https://api.github.com/repos/daa84/neovim-gtk/notifications{?since,all,participating}\", \"labels_url\": \"https://api.github.com/repos/daa84/neovim-gtk/labels{/name}\", \"releases_url\": \"https://api.github.com/repos/daa84/neovim-gtk/releases{/id}\", \"deployments_url\": \"https://api.github.com/repos/daa84/neovim-gtk/deployments\", \"created_at\": \"2016-06-27T14:43:24Z\", \"updated_at\": \"2018-01-01T13:14:12Z\", \"pushed_at\": \"2018-01-01T14:59:59Z\", \"git_url\": \"git://github.com/daa84/neovim-gtk.git\", \"ssh_url\": \"git@github.com:daa84/neovim-gtk.git\", \"clone_url\": \"https://github.com/daa84/neovim-gtk.git\", \"svn_url\": \"https://github.com/daa84/neovim-gtk\", \"homepage\": null, \"size\": 2044, \"stargazers_count\": 105, \"watchers_count\": 105, \"language\": \"Rust\", \"has_issues\": true, \"has_projects\": true, \"has_downloads\": true, \"has_wiki\": true, \"has_pages\": false, \"forks_count\": 5, \"mirror_url\": null, \"archived\": false, \"open_issues_count\": 8, \"license\": {\"key\": \"gpl-3.0\", \"name\": \"GNU General Public License v3.0\", \"spdx_id\": \"GPL-3.0\", \"url\": \"https://api.github.com/licenses/gpl-3.0\"}, \"forks\": 5, \"open_issues\": 8, \"watchers\": 105, \"default_branch\": \"master\"}}, \"_links\": {\"self\": {\"href\": \"https://api.github.com/repos/daa84/neovim-gtk/pulls/40\"}, \"html\": {\"href\": \"https://github.com/daa84/neovim-gtk/pull/40\"}, \"issue\": {\"href\": \"https://api.github.com/repos/daa84/neovim-gtk/issues/40\"}, \"comments\": {\"href\": \"https://api.github.com/repos/daa84/neovim-gtk/issues/40/comments\"}, \"review_comments\": {\"href\": \"https://api.github.com/repos/daa84/neovim-gtk/pulls/40/comments\"}, \"review_comment\": {\"href\": \"https://api.github.com/repos/daa84/neovim-gtk/pulls/comments{/number}\"}, \"commits\": {\"href\": \"https://api.github.com/repos/daa84/neovim-gtk/pulls/40/commits\"}, \"statuses\": {\"href\": \"https://api.github.com/repos/daa84/neovim-gtk/statuses/fbf662505997cc6af2e7f8ddb7e8893da622652c\"}}, \"author_association\": \"NONE\", \"merged\": true, \"mergeable\": null, \"rebaseable\": null, \"mergeable_state\": \"unknown\", \"merged_by\": {\"login\": \"daa84\", \"id\": 1449578, \"avatar_url\": \"https://avatars0.githubusercontent.com/u/1449578?v=4\", \"gravatar_id\": \"\", \"url\": \"https://api.github.com/users/daa84\", \"html_url\": \"https://github.com/daa84\", \"followers_url\": \"https://api.github.com/users/daa84/followers\", \"following_url\": \"https://api.github.com/users/daa84/following{/other_user}\", \"gists_url\": \"https://api.github.com/users/daa84/gists{/gist_id}\", \"starred_url\": \"https://api.github.com/users/daa84/starred{/owner}{/repo}\", \"subscriptions_url\": \"https://api.github.com/users/daa84/subscriptions\", \"organizations_url\": \"https://api.github.com/users/daa84/orgs\", \"repos_url\": \"https://api.github.com/users/daa84/repos\", \"events_url\": \"https://api.github.com/users/daa84/events{/privacy}\", \"received_events_url\": \"https://api.github.com/users/daa84/received_events\", \"type\": \"User\", \"site_admin\": false}, \"comments\": 2, \"review_comments\": 1, \"maintainer_can_modify\": false, \"commits\": 1, \"additions\": 107, \"deletions\": 4, \"changed_files\": 4}}, \"public\": true, \"created_at\": \"2018-01-01T15:00:00Z\"}\n",
      "{\"id\": \"7045118894\", \"type\": \"PushEvent\", \"actor\": {\"id\": 22536460, \"login\": \"thautwarm\", \"display_login\": \"thautwarm\", \"gravatar_id\": \"\", \"url\": \"https://api.github.com/users/thautwarm\", \"avatar_url\": \"https://avatars.githubusercontent.com/u/22536460?\"}, \"repo\": {\"id\": 102974522, \"name\": \"thautwarm/EBNFParser\", \"url\": \"https://api.github.com/repos/thautwarm/EBNFParser\"}, \"payload\": {\"push_id\": 2226161594, \"size\": 1, \"distinct_size\": 1, \"ref\": \"refs/heads/master\", \"head\": \"ea291a9baea441ea815e822bba5e8c9f330542f7\", \"before\": \"e61c594bc4eece3258944d5a89333e072ea0f9b5\", \"commits\": [{\"sha\": \"ea291a9baea441ea815e822bba5e8c9f330542f7\", \"author\": {\"name\": \"thautwarm\", \"email\": \"820a7b45b87f3c40f5e1c273015816c9c19a8401@outlook.com\"}, \"message\": \"API overview and example\", \"distinct\": true, \"url\": \"https://api.github.com/repos/thautwarm/EBNFParser/commits/ea291a9baea441ea815e822bba5e8c9f330542f7\"}]}, \"public\": true, \"created_at\": \"2018-01-01T15:00:00Z\"}\n",
      "{\"id\": \"7045118895\", \"type\": \"WatchEvent\", \"actor\": {\"id\": 18603467, \"login\": \"markstachowski\", \"display_login\": \"markstachowski\", \"gravatar_id\": \"\", \"url\": \"https://api.github.com/users/markstachowski\", \"avatar_url\": \"https://avatars.githubusercontent.com/u/18603467?\"}, \"repo\": {\"id\": 94912555, \"name\": \"IVMachiavelli/awesome-threat-intelligence\", \"url\": \"https://api.github.com/repos/IVMachiavelli/awesome-threat-intelligence\"}, \"payload\": {\"action\": \"started\"}, \"public\": true, \"created_at\": \"2018-01-01T15:00:00Z\"}\n"
     ]
    }
   ],
   "source": [
    "%%jsoniq \n",
    "\n",
    "json-file(\"https://www.rumbledb.org/samples/git-archive.json\")[position() le 5]"
   ]
  },
  {
   "cell_type": "markdown",
   "id": "f91c5f57-cc74-463b-9a86-5a7bd3a1d57d",
   "metadata": {},
   "source": [
    "## Getting all top-level keys"
   ]
  },
  {
   "cell_type": "markdown",
   "id": "057f1c1d-bb14-42e1-accb-d047ef1da099",
   "metadata": {},
   "source": [
    "The *keys* function retrieves all keys. It can be called on the entire sequence of objects and will return all unique keys found (at the top level) in that collection:"
   ]
  },
  {
   "cell_type": "code",
   "execution_count": 31,
   "id": "c271cc59-e01b-4c7d-87fd-b223bedfeeb8",
   "metadata": {},
   "outputs": [
    {
     "name": "stdout",
     "output_type": "stream",
     "text": [
      "Took: 12.732788801193237 ms\n",
      "\"repo\"\n",
      "\"org\"\n",
      "\"actor\"\n",
      "\"public\"\n",
      "\"type\"\n",
      "\"created_at\"\n",
      "\"id\"\n",
      "\"payload\"\n"
     ]
    }
   ],
   "source": [
    "%%jsoniq \n",
    "\n",
    "keys(json-file(\"https://www.rumbledb.org/samples/git-archive.json\"))"
   ]
  },
  {
   "cell_type": "markdown",
   "id": "0ef4663f-19e6-4ca6-bb14-12482fb414cb",
   "metadata": {},
   "source": [
    "## Getting unique values associated with a key"
   ]
  },
  {
   "cell_type": "markdown",
   "id": "52bf3c94-9ff8-42c7-ad80-9a651c29557e",
   "metadata": {},
   "source": [
    "With dot object lookup, we can look at all the values associated with a key like so:"
   ]
  },
  {
   "cell_type": "code",
   "execution_count": 32,
   "id": "23232e40-7b88-43ad-830e-1b9d474c4ac6",
   "metadata": {},
   "outputs": [
    {
     "name": "stdout",
     "output_type": "stream",
     "text": [
      "Took: 9.45344352722168 ms\n",
      "\"Warning! The output sequence contains 36577 items but its materialization was capped at 200 items. This value can be configured with the result-size parameter in the query string of the HTTP request.\"\n",
      "\"PushEvent\"\n",
      "\"PushEvent\"\n",
      "\"PullRequestEvent\"\n",
      "\"PushEvent\"\n",
      "\"WatchEvent\"\n",
      "\"PushEvent\"\n",
      "\"GollumEvent\"\n",
      "\"PushEvent\"\n",
      "\"PullRequestEvent\"\n",
      "\"PushEvent\"\n",
      "\"PushEvent\"\n",
      "\"IssuesEvent\"\n",
      "\"PushEvent\"\n",
      "\"PullRequestEvent\"\n",
      "\"WatchEvent\"\n",
      "\"PushEvent\"\n",
      "\"WatchEvent\"\n",
      "\"PullRequestEvent\"\n",
      "\"IssueCommentEvent\"\n",
      "\"PushEvent\"\n",
      "\"PushEvent\"\n",
      "\"ForkEvent\"\n",
      "\"PushEvent\"\n",
      "\"IssueCommentEvent\"\n",
      "\"CreateEvent\"\n",
      "\"IssuesEvent\"\n",
      "\"PushEvent\"\n",
      "\"PushEvent\"\n",
      "\"PushEvent\"\n",
      "\"CreateEvent\"\n",
      "\"CreateEvent\"\n",
      "\"PushEvent\"\n",
      "\"ForkEvent\"\n",
      "\"CreateEvent\"\n",
      "\"CreateEvent\"\n",
      "\"PushEvent\"\n",
      "\"IssueCommentEvent\"\n",
      "\"PushEvent\"\n",
      "\"PushEvent\"\n",
      "\"ForkEvent\"\n",
      "\"WatchEvent\"\n",
      "\"PushEvent\"\n",
      "\"DeleteEvent\"\n",
      "\"PushEvent\"\n",
      "\"PushEvent\"\n",
      "\"IssueCommentEvent\"\n",
      "\"PushEvent\"\n",
      "\"CreateEvent\"\n",
      "\"WatchEvent\"\n",
      "\"PushEvent\"\n",
      "\"PushEvent\"\n",
      "\"ForkEvent\"\n",
      "\"PullRequestEvent\"\n",
      "\"IssuesEvent\"\n",
      "\"PushEvent\"\n",
      "\"WatchEvent\"\n",
      "\"PushEvent\"\n",
      "\"PushEvent\"\n",
      "\"PushEvent\"\n",
      "\"PushEvent\"\n",
      "\"PushEvent\"\n",
      "\"PushEvent\"\n",
      "\"PushEvent\"\n",
      "\"PushEvent\"\n",
      "\"PushEvent\"\n",
      "\"PushEvent\"\n",
      "\"CreateEvent\"\n",
      "\"PushEvent\"\n",
      "\"PushEvent\"\n",
      "\"WatchEvent\"\n",
      "\"CreateEvent\"\n",
      "\"PushEvent\"\n",
      "\"PushEvent\"\n",
      "\"PushEvent\"\n",
      "\"IssuesEvent\"\n",
      "\"PushEvent\"\n",
      "\"PushEvent\"\n",
      "\"PushEvent\"\n",
      "\"PushEvent\"\n",
      "\"PushEvent\"\n",
      "\"ReleaseEvent\"\n",
      "\"PushEvent\"\n",
      "\"CreateEvent\"\n",
      "\"CreateEvent\"\n",
      "\"PushEvent\"\n",
      "\"PushEvent\"\n",
      "\"PushEvent\"\n",
      "\"WatchEvent\"\n",
      "\"PushEvent\"\n",
      "\"PullRequestReviewCommentEvent\"\n",
      "\"PushEvent\"\n",
      "\"PushEvent\"\n",
      "\"PushEvent\"\n",
      "\"PushEvent\"\n",
      "\"PushEvent\"\n",
      "\"CreateEvent\"\n",
      "\"PushEvent\"\n",
      "\"PushEvent\"\n",
      "\"PullRequestEvent\"\n",
      "\"PushEvent\"\n",
      "\"PushEvent\"\n",
      "\"IssueCommentEvent\"\n",
      "\"PushEvent\"\n",
      "\"PushEvent\"\n",
      "\"PushEvent\"\n",
      "\"PushEvent\"\n",
      "\"WatchEvent\"\n",
      "\"WatchEvent\"\n",
      "\"PushEvent\"\n",
      "\"PullRequestEvent\"\n",
      "\"PushEvent\"\n",
      "\"PushEvent\"\n",
      "\"PushEvent\"\n",
      "\"CreateEvent\"\n",
      "\"PushEvent\"\n",
      "\"ForkEvent\"\n",
      "\"PushEvent\"\n",
      "\"PullRequestEvent\"\n",
      "\"CreateEvent\"\n",
      "\"PushEvent\"\n",
      "\"CreateEvent\"\n",
      "\"PushEvent\"\n",
      "\"PushEvent\"\n",
      "\"CreateEvent\"\n",
      "\"PushEvent\"\n",
      "\"PushEvent\"\n",
      "\"PushEvent\"\n",
      "\"PushEvent\"\n",
      "\"PushEvent\"\n",
      "\"ForkEvent\"\n",
      "\"PullRequestEvent\"\n",
      "\"PushEvent\"\n",
      "\"CreateEvent\"\n",
      "\"CreateEvent\"\n",
      "\"PushEvent\"\n",
      "\"PullRequestEvent\"\n",
      "\"PushEvent\"\n",
      "\"PushEvent\"\n",
      "\"PushEvent\"\n",
      "\"CreateEvent\"\n",
      "\"PushEvent\"\n",
      "\"PushEvent\"\n",
      "\"PushEvent\"\n",
      "\"PushEvent\"\n",
      "\"PushEvent\"\n",
      "\"PushEvent\"\n",
      "\"PushEvent\"\n",
      "\"PushEvent\"\n",
      "\"PushEvent\"\n",
      "\"PushEvent\"\n",
      "\"WatchEvent\"\n",
      "\"PushEvent\"\n",
      "\"PushEvent\"\n",
      "\"PushEvent\"\n",
      "\"PushEvent\"\n",
      "\"CreateEvent\"\n",
      "\"ForkEvent\"\n",
      "\"PullRequestEvent\"\n",
      "\"PushEvent\"\n",
      "\"CreateEvent\"\n",
      "\"PushEvent\"\n",
      "\"CreateEvent\"\n",
      "\"PushEvent\"\n",
      "\"CreateEvent\"\n",
      "\"PushEvent\"\n",
      "\"PushEvent\"\n",
      "\"DeleteEvent\"\n",
      "\"PushEvent\"\n",
      "\"PushEvent\"\n",
      "\"PushEvent\"\n",
      "\"PullRequestReviewCommentEvent\"\n",
      "\"CreateEvent\"\n",
      "\"PushEvent\"\n",
      "\"PushEvent\"\n",
      "\"PushEvent\"\n",
      "\"CreateEvent\"\n",
      "\"PushEvent\"\n",
      "\"PushEvent\"\n",
      "\"PushEvent\"\n",
      "\"PushEvent\"\n",
      "\"CreateEvent\"\n",
      "\"PushEvent\"\n",
      "\"IssueCommentEvent\"\n",
      "\"PullRequestEvent\"\n",
      "\"IssueCommentEvent\"\n",
      "\"GollumEvent\"\n",
      "\"PushEvent\"\n",
      "\"WatchEvent\"\n",
      "\"PushEvent\"\n",
      "\"PushEvent\"\n",
      "\"PushEvent\"\n",
      "\"PushEvent\"\n",
      "\"PushEvent\"\n",
      "\"PushEvent\"\n",
      "\"PushEvent\"\n",
      "\"PushEvent\"\n",
      "\"PushEvent\"\n",
      "\"PushEvent\"\n",
      "\"PushEvent\"\n",
      "\"PushEvent\"\n"
     ]
    }
   ],
   "source": [
    "%%jsoniq \n",
    "\n",
    "json-file(\"https://www.rumbledb.org/samples/git-archive.json\").type"
   ]
  },
  {
   "cell_type": "markdown",
   "id": "1b3355d4-578c-4366-b5f7-4dad0d4eb751",
   "metadata": {},
   "source": [
    "With *distinct-values*, it is then possible to eliminate duplicates and look at unique values:"
   ]
  },
  {
   "cell_type": "code",
   "execution_count": 33,
   "id": "847a0eef-ce1f-415c-b6ea-5f6046a276c8",
   "metadata": {},
   "outputs": [
    {
     "name": "stdout",
     "output_type": "stream",
     "text": [
      "Took: 16.265569925308228 ms\n",
      "\"PullRequestEvent\"\n",
      "\"MemberEvent\"\n",
      "\"PushEvent\"\n",
      "\"IssuesEvent\"\n",
      "\"PublicEvent\"\n",
      "\"CommitCommentEvent\"\n",
      "\"ReleaseEvent\"\n",
      "\"IssueCommentEvent\"\n",
      "\"ForkEvent\"\n",
      "\"GollumEvent\"\n",
      "\"WatchEvent\"\n",
      "\"PullRequestReviewCommentEvent\"\n",
      "\"CreateEvent\"\n",
      "\"DeleteEvent\"\n"
     ]
    }
   ],
   "source": [
    "%%jsoniq \n",
    "\n",
    "distinct-values(json-file(\"https://www.rumbledb.org/samples/git-archive.json\").type)"
   ]
  },
  {
   "cell_type": "markdown",
   "id": "9f4373ca-14d8-4290-b9dc-ee46c8f43860",
   "metadata": {},
   "source": [
    "## Aggregations"
   ]
  },
  {
   "cell_type": "markdown",
   "id": "f42fd49b-fd3c-4538-832f-fefbaa9eae58",
   "metadata": {},
   "source": [
    "Aggregations can be made on entire sequences with a single function call (this would be like a SQL GROUP BY clause but without grouping key). The five basic functions are *count*, *sum*, *avg*, *min*, *max*. Obviously, the last four require numeric values and will otherwise throw an\n",
    "error."
   ]
  },
  {
   "cell_type": "code",
   "execution_count": 34,
   "id": "60ca1df6-0bee-4430-bc0f-da3a4cddaf3a",
   "metadata": {},
   "outputs": [
    {
     "name": "stdout",
     "output_type": "stream",
     "text": [
      "Took: 13.541920900344849 ms\n",
      "14\n"
     ]
    }
   ],
   "source": [
    "%%jsoniq \n",
    "\n",
    "count(distinct-values(json-file(\"https://www.rumbledb.org/samples/git-archive.json\").type))"
   ]
  },
  {
   "cell_type": "code",
   "execution_count": 35,
   "id": "160c51e6-cf92-4d84-9267-ed52b0fe8d18",
   "metadata": {},
   "outputs": [
    {
     "name": "stdout",
     "output_type": "stream",
     "text": [
      "Took: 19.22917628288269 ms\n",
      "36577\n"
     ]
    }
   ],
   "source": [
    "%%jsoniq \n",
    "\n",
    "count(json-file(\"https://www.rumbledb.org/samples/git-archive.json\"))"
   ]
  },
  {
   "cell_type": "markdown",
   "id": "23a0b0df-eb48-42d2-a311-d2ed6752568f",
   "metadata": {},
   "source": [
    "# Construction"
   ]
  },
  {
   "cell_type": "markdown",
   "id": "412be95f-2ce8-46db-b42a-4d622cb2fc38",
   "metadata": {},
   "source": [
    "Let us now look into how to construct new values with JSONiq."
   ]
  },
  {
   "cell_type": "markdown",
   "id": "85faf300-6ed3-4235-91d4-52db66e13089",
   "metadata": {},
   "source": [
    "## Construction of atomic values"
   ]
  },
  {
   "cell_type": "markdown",
   "id": "cbac608a-7e3b-4976-9664-d831f77683ae",
   "metadata": {},
   "source": [
    "Atomic values that are core to JSON can be constructed with exactly the same syntax as JSON."
   ]
  },
  {
   "cell_type": "code",
   "execution_count": 36,
   "id": "4fa365b4-ce12-4351-a7cb-b40b22288628",
   "metadata": {},
   "outputs": [
    {
     "name": "stdout",
     "output_type": "stream",
     "text": [
      "Took: 0.03772377967834473 ms\n",
      "\"foo\"\n"
     ]
    }
   ],
   "source": [
    "%%jsoniq \n",
    "\n",
    "\"foo\""
   ]
  },
  {
   "cell_type": "code",
   "execution_count": 37,
   "id": "83c1aea9-12ca-4077-86f1-f6e8d72c4aef",
   "metadata": {},
   "outputs": [
    {
     "name": "stdout",
     "output_type": "stream",
     "text": [
      "Took: 0.034624338150024414 ms\n",
      "\"This is a line\\nand this is a new line\"\n"
     ]
    }
   ],
   "source": [
    "%%jsoniq \n",
    "\n",
    "\"This is a line\\nand this is a new line\""
   ]
  },
  {
   "cell_type": "code",
   "execution_count": 38,
   "id": "5b2dac7b-0a2b-4008-801f-95e188fc707b",
   "metadata": {},
   "outputs": [
    {
     "name": "stdout",
     "output_type": "stream",
     "text": [
      "Took: 0.0469212532043457 ms\n",
      "42\n"
     ]
    }
   ],
   "source": [
    "%%jsoniq \n",
    "\n",
    "42"
   ]
  },
  {
   "cell_type": "code",
   "execution_count": 39,
   "id": "546bf9c8-ab32-4696-99e9-2ed4c049f7f8",
   "metadata": {},
   "outputs": [
    {
     "name": "stdout",
     "output_type": "stream",
     "text": [
      "Took: 0.039398193359375 ms\n",
      "3.141592653589793\n"
     ]
    }
   ],
   "source": [
    "%%jsoniq \n",
    "\n",
    "3.1415926535897932384626433832795028"
   ]
  },
  {
   "cell_type": "code",
   "execution_count": 40,
   "id": "2bc84e63-660f-46f3-9f6e-7668a43c3990",
   "metadata": {},
   "outputs": [
    {
     "name": "stdout",
     "output_type": "stream",
     "text": [
      "Took: 0.03641533851623535 ms\n",
      "-6.022e+23\n"
     ]
    }
   ],
   "source": [
    "%%jsoniq \n",
    "\n",
    "-6.022E23"
   ]
  },
  {
   "cell_type": "code",
   "execution_count": 41,
   "id": "83985e89-c605-4d58-95f6-12d70163d5f6",
   "metadata": {},
   "outputs": [
    {
     "name": "stdout",
     "output_type": "stream",
     "text": [
      "Took: 0.043489694595336914 ms\n",
      "true\n"
     ]
    }
   ],
   "source": [
    "%%jsoniq \n",
    "\n",
    "true"
   ]
  },
  {
   "cell_type": "code",
   "execution_count": 42,
   "id": "4591030e-bf88-497a-82e8-149d4e7999fe",
   "metadata": {},
   "outputs": [
    {
     "name": "stdout",
     "output_type": "stream",
     "text": [
      "Took: 0.03895068168640137 ms\n",
      "false\n"
     ]
    }
   ],
   "source": [
    "%%jsoniq \n",
    "\n",
    "false"
   ]
  },
  {
   "cell_type": "code",
   "execution_count": 43,
   "id": "e61d53eb-cd2d-4efa-93ad-de695e968dce",
   "metadata": {},
   "outputs": [
    {
     "name": "stdout",
     "output_type": "stream",
     "text": [
      "Took: 0.039531707763671875 ms\n",
      "null\n"
     ]
    }
   ],
   "source": [
    "%%jsoniq \n",
    "\n",
    "null"
   ]
  },
  {
   "cell_type": "markdown",
   "id": "bfa8dfc6-1d47-44cc-8b1e-ead1d42e8991",
   "metadata": {},
   "source": [
    "For more specific types, a cast is needed. This works with any of the atomic types we covered in Chapter 7. There are two syntaxes for this:\n"
   ]
  },
  {
   "cell_type": "code",
   "execution_count": 44,
   "id": "4ec5b881-59e5-4186-96fc-6f8ff72d91a4",
   "metadata": {},
   "outputs": [
    {
     "name": "stdout",
     "output_type": "stream",
     "text": [
      "Took: 0.04388833045959473 ms\n",
      "42\n"
     ]
    }
   ],
   "source": [
    "%%jsoniq \n",
    "\n",
    "nonNegativeInteger(\"42\")"
   ]
  },
  {
   "cell_type": "code",
   "execution_count": 45,
   "id": "985f9801-dc2b-4ed3-bb0f-a80bafa91c81",
   "metadata": {},
   "outputs": [
    {
     "name": "stdout",
     "output_type": "stream",
     "text": [
      "Took: 0.04434490203857422 ms\n",
      "42\n"
     ]
    }
   ],
   "source": [
    "%%jsoniq \n",
    "\n",
    "\"42\" cast as nonNegativeInteger"
   ]
  },
  {
   "cell_type": "markdown",
   "id": "856cb1b6-66e9-48c6-aa5c-ab13ee4fe864",
   "metadata": {},
   "source": [
    "## Construction of objects and arrays"
   ]
  },
  {
   "cell_type": "markdown",
   "id": "2cf8db0e-7b91-4573-aa46-f049dd6129d6",
   "metadata": {},
   "source": [
    "Objects and arrays are constructed with the same syntax as JSON. In fact, one can copy-paste any JSON value, and it will always be recognized as a valid JSONiq query returning that value."
   ]
  },
  {
   "cell_type": "code",
   "execution_count": 46,
   "id": "42ad18e8-fe50-4c95-b1ae-2ae59b142b70",
   "metadata": {},
   "outputs": [
    {
     "name": "stdout",
     "output_type": "stream",
     "text": [
      "Took: 0.04552102088928223 ms\n",
      "[{\"foo\": \"bar\"}, {\"bar\": [1, 2, true, null]}]\n"
     ]
    }
   ],
   "source": [
    "%%jsoniq \n",
    "\n",
    "[\n",
    "  { \"foo\" : \"bar\" },\n",
    "  { \"bar\" : [ 1, 2, true, null ] }\n",
    "]"
   ]
  },
  {
   "cell_type": "markdown",
   "id": "b807540a-e606-4df2-b2d6-3c49a0abf4e9",
   "metadata": {},
   "source": [
    "It is also possible to build objects and arrays dynamically (with computed values, not known at compile time), as will be shown shortly when we discuss composability of expressions."
   ]
  },
  {
   "cell_type": "markdown",
   "id": "ed8b5b7f-45f0-4cf0-a220-5caa93baff56",
   "metadata": {},
   "source": [
    "## Construction of sequences"
   ]
  },
  {
   "cell_type": "markdown",
   "id": "03e5b7e6-94b8-43da-aecf-e996b9c93042",
   "metadata": {},
   "source": [
    "Sequences can be constructed (and concatenated) using commas:\n"
   ]
  },
  {
   "cell_type": "code",
   "execution_count": 47,
   "id": "5142ec3c-4f3b-493b-8e09-882a0a4eef54",
   "metadata": {},
   "outputs": [
    {
     "name": "stdout",
     "output_type": "stream",
     "text": [
      "Took: 0.048543453216552734 ms\n",
      "[2, 3]\n",
      "true\n",
      "\"foo\"\n",
      "{\"f\": 1}\n"
     ]
    }
   ],
   "source": [
    "%%jsoniq \n",
    "\n",
    "[ 2, 3 ], true, \"foo\", { \"f\" : 1 }"
   ]
  },
  {
   "cell_type": "markdown",
   "id": "1e8a2053-5afe-4b71-b474-26a37f68a660",
   "metadata": {},
   "source": [
    "Increasing sequences of integers can also be built with the *to* keyword:"
   ]
  },
  {
   "cell_type": "code",
   "execution_count": 48,
   "id": "53d6c449-dbe6-4850-8525-7fe7bcba2651",
   "metadata": {},
   "outputs": [
    {
     "name": "stdout",
     "output_type": "stream",
     "text": [
      "Took: 0.05591607093811035 ms\n",
      "1\n",
      "2\n",
      "3\n",
      "4\n",
      "5\n",
      "6\n",
      "7\n",
      "8\n",
      "9\n",
      "10\n"
     ]
    }
   ],
   "source": [
    "%%jsoniq \n",
    "\n",
    "1 to 10"
   ]
  },
  {
   "cell_type": "markdown",
   "id": "62793a92-c373-467a-ad5f-d858801146f4",
   "metadata": {},
   "source": [
    "Another way to build sequences is with FLWOR expressions, covered a bit further down."
   ]
  },
  {
   "cell_type": "markdown",
   "id": "76f30f74-e8f4-443f-8332-376a3b19f275",
   "metadata": {},
   "source": [
    "# Scalar expressions"
   ]
  },
  {
   "cell_type": "markdown",
   "id": "77fc23eb-9795-451f-abcd-18b840c5e86d",
   "metadata": {},
   "source": [
    "Sequences of items can have any number of items. A few JSONiq expression (arithmetic, logic, value comparison...) work on the particular case that a sequence has zero or one items."
   ]
  },
  {
   "cell_type": "markdown",
   "id": "165571d4-1c90-4361-8d70-92dc7d667e3b",
   "metadata": {},
   "source": [
    "## Arithmetic"
   ]
  },
  {
   "cell_type": "markdown",
   "id": "699afadf-fd30-42e9-9189-bed4238fbeec",
   "metadata": {},
   "source": [
    "JSONiq supports basic arithmetic: addition (+), subtraction (-), division (div)<sup>2</sup>, integer division (idiv), and modulo (mod).\n",
    "\n",
    "If both sides have exactly one item, the semantics is relatively natural.\n",
    "\n",
    "---\n",
    "\n",
    "2. Note that this is not a slash (/)."
   ]
  },
  {
   "cell_type": "code",
   "execution_count": 49,
   "id": "2f70795c-e161-4dc5-a86a-bcb94b5c3fc9",
   "metadata": {},
   "outputs": [
    {
     "name": "stdout",
     "output_type": "stream",
     "text": [
      "Took: 0.05556178092956543 ms\n",
      "2\n"
     ]
    }
   ],
   "source": [
    "%%jsoniq \n",
    "\n",
    "1+1"
   ]
  },
  {
   "cell_type": "code",
   "execution_count": 50,
   "id": "2e4f1349-e0fb-4304-8766-f9f4e5156d8b",
   "metadata": {},
   "outputs": [
    {
     "name": "stdout",
     "output_type": "stream",
     "text": [
      "Took: 0.05889725685119629 ms\n",
      "32\n"
     ]
    }
   ],
   "source": [
    "%%jsoniq \n",
    "\n",
    "42-10"
   ]
  },
  {
   "cell_type": "code",
   "execution_count": 51,
   "id": "94388bec-1a12-4bf5-84bf-69079df24d34",
   "metadata": {},
   "outputs": [
    {
     "name": "stdout",
     "output_type": "stream",
     "text": [
      "Took: 0.06521224975585938 ms\n",
      "42\n"
     ]
    }
   ],
   "source": [
    "%%jsoniq \n",
    "\n",
    "6*7"
   ]
  },
  {
   "cell_type": "code",
   "execution_count": 52,
   "id": "391245da-7386-4154-b4d0-5dc67cf63f7a",
   "metadata": {},
   "outputs": [
    {
     "name": "stdout",
     "output_type": "stream",
     "text": [
      "Took: 0.06293535232543945 ms\n",
      "5.875\n"
     ]
    }
   ],
   "source": [
    "%%jsoniq \n",
    "\n",
    "42.3 div 7.2"
   ]
  },
  {
   "cell_type": "code",
   "execution_count": 53,
   "id": "48066ae5-4a6e-4709-9ada-c8e368803434",
   "metadata": {},
   "outputs": [
    {
     "name": "stdout",
     "output_type": "stream",
     "text": [
      "Took: 0.037085533142089844 ms\n",
      "4\n"
     ]
    }
   ],
   "source": [
    "%%jsoniq \n",
    "\n",
    "42 idiv 9"
   ]
  },
  {
   "cell_type": "code",
   "execution_count": 54,
   "id": "3e9d709f-78c7-4b1a-8c79-a3f53b629ab7",
   "metadata": {},
   "outputs": [
    {
     "name": "stdout",
     "output_type": "stream",
     "text": [
      "Took: 0.03970003128051758 ms\n",
      "6\n"
     ]
    }
   ],
   "source": [
    "%%jsoniq \n",
    "\n",
    "42 mod 9"
   ]
  },
  {
   "cell_type": "markdown",
   "id": "896f2fa8-c287-4450-bcf7-49004373f4f8",
   "metadata": {},
   "source": [
    "If the data types are different, then conversions are made automatically:\n",
    "- If one side is a double and the other side a float, then the float is\n",
    "converted to a double and a double is returned.\n",
    "\n",
    "- If one side is a double and the other side a decimal (or integer,\n",
    "etc), then the decimal is converted to a double and a double is\n",
    "returned.\n",
    "\n",
    "\n",
    "- If one side is a float and the other side a decimal (or integer, etc),\n",
    "then the decimal is converted to a float and a float is returned."
   ]
  },
  {
   "cell_type": "markdown",
   "id": "965296e3-922b-40d6-9959-c9f192665d6e",
   "metadata": {},
   "source": [
    "Note that an integer and a decimal are not considered different here, because an integer is a special case of decimal. Adding a decimal with an integer returns a decimal.\n",
    "\n",
    "The empty sequence enjoys special treatment: if one of the sides (or both) is the empty sequence, then the arithmetic expression returns an empty sequence (no error):"
   ]
  },
  {
   "cell_type": "code",
   "execution_count": 55,
   "id": "fe32ae44-fe1f-42fd-a40c-a1f4eb53c8a0",
   "metadata": {},
   "outputs": [
    {
     "name": "stdout",
     "output_type": "stream",
     "text": [
      "Took: 0.03874969482421875 ms\n"
     ]
    }
   ],
   "source": [
    "%%jsoniq \n",
    "\n",
    "() + 1"
   ]
  },
  {
   "cell_type": "markdown",
   "id": "a3484b4d-f165-4106-a293-9cad86879e61",
   "metadata": {},
   "source": [
    "Arithmetic expressions also work with dates, times, and durations in a natural fashion (e.g., a date + a duration = a date)."
   ]
  },
  {
   "cell_type": "code",
   "execution_count": 56,
   "id": "88ae59d2-1e11-4897-a143-230ad702fdc5",
   "metadata": {},
   "outputs": [
    {
     "name": "stdout",
     "output_type": "stream",
     "text": [
      "Took: 0.03772306442260742 ms\n",
      "\"P396D\"\n"
     ]
    }
   ],
   "source": [
    "%%jsoniq \n",
    "\n",
    "date(\"2024-12-06\") - date (\"2023-11-06\")"
   ]
  },
  {
   "cell_type": "code",
   "execution_count": 57,
   "id": "db4e2c5a-4109-48fd-b1f4-fe6418067d9d",
   "metadata": {},
   "outputs": [
    {
     "name": "stdout",
     "output_type": "stream",
     "text": [
      "Took: 0.040322065353393555 ms\n",
      "\"2025-01-06\"\n"
     ]
    }
   ],
   "source": [
    "%%jsoniq \n",
    "\n",
    "date(\"2024-12-06\") + dayTimeDuration(\"P31D\")"
   ]
  },
  {
   "cell_type": "markdown",
   "id": "7a351369-0df2-4880-9342-7e39753f75ed",
   "metadata": {},
   "source": [
    "If one of the sides (or both) is not a number, a date, a time, a dateTime, a duration, or the empty sequence, or the involves types are inconsistent with each other, then a type error is thrown."
   ]
  },
  {
   "cell_type": "markdown",
   "id": "d9234883-149f-4d08-a0c2-057bfb49a5cb",
   "metadata": {},
   "source": [
    "## String manipulation"
   ]
  },
  {
   "cell_type": "markdown",
   "id": "66196286-ba3b-4b30-a601-630d76d796a7",
   "metadata": {},
   "source": [
    "String concatenation is done with a double vertical bar:"
   ]
  },
  {
   "cell_type": "code",
   "execution_count": 58,
   "id": "8c5d1acc-4077-412f-867a-c0b209d3ec41",
   "metadata": {},
   "outputs": [
    {
     "name": "stdout",
     "output_type": "stream",
     "text": [
      "Took: 0.041346073150634766 ms\n",
      "\"foobar\"\n"
     ]
    }
   ],
   "source": [
    "%%jsoniq \n",
    "\n",
    "\"foo\" || \"bar\""
   ]
  },
  {
   "cell_type": "markdown",
   "id": "9c071305-ac2c-4df6-b980-759841bb3d4e",
   "metadata": {},
   "source": [
    "Most other string manipulation primitives are available from the rich JSONiq builtin function library (itself relying on a W3C standard called XPath and XQuery Functions and Operators). The complete list of functions in this standard is available at https://www.w3.org/TR/xpath-functions/, although XML-related functions should be ignored, and JSONiq supports additional JSON-related functions (such as keys(), etc)."
   ]
  },
  {
   "cell_type": "code",
   "execution_count": 59,
   "id": "ce7d0c44-fc27-437e-8410-289da2bab12e",
   "metadata": {},
   "outputs": [
    {
     "name": "stdout",
     "output_type": "stream",
     "text": [
      "Took: 0.03968024253845215 ms\n",
      "\"foobar\"\n"
     ]
    }
   ],
   "source": [
    "%%jsoniq \n",
    "\n",
    "concat(\"foo\", \"bar\")"
   ]
  },
  {
   "cell_type": "code",
   "execution_count": 60,
   "id": "74798d25-c05d-4ec9-ab82-eb6fdcdbd8cf",
   "metadata": {},
   "outputs": [
    {
     "name": "stdout",
     "output_type": "stream",
     "text": [
      "Took: 0.040155887603759766 ms\n",
      "\"foo-bar-foobar\"\n"
     ]
    }
   ],
   "source": [
    "%%jsoniq \n",
    "\n",
    "string-join((\"foo\", \"bar\", \"foobar\"), \"-\")"
   ]
  },
  {
   "cell_type": "code",
   "execution_count": 61,
   "id": "1ebba57f-3c16-4391-8bd7-35dfc0c8fad7",
   "metadata": {},
   "outputs": [
    {
     "name": "stdout",
     "output_type": "stream",
     "text": [
      "Took: 0.041104793548583984 ms\n",
      "\"bar\"\n"
     ]
    }
   ],
   "source": [
    "%%jsoniq \n",
    "\n",
    "substring(\"foobar\", 4, 3)"
   ]
  },
  {
   "cell_type": "code",
   "execution_count": 62,
   "id": "eb4a6fb4-6be5-4544-9d89-6398b3b699d4",
   "metadata": {},
   "outputs": [
    {
     "name": "stdout",
     "output_type": "stream",
     "text": [
      "Took: 0.04467415809631348 ms\n",
      "6\n"
     ]
    }
   ],
   "source": [
    "%%jsoniq \n",
    "\n",
    "string-length(\"foobar\")"
   ]
  },
  {
   "cell_type": "markdown",
   "id": "18cac8fd-da31-485e-af38-5bc638e2e8bc",
   "metadata": {},
   "source": [
    "## Value comparison"
   ]
  },
  {
   "cell_type": "markdown",
   "id": "4deb2c0e-0de2-4941-aab1-1dcba540b8fd",
   "metadata": {},
   "source": [
    "Sequences of one atomic item can be compared with eq (equal), ne (not equal), le (lower or equal), ge (greater or equal), lt (lower than) and gt (greater than).\n"
   ]
  },
  {
   "cell_type": "code",
   "execution_count": 63,
   "id": "626a561e-2f24-496f-85bb-afc651905416",
   "metadata": {},
   "outputs": [
    {
     "name": "stdout",
     "output_type": "stream",
     "text": [
      "Took: 0.04405927658081055 ms\n",
      "true\n"
     ]
    }
   ],
   "source": [
    "%%jsoniq \n",
    "\n",
    "1 + 1 eq 2 "
   ]
  },
  {
   "cell_type": "code",
   "execution_count": 64,
   "id": "32445003-ff46-4883-a5f5-3916538497fb",
   "metadata": {},
   "outputs": [
    {
     "name": "stdout",
     "output_type": "stream",
     "text": [
      "Took: 0.03878426551818848 ms\n",
      "false\n"
     ]
    }
   ],
   "source": [
    "%%jsoniq \n",
    "\n",
    "6 * 7 ne 21 * 2 "
   ]
  },
  {
   "cell_type": "code",
   "execution_count": 65,
   "id": "40d48e4e-392f-4a53-af08-464c1f8247ac",
   "metadata": {},
   "outputs": [
    {
     "name": "stdout",
     "output_type": "stream",
     "text": [
      "Took: 0.038590192794799805 ms\n",
      "true\n"
     ]
    }
   ],
   "source": [
    "%%jsoniq \n",
    "\n",
    "234 gt 123"
   ]
  },
  {
   "cell_type": "markdown",
   "id": "c7d051c8-4159-42a6-9d97-7ba226dc2af5",
   "metadata": {},
   "source": [
    "If one of the two sides is the empty sequence, then the value comparison expression returns an empty sequence as well."
   ]
  },
  {
   "cell_type": "code",
   "execution_count": 66,
   "id": "b04a6820-06ba-4638-a2e0-e6ee7746a8ca",
   "metadata": {},
   "outputs": [
    {
     "name": "stdout",
     "output_type": "stream",
     "text": [
      "Took: 0.05056357383728027 ms\n"
     ]
    }
   ],
   "source": [
    "%%jsoniq \n",
    "\n",
    "() le 2"
   ]
  },
  {
   "cell_type": "markdown",
   "id": "b1beabc1-92cd-474e-85f1-25761946f2af",
   "metadata": {},
   "source": [
    "If one of the two sides is null, then the value comparison expression returns null as well."
   ]
  },
  {
   "cell_type": "code",
   "execution_count": 67,
   "id": "ed3b42ba-84fa-4ee0-bf40-29429848bc0b",
   "metadata": {},
   "outputs": [
    {
     "name": "stdout",
     "output_type": "stream",
     "text": [
      "Took: 0.05005288124084473 ms\n",
      "true\n"
     ]
    }
   ],
   "source": [
    "%%jsoniq \n",
    "\n",
    "null le 2"
   ]
  },
  {
   "cell_type": "markdown",
   "id": "880394c6-a2a5-4116-b678-3ffd624a0efe",
   "metadata": {},
   "source": [
    "## Logic"
   ]
  },
  {
   "cell_type": "markdown",
   "id": "bce4869b-9bdc-427d-a094-ee48a3adcf1b",
   "metadata": {},
   "source": [
    "JSONiq supports the three basic logic expressions and, or, and not. not has the highest precedence, then and, then or."
   ]
  },
  {
   "cell_type": "code",
   "execution_count": 68,
   "id": "d73f5a3f-60c2-4013-bc48-f2c873d06d04",
   "metadata": {},
   "outputs": [
    {
     "name": "stdout",
     "output_type": "stream",
     "text": [
      "Took: 0.04051971435546875 ms\n",
      "true\n"
     ]
    }
   ],
   "source": [
    "%%jsoniq \n",
    "\n",
    "1 + 1 eq 2 and (2 + 2 eq 4 or not 100 mod 5 eq 0)"
   ]
  },
  {
   "cell_type": "markdown",
   "id": "67ab6193-0950-47b3-bd8c-44862e3bdc9c",
   "metadata": {},
   "source": [
    "JSONiq also supports universal and existential quantification:"
   ]
  },
  {
   "cell_type": "code",
   "execution_count": 69,
   "id": "7d18138a-553e-4ec2-b7d4-87c2b1845a09",
   "metadata": {},
   "outputs": [
    {
     "name": "stdout",
     "output_type": "stream",
     "text": [
      "Took: 0.04870748519897461 ms\n",
      "true\n"
     ]
    }
   ],
   "source": [
    "%%jsoniq \n",
    "\n",
    "every $i in 1 to 10\n",
    "satisfies $i gt 0"
   ]
  },
  {
   "cell_type": "code",
   "execution_count": 70,
   "id": "02414eff-5025-40bc-beda-cfcff9a1a691",
   "metadata": {},
   "outputs": [
    {
     "name": "stdout",
     "output_type": "stream",
     "text": [
      "Took: 0.04550766944885254 ms\n",
      "true\n"
     ]
    }
   ],
   "source": [
    "%%jsoniq \n",
    "\n",
    "some $i in 1 to 10\n",
    "satisfies $i gt 5"
   ]
  },
  {
   "cell_type": "markdown",
   "id": "fa8c1e4b-94c1-4fee-815c-84efed9d2aa1",
   "metadata": {},
   "source": [
    "Note that unlike SQL, JSONiq logic expressions are two-valued and return either true or false.\n",
    "\n",
    "If one of the two sides is not a sequence of a single Boolean item, then implicit conversions are made. This mechanism is called the Effective Boolean Value (EBV). For example, an empty sequence, or a sequence of one empty string, or a sequence of one zero integer, is considered false. A sequence of one non-empty string, or a sequence of one non-zero integer, or a sequence starting with one object (or array) is considered true."
   ]
  },
  {
   "cell_type": "markdown",
   "id": "980333a7-2017-40cd-9781-bf4884911375",
   "metadata": {},
   "source": [
    "## General comparison"
   ]
  },
  {
   "cell_type": "markdown",
   "id": "776ebd8f-c06e-4bd4-8afa-7fccbf13729d",
   "metadata": {},
   "source": [
    "JSONiq has a shortcut for existential quantification on value comparisons.\n",
    "This is called general comparison.\n",
    "\n",
    "For example, consider this query:"
   ]
  },
  {
   "cell_type": "code",
   "execution_count": 71,
   "id": "24966d83-479f-4c69-a62c-47fe0e46ccb3",
   "metadata": {},
   "outputs": [
    {
     "name": "stdout",
     "output_type": "stream",
     "text": [
      "Took: 0.04189181327819824 ms\n",
      "true\n"
     ]
    }
   ],
   "source": [
    "%%jsoniq \n",
    "\n",
    "some $i in (1, 2, 3, 4, 5)\n",
    "satisfies $i eq 1"
   ]
  },
  {
   "cell_type": "markdown",
   "id": "edea1876-a815-4a6d-b774-2c5273e43bbf",
   "metadata": {},
   "source": [
    "It can be abbreviated to the shorter:"
   ]
  },
  {
   "cell_type": "code",
   "execution_count": 72,
   "id": "cdc0dcbf-170b-432b-a081-f572a7f6a3b9",
   "metadata": {},
   "outputs": [
    {
     "name": "stdout",
     "output_type": "stream",
     "text": [
      "Took: 0.041162729263305664 ms\n",
      "true\n"
     ]
    }
   ],
   "source": [
    "%%jsoniq \n",
    "\n",
    "(1, 2, 3, 4, 5) = 1"
   ]
  },
  {
   "cell_type": "markdown",
   "id": "1e44eb6a-f057-41b3-8147-88db064c1c6a",
   "metadata": {},
   "source": [
    "More generally,"
   ]
  },
  {
   "cell_type": "code",
   "execution_count": 73,
   "id": "9893edad-0803-4511-ad6d-ea04b72cd2f7",
   "metadata": {},
   "outputs": [
    {
     "name": "stdout",
     "output_type": "stream",
     "text": [
      "Took: 0.0414731502532959 ms\n",
      "true\n"
     ]
    }
   ],
   "source": [
    "%%jsoniq \n",
    "\n",
    "some $i in 1 to 5, $j in 3 to 10\n",
    "satisfies $i gt $j"
   ]
  },
  {
   "cell_type": "markdown",
   "id": "fa806e4b-dcbc-44a6-8f93-c4acd92784ac",
   "metadata": {},
   "source": [
    "can be abbreviated to:"
   ]
  },
  {
   "cell_type": "code",
   "execution_count": 74,
   "id": "cc1a9e11-6c7d-46a8-b3d5-700da0524322",
   "metadata": {},
   "outputs": [
    {
     "name": "stdout",
     "output_type": "stream",
     "text": [
      "Took: 0.03508949279785156 ms\n",
      "true\n"
     ]
    }
   ],
   "source": [
    "%%jsoniq \n",
    "\n",
    "1 to 5 > 3 to 10"
   ]
  },
  {
   "cell_type": "markdown",
   "id": "e4c350d1-ac11-4ae8-928a-0fdbba6b0070",
   "metadata": {},
   "source": [
    "In other words, = (resp. ! =, <, >, <=, >=) is a shortcut for an existential quantification on both input sequences on the value comparison eq (resp. ne, lt, gt, le, ge).\n",
    "\n",
    "In particular, errors are thrown for incompatible types, and false is returned if any side is the empty sequence.\n",
    "\n",
    "General comparison is very convenient when scanning datasets and\n",
    "looking for matching values."
   ]
  },
  {
   "cell_type": "code",
   "execution_count": 75,
   "id": "5619081a-d5a3-48f6-95bf-508703148411",
   "metadata": {},
   "outputs": [
    {
     "name": "stdout",
     "output_type": "stream",
     "text": [
      "Took: 0.07933855056762695 ms\n",
      "true\n"
     ]
    }
   ],
   "source": [
    "%%jsoniq \n",
    "\n",
    "json-doc(\"file.json\").o[].a.b[].c = 1"
   ]
  },
  {
   "cell_type": "markdown",
   "id": "3f8c4ce0-05d4-48d8-ae44-af28e34acfa8",
   "metadata": {},
   "source": [
    "# Composability"
   ]
  },
  {
   "cell_type": "markdown",
   "id": "0d16c4d9-4008-4b23-a2dc-8c7c6318ceb3",
   "metadata": {},
   "source": [
    "JSONiq, as a functional language, is modular. This means that expressions can be combined at will, exactly like one would combine addition, multiplication, etc, at will.\n",
    "\n",
    "Any expression can appear as the operand of any other expression. Of course, if the output of an expression is not compatible with what the parent expression expects, an error is thrown.\n",
    "\n",
    "We show below an example and the successive details of the evaluation.\n",
    "\n",
    "```python \n",
    "(1 + (({\"b\":[{\"a\": 2+2}]}).b[].a)) to 10  # Query \n",
    "(1 + (({\"b\":[{\"a\": 4}]}).b[].a)) to 10    # Step 1 \n",
    "(1 + ([{\"a\": 4}][].a)) to 10              # Step 2 \n",
    "(1 + ({\"a\": 4}.a)) to 10                  # Step 3 \n",
    "(1 + 4) to 10                             # Step 4\n",
    "5 to 10                                   # Step 5 \n",
    "```"
   ]
  },
  {
   "cell_type": "markdown",
   "id": "aa947a7d-0fb5-4116-82fb-f5f6f58bfd41",
   "metadata": {},
   "source": [
    "We can execute the query to verify the above results"
   ]
  },
  {
   "cell_type": "code",
   "execution_count": 76,
   "id": "98cabeec-2c00-466e-ac66-6c1f11c0a0a8",
   "metadata": {},
   "outputs": [
    {
     "name": "stdout",
     "output_type": "stream",
     "text": [
      "Took: 0.03081965446472168 ms\n",
      "5\n",
      "6\n",
      "7\n",
      "8\n",
      "9\n",
      "10\n"
     ]
    }
   ],
   "source": [
    "%%jsoniq \n",
    "\n",
    "(1 + (({\"b\":[{\"a\": 2+2}]}).b[].a)) to 10"
   ]
  },
  {
   "cell_type": "markdown",
   "id": "49bcca4a-227d-435c-8cac-526c23259c2f",
   "metadata": {},
   "source": [
    "Here is another example:"
   ]
  },
  {
   "cell_type": "code",
   "execution_count": 77,
   "id": "25a41633-f240-4861-936a-6e08e30fbad7",
   "metadata": {},
   "outputs": [
    {
     "name": "stdout",
     "output_type": "stream",
     "text": [
      "Took: 0.03732180595397949 ms\n",
      "{\"attr\": 6, \"values\": [1, 2, 3, 4, 5, 6, 7, 8, 9, 10]}\n"
     ]
    }
   ],
   "source": [
    "%%jsoniq \n",
    "\n",
    "{\n",
    "  \"attr\" : string-length(\"foobar\"),\n",
    "  \"values\" : [\n",
    "    for $i in 1 to 10\n",
    "    return $i\n",
    "  ]\n",
    "}"
   ]
  },
  {
   "cell_type": "markdown",
   "id": "4d52ef9d-9e13-4f30-bd60-d0eb80a5a951",
   "metadata": {},
   "source": [
    "Just like arithmetic, where multiplication has precedence over addition, expressions have a precedence order. Precedence can be easily overridden with parentheses. In practice, it is not realistic to know all precedences by heart, so that when in doubt, it is always a good idea to add parentheses to be on the safe side.\n",
    "\n",
    "We list the expression in increasing order of precedence below. Beware, the low precedence of the comma is a common pitfall.\n",
    "\n",
    "| Precedence (low first)                          |\n",
    "|-------------------------------------------------|\n",
    "| Comma                                           |\n",
    "| Data Flow (FLWOR, if-then-else, switch...)      |\n",
    "| Logic                                           |\n",
    "| Comparison                                      |\n",
    "| String concatenation                            |\n",
    "| Range                                           |\n",
    "| Arithmetic                                      |\n",
    "| Path expressions                                |\n",
    "| Filter predicates, dynamic function calls      |\n",
    "| Literals, constructors and variables           |\n",
    "| Function calls, named function references, inline functions |"
   ]
  },
  {
   "cell_type": "markdown",
   "id": "faa028a1-9c9d-495e-855e-eb1c4c81924c",
   "metadata": {},
   "source": [
    "## Data flow"
   ]
  },
  {
   "cell_type": "markdown",
   "id": "8c6d90af-a146-4b82-bc03-cafccd11628e",
   "metadata": {},
   "source": [
    "A few expressions give some control over the data flow by picking the output or this or that expression based on the value of another expression. These expression look quite close to their counterparts in imperative languages (Python, Java...), but it is important to understand that they have functional semantics here.\n",
    "\n",
    "This includes conditional expressions. If the expression inside the if returns true (or if its Effective Boolean Value is true), the result of the expression in the then clause is taken, otherwise, the result of the expression in the else clause is taken."
   ]
  },
  {
   "cell_type": "code",
   "execution_count": 78,
   "id": "15ab00d4-9c27-47f4-911f-0c8d448bcd3f",
   "metadata": {},
   "outputs": [
    {
     "name": "stdout",
     "output_type": "stream",
     "text": [
      "Took: 0.10240960121154785 ms\n",
      "\"Small file.\"\n"
     ]
    }
   ],
   "source": [
    "%%jsoniq \n",
    "\n",
    "if(count(json-doc(\"file.json\").o) gt 1000)\n",
    "then \"Large file!\"\n",
    "else \"Small file.\""
   ]
  },
  {
   "cell_type": "markdown",
   "id": "a4f8c766-7d15-49c9-b193-2c51d60d1f87",
   "metadata": {},
   "source": [
    "This also includes switch expressions. The expression inside the swich is evaluated and an error is thrown if more than one item is returned. Then, the resulting item is compared for equality with each one of the candidate values. The result of the expression corresponding to the first match is taken, and if there are no matches, the result of the default expression is taken."
   ]
  },
  {
   "cell_type": "code",
   "execution_count": 79,
   "id": "2a3cb438-b8e5-4266-9927-a659017fb9a3",
   "metadata": {},
   "outputs": [
    {
     "name": "stdout",
     "output_type": "stream",
     "text": [
      "Took: 0.09586381912231445 ms\n",
      "\"one\"\n"
     ]
    }
   ],
   "source": [
    "%%jsoniq \n",
    "\n",
    "switch(json-doc(\"file.json\").o[[1]].a.b[[1]].c)\n",
    "case 1 return \"one\"\n",
    "case 2 return \"two\"\n",
    "default return \"other\""
   ]
  },
  {
   "cell_type": "markdown",
   "id": "390c5029-a33b-4d35-adb1-e948385a465c",
   "metadata": {},
   "source": [
    "Note that we covered data types and cardinality indicators (*, +, ?) in Chapter 7.\n",
    "\n",
    "This also includes try-catch expressions. If the expression in the try clause is successfully evaluated, then its results are taken. If there is an error, then the results of the expression in the first catch clause matching the error is taken (* being the joker)."
   ]
  },
  {
   "cell_type": "code",
   "execution_count": 80,
   "id": "80881b18-dfac-434d-8822-e70d1c7d162f",
   "metadata": {},
   "outputs": [
    {
     "name": "stdout",
     "output_type": "stream",
     "text": [
      "Took: 0.09519338607788086 ms\n",
      "\"This is not a date!\"\n"
     ]
    }
   ],
   "source": [
    "%%jsoniq \n",
    "\n",
    "try {\n",
    "   date(json-doc(\"file.json\").o[[1]].a.b[[1]].c)\n",
    "} catch * {\n",
    "  \"This is not a date!\"\n",
    "}"
   ]
  },
  {
   "cell_type": "markdown",
   "id": "74ed5a13-36f7-473b-8981-bee2531ff7a3",
   "metadata": {},
   "source": [
    "# Binding variables with cascades of let clauses"
   ]
  },
  {
   "cell_type": "markdown",
   "id": "76fcb93b-3be4-4406-9c49-972981a82097",
   "metadata": {},
   "source": [
    "Let us go back to this example:"
   ]
  },
  {
   "cell_type": "code",
   "execution_count": 81,
   "id": "3acfb14a-a5a5-4e3d-9ecc-fa4eee28d8f3",
   "metadata": {},
   "outputs": [
    {
     "name": "stdout",
     "output_type": "stream",
     "text": [
      "Took: 0.11407852172851562 ms\n",
      "true\n"
     ]
    }
   ],
   "source": [
    "%%jsoniq \n",
    "\n",
    "json-doc(\"file.json\").o[].a.b[].c = 1"
   ]
  },
  {
   "cell_type": "markdown",
   "id": "536abf18-9f0b-454a-ab40-6b578af2f220",
   "metadata": {},
   "source": [
    "We can rewrite it by explicitly binding intermediate variables, like so:"
   ]
  },
  {
   "cell_type": "code",
   "execution_count": 82,
   "id": "1c85abe8-a6b2-4b53-b17d-da5011e182c3",
   "metadata": {},
   "outputs": [
    {
     "name": "stdout",
     "output_type": "stream",
     "text": [
      "Took: 0.10903334617614746 ms\n",
      "true\n"
     ]
    }
   ],
   "source": [
    "%%jsoniq \n",
    "\n",
    "let $a := json-doc(\"file.json\")\n",
    "let $b := $a.o\n",
    "let $c := $b[]\n",
    "let $d := $c.a\n",
    "let $e := $d.b\n",
    "let $f := $e[]\n",
    "let $g := $f.c\n",
    "return $g = 1"
   ]
  },
  {
   "cell_type": "markdown",
   "id": "78f6c80b-1dae-48ee-a0bb-598ee97e4209",
   "metadata": {},
   "source": [
    "Variables in JSONiq start with a dollar sign. This way of subsequently binding variables to compute intermediate results is typical of functional language: OCAML, F#, Haskell... have a similar feature. It is important to understand that this is not a variable assignment that would *change* the value of a variable. This is only a declarative binding. \n",
    "\n",
    "It is possible to reuse the same variable name, in which case the previous binding is hidden. Again, this is not an assignment or a change of value."
   ]
  },
  {
   "cell_type": "code",
   "execution_count": 83,
   "id": "81ccb11f-73fe-48e0-bc53-3f8c0989a824",
   "metadata": {},
   "outputs": [
    {
     "name": "stdout",
     "output_type": "stream",
     "text": [
      "Took: 0.0991218090057373 ms\n",
      "true\n"
     ]
    }
   ],
   "source": [
    "%%jsoniq \n",
    "\n",
    "let $a := json-doc(\"file.json\")\n",
    "let $a := $a.o\n",
    "let $a := $a[]\n",
    "let $a := $a.a\n",
    "let $a := $a.b\n",
    "let $a := $a[]\n",
    "let $a := $a.c\n",
    "return $a = 1"
   ]
  },
  {
   "cell_type": "markdown",
   "id": "a4135240-39b5-4571-b2eb-5c13b06c7dd2",
   "metadata": {},
   "source": [
    "Each variable is visible in all subsequent let clauses, as well as in the final return clause (unless/until it is hidden by another let clause with the same variable name). It is not visible to any parent expressions. In particular, this query returns an error because the last reference to variable  $\\$$a is not within the scope of the $\\$$a binding:"
   ]
  },
  {
   "cell_type": "code",
   "execution_count": 84,
   "id": "6b91067a-b346-46d1-ab54-37d94276a248",
   "metadata": {},
   "outputs": [
    {
     "name": "stdout",
     "output_type": "stream",
     "text": [
      "Took: 0.07114148139953613 ms\n",
      "There was an error on line 10 in file:/home/:\n",
      "\n",
      ") + $a\n",
      "    ^\n",
      "\n",
      "Code: [XPST0008]\n",
      "Message: Uninitialized variable reference: a\n",
      "Metadata: file:/home/:LINE:10:COLUMN:4:\n",
      "This code can also be looked up in the documentation and specifications for more information.\n",
      "\n"
     ]
    }
   ],
   "source": [
    "%%jsoniq \n",
    "\n",
    "(let $a := json-doc(\"file.json\")\n",
    "let $b := $a.o\n",
    "let $c := $b[]\n",
    "let $d := $c.a\n",
    "let $e := $d.b\n",
    "let $f := $e[]\n",
    "let $g := $f.c\n",
    "return $g = 1\n",
    ") + $a"
   ]
  },
  {
   "cell_type": "markdown",
   "id": "497b405c-c017-4cb2-8f2e-ad46ab3e7b0e",
   "metadata": {},
   "source": [
    "# FLWOR expressions"
   ]
  },
  {
   "cell_type": "markdown",
   "id": "4d60f6e0-275f-42c0-8b7a-3d6d8034b52b",
   "metadata": {},
   "source": [
    "One of the most important and powerful features of JSONiq is the FLWOR expression. It corresponds to SELECT-FROM-WHERE queries in SQL, however, it is considerably more expressive and generic than them in several aspects:\n",
    "\n",
    "- In SQL, the clauses must appear in a specific order (SELECT, then FROM, then WHERE, then GROUP BY, then HAVING, then ORDER BY, then OFFSET, then LIMIT), although most are optional. In JSONiq the clauses can appear in any order with the exception of the first and last clause.\n",
    "\n",
    "- JSONiq supports a let clause, which does not exist in SQL. Let clauses make it very convenient to write and organize more complex queries.\n",
    "\n",
    "- In SQL, when iterating over multiple tables in the FROM clause, they “do not see each other”, i.e., the semantics is (logically) that of a Cartesian product. In JSONiq, for clauses (which correspond to FROM clauses in SQL), do see each other, meaning that it is possible to iterate in higher and higher levels of nesting by referring to a previous for variable. This is both easier to write and read than lateral views, and it is also more expressive.\n",
    "\n",
    "- The semantics of FLWOR clauses is simple, clean, and inherently functional; it is based on tuple streams containing variable bindings, which flow from clause to clause. There is no “spooky action at a distance” such as the explode() function, which indirectly causes a duplication of rows in Spark SQL."
   ]
  },
  {
   "cell_type": "markdown",
   "id": "51c81318-bf53-42e1-9d13-d2ab482493b2",
   "metadata": {},
   "source": [
    "## Simple dataset"
   ]
  },
  {
   "cell_type": "markdown",
   "id": "9e051790-f325-4974-b978-44387dc3fce9",
   "metadata": {},
   "source": [
    "For the purpose of illustration, we will use a very simple dataset consisting of two JSON Lines files:"
   ]
  },
  {
   "cell_type": "code",
   "execution_count": 85,
   "id": "0d1e723e-7660-4e50-9654-5311a72b5fed",
   "metadata": {},
   "outputs": [],
   "source": [
    "import json\n",
    "\n",
    "# Data for products.json\n",
    "products_data = [\n",
    "    {\"pid\": 1, \"type\": \"tv\", \"store\": 1},\n",
    "    {\"pid\": 2, \"type\": \"tv\", \"store\": 2},\n",
    "    {\"pid\": 3, \"type\": \"phone\", \"store\": 2},\n",
    "    {\"pid\": 4, \"type\": \"tv\", \"store\": 3},\n",
    "    {\"pid\": 5, \"type\": \"teapot\", \"store\": 2},\n",
    "    {\"pid\": 6, \"type\": \"tv\", \"store\": 1},\n",
    "    {\"pid\": 7, \"type\": \"teapot\", \"store\": 2},\n",
    "    {\"pid\": 8, \"type\": \"phone\", \"store\": 4}\n",
    "]\n",
    "\n",
    "# Data for stores.json\n",
    "stores_data = [\n",
    "    {\"sid\": 1, \"country\": \"Switzerland\"},\n",
    "    {\"sid\": 2, \"country\": \"Germany\"},\n",
    "    {\"sid\": 3, \"country\": \"United States\"}\n",
    "]\n",
    "\n",
    "# Create products.json in JSON Lines format\n",
    "with open(\"products.json\", \"w\") as products_file:\n",
    "    for product in products_data:\n",
    "        products_file.write(json.dumps(product) + \"\\n\")\n",
    "\n",
    "# Create stores.json in JSON Lines format\n",
    "with open(\"stores.json\", \"w\") as stores_file:\n",
    "    for store in stores_data:\n",
    "        stores_file.write(json.dumps(store) + \"\\n\")\n"
   ]
  },
  {
   "cell_type": "markdown",
   "id": "87fd935a-b357-49c6-bc8e-0b2476ac84b0",
   "metadata": {},
   "source": [
    "Note that the Store ID 4 for stores is intentionally missing from stores.json, this is for the purpose of showing what happens if there are no matches."
   ]
  },
  {
   "cell_type": "markdown",
   "id": "4b4b71b3-25bb-482e-ae6b-35d762f27c53",
   "metadata": {},
   "source": [
    "## For clauses"
   ]
  },
  {
   "cell_type": "markdown",
   "id": "8f5bb98d-f09c-461e-bab6-565df386a4cc",
   "metadata": {},
   "source": [
    "For clauses bind their variable in turn to each item of the provided expression. Here is an example:"
   ]
  },
  {
   "cell_type": "code",
   "execution_count": 86,
   "id": "3c715d6b-fa46-46b1-8c9a-950518782571",
   "metadata": {},
   "outputs": [
    {
     "name": "stdout",
     "output_type": "stream",
     "text": [
      "Took: 0.0618894100189209 ms\n",
      "{\"number\": 1, \"square\": 1}\n",
      "{\"number\": 2, \"square\": 4}\n",
      "{\"number\": 3, \"square\": 9}\n",
      "{\"number\": 4, \"square\": 16}\n",
      "{\"number\": 5, \"square\": 25}\n",
      "{\"number\": 6, \"square\": 36}\n",
      "{\"number\": 7, \"square\": 49}\n",
      "{\"number\": 8, \"square\": 64}\n",
      "{\"number\": 9, \"square\": 81}\n",
      "{\"number\": 10, \"square\": 100}\n"
     ]
    }
   ],
   "source": [
    "%%jsoniq \n",
    "\n",
    "for $x in 1 to 10\n",
    "return\n",
    "  {\n",
    "    \"number\": $x,\n",
    "    \"square\": $x * $x\n",
    "  }"
   ]
  },
  {
   "cell_type": "markdown",
   "id": "a880c257-93a1-4500-bfc5-e3c884128ff7",
   "metadata": {},
   "source": [
    "In the above query, the variable $x is bound with 1, then with 2, then with 3, etc, and finally with 10. It is always bound with a sequence of exactly one item. It is, however, possible to bind it with an empty sequence if the expression returns no items. This is done with “allowing empty”."
   ]
  },
  {
   "cell_type": "code",
   "execution_count": 87,
   "id": "a5989fb7-aa39-4d5e-b187-a65d37243252",
   "metadata": {},
   "outputs": [
    {
     "name": "stdout",
     "output_type": "stream",
     "text": [
      "Took: 0.05500984191894531 ms\n",
      "0\n"
     ]
    }
   ],
   "source": [
    "%%jsoniq \n",
    "\n",
    "for $x allowing empty in ()\n",
    "return count($x)"
   ]
  },
  {
   "cell_type": "markdown",
   "id": "f3798dae-dc1d-427a-95fa-ce1a46f9a33f",
   "metadata": {},
   "source": [
    "Note that, without “allowing empty”, if the expression in the for clause evaluates to an empty sequence, the variable would not bind to anything at all and the FLWOR expression would simply return an empty sequence."
   ]
  },
  {
   "cell_type": "code",
   "execution_count": 88,
   "id": "88e03c12-1f01-4ac5-b0f7-8c7276015cfc",
   "metadata": {},
   "outputs": [
    {
     "name": "stdout",
     "output_type": "stream",
     "text": [
      "Took: 0.07542657852172852 ms\n"
     ]
    }
   ],
   "source": [
    "%%jsoniq \n",
    "\n",
    "for $x in ()\n",
    "return count($x)"
   ]
  },
  {
   "cell_type": "markdown",
   "id": "23020eb7-469b-4a9b-a92e-add8bbabe4c9",
   "metadata": {},
   "source": [
    "Each variable binding is also more generally called a tuple. In this above examples, there is only one variable binding in each tuple ($\\$$x), but it is possible to build larger tuples with more clauses. For example, this FLWOR expression involves two for clauses. The tuples after the first for clause and before the second one only bind variable $\\$$x (to 1, then to 2, then to 3), but the tuple after the second for clause and before the return clause bind variables $\\$$x and $\\$$y. There are six tuples in total, because the second for clause expands each incoming tuple to zero, one or more tuples (think of a flatMap transformation in Spark for an analogy)."
   ]
  },
  {
   "cell_type": "code",
   "execution_count": 89,
   "id": "6e4bf3a0-ad92-4f19-a55d-84b7311d8633",
   "metadata": {},
   "outputs": [
    {
     "name": "stdout",
     "output_type": "stream",
     "text": [
      "Took: 0.04943656921386719 ms\n",
      "[1, 1]\n",
      "[2, 1]\n",
      "[2, 2]\n",
      "[3, 1]\n",
      "[3, 2]\n",
      "[3, 3]\n"
     ]
    }
   ],
   "source": [
    "%%jsoniq \n",
    "\n",
    "for $x in 1 to 3\n",
    "for $y in 1 to $x\n",
    "return [ $x, $y ]"
   ]
  },
  {
   "cell_type": "markdown",
   "id": "dfb4289b-b5bc-4fb9-a94a-16c25d513865",
   "metadata": {},
   "source": [
    "Now if we use our small example dataset, we can iterate on all objects, say, products:"
   ]
  },
  {
   "cell_type": "code",
   "execution_count": 90,
   "id": "32364aa8-0612-4203-bf19-f217fbddadf9",
   "metadata": {},
   "outputs": [
    {
     "name": "stdout",
     "output_type": "stream",
     "text": [
      "Took: 0.44768404960632324 ms\n",
      "\"tv\"\n",
      "\"tv\"\n",
      "\"phone\"\n",
      "\"tv\"\n",
      "\"teapot\"\n",
      "\"tv\"\n",
      "\"teapot\"\n",
      "\"phone\"\n"
     ]
    }
   ],
   "source": [
    "%%jsoniq \n",
    "\n",
    "for $product in json-file(\"products.json\")\n",
    "return $product.type"
   ]
  },
  {
   "cell_type": "markdown",
   "id": "f7fbeb04-24d6-4aab-aec7-c690d3bfb2a9",
   "metadata": {},
   "source": [
    "It can thus be seen that the for clause is akin to the FROM clause in SQL, and the return is akin to the SELECT clause.\n",
    "\n",
    "Projection in JSONiq can be made with a project() function call, with the keys to keep:"
   ]
  },
  {
   "cell_type": "code",
   "execution_count": 91,
   "id": "c457ef21-31e1-4be6-9e4f-d8a1d56b83cf",
   "metadata": {},
   "outputs": [
    {
     "name": "stdout",
     "output_type": "stream",
     "text": [
      "Took: 0.46694183349609375 ms\n",
      "{\"type\": \"tv\", \"store\": 1}\n",
      "{\"type\": \"tv\", \"store\": 2}\n",
      "{\"type\": \"phone\", \"store\": 2}\n",
      "{\"type\": \"tv\", \"store\": 3}\n",
      "{\"type\": \"teapot\", \"store\": 2}\n",
      "{\"type\": \"tv\", \"store\": 1}\n",
      "{\"type\": \"teapot\", \"store\": 2}\n",
      "{\"type\": \"phone\", \"store\": 4}\n"
     ]
    }
   ],
   "source": [
    "%%jsoniq \n",
    "\n",
    "for $product in json-file(\"products.json\")\n",
    "return project($product, (\"type\", \"store\"))"
   ]
  },
  {
   "cell_type": "markdown",
   "id": "df601c08-1d20-4feb-8b9f-fbdd2bedca7a",
   "metadata": {},
   "source": [
    "It is possible to implement a join with a sequence of two for clauses and a predicate (note that newlines in JSONiq are irrelevant, so we spread the for clause on two lines in order to fit the query on this page):"
   ]
  },
  {
   "cell_type": "code",
   "execution_count": 92,
   "id": "385f8d46-7dba-442e-9aa9-a96c09f400d1",
   "metadata": {},
   "outputs": [
    {
     "name": "stdout",
     "output_type": "stream",
     "text": [
      "Took: 0.7625768184661865 ms\n",
      "{\"product\": \"tv\", \"country\": \"Switzerland\"}\n",
      "{\"product\": \"tv\", \"country\": \"Switzerland\"}\n",
      "{\"product\": \"tv\", \"country\": \"Germany\"}\n",
      "{\"product\": \"phone\", \"country\": \"Germany\"}\n",
      "{\"product\": \"teapot\", \"country\": \"Germany\"}\n",
      "{\"product\": \"teapot\", \"country\": \"Germany\"}\n",
      "{\"product\": \"tv\", \"country\": \"United States\"}\n"
     ]
    }
   ],
   "source": [
    "%%jsoniq \n",
    "\n",
    "for $product in json-file(\"products.json\")\n",
    "for $store in json-file(\"stores.json\")[$$.sid eq $product.store]\n",
    "return {\n",
    "  \"product\" : $product.type,\n",
    "  \"country\" : $store.country\n",
    "}"
   ]
  },
  {
   "cell_type": "markdown",
   "id": "2fa81b8d-ef10-43f5-8f4a-e89f131f686d",
   "metadata": {},
   "source": [
    "Note that allowing empty can be used to perform a left outer join, i.e., to account for the case when there are no matching records in the second collection:"
   ]
  },
  {
   "cell_type": "code",
   "execution_count": 93,
   "id": "996a8521-108f-4400-aa92-16189b1cee05",
   "metadata": {},
   "outputs": [
    {
     "name": "stdout",
     "output_type": "stream",
     "text": [
      "Took: 0.7564096450805664 ms\n",
      "{\"product\": \"tv\", \"country\": \"Switzerland\"}\n",
      "{\"product\": \"tv\", \"country\": \"Germany\"}\n",
      "{\"product\": \"phone\", \"country\": \"Germany\"}\n",
      "{\"product\": \"tv\", \"country\": \"United States\"}\n",
      "{\"product\": \"teapot\", \"country\": \"Germany\"}\n",
      "{\"product\": \"tv\", \"country\": \"Switzerland\"}\n",
      "{\"product\": \"teapot\", \"country\": \"Germany\"}\n",
      "{\"product\": \"phone\", \"country\": null}\n"
     ]
    }
   ],
   "source": [
    "%%jsoniq \n",
    "\n",
    "for $product in json-file(\"products.json\")\n",
    "for $store allowing empty in json-file(\"stores.json\")[$$.sid eq $product.store]\n",
    "return {\n",
    "  \"product\" : $product.type,\n",
    "  \"country\" : $store.country\n",
    "}"
   ]
  },
  {
   "cell_type": "markdown",
   "id": "ec37c26c-56da-4b9b-953a-53139d5bc7c3",
   "metadata": {},
   "source": [
    "In the case of the last product, no matching record in stores.json is found and $\\$$store is bound to the empty sequence for that tuple. When constructing the object in the return clause’s expression, the empty sequence obtained from $\\$$store.country is automatically replaced with a null value (because an object value cannot be empty). But if we add an array constructor around the country, we will notice the empty sequence:"
   ]
  },
  {
   "cell_type": "code",
   "execution_count": 94,
   "id": "f3cbaadf-aadc-4738-8385-e6feeccffea9",
   "metadata": {},
   "outputs": [
    {
     "name": "stdout",
     "output_type": "stream",
     "text": [
      "Took: 0.6417806148529053 ms\n",
      "{\"product\": \"tv\", \"country\": [\"Switzerland\"]}\n",
      "{\"product\": \"tv\", \"country\": [\"Germany\"]}\n",
      "{\"product\": \"phone\", \"country\": [\"Germany\"]}\n",
      "{\"product\": \"tv\", \"country\": [\"United States\"]}\n",
      "{\"product\": \"teapot\", \"country\": [\"Germany\"]}\n",
      "{\"product\": \"tv\", \"country\": [\"Switzerland\"]}\n",
      "{\"product\": \"teapot\", \"country\": [\"Germany\"]}\n",
      "{\"product\": \"phone\", \"country\": []}\n"
     ]
    }
   ],
   "source": [
    "%%jsoniq \n",
    "\n",
    "for $product in json-file(\"products.json\")\n",
    "for $store allowing empty in json-file(\"stores.json\")[$$.sid eq $product.store]\n",
    "return {\n",
    "  \"product\" : $product.type,\n",
    "  \"country\" : [ $store.country ]\n",
    "}"
   ]
  },
  {
   "cell_type": "markdown",
   "id": "bcf70ad5-c9aa-48b5-ad4a-35032509ceb9",
   "metadata": {},
   "source": [
    "## Let clauses"
   ]
  },
  {
   "cell_type": "markdown",
   "id": "119187e6-1e86-4f15-8c17-7d22dc84f272",
   "metadata": {},
   "source": [
    "As seen before, the let clause can be used to bind a variable with any sequence of items, also more than one. FLWOR expressions with just a cascade of let clauses are quite popular."
   ]
  },
  {
   "cell_type": "code",
   "execution_count": 95,
   "id": "033bc1ec-bda1-45fa-a5fc-e75dd946d530",
   "metadata": {},
   "outputs": [
    {
     "name": "stdout",
     "output_type": "stream",
     "text": [
      "Took: 0.04840493202209473 ms\n",
      "4\n"
     ]
    }
   ],
   "source": [
    "%%jsoniq \n",
    "\n",
    "let $x := 2\n",
    "return $x * $x"
   ]
  },
  {
   "cell_type": "markdown",
   "id": "dccd6a88-4278-4023-a228-e74b62a14580",
   "metadata": {},
   "source": [
    "However, let clauses can also appear after other clauses, for example, after a for clause. Then, they will bind a sequence of items for each previous binding (tuple), like so:"
   ]
  },
  {
   "cell_type": "code",
   "execution_count": 96,
   "id": "be5e7403-79b1-4b68-8ecd-40f87209888c",
   "metadata": {},
   "outputs": [
    {
     "name": "stdout",
     "output_type": "stream",
     "text": [
      "Took: 0.05125927925109863 ms\n",
      "{\"number\": 1, \"square\": 1}\n",
      "{\"number\": 2, \"square\": 4}\n",
      "{\"number\": 3, \"square\": 9}\n",
      "{\"number\": 4, \"square\": 16}\n",
      "{\"number\": 5, \"square\": 25}\n",
      "{\"number\": 6, \"square\": 36}\n",
      "{\"number\": 7, \"square\": 49}\n",
      "{\"number\": 8, \"square\": 64}\n",
      "{\"number\": 9, \"square\": 81}\n",
      "{\"number\": 10, \"square\": 100}\n"
     ]
    }
   ],
   "source": [
    "%%jsoniq \n",
    "\n",
    "for $x in 1 to 10\n",
    "let $square := $x * $x\n",
    "return\n",
    "{\n",
    "  \"number\": $x,\n",
    "  \"square\": $square\n",
    "}"
   ]
  },
  {
   "cell_type": "markdown",
   "id": "479361ae-60aa-4945-b644-6378f95ff909",
   "metadata": {},
   "source": [
    "In the above example, $square is only bound with one item. Here is another example where it is bound with more than one:"
   ]
  },
  {
   "cell_type": "code",
   "execution_count": 97,
   "id": "9e28db25-aafc-4be8-9fc0-65ea2113601a",
   "metadata": {},
   "outputs": [
    {
     "name": "stdout",
     "output_type": "stream",
     "text": [
      "Took: 0.03974437713623047 ms\n",
      "{\"number\": 1, \"square\": 1, \"cube\": 1}\n",
      "{\"number\": 2, \"square\": 4, \"cube\": 8}\n",
      "{\"number\": 3, \"square\": 9, \"cube\": 27}\n",
      "{\"number\": 4, \"square\": 16, \"cube\": 64}\n",
      "{\"number\": 5, \"square\": 25, \"cube\": 125}\n",
      "{\"number\": 6, \"square\": 36, \"cube\": 216}\n",
      "{\"number\": 7, \"square\": 49, \"cube\": 343}\n",
      "{\"number\": 8, \"square\": 64, \"cube\": 512}\n",
      "{\"number\": 9, \"square\": 81, \"cube\": 729}\n",
      "{\"number\": 10, \"square\": 100, \"cube\": 1000}\n"
     ]
    }
   ],
   "source": [
    "%%jsoniq \n",
    "\n",
    "for $x in 1 to 10\n",
    "let $square-and-cube := ($x * $x, $x * $x * $x)\n",
    "return\n",
    "  {\n",
    "    \"number\": $x,\n",
    "    \"square\": $square-and-cube[1],\n",
    "    \"cube\": $square-and-cube[2]\n",
    "  }"
   ]
  },
  {
   "cell_type": "markdown",
   "id": "635f6577-1371-4935-bf8f-e83cbd0018ae",
   "metadata": {},
   "source": [
    "Note the difference with a for clause:"
   ]
  },
  {
   "cell_type": "code",
   "execution_count": 98,
   "id": "b7a94c53-e452-4f0b-b445-16a54815668a",
   "metadata": {},
   "outputs": [
    {
     "name": "stdout",
     "output_type": "stream",
     "text": [
      "Took: 0.06417059898376465 ms\n",
      "{\"number\": 1, \"square or cube\": 1}\n",
      "{\"number\": 1, \"square or cube\": 1}\n",
      "{\"number\": 2, \"square or cube\": 4}\n",
      "{\"number\": 2, \"square or cube\": 8}\n",
      "{\"number\": 3, \"square or cube\": 9}\n",
      "{\"number\": 3, \"square or cube\": 27}\n",
      "{\"number\": 4, \"square or cube\": 16}\n",
      "{\"number\": 4, \"square or cube\": 64}\n",
      "{\"number\": 5, \"square or cube\": 25}\n",
      "{\"number\": 5, \"square or cube\": 125}\n",
      "{\"number\": 6, \"square or cube\": 36}\n",
      "{\"number\": 6, \"square or cube\": 216}\n",
      "{\"number\": 7, \"square or cube\": 49}\n",
      "{\"number\": 7, \"square or cube\": 343}\n",
      "{\"number\": 8, \"square or cube\": 64}\n",
      "{\"number\": 8, \"square or cube\": 512}\n",
      "{\"number\": 9, \"square or cube\": 81}\n",
      "{\"number\": 9, \"square or cube\": 729}\n",
      "{\"number\": 10, \"square or cube\": 100}\n",
      "{\"number\": 10, \"square or cube\": 1000}\n"
     ]
    }
   ],
   "source": [
    "%%jsoniq \n",
    "\n",
    "for $x in 1 to 10\n",
    "for $square-or-cube in ($x * $x, $x * $x * $x)\n",
    "return\n",
    "  {\n",
    "    \"number\": $x,\n",
    "    \"square or cube\": $square-or-cube\n",
    "  }"
   ]
  },
  {
   "cell_type": "markdown",
   "id": "0675eef7-126a-41f1-884d-9ace6f62826c",
   "metadata": {},
   "source": [
    "A let clause outputs exactly one outgoing tuple for each incoming tuple (think of a map transformation in Spark). Unlike the for clause, it does not modify the number of tuples. \n",
    "\n",
    "Let us now showcase the use of a let clause with our dataset. \n",
    "\n",
    "Now if we use our small example dataset, we can iterate on all objects, say, products:"
   ]
  },
  {
   "cell_type": "code",
   "execution_count": 99,
   "id": "3ffd79df-82c7-4efa-9b66-06d4a2b3ad5f",
   "metadata": {},
   "outputs": [
    {
     "name": "stdout",
     "output_type": "stream",
     "text": [
      "Took: 0.45885252952575684 ms\n",
      "\"tv\"\n",
      "\"tv\"\n",
      "\"phone\"\n",
      "\"tv\"\n",
      "\"teapot\"\n",
      "\"tv\"\n",
      "\"teapot\"\n",
      "\"phone\"\n"
     ]
    }
   ],
   "source": [
    "%%jsoniq \n",
    "\n",
    "for $product in json-file(\"products.json\")\n",
    "let $type := $product.type\n",
    "return $type"
   ]
  },
  {
   "cell_type": "markdown",
   "id": "29292f97-3e68-48ed-9e6e-29b93bbfd10e",
   "metadata": {},
   "source": [
    "Let clauses also allow for joining the two datasets and denormalizing them by nesting the stores into the products. This would be considerably more difficult to do with (Spark) SQL, even with extensions. The results are pretty-printed for ease of read."
   ]
  },
  {
   "cell_type": "code",
   "execution_count": 100,
   "id": "18a58217-ff84-4b42-a577-f7e804bc9921",
   "metadata": {},
   "outputs": [
    {
     "name": "stdout",
     "output_type": "stream",
     "text": [
      "Took: 0.8935444355010986 ms\n",
      "{\"store\": \"Switzerland\", \"available products\": [\"tv\"]}\n",
      "{\"store\": \"Germany\", \"available products\": [\"tv\", \"phone\", \"teapot\"]}\n",
      "{\"store\": \"United States\", \"available products\": [\"tv\"]}\n"
     ]
    }
   ],
   "source": [
    "%%jsoniq \n",
    "\n",
    "for $store in json-file(\"stores.json\")\n",
    "let $product := json-file(\"products.json\")[$store.sid eq $$.store]\n",
    "return {\n",
    "  \"store\" : $store.country,\n",
    "  \"available products\" : [distinct-values($product.type)]\n",
    "}"
   ]
  },
  {
   "cell_type": "markdown",
   "id": "86f03a82-0abd-4b99-8f2c-37c0d95920f3",
   "metadata": {},
   "source": [
    "## Where clauses"
   ]
  },
  {
   "cell_type": "markdown",
   "id": "c23a5181-e6f6-4c57-8fa1-11118d5c3d92",
   "metadata": {},
   "source": [
    "Where clauses are used to filter variable bindings (tuples) based on a predicate on these variables. They are the equivalent to a WHERE clause in SQL.\n",
    "\n",
    "This is a simple example of its use in conjunction with a for clause:"
   ]
  },
  {
   "cell_type": "code",
   "execution_count": 101,
   "id": "f7738c24-84d0-4817-9d6b-115fc6810ef1",
   "metadata": {},
   "outputs": [
    {
     "name": "stdout",
     "output_type": "stream",
     "text": [
      "Took: 0.0701608657836914 ms\n",
      "{\"number\": 8, \"square\": 64}\n",
      "{\"number\": 9, \"square\": 81}\n",
      "{\"number\": 10, \"square\": 100}\n"
     ]
    }
   ],
   "source": [
    "%%jsoniq \n",
    "\n",
    "for $x in 1 to 10\n",
    "where $x gt 7\n",
    "return {\n",
    "  \"number\": $x,\n",
    "  \"square\": $x * $x\n",
    "}"
   ]
  },
  {
   "cell_type": "markdown",
   "id": "7c956dc4-df8e-48a1-95ae-f4acd5060c08",
   "metadata": {},
   "source": [
    "A where clause can appear anywhere in a FLWOR expression, except that it cannot be the first clause (always for or let) or the last clause (always return)."
   ]
  },
  {
   "cell_type": "code",
   "execution_count": 102,
   "id": "d3394a82-f8b6-4896-acb8-9c4e147de109",
   "metadata": {},
   "outputs": [
    {
     "name": "stdout",
     "output_type": "stream",
     "text": [
      "Took: 0.05547904968261719 ms\n",
      "{\"number\": 8, \"y\": 64}\n",
      "{\"number\": 8, \"y\": 65}\n",
      "{\"number\": 9, \"y\": 81}\n",
      "{\"number\": 9, \"y\": 82}\n",
      "{\"number\": 10, \"y\": 100}\n",
      "{\"number\": 10, \"y\": 101}\n"
     ]
    }
   ],
   "source": [
    "%%jsoniq \n",
    "\n",
    "for $x in 1 to 10\n",
    "let $square := $x * $x\n",
    "where $square gt 60\n",
    "for $y in $square to $square + 1\n",
    "return {\n",
    "  \"number\": $x,\n",
    "  \"y\": $y\n",
    "}"
   ]
  },
  {
   "cell_type": "markdown",
   "id": "a9174a8a-1bca-4866-919a-a2d40bf44f27",
   "metadata": {},
   "source": [
    "A where clause always outputs a subset (or all) of its incoming tuples, without any alteration. In the case that the predicate always evaluates to true, it forwards all tuples, as if there had been no where clause at all. In the case that the predicate always evaluates to false, it outputs no tuple and the FLWOR expression will then return the empty sequence, with no need to further evaluate any of the remaining clauses.\n",
    "\n",
    "Here is another example of use of the where clause with our datasets:"
   ]
  },
  {
   "cell_type": "code",
   "execution_count": 103,
   "id": "aa13b4fc-f9f9-4cad-981c-7754558efa17",
   "metadata": {},
   "outputs": [
    {
     "name": "stdout",
     "output_type": "stream",
     "text": [
      "Took: 0.9756145477294922 ms\n",
      "\"tv\"\n",
      "\"phone\"\n",
      "\"teapot\"\n",
      "\"teapot\"\n"
     ]
    }
   ],
   "source": [
    "%%jsoniq \n",
    "\n",
    "for $product in json-file(\"products.json\")\n",
    "let $store := json-file(\"stores.json\")[$$.sid eq $product.store]\n",
    "where $store.country = \"Germany\"\n",
    "return $product.type"
   ]
  },
  {
   "cell_type": "markdown",
   "id": "c59bd6c3-7f52-463a-aa9e-bba1a0725914",
   "metadata": {},
   "source": [
    "## Order by clauses"
   ]
  },
  {
   "cell_type": "markdown",
   "id": "524e36d6-761b-4dbc-be92-7a4bfbc58f63",
   "metadata": {},
   "source": [
    "Order by clauses are used to reorganize the order of the tuples, but without altering them. They are the same as ORDER BY clauses in SQL."
   ]
  },
  {
   "cell_type": "code",
   "execution_count": 104,
   "id": "554deee6-1596-439f-9ee2-182a8ff18ceb",
   "metadata": {},
   "outputs": [
    {
     "name": "stdout",
     "output_type": "stream",
     "text": [
      "Took: 0.05294680595397949 ms\n",
      "{\"number\": 0, \"square\": 0}\n",
      "{\"number\": -1, \"square\": 1}\n",
      "{\"number\": 1, \"square\": 1}\n",
      "{\"number\": -2, \"square\": 4}\n",
      "{\"number\": 2, \"square\": 4}\n"
     ]
    }
   ],
   "source": [
    "%%jsoniq \n",
    "\n",
    "for $x in -2 to 2\n",
    "let $square := $x * $x\n",
    "order by $square\n",
    "return {\n",
    "  \"number\": $x,\n",
    "  \"square\": $square\n",
    "}"
   ]
  },
  {
   "cell_type": "markdown",
   "id": "7555512f-d17d-43df-83b6-d4dbf117da1f",
   "metadata": {},
   "source": [
    "It is also possible, like in SQL, to specify an ascending or a descending order. By default, the order is ascending."
   ]
  },
  {
   "cell_type": "code",
   "execution_count": 105,
   "id": "d20f8f65-90ad-47b7-b987-e5beebe169f6",
   "metadata": {},
   "outputs": [
    {
     "name": "stdout",
     "output_type": "stream",
     "text": [
      "Took: 0.05420327186584473 ms\n",
      "{\"number\": 0, \"square\": 0}\n",
      "{\"number\": -1, \"square\": 1}\n",
      "{\"number\": 1, \"square\": 1}\n",
      "{\"number\": -2, \"square\": 4}\n",
      "{\"number\": 2, \"square\": 4}\n"
     ]
    }
   ],
   "source": [
    "%%jsoniq \n",
    "\n",
    "for $x in -2 to 2\n",
    "let $square := $x * $x\n",
    "order by $square ascending\n",
    "return {\n",
    "  \"number\": $x,\n",
    "  \"square\": $square\n",
    "}"
   ]
  },
  {
   "cell_type": "code",
   "execution_count": 106,
   "id": "512895b6-bfec-49cc-a679-119d6f8b9bc8",
   "metadata": {},
   "outputs": [
    {
     "name": "stdout",
     "output_type": "stream",
     "text": [
      "Took: 0.05096888542175293 ms\n",
      "{\"number\": -2, \"square\": 4}\n",
      "{\"number\": 2, \"square\": 4}\n",
      "{\"number\": -1, \"square\": 1}\n",
      "{\"number\": 1, \"square\": 1}\n",
      "{\"number\": 0, \"square\": 0}\n"
     ]
    }
   ],
   "source": [
    "%%jsoniq \n",
    "\n",
    "for $x in -2 to 2\n",
    "let $square := $x * $x\n",
    "order by $square descending\n",
    "return {\n",
    "  \"number\": $x,\n",
    "  \"square\": $square\n",
    "}"
   ]
  },
  {
   "cell_type": "markdown",
   "id": "ee9de77c-e093-4295-9333-a2fcf6c34ce2",
   "metadata": {},
   "source": [
    "In case of ties between tuples, the order is arbitrary. But it is possible to sort on another variable in case there is a tie with the first one (compound sorting keys):"
   ]
  },
  {
   "cell_type": "code",
   "execution_count": 107,
   "id": "40a55395-4987-4ad6-b45d-4bd53f5afaf0",
   "metadata": {},
   "outputs": [
    {
     "name": "stdout",
     "output_type": "stream",
     "text": [
      "Took: 0.04914379119873047 ms\n",
      "{\"number\": -2, \"square\": 4}\n",
      "{\"number\": 2, \"square\": 4}\n",
      "{\"number\": -1, \"square\": 1}\n",
      "{\"number\": 1, \"square\": 1}\n",
      "{\"number\": 0, \"square\": 0}\n"
     ]
    }
   ],
   "source": [
    "%%jsoniq \n",
    "\n",
    "for $x in -2 to 2\n",
    "let $square := $x * $x\n",
    "order by $square descending, $x ascending\n",
    "return {\n",
    "  \"number\": $x,\n",
    "  \"square\": $square\n",
    "}"
   ]
  },
  {
   "cell_type": "markdown",
   "id": "674a8372-42fe-482a-a438-c087b95fb5fd",
   "metadata": {},
   "source": [
    "It is possible to control what to do with empty sequences: they can be considered smallest or greatest."
   ]
  },
  {
   "cell_type": "code",
   "execution_count": 108,
   "id": "4c5ac3a6-0c1d-4a9e-a6c4-6f822261d1bf",
   "metadata": {},
   "outputs": [
    {
     "name": "stdout",
     "output_type": "stream",
     "text": [
      "Took: 0.053754329681396484 ms\n",
      "[1]\n",
      "[3]\n",
      "[5]\n",
      "[]\n",
      "[]\n"
     ]
    }
   ],
   "source": [
    "%%jsoniq \n",
    "\n",
    "for $x in 1 to 5\n",
    "let $y := $x[$$ mod 2 = 1]\n",
    "order by $y ascending empty greatest\n",
    "return [ $y ]"
   ]
  },
  {
   "cell_type": "code",
   "execution_count": 109,
   "id": "531d6b56-16b0-402a-9a0e-530358aad5d7",
   "metadata": {},
   "outputs": [
    {
     "name": "stdout",
     "output_type": "stream",
     "text": [
      "Took: 0.06838321685791016 ms\n",
      "[]\n",
      "[]\n",
      "[1]\n",
      "[3]\n",
      "[5]\n"
     ]
    }
   ],
   "source": [
    "%%jsoniq \n",
    "\n",
    "for $x in 1 to 5\n",
    "let $y := $x[$$ mod 2 = 1]\n",
    "order by $y ascending empty least\n",
    "return [ $y ]"
   ]
  },
  {
   "cell_type": "markdown",
   "id": "4bcbe0f2-6724-4d19-8243-a6d9a7f8ba8f",
   "metadata": {},
   "source": [
    "Here is another example of use of the order by clause with our datasets:"
   ]
  },
  {
   "cell_type": "code",
   "execution_count": 110,
   "id": "6e2f64bf-32c6-4cc0-8520-09ab2677b8e5",
   "metadata": {},
   "outputs": [
    {
     "name": "stdout",
     "output_type": "stream",
     "text": [
      "Took: 5.172745227813721 ms\n",
      "\"tv\"\n",
      "\"teapot\"\n",
      "\"phone\"\n"
     ]
    }
   ],
   "source": [
    "%%jsoniq \n",
    "\n",
    "for $product in json-file(\"products.json\")\n",
    "let $store := json-file(\"stores.json\")[$$.sid eq $product.store]\n",
    "group by $t := $product.type\n",
    "order by count($store) descending,\n",
    "string-length($t) ascending\n",
    "return $t"
   ]
  },
  {
   "cell_type": "markdown",
   "id": "5a946e45-71a8-440a-8a42-c706574fa146",
   "metadata": {},
   "source": [
    "## Group by clauses"
   ]
  },
  {
   "cell_type": "markdown",
   "id": "c2ed9ce0-ea76-49e0-803a-4dd01cd9b849",
   "metadata": {},
   "source": [
    "Group by clauses organize tuples in groups based on matching keys, and then output only one tuple for each group, aggregating other variables (count, sum, max, min...). This is similar to GROUP BY clauses in SQL."
   ]
  },
  {
   "cell_type": "code",
   "execution_count": 111,
   "id": "4bc64125-03b1-4035-bd9b-52e83b04de59",
   "metadata": {},
   "outputs": [
    {
     "name": "stdout",
     "output_type": "stream",
     "text": [
      "Took: 0.06380772590637207 ms\n",
      "{\"grouping key\": 0, \"count of x\": 2}\n",
      "{\"grouping key\": 1, \"count of x\": 3}\n"
     ]
    }
   ],
   "source": [
    "%%jsoniq \n",
    "\n",
    "for $x in 1 to 5\n",
    "let $y := $x mod 2\n",
    "group by $y\n",
    "return {\n",
    "  \"grouping key\" : $y,\n",
    "  \"count of x\" : count($x)\n",
    "}"
   ]
  },
  {
   "cell_type": "markdown",
   "id": "abf6dd53-822a-4a0d-a1d2-0472a41fc9c4",
   "metadata": {},
   "source": [
    "However, JSONiq’s group by clauses are more powerful and expressive than SQL GROUP BY clauses: indeed, it is also possible to opt out of aggregating other (non-grouping-key) variables. Then, for a nonaggregated variable, the sequence of all its values within a group will be rebound to this same variable as a single binding in the outcoming tuple. It is thus possible to write many more queries than SQL would allow, which is one of the reasons why a language like JSONiq should be preferred for nested datasets."
   ]
  },
  {
   "cell_type": "code",
   "execution_count": 112,
   "id": "cddaa788-3e0a-4ef0-a0ec-b6245d8de9b1",
   "metadata": {},
   "outputs": [
    {
     "name": "stdout",
     "output_type": "stream",
     "text": [
      "Took: 0.06590604782104492 ms\n",
      "{\"grouping key\": 0, \"grouped x values\": [2, 4]}\n",
      "{\"grouping key\": 1, \"grouped x values\": [1, 3, 5]}\n"
     ]
    }
   ],
   "source": [
    "%%jsoniq \n",
    "\n",
    "for $x in 1 to 5\n",
    "let $y := $x mod 2\n",
    "group by $y\n",
    "return {\n",
    "  \"grouping key\" : $y,\n",
    "  \"grouped x values\" : [ $x ]\n",
    "}"
   ]
  },
  {
   "cell_type": "markdown",
   "id": "f8980729-25e4-4e3a-b781-3b039e2388c6",
   "metadata": {},
   "source": [
    "Finally, here is an example of use of a group by clause with our example dataset."
   ]
  },
  {
   "cell_type": "code",
   "execution_count": 113,
   "id": "abf45897-7acb-4584-9076-7b481d66c191",
   "metadata": {},
   "outputs": [
    {
     "name": "stdout",
     "output_type": "stream",
     "text": [
      "Took: 3.4598042964935303 ms\n",
      "{\"sid\": 1, \"country\": \"Switzerland\", \"products\": [\"tv\"]}\n",
      "{\"sid\": 2, \"country\": \"Germany\", \"products\": [\"tv\", \"phone\", \"teapot\"]}\n",
      "{\"sid\": 3, \"country\": \"United States\", \"products\": [\"tv\"]}\n",
      "{\"products\": [\"phone\"]}\n"
     ]
    }
   ],
   "source": [
    "%%jsoniq \n",
    "\n",
    "for $product in json-file(\"products.json\")\n",
    "group by $sid := $product.store\n",
    "let $store := json-file(\"stores.json\")[$$.sid eq $sid]\n",
    "order by $sid \n",
    "return {|\n",
    "  $store,\n",
    "  { \"products\" : [ distinct-values($product.type) ] }\n",
    "|}"
   ]
  },
  {
   "cell_type": "markdown",
   "id": "ba556b35-b5ed-4f73-84cd-fe27aec18386",
   "metadata": {},
   "source": [
    "## Tuple stream visualization"
   ]
  },
  {
   "attachments": {},
   "cell_type": "markdown",
   "id": "f1e8dbb9-ff54-49dc-9e47-7151417927e5",
   "metadata": {},
   "source": [
    "Although it is unnecessary to write simple FLWOR expressions, a visualization can be helpful in order to understand how more complex FLWOR expressions are evaluated. We give below a few examples of how tuple streams within a FLWOR expression can be seen as tables (or DataFrames) in which each bound variable is represented in a column:\n",
    "\n",
    "<div style=\"text-align: center;\">\n",
    "    <img src=\"https://raw.githubusercontent.com/RumbleDB/bigdata-exercises/master/Big_Data/JSONiq-Jupyter/Textbook_images/283.png\" alt=\"image\" style=\"width: 60%; height: auto;\"> <br>\n",
    "    <img src=\"https://raw.githubusercontent.com/RumbleDB/bigdata-exercises/master/Big_Data/JSONiq-Jupyter/Textbook_images/284.png\" alt=\"image\" style=\"width: 60%; height: auto;\"> <br>\n",
    "    <img src=\"https://raw.githubusercontent.com/RumbleDB/bigdata-exercises/master/Big_Data/JSONiq-Jupyter/Textbook_images/285.png\" alt=\"image\" style=\"width: 60%; height: auto;\">\n",
    "</div> "
   ]
  },
  {
   "cell_type": "markdown",
   "id": "9df142d2-7400-431d-978a-ecebecff2e5f",
   "metadata": {},
   "source": [
    "Note, however, that these tuple streams are not sequences of items, because clauses are not expressions; tuple streams are only a formal description of the semantics of FLWOR expressions and their visualization as DataFrames is pedagogical. Having said that, the reader may have guessed that tuple streams can be internally implemented as Spark DataFrames, and in fact, RumbleDB does just that (but it hides it from the user)."
   ]
  },
  {
   "cell_type": "markdown",
   "id": "289c6746-e037-4dd8-a623-c8d284831659",
   "metadata": {},
   "source": [
    "# Types"
   ]
  },
  {
   "cell_type": "markdown",
   "id": "a5c0abed-e2e1-4a2f-b3f2-2ebe0c87ac1e",
   "metadata": {},
   "source": [
    "The type system in JSONiq is consistent with what was covered in Chapter 7.\n",
    "\n",
    "In this section we are going to mainly use a bigger git-archive dataset, [git-archive-big.json](https://www.rumbledb.org/samples/git-archive-big.json). You can already check that you get the correct number of records. The dataset should contain 206978 records. You can either use wget to download and read the dataset locally or simply read with json-file from the URI.\n",
    "\n",
    "We recommend running the cell below to download the data (reading it directly from the URL is slow and hard to debug using the notebook interface)."
   ]
  },
  {
   "cell_type": "code",
   "execution_count": 114,
   "id": "ca089c5f-a853-49aa-bae3-d93077d6db84",
   "metadata": {},
   "outputs": [
    {
     "name": "stdout",
     "output_type": "stream",
     "text": [
      "--2024-12-20 18:38:24--  https://www.rumbledb.org/samples/git-archive-big.json\n",
      "Resolving www.rumbledb.org (www.rumbledb.org)... 52.85.223.97, 52.85.223.31, 52.85.223.120, ...\n",
      "Connecting to www.rumbledb.org (www.rumbledb.org)|52.85.223.97|:443... connected.\n",
      "HTTP request sent, awaiting response... 200 OK\n",
      "Length: 532404791 (508M) [application/json]\n",
      "Saving to: ‘git-archive-big.json’\n",
      "\n",
      "git-archive-big.jso 100%[===================>] 507.74M  7.70MB/s    in 76s     \n",
      "\n",
      "2024-12-20 18:39:41 (6.67 MB/s) - ‘git-archive-big.json’ saved [532404791/532404791]\n",
      "\n",
      "--2024-12-20 18:39:41--  https://www.rumbledb.org/samples/git-archive.json\n",
      "Resolving www.rumbledb.org (www.rumbledb.org)... 52.85.223.120, 52.85.223.31, 52.85.223.39, ...\n",
      "Connecting to www.rumbledb.org (www.rumbledb.org)|52.85.223.120|:443... connected.\n",
      "HTTP request sent, awaiting response... 200 OK\n",
      "Length: 84381884 (80M) [application/json]\n",
      "Saving to: ‘git-archive.json’\n",
      "\n",
      "git-archive.json    100%[===================>]  80.47M  7.78MB/s    in 11s     \n",
      "\n",
      "2024-12-20 18:39:52 (7.45 MB/s) - ‘git-archive.json’ saved [84381884/84381884]\n",
      "\n"
     ]
    }
   ],
   "source": [
    "# Download the big git-archive dataset \n",
    "!wget https://www.rumbledb.org/samples/git-archive-big.json\n",
    "\n",
    "# Download a smaller git-archive dataset \n",
    "!wget https://www.rumbledb.org/samples/git-archive.json"
   ]
  },
  {
   "cell_type": "markdown",
   "id": "6eb10f33-d095-443f-92b0-ef6283ab3267",
   "metadata": {},
   "source": [
    "## Variable types"
   ]
  },
  {
   "cell_type": "markdown",
   "id": "8f4b657b-01c2-4eee-8266-730da0959c45",
   "metadata": {},
   "source": [
    "It is possible to annotate any FLWOR variable with an expected type as shown below."
   ]
  },
  {
   "cell_type": "code",
   "execution_count": 115,
   "id": "3e751783-fd46-4876-8128-b1fc394ecb1f",
   "metadata": {},
   "outputs": [
    {
     "name": "stdout",
     "output_type": "stream",
     "text": [
      "Took: 3.1215648651123047 ms\n",
      "53744\n"
     ]
    }
   ],
   "source": [
    "%%jsoniq \n",
    "\n",
    "let $path as string := \"git-archive-big.json\"\n",
    "let $events as object* := json-file($path)\n",
    "let $actors as object* := $events.actor\n",
    "let $logins as string* := $actors.login\n",
    "let $distinct-logins as string* :=\n",
    "distinct-values($logins)\n",
    "let $count as integer := count($distinct-logins)\n",
    "return $count"
   ]
  },
  {
   "cell_type": "markdown",
   "id": "f1dba478-d9bc-48e4-971d-f314b05219f5",
   "metadata": {},
   "source": [
    "Since every value in JSONiq is a sequence of item, a sequence type consists of two parts: an item type, and a cardinality. \n",
    "\n",
    "Item types can be any of the builtin atomic types (JSound) covered in Chapter 7, as well as “object”, “array” and the most generic item type, “item”. Cardinality can be one of the following four:\n",
    "\n",
    "- Any number of items (suffix *); for example object\\*\n",
    "  \n",
    "- One or more items (suffix +); for example array+\n",
    "  \n",
    "- Zero or one item (suffix ?); for example boolean?\n",
    "  \n",
    "- Exactly one item (no suffix); for example integer\n",
    "\n",
    "If it is detected, at runtime, that a sequence of items is bound to a variable but does not match the expected sequence type, either because one of the items does not match the expected item type, or because the cardinality of the sequence does not match the expected cardinality, then a type error is thrown and the query is not evaluated.\n",
    "\n",
    "It is also possible to annotate variables in for clauses, however the cardinality of the sequence type of a for variable will logically be either one (no suffix), or zero-or-one (?) in the case that “allowing empty” is specified."
   ]
  },
  {
   "cell_type": "markdown",
   "id": "a8f04b89-3bdb-493f-891f-e1ee39f56197",
   "metadata": {},
   "source": [
    "## Type expressions"
   ]
  },
  {
   "cell_type": "markdown",
   "id": "b76281cb-bc08-4071-ab2f-0594aa804354",
   "metadata": {},
   "source": [
    "JSONiq has a few expressions related to types.\n",
    "\n",
    "An instance of expression checks whether a sequences matches a sequence type, and returns true or false. This is similar to the homonymous expression in Java."
   ]
  },
  {
   "cell_type": "code",
   "execution_count": 116,
   "id": "eeff8666-8ddd-46ab-b42a-de35f08759b8",
   "metadata": {},
   "outputs": [
    {
     "name": "stdout",
     "output_type": "stream",
     "text": [
      "Took: 0.03475332260131836 ms\n",
      "false\n",
      "true\n"
     ]
    }
   ],
   "source": [
    "%%jsoniq \n",
    "\n",
    "(3.14, \"foo\") instance of integer*,\n",
    "([1], [ 2, 3 ]) instance of array+"
   ]
  },
  {
   "cell_type": "markdown",
   "id": "6f0b3d01-7d48-4ab2-a2d8-fb30aeb36dee",
   "metadata": {},
   "source": [
    "A cast as expression casts single items to an expected item type."
   ]
  },
  {
   "cell_type": "code",
   "execution_count": 117,
   "id": "f12f2135-9437-4444-bdcb-130eb31e9bc9",
   "metadata": {},
   "outputs": [
    {
     "name": "stdout",
     "output_type": "stream",
     "text": [
      "Took: 0.02958369255065918 ms\n",
      "3.14\n"
     ]
    }
   ],
   "source": [
    "%%jsoniq \n",
    "\n",
    "\"3.14\" cast as decimal"
   ]
  },
  {
   "cell_type": "markdown",
   "id": "cf3c21a0-ce77-4a4a-b5aa-eca00850c79d",
   "metadata": {},
   "source": [
    "A cast as expression can also deal with an empty sequence, and supports the zero-or-more cardinality in the expected resulting type. But it will throw an error if the sequence has more than one item: you need to use a FLWOR expression if you want to cast every item in a sequence."
   ]
  },
  {
   "cell_type": "code",
   "execution_count": 118,
   "id": "c5975779-721e-47c4-b530-6034dd715dd9",
   "metadata": {},
   "outputs": [
    {
     "name": "stdout",
     "output_type": "stream",
     "text": [
      "Took: 0.05576586723327637 ms\n",
      "There was an error on line 2 in file:/home/:\n",
      "\n",
      "[1, 2, 3, 4][$$ > 4] cast as string?\n",
      "             ^\n",
      "\n",
      "Code: [JNTY0004]\n",
      "Message: Invalid args. Comparison can't be performed on array type\n",
      "Metadata: file:/home/:LINE:2:COLUMN:13:\n",
      "This code can also be looked up in the documentation and specifications for more information.\n",
      "\n"
     ]
    }
   ],
   "source": [
    "%%jsoniq \n",
    "\n",
    "[1, 2, 3, 4][$$ > 4] cast as string?"
   ]
  },
  {
   "cell_type": "markdown",
   "id": "5c1820b3-8b6f-4fdf-ae42-815d0beb7ba5",
   "metadata": {},
   "source": [
    "A castable as expression tests whether a cast would succeed (in which case it returns true) or not (false)."
   ]
  },
  {
   "cell_type": "code",
   "execution_count": 119,
   "id": "971d19c6-1825-4197-a897-90c5a2a54f6e",
   "metadata": {},
   "outputs": [
    {
     "name": "stdout",
     "output_type": "stream",
     "text": [
      "Took: 0.031230688095092773 ms\n",
      "true\n"
     ]
    }
   ],
   "source": [
    "%%jsoniq \n",
    "\n",
    "\"3.14\" castable as decimal"
   ]
  },
  {
   "cell_type": "markdown",
   "id": "17b3a02e-5803-40aa-b3c5-a32483d64877",
   "metadata": {},
   "source": [
    "A treat as expression checks whether its input sequence matches an expected type (like a type on a variable); if it does, the input sequence is returned unchanged. If not, an error is raised. This is useful in complex queries and for debugging purposes."
   ]
  },
  {
   "cell_type": "code",
   "execution_count": 120,
   "id": "97e98272-8176-4d0f-9102-81bd0db5fe32",
   "metadata": {},
   "outputs": [
    {
     "name": "stdout",
     "output_type": "stream",
     "text": [
      "Took: 0.030903339385986328 ms\n",
      "1\n",
      "2\n",
      "3\n",
      "4\n"
     ]
    }
   ],
   "source": [
    "%%jsoniq \n",
    "\n",
    "[ 1, 2, 3, 4][] treat as integer+"
   ]
  },
  {
   "cell_type": "markdown",
   "id": "ecb9960c-d581-4508-bccf-9e5b633a6eb1",
   "metadata": {},
   "source": [
    "There are also typeswitch expressions. The expression inside the typeswich is evaluated. Then, the resulting sequence is type-matched with each one of the sequence types. The result of the expression corresponding to the first match is taken, and if there are no matches, the result of the default expression is taken."
   ]
  },
  {
   "cell_type": "code",
   "execution_count": 121,
   "id": "374415d4-06c1-4fa3-ba82-06e8d48040a8",
   "metadata": {},
   "outputs": [
    {
     "name": "stdout",
     "output_type": "stream",
     "text": [
      "Took: 0.08123111724853516 ms\n",
      "\"integer\"\n"
     ]
    }
   ],
   "source": [
    "%%jsoniq \n",
    "\n",
    "typeswitch(json-doc(\"file.json\").o[[1]].a.b[[1]].c)\n",
    "case integer+ return \"integer\"\n",
    "case string return \"string\"\n",
    "default return \"other\""
   ]
  },
  {
   "cell_type": "markdown",
   "id": "65f522e0-c9d6-40b1-b6aa-1c88631a73b3",
   "metadata": {},
   "source": [
    "## Types in user-defined functions"
   ]
  },
  {
   "cell_type": "markdown",
   "id": "78f6103c-4840-48b4-93f8-92d26d882ec8",
   "metadata": {},
   "source": [
    "JSONiq supports user-defined functions. Parameter types can be optionally specified, and a return type can also be optionally specified."
   ]
  },
  {
   "cell_type": "code",
   "execution_count": 122,
   "id": "4a9b5387-0cc6-45f6-9ed3-b4a558b07bef",
   "metadata": {},
   "outputs": [
    {
     "name": "stdout",
     "output_type": "stream",
     "text": [
      "Took: 6.575667858123779 ms\n",
      "true\n"
     ]
    }
   ],
   "source": [
    "%%jsoniq \n",
    "\n",
    "declare function is-big-data(\n",
    "  $threshold as integer,\n",
    "  $objects as object*\n",
    ") as boolean\n",
    "{\n",
    "  count($objects) gt $threshold\n",
    "};\n",
    "\n",
    "is-big-data(1000, json-file(\"git-archive.json\"))"
   ]
  },
  {
   "cell_type": "markdown",
   "id": "63a90a8c-4230-4ae3-bc55-ffdaf4a003a2",
   "metadata": {},
   "source": [
    "But also:"
   ]
  },
  {
   "cell_type": "code",
   "execution_count": 123,
   "id": "a5287bc5-4fd6-4193-a67c-1e3de4fe224b",
   "metadata": {},
   "outputs": [
    {
     "name": "stdout",
     "output_type": "stream",
     "text": [
      "Took: 1.5746407508850098 ms\n",
      "true\n"
     ]
    }
   ],
   "source": [
    "%%jsoniq \n",
    "\n",
    "declare function is-big-data(\n",
    "  $threshold,\n",
    "  $objects\n",
    ")\n",
    "{\n",
    "  count($objects) gt $threshold\n",
    "};\n",
    "\n",
    "is-big-data(1000, json-file(\"git-archive.json\"))"
   ]
  },
  {
   "cell_type": "markdown",
   "id": "990b17ab-7121-43f9-8f50-ce9b6213ceeb",
   "metadata": {},
   "source": [
    "## Validating against a schema"
   ]
  },
  {
   "cell_type": "markdown",
   "id": "3b5e1104-5976-41d0-b6c7-e8eb0ec3b76c",
   "metadata": {},
   "source": [
    "It is possible to declare a schema, associating it with a user-defined type, and to validate a sequence of items against this user-defined type."
   ]
  },
  {
   "cell_type": "code",
   "execution_count": 124,
   "id": "48e743cc-d357-4b0c-9d42-ae25e1beb8c6",
   "metadata": {},
   "outputs": [
    {
     "name": "stdout",
     "output_type": "stream",
     "text": [
      "Took: 5.272742033004761 ms\n",
      "{\"commits\": 0, \"count\": 94554}\n",
      "{\"commits\": 1, \"count\": 92094}\n",
      "{\"commits\": 2, \"count\": 9951}\n",
      "{\"commits\": 3, \"count\": 3211}\n",
      "{\"commits\": 4, \"count\": 1525}\n",
      "{\"commits\": 5, \"count\": 877}\n",
      "{\"commits\": 6, \"count\": 688}\n",
      "{\"commits\": 7, \"count\": 426}\n",
      "{\"commits\": 8, \"count\": 383}\n",
      "{\"commits\": 9, \"count\": 259}\n",
      "{\"commits\": 10, \"count\": 274}\n",
      "{\"commits\": 11, \"count\": 193}\n",
      "{\"commits\": 12, \"count\": 146}\n",
      "{\"commits\": 13, \"count\": 104}\n",
      "{\"commits\": 14, \"count\": 119}\n",
      "{\"commits\": 15, \"count\": 89}\n",
      "{\"commits\": 16, \"count\": 76}\n",
      "{\"commits\": 17, \"count\": 70}\n",
      "{\"commits\": 18, \"count\": 67}\n",
      "{\"commits\": 19, \"count\": 46}\n",
      "{\"commits\": 20, \"count\": 1826}\n"
     ]
    }
   ],
   "source": [
    "%%jsoniq \n",
    "\n",
    "declare type local:histogram as {\n",
    "  \"commits\" : \"short\",\n",
    "  \"count\" : \"long\"\n",
    "};\n",
    "\n",
    "validate type local:histogram* {\n",
    "  for $event in json-file(\"git-archive-big.json\")\n",
    "  group by $nb-commits := (size($event.payload.commits), 0)[1]\n",
    "  order by $nb-commits\n",
    "  return {\n",
    "    \"commits\" : $nb-commits,\n",
    "    \"count\" : count($event)\n",
    "  }\n",
    "}"
   ]
  },
  {
   "cell_type": "markdown",
   "id": "daf56076-fd45-44cb-aada-090a66146091",
   "metadata": {},
   "source": [
    "If the results of a JSONiq query have been validated against a JSound schema, under specific conditions (the same covered in Chapter 7 for a schema to be DataFrame compatible), then it is possible to save the output of the query in other formats than JSON, such as Parquet, Avro, or (if there is no nestedness) CSV."
   ]
  },
  {
   "cell_type": "markdown",
   "id": "7a5363fb-7e21-41a3-bf34-6246f2d37acd",
   "metadata": {},
   "source": [
    "# Architecture of a query engine"
   ]
  },
  {
   "cell_type": "markdown",
   "id": "d88a05be-80d4-4d6d-bce4-3bf81715ba2e",
   "metadata": {},
   "source": [
    "We now cover the physical architecture and implementation of a query engine such as RumbleDB."
   ]
  },
  {
   "cell_type": "markdown",
   "id": "ea6bed96-7bde-41b5-b54e-36457242e9cb",
   "metadata": {},
   "source": [
    "## Static phase"
   ]
  },
  {
   "attachments": {},
   "cell_type": "markdown",
   "id": "48090ca3-1c12-4f56-89b4-07b0870c4400",
   "metadata": {},
   "source": [
    "When a query is received by an engine, it is text that needs to be parsed. The theory and techniques for doing this (context-free grammars, EBNF...) are covered in compiler design courses. The output of this is a tree structure called an Abstract Syntax Tree.\n",
    "\n",
    "<div style=\"text-align: center;\">\n",
    "    <img src=\"https://raw.githubusercontent.com/RumbleDB/bigdata-exercises/master/Big_Data/JSONiq-Jupyter/Textbook_images/286.png\" alt=\"image\" style=\"width: 60%; height: auto;\">\n",
    "</div> \n",
    "\n",
    "An Abstract Syntax Tree, even though it already has the structure of a tree, is tightly tied to the original syntax. Thus, it needs to be converted into a more abstract Intermediate Representation called an expression tree. Every node in this tree corresponds to either an expression or a clause in the JSONiq language, making the design modular.\n",
    "\n",
    "<div style=\"text-align: center;\">\n",
    "    <img src=\"https://raw.githubusercontent.com/RumbleDB/bigdata-exercises/master/Big_Data/JSONiq-Jupyter/Textbook_images/287.png\" alt=\"image\" style=\"width: 60%; height: auto;\">\n",
    "</div> \n",
    "\n",
    "At this point, static typing takes place, meaning that the engine infers the static type of each expression, that is, the most specific type possible expected at runtime (but without actually running the program). User-specified types are also taken into account for this step. Inferring static types facilitates the optimization step.\n",
    "\n",
    "Engines like RumbleDB perform their optimization round on this Intermediate Representation. Optimizations consist in changing the\n",
    "tree to another one that will evaluate faster, but without changing the semantics of the query (i.e., it should produce the same output). An example is that, if RumbleDB detects that both sides to a general comparison are single items, then the comparison is rewritten as a more efficient value comparison. Another example is that user-defined function calls are “inlined”, meaning that the body of the function is copied over instead of the function call, as if the user had written it manually there.\n",
    "\n",
    "Once optimizations have been done, RumbleDB decides the mode with which each expression and clause will be evaluated (locally, sequentially, in parallel, in DataFrames, etc). The resulting expression tree is then converted to a runtime iterator tree; this is the query plan that will actually be evaluated by the engine.\n",
    "\n",
    "<div style=\"text-align: center;\">\n",
    "    <img src=\"https://raw.githubusercontent.com/RumbleDB/bigdata-exercises/master/Big_Data/JSONiq-Jupyter/Textbook_images/288.png\" alt=\"image\" style=\"width: 60%; height: auto;\">\n",
    "</div>\n",
    "\n",
    "Every node in a runtime iterator tree outputs either a sequence of items (if it corresponds to an expression) or a tuple stream (if it corresponds to a clause other than the return clause).\n",
    "\n",
    "<div style=\"text-align: center;\">\n",
    "    <img src=\"https://raw.githubusercontent.com/RumbleDB/bigdata-exercises/master/Big_Data/JSONiq-Jupyter/Textbook_images/289.png\" alt=\"image\" style=\"width: 40%; height: auto;\">\n",
    "</div>"
   ]
  },
  {
   "cell_type": "markdown",
   "id": "e8b0b6cf-4810-4daf-a50c-09a41588c62e",
   "metadata": {},
   "source": [
    "## Dynamic phase"
   ]
  },
  {
   "attachments": {},
   "cell_type": "markdown",
   "id": "00916daa-fda3-4012-bb59-1ed70958f268",
   "metadata": {},
   "source": [
    "During the dynamic phase, the root of the tree is asked to produce a sequence of items, which is to be the final output of the query as a whole.\n",
    "\n",
    "Then, recursively, each node in the tree will ask its children to produce sequences of items (or tuple streams). Each node then combines the sequences of items (or tuple streams) it receives from its children in order to produce its own sequence of items according to its semantics, and pass it to its parent. That way, the data flows all the way from the bottom of the tree to its root, and the final results are obtained and presented to the user or written to persistent storage (drive or data lake). \n",
    "\n",
    "There are many different ways for a runtime iterator to produce an output sequence of items (or tuple stream) and pass it to its parent runtime iterator in the tree:\n",
    "\n",
    "- By materializing sequences of items (or tuple streams) completely in local computer memory.\n",
    "\n",
    "- By locally iterating over each item in a sequence, one after the other (or over each tuple in a tuple stream, one after the other).\n",
    "\n",
    "- By working in parallel over the sequence of items, internally stored as a Spark RDD.\n",
    "\n",
    "- By working in parallel over the sequence of items (or tuple stream), internally stored as a Spark DataFrame.\n",
    "\n",
    "- By natively converting the semantics of the iterator to native Spark SQL."
   ]
  },
  {
   "cell_type": "markdown",
   "id": "1990be54-6344-4ecf-a7c5-900f0040a551",
   "metadata": {},
   "source": [
    "### Materialization"
   ]
  },
  {
   "attachments": {},
   "cell_type": "markdown",
   "id": "2fae5551-3391-4daf-9d80-7aa826f9917c",
   "metadata": {},
   "source": [
    "When a sequence of items is materialized, it means that an actual List (or Array, or Vector), native to the language of implementation (in this case Java) is stored in local memory, filled with the items. This is, of course, only possible if the sequence is small enough that it fits.\n",
    "\n",
    "The parent runtime iterator then directly processes this List in place, in order to produce its output. \n",
    "\n",
    "A special case is when an expression is statically known to return either zero or one item (e.g., an addition, or a logical expression), but not more. Then no List structure is needed, and a single Item can be returned via a simple method call in the language of implementation (Java).\n",
    "\n",
    "<div style=\"text-align: center;\">\n",
    "    <img src=\"https://raw.githubusercontent.com/RumbleDB/bigdata-exercises/master/Big_Data/JSONiq-Jupyter/Textbook_images/290.png\" alt=\"image\" style=\"width: 60%; height: auto;\">\n",
    "</div> \n"
   ]
  },
  {
   "cell_type": "markdown",
   "id": "e61057e8-f493-4371-8dd6-af0d4a8d9f03",
   "metadata": {},
   "source": [
    "### Streaming "
   ]
  },
  {
   "cell_type": "markdown",
   "id": "dbf95c06-f9ea-4fef-93f7-039329932820",
   "metadata": {},
   "source": [
    "With larger sequences of items, it becomes impracticable to materialize because the footprint in memory becomes too large, and the size of the sequences that can be manipulated is strictly limited by the total memory available.\n",
    "\n",
    "Thus, another technique is used instead: streaming. When a sequence of items (or tuple stream) is produced and consumed in a streaming fashion, it means that the items (or tuples) are produced and consumed one by one, iteratively. But the whole sequence of items (or tuple stream) is never stored anywhere.\n",
    "\n",
    "The classical pattern for doing so is known as the Volcano iterator architecture. It consists in first calling a method called open() to initialize the iterator, then hasNext() to check if there exists a next item (or tuple), and if so, then next() to consume it; and then hasNext() and next() are called again and repeatedly as long as hasNext() does not return false. When it finally does, close() is called to clean up the iterator.\n",
    "\n",
    "With this technique, it is possible to process sequences that are much larger than memory, because the actual sequence is never fully stored. However, there are two problems with this: first, it can take a lot of time to go through the entire sequence (imagine doing so with billions or trillions of items). Second, there are expressions or clauses that are not compatible with streaming (consider, for example, the group by or order by clause, which cannot be implemented without materializing their full input)."
   ]
  },
  {
   "cell_type": "markdown",
   "id": "ace093c6-047d-434e-b262-0c6127451c81",
   "metadata": {},
   "source": [
    "### Parallel execution (with RDDs)"
   ]
  },
  {
   "attachments": {},
   "cell_type": "markdown",
   "id": "78b161ac-603c-4b81-901f-f6febcee1ec4",
   "metadata": {},
   "source": [
    "When a sequence becomes unreasonably large, RumbleDB switches to a parallel execution, leveraging Spark capabilities: the sequences of items are passed and processed as RDDs of Item objects. Each runtime iterator then calls Spark transformations on these RDDs to produce an output RDD, or in some cases (e.g., count()) calls a Spark action to produce a single, local, materialized Item with an action.\n",
    "\n",
    "<div style=\"text-align: center;\">\n",
    "    <img src=\"https://raw.githubusercontent.com/RumbleDB/bigdata-exercises/master/Big_Data/JSONiq-Jupyter/Textbook_images/291.png\" alt=\"image\" style=\"width: 60%; height: auto;\">\n",
    "</div> \n",
    "\n",
    "<br>\n",
    "\n",
    "A Spark transformation or action often needs to be supplied with an additional function (e.g., a map function, a filter function), called a Spark UDF (for “User-Defined Function”). What RumbleDB then does is that it squeezes an entire runtime iterator subtree into a UDF, so that this subtree can be recursively evaluated on each node of the cluster, as a local execution (materialized or streaming).\n",
    "\n",
    "For example, imagine a filter expression, with a specific predicate, on a sequence of a billion items. If the input sequence is physically available as an RDD, RumbleDB squeezes the predicate’s runtime iterator tree into a UDF, and invokes the filter() transformation with this UDF, resulting in a smaller RDD that contains the filtered sequence of items. Physically, the predicate’s runtime iterator tree will be evaluated on items, in parallel, across thousands of machines in the cluster; relative to each one of these machines, this is a local execution (local to each machine), where the predicate iterator streams over each batch\n",
    "\n",
    "<div style=\"text-align: center;\">\n",
    "    <img src=\"https://raw.githubusercontent.com/RumbleDB/bigdata-exercises/master/Big_Data/JSONiq-Jupyter/Textbook_images/292.png\" alt=\"image\" style=\"width: 50%; height: auto;\"> <br> <br> \n",
    "    <img src=\"https://raw.githubusercontent.com/RumbleDB/bigdata-exercises/master/Big_Data/JSONiq-Jupyter/Textbook_images/293.png\" style=\"width: 50%; height: auto;\">\n",
    "</div> \n",
    "\n",
    "<br> \n",
    "\n",
    "The use of RDDs is specific to sequences of items and does not exist for tuple streams."
   ]
  },
  {
   "cell_type": "markdown",
   "id": "2147aa38-f6bc-40b4-97e8-ae5c7669d3f5",
   "metadata": {},
   "source": [
    "### Parallel execution (with DataFrames)"
   ]
  },
  {
   "attachments": {},
   "cell_type": "markdown",
   "id": "b3b05f3f-e92a-48d7-8921-3e739a957eb7",
   "metadata": {},
   "source": [
    "The RDD implementation supports heterogeneous sequences by leveraging the polymorphism of Item objects. However, this is not efficient in the case that Items in the same sequence happen to have a regular structure.\n",
    "\n",
    "Thus, if the Items in a sequence are valid against a specific schema, or even against an array type or an atomic type, the underlying physical storage in memory relies on Spark DataFrames instead of RDDs. Homogeneous sequences of arrays or of atomics (e.g., a sequence of integers) are physical implemented as a one-column DataFrame with the corresponding type.\n",
    "\n",
    "Thus, there exists a mapping from JSONiq types to Spark SQL types. In the case that there is no corresponding Spark SQL type, the implementation falls back to RDDs.\n",
    "\n",
    "<div style=\"text-align: center;\">\n",
    "    <img src=\"https://raw.githubusercontent.com/RumbleDB/bigdata-exercises/master/Big_Data/JSONiq-Jupyter/Textbook_images/294.png\" alt=\"image\" style=\"width: 50%; height: auto;\"> \n",
    "</div> \n",
    "\n",
    "<br>\n",
    "\n",
    "To summarize, homogeneous sequences of the most common types are stored in DataFrames, and RDDs are used in all other cases.\n",
    "\n",
    "<div style=\"text-align: center;\">\n",
    "    <img src=\"https://raw.githubusercontent.com/RumbleDB/bigdata-exercises/master/Big_Data/JSONiq-Jupyter/Textbook_images/295.png\" alt=\"image\" style=\"width: 60%; height: auto;\"> \n",
    "</div> \n",
    "\n",
    "<br>\n",
    "\n",
    "DataFrames are also consistently used for storing tuple streams and parallelizing the execution of FLWOR clauses. In FLWOR DataFrames, every column corresponds to one FLWOR variable, which is similar to the visuals provided earlier for FLWOR expressions in this chapter. The column type can either be native if the variable type can be mapped seamlessly to a Spark SQL type. Otherwise, the column type will be binary and Items are serialized to sequences of types and deserialized back on demand."
   ]
  },
  {
   "cell_type": "markdown",
   "id": "74f531f9-bf88-4aa8-b342-b6891a227fa0",
   "metadata": {},
   "source": [
    "### Parallel execution (with Native SQL)"
   ]
  },
  {
   "attachments": {},
   "cell_type": "markdown",
   "id": "a58e497d-f341-47a9-af6a-2a71ac52395b",
   "metadata": {},
   "source": [
    "In some cases (more in every release), RumbleDB is able to evaluate the query using only Spark SQL, compiling JSONiq to SQL directly instead of packing Java runtime iterators in UDFs. This leads to faster execution, because UDFs are slower than a native execution in SQL. This is because, to a SQL optimizer, UDFs are opaque and prevent automatic optimizations.\n",
    "\n",
    "RumbleDB switches seamless between all execution modes, even within the same query, as shown on the following diagram.\n",
    "\n",
    "<div style=\"text-align: center;\">\n",
    "    <img src=\"https://raw.githubusercontent.com/RumbleDB/bigdata-exercises/master/Big_Data/JSONiq-Jupyter/Textbook_images/296.png\" alt=\"image\" style=\"width: 60%; height: auto;\"> \n",
    "</div> "
   ]
  },
  {
   "cell_type": "markdown",
   "id": "c8d2f056-b7ab-4058-93b1-fc4ec981bde2",
   "metadata": {},
   "source": [
    "# Learning objectives"
   ]
  },
  {
   "cell_type": "markdown",
   "id": "8cd6379d-ab09-46fa-8ea1-7eaefd53c2ff",
   "metadata": {},
   "source": [
    "The following is a checklist that students can use during their learning in order to self-assess their mastery of the material.\n",
    "\n",
    "1. Can you explain why a language such as JSONiq provides, in the context of denormalized data, a similar functionality as SQL in a relational database? Do you understand how it generalizes querying to nested, heterogeneous data models, and is thus more powerful than SQL?\n",
    "\n",
    "2. Can you name and describe the first-class citizen of the JSONiq Data Model: a sequences of item?\n",
    "\n",
    "3. Can you name various kinds of items in the JDM?\n",
    "\n",
    "4. Can you name a few query languages in the XML/JSON ecosystem?\n",
    "\n",
    "5. Do you understand how to navigate nested structures in JSONiq (object lookup, array lookup, array unboxing, filtering predicates)?\n",
    "\n",
    "6. Are you able, in JSONiq, to construct items (atomic items, elements, etc.)?\n",
    "\n",
    "7. Are you able, in JSONiq, to perform logical operations? Do you understand what the Effective Boolean Value of a sequence is, and how it fits in the context of logical operations?\n",
    "\n",
    "8. Are you able, in JSONiq, to perform arithmetic operations (addition, etc.)? Do you understand the constraints on the input sequences of such operations? Can you explain the behavior of these operations on empty sequences? Can you explain what happens if one of the two operands is a node and not an atomic item?\n",
    "\n",
    "9. Are you able, in JSONiq, to perform comparisons (lt, ge, etc.)? Do you understand the constraints on the input sequences of such operations? Can you explain the behavior of these operations on empty sequences? Can you explain what happens if one of the two operands is a node and not an atomic item?\n",
    "\n",
    "10. Do you understand how general comparisons (<, >=, etc.) work on sequences with more than one item, and implicitly use an existential quantifier)? Can you explain why, in the special case of single items on both sides, they are equivalent to value comparisons? \n",
    "\n",
    "11. Do you understand how FLWOR expressions work and describe what they return? (for clause, let clause, where clause, order by clause, etc.)\n",
    "\n",
    "12. Are you able to use further expressions (if-then-else, switch, ...)?\n",
    "\n",
    "13. Do you understand how to dynamically build JSON content with object and array constructors?\n",
    "\n",
    "14. Do you understand that expressions can be combined at will, as any expression takes and returns sequences of items? Do you know how to use parentheses to make precedence clear, like you did in primary school with addition and multiplication?\n",
    "\n",
    "15. Do you know the JSONiq type syntax (atomic types taken from XML Schema, syntax for XML node types, as well as cardinality symbols), and how to use type checking (instance of, cast as, etc.)?\n",
    "\n",
    "16. Given a collection of JSON objects (for example JSON Lines on HDFS), are you able to write JSONiq queries (FLWOR) that do projection? selection? grouping? ordering? joins? sorting?\n",
    "\n",
    "17. Do you understand how, given a SQL query, you can write something equivalent in JSONiq?\n",
    "\n",
    "18. Do you understand that this is not true the other way round (rewriting JSONiq as an equivalent SQL query)? Can you characterize examples of when this is not true or very difficult (hint: denormalized data)?"
   ]
  },
  {
   "cell_type": "markdown",
   "id": "f49e03bf-b134-4127-b595-bd32f6e31855",
   "metadata": {},
   "source": [
    "# Literature and recommended readings"
   ]
  },
  {
   "cell_type": "markdown",
   "id": "780d5d3d-c4b7-49c6-aab1-186a147a9e91",
   "metadata": {},
   "source": [
    "The following is a list of recommended material for further reading and study.\n",
    "\n",
    "- Müller, I, Fourny, G, Irimescu, S, Cikis, C, Alonso, G. (2021). Rumble: Data Independence for Large, Messy Data Sets. In: PVLDB 14(4). 10-minute presentation of RumbleDB (above paper) at VLDB 2021. [Watch on YouTube](https://www.youtube.com/watch?v=q3IxXnYZ8UM)\n",
    "\n",
    "- JSONiq language reference, and online sandbox. [Visit JSONiq.org](https://www.jsoniq.org/)\n",
    "\n",
    "- RumbleDB engine, free and open source. [Visit RumbleDB.org](https://www.rumbledb.org/)\n",
    "\n",
    "- Graur, D, Müller, I, Proffitt, M, Fourny, G, Watts, G, Alonso, G. Evaluating Query Languages and Systems for High-Energy Physics Data. Joint interdisciplinary work ETH Zurich - University of Washington.\n",
    "In: PVLDB 15(2)."
   ]
  }
 ],
 "metadata": {
  "kernelspec": {
   "display_name": "Python 3 (ipykernel)",
   "language": "python",
   "name": "python3"
  },
  "language_info": {
   "codemirror_mode": {
    "name": "ipython",
    "version": 3
   },
   "file_extension": ".py",
   "mimetype": "text/x-python",
   "name": "python",
   "nbconvert_exporter": "python",
   "pygments_lexer": "ipython3",
   "version": "3.11.9"
  }
 },
 "nbformat": 4,
 "nbformat_minor": 5
}
