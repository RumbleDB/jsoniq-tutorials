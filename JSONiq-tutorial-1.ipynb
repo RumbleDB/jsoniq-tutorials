{
 "cells": [
  {
   "cell_type": "markdown",
   "id": "80b4ef60",
   "metadata": {},
   "source": [
    "# Big Data HS 2025\n",
    "\n",
    "## JSONiq tutorial - week 1"
   ]
  },
  {
   "cell_type": "markdown",
   "id": "0d21726b",
   "metadata": {},
   "source": [
    "Every week, you will get a small tutorial notebook that introduces you to the JSONiq language with the RumbleDB engine. You can simply copy this notebook to the \"notebooks\" subfolder in your Exam MagicBox docker environment (the same environment that contains past exams, PostgreSQL, Spark, RumbleDB, etc).\n",
    "\n",
    "If you have not set up your Exam MagicBox docker environment yet, then you can do so as follows:\n",
    "\n",
    "- download it as a zip file from the course Moodle.\n",
    "- uncompress it on your laptop\n",
    "- go on the command line to the uncompressed folder\n",
    "- launch the command `docker-compose up`\n",
    "\n",
    "(for some people it seems to rather work without the dash: `docker compose up`)\n",
    "\n",
    "- open the Jupyter notebook interface by directing your favorite browser to http://localhost:8888/lab\n",
    "- copy this file (JSONiq-tutorial-1-ipynb) to the notebook subfolder (outside of the Jupyter interface, like you would copy any other files on your laptop)\n",
    "- in the Jupyter notebook interface, this file should become visible on the left. Select this file (JSONiq-tutorial-1-ipynb) to open it, and continue reading.\n",
    "\n",
    "If anything does not work, then what works in most situations is to \"switch it off and on again\", that is, you should delete all containers, images, and volumes, then run the docker-compose up command again. Deleting containers/images/volumes can be done on the docker User Interface, or on the command line, most likely:  \n",
    "    \n",
    "```\n",
    "docker stop $(docker ps -aq);docker rm $(docker ps -aq);docker rmi $(docker images -a -q);docker volume rm $(docker volume ls -q);docker-compose up\n",
    "```"
   ]
  },
  {
   "cell_type": "markdown",
   "id": "8c33831c",
   "metadata": {},
   "source": [
    "# A few words on JSONiq\n",
    "\n",
    "JSONiq is a query language, just like SQL.\n",
    "\n",
    "It is functional and declarative, just like SQL.\n",
    "\n",
    "But there is something more: while SQL was designed for querying tables (ideally, in normal form), JSONiq can be used with denormalized data, even if it is very messy. We will see in the course, in due time, that the data that JSONiq can query is a superset of the data that SQL can query."
   ]
  },
  {
   "cell_type": "markdown",
   "id": "f5d0c8a5",
   "metadata": {},
   "source": [
    "# A few words on RumbleDB\n",
    "\n",
    "RumbleDB is a querying engine that supports JSONiq queries.\n",
    "\n",
    "It is the result of several years of work by many ETH students, who contributed through their Master's thesis, Bachelor's thesis or semester project.\n",
    "\n",
    "RumbleDB can query very small datasets (even just a few kilobytes), but it can also query very large datasets (we tested it well into the dozens of Terabytes with no issues, and we are confident it also works with Petabytes of data).\n",
    "\n",
    "It works on your laptop just as well as on a large cluster in a data center (we tested it with up to 64 machines so far with no issues).\n",
    "\n",
    "Since the Summer of 2025, it is available packaged as a Python library that can be installed with \"pip install jsoniq\". If you are using the course's docker file, then you need not worry about this, because the docker comes with it preinstalled. If you felt adventurous and installed it the jsoniq package outside of our docker (the \"fun task\" suggested in the introduction lecture), then you can try and see if this notebook also works with your setup. If anything does not work, you can always fall back to our docker setup. \n"
   ]
  },
  {
   "cell_type": "markdown",
   "id": "7fa4dd13",
   "metadata": {},
   "source": [
    "# JSONiq as a calculator\n",
    "\n",
    "This week, we will start smoothly with simple functionality: that of a calculator. In fact, this is similar to Python in this respect.\n",
    "\n",
    "But first, some paperwork: just run the cell below to active the jsoniq magic (it is part of the jsoniq pip package)."
   ]
  },
  {
   "cell_type": "code",
   "execution_count": null,
   "id": "49147176",
   "metadata": {},
   "outputs": [],
   "source": [
    "%load_ext jsoniqmagic\n"
   ]
  },
  {
   "cell_type": "markdown",
   "id": "27a5a020",
   "metadata": {},
   "source": [
    "Done? Alright. Now, you can execute JSONiq query in Jupyter cells, as long as you include %%jsoniq on the first line. Try to run this!"
   ]
  },
  {
   "cell_type": "code",
   "execution_count": null,
   "id": "90e2f365",
   "metadata": {},
   "outputs": [],
   "source": [
    "%%jsoniq\n",
    "1+1"
   ]
  },
  {
   "cell_type": "markdown",
   "id": "b0f07c3a",
   "metadata": {},
   "source": [
    "JSONiq supports basic arithmetic: addition (+), subtraction (-), multiplication (*), division (div), modulo (mod)."
   ]
  },
  {
   "cell_type": "code",
   "execution_count": null,
   "id": "c8037b28",
   "metadata": {},
   "outputs": [],
   "source": [
    "%%jsoniq\n",
    "6-4"
   ]
  },
  {
   "cell_type": "code",
   "execution_count": null,
   "id": "e673f6f6",
   "metadata": {},
   "outputs": [],
   "source": [
    "%%jsoniq\n",
    "6*4"
   ]
  },
  {
   "cell_type": "code",
   "execution_count": null,
   "id": "171e69ac",
   "metadata": {},
   "outputs": [],
   "source": [
    "%%jsoniq\n",
    "6 div 4"
   ]
  },
  {
   "cell_type": "code",
   "execution_count": null,
   "id": "d75434ac",
   "metadata": {},
   "outputs": [],
   "source": [
    "%%jsoniq\n",
    "6 mod 4"
   ]
  },
  {
   "cell_type": "markdown",
   "id": "7f278312",
   "metadata": {},
   "source": [
    "There are of course precedence rules (known as PEMDAS in English-speaking countries: search for it!).\n",
    "\n",
    "Whenever you want to override the precedence, use parentheses. Whenever unsure about the precedence, use parentheses too. It is obvious that multiplication has precedence over addition, but when we introduce many more JSONiq expression, it will become tough for a human being to remember all the precendence rules. Better to have too many parentheses than too few."
   ]
  },
  {
   "cell_type": "code",
   "execution_count": null,
   "id": "45b65080",
   "metadata": {},
   "outputs": [],
   "source": [
    "%%jsoniq\n",
    "(4 + 6) * (6 mod 2 - 1) div 2"
   ]
  },
  {
   "cell_type": "markdown",
   "id": "c2c5fa22",
   "metadata": {},
   "source": [
    "## Logic\n",
    "Logical operations\n",
    "JSONiq supports Boolean logic.\n",
    "\n"
   ]
  },
  {
   "cell_type": "code",
   "execution_count": null,
   "id": "0580af96",
   "metadata": {},
   "outputs": [],
   "source": [
    "%%jsoniq\n",
    "true and false"
   ]
  },
  {
   "cell_type": "code",
   "execution_count": null,
   "id": "79c73f5a",
   "metadata": {},
   "outputs": [],
   "source": [
    "%%jsoniq\n",
    "(true or false) and (false or true)"
   ]
  },
  {
   "cell_type": "markdown",
   "id": "05f22856",
   "metadata": {},
   "source": [
    "The unary not is also available:"
   ]
  },
  {
   "cell_type": "code",
   "execution_count": null,
   "id": "8dd8206b",
   "metadata": {},
   "outputs": [],
   "source": [
    "%%jsoniq\n",
    "not true"
   ]
  },
  {
   "cell_type": "markdown",
   "id": "6f15cbe6",
   "metadata": {},
   "source": [
    "Note that JSONiq, unlike SQL, does two-valued logic. Nulls are automatically converted to false."
   ]
  },
  {
   "cell_type": "code",
   "execution_count": null,
   "id": "de5eaff7",
   "metadata": {},
   "outputs": [],
   "source": [
    "%%jsoniq\n",
    "null and true"
   ]
  },
  {
   "cell_type": "markdown",
   "id": "9df87ef6",
   "metadata": {},
   "source": [
    "Some non-Booleans can also get converted. For example, non-empty strings are converted to true and empty strings to false. Non-zero numbers are converted to true, and zero to false."
   ]
  },
  {
   "cell_type": "code",
   "execution_count": null,
   "id": "d20c0d55",
   "metadata": {},
   "outputs": [],
   "source": [
    "%%jsoniq\n",
    "not \"\""
   ]
  },
  {
   "cell_type": "code",
   "execution_count": null,
   "id": "366a92aa",
   "metadata": {},
   "outputs": [],
   "source": [
    "%%jsoniq\n",
    "not \"non empty\""
   ]
  },
  {
   "cell_type": "code",
   "execution_count": null,
   "id": "a7ebbfc3",
   "metadata": {},
   "outputs": [],
   "source": [
    "%%jsoniq\n",
    "not 0"
   ]
  },
  {
   "cell_type": "markdown",
   "id": "98b8d2f4",
   "metadata": {},
   "source": [
    "Zero is converted to false, non-zero numbers to true."
   ]
  },
  {
   "cell_type": "markdown",
   "id": "19df7966",
   "metadata": {},
   "source": [
    "# Comparison\n",
    "\n",
    "JSONiq supports comparisons, like SQL and all programming languages including Python."
   ]
  },
  {
   "cell_type": "code",
   "execution_count": null,
   "id": "83b5df10",
   "metadata": {},
   "outputs": [],
   "source": [
    "%%jsoniq\n",
    "2 = 1"
   ]
  },
  {
   "cell_type": "code",
   "execution_count": null,
   "id": "451bb8a8",
   "metadata": {},
   "outputs": [],
   "source": [
    "%%jsoniq\n",
    "2 != 1"
   ]
  },
  {
   "cell_type": "code",
   "execution_count": null,
   "id": "5808b60a",
   "metadata": {},
   "outputs": [],
   "source": [
    "%%jsoniq\n",
    "2 > 1"
   ]
  },
  {
   "cell_type": "code",
   "execution_count": null,
   "id": "473d29d3",
   "metadata": {},
   "outputs": [],
   "source": [
    "%%jsoniq\n",
    "2 < 1"
   ]
  },
  {
   "cell_type": "code",
   "execution_count": null,
   "id": "d7b02047",
   "metadata": {},
   "outputs": [],
   "source": [
    "%%jsoniq\n",
    "2 >= 1"
   ]
  },
  {
   "cell_type": "code",
   "execution_count": null,
   "id": "e87d9134",
   "metadata": {},
   "outputs": [],
   "source": [
    "%%jsoniq\n",
    "2 <= 1"
   ]
  },
  {
   "cell_type": "markdown",
   "id": "7096c2b3",
   "metadata": {},
   "source": [
    "You can use these, as well as logic, in if-then-else expressions!"
   ]
  },
  {
   "cell_type": "code",
   "execution_count": null,
   "id": "66fc82d7",
   "metadata": {},
   "outputs": [],
   "source": [
    "%%jsoniq\n",
    "if(2 = 1 + 1 and 3 > 2) then \"This is true!\" else \"This is false!\""
   ]
  },
  {
   "cell_type": "markdown",
   "id": "af8cdc4e",
   "metadata": {},
   "source": [
    "By the way, lines and indentation is irrelevant, unlike in Python, but it looks nice to a human if you spread such expressions over multiple lines."
   ]
  },
  {
   "cell_type": "code",
   "execution_count": null,
   "id": "1fbc6af1",
   "metadata": {},
   "outputs": [],
   "source": [
    "%%jsoniq\n",
    "if(2 = 1 + 1 and 3 > 2)\n",
    "then \"This is true!\"\n",
    "else \"This is false!\""
   ]
  },
  {
   "cell_type": "markdown",
   "id": "1cd650dd",
   "metadata": {},
   "source": [
    "# Try your own queries!\n",
    "\n",
    "This notebook is interactive. You can edit all queries above and also execute your own! We will show you more features every week."
   ]
  },
  {
   "cell_type": "code",
   "execution_count": null,
   "id": "fa53f4cf",
   "metadata": {},
   "outputs": [],
   "source": [
    "%%jsoniq\n",
    "1+1"
   ]
  },
  {
   "cell_type": "code",
   "execution_count": null,
   "id": "c781a830",
   "metadata": {},
   "outputs": [],
   "source": [
    "%%jsoniq\n",
    "1+1"
   ]
  },
  {
   "cell_type": "code",
   "execution_count": null,
   "id": "067e0db1",
   "metadata": {},
   "outputs": [],
   "source": [
    "%%jsoniq\n",
    "1+1"
   ]
  },
  {
   "cell_type": "code",
   "execution_count": null,
   "id": "1ddcd5e7",
   "metadata": {},
   "outputs": [],
   "source": [
    "%%jsoniq\n",
    "1+1"
   ]
  },
  {
   "cell_type": "code",
   "execution_count": null,
   "id": "e5b0ab65",
   "metadata": {},
   "outputs": [],
   "source": [
    "%%jsoniq\n",
    "1+1"
   ]
  },
  {
   "cell_type": "code",
   "execution_count": null,
   "id": "987f06d0",
   "metadata": {},
   "outputs": [],
   "source": [
    "%%jsoniq\n",
    "1+1"
   ]
  },
  {
   "cell_type": "code",
   "execution_count": null,
   "id": "7831547c",
   "metadata": {},
   "outputs": [],
   "source": []
  },
  {
   "cell_type": "code",
   "execution_count": null,
   "id": "ac36ecd5",
   "metadata": {},
   "outputs": [],
   "source": []
  },
  {
   "cell_type": "code",
   "execution_count": null,
   "id": "bdb50a93",
   "metadata": {},
   "outputs": [],
   "source": []
  },
  {
   "cell_type": "code",
   "execution_count": null,
   "id": "3bc61eaf-066e-4315-960a-0db0eb188843",
   "metadata": {},
   "outputs": [],
   "source": []
  }
 ],
 "metadata": {
  "kernelspec": {
   "display_name": "Python 3 (ipykernel)",
   "language": "python",
   "name": "python3"
  },
  "language_info": {
   "codemirror_mode": {
    "name": "ipython",
    "version": 3
   },
   "file_extension": ".py",
   "mimetype": "text/x-python",
   "name": "python",
   "nbconvert_exporter": "python",
   "pygments_lexer": "ipython3",
   "version": "3.11.9"
  }
 },
 "nbformat": 4,
 "nbformat_minor": 5
}
